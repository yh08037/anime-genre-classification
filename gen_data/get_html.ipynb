{
 "metadata": {
  "language_info": {
   "codemirror_mode": {
    "name": "ipython",
    "version": 3
   },
   "file_extension": ".py",
   "mimetype": "text/x-python",
   "name": "python",
   "nbconvert_exporter": "python",
   "pygments_lexer": "ipython3",
   "version": "3.9.5"
  },
  "orig_nbformat": 2,
  "kernelspec": {
   "name": "python395jvsc74a57bd04ea3ed2e54355ce89e91b93232dfdad50498b45cbf76d90a32e5b94d03490e3d",
   "display_name": "Python 3.9.5 64-bit ('scrap': conda)"
  },
  "metadata": {
   "interpreter": {
    "hash": "4ea3ed2e54355ce89e91b93232dfdad50498b45cbf76d90a32e5b94d03490e3d"
   }
  }
 },
 "nbformat": 4,
 "nbformat_minor": 2,
 "cells": [
  {
   "source": [
    "# Download and Unzip HTMLs"
   ],
   "cell_type": "markdown",
   "metadata": {}
  },
  {
   "source": [
    "## Download HTML Zip File"
   ],
   "cell_type": "markdown",
   "metadata": {}
  },
  {
   "cell_type": "code",
   "execution_count": 1,
   "metadata": {},
   "outputs": [
    {
     "output_type": "stream",
     "name": "stdout",
     "text": [
      "  % Total    % Received % Xferd  Average Speed   Time    Time     Time  Current\n",
      "                                 Dload  Upload   Total   Spent    Left  Speed\n",
      "100   408    0   408    0     0    966      0 --:--:-- --:--:-- --:--:--   964\n",
      "  0     0    0     0    0     0      0      0 --:--:-- --:--:-- --:--:--     0\n",
      "  0     0    0     0    0     0      0      0 --:--:--  0:00:01 --:--:--     0\n",
      "100 1855M    0 1855M    0     0  10.7M      0 --:--:--  0:02:52 --:--:-- 10.7M\n"
     ]
    }
   ],
   "source": [
    "!curl -sc /tmp/cookie \"https://drive.google.com/uc?export=download&id=1laYyz5WVuaxDhhpLmIvCCFsYRAXvaEoF\" > /dev/null\n",
    "!curl -Lb /tmp/cookie \"https://drive.google.com/uc?export=download&confirm=$(awk '/_warning_/ {print $NF}' /tmp/cookie)&id=1laYyz5WVuaxDhhpLmIvCCFsYRAXvaEoF\" -o html_zip.zip"
   ]
  },
  {
   "source": [
    "## Unzip Downloaded File"
   ],
   "cell_type": "markdown",
   "metadata": {}
  },
  {
   "cell_type": "code",
   "execution_count": 2,
   "metadata": {},
   "outputs": [],
   "source": [
    "!unzip -q ./html_zip.zip -d ./html_zip\n",
    "!rm ./html_zip.zip"
   ]
  },
  {
   "source": [
    "## Extract HTMLs from each Zip files"
   ],
   "cell_type": "markdown",
   "metadata": {}
  },
  {
   "cell_type": "code",
   "execution_count": 3,
   "metadata": {},
   "outputs": [],
   "source": [
    "import os\n",
    "import zipfile\n",
    "from zipfile import ZipFile"
   ]
  },
  {
   "cell_type": "code",
   "execution_count": 4,
   "metadata": {},
   "outputs": [],
   "source": [
    "ROOT_PATH = os.getcwd()\n",
    "\n",
    "SOURCE_PATH = ROOT_PATH + '/html_zip'\n",
    "TARGET_PATH = ROOT_PATH + '/html'"
   ]
  },
  {
   "cell_type": "code",
   "execution_count": 5,
   "metadata": {
    "tags": []
   },
   "outputs": [],
   "source": [
    "for item in os.listdir(SOURCE_PATH):\n",
    "    if not item.endswith('.zip'):\n",
    "        continue\n",
    "\n",
    "    source_file = SOURCE_PATH + '/' + item\n",
    "    target_file = TARGET_PATH + '/' + item[:-4] + '.html'\n",
    "    \n",
    "    with ZipFile(source_file) as zipObj:\n",
    "        zipObj.extract('details.html', TARGET_PATH)\n",
    "    \n",
    "    os.rename(TARGET_PATH+'/details.html', target_file)"
   ]
  },
  {
   "cell_type": "code",
   "execution_count": 6,
   "metadata": {},
   "outputs": [],
   "source": [
    "!rm -rf ./html_zip"
   ]
  }
 ]
}