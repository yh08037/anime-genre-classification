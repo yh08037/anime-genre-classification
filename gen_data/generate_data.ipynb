{
 "metadata": {
  "language_info": {
   "codemirror_mode": {
    "name": "ipython",
    "version": 3
   },
   "file_extension": ".py",
   "mimetype": "text/x-python",
   "name": "python",
   "nbconvert_exporter": "python",
   "pygments_lexer": "ipython3",
   "version": "3.9.5"
  },
  "orig_nbformat": 2,
  "kernelspec": {
   "name": "python395jvsc74a57bd04ea3ed2e54355ce89e91b93232dfdad50498b45cbf76d90a32e5b94d03490e3d",
   "display_name": "Python 3.9.5 64-bit ('scrap': conda)"
  },
  "metadata": {
   "interpreter": {
    "hash": "4ea3ed2e54355ce89e91b93232dfdad50498b45cbf76d90a32e5b94d03490e3d"
   }
  }
 },
 "nbformat": 4,
 "nbformat_minor": 2,
 "cells": [
  {
   "source": [
    "# Gernerate Anime Data from HTMLs"
   ],
   "cell_type": "markdown",
   "metadata": {}
  },
  {
   "cell_type": "code",
   "execution_count": 1,
   "metadata": {},
   "outputs": [],
   "source": [
    "import os\n",
    "from bs4 import BeautifulSoup\n",
    "import pandas as pd\n",
    "from tqdm import tqdm"
   ]
  },
  {
   "source": [
    "## Get MAL ID List from Directory"
   ],
   "cell_type": "markdown",
   "metadata": {}
  },
  {
   "cell_type": "code",
   "execution_count": 2,
   "metadata": {},
   "outputs": [],
   "source": [
    "ROOT_PATH = os.getcwd()\n",
    "HTML_PATH = ROOT_PATH + '/html'"
   ]
  },
  {
   "cell_type": "code",
   "execution_count": 3,
   "metadata": {
    "tags": []
   },
   "outputs": [],
   "source": [
    "mal_id_list = []\n",
    "\n",
    "for item in os.listdir(HTML_PATH):\n",
    "    if item.endswith('.html'):\n",
    "        mal_id = int(item[:-5])\n",
    "        mal_id_list.append(mal_id) \n",
    "\n",
    "mal_id_list.sort()"
   ]
  },
  {
   "source": [
    "## Define HTML Parsing Function"
   ],
   "cell_type": "markdown",
   "metadata": {}
  },
  {
   "cell_type": "code",
   "execution_count": 4,
   "metadata": {},
   "outputs": [],
   "source": [
    "def get_html(mal_id):\n",
    "    file_name = HTML_PATH + f'/{mal_id}.html'\n",
    "    f = open(file_name, 'r')\n",
    "    html = f.read()\n",
    "    return html "
   ]
  },
  {
   "cell_type": "code",
   "execution_count": 5,
   "metadata": {},
   "outputs": [],
   "source": [
    "def remove_tail(s):\n",
    "    if len(s) == 0:\n",
    "        return s\n",
    "\n",
    "    elif s[-1] == ')':\n",
    "        idx = -1\n",
    "        while s[idx] != '(':\n",
    "            idx -= 1\n",
    "            if idx == -len(s):\n",
    "                return s[:s.find('Source:')].strip()\n",
    "        return s[:idx].strip()\n",
    "\n",
    "    elif s[-1] == ']':\n",
    "        idx = -1\n",
    "        while s[idx] != '[':\n",
    "            idx -= 1\n",
    "        return s[:idx].strip()\n",
    "\n",
    "    return s"
   ]
  },
  {
   "cell_type": "code",
   "execution_count": 6,
   "metadata": {},
   "outputs": [],
   "source": [
    "def get_info(mal_id):\n",
    "    data = get_html(mal_id)\n",
    "    soup = BeautifulSoup(data, \"html.parser\")\n",
    "\n",
    "    # get name\n",
    "    div_name = soup.find(\"div\", {\"itemprop\": \"name\"})\n",
    "    name = div_name.find(\"strong\").text.strip()\n",
    "\n",
    "    # get type\n",
    "    type_name = soup.find(\"span\", {\"class\": \"information type\"})\n",
    "    try:\n",
    "        type_ = type_name.find(\"a\").text.strip()\n",
    "    except:\n",
    "        type_ = 'Unknown'\n",
    "\n",
    "    # get genre string\n",
    "    rows = soup.find_all(\"span\", {\"itemprop\": \"genre\"})\n",
    "    genre = \"\"\n",
    "    for i, row in enumerate(rows):\n",
    "        genre += row.text.strip()\n",
    "        if i != len(rows)-1:\n",
    "            genre += \", \"\n",
    "\n",
    "    # get synopsis string\n",
    "    synopsis = soup.find(\"p\", {\"itemprop\": \"description\"}).text.strip()\n",
    "    synopsis = \" \".join(synopsis.split())\n",
    "    synopsis = remove_tail(synopsis)\n",
    "\n",
    "    return [name, type_, genre, synopsis]"
   ]
  },
  {
   "source": [
    "## Get Informations from HTMLs"
   ],
   "cell_type": "markdown",
   "metadata": {}
  },
  {
   "cell_type": "code",
   "execution_count": 7,
   "metadata": {
    "tags": []
   },
   "outputs": [
    {
     "output_type": "stream",
     "name": "stderr",
     "text": [
      "100%|██████████| 17562/17562 [14:42<00:00, 19.90it/s]\n"
     ]
    }
   ],
   "source": [
    "full_info = []\n",
    "\n",
    "for mal_id in tqdm(mal_id_list):\n",
    "    res = get_info(mal_id)\n",
    "\n",
    "    res = [mal_id] + res\n",
    "    full_info.append(res)"
   ]
  },
  {
   "cell_type": "code",
   "execution_count": 8,
   "metadata": {},
   "outputs": [],
   "source": [
    "info_df = pd.DataFrame(data    = full_info,\n",
    "                       columns = ['MAL_ID', 'Name', 'Type', 'Genre', 'Synopsis'])"
   ]
  },
  {
   "cell_type": "code",
   "execution_count": 9,
   "metadata": {},
   "outputs": [
    {
     "output_type": "execute_result",
     "data": {
      "text/plain": [
       "       MAL_ID                             Name   Type  \\\n",
       "0           1                     Cowboy Bebop     TV   \n",
       "1           5  Cowboy Bebop: Tengoku no Tobira  Movie   \n",
       "2           6                           Trigun     TV   \n",
       "3           7               Witch Hunter Robin     TV   \n",
       "4           8                   Bouken Ou Beet     TV   \n",
       "...       ...                              ...    ...   \n",
       "17557   48481  Daomu Biji Zhi Qinling Shen Shu    ONA   \n",
       "17558   48483                     Mieruko-chan     TV   \n",
       "17559   48488  Higurashi no Naku Koro ni Sotsu     TV   \n",
       "17560   48491      Yama no Susume: Next Summit     TV   \n",
       "17561   48492                    Scarlet Nexus     TV   \n",
       "\n",
       "                                                   Genre  \\\n",
       "0        Action, Adventure, Comedy, Drama, Sci-Fi, Space   \n",
       "1                  Action, Drama, Mystery, Sci-Fi, Space   \n",
       "2      Action, Sci-Fi, Adventure, Comedy, Drama, Shounen   \n",
       "3      Action, Mystery, Police, Supernatural, Drama, ...   \n",
       "4              Adventure, Fantasy, Shounen, Supernatural   \n",
       "...                                                  ...   \n",
       "17557                   Adventure, Mystery, Supernatural   \n",
       "17558                       Comedy, Horror, Supernatural   \n",
       "17559  Mystery, Dementia, Horror, Psychological, Supe...   \n",
       "17560                   Adventure, Slice of Life, Comedy   \n",
       "17561                                    Action, Fantasy   \n",
       "\n",
       "                                                Synopsis  \n",
       "0      In the year 2071, humanity has colonized sever...  \n",
       "1      Another day, another bounty—such is the life o...  \n",
       "2      Vash the Stampede is the man with a $$60,000,0...  \n",
       "3      Witches are individuals with special powers li...  \n",
       "4      It is the dark century and the people are suff...  \n",
       "...                                                  ...  \n",
       "17557  No synopsis information has been added to this...  \n",
       "17558  Miko is a typical high school student whose li...  \n",
       "17559          Sequel to Higurashi no Naku Koro ni Gou .  \n",
       "17560                          New Yama no Susume anime.  \n",
       "17561  Solar calendar year 2020: grotesque organisms ...  \n",
       "\n",
       "[17562 rows x 5 columns]"
      ],
      "text/html": "<div>\n<style scoped>\n    .dataframe tbody tr th:only-of-type {\n        vertical-align: middle;\n    }\n\n    .dataframe tbody tr th {\n        vertical-align: top;\n    }\n\n    .dataframe thead th {\n        text-align: right;\n    }\n</style>\n<table border=\"1\" class=\"dataframe\">\n  <thead>\n    <tr style=\"text-align: right;\">\n      <th></th>\n      <th>MAL_ID</th>\n      <th>Name</th>\n      <th>Type</th>\n      <th>Genre</th>\n      <th>Synopsis</th>\n    </tr>\n  </thead>\n  <tbody>\n    <tr>\n      <th>0</th>\n      <td>1</td>\n      <td>Cowboy Bebop</td>\n      <td>TV</td>\n      <td>Action, Adventure, Comedy, Drama, Sci-Fi, Space</td>\n      <td>In the year 2071, humanity has colonized sever...</td>\n    </tr>\n    <tr>\n      <th>1</th>\n      <td>5</td>\n      <td>Cowboy Bebop: Tengoku no Tobira</td>\n      <td>Movie</td>\n      <td>Action, Drama, Mystery, Sci-Fi, Space</td>\n      <td>Another day, another bounty—such is the life o...</td>\n    </tr>\n    <tr>\n      <th>2</th>\n      <td>6</td>\n      <td>Trigun</td>\n      <td>TV</td>\n      <td>Action, Sci-Fi, Adventure, Comedy, Drama, Shounen</td>\n      <td>Vash the Stampede is the man with a $$60,000,0...</td>\n    </tr>\n    <tr>\n      <th>3</th>\n      <td>7</td>\n      <td>Witch Hunter Robin</td>\n      <td>TV</td>\n      <td>Action, Mystery, Police, Supernatural, Drama, ...</td>\n      <td>Witches are individuals with special powers li...</td>\n    </tr>\n    <tr>\n      <th>4</th>\n      <td>8</td>\n      <td>Bouken Ou Beet</td>\n      <td>TV</td>\n      <td>Adventure, Fantasy, Shounen, Supernatural</td>\n      <td>It is the dark century and the people are suff...</td>\n    </tr>\n    <tr>\n      <th>...</th>\n      <td>...</td>\n      <td>...</td>\n      <td>...</td>\n      <td>...</td>\n      <td>...</td>\n    </tr>\n    <tr>\n      <th>17557</th>\n      <td>48481</td>\n      <td>Daomu Biji Zhi Qinling Shen Shu</td>\n      <td>ONA</td>\n      <td>Adventure, Mystery, Supernatural</td>\n      <td>No synopsis information has been added to this...</td>\n    </tr>\n    <tr>\n      <th>17558</th>\n      <td>48483</td>\n      <td>Mieruko-chan</td>\n      <td>TV</td>\n      <td>Comedy, Horror, Supernatural</td>\n      <td>Miko is a typical high school student whose li...</td>\n    </tr>\n    <tr>\n      <th>17559</th>\n      <td>48488</td>\n      <td>Higurashi no Naku Koro ni Sotsu</td>\n      <td>TV</td>\n      <td>Mystery, Dementia, Horror, Psychological, Supe...</td>\n      <td>Sequel to Higurashi no Naku Koro ni Gou .</td>\n    </tr>\n    <tr>\n      <th>17560</th>\n      <td>48491</td>\n      <td>Yama no Susume: Next Summit</td>\n      <td>TV</td>\n      <td>Adventure, Slice of Life, Comedy</td>\n      <td>New Yama no Susume anime.</td>\n    </tr>\n    <tr>\n      <th>17561</th>\n      <td>48492</td>\n      <td>Scarlet Nexus</td>\n      <td>TV</td>\n      <td>Action, Fantasy</td>\n      <td>Solar calendar year 2020: grotesque organisms ...</td>\n    </tr>\n  </tbody>\n</table>\n<p>17562 rows × 5 columns</p>\n</div>"
     },
     "metadata": {},
     "execution_count": 9
    }
   ],
   "source": [
    "info_df"
   ]
  },
  {
   "cell_type": "code",
   "execution_count": 10,
   "metadata": {},
   "outputs": [],
   "source": [
    "info_df.to_csv('anime.csv', index=False)"
   ]
  },
  {
   "cell_type": "code",
   "execution_count": 11,
   "metadata": {},
   "outputs": [],
   "source": [
    "!rm -rf ./html"
   ]
  }
 ]
}