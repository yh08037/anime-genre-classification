{
 "metadata": {
  "language_info": {
   "codemirror_mode": {
    "name": "ipython",
    "version": 3
   },
   "file_extension": ".py",
   "mimetype": "text/x-python",
   "name": "python",
   "nbconvert_exporter": "python",
   "pygments_lexer": "ipython3",
   "version": "3.9.5"
  },
  "orig_nbformat": 4,
  "kernelspec": {
   "name": "python3",
   "display_name": "Python 3.9.5 64-bit ('scrap': conda)"
  },
  "interpreter": {
   "hash": "4ea3ed2e54355ce89e91b93232dfdad50498b45cbf76d90a32e5b94d03490e3d"
  }
 },
 "nbformat": 4,
 "nbformat_minor": 2,
 "cells": [
  {
   "cell_type": "code",
   "execution_count": 2,
   "metadata": {},
   "outputs": [],
   "source": [
    "import numpy as np\n",
    "import pandas as pd\n",
    "import matplotlib.pyplot as plt\n",
    "\n",
    "import os, sys\n",
    "sys.path.append(os.pardir)\n",
    "\n",
    "from model.anime_classification import *"
   ]
  },
  {
   "cell_type": "code",
   "execution_count": 6,
   "metadata": {},
   "outputs": [],
   "source": [
    "class AutoEncoder(BaseModel):\n",
    "    def __init__(self, data_size, latent_size):\n",
    "        self.name = 'AutoEncoder()'\n",
    "\n",
    "        # create layers\n",
    "        self.encoder = [\n",
    "            Affine(data_size, latent_size, 'xavier')\n",
    "        ]\n",
    "\n",
    "        self.decoder = [\n",
    "            Affine(latent_size, data_size, 'xavier')\n",
    "        ]\n",
    "\n",
    "        self.layers = self.encoder + self.decoder\n",
    "\n",
    "        self.loss_layer = \n",
    "\n",
    "\n",
    "        # collect params and grads\n",
    "\n",
    "\n",
    "    def forward(self, xs, ts):\n",
    "        pass\n",
    "\n",
    "    def backward(self, dout=1):\n",
    "        pass"
   ]
  },
  {
   "cell_type": "code",
   "execution_count": 7,
   "metadata": {},
   "outputs": [],
   "source": []
  },
  {
   "cell_type": "code",
   "execution_count": null,
   "metadata": {},
   "outputs": [],
   "source": []
  }
 ]
}