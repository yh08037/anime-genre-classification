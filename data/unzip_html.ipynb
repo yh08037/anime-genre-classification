{
 "metadata": {
  "language_info": {
   "codemirror_mode": {
    "name": "ipython",
    "version": 3
   },
   "file_extension": ".py",
   "mimetype": "text/x-python",
   "name": "python",
   "nbconvert_exporter": "python",
   "pygments_lexer": "ipython3",
   "version": "3.6.9"
  },
  "orig_nbformat": 2,
  "kernelspec": {
   "name": "python369jvsc74a57bd031f2aee4e71d21fbe5cf8b01ff0e069b9275f58929596ceb00d14d90e3e16cd6",
   "display_name": "Python 3.6.9 64-bit"
  },
  "metadata": {
   "interpreter": {
    "hash": "31f2aee4e71d21fbe5cf8b01ff0e069b9275f58929596ceb00d14d90e3e16cd6"
   }
  }
 },
 "nbformat": 4,
 "nbformat_minor": 2,
 "cells": [
  {
   "cell_type": "code",
   "execution_count": 1,
   "metadata": {},
   "outputs": [],
   "source": [
    "import os\n",
    "import zipfile\n",
    "from zipfile import ZipFile"
   ]
  },
  {
   "cell_type": "code",
   "execution_count": 2,
   "metadata": {},
   "outputs": [],
   "source": [
    "ROOT_PATH = os.getcwd()\n",
    "\n",
    "SOURCE_PATH = ROOT_PATH + '/html_zip'\n",
    "TARGET_PATH = ROOT_PATH + '/html'"
   ]
  },
  {
   "cell_type": "code",
   "execution_count": 3,
   "metadata": {
    "tags": []
   },
   "outputs": [],
   "source": [
    "for item in os.listdir(SOURCE_PATH):\n",
    "    if not item.endswith('.zip'):\n",
    "        continue\n",
    "\n",
    "    source_file = SOURCE_PATH + '/' + item\n",
    "    target_file = TARGET_PATH + '/' + item[:-4] + '.html'\n",
    "    \n",
    "    with ZipFile(source_file) as zipObj:\n",
    "        zipObj.extract('details.html', TARGET_PATH)\n",
    "    \n",
    "    os.rename(TARGET_PATH+'/details.html', target_file)"
   ]
  }
 ]
}