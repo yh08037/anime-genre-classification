{
 "metadata": {
  "language_info": {
   "codemirror_mode": {
    "name": "ipython",
    "version": 3
   },
   "file_extension": ".py",
   "mimetype": "text/x-python",
   "name": "python",
   "nbconvert_exporter": "python",
   "pygments_lexer": "ipython3",
   "version": "3.9.5"
  },
  "orig_nbformat": 4,
  "kernelspec": {
   "name": "python3",
   "display_name": "Python 3.9.5 64-bit ('scrap': conda)"
  },
  "interpreter": {
   "hash": "4ea3ed2e54355ce89e91b93232dfdad50498b45cbf76d90a32e5b94d03490e3d"
  },
  "metadata": {
   "interpreter": {
    "hash": "e521b636c6a5a9046f5b2f587de9f0714520fcc32e4dd888509bb5fbc50b938b"
   }
  }
 },
 "nbformat": 4,
 "nbformat_minor": 2,
 "cells": [
  {
   "source": [
    "# Synopsis-to-Vector"
   ],
   "cell_type": "markdown",
   "metadata": {}
  },
  {
   "cell_type": "code",
   "execution_count": 1,
   "metadata": {},
   "outputs": [],
   "source": [
    "import numpy as np\n",
    "import pandas as pd\n",
    "import pickle\n",
    "import math"
   ]
  },
  {
   "source": [
    "## Load Pre-trained CBOW Parameters"
   ],
   "cell_type": "markdown",
   "metadata": {}
  },
  {
   "cell_type": "code",
   "execution_count": 2,
   "metadata": {},
   "outputs": [],
   "source": [
    "pkl_file = 'cbow_params.pkl'\n",
    "\n",
    "with open(pkl_file, 'rb') as f:\n",
    "    params = pickle.load(f)\n",
    "    word_vecs = params['word_vecs']\n",
    "    word_to_id = params['word_to_id']\n",
    "    id_to_word = params['id_to_word']"
   ]
  },
  {
   "source": [
    "## Get TF-IDF from synopsis.csv"
   ],
   "cell_type": "markdown",
   "metadata": {}
  },
  {
   "source": [
    "### Load Cleaned Synopsis Data"
   ],
   "cell_type": "markdown",
   "metadata": {}
  },
  {
   "cell_type": "code",
   "execution_count": 3,
   "metadata": {},
   "outputs": [
    {
     "output_type": "execute_result",
     "data": {
      "text/plain": [
       "   MAL_ID                                           Synopsis\n",
       "0       1  solar leaving surface planet earth solar polic...\n",
       "1       5  day life crew routine interrupted chasing targ...\n",
       "2       6  head reason waste oppose entire cities fun tit...\n",
       "3       7  individuals powers mind control robin craft us...\n",
       "4       8  dark century people suffering rule manipulate ..."
      ],
      "text/html": "<div>\n<style scoped>\n    .dataframe tbody tr th:only-of-type {\n        vertical-align: middle;\n    }\n\n    .dataframe tbody tr th {\n        vertical-align: top;\n    }\n\n    .dataframe thead th {\n        text-align: right;\n    }\n</style>\n<table border=\"1\" class=\"dataframe\">\n  <thead>\n    <tr style=\"text-align: right;\">\n      <th></th>\n      <th>MAL_ID</th>\n      <th>Synopsis</th>\n    </tr>\n  </thead>\n  <tbody>\n    <tr>\n      <th>0</th>\n      <td>1</td>\n      <td>solar leaving surface planet earth solar polic...</td>\n    </tr>\n    <tr>\n      <th>1</th>\n      <td>5</td>\n      <td>day life crew routine interrupted chasing targ...</td>\n    </tr>\n    <tr>\n      <th>2</th>\n      <td>6</td>\n      <td>head reason waste oppose entire cities fun tit...</td>\n    </tr>\n    <tr>\n      <th>3</th>\n      <td>7</td>\n      <td>individuals powers mind control robin craft us...</td>\n    </tr>\n    <tr>\n      <th>4</th>\n      <td>8</td>\n      <td>dark century people suffering rule manipulate ...</td>\n    </tr>\n  </tbody>\n</table>\n</div>"
     },
     "metadata": {},
     "execution_count": 3
    }
   ],
   "source": [
    "synopsis = pd.read_csv('../clean_data/synopsis.csv')\n",
    "synopsis.head()"
   ]
  },
  {
   "source": [
    "### Get Word Set from Synopsis Data"
   ],
   "cell_type": "markdown",
   "metadata": {}
  },
  {
   "cell_type": "code",
   "execution_count": 4,
   "metadata": {},
   "outputs": [],
   "source": [
    "syns = synopsis.Synopsis.str.findall('\\w+')\n",
    "\n",
    "vocab = set()\n",
    "for syn in syns:\n",
    "    vocab.update(syn)\n",
    "\n",
    "vocab = sorted(list(vocab))\n",
    "vocab_size = len(vocab)"
   ]
  },
  {
   "source": [
    "### Get TF(Term Frequency)"
   ],
   "cell_type": "markdown",
   "metadata": {}
  },
  {
   "cell_type": "code",
   "execution_count": 5,
   "metadata": {},
   "outputs": [
    {
     "output_type": "execute_result",
     "data": {
      "text/plain": [
       "(6000, 5918)"
      ]
     },
     "metadata": {},
     "execution_count": 5
    }
   ],
   "source": [
    "def get_tf(word, syn):\n",
    "    # Term Frequency\n",
    "    return syn.count(word)\n",
    "\n",
    "    \n",
    "tf = []\n",
    "for syn in syns:\n",
    "    tf_syn = []\n",
    "    for word in vocab:\n",
    "        tf_syn.append(get_tf(word, syn))\n",
    "    tf.append(tf_syn)\n",
    "\n",
    "tf = np.asarray(tf)\n",
    "tf.shape"
   ]
  },
  {
   "source": [
    "### Get IDF(Inverse Document Frequency)"
   ],
   "cell_type": "markdown",
   "metadata": {}
  },
  {
   "cell_type": "code",
   "execution_count": 6,
   "metadata": {},
   "outputs": [
    {
     "output_type": "execute_result",
     "data": {
      "text/plain": [
       "(5918,)"
      ]
     },
     "metadata": {},
     "execution_count": 6
    }
   ],
   "source": [
    "def get_idf(term):\n",
    "    # Inverse Document Frequency\n",
    "    _df = 0\n",
    "    for syn in syns:\n",
    "        _df += int(word in syn)\n",
    "    return math.log(vocab_size/(_df))\n",
    "\n",
    "\n",
    "idf = []\n",
    "for word in vocab:\n",
    "    idf.append(get_idf(word))\n",
    "\n",
    "idf = np.asarray(idf)\n",
    "idf.shape"
   ]
  },
  {
   "source": [
    "### Get TF-IDF Table"
   ],
   "cell_type": "markdown",
   "metadata": {}
  },
  {
   "cell_type": "code",
   "execution_count": 7,
   "metadata": {},
   "outputs": [],
   "source": [
    "tf_idf = pd.DataFrame(tf * idf, columns=vocab)"
   ]
  },
  {
   "source": [
    "## Generate Sentence Vector of Synopsis"
   ],
   "cell_type": "markdown",
   "metadata": {}
  },
  {
   "cell_type": "code",
   "execution_count": 8,
   "metadata": {},
   "outputs": [],
   "source": [
    "def get_word_vec(word):\n",
    "    return word_vecs[word_to_id[word]]\n",
    "\n",
    "def get_tf_idf(word, i):\n",
    "    return tf_idf.loc[i, word]\n",
    "\n",
    "def get_sent_vec(i):\n",
    "    sent_vec = np.zeros(100, dtype=np.float16)\n",
    "\n",
    "    for word in set(syns[i]):\n",
    "        sent_vec += get_word_vec(word) * get_tf_idf(word, i)\n",
    "        # sent_vec += get_word_vec(word)\n",
    "    \n",
    "    return sent_vec / len(set(syns[i]))"
   ]
  },
  {
   "cell_type": "code",
   "execution_count": 9,
   "metadata": {},
   "outputs": [
    {
     "output_type": "execute_result",
     "data": {
      "text/plain": [
       "            0         1         2         3         4         5         6   \\\n",
       "0    -0.114929 -3.919922  0.509766  1.326172  2.685547  1.790039 -1.767578   \n",
       "1     2.312500 -2.363281 -0.013573  2.707031  1.198242  3.175781 -1.357422   \n",
       "2    -0.225952 -2.599609 -0.183838  2.042969  1.673828  1.954102 -1.365234   \n",
       "3     0.844238 -0.527832  0.271484  0.753418  1.575195  2.496094 -1.651367   \n",
       "4     1.521484 -2.652344  0.422852  1.815430  2.029297  1.694336  0.608887   \n",
       "...        ...       ...       ...       ...       ...       ...       ...   \n",
       "5995  0.906250 -1.422852  1.900391  2.384766  1.668945  0.900879 -1.925781   \n",
       "5996  2.138672 -1.449219  0.351318  2.123047  0.429932 -0.171387 -0.983398   \n",
       "5997  1.149414 -2.382812  0.937988  0.430908  1.120117  2.529297 -1.702148   \n",
       "5998  0.944824 -1.448242 -0.097656  0.824707  1.159180  1.099609 -0.375000   \n",
       "5999  0.497070 -2.673828  1.884766  2.306641  1.570312  1.056641 -1.541992   \n",
       "\n",
       "            7         8         9   ...        90        91        92  \\\n",
       "0    -1.253906 -1.898438  1.072266  ...  0.861816 -0.739746 -1.121094   \n",
       "1    -2.603516 -1.961914 -0.565918  ...  0.494629 -0.945801 -0.937988   \n",
       "2    -2.914062 -0.161377  0.051727  ... -1.434570 -1.021484 -2.539062   \n",
       "3    -2.705078 -2.271484  1.470703  ... -0.367676 -1.790039 -1.804688   \n",
       "4    -1.333984 -1.023438  0.937500  ...  1.652344 -1.703125 -2.476562   \n",
       "...        ...       ...       ...  ...       ...       ...       ...   \n",
       "5995 -0.842773 -1.282227  1.340820  ...  1.070312 -0.566406 -1.357422   \n",
       "5996 -2.195312 -2.029297  1.024414  ... -0.836914 -1.895508 -2.449219   \n",
       "5997 -1.220703 -1.709961  1.553711  ...  0.711914 -0.082153 -1.972656   \n",
       "5998 -2.132812 -0.811035  2.246094  ...  1.915039  0.847168 -1.115234   \n",
       "5999 -1.458008 -0.790527  0.038818  ...  0.215820 -0.190308 -1.700195   \n",
       "\n",
       "            93        94        95        96        97        98        99  \n",
       "0    -0.728516  1.063477  1.272461 -0.246826  1.380859  1.921875  2.222656  \n",
       "1    -0.260742  2.085938  1.502930 -0.221436  0.645996  2.216797  0.961426  \n",
       "2    -2.451172  2.013672  1.943359  0.622559  1.706055  2.357422  1.231445  \n",
       "3    -2.474609  2.878906  0.426025 -0.582520  3.105469  0.837891  1.043945  \n",
       "4    -4.484375  1.402344  0.638672  0.058960  1.250000  2.455078  2.517578  \n",
       "...        ...       ...       ...       ...       ...       ...       ...  \n",
       "5995 -2.287109  0.418945  1.646484  0.828613  1.502930  2.164062  2.939453  \n",
       "5996 -2.021484  1.226562  0.562500 -1.254883  2.990234  2.496094  1.022461  \n",
       "5997 -0.666504  2.466797  0.973633  1.821289 -0.183350  2.941406  0.713379  \n",
       "5998 -1.065430  1.032227  1.030273 -0.781250  0.202026  2.701172  1.934570  \n",
       "5999 -0.251221  0.733398  1.455078 -0.268066  0.604980  0.782227  1.389648  \n",
       "\n",
       "[6000 rows x 100 columns]"
      ],
      "text/html": "<div>\n<style scoped>\n    .dataframe tbody tr th:only-of-type {\n        vertical-align: middle;\n    }\n\n    .dataframe tbody tr th {\n        vertical-align: top;\n    }\n\n    .dataframe thead th {\n        text-align: right;\n    }\n</style>\n<table border=\"1\" class=\"dataframe\">\n  <thead>\n    <tr style=\"text-align: right;\">\n      <th></th>\n      <th>0</th>\n      <th>1</th>\n      <th>2</th>\n      <th>3</th>\n      <th>4</th>\n      <th>5</th>\n      <th>6</th>\n      <th>7</th>\n      <th>8</th>\n      <th>9</th>\n      <th>...</th>\n      <th>90</th>\n      <th>91</th>\n      <th>92</th>\n      <th>93</th>\n      <th>94</th>\n      <th>95</th>\n      <th>96</th>\n      <th>97</th>\n      <th>98</th>\n      <th>99</th>\n    </tr>\n  </thead>\n  <tbody>\n    <tr>\n      <th>0</th>\n      <td>-0.114929</td>\n      <td>-3.919922</td>\n      <td>0.509766</td>\n      <td>1.326172</td>\n      <td>2.685547</td>\n      <td>1.790039</td>\n      <td>-1.767578</td>\n      <td>-1.253906</td>\n      <td>-1.898438</td>\n      <td>1.072266</td>\n      <td>...</td>\n      <td>0.861816</td>\n      <td>-0.739746</td>\n      <td>-1.121094</td>\n      <td>-0.728516</td>\n      <td>1.063477</td>\n      <td>1.272461</td>\n      <td>-0.246826</td>\n      <td>1.380859</td>\n      <td>1.921875</td>\n      <td>2.222656</td>\n    </tr>\n    <tr>\n      <th>1</th>\n      <td>2.312500</td>\n      <td>-2.363281</td>\n      <td>-0.013573</td>\n      <td>2.707031</td>\n      <td>1.198242</td>\n      <td>3.175781</td>\n      <td>-1.357422</td>\n      <td>-2.603516</td>\n      <td>-1.961914</td>\n      <td>-0.565918</td>\n      <td>...</td>\n      <td>0.494629</td>\n      <td>-0.945801</td>\n      <td>-0.937988</td>\n      <td>-0.260742</td>\n      <td>2.085938</td>\n      <td>1.502930</td>\n      <td>-0.221436</td>\n      <td>0.645996</td>\n      <td>2.216797</td>\n      <td>0.961426</td>\n    </tr>\n    <tr>\n      <th>2</th>\n      <td>-0.225952</td>\n      <td>-2.599609</td>\n      <td>-0.183838</td>\n      <td>2.042969</td>\n      <td>1.673828</td>\n      <td>1.954102</td>\n      <td>-1.365234</td>\n      <td>-2.914062</td>\n      <td>-0.161377</td>\n      <td>0.051727</td>\n      <td>...</td>\n      <td>-1.434570</td>\n      <td>-1.021484</td>\n      <td>-2.539062</td>\n      <td>-2.451172</td>\n      <td>2.013672</td>\n      <td>1.943359</td>\n      <td>0.622559</td>\n      <td>1.706055</td>\n      <td>2.357422</td>\n      <td>1.231445</td>\n    </tr>\n    <tr>\n      <th>3</th>\n      <td>0.844238</td>\n      <td>-0.527832</td>\n      <td>0.271484</td>\n      <td>0.753418</td>\n      <td>1.575195</td>\n      <td>2.496094</td>\n      <td>-1.651367</td>\n      <td>-2.705078</td>\n      <td>-2.271484</td>\n      <td>1.470703</td>\n      <td>...</td>\n      <td>-0.367676</td>\n      <td>-1.790039</td>\n      <td>-1.804688</td>\n      <td>-2.474609</td>\n      <td>2.878906</td>\n      <td>0.426025</td>\n      <td>-0.582520</td>\n      <td>3.105469</td>\n      <td>0.837891</td>\n      <td>1.043945</td>\n    </tr>\n    <tr>\n      <th>4</th>\n      <td>1.521484</td>\n      <td>-2.652344</td>\n      <td>0.422852</td>\n      <td>1.815430</td>\n      <td>2.029297</td>\n      <td>1.694336</td>\n      <td>0.608887</td>\n      <td>-1.333984</td>\n      <td>-1.023438</td>\n      <td>0.937500</td>\n      <td>...</td>\n      <td>1.652344</td>\n      <td>-1.703125</td>\n      <td>-2.476562</td>\n      <td>-4.484375</td>\n      <td>1.402344</td>\n      <td>0.638672</td>\n      <td>0.058960</td>\n      <td>1.250000</td>\n      <td>2.455078</td>\n      <td>2.517578</td>\n    </tr>\n    <tr>\n      <th>...</th>\n      <td>...</td>\n      <td>...</td>\n      <td>...</td>\n      <td>...</td>\n      <td>...</td>\n      <td>...</td>\n      <td>...</td>\n      <td>...</td>\n      <td>...</td>\n      <td>...</td>\n      <td>...</td>\n      <td>...</td>\n      <td>...</td>\n      <td>...</td>\n      <td>...</td>\n      <td>...</td>\n      <td>...</td>\n      <td>...</td>\n      <td>...</td>\n      <td>...</td>\n      <td>...</td>\n    </tr>\n    <tr>\n      <th>5995</th>\n      <td>0.906250</td>\n      <td>-1.422852</td>\n      <td>1.900391</td>\n      <td>2.384766</td>\n      <td>1.668945</td>\n      <td>0.900879</td>\n      <td>-1.925781</td>\n      <td>-0.842773</td>\n      <td>-1.282227</td>\n      <td>1.340820</td>\n      <td>...</td>\n      <td>1.070312</td>\n      <td>-0.566406</td>\n      <td>-1.357422</td>\n      <td>-2.287109</td>\n      <td>0.418945</td>\n      <td>1.646484</td>\n      <td>0.828613</td>\n      <td>1.502930</td>\n      <td>2.164062</td>\n      <td>2.939453</td>\n    </tr>\n    <tr>\n      <th>5996</th>\n      <td>2.138672</td>\n      <td>-1.449219</td>\n      <td>0.351318</td>\n      <td>2.123047</td>\n      <td>0.429932</td>\n      <td>-0.171387</td>\n      <td>-0.983398</td>\n      <td>-2.195312</td>\n      <td>-2.029297</td>\n      <td>1.024414</td>\n      <td>...</td>\n      <td>-0.836914</td>\n      <td>-1.895508</td>\n      <td>-2.449219</td>\n      <td>-2.021484</td>\n      <td>1.226562</td>\n      <td>0.562500</td>\n      <td>-1.254883</td>\n      <td>2.990234</td>\n      <td>2.496094</td>\n      <td>1.022461</td>\n    </tr>\n    <tr>\n      <th>5997</th>\n      <td>1.149414</td>\n      <td>-2.382812</td>\n      <td>0.937988</td>\n      <td>0.430908</td>\n      <td>1.120117</td>\n      <td>2.529297</td>\n      <td>-1.702148</td>\n      <td>-1.220703</td>\n      <td>-1.709961</td>\n      <td>1.553711</td>\n      <td>...</td>\n      <td>0.711914</td>\n      <td>-0.082153</td>\n      <td>-1.972656</td>\n      <td>-0.666504</td>\n      <td>2.466797</td>\n      <td>0.973633</td>\n      <td>1.821289</td>\n      <td>-0.183350</td>\n      <td>2.941406</td>\n      <td>0.713379</td>\n    </tr>\n    <tr>\n      <th>5998</th>\n      <td>0.944824</td>\n      <td>-1.448242</td>\n      <td>-0.097656</td>\n      <td>0.824707</td>\n      <td>1.159180</td>\n      <td>1.099609</td>\n      <td>-0.375000</td>\n      <td>-2.132812</td>\n      <td>-0.811035</td>\n      <td>2.246094</td>\n      <td>...</td>\n      <td>1.915039</td>\n      <td>0.847168</td>\n      <td>-1.115234</td>\n      <td>-1.065430</td>\n      <td>1.032227</td>\n      <td>1.030273</td>\n      <td>-0.781250</td>\n      <td>0.202026</td>\n      <td>2.701172</td>\n      <td>1.934570</td>\n    </tr>\n    <tr>\n      <th>5999</th>\n      <td>0.497070</td>\n      <td>-2.673828</td>\n      <td>1.884766</td>\n      <td>2.306641</td>\n      <td>1.570312</td>\n      <td>1.056641</td>\n      <td>-1.541992</td>\n      <td>-1.458008</td>\n      <td>-0.790527</td>\n      <td>0.038818</td>\n      <td>...</td>\n      <td>0.215820</td>\n      <td>-0.190308</td>\n      <td>-1.700195</td>\n      <td>-0.251221</td>\n      <td>0.733398</td>\n      <td>1.455078</td>\n      <td>-0.268066</td>\n      <td>0.604980</td>\n      <td>0.782227</td>\n      <td>1.389648</td>\n    </tr>\n  </tbody>\n</table>\n<p>6000 rows × 100 columns</p>\n</div>"
     },
     "metadata": {},
     "execution_count": 9
    }
   ],
   "source": [
    "full_sent_vec = []\n",
    "for i in range(len(syns)):\n",
    "    full_sent_vec.append(get_sent_vec(i))\n",
    "    \n",
    "sent_vec_df = pd.DataFrame(full_sent_vec)\n",
    "sent_vec_df"
   ]
  },
  {
   "cell_type": "code",
   "execution_count": 10,
   "metadata": {},
   "outputs": [
    {
     "output_type": "execute_result",
     "data": {
      "text/plain": [
       "      MAL_ID         0         1         2         3         4         5  \\\n",
       "0          1 -0.114929 -3.919922  0.509766  1.326172  2.685547  1.790039   \n",
       "1          5  2.312500 -2.363281 -0.013573  2.707031  1.198242  3.175781   \n",
       "2          6 -0.225952 -2.599609 -0.183838  2.042969  1.673828  1.954102   \n",
       "3          7  0.844238 -0.527832  0.271484  0.753418  1.575195  2.496094   \n",
       "4          8  1.521484 -2.652344  0.422852  1.815430  2.029297  1.694336   \n",
       "...      ...       ...       ...       ...       ...       ...       ...   \n",
       "5995   48438  0.906250 -1.422852  1.900391  2.384766  1.668945  0.900879   \n",
       "5996   48466  2.138672 -1.449219  0.351318  2.123047  0.429932 -0.171387   \n",
       "5997   48470  1.149414 -2.382812  0.937988  0.430908  1.120117  2.529297   \n",
       "5998   48483  0.944824 -1.448242 -0.097656  0.824707  1.159180  1.099609   \n",
       "5999   48492  0.497070 -2.673828  1.884766  2.306641  1.570312  1.056641   \n",
       "\n",
       "             6         7         8  ...        90        91        92  \\\n",
       "0    -1.767578 -1.253906 -1.898438  ...  0.861816 -0.739746 -1.121094   \n",
       "1    -1.357422 -2.603516 -1.961914  ...  0.494629 -0.945801 -0.937988   \n",
       "2    -1.365234 -2.914062 -0.161377  ... -1.434570 -1.021484 -2.539062   \n",
       "3    -1.651367 -2.705078 -2.271484  ... -0.367676 -1.790039 -1.804688   \n",
       "4     0.608887 -1.333984 -1.023438  ...  1.652344 -1.703125 -2.476562   \n",
       "...        ...       ...       ...  ...       ...       ...       ...   \n",
       "5995 -1.925781 -0.842773 -1.282227  ...  1.070312 -0.566406 -1.357422   \n",
       "5996 -0.983398 -2.195312 -2.029297  ... -0.836914 -1.895508 -2.449219   \n",
       "5997 -1.702148 -1.220703 -1.709961  ...  0.711914 -0.082153 -1.972656   \n",
       "5998 -0.375000 -2.132812 -0.811035  ...  1.915039  0.847168 -1.115234   \n",
       "5999 -1.541992 -1.458008 -0.790527  ...  0.215820 -0.190308 -1.700195   \n",
       "\n",
       "            93        94        95        96        97        98        99  \n",
       "0    -0.728516  1.063477  1.272461 -0.246826  1.380859  1.921875  2.222656  \n",
       "1    -0.260742  2.085938  1.502930 -0.221436  0.645996  2.216797  0.961426  \n",
       "2    -2.451172  2.013672  1.943359  0.622559  1.706055  2.357422  1.231445  \n",
       "3    -2.474609  2.878906  0.426025 -0.582520  3.105469  0.837891  1.043945  \n",
       "4    -4.484375  1.402344  0.638672  0.058960  1.250000  2.455078  2.517578  \n",
       "...        ...       ...       ...       ...       ...       ...       ...  \n",
       "5995 -2.287109  0.418945  1.646484  0.828613  1.502930  2.164062  2.939453  \n",
       "5996 -2.021484  1.226562  0.562500 -1.254883  2.990234  2.496094  1.022461  \n",
       "5997 -0.666504  2.466797  0.973633  1.821289 -0.183350  2.941406  0.713379  \n",
       "5998 -1.065430  1.032227  1.030273 -0.781250  0.202026  2.701172  1.934570  \n",
       "5999 -0.251221  0.733398  1.455078 -0.268066  0.604980  0.782227  1.389648  \n",
       "\n",
       "[6000 rows x 101 columns]"
      ],
      "text/html": "<div>\n<style scoped>\n    .dataframe tbody tr th:only-of-type {\n        vertical-align: middle;\n    }\n\n    .dataframe tbody tr th {\n        vertical-align: top;\n    }\n\n    .dataframe thead th {\n        text-align: right;\n    }\n</style>\n<table border=\"1\" class=\"dataframe\">\n  <thead>\n    <tr style=\"text-align: right;\">\n      <th></th>\n      <th>MAL_ID</th>\n      <th>0</th>\n      <th>1</th>\n      <th>2</th>\n      <th>3</th>\n      <th>4</th>\n      <th>5</th>\n      <th>6</th>\n      <th>7</th>\n      <th>8</th>\n      <th>...</th>\n      <th>90</th>\n      <th>91</th>\n      <th>92</th>\n      <th>93</th>\n      <th>94</th>\n      <th>95</th>\n      <th>96</th>\n      <th>97</th>\n      <th>98</th>\n      <th>99</th>\n    </tr>\n  </thead>\n  <tbody>\n    <tr>\n      <th>0</th>\n      <td>1</td>\n      <td>-0.114929</td>\n      <td>-3.919922</td>\n      <td>0.509766</td>\n      <td>1.326172</td>\n      <td>2.685547</td>\n      <td>1.790039</td>\n      <td>-1.767578</td>\n      <td>-1.253906</td>\n      <td>-1.898438</td>\n      <td>...</td>\n      <td>0.861816</td>\n      <td>-0.739746</td>\n      <td>-1.121094</td>\n      <td>-0.728516</td>\n      <td>1.063477</td>\n      <td>1.272461</td>\n      <td>-0.246826</td>\n      <td>1.380859</td>\n      <td>1.921875</td>\n      <td>2.222656</td>\n    </tr>\n    <tr>\n      <th>1</th>\n      <td>5</td>\n      <td>2.312500</td>\n      <td>-2.363281</td>\n      <td>-0.013573</td>\n      <td>2.707031</td>\n      <td>1.198242</td>\n      <td>3.175781</td>\n      <td>-1.357422</td>\n      <td>-2.603516</td>\n      <td>-1.961914</td>\n      <td>...</td>\n      <td>0.494629</td>\n      <td>-0.945801</td>\n      <td>-0.937988</td>\n      <td>-0.260742</td>\n      <td>2.085938</td>\n      <td>1.502930</td>\n      <td>-0.221436</td>\n      <td>0.645996</td>\n      <td>2.216797</td>\n      <td>0.961426</td>\n    </tr>\n    <tr>\n      <th>2</th>\n      <td>6</td>\n      <td>-0.225952</td>\n      <td>-2.599609</td>\n      <td>-0.183838</td>\n      <td>2.042969</td>\n      <td>1.673828</td>\n      <td>1.954102</td>\n      <td>-1.365234</td>\n      <td>-2.914062</td>\n      <td>-0.161377</td>\n      <td>...</td>\n      <td>-1.434570</td>\n      <td>-1.021484</td>\n      <td>-2.539062</td>\n      <td>-2.451172</td>\n      <td>2.013672</td>\n      <td>1.943359</td>\n      <td>0.622559</td>\n      <td>1.706055</td>\n      <td>2.357422</td>\n      <td>1.231445</td>\n    </tr>\n    <tr>\n      <th>3</th>\n      <td>7</td>\n      <td>0.844238</td>\n      <td>-0.527832</td>\n      <td>0.271484</td>\n      <td>0.753418</td>\n      <td>1.575195</td>\n      <td>2.496094</td>\n      <td>-1.651367</td>\n      <td>-2.705078</td>\n      <td>-2.271484</td>\n      <td>...</td>\n      <td>-0.367676</td>\n      <td>-1.790039</td>\n      <td>-1.804688</td>\n      <td>-2.474609</td>\n      <td>2.878906</td>\n      <td>0.426025</td>\n      <td>-0.582520</td>\n      <td>3.105469</td>\n      <td>0.837891</td>\n      <td>1.043945</td>\n    </tr>\n    <tr>\n      <th>4</th>\n      <td>8</td>\n      <td>1.521484</td>\n      <td>-2.652344</td>\n      <td>0.422852</td>\n      <td>1.815430</td>\n      <td>2.029297</td>\n      <td>1.694336</td>\n      <td>0.608887</td>\n      <td>-1.333984</td>\n      <td>-1.023438</td>\n      <td>...</td>\n      <td>1.652344</td>\n      <td>-1.703125</td>\n      <td>-2.476562</td>\n      <td>-4.484375</td>\n      <td>1.402344</td>\n      <td>0.638672</td>\n      <td>0.058960</td>\n      <td>1.250000</td>\n      <td>2.455078</td>\n      <td>2.517578</td>\n    </tr>\n    <tr>\n      <th>...</th>\n      <td>...</td>\n      <td>...</td>\n      <td>...</td>\n      <td>...</td>\n      <td>...</td>\n      <td>...</td>\n      <td>...</td>\n      <td>...</td>\n      <td>...</td>\n      <td>...</td>\n      <td>...</td>\n      <td>...</td>\n      <td>...</td>\n      <td>...</td>\n      <td>...</td>\n      <td>...</td>\n      <td>...</td>\n      <td>...</td>\n      <td>...</td>\n      <td>...</td>\n      <td>...</td>\n    </tr>\n    <tr>\n      <th>5995</th>\n      <td>48438</td>\n      <td>0.906250</td>\n      <td>-1.422852</td>\n      <td>1.900391</td>\n      <td>2.384766</td>\n      <td>1.668945</td>\n      <td>0.900879</td>\n      <td>-1.925781</td>\n      <td>-0.842773</td>\n      <td>-1.282227</td>\n      <td>...</td>\n      <td>1.070312</td>\n      <td>-0.566406</td>\n      <td>-1.357422</td>\n      <td>-2.287109</td>\n      <td>0.418945</td>\n      <td>1.646484</td>\n      <td>0.828613</td>\n      <td>1.502930</td>\n      <td>2.164062</td>\n      <td>2.939453</td>\n    </tr>\n    <tr>\n      <th>5996</th>\n      <td>48466</td>\n      <td>2.138672</td>\n      <td>-1.449219</td>\n      <td>0.351318</td>\n      <td>2.123047</td>\n      <td>0.429932</td>\n      <td>-0.171387</td>\n      <td>-0.983398</td>\n      <td>-2.195312</td>\n      <td>-2.029297</td>\n      <td>...</td>\n      <td>-0.836914</td>\n      <td>-1.895508</td>\n      <td>-2.449219</td>\n      <td>-2.021484</td>\n      <td>1.226562</td>\n      <td>0.562500</td>\n      <td>-1.254883</td>\n      <td>2.990234</td>\n      <td>2.496094</td>\n      <td>1.022461</td>\n    </tr>\n    <tr>\n      <th>5997</th>\n      <td>48470</td>\n      <td>1.149414</td>\n      <td>-2.382812</td>\n      <td>0.937988</td>\n      <td>0.430908</td>\n      <td>1.120117</td>\n      <td>2.529297</td>\n      <td>-1.702148</td>\n      <td>-1.220703</td>\n      <td>-1.709961</td>\n      <td>...</td>\n      <td>0.711914</td>\n      <td>-0.082153</td>\n      <td>-1.972656</td>\n      <td>-0.666504</td>\n      <td>2.466797</td>\n      <td>0.973633</td>\n      <td>1.821289</td>\n      <td>-0.183350</td>\n      <td>2.941406</td>\n      <td>0.713379</td>\n    </tr>\n    <tr>\n      <th>5998</th>\n      <td>48483</td>\n      <td>0.944824</td>\n      <td>-1.448242</td>\n      <td>-0.097656</td>\n      <td>0.824707</td>\n      <td>1.159180</td>\n      <td>1.099609</td>\n      <td>-0.375000</td>\n      <td>-2.132812</td>\n      <td>-0.811035</td>\n      <td>...</td>\n      <td>1.915039</td>\n      <td>0.847168</td>\n      <td>-1.115234</td>\n      <td>-1.065430</td>\n      <td>1.032227</td>\n      <td>1.030273</td>\n      <td>-0.781250</td>\n      <td>0.202026</td>\n      <td>2.701172</td>\n      <td>1.934570</td>\n    </tr>\n    <tr>\n      <th>5999</th>\n      <td>48492</td>\n      <td>0.497070</td>\n      <td>-2.673828</td>\n      <td>1.884766</td>\n      <td>2.306641</td>\n      <td>1.570312</td>\n      <td>1.056641</td>\n      <td>-1.541992</td>\n      <td>-1.458008</td>\n      <td>-0.790527</td>\n      <td>...</td>\n      <td>0.215820</td>\n      <td>-0.190308</td>\n      <td>-1.700195</td>\n      <td>-0.251221</td>\n      <td>0.733398</td>\n      <td>1.455078</td>\n      <td>-0.268066</td>\n      <td>0.604980</td>\n      <td>0.782227</td>\n      <td>1.389648</td>\n    </tr>\n  </tbody>\n</table>\n<p>6000 rows × 101 columns</p>\n</div>"
     },
     "metadata": {},
     "execution_count": 10
    }
   ],
   "source": [
    "sent_vec_df.insert(0, 'MAL_ID', synopsis.MAL_ID)\n",
    "sent_vec_df"
   ]
  },
  {
   "cell_type": "code",
   "execution_count": 11,
   "metadata": {},
   "outputs": [],
   "source": [
    "sent_vec_df.to_csv('synopsis_vector.csv', index=False)"
   ]
  }
 ]
}