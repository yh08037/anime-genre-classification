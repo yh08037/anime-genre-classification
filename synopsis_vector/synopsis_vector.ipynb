{
 "metadata": {
  "language_info": {
   "codemirror_mode": {
    "name": "ipython",
    "version": 3
   },
   "file_extension": ".py",
   "mimetype": "text/x-python",
   "name": "python",
   "nbconvert_exporter": "python",
   "pygments_lexer": "ipython3",
   "version": "3.9.5"
  },
  "orig_nbformat": 4,
  "kernelspec": {
   "name": "python3",
   "display_name": "Python 3.9.5 64-bit ('scrap': conda)"
  },
  "interpreter": {
   "hash": "4ea3ed2e54355ce89e91b93232dfdad50498b45cbf76d90a32e5b94d03490e3d"
  },
  "metadata": {
   "interpreter": {
    "hash": "e521b636c6a5a9046f5b2f587de9f0714520fcc32e4dd888509bb5fbc50b938b"
   }
  }
 },
 "nbformat": 4,
 "nbformat_minor": 2,
 "cells": [
  {
   "source": [
    "# Synopsis-to-Vector"
   ],
   "cell_type": "markdown",
   "metadata": {}
  },
  {
   "cell_type": "code",
   "execution_count": 1,
   "metadata": {},
   "outputs": [],
   "source": [
    "import numpy as np\n",
    "import pandas as pd\n",
    "import pickle\n",
    "import math"
   ]
  },
  {
   "source": [
    "## Load Pre-trained CBOW Parameters"
   ],
   "cell_type": "markdown",
   "metadata": {}
  },
  {
   "cell_type": "code",
   "execution_count": 2,
   "metadata": {},
   "outputs": [],
   "source": [
    "pkl_file = 'cbow_params.pkl'\n",
    "\n",
    "with open(pkl_file, 'rb') as f:\n",
    "    params = pickle.load(f)\n",
    "    word_vecs = params['word_vecs']\n",
    "    word_to_id = params['word_to_id']\n",
    "    id_to_word = params['id_to_word']"
   ]
  },
  {
   "source": [
    "## Get TF-IDF from synopsis.csv"
   ],
   "cell_type": "markdown",
   "metadata": {}
  },
  {
   "source": [
    "### Load Cleaned Synopsis Data"
   ],
   "cell_type": "markdown",
   "metadata": {}
  },
  {
   "cell_type": "code",
   "execution_count": 3,
   "metadata": {},
   "outputs": [
    {
     "output_type": "execute_result",
     "data": {
      "text/plain": [
       "   MAL_ID                                           Synopsis\n",
       "0       1  solar leaving surface planet earth solar polic...\n",
       "1       5  day life crew routine interrupted chasing targ...\n",
       "2       6  head reason waste oppose entire cities fun tit...\n",
       "3       7  individuals powers mind control robin craft us...\n",
       "4       8  dark century people suffering rule manipulate ..."
      ],
      "text/html": "<div>\n<style scoped>\n    .dataframe tbody tr th:only-of-type {\n        vertical-align: middle;\n    }\n\n    .dataframe tbody tr th {\n        vertical-align: top;\n    }\n\n    .dataframe thead th {\n        text-align: right;\n    }\n</style>\n<table border=\"1\" class=\"dataframe\">\n  <thead>\n    <tr style=\"text-align: right;\">\n      <th></th>\n      <th>MAL_ID</th>\n      <th>Synopsis</th>\n    </tr>\n  </thead>\n  <tbody>\n    <tr>\n      <th>0</th>\n      <td>1</td>\n      <td>solar leaving surface planet earth solar polic...</td>\n    </tr>\n    <tr>\n      <th>1</th>\n      <td>5</td>\n      <td>day life crew routine interrupted chasing targ...</td>\n    </tr>\n    <tr>\n      <th>2</th>\n      <td>6</td>\n      <td>head reason waste oppose entire cities fun tit...</td>\n    </tr>\n    <tr>\n      <th>3</th>\n      <td>7</td>\n      <td>individuals powers mind control robin craft us...</td>\n    </tr>\n    <tr>\n      <th>4</th>\n      <td>8</td>\n      <td>dark century people suffering rule manipulate ...</td>\n    </tr>\n  </tbody>\n</table>\n</div>"
     },
     "metadata": {},
     "execution_count": 3
    }
   ],
   "source": [
    "synopsis = pd.read_csv('../clean_data/synopsis.csv')\n",
    "synopsis.head()"
   ]
  },
  {
   "source": [
    "### Get Word Set from Synopsis Data"
   ],
   "cell_type": "markdown",
   "metadata": {}
  },
  {
   "cell_type": "code",
   "execution_count": 4,
   "metadata": {},
   "outputs": [],
   "source": [
    "syns = synopsis.Synopsis.str.findall('\\w+')\n",
    "\n",
    "vocab = set()\n",
    "for syn in syns:\n",
    "    vocab.update(syn)\n",
    "\n",
    "vocab = sorted(list(vocab))\n",
    "vocab_size = len(vocab)"
   ]
  },
  {
   "source": [
    "### Get TF(Term Frequency)"
   ],
   "cell_type": "markdown",
   "metadata": {}
  },
  {
   "cell_type": "code",
   "execution_count": 5,
   "metadata": {},
   "outputs": [
    {
     "output_type": "execute_result",
     "data": {
      "text/plain": [
       "(6000, 5921)"
      ]
     },
     "metadata": {},
     "execution_count": 5
    }
   ],
   "source": [
    "def get_tf(word, syn):\n",
    "    # Term Frequency\n",
    "    return syn.count(word)\n",
    "\n",
    "    \n",
    "tf = []\n",
    "for syn in syns:\n",
    "    tf_syn = []\n",
    "    for word in vocab:\n",
    "        tf_syn.append(get_tf(word, syn))\n",
    "    tf.append(tf_syn)\n",
    "\n",
    "tf = np.asarray(tf)\n",
    "tf.shape"
   ]
  },
  {
   "source": [
    "### Get IDF(Inverse Document Frequency)"
   ],
   "cell_type": "markdown",
   "metadata": {}
  },
  {
   "cell_type": "code",
   "execution_count": 6,
   "metadata": {},
   "outputs": [
    {
     "output_type": "execute_result",
     "data": {
      "text/plain": [
       "(5921,)"
      ]
     },
     "metadata": {},
     "execution_count": 6
    }
   ],
   "source": [
    "def get_idf(term):\n",
    "    # Inverse Document Frequency\n",
    "    _df = 0\n",
    "    for syn in syns:\n",
    "        _df += int(word in syn)\n",
    "    return math.log(vocab_size/(_df))\n",
    "\n",
    "\n",
    "idf = []\n",
    "for word in vocab:\n",
    "    idf.append(get_idf(word))\n",
    "\n",
    "idf = np.asarray(idf)\n",
    "idf.shape"
   ]
  },
  {
   "source": [
    "### Get TF-IDF Table"
   ],
   "cell_type": "markdown",
   "metadata": {}
  },
  {
   "cell_type": "code",
   "execution_count": 7,
   "metadata": {},
   "outputs": [],
   "source": [
    "tf_idf = pd.DataFrame(tf * idf, columns=vocab)"
   ]
  },
  {
   "source": [
    "## Generate Sentence Vector of Synopsis"
   ],
   "cell_type": "markdown",
   "metadata": {}
  },
  {
   "cell_type": "code",
   "execution_count": 8,
   "metadata": {},
   "outputs": [],
   "source": [
    "def get_word_vec(word):\n",
    "    return word_vecs[word_to_id[word]]\n",
    "\n",
    "def get_tf_idf(word, i):\n",
    "    return tf_idf.loc[i, word]\n",
    "\n",
    "def get_sent_vec(i):\n",
    "    sent_vec = np.zeros(100, dtype=np.float16)\n",
    "\n",
    "    for word in set(syns[i]):\n",
    "        # sent_vec += get_word_vec(word) * get_tf_idf(word, i)\n",
    "        sent_vec += get_word_vec(word)\n",
    "    \n",
    "    return sent_vec / len(set(syns[i]))"
   ]
  },
  {
   "cell_type": "code",
   "execution_count": 9,
   "metadata": {},
   "outputs": [
    {
     "output_type": "execute_result",
     "data": {
      "text/plain": [
       "            0         1         2         3         4         5         6   \\\n",
       "0     0.068298 -0.725098  0.113098  0.290283  0.453369  0.393066 -0.391357   \n",
       "1     0.421631 -0.444580  0.062561  0.541016  0.240845  0.596191 -0.235229   \n",
       "2    -0.009071 -0.538086  0.002262  0.397949  0.303467  0.380127 -0.252930   \n",
       "3     0.189819 -0.184326  0.163452  0.218872  0.219849  0.500977 -0.290527   \n",
       "4     0.280273 -0.597168  0.108032  0.311523  0.265381  0.325928  0.149902   \n",
       "...        ...       ...       ...       ...       ...       ...       ...   \n",
       "5995  0.181396 -0.272949  0.447754  0.489502  0.348145  0.204102 -0.381592   \n",
       "5996  0.448242 -0.371826  0.133667  0.429443  0.087402 -0.019547 -0.156006   \n",
       "5997  0.331543 -0.499023  0.189941  0.179565  0.204346  0.544434 -0.240479   \n",
       "5998  0.211304 -0.380615 -0.018204  0.232056  0.271973  0.241333 -0.181152   \n",
       "5999  0.096497 -0.632812  0.466309  0.540527  0.446533  0.321777 -0.397705   \n",
       "\n",
       "            7         8         9   ...        90        91        92  \\\n",
       "0    -0.298828 -0.325928  0.187866  ...  0.264160 -0.158203 -0.241699   \n",
       "1    -0.553223 -0.411377 -0.082825  ...  0.140869 -0.198486 -0.248657   \n",
       "2    -0.568359 -0.080444 -0.015587  ... -0.218140 -0.153564 -0.535645   \n",
       "3    -0.662109 -0.368164  0.322754  ... -0.125244 -0.370850 -0.436523   \n",
       "4    -0.320557 -0.182861  0.143066  ...  0.358154 -0.302734 -0.400146   \n",
       "...        ...       ...       ...  ...       ...       ...       ...   \n",
       "5995 -0.229858 -0.260986  0.266602  ...  0.186401 -0.143311 -0.356445   \n",
       "5996 -0.514160 -0.456055  0.262695  ... -0.156494 -0.344971 -0.471436   \n",
       "5997 -0.206177 -0.479492  0.364990  ...  0.243408 -0.009750 -0.561035   \n",
       "5998 -0.485840 -0.179199  0.503418  ...  0.464111  0.237427 -0.382812   \n",
       "5999 -0.394775 -0.036102 -0.021072  ...  0.118347 -0.086243 -0.539551   \n",
       "\n",
       "            93        94        95        96        97        98        99  \n",
       "0    -0.162842  0.262939  0.133911  0.023285  0.187500  0.445068  0.385498  \n",
       "1    -0.059326  0.421631  0.312012  0.078186  0.145752  0.477539  0.286621  \n",
       "2    -0.525879  0.425293  0.391357  0.175781  0.288330  0.453613  0.252197  \n",
       "3    -0.446289  0.511719  0.118896 -0.155273  0.532715  0.250244  0.290283  \n",
       "4    -0.795410  0.366455  0.244995  0.036255  0.251465  0.431885  0.546875  \n",
       "...        ...       ...       ...       ...       ...       ...       ...  \n",
       "5995 -0.459473  0.102417  0.357178  0.234985  0.367432  0.498047  0.644043  \n",
       "5996 -0.486572  0.370605  0.166382 -0.203003  0.529297  0.516602  0.348389  \n",
       "5997 -0.166626  0.680664  0.229248  0.314209  0.059845  0.658203  0.224487  \n",
       "5998 -0.260010  0.260742  0.196899 -0.095276  0.191772  0.634766  0.484619  \n",
       "5999 -0.012108  0.202148  0.448242 -0.023087  0.110413  0.160767  0.513184  \n",
       "\n",
       "[6000 rows x 100 columns]"
      ],
      "text/html": "<div>\n<style scoped>\n    .dataframe tbody tr th:only-of-type {\n        vertical-align: middle;\n    }\n\n    .dataframe tbody tr th {\n        vertical-align: top;\n    }\n\n    .dataframe thead th {\n        text-align: right;\n    }\n</style>\n<table border=\"1\" class=\"dataframe\">\n  <thead>\n    <tr style=\"text-align: right;\">\n      <th></th>\n      <th>0</th>\n      <th>1</th>\n      <th>2</th>\n      <th>3</th>\n      <th>4</th>\n      <th>5</th>\n      <th>6</th>\n      <th>7</th>\n      <th>8</th>\n      <th>9</th>\n      <th>...</th>\n      <th>90</th>\n      <th>91</th>\n      <th>92</th>\n      <th>93</th>\n      <th>94</th>\n      <th>95</th>\n      <th>96</th>\n      <th>97</th>\n      <th>98</th>\n      <th>99</th>\n    </tr>\n  </thead>\n  <tbody>\n    <tr>\n      <th>0</th>\n      <td>0.068298</td>\n      <td>-0.725098</td>\n      <td>0.113098</td>\n      <td>0.290283</td>\n      <td>0.453369</td>\n      <td>0.393066</td>\n      <td>-0.391357</td>\n      <td>-0.298828</td>\n      <td>-0.325928</td>\n      <td>0.187866</td>\n      <td>...</td>\n      <td>0.264160</td>\n      <td>-0.158203</td>\n      <td>-0.241699</td>\n      <td>-0.162842</td>\n      <td>0.262939</td>\n      <td>0.133911</td>\n      <td>0.023285</td>\n      <td>0.187500</td>\n      <td>0.445068</td>\n      <td>0.385498</td>\n    </tr>\n    <tr>\n      <th>1</th>\n      <td>0.421631</td>\n      <td>-0.444580</td>\n      <td>0.062561</td>\n      <td>0.541016</td>\n      <td>0.240845</td>\n      <td>0.596191</td>\n      <td>-0.235229</td>\n      <td>-0.553223</td>\n      <td>-0.411377</td>\n      <td>-0.082825</td>\n      <td>...</td>\n      <td>0.140869</td>\n      <td>-0.198486</td>\n      <td>-0.248657</td>\n      <td>-0.059326</td>\n      <td>0.421631</td>\n      <td>0.312012</td>\n      <td>0.078186</td>\n      <td>0.145752</td>\n      <td>0.477539</td>\n      <td>0.286621</td>\n    </tr>\n    <tr>\n      <th>2</th>\n      <td>-0.009071</td>\n      <td>-0.538086</td>\n      <td>0.002262</td>\n      <td>0.397949</td>\n      <td>0.303467</td>\n      <td>0.380127</td>\n      <td>-0.252930</td>\n      <td>-0.568359</td>\n      <td>-0.080444</td>\n      <td>-0.015587</td>\n      <td>...</td>\n      <td>-0.218140</td>\n      <td>-0.153564</td>\n      <td>-0.535645</td>\n      <td>-0.525879</td>\n      <td>0.425293</td>\n      <td>0.391357</td>\n      <td>0.175781</td>\n      <td>0.288330</td>\n      <td>0.453613</td>\n      <td>0.252197</td>\n    </tr>\n    <tr>\n      <th>3</th>\n      <td>0.189819</td>\n      <td>-0.184326</td>\n      <td>0.163452</td>\n      <td>0.218872</td>\n      <td>0.219849</td>\n      <td>0.500977</td>\n      <td>-0.290527</td>\n      <td>-0.662109</td>\n      <td>-0.368164</td>\n      <td>0.322754</td>\n      <td>...</td>\n      <td>-0.125244</td>\n      <td>-0.370850</td>\n      <td>-0.436523</td>\n      <td>-0.446289</td>\n      <td>0.511719</td>\n      <td>0.118896</td>\n      <td>-0.155273</td>\n      <td>0.532715</td>\n      <td>0.250244</td>\n      <td>0.290283</td>\n    </tr>\n    <tr>\n      <th>4</th>\n      <td>0.280273</td>\n      <td>-0.597168</td>\n      <td>0.108032</td>\n      <td>0.311523</td>\n      <td>0.265381</td>\n      <td>0.325928</td>\n      <td>0.149902</td>\n      <td>-0.320557</td>\n      <td>-0.182861</td>\n      <td>0.143066</td>\n      <td>...</td>\n      <td>0.358154</td>\n      <td>-0.302734</td>\n      <td>-0.400146</td>\n      <td>-0.795410</td>\n      <td>0.366455</td>\n      <td>0.244995</td>\n      <td>0.036255</td>\n      <td>0.251465</td>\n      <td>0.431885</td>\n      <td>0.546875</td>\n    </tr>\n    <tr>\n      <th>...</th>\n      <td>...</td>\n      <td>...</td>\n      <td>...</td>\n      <td>...</td>\n      <td>...</td>\n      <td>...</td>\n      <td>...</td>\n      <td>...</td>\n      <td>...</td>\n      <td>...</td>\n      <td>...</td>\n      <td>...</td>\n      <td>...</td>\n      <td>...</td>\n      <td>...</td>\n      <td>...</td>\n      <td>...</td>\n      <td>...</td>\n      <td>...</td>\n      <td>...</td>\n      <td>...</td>\n    </tr>\n    <tr>\n      <th>5995</th>\n      <td>0.181396</td>\n      <td>-0.272949</td>\n      <td>0.447754</td>\n      <td>0.489502</td>\n      <td>0.348145</td>\n      <td>0.204102</td>\n      <td>-0.381592</td>\n      <td>-0.229858</td>\n      <td>-0.260986</td>\n      <td>0.266602</td>\n      <td>...</td>\n      <td>0.186401</td>\n      <td>-0.143311</td>\n      <td>-0.356445</td>\n      <td>-0.459473</td>\n      <td>0.102417</td>\n      <td>0.357178</td>\n      <td>0.234985</td>\n      <td>0.367432</td>\n      <td>0.498047</td>\n      <td>0.644043</td>\n    </tr>\n    <tr>\n      <th>5996</th>\n      <td>0.448242</td>\n      <td>-0.371826</td>\n      <td>0.133667</td>\n      <td>0.429443</td>\n      <td>0.087402</td>\n      <td>-0.019547</td>\n      <td>-0.156006</td>\n      <td>-0.514160</td>\n      <td>-0.456055</td>\n      <td>0.262695</td>\n      <td>...</td>\n      <td>-0.156494</td>\n      <td>-0.344971</td>\n      <td>-0.471436</td>\n      <td>-0.486572</td>\n      <td>0.370605</td>\n      <td>0.166382</td>\n      <td>-0.203003</td>\n      <td>0.529297</td>\n      <td>0.516602</td>\n      <td>0.348389</td>\n    </tr>\n    <tr>\n      <th>5997</th>\n      <td>0.331543</td>\n      <td>-0.499023</td>\n      <td>0.189941</td>\n      <td>0.179565</td>\n      <td>0.204346</td>\n      <td>0.544434</td>\n      <td>-0.240479</td>\n      <td>-0.206177</td>\n      <td>-0.479492</td>\n      <td>0.364990</td>\n      <td>...</td>\n      <td>0.243408</td>\n      <td>-0.009750</td>\n      <td>-0.561035</td>\n      <td>-0.166626</td>\n      <td>0.680664</td>\n      <td>0.229248</td>\n      <td>0.314209</td>\n      <td>0.059845</td>\n      <td>0.658203</td>\n      <td>0.224487</td>\n    </tr>\n    <tr>\n      <th>5998</th>\n      <td>0.211304</td>\n      <td>-0.380615</td>\n      <td>-0.018204</td>\n      <td>0.232056</td>\n      <td>0.271973</td>\n      <td>0.241333</td>\n      <td>-0.181152</td>\n      <td>-0.485840</td>\n      <td>-0.179199</td>\n      <td>0.503418</td>\n      <td>...</td>\n      <td>0.464111</td>\n      <td>0.237427</td>\n      <td>-0.382812</td>\n      <td>-0.260010</td>\n      <td>0.260742</td>\n      <td>0.196899</td>\n      <td>-0.095276</td>\n      <td>0.191772</td>\n      <td>0.634766</td>\n      <td>0.484619</td>\n    </tr>\n    <tr>\n      <th>5999</th>\n      <td>0.096497</td>\n      <td>-0.632812</td>\n      <td>0.466309</td>\n      <td>0.540527</td>\n      <td>0.446533</td>\n      <td>0.321777</td>\n      <td>-0.397705</td>\n      <td>-0.394775</td>\n      <td>-0.036102</td>\n      <td>-0.021072</td>\n      <td>...</td>\n      <td>0.118347</td>\n      <td>-0.086243</td>\n      <td>-0.539551</td>\n      <td>-0.012108</td>\n      <td>0.202148</td>\n      <td>0.448242</td>\n      <td>-0.023087</td>\n      <td>0.110413</td>\n      <td>0.160767</td>\n      <td>0.513184</td>\n    </tr>\n  </tbody>\n</table>\n<p>6000 rows × 100 columns</p>\n</div>"
     },
     "metadata": {},
     "execution_count": 9
    }
   ],
   "source": [
    "full_sent_vec = []\n",
    "for i in range(len(syns)):\n",
    "    full_sent_vec.append(get_sent_vec(i))\n",
    "    \n",
    "sent_vec_df = pd.DataFrame(full_sent_vec)\n",
    "sent_vec_df"
   ]
  },
  {
   "cell_type": "code",
   "execution_count": 10,
   "metadata": {},
   "outputs": [
    {
     "output_type": "execute_result",
     "data": {
      "text/plain": [
       "      MAL_ID         0         1         2         3         4         5  \\\n",
       "0          1  0.068298 -0.725098  0.113098  0.290283  0.453369  0.393066   \n",
       "1          5  0.421631 -0.444580  0.062561  0.541016  0.240845  0.596191   \n",
       "2          6 -0.009071 -0.538086  0.002262  0.397949  0.303467  0.380127   \n",
       "3          7  0.189819 -0.184326  0.163452  0.218872  0.219849  0.500977   \n",
       "4          8  0.280273 -0.597168  0.108032  0.311523  0.265381  0.325928   \n",
       "...      ...       ...       ...       ...       ...       ...       ...   \n",
       "5995   48438  0.181396 -0.272949  0.447754  0.489502  0.348145  0.204102   \n",
       "5996   48466  0.448242 -0.371826  0.133667  0.429443  0.087402 -0.019547   \n",
       "5997   48470  0.331543 -0.499023  0.189941  0.179565  0.204346  0.544434   \n",
       "5998   48483  0.211304 -0.380615 -0.018204  0.232056  0.271973  0.241333   \n",
       "5999   48492  0.096497 -0.632812  0.466309  0.540527  0.446533  0.321777   \n",
       "\n",
       "             6         7         8  ...        90        91        92  \\\n",
       "0    -0.391357 -0.298828 -0.325928  ...  0.264160 -0.158203 -0.241699   \n",
       "1    -0.235229 -0.553223 -0.411377  ...  0.140869 -0.198486 -0.248657   \n",
       "2    -0.252930 -0.568359 -0.080444  ... -0.218140 -0.153564 -0.535645   \n",
       "3    -0.290527 -0.662109 -0.368164  ... -0.125244 -0.370850 -0.436523   \n",
       "4     0.149902 -0.320557 -0.182861  ...  0.358154 -0.302734 -0.400146   \n",
       "...        ...       ...       ...  ...       ...       ...       ...   \n",
       "5995 -0.381592 -0.229858 -0.260986  ...  0.186401 -0.143311 -0.356445   \n",
       "5996 -0.156006 -0.514160 -0.456055  ... -0.156494 -0.344971 -0.471436   \n",
       "5997 -0.240479 -0.206177 -0.479492  ...  0.243408 -0.009750 -0.561035   \n",
       "5998 -0.181152 -0.485840 -0.179199  ...  0.464111  0.237427 -0.382812   \n",
       "5999 -0.397705 -0.394775 -0.036102  ...  0.118347 -0.086243 -0.539551   \n",
       "\n",
       "            93        94        95        96        97        98        99  \n",
       "0    -0.162842  0.262939  0.133911  0.023285  0.187500  0.445068  0.385498  \n",
       "1    -0.059326  0.421631  0.312012  0.078186  0.145752  0.477539  0.286621  \n",
       "2    -0.525879  0.425293  0.391357  0.175781  0.288330  0.453613  0.252197  \n",
       "3    -0.446289  0.511719  0.118896 -0.155273  0.532715  0.250244  0.290283  \n",
       "4    -0.795410  0.366455  0.244995  0.036255  0.251465  0.431885  0.546875  \n",
       "...        ...       ...       ...       ...       ...       ...       ...  \n",
       "5995 -0.459473  0.102417  0.357178  0.234985  0.367432  0.498047  0.644043  \n",
       "5996 -0.486572  0.370605  0.166382 -0.203003  0.529297  0.516602  0.348389  \n",
       "5997 -0.166626  0.680664  0.229248  0.314209  0.059845  0.658203  0.224487  \n",
       "5998 -0.260010  0.260742  0.196899 -0.095276  0.191772  0.634766  0.484619  \n",
       "5999 -0.012108  0.202148  0.448242 -0.023087  0.110413  0.160767  0.513184  \n",
       "\n",
       "[6000 rows x 101 columns]"
      ],
      "text/html": "<div>\n<style scoped>\n    .dataframe tbody tr th:only-of-type {\n        vertical-align: middle;\n    }\n\n    .dataframe tbody tr th {\n        vertical-align: top;\n    }\n\n    .dataframe thead th {\n        text-align: right;\n    }\n</style>\n<table border=\"1\" class=\"dataframe\">\n  <thead>\n    <tr style=\"text-align: right;\">\n      <th></th>\n      <th>MAL_ID</th>\n      <th>0</th>\n      <th>1</th>\n      <th>2</th>\n      <th>3</th>\n      <th>4</th>\n      <th>5</th>\n      <th>6</th>\n      <th>7</th>\n      <th>8</th>\n      <th>...</th>\n      <th>90</th>\n      <th>91</th>\n      <th>92</th>\n      <th>93</th>\n      <th>94</th>\n      <th>95</th>\n      <th>96</th>\n      <th>97</th>\n      <th>98</th>\n      <th>99</th>\n    </tr>\n  </thead>\n  <tbody>\n    <tr>\n      <th>0</th>\n      <td>1</td>\n      <td>0.068298</td>\n      <td>-0.725098</td>\n      <td>0.113098</td>\n      <td>0.290283</td>\n      <td>0.453369</td>\n      <td>0.393066</td>\n      <td>-0.391357</td>\n      <td>-0.298828</td>\n      <td>-0.325928</td>\n      <td>...</td>\n      <td>0.264160</td>\n      <td>-0.158203</td>\n      <td>-0.241699</td>\n      <td>-0.162842</td>\n      <td>0.262939</td>\n      <td>0.133911</td>\n      <td>0.023285</td>\n      <td>0.187500</td>\n      <td>0.445068</td>\n      <td>0.385498</td>\n    </tr>\n    <tr>\n      <th>1</th>\n      <td>5</td>\n      <td>0.421631</td>\n      <td>-0.444580</td>\n      <td>0.062561</td>\n      <td>0.541016</td>\n      <td>0.240845</td>\n      <td>0.596191</td>\n      <td>-0.235229</td>\n      <td>-0.553223</td>\n      <td>-0.411377</td>\n      <td>...</td>\n      <td>0.140869</td>\n      <td>-0.198486</td>\n      <td>-0.248657</td>\n      <td>-0.059326</td>\n      <td>0.421631</td>\n      <td>0.312012</td>\n      <td>0.078186</td>\n      <td>0.145752</td>\n      <td>0.477539</td>\n      <td>0.286621</td>\n    </tr>\n    <tr>\n      <th>2</th>\n      <td>6</td>\n      <td>-0.009071</td>\n      <td>-0.538086</td>\n      <td>0.002262</td>\n      <td>0.397949</td>\n      <td>0.303467</td>\n      <td>0.380127</td>\n      <td>-0.252930</td>\n      <td>-0.568359</td>\n      <td>-0.080444</td>\n      <td>...</td>\n      <td>-0.218140</td>\n      <td>-0.153564</td>\n      <td>-0.535645</td>\n      <td>-0.525879</td>\n      <td>0.425293</td>\n      <td>0.391357</td>\n      <td>0.175781</td>\n      <td>0.288330</td>\n      <td>0.453613</td>\n      <td>0.252197</td>\n    </tr>\n    <tr>\n      <th>3</th>\n      <td>7</td>\n      <td>0.189819</td>\n      <td>-0.184326</td>\n      <td>0.163452</td>\n      <td>0.218872</td>\n      <td>0.219849</td>\n      <td>0.500977</td>\n      <td>-0.290527</td>\n      <td>-0.662109</td>\n      <td>-0.368164</td>\n      <td>...</td>\n      <td>-0.125244</td>\n      <td>-0.370850</td>\n      <td>-0.436523</td>\n      <td>-0.446289</td>\n      <td>0.511719</td>\n      <td>0.118896</td>\n      <td>-0.155273</td>\n      <td>0.532715</td>\n      <td>0.250244</td>\n      <td>0.290283</td>\n    </tr>\n    <tr>\n      <th>4</th>\n      <td>8</td>\n      <td>0.280273</td>\n      <td>-0.597168</td>\n      <td>0.108032</td>\n      <td>0.311523</td>\n      <td>0.265381</td>\n      <td>0.325928</td>\n      <td>0.149902</td>\n      <td>-0.320557</td>\n      <td>-0.182861</td>\n      <td>...</td>\n      <td>0.358154</td>\n      <td>-0.302734</td>\n      <td>-0.400146</td>\n      <td>-0.795410</td>\n      <td>0.366455</td>\n      <td>0.244995</td>\n      <td>0.036255</td>\n      <td>0.251465</td>\n      <td>0.431885</td>\n      <td>0.546875</td>\n    </tr>\n    <tr>\n      <th>...</th>\n      <td>...</td>\n      <td>...</td>\n      <td>...</td>\n      <td>...</td>\n      <td>...</td>\n      <td>...</td>\n      <td>...</td>\n      <td>...</td>\n      <td>...</td>\n      <td>...</td>\n      <td>...</td>\n      <td>...</td>\n      <td>...</td>\n      <td>...</td>\n      <td>...</td>\n      <td>...</td>\n      <td>...</td>\n      <td>...</td>\n      <td>...</td>\n      <td>...</td>\n      <td>...</td>\n    </tr>\n    <tr>\n      <th>5995</th>\n      <td>48438</td>\n      <td>0.181396</td>\n      <td>-0.272949</td>\n      <td>0.447754</td>\n      <td>0.489502</td>\n      <td>0.348145</td>\n      <td>0.204102</td>\n      <td>-0.381592</td>\n      <td>-0.229858</td>\n      <td>-0.260986</td>\n      <td>...</td>\n      <td>0.186401</td>\n      <td>-0.143311</td>\n      <td>-0.356445</td>\n      <td>-0.459473</td>\n      <td>0.102417</td>\n      <td>0.357178</td>\n      <td>0.234985</td>\n      <td>0.367432</td>\n      <td>0.498047</td>\n      <td>0.644043</td>\n    </tr>\n    <tr>\n      <th>5996</th>\n      <td>48466</td>\n      <td>0.448242</td>\n      <td>-0.371826</td>\n      <td>0.133667</td>\n      <td>0.429443</td>\n      <td>0.087402</td>\n      <td>-0.019547</td>\n      <td>-0.156006</td>\n      <td>-0.514160</td>\n      <td>-0.456055</td>\n      <td>...</td>\n      <td>-0.156494</td>\n      <td>-0.344971</td>\n      <td>-0.471436</td>\n      <td>-0.486572</td>\n      <td>0.370605</td>\n      <td>0.166382</td>\n      <td>-0.203003</td>\n      <td>0.529297</td>\n      <td>0.516602</td>\n      <td>0.348389</td>\n    </tr>\n    <tr>\n      <th>5997</th>\n      <td>48470</td>\n      <td>0.331543</td>\n      <td>-0.499023</td>\n      <td>0.189941</td>\n      <td>0.179565</td>\n      <td>0.204346</td>\n      <td>0.544434</td>\n      <td>-0.240479</td>\n      <td>-0.206177</td>\n      <td>-0.479492</td>\n      <td>...</td>\n      <td>0.243408</td>\n      <td>-0.009750</td>\n      <td>-0.561035</td>\n      <td>-0.166626</td>\n      <td>0.680664</td>\n      <td>0.229248</td>\n      <td>0.314209</td>\n      <td>0.059845</td>\n      <td>0.658203</td>\n      <td>0.224487</td>\n    </tr>\n    <tr>\n      <th>5998</th>\n      <td>48483</td>\n      <td>0.211304</td>\n      <td>-0.380615</td>\n      <td>-0.018204</td>\n      <td>0.232056</td>\n      <td>0.271973</td>\n      <td>0.241333</td>\n      <td>-0.181152</td>\n      <td>-0.485840</td>\n      <td>-0.179199</td>\n      <td>...</td>\n      <td>0.464111</td>\n      <td>0.237427</td>\n      <td>-0.382812</td>\n      <td>-0.260010</td>\n      <td>0.260742</td>\n      <td>0.196899</td>\n      <td>-0.095276</td>\n      <td>0.191772</td>\n      <td>0.634766</td>\n      <td>0.484619</td>\n    </tr>\n    <tr>\n      <th>5999</th>\n      <td>48492</td>\n      <td>0.096497</td>\n      <td>-0.632812</td>\n      <td>0.466309</td>\n      <td>0.540527</td>\n      <td>0.446533</td>\n      <td>0.321777</td>\n      <td>-0.397705</td>\n      <td>-0.394775</td>\n      <td>-0.036102</td>\n      <td>...</td>\n      <td>0.118347</td>\n      <td>-0.086243</td>\n      <td>-0.539551</td>\n      <td>-0.012108</td>\n      <td>0.202148</td>\n      <td>0.448242</td>\n      <td>-0.023087</td>\n      <td>0.110413</td>\n      <td>0.160767</td>\n      <td>0.513184</td>\n    </tr>\n  </tbody>\n</table>\n<p>6000 rows × 101 columns</p>\n</div>"
     },
     "metadata": {},
     "execution_count": 10
    }
   ],
   "source": [
    "sent_vec_df.insert(0, 'MAL_ID', synopsis.MAL_ID)\n",
    "sent_vec_df"
   ]
  },
  {
   "cell_type": "code",
   "execution_count": 11,
   "metadata": {},
   "outputs": [],
   "source": [
    "sent_vec_df.to_csv('synopsis_vector.csv', index=False)"
   ]
  }
 ]
}