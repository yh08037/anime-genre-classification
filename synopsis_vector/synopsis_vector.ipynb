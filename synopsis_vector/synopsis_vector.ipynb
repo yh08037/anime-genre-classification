{
 "metadata": {
  "language_info": {
   "codemirror_mode": {
    "name": "ipython",
    "version": 3
   },
   "file_extension": ".py",
   "mimetype": "text/x-python",
   "name": "python",
   "nbconvert_exporter": "python",
   "pygments_lexer": "ipython3",
   "version": "3.9.5"
  },
  "orig_nbformat": 4,
  "kernelspec": {
   "name": "python3",
   "display_name": "Python 3.9.5 64-bit ('scrap': conda)"
  },
  "interpreter": {
   "hash": "4ea3ed2e54355ce89e91b93232dfdad50498b45cbf76d90a32e5b94d03490e3d"
  },
  "metadata": {
   "interpreter": {
    "hash": "e521b636c6a5a9046f5b2f587de9f0714520fcc32e4dd888509bb5fbc50b938b"
   }
  }
 },
 "nbformat": 4,
 "nbformat_minor": 2,
 "cells": [
  {
   "source": [
    "# Synopsis-to-Vector"
   ],
   "cell_type": "markdown",
   "metadata": {}
  },
  {
   "cell_type": "code",
   "execution_count": 1,
   "metadata": {},
   "outputs": [],
   "source": [
    "import numpy as np\n",
    "import pandas as pd\n",
    "import pickle\n",
    "import math"
   ]
  },
  {
   "source": [
    "## Load Pre-trained CBOW Parameters"
   ],
   "cell_type": "markdown",
   "metadata": {}
  },
  {
   "cell_type": "code",
   "execution_count": 2,
   "metadata": {},
   "outputs": [],
   "source": [
    "pkl_file = 'cbow_params.pkl'\n",
    "\n",
    "with open(pkl_file, 'rb') as f:\n",
    "    params = pickle.load(f)\n",
    "    word_vecs = params['word_vecs']\n",
    "    word_to_id = params['word_to_id']\n",
    "    id_to_word = params['id_to_word']"
   ]
  },
  {
   "source": [
    "## Get TF-IDF from synopsis.csv"
   ],
   "cell_type": "markdown",
   "metadata": {}
  },
  {
   "source": [
    "### Load Cleaned Synopsis Data"
   ],
   "cell_type": "markdown",
   "metadata": {}
  },
  {
   "cell_type": "code",
   "execution_count": 3,
   "metadata": {},
   "outputs": [
    {
     "output_type": "execute_result",
     "data": {
      "text/plain": [
       "   MAL_ID                                           Synopsis\n",
       "0       1  solar leaving surface planet earth solar polic...\n",
       "1       5  day life crew routine interrupted chasing targ...\n",
       "2       6  head reason waste oppose entire cities fun tit...\n",
       "3       7  individuals powers mind control robin craft us...\n",
       "4       8  dark century people suffering rule manipulate ..."
      ],
      "text/html": "<div>\n<style scoped>\n    .dataframe tbody tr th:only-of-type {\n        vertical-align: middle;\n    }\n\n    .dataframe tbody tr th {\n        vertical-align: top;\n    }\n\n    .dataframe thead th {\n        text-align: right;\n    }\n</style>\n<table border=\"1\" class=\"dataframe\">\n  <thead>\n    <tr style=\"text-align: right;\">\n      <th></th>\n      <th>MAL_ID</th>\n      <th>Synopsis</th>\n    </tr>\n  </thead>\n  <tbody>\n    <tr>\n      <th>0</th>\n      <td>1</td>\n      <td>solar leaving surface planet earth solar polic...</td>\n    </tr>\n    <tr>\n      <th>1</th>\n      <td>5</td>\n      <td>day life crew routine interrupted chasing targ...</td>\n    </tr>\n    <tr>\n      <th>2</th>\n      <td>6</td>\n      <td>head reason waste oppose entire cities fun tit...</td>\n    </tr>\n    <tr>\n      <th>3</th>\n      <td>7</td>\n      <td>individuals powers mind control robin craft us...</td>\n    </tr>\n    <tr>\n      <th>4</th>\n      <td>8</td>\n      <td>dark century people suffering rule manipulate ...</td>\n    </tr>\n  </tbody>\n</table>\n</div>"
     },
     "metadata": {},
     "execution_count": 3
    }
   ],
   "source": [
    "synopsis = pd.read_csv('../clean_data/synopsis.csv')\n",
    "synopsis.head()"
   ]
  },
  {
   "source": [
    "### Get Word Set from Synopsis Data"
   ],
   "cell_type": "markdown",
   "metadata": {}
  },
  {
   "cell_type": "code",
   "execution_count": 4,
   "metadata": {},
   "outputs": [],
   "source": [
    "syns = synopsis.Synopsis.str.findall('\\w+')\n",
    "\n",
    "vocab = set()\n",
    "for syn in syns:\n",
    "    vocab.update(syn)\n",
    "\n",
    "vocab = sorted(list(vocab))\n",
    "vocab_size = len(vocab)"
   ]
  },
  {
   "source": [
    "### Get TF(Term Frequency)"
   ],
   "cell_type": "markdown",
   "metadata": {}
  },
  {
   "cell_type": "code",
   "execution_count": 5,
   "metadata": {},
   "outputs": [
    {
     "output_type": "execute_result",
     "data": {
      "text/plain": [
       "(6000, 5921)"
      ]
     },
     "metadata": {},
     "execution_count": 5
    }
   ],
   "source": [
    "def get_tf(word, syn):\n",
    "    # Term Frequency\n",
    "    return syn.count(word)\n",
    "\n",
    "    \n",
    "tf = []\n",
    "for syn in syns:\n",
    "    tf_syn = []\n",
    "    for word in vocab:\n",
    "        tf_syn.append(get_tf(word, syn))\n",
    "    tf.append(tf_syn)\n",
    "\n",
    "tf = np.asarray(tf)\n",
    "tf.shape"
   ]
  },
  {
   "source": [
    "### Get IDF(Inverse Document Frequency)"
   ],
   "cell_type": "markdown",
   "metadata": {}
  },
  {
   "cell_type": "code",
   "execution_count": 6,
   "metadata": {},
   "outputs": [
    {
     "output_type": "execute_result",
     "data": {
      "text/plain": [
       "(5921,)"
      ]
     },
     "metadata": {},
     "execution_count": 6
    }
   ],
   "source": [
    "def get_idf(term):\n",
    "    # Inverse Document Frequency\n",
    "    _df = 0\n",
    "    for syn in syns:\n",
    "        _df += int(word in syn)\n",
    "    return math.log(vocab_size/(_df))\n",
    "\n",
    "\n",
    "idf = []\n",
    "for word in vocab:\n",
    "    idf.append(get_idf(word))\n",
    "\n",
    "idf = np.asarray(idf)\n",
    "idf.shape"
   ]
  },
  {
   "source": [
    "### Get TF-IDF Table"
   ],
   "cell_type": "markdown",
   "metadata": {}
  },
  {
   "cell_type": "code",
   "execution_count": 7,
   "metadata": {},
   "outputs": [],
   "source": [
    "tf_idf = pd.DataFrame(tf * idf, columns=vocab)"
   ]
  },
  {
   "source": [
    "## Generate Sentence Vector of Synopsis"
   ],
   "cell_type": "markdown",
   "metadata": {}
  },
  {
   "cell_type": "code",
   "execution_count": 8,
   "metadata": {},
   "outputs": [],
   "source": [
    "def get_word_vec(word):\n",
    "    return word_vecs[word_to_id[word]]\n",
    "\n",
    "def get_tf_idf(word, i):\n",
    "    return tf_idf.loc[i, word]\n",
    "\n",
    "def get_sent_vec(i):\n",
    "    sent_vec = np.zeros(100, dtype=np.float16)\n",
    "\n",
    "    for word in set(syns[i]):\n",
    "        sent_vec += get_word_vec(word) * get_tf_idf(word, i)\n",
    "    \n",
    "    return sent_vec / len(set(syns[i]))"
   ]
  },
  {
   "cell_type": "code",
   "execution_count": 9,
   "metadata": {},
   "outputs": [
    {
     "output_type": "execute_result",
     "data": {
      "text/plain": [
       "            0         1         2         3         4         5         6   \\\n",
       "0    -0.115295 -3.925781  0.509277  1.326172  2.685547  1.787109 -1.766602   \n",
       "1     2.314453 -2.363281 -0.013374  2.705078  1.199219  3.171875 -1.359375   \n",
       "2    -0.225220 -2.599609 -0.183350  2.042969  1.671875  1.951172 -1.367188   \n",
       "3     0.844727 -0.527344  0.271484  0.753418  1.576172  2.492188 -1.652344   \n",
       "4     1.522461 -2.654297  0.423584  1.816406  2.029297  1.697266  0.608887   \n",
       "...        ...       ...       ...       ...       ...       ...       ...   \n",
       "5995  0.907227 -1.423828  1.901367  2.382812  1.664062  0.900879 -1.924805   \n",
       "5996  2.138672 -1.450195  0.352051  2.126953  0.429688 -0.171875 -0.984863   \n",
       "5997  1.147461 -2.382812  0.937988  0.431396  1.119141  2.527344 -1.699219   \n",
       "5998  0.945801 -1.449219 -0.097046  0.824707  1.160156  1.100586 -0.375732   \n",
       "5999  0.498047 -2.675781  1.882812  2.306641  1.572266  1.058594 -1.542969   \n",
       "\n",
       "            7         8         9   ...        90        91        92  \\\n",
       "0    -1.253906 -1.898438  1.073242  ...  0.862305 -0.738770 -1.120117   \n",
       "1    -2.605469 -1.960938 -0.565430  ...  0.495850 -0.945801 -0.938965   \n",
       "2    -2.916016 -0.161621  0.050690  ... -1.436523 -1.022461 -2.535156   \n",
       "3    -2.705078 -2.271484  1.469727  ... -0.366943 -1.791016 -1.804688   \n",
       "4    -1.333008 -1.022461  0.936035  ...  1.652344 -1.703125 -2.476562   \n",
       "...        ...       ...       ...  ...       ...       ...       ...   \n",
       "5995 -0.843262 -1.282227  1.338867  ...  1.071289 -0.565918 -1.356445   \n",
       "5996 -2.195312 -2.027344  1.022461  ... -0.836914 -1.895508 -2.447266   \n",
       "5997 -1.219727 -1.711914  1.555664  ...  0.713379 -0.082031 -1.974609   \n",
       "5998 -2.132812 -0.812012  2.246094  ...  1.913086  0.848145 -1.116211   \n",
       "5999 -1.456055 -0.792480  0.038086  ...  0.215820 -0.189575 -1.702148   \n",
       "\n",
       "            93        94        95        96        97        98        99  \n",
       "0    -0.728516  1.066406  1.273438 -0.247070  1.378906  1.921875  2.218750  \n",
       "1    -0.259766  2.087891  1.500000 -0.221924  0.645508  2.220703  0.959473  \n",
       "2    -2.455078  2.013672  1.943359  0.623047  1.701172  2.359375  1.232422  \n",
       "3    -2.474609  2.880859  0.426514 -0.582520  3.105469  0.839355  1.042969  \n",
       "4    -4.488281  1.402344  0.639160  0.059204  1.250000  2.458984  2.517578  \n",
       "...        ...       ...       ...       ...       ...       ...       ...  \n",
       "5995 -2.285156  0.418701  1.647461  0.828125  1.503906  2.166016  2.939453  \n",
       "5996 -2.021484  1.229492  0.562500 -1.253906  2.990234  2.492188  1.022461  \n",
       "5997 -0.666992  2.468750  0.973633  1.822266 -0.182739  2.941406  0.713867  \n",
       "5998 -1.067383  1.034180  1.029297 -0.780762  0.202637  2.699219  1.937500  \n",
       "5999 -0.250732  0.733398  1.456055 -0.268311  0.605469  0.782715  1.387695  \n",
       "\n",
       "[6000 rows x 100 columns]"
      ],
      "text/html": "<div>\n<style scoped>\n    .dataframe tbody tr th:only-of-type {\n        vertical-align: middle;\n    }\n\n    .dataframe tbody tr th {\n        vertical-align: top;\n    }\n\n    .dataframe thead th {\n        text-align: right;\n    }\n</style>\n<table border=\"1\" class=\"dataframe\">\n  <thead>\n    <tr style=\"text-align: right;\">\n      <th></th>\n      <th>0</th>\n      <th>1</th>\n      <th>2</th>\n      <th>3</th>\n      <th>4</th>\n      <th>5</th>\n      <th>6</th>\n      <th>7</th>\n      <th>8</th>\n      <th>9</th>\n      <th>...</th>\n      <th>90</th>\n      <th>91</th>\n      <th>92</th>\n      <th>93</th>\n      <th>94</th>\n      <th>95</th>\n      <th>96</th>\n      <th>97</th>\n      <th>98</th>\n      <th>99</th>\n    </tr>\n  </thead>\n  <tbody>\n    <tr>\n      <th>0</th>\n      <td>-0.115295</td>\n      <td>-3.925781</td>\n      <td>0.509277</td>\n      <td>1.326172</td>\n      <td>2.685547</td>\n      <td>1.787109</td>\n      <td>-1.766602</td>\n      <td>-1.253906</td>\n      <td>-1.898438</td>\n      <td>1.073242</td>\n      <td>...</td>\n      <td>0.862305</td>\n      <td>-0.738770</td>\n      <td>-1.120117</td>\n      <td>-0.728516</td>\n      <td>1.066406</td>\n      <td>1.273438</td>\n      <td>-0.247070</td>\n      <td>1.378906</td>\n      <td>1.921875</td>\n      <td>2.218750</td>\n    </tr>\n    <tr>\n      <th>1</th>\n      <td>2.314453</td>\n      <td>-2.363281</td>\n      <td>-0.013374</td>\n      <td>2.705078</td>\n      <td>1.199219</td>\n      <td>3.171875</td>\n      <td>-1.359375</td>\n      <td>-2.605469</td>\n      <td>-1.960938</td>\n      <td>-0.565430</td>\n      <td>...</td>\n      <td>0.495850</td>\n      <td>-0.945801</td>\n      <td>-0.938965</td>\n      <td>-0.259766</td>\n      <td>2.087891</td>\n      <td>1.500000</td>\n      <td>-0.221924</td>\n      <td>0.645508</td>\n      <td>2.220703</td>\n      <td>0.959473</td>\n    </tr>\n    <tr>\n      <th>2</th>\n      <td>-0.225220</td>\n      <td>-2.599609</td>\n      <td>-0.183350</td>\n      <td>2.042969</td>\n      <td>1.671875</td>\n      <td>1.951172</td>\n      <td>-1.367188</td>\n      <td>-2.916016</td>\n      <td>-0.161621</td>\n      <td>0.050690</td>\n      <td>...</td>\n      <td>-1.436523</td>\n      <td>-1.022461</td>\n      <td>-2.535156</td>\n      <td>-2.455078</td>\n      <td>2.013672</td>\n      <td>1.943359</td>\n      <td>0.623047</td>\n      <td>1.701172</td>\n      <td>2.359375</td>\n      <td>1.232422</td>\n    </tr>\n    <tr>\n      <th>3</th>\n      <td>0.844727</td>\n      <td>-0.527344</td>\n      <td>0.271484</td>\n      <td>0.753418</td>\n      <td>1.576172</td>\n      <td>2.492188</td>\n      <td>-1.652344</td>\n      <td>-2.705078</td>\n      <td>-2.271484</td>\n      <td>1.469727</td>\n      <td>...</td>\n      <td>-0.366943</td>\n      <td>-1.791016</td>\n      <td>-1.804688</td>\n      <td>-2.474609</td>\n      <td>2.880859</td>\n      <td>0.426514</td>\n      <td>-0.582520</td>\n      <td>3.105469</td>\n      <td>0.839355</td>\n      <td>1.042969</td>\n    </tr>\n    <tr>\n      <th>4</th>\n      <td>1.522461</td>\n      <td>-2.654297</td>\n      <td>0.423584</td>\n      <td>1.816406</td>\n      <td>2.029297</td>\n      <td>1.697266</td>\n      <td>0.608887</td>\n      <td>-1.333008</td>\n      <td>-1.022461</td>\n      <td>0.936035</td>\n      <td>...</td>\n      <td>1.652344</td>\n      <td>-1.703125</td>\n      <td>-2.476562</td>\n      <td>-4.488281</td>\n      <td>1.402344</td>\n      <td>0.639160</td>\n      <td>0.059204</td>\n      <td>1.250000</td>\n      <td>2.458984</td>\n      <td>2.517578</td>\n    </tr>\n    <tr>\n      <th>...</th>\n      <td>...</td>\n      <td>...</td>\n      <td>...</td>\n      <td>...</td>\n      <td>...</td>\n      <td>...</td>\n      <td>...</td>\n      <td>...</td>\n      <td>...</td>\n      <td>...</td>\n      <td>...</td>\n      <td>...</td>\n      <td>...</td>\n      <td>...</td>\n      <td>...</td>\n      <td>...</td>\n      <td>...</td>\n      <td>...</td>\n      <td>...</td>\n      <td>...</td>\n      <td>...</td>\n    </tr>\n    <tr>\n      <th>5995</th>\n      <td>0.907227</td>\n      <td>-1.423828</td>\n      <td>1.901367</td>\n      <td>2.382812</td>\n      <td>1.664062</td>\n      <td>0.900879</td>\n      <td>-1.924805</td>\n      <td>-0.843262</td>\n      <td>-1.282227</td>\n      <td>1.338867</td>\n      <td>...</td>\n      <td>1.071289</td>\n      <td>-0.565918</td>\n      <td>-1.356445</td>\n      <td>-2.285156</td>\n      <td>0.418701</td>\n      <td>1.647461</td>\n      <td>0.828125</td>\n      <td>1.503906</td>\n      <td>2.166016</td>\n      <td>2.939453</td>\n    </tr>\n    <tr>\n      <th>5996</th>\n      <td>2.138672</td>\n      <td>-1.450195</td>\n      <td>0.352051</td>\n      <td>2.126953</td>\n      <td>0.429688</td>\n      <td>-0.171875</td>\n      <td>-0.984863</td>\n      <td>-2.195312</td>\n      <td>-2.027344</td>\n      <td>1.022461</td>\n      <td>...</td>\n      <td>-0.836914</td>\n      <td>-1.895508</td>\n      <td>-2.447266</td>\n      <td>-2.021484</td>\n      <td>1.229492</td>\n      <td>0.562500</td>\n      <td>-1.253906</td>\n      <td>2.990234</td>\n      <td>2.492188</td>\n      <td>1.022461</td>\n    </tr>\n    <tr>\n      <th>5997</th>\n      <td>1.147461</td>\n      <td>-2.382812</td>\n      <td>0.937988</td>\n      <td>0.431396</td>\n      <td>1.119141</td>\n      <td>2.527344</td>\n      <td>-1.699219</td>\n      <td>-1.219727</td>\n      <td>-1.711914</td>\n      <td>1.555664</td>\n      <td>...</td>\n      <td>0.713379</td>\n      <td>-0.082031</td>\n      <td>-1.974609</td>\n      <td>-0.666992</td>\n      <td>2.468750</td>\n      <td>0.973633</td>\n      <td>1.822266</td>\n      <td>-0.182739</td>\n      <td>2.941406</td>\n      <td>0.713867</td>\n    </tr>\n    <tr>\n      <th>5998</th>\n      <td>0.945801</td>\n      <td>-1.449219</td>\n      <td>-0.097046</td>\n      <td>0.824707</td>\n      <td>1.160156</td>\n      <td>1.100586</td>\n      <td>-0.375732</td>\n      <td>-2.132812</td>\n      <td>-0.812012</td>\n      <td>2.246094</td>\n      <td>...</td>\n      <td>1.913086</td>\n      <td>0.848145</td>\n      <td>-1.116211</td>\n      <td>-1.067383</td>\n      <td>1.034180</td>\n      <td>1.029297</td>\n      <td>-0.780762</td>\n      <td>0.202637</td>\n      <td>2.699219</td>\n      <td>1.937500</td>\n    </tr>\n    <tr>\n      <th>5999</th>\n      <td>0.498047</td>\n      <td>-2.675781</td>\n      <td>1.882812</td>\n      <td>2.306641</td>\n      <td>1.572266</td>\n      <td>1.058594</td>\n      <td>-1.542969</td>\n      <td>-1.456055</td>\n      <td>-0.792480</td>\n      <td>0.038086</td>\n      <td>...</td>\n      <td>0.215820</td>\n      <td>-0.189575</td>\n      <td>-1.702148</td>\n      <td>-0.250732</td>\n      <td>0.733398</td>\n      <td>1.456055</td>\n      <td>-0.268311</td>\n      <td>0.605469</td>\n      <td>0.782715</td>\n      <td>1.387695</td>\n    </tr>\n  </tbody>\n</table>\n<p>6000 rows × 100 columns</p>\n</div>"
     },
     "metadata": {},
     "execution_count": 9
    }
   ],
   "source": [
    "full_sent_vec = []\n",
    "for i in range(len(syns)):\n",
    "    full_sent_vec.append(get_sent_vec(i))\n",
    "    \n",
    "sent_vec_df = pd.DataFrame(full_sent_vec)\n",
    "sent_vec_df"
   ]
  },
  {
   "cell_type": "code",
   "execution_count": 10,
   "metadata": {},
   "outputs": [
    {
     "output_type": "execute_result",
     "data": {
      "text/plain": [
       "      MAL_ID         0         1         2         3         4         5  \\\n",
       "0          1 -0.115295 -3.925781  0.509277  1.326172  2.685547  1.787109   \n",
       "1          5  2.314453 -2.363281 -0.013374  2.705078  1.199219  3.171875   \n",
       "2          6 -0.225220 -2.599609 -0.183350  2.042969  1.671875  1.951172   \n",
       "3          7  0.844727 -0.527344  0.271484  0.753418  1.576172  2.492188   \n",
       "4          8  1.522461 -2.654297  0.423584  1.816406  2.029297  1.697266   \n",
       "...      ...       ...       ...       ...       ...       ...       ...   \n",
       "5995   48438  0.907227 -1.423828  1.901367  2.382812  1.664062  0.900879   \n",
       "5996   48466  2.138672 -1.450195  0.352051  2.126953  0.429688 -0.171875   \n",
       "5997   48470  1.147461 -2.382812  0.937988  0.431396  1.119141  2.527344   \n",
       "5998   48483  0.945801 -1.449219 -0.097046  0.824707  1.160156  1.100586   \n",
       "5999   48492  0.498047 -2.675781  1.882812  2.306641  1.572266  1.058594   \n",
       "\n",
       "             6         7         8  ...        90        91        92  \\\n",
       "0    -1.766602 -1.253906 -1.898438  ...  0.862305 -0.738770 -1.120117   \n",
       "1    -1.359375 -2.605469 -1.960938  ...  0.495850 -0.945801 -0.938965   \n",
       "2    -1.367188 -2.916016 -0.161621  ... -1.436523 -1.022461 -2.535156   \n",
       "3    -1.652344 -2.705078 -2.271484  ... -0.366943 -1.791016 -1.804688   \n",
       "4     0.608887 -1.333008 -1.022461  ...  1.652344 -1.703125 -2.476562   \n",
       "...        ...       ...       ...  ...       ...       ...       ...   \n",
       "5995 -1.924805 -0.843262 -1.282227  ...  1.071289 -0.565918 -1.356445   \n",
       "5996 -0.984863 -2.195312 -2.027344  ... -0.836914 -1.895508 -2.447266   \n",
       "5997 -1.699219 -1.219727 -1.711914  ...  0.713379 -0.082031 -1.974609   \n",
       "5998 -0.375732 -2.132812 -0.812012  ...  1.913086  0.848145 -1.116211   \n",
       "5999 -1.542969 -1.456055 -0.792480  ...  0.215820 -0.189575 -1.702148   \n",
       "\n",
       "            93        94        95        96        97        98        99  \n",
       "0    -0.728516  1.066406  1.273438 -0.247070  1.378906  1.921875  2.218750  \n",
       "1    -0.259766  2.087891  1.500000 -0.221924  0.645508  2.220703  0.959473  \n",
       "2    -2.455078  2.013672  1.943359  0.623047  1.701172  2.359375  1.232422  \n",
       "3    -2.474609  2.880859  0.426514 -0.582520  3.105469  0.839355  1.042969  \n",
       "4    -4.488281  1.402344  0.639160  0.059204  1.250000  2.458984  2.517578  \n",
       "...        ...       ...       ...       ...       ...       ...       ...  \n",
       "5995 -2.285156  0.418701  1.647461  0.828125  1.503906  2.166016  2.939453  \n",
       "5996 -2.021484  1.229492  0.562500 -1.253906  2.990234  2.492188  1.022461  \n",
       "5997 -0.666992  2.468750  0.973633  1.822266 -0.182739  2.941406  0.713867  \n",
       "5998 -1.067383  1.034180  1.029297 -0.780762  0.202637  2.699219  1.937500  \n",
       "5999 -0.250732  0.733398  1.456055 -0.268311  0.605469  0.782715  1.387695  \n",
       "\n",
       "[6000 rows x 101 columns]"
      ],
      "text/html": "<div>\n<style scoped>\n    .dataframe tbody tr th:only-of-type {\n        vertical-align: middle;\n    }\n\n    .dataframe tbody tr th {\n        vertical-align: top;\n    }\n\n    .dataframe thead th {\n        text-align: right;\n    }\n</style>\n<table border=\"1\" class=\"dataframe\">\n  <thead>\n    <tr style=\"text-align: right;\">\n      <th></th>\n      <th>MAL_ID</th>\n      <th>0</th>\n      <th>1</th>\n      <th>2</th>\n      <th>3</th>\n      <th>4</th>\n      <th>5</th>\n      <th>6</th>\n      <th>7</th>\n      <th>8</th>\n      <th>...</th>\n      <th>90</th>\n      <th>91</th>\n      <th>92</th>\n      <th>93</th>\n      <th>94</th>\n      <th>95</th>\n      <th>96</th>\n      <th>97</th>\n      <th>98</th>\n      <th>99</th>\n    </tr>\n  </thead>\n  <tbody>\n    <tr>\n      <th>0</th>\n      <td>1</td>\n      <td>-0.115295</td>\n      <td>-3.925781</td>\n      <td>0.509277</td>\n      <td>1.326172</td>\n      <td>2.685547</td>\n      <td>1.787109</td>\n      <td>-1.766602</td>\n      <td>-1.253906</td>\n      <td>-1.898438</td>\n      <td>...</td>\n      <td>0.862305</td>\n      <td>-0.738770</td>\n      <td>-1.120117</td>\n      <td>-0.728516</td>\n      <td>1.066406</td>\n      <td>1.273438</td>\n      <td>-0.247070</td>\n      <td>1.378906</td>\n      <td>1.921875</td>\n      <td>2.218750</td>\n    </tr>\n    <tr>\n      <th>1</th>\n      <td>5</td>\n      <td>2.314453</td>\n      <td>-2.363281</td>\n      <td>-0.013374</td>\n      <td>2.705078</td>\n      <td>1.199219</td>\n      <td>3.171875</td>\n      <td>-1.359375</td>\n      <td>-2.605469</td>\n      <td>-1.960938</td>\n      <td>...</td>\n      <td>0.495850</td>\n      <td>-0.945801</td>\n      <td>-0.938965</td>\n      <td>-0.259766</td>\n      <td>2.087891</td>\n      <td>1.500000</td>\n      <td>-0.221924</td>\n      <td>0.645508</td>\n      <td>2.220703</td>\n      <td>0.959473</td>\n    </tr>\n    <tr>\n      <th>2</th>\n      <td>6</td>\n      <td>-0.225220</td>\n      <td>-2.599609</td>\n      <td>-0.183350</td>\n      <td>2.042969</td>\n      <td>1.671875</td>\n      <td>1.951172</td>\n      <td>-1.367188</td>\n      <td>-2.916016</td>\n      <td>-0.161621</td>\n      <td>...</td>\n      <td>-1.436523</td>\n      <td>-1.022461</td>\n      <td>-2.535156</td>\n      <td>-2.455078</td>\n      <td>2.013672</td>\n      <td>1.943359</td>\n      <td>0.623047</td>\n      <td>1.701172</td>\n      <td>2.359375</td>\n      <td>1.232422</td>\n    </tr>\n    <tr>\n      <th>3</th>\n      <td>7</td>\n      <td>0.844727</td>\n      <td>-0.527344</td>\n      <td>0.271484</td>\n      <td>0.753418</td>\n      <td>1.576172</td>\n      <td>2.492188</td>\n      <td>-1.652344</td>\n      <td>-2.705078</td>\n      <td>-2.271484</td>\n      <td>...</td>\n      <td>-0.366943</td>\n      <td>-1.791016</td>\n      <td>-1.804688</td>\n      <td>-2.474609</td>\n      <td>2.880859</td>\n      <td>0.426514</td>\n      <td>-0.582520</td>\n      <td>3.105469</td>\n      <td>0.839355</td>\n      <td>1.042969</td>\n    </tr>\n    <tr>\n      <th>4</th>\n      <td>8</td>\n      <td>1.522461</td>\n      <td>-2.654297</td>\n      <td>0.423584</td>\n      <td>1.816406</td>\n      <td>2.029297</td>\n      <td>1.697266</td>\n      <td>0.608887</td>\n      <td>-1.333008</td>\n      <td>-1.022461</td>\n      <td>...</td>\n      <td>1.652344</td>\n      <td>-1.703125</td>\n      <td>-2.476562</td>\n      <td>-4.488281</td>\n      <td>1.402344</td>\n      <td>0.639160</td>\n      <td>0.059204</td>\n      <td>1.250000</td>\n      <td>2.458984</td>\n      <td>2.517578</td>\n    </tr>\n    <tr>\n      <th>...</th>\n      <td>...</td>\n      <td>...</td>\n      <td>...</td>\n      <td>...</td>\n      <td>...</td>\n      <td>...</td>\n      <td>...</td>\n      <td>...</td>\n      <td>...</td>\n      <td>...</td>\n      <td>...</td>\n      <td>...</td>\n      <td>...</td>\n      <td>...</td>\n      <td>...</td>\n      <td>...</td>\n      <td>...</td>\n      <td>...</td>\n      <td>...</td>\n      <td>...</td>\n      <td>...</td>\n    </tr>\n    <tr>\n      <th>5995</th>\n      <td>48438</td>\n      <td>0.907227</td>\n      <td>-1.423828</td>\n      <td>1.901367</td>\n      <td>2.382812</td>\n      <td>1.664062</td>\n      <td>0.900879</td>\n      <td>-1.924805</td>\n      <td>-0.843262</td>\n      <td>-1.282227</td>\n      <td>...</td>\n      <td>1.071289</td>\n      <td>-0.565918</td>\n      <td>-1.356445</td>\n      <td>-2.285156</td>\n      <td>0.418701</td>\n      <td>1.647461</td>\n      <td>0.828125</td>\n      <td>1.503906</td>\n      <td>2.166016</td>\n      <td>2.939453</td>\n    </tr>\n    <tr>\n      <th>5996</th>\n      <td>48466</td>\n      <td>2.138672</td>\n      <td>-1.450195</td>\n      <td>0.352051</td>\n      <td>2.126953</td>\n      <td>0.429688</td>\n      <td>-0.171875</td>\n      <td>-0.984863</td>\n      <td>-2.195312</td>\n      <td>-2.027344</td>\n      <td>...</td>\n      <td>-0.836914</td>\n      <td>-1.895508</td>\n      <td>-2.447266</td>\n      <td>-2.021484</td>\n      <td>1.229492</td>\n      <td>0.562500</td>\n      <td>-1.253906</td>\n      <td>2.990234</td>\n      <td>2.492188</td>\n      <td>1.022461</td>\n    </tr>\n    <tr>\n      <th>5997</th>\n      <td>48470</td>\n      <td>1.147461</td>\n      <td>-2.382812</td>\n      <td>0.937988</td>\n      <td>0.431396</td>\n      <td>1.119141</td>\n      <td>2.527344</td>\n      <td>-1.699219</td>\n      <td>-1.219727</td>\n      <td>-1.711914</td>\n      <td>...</td>\n      <td>0.713379</td>\n      <td>-0.082031</td>\n      <td>-1.974609</td>\n      <td>-0.666992</td>\n      <td>2.468750</td>\n      <td>0.973633</td>\n      <td>1.822266</td>\n      <td>-0.182739</td>\n      <td>2.941406</td>\n      <td>0.713867</td>\n    </tr>\n    <tr>\n      <th>5998</th>\n      <td>48483</td>\n      <td>0.945801</td>\n      <td>-1.449219</td>\n      <td>-0.097046</td>\n      <td>0.824707</td>\n      <td>1.160156</td>\n      <td>1.100586</td>\n      <td>-0.375732</td>\n      <td>-2.132812</td>\n      <td>-0.812012</td>\n      <td>...</td>\n      <td>1.913086</td>\n      <td>0.848145</td>\n      <td>-1.116211</td>\n      <td>-1.067383</td>\n      <td>1.034180</td>\n      <td>1.029297</td>\n      <td>-0.780762</td>\n      <td>0.202637</td>\n      <td>2.699219</td>\n      <td>1.937500</td>\n    </tr>\n    <tr>\n      <th>5999</th>\n      <td>48492</td>\n      <td>0.498047</td>\n      <td>-2.675781</td>\n      <td>1.882812</td>\n      <td>2.306641</td>\n      <td>1.572266</td>\n      <td>1.058594</td>\n      <td>-1.542969</td>\n      <td>-1.456055</td>\n      <td>-0.792480</td>\n      <td>...</td>\n      <td>0.215820</td>\n      <td>-0.189575</td>\n      <td>-1.702148</td>\n      <td>-0.250732</td>\n      <td>0.733398</td>\n      <td>1.456055</td>\n      <td>-0.268311</td>\n      <td>0.605469</td>\n      <td>0.782715</td>\n      <td>1.387695</td>\n    </tr>\n  </tbody>\n</table>\n<p>6000 rows × 101 columns</p>\n</div>"
     },
     "metadata": {},
     "execution_count": 10
    }
   ],
   "source": [
    "sent_vec_df.insert(0, 'MAL_ID', synopsis.MAL_ID)\n",
    "sent_vec_df"
   ]
  },
  {
   "cell_type": "code",
   "execution_count": 11,
   "metadata": {},
   "outputs": [],
   "source": [
    "sent_vec_df.to_csv('synopsis_vector.csv', index=False)"
   ]
  }
 ]
}