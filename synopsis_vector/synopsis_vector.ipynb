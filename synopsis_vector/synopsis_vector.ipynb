{
 "metadata": {
  "language_info": {
   "codemirror_mode": {
    "name": "ipython",
    "version": 3
   },
   "file_extension": ".py",
   "mimetype": "text/x-python",
   "name": "python",
   "nbconvert_exporter": "python",
   "pygments_lexer": "ipython3",
   "version": "3.9.5"
  },
  "orig_nbformat": 4,
  "kernelspec": {
   "name": "python3",
   "display_name": "Python 3.9.5 64-bit ('scrap': conda)"
  },
  "interpreter": {
   "hash": "4ea3ed2e54355ce89e91b93232dfdad50498b45cbf76d90a32e5b94d03490e3d"
  },
  "metadata": {
   "interpreter": {
    "hash": "e521b636c6a5a9046f5b2f587de9f0714520fcc32e4dd888509bb5fbc50b938b"
   }
  }
 },
 "nbformat": 4,
 "nbformat_minor": 2,
 "cells": [
  {
   "source": [
    "# Synopsis-to-Vector"
   ],
   "cell_type": "markdown",
   "metadata": {}
  },
  {
   "cell_type": "code",
   "execution_count": 1,
   "metadata": {},
   "outputs": [],
   "source": [
    "import numpy as np\n",
    "import pandas as pd\n",
    "import pickle\n",
    "import math"
   ]
  },
  {
   "source": [
    "## Load Pre-trained CBOW Parameters"
   ],
   "cell_type": "markdown",
   "metadata": {}
  },
  {
   "cell_type": "code",
   "execution_count": 2,
   "metadata": {},
   "outputs": [],
   "source": [
    "pkl_file = 'cbow_params.pkl'\n",
    "\n",
    "with open(pkl_file, 'rb') as f:\n",
    "    params = pickle.load(f)\n",
    "    word_vecs = params['word_vecs']\n",
    "    word_to_id = params['word_to_id']\n",
    "    id_to_word = params['id_to_word']"
   ]
  },
  {
   "source": [
    "## Get TF-IDF from synopsis.csv"
   ],
   "cell_type": "markdown",
   "metadata": {}
  },
  {
   "source": [
    "### Load Cleaned Synopsis Data"
   ],
   "cell_type": "markdown",
   "metadata": {}
  },
  {
   "cell_type": "code",
   "execution_count": 3,
   "metadata": {},
   "outputs": [
    {
     "output_type": "execute_result",
     "data": {
      "text/plain": [
       "   MAL_ID                                           Synopsis\n",
       "0       1  solar leaving surface planet earth solar polic...\n",
       "1       5  day life crew routine interrupted chasing targ...\n",
       "2       6  head reason waste oppose entire cities fun tit...\n",
       "3       7  individuals powers mind control robin craft us...\n",
       "4       8  dark century people suffering rule manipulate ..."
      ],
      "text/html": "<div>\n<style scoped>\n    .dataframe tbody tr th:only-of-type {\n        vertical-align: middle;\n    }\n\n    .dataframe tbody tr th {\n        vertical-align: top;\n    }\n\n    .dataframe thead th {\n        text-align: right;\n    }\n</style>\n<table border=\"1\" class=\"dataframe\">\n  <thead>\n    <tr style=\"text-align: right;\">\n      <th></th>\n      <th>MAL_ID</th>\n      <th>Synopsis</th>\n    </tr>\n  </thead>\n  <tbody>\n    <tr>\n      <th>0</th>\n      <td>1</td>\n      <td>solar leaving surface planet earth solar polic...</td>\n    </tr>\n    <tr>\n      <th>1</th>\n      <td>5</td>\n      <td>day life crew routine interrupted chasing targ...</td>\n    </tr>\n    <tr>\n      <th>2</th>\n      <td>6</td>\n      <td>head reason waste oppose entire cities fun tit...</td>\n    </tr>\n    <tr>\n      <th>3</th>\n      <td>7</td>\n      <td>individuals powers mind control robin craft us...</td>\n    </tr>\n    <tr>\n      <th>4</th>\n      <td>8</td>\n      <td>dark century people suffering rule manipulate ...</td>\n    </tr>\n  </tbody>\n</table>\n</div>"
     },
     "metadata": {},
     "execution_count": 3
    }
   ],
   "source": [
    "synopsis = pd.read_csv('../clean_data/synopsis.csv')\n",
    "synopsis.head()"
   ]
  },
  {
   "source": [
    "### Get Word Set from Synopsis Data"
   ],
   "cell_type": "markdown",
   "metadata": {}
  },
  {
   "cell_type": "code",
   "execution_count": 4,
   "metadata": {},
   "outputs": [],
   "source": [
    "syns = synopsis.Synopsis.str.findall('\\w+')\n",
    "\n",
    "vocab = set()\n",
    "for syn in syns:\n",
    "    vocab.update(syn)\n",
    "\n",
    "vocab = sorted(list(vocab))\n",
    "vocab_size = len(vocab)"
   ]
  },
  {
   "source": [
    "### Get TF(Term Frequency)"
   ],
   "cell_type": "markdown",
   "metadata": {}
  },
  {
   "cell_type": "code",
   "execution_count": 5,
   "metadata": {},
   "outputs": [
    {
     "output_type": "execute_result",
     "data": {
      "text/plain": [
       "(6000, 5921)"
      ]
     },
     "metadata": {},
     "execution_count": 5
    }
   ],
   "source": [
    "def get_tf(word, syn):\n",
    "    # Term Frequency\n",
    "    return syn.count(word)\n",
    "\n",
    "    \n",
    "tf = []\n",
    "for syn in syns:\n",
    "    tf_syn = []\n",
    "    for word in vocab:\n",
    "        tf_syn.append(get_tf(word, syn))\n",
    "    tf.append(tf_syn)\n",
    "\n",
    "tf = np.asarray(tf)\n",
    "tf.shape"
   ]
  },
  {
   "source": [
    "### Get IDF(Inverse Document Frequency)"
   ],
   "cell_type": "markdown",
   "metadata": {}
  },
  {
   "cell_type": "code",
   "execution_count": 6,
   "metadata": {},
   "outputs": [
    {
     "output_type": "execute_result",
     "data": {
      "text/plain": [
       "(5921,)"
      ]
     },
     "metadata": {},
     "execution_count": 6
    }
   ],
   "source": [
    "def get_idf(term):\n",
    "    # Inverse Document Frequency\n",
    "    _df = 0\n",
    "    for syn in syns:\n",
    "        _df += int(word in syn)\n",
    "    return math.log(vocab_size/(_df))\n",
    "\n",
    "\n",
    "idf = []\n",
    "for word in vocab:\n",
    "    idf.append(get_idf(word))\n",
    "\n",
    "idf = np.asarray(idf)\n",
    "idf.shape"
   ]
  },
  {
   "source": [
    "### Get TF-IDF Table"
   ],
   "cell_type": "markdown",
   "metadata": {}
  },
  {
   "cell_type": "code",
   "execution_count": 7,
   "metadata": {},
   "outputs": [],
   "source": [
    "tf_idf = pd.DataFrame(tf * idf, columns=vocab)"
   ]
  },
  {
   "source": [
    "## Generate Sentence Vector of Synopsis"
   ],
   "cell_type": "markdown",
   "metadata": {}
  },
  {
   "cell_type": "code",
   "execution_count": 8,
   "metadata": {},
   "outputs": [],
   "source": [
    "def get_word_vec(word):\n",
    "    return word_vecs[word_to_id[word]]\n",
    "\n",
    "def get_tf_idf(word, i):\n",
    "    return tf_idf.loc[i, word]\n",
    "\n",
    "def get_sent_vec(i):\n",
    "    sent_vec = np.zeros(100, dtype=np.float16)\n",
    "\n",
    "    for word in set(syns[i]):\n",
    "        sent_vec += get_word_vec(word) * get_tf_idf(word, i)\n",
    "    \n",
    "    return sent_vec / len(set(syns[i]))"
   ]
  },
  {
   "cell_type": "code",
   "execution_count": 9,
   "metadata": {},
   "outputs": [
    {
     "output_type": "execute_result",
     "data": {
      "text/plain": [
       "            0         1         2         3         4         5         6   \\\n",
       "0    -0.115601 -3.925781  0.509766  1.327148  2.687500  1.792969 -1.769531   \n",
       "1     2.310547 -2.365234 -0.012993  2.703125  1.200195  3.167969 -1.358398   \n",
       "2    -0.225830 -2.601562 -0.183716  2.042969  1.671875  1.954102 -1.366211   \n",
       "3     0.845703 -0.527344  0.271729  0.752930  1.575195  2.496094 -1.654297   \n",
       "4     1.522461 -2.654297  0.423584  1.816406  2.027344  1.694336  0.607422   \n",
       "...        ...       ...       ...       ...       ...       ...       ...   \n",
       "5995  0.908691 -1.424805  1.901367  2.382812  1.666992  0.900879 -1.927734   \n",
       "5996  2.140625 -1.451172  0.351074  2.123047  0.429199 -0.171631 -0.984375   \n",
       "5997  1.147461 -2.382812  0.937988  0.431152  1.121094  2.529297 -1.701172   \n",
       "5998  0.945801 -1.449219 -0.097412  0.824707  1.160156  1.100586 -0.375732   \n",
       "5999  0.497070 -2.679688  1.884766  2.304688  1.572266  1.056641 -1.542969   \n",
       "\n",
       "            7         8         9   ...        90        91        92  \\\n",
       "0    -1.252930 -1.898438  1.072266  ...  0.862305 -0.738770 -1.119141   \n",
       "1    -2.605469 -1.960938 -0.566406  ...  0.494141 -0.946289 -0.938965   \n",
       "2    -2.914062 -0.161499  0.051636  ... -1.436523 -1.020508 -2.537109   \n",
       "3    -2.703125 -2.267578  1.470703  ... -0.368164 -1.790039 -1.804688   \n",
       "4    -1.332031 -1.022461  0.937500  ...  1.650391 -1.703125 -2.478516   \n",
       "...        ...       ...       ...  ...       ...       ...       ...   \n",
       "5995 -0.842773 -1.282227  1.338867  ...  1.072266 -0.566406 -1.357422   \n",
       "5996 -2.195312 -2.027344  1.022461  ... -0.836426 -1.898438 -2.449219   \n",
       "5997 -1.219727 -1.711914  1.555664  ...  0.712891 -0.081726 -1.974609   \n",
       "5998 -2.132812 -0.812012  2.248047  ...  1.913086  0.848633 -1.115234   \n",
       "5999 -1.457031 -0.790527  0.038239  ...  0.216064 -0.189453 -1.702148   \n",
       "\n",
       "            93        94        95        96        97        98        99  \n",
       "0    -0.729004  1.063477  1.273438 -0.246826  1.380859  1.921875  2.218750  \n",
       "1    -0.260742  2.087891  1.499023 -0.222168  0.645996  2.220703  0.959473  \n",
       "2    -2.455078  2.015625  1.945312  0.623047  1.704102  2.359375  1.232422  \n",
       "3    -2.478516  2.880859  0.426514 -0.583008  3.107422  0.838867  1.043945  \n",
       "4    -4.484375  1.400391  0.638672  0.058136  1.249023  2.455078  2.515625  \n",
       "...        ...       ...       ...       ...       ...       ...       ...  \n",
       "5995 -2.285156  0.418213  1.647461  0.828125  1.503906  2.166016  2.941406  \n",
       "5996 -2.021484  1.229492  0.563477 -1.253906  2.990234  2.492188  1.021484  \n",
       "5997 -0.666992  2.468750  0.973145  1.821289 -0.183350  2.945312  0.713867  \n",
       "5998 -1.066406  1.033203  1.030273 -0.781250  0.202759  2.701172  1.934570  \n",
       "5999 -0.250732  0.733398  1.455078 -0.268311  0.605469  0.782227  1.386719  \n",
       "\n",
       "[6000 rows x 100 columns]"
      ],
      "text/html": "<div>\n<style scoped>\n    .dataframe tbody tr th:only-of-type {\n        vertical-align: middle;\n    }\n\n    .dataframe tbody tr th {\n        vertical-align: top;\n    }\n\n    .dataframe thead th {\n        text-align: right;\n    }\n</style>\n<table border=\"1\" class=\"dataframe\">\n  <thead>\n    <tr style=\"text-align: right;\">\n      <th></th>\n      <th>0</th>\n      <th>1</th>\n      <th>2</th>\n      <th>3</th>\n      <th>4</th>\n      <th>5</th>\n      <th>6</th>\n      <th>7</th>\n      <th>8</th>\n      <th>9</th>\n      <th>...</th>\n      <th>90</th>\n      <th>91</th>\n      <th>92</th>\n      <th>93</th>\n      <th>94</th>\n      <th>95</th>\n      <th>96</th>\n      <th>97</th>\n      <th>98</th>\n      <th>99</th>\n    </tr>\n  </thead>\n  <tbody>\n    <tr>\n      <th>0</th>\n      <td>-0.115601</td>\n      <td>-3.925781</td>\n      <td>0.509766</td>\n      <td>1.327148</td>\n      <td>2.687500</td>\n      <td>1.792969</td>\n      <td>-1.769531</td>\n      <td>-1.252930</td>\n      <td>-1.898438</td>\n      <td>1.072266</td>\n      <td>...</td>\n      <td>0.862305</td>\n      <td>-0.738770</td>\n      <td>-1.119141</td>\n      <td>-0.729004</td>\n      <td>1.063477</td>\n      <td>1.273438</td>\n      <td>-0.246826</td>\n      <td>1.380859</td>\n      <td>1.921875</td>\n      <td>2.218750</td>\n    </tr>\n    <tr>\n      <th>1</th>\n      <td>2.310547</td>\n      <td>-2.365234</td>\n      <td>-0.012993</td>\n      <td>2.703125</td>\n      <td>1.200195</td>\n      <td>3.167969</td>\n      <td>-1.358398</td>\n      <td>-2.605469</td>\n      <td>-1.960938</td>\n      <td>-0.566406</td>\n      <td>...</td>\n      <td>0.494141</td>\n      <td>-0.946289</td>\n      <td>-0.938965</td>\n      <td>-0.260742</td>\n      <td>2.087891</td>\n      <td>1.499023</td>\n      <td>-0.222168</td>\n      <td>0.645996</td>\n      <td>2.220703</td>\n      <td>0.959473</td>\n    </tr>\n    <tr>\n      <th>2</th>\n      <td>-0.225830</td>\n      <td>-2.601562</td>\n      <td>-0.183716</td>\n      <td>2.042969</td>\n      <td>1.671875</td>\n      <td>1.954102</td>\n      <td>-1.366211</td>\n      <td>-2.914062</td>\n      <td>-0.161499</td>\n      <td>0.051636</td>\n      <td>...</td>\n      <td>-1.436523</td>\n      <td>-1.020508</td>\n      <td>-2.537109</td>\n      <td>-2.455078</td>\n      <td>2.015625</td>\n      <td>1.945312</td>\n      <td>0.623047</td>\n      <td>1.704102</td>\n      <td>2.359375</td>\n      <td>1.232422</td>\n    </tr>\n    <tr>\n      <th>3</th>\n      <td>0.845703</td>\n      <td>-0.527344</td>\n      <td>0.271729</td>\n      <td>0.752930</td>\n      <td>1.575195</td>\n      <td>2.496094</td>\n      <td>-1.654297</td>\n      <td>-2.703125</td>\n      <td>-2.267578</td>\n      <td>1.470703</td>\n      <td>...</td>\n      <td>-0.368164</td>\n      <td>-1.790039</td>\n      <td>-1.804688</td>\n      <td>-2.478516</td>\n      <td>2.880859</td>\n      <td>0.426514</td>\n      <td>-0.583008</td>\n      <td>3.107422</td>\n      <td>0.838867</td>\n      <td>1.043945</td>\n    </tr>\n    <tr>\n      <th>4</th>\n      <td>1.522461</td>\n      <td>-2.654297</td>\n      <td>0.423584</td>\n      <td>1.816406</td>\n      <td>2.027344</td>\n      <td>1.694336</td>\n      <td>0.607422</td>\n      <td>-1.332031</td>\n      <td>-1.022461</td>\n      <td>0.937500</td>\n      <td>...</td>\n      <td>1.650391</td>\n      <td>-1.703125</td>\n      <td>-2.478516</td>\n      <td>-4.484375</td>\n      <td>1.400391</td>\n      <td>0.638672</td>\n      <td>0.058136</td>\n      <td>1.249023</td>\n      <td>2.455078</td>\n      <td>2.515625</td>\n    </tr>\n    <tr>\n      <th>...</th>\n      <td>...</td>\n      <td>...</td>\n      <td>...</td>\n      <td>...</td>\n      <td>...</td>\n      <td>...</td>\n      <td>...</td>\n      <td>...</td>\n      <td>...</td>\n      <td>...</td>\n      <td>...</td>\n      <td>...</td>\n      <td>...</td>\n      <td>...</td>\n      <td>...</td>\n      <td>...</td>\n      <td>...</td>\n      <td>...</td>\n      <td>...</td>\n      <td>...</td>\n      <td>...</td>\n    </tr>\n    <tr>\n      <th>5995</th>\n      <td>0.908691</td>\n      <td>-1.424805</td>\n      <td>1.901367</td>\n      <td>2.382812</td>\n      <td>1.666992</td>\n      <td>0.900879</td>\n      <td>-1.927734</td>\n      <td>-0.842773</td>\n      <td>-1.282227</td>\n      <td>1.338867</td>\n      <td>...</td>\n      <td>1.072266</td>\n      <td>-0.566406</td>\n      <td>-1.357422</td>\n      <td>-2.285156</td>\n      <td>0.418213</td>\n      <td>1.647461</td>\n      <td>0.828125</td>\n      <td>1.503906</td>\n      <td>2.166016</td>\n      <td>2.941406</td>\n    </tr>\n    <tr>\n      <th>5996</th>\n      <td>2.140625</td>\n      <td>-1.451172</td>\n      <td>0.351074</td>\n      <td>2.123047</td>\n      <td>0.429199</td>\n      <td>-0.171631</td>\n      <td>-0.984375</td>\n      <td>-2.195312</td>\n      <td>-2.027344</td>\n      <td>1.022461</td>\n      <td>...</td>\n      <td>-0.836426</td>\n      <td>-1.898438</td>\n      <td>-2.449219</td>\n      <td>-2.021484</td>\n      <td>1.229492</td>\n      <td>0.563477</td>\n      <td>-1.253906</td>\n      <td>2.990234</td>\n      <td>2.492188</td>\n      <td>1.021484</td>\n    </tr>\n    <tr>\n      <th>5997</th>\n      <td>1.147461</td>\n      <td>-2.382812</td>\n      <td>0.937988</td>\n      <td>0.431152</td>\n      <td>1.121094</td>\n      <td>2.529297</td>\n      <td>-1.701172</td>\n      <td>-1.219727</td>\n      <td>-1.711914</td>\n      <td>1.555664</td>\n      <td>...</td>\n      <td>0.712891</td>\n      <td>-0.081726</td>\n      <td>-1.974609</td>\n      <td>-0.666992</td>\n      <td>2.468750</td>\n      <td>0.973145</td>\n      <td>1.821289</td>\n      <td>-0.183350</td>\n      <td>2.945312</td>\n      <td>0.713867</td>\n    </tr>\n    <tr>\n      <th>5998</th>\n      <td>0.945801</td>\n      <td>-1.449219</td>\n      <td>-0.097412</td>\n      <td>0.824707</td>\n      <td>1.160156</td>\n      <td>1.100586</td>\n      <td>-0.375732</td>\n      <td>-2.132812</td>\n      <td>-0.812012</td>\n      <td>2.248047</td>\n      <td>...</td>\n      <td>1.913086</td>\n      <td>0.848633</td>\n      <td>-1.115234</td>\n      <td>-1.066406</td>\n      <td>1.033203</td>\n      <td>1.030273</td>\n      <td>-0.781250</td>\n      <td>0.202759</td>\n      <td>2.701172</td>\n      <td>1.934570</td>\n    </tr>\n    <tr>\n      <th>5999</th>\n      <td>0.497070</td>\n      <td>-2.679688</td>\n      <td>1.884766</td>\n      <td>2.304688</td>\n      <td>1.572266</td>\n      <td>1.056641</td>\n      <td>-1.542969</td>\n      <td>-1.457031</td>\n      <td>-0.790527</td>\n      <td>0.038239</td>\n      <td>...</td>\n      <td>0.216064</td>\n      <td>-0.189453</td>\n      <td>-1.702148</td>\n      <td>-0.250732</td>\n      <td>0.733398</td>\n      <td>1.455078</td>\n      <td>-0.268311</td>\n      <td>0.605469</td>\n      <td>0.782227</td>\n      <td>1.386719</td>\n    </tr>\n  </tbody>\n</table>\n<p>6000 rows × 100 columns</p>\n</div>"
     },
     "metadata": {},
     "execution_count": 9
    }
   ],
   "source": [
    "full_sent_vec = []\n",
    "for i in range(len(syns)):\n",
    "    full_sent_vec.append(get_sent_vec(i))\n",
    "    \n",
    "sent_vec_df = pd.DataFrame(full_sent_vec)\n",
    "sent_vec_df"
   ]
  },
  {
   "cell_type": "code",
   "execution_count": 10,
   "metadata": {},
   "outputs": [
    {
     "output_type": "execute_result",
     "data": {
      "text/plain": [
       "      MAL_ID         0         1         2         3         4         5  \\\n",
       "0          1 -0.115601 -3.925781  0.509766  1.327148  2.687500  1.792969   \n",
       "1          5  2.310547 -2.365234 -0.012993  2.703125  1.200195  3.167969   \n",
       "2          6 -0.225830 -2.601562 -0.183716  2.042969  1.671875  1.954102   \n",
       "3          7  0.845703 -0.527344  0.271729  0.752930  1.575195  2.496094   \n",
       "4          8  1.522461 -2.654297  0.423584  1.816406  2.027344  1.694336   \n",
       "...      ...       ...       ...       ...       ...       ...       ...   \n",
       "5995   48438  0.908691 -1.424805  1.901367  2.382812  1.666992  0.900879   \n",
       "5996   48466  2.140625 -1.451172  0.351074  2.123047  0.429199 -0.171631   \n",
       "5997   48470  1.147461 -2.382812  0.937988  0.431152  1.121094  2.529297   \n",
       "5998   48483  0.945801 -1.449219 -0.097412  0.824707  1.160156  1.100586   \n",
       "5999   48492  0.497070 -2.679688  1.884766  2.304688  1.572266  1.056641   \n",
       "\n",
       "             6         7         8  ...        90        91        92  \\\n",
       "0    -1.769531 -1.252930 -1.898438  ...  0.862305 -0.738770 -1.119141   \n",
       "1    -1.358398 -2.605469 -1.960938  ...  0.494141 -0.946289 -0.938965   \n",
       "2    -1.366211 -2.914062 -0.161499  ... -1.436523 -1.020508 -2.537109   \n",
       "3    -1.654297 -2.703125 -2.267578  ... -0.368164 -1.790039 -1.804688   \n",
       "4     0.607422 -1.332031 -1.022461  ...  1.650391 -1.703125 -2.478516   \n",
       "...        ...       ...       ...  ...       ...       ...       ...   \n",
       "5995 -1.927734 -0.842773 -1.282227  ...  1.072266 -0.566406 -1.357422   \n",
       "5996 -0.984375 -2.195312 -2.027344  ... -0.836426 -1.898438 -2.449219   \n",
       "5997 -1.701172 -1.219727 -1.711914  ...  0.712891 -0.081726 -1.974609   \n",
       "5998 -0.375732 -2.132812 -0.812012  ...  1.913086  0.848633 -1.115234   \n",
       "5999 -1.542969 -1.457031 -0.790527  ...  0.216064 -0.189453 -1.702148   \n",
       "\n",
       "            93        94        95        96        97        98        99  \n",
       "0    -0.729004  1.063477  1.273438 -0.246826  1.380859  1.921875  2.218750  \n",
       "1    -0.260742  2.087891  1.499023 -0.222168  0.645996  2.220703  0.959473  \n",
       "2    -2.455078  2.015625  1.945312  0.623047  1.704102  2.359375  1.232422  \n",
       "3    -2.478516  2.880859  0.426514 -0.583008  3.107422  0.838867  1.043945  \n",
       "4    -4.484375  1.400391  0.638672  0.058136  1.249023  2.455078  2.515625  \n",
       "...        ...       ...       ...       ...       ...       ...       ...  \n",
       "5995 -2.285156  0.418213  1.647461  0.828125  1.503906  2.166016  2.941406  \n",
       "5996 -2.021484  1.229492  0.563477 -1.253906  2.990234  2.492188  1.021484  \n",
       "5997 -0.666992  2.468750  0.973145  1.821289 -0.183350  2.945312  0.713867  \n",
       "5998 -1.066406  1.033203  1.030273 -0.781250  0.202759  2.701172  1.934570  \n",
       "5999 -0.250732  0.733398  1.455078 -0.268311  0.605469  0.782227  1.386719  \n",
       "\n",
       "[6000 rows x 101 columns]"
      ],
      "text/html": "<div>\n<style scoped>\n    .dataframe tbody tr th:only-of-type {\n        vertical-align: middle;\n    }\n\n    .dataframe tbody tr th {\n        vertical-align: top;\n    }\n\n    .dataframe thead th {\n        text-align: right;\n    }\n</style>\n<table border=\"1\" class=\"dataframe\">\n  <thead>\n    <tr style=\"text-align: right;\">\n      <th></th>\n      <th>MAL_ID</th>\n      <th>0</th>\n      <th>1</th>\n      <th>2</th>\n      <th>3</th>\n      <th>4</th>\n      <th>5</th>\n      <th>6</th>\n      <th>7</th>\n      <th>8</th>\n      <th>...</th>\n      <th>90</th>\n      <th>91</th>\n      <th>92</th>\n      <th>93</th>\n      <th>94</th>\n      <th>95</th>\n      <th>96</th>\n      <th>97</th>\n      <th>98</th>\n      <th>99</th>\n    </tr>\n  </thead>\n  <tbody>\n    <tr>\n      <th>0</th>\n      <td>1</td>\n      <td>-0.115601</td>\n      <td>-3.925781</td>\n      <td>0.509766</td>\n      <td>1.327148</td>\n      <td>2.687500</td>\n      <td>1.792969</td>\n      <td>-1.769531</td>\n      <td>-1.252930</td>\n      <td>-1.898438</td>\n      <td>...</td>\n      <td>0.862305</td>\n      <td>-0.738770</td>\n      <td>-1.119141</td>\n      <td>-0.729004</td>\n      <td>1.063477</td>\n      <td>1.273438</td>\n      <td>-0.246826</td>\n      <td>1.380859</td>\n      <td>1.921875</td>\n      <td>2.218750</td>\n    </tr>\n    <tr>\n      <th>1</th>\n      <td>5</td>\n      <td>2.310547</td>\n      <td>-2.365234</td>\n      <td>-0.012993</td>\n      <td>2.703125</td>\n      <td>1.200195</td>\n      <td>3.167969</td>\n      <td>-1.358398</td>\n      <td>-2.605469</td>\n      <td>-1.960938</td>\n      <td>...</td>\n      <td>0.494141</td>\n      <td>-0.946289</td>\n      <td>-0.938965</td>\n      <td>-0.260742</td>\n      <td>2.087891</td>\n      <td>1.499023</td>\n      <td>-0.222168</td>\n      <td>0.645996</td>\n      <td>2.220703</td>\n      <td>0.959473</td>\n    </tr>\n    <tr>\n      <th>2</th>\n      <td>6</td>\n      <td>-0.225830</td>\n      <td>-2.601562</td>\n      <td>-0.183716</td>\n      <td>2.042969</td>\n      <td>1.671875</td>\n      <td>1.954102</td>\n      <td>-1.366211</td>\n      <td>-2.914062</td>\n      <td>-0.161499</td>\n      <td>...</td>\n      <td>-1.436523</td>\n      <td>-1.020508</td>\n      <td>-2.537109</td>\n      <td>-2.455078</td>\n      <td>2.015625</td>\n      <td>1.945312</td>\n      <td>0.623047</td>\n      <td>1.704102</td>\n      <td>2.359375</td>\n      <td>1.232422</td>\n    </tr>\n    <tr>\n      <th>3</th>\n      <td>7</td>\n      <td>0.845703</td>\n      <td>-0.527344</td>\n      <td>0.271729</td>\n      <td>0.752930</td>\n      <td>1.575195</td>\n      <td>2.496094</td>\n      <td>-1.654297</td>\n      <td>-2.703125</td>\n      <td>-2.267578</td>\n      <td>...</td>\n      <td>-0.368164</td>\n      <td>-1.790039</td>\n      <td>-1.804688</td>\n      <td>-2.478516</td>\n      <td>2.880859</td>\n      <td>0.426514</td>\n      <td>-0.583008</td>\n      <td>3.107422</td>\n      <td>0.838867</td>\n      <td>1.043945</td>\n    </tr>\n    <tr>\n      <th>4</th>\n      <td>8</td>\n      <td>1.522461</td>\n      <td>-2.654297</td>\n      <td>0.423584</td>\n      <td>1.816406</td>\n      <td>2.027344</td>\n      <td>1.694336</td>\n      <td>0.607422</td>\n      <td>-1.332031</td>\n      <td>-1.022461</td>\n      <td>...</td>\n      <td>1.650391</td>\n      <td>-1.703125</td>\n      <td>-2.478516</td>\n      <td>-4.484375</td>\n      <td>1.400391</td>\n      <td>0.638672</td>\n      <td>0.058136</td>\n      <td>1.249023</td>\n      <td>2.455078</td>\n      <td>2.515625</td>\n    </tr>\n    <tr>\n      <th>...</th>\n      <td>...</td>\n      <td>...</td>\n      <td>...</td>\n      <td>...</td>\n      <td>...</td>\n      <td>...</td>\n      <td>...</td>\n      <td>...</td>\n      <td>...</td>\n      <td>...</td>\n      <td>...</td>\n      <td>...</td>\n      <td>...</td>\n      <td>...</td>\n      <td>...</td>\n      <td>...</td>\n      <td>...</td>\n      <td>...</td>\n      <td>...</td>\n      <td>...</td>\n      <td>...</td>\n    </tr>\n    <tr>\n      <th>5995</th>\n      <td>48438</td>\n      <td>0.908691</td>\n      <td>-1.424805</td>\n      <td>1.901367</td>\n      <td>2.382812</td>\n      <td>1.666992</td>\n      <td>0.900879</td>\n      <td>-1.927734</td>\n      <td>-0.842773</td>\n      <td>-1.282227</td>\n      <td>...</td>\n      <td>1.072266</td>\n      <td>-0.566406</td>\n      <td>-1.357422</td>\n      <td>-2.285156</td>\n      <td>0.418213</td>\n      <td>1.647461</td>\n      <td>0.828125</td>\n      <td>1.503906</td>\n      <td>2.166016</td>\n      <td>2.941406</td>\n    </tr>\n    <tr>\n      <th>5996</th>\n      <td>48466</td>\n      <td>2.140625</td>\n      <td>-1.451172</td>\n      <td>0.351074</td>\n      <td>2.123047</td>\n      <td>0.429199</td>\n      <td>-0.171631</td>\n      <td>-0.984375</td>\n      <td>-2.195312</td>\n      <td>-2.027344</td>\n      <td>...</td>\n      <td>-0.836426</td>\n      <td>-1.898438</td>\n      <td>-2.449219</td>\n      <td>-2.021484</td>\n      <td>1.229492</td>\n      <td>0.563477</td>\n      <td>-1.253906</td>\n      <td>2.990234</td>\n      <td>2.492188</td>\n      <td>1.021484</td>\n    </tr>\n    <tr>\n      <th>5997</th>\n      <td>48470</td>\n      <td>1.147461</td>\n      <td>-2.382812</td>\n      <td>0.937988</td>\n      <td>0.431152</td>\n      <td>1.121094</td>\n      <td>2.529297</td>\n      <td>-1.701172</td>\n      <td>-1.219727</td>\n      <td>-1.711914</td>\n      <td>...</td>\n      <td>0.712891</td>\n      <td>-0.081726</td>\n      <td>-1.974609</td>\n      <td>-0.666992</td>\n      <td>2.468750</td>\n      <td>0.973145</td>\n      <td>1.821289</td>\n      <td>-0.183350</td>\n      <td>2.945312</td>\n      <td>0.713867</td>\n    </tr>\n    <tr>\n      <th>5998</th>\n      <td>48483</td>\n      <td>0.945801</td>\n      <td>-1.449219</td>\n      <td>-0.097412</td>\n      <td>0.824707</td>\n      <td>1.160156</td>\n      <td>1.100586</td>\n      <td>-0.375732</td>\n      <td>-2.132812</td>\n      <td>-0.812012</td>\n      <td>...</td>\n      <td>1.913086</td>\n      <td>0.848633</td>\n      <td>-1.115234</td>\n      <td>-1.066406</td>\n      <td>1.033203</td>\n      <td>1.030273</td>\n      <td>-0.781250</td>\n      <td>0.202759</td>\n      <td>2.701172</td>\n      <td>1.934570</td>\n    </tr>\n    <tr>\n      <th>5999</th>\n      <td>48492</td>\n      <td>0.497070</td>\n      <td>-2.679688</td>\n      <td>1.884766</td>\n      <td>2.304688</td>\n      <td>1.572266</td>\n      <td>1.056641</td>\n      <td>-1.542969</td>\n      <td>-1.457031</td>\n      <td>-0.790527</td>\n      <td>...</td>\n      <td>0.216064</td>\n      <td>-0.189453</td>\n      <td>-1.702148</td>\n      <td>-0.250732</td>\n      <td>0.733398</td>\n      <td>1.455078</td>\n      <td>-0.268311</td>\n      <td>0.605469</td>\n      <td>0.782227</td>\n      <td>1.386719</td>\n    </tr>\n  </tbody>\n</table>\n<p>6000 rows × 101 columns</p>\n</div>"
     },
     "metadata": {},
     "execution_count": 10
    }
   ],
   "source": [
    "sent_vec_df.insert(0, 'MAL_ID', synopsis.MAL_ID)\n",
    "sent_vec_df"
   ]
  },
  {
   "cell_type": "code",
   "execution_count": 11,
   "metadata": {},
   "outputs": [],
   "source": [
    "sent_vec_df.to_csv('synopsis_vector.csv')"
   ]
  }
 ]
}