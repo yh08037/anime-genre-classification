{
 "metadata": {
  "language_info": {
   "codemirror_mode": {
    "name": "ipython",
    "version": 3
   },
   "file_extension": ".py",
   "mimetype": "text/x-python",
   "name": "python",
   "nbconvert_exporter": "python",
   "pygments_lexer": "ipython3",
   "version": "3.9.5"
  },
  "orig_nbformat": 4,
  "kernelspec": {
   "name": "python3",
   "display_name": "Python 3.9.5 64-bit ('scrap': conda)"
  },
  "interpreter": {
   "hash": "4ea3ed2e54355ce89e91b93232dfdad50498b45cbf76d90a32e5b94d03490e3d"
  },
  "metadata": {
   "interpreter": {
    "hash": "e521b636c6a5a9046f5b2f587de9f0714520fcc32e4dd888509bb5fbc50b938b"
   }
  }
 },
 "nbformat": 4,
 "nbformat_minor": 2,
 "cells": [
  {
   "source": [
    "# Synopsis-to-Vector"
   ],
   "cell_type": "markdown",
   "metadata": {}
  },
  {
   "cell_type": "code",
   "execution_count": 1,
   "metadata": {},
   "outputs": [],
   "source": [
    "import numpy as np\n",
    "import pandas as pd\n",
    "import pickle\n",
    "import math"
   ]
  },
  {
   "source": [
    "## Load Pre-trained CBOW Parameters"
   ],
   "cell_type": "markdown",
   "metadata": {}
  },
  {
   "cell_type": "code",
   "execution_count": 2,
   "metadata": {},
   "outputs": [],
   "source": [
    "pkl_file = 'cbow_params.pkl'\n",
    "\n",
    "with open(pkl_file, 'rb') as f:\n",
    "    params = pickle.load(f)\n",
    "    word_vecs = params['word_vecs']\n",
    "    word_to_id = params['word_to_id']\n",
    "    id_to_word = params['id_to_word']"
   ]
  },
  {
   "source": [
    "## Get TF-IDF from synopsis.csv"
   ],
   "cell_type": "markdown",
   "metadata": {}
  },
  {
   "source": [
    "### Load Cleaned Synopsis Data"
   ],
   "cell_type": "markdown",
   "metadata": {}
  },
  {
   "cell_type": "code",
   "execution_count": 3,
   "metadata": {},
   "outputs": [
    {
     "output_type": "execute_result",
     "data": {
      "text/plain": [
       "   MAL_ID                                           Synopsis\n",
       "0       1  solar leaving surface planet earth solar polic...\n",
       "1       5  day life crew routine interrupted chasing targ...\n",
       "2       6  head reason waste oppose entire cities fun tit...\n",
       "3       7  individuals powers mind control robin craft us...\n",
       "4       8  dark century people suffering rule manipulate ..."
      ],
      "text/html": "<div>\n<style scoped>\n    .dataframe tbody tr th:only-of-type {\n        vertical-align: middle;\n    }\n\n    .dataframe tbody tr th {\n        vertical-align: top;\n    }\n\n    .dataframe thead th {\n        text-align: right;\n    }\n</style>\n<table border=\"1\" class=\"dataframe\">\n  <thead>\n    <tr style=\"text-align: right;\">\n      <th></th>\n      <th>MAL_ID</th>\n      <th>Synopsis</th>\n    </tr>\n  </thead>\n  <tbody>\n    <tr>\n      <th>0</th>\n      <td>1</td>\n      <td>solar leaving surface planet earth solar polic...</td>\n    </tr>\n    <tr>\n      <th>1</th>\n      <td>5</td>\n      <td>day life crew routine interrupted chasing targ...</td>\n    </tr>\n    <tr>\n      <th>2</th>\n      <td>6</td>\n      <td>head reason waste oppose entire cities fun tit...</td>\n    </tr>\n    <tr>\n      <th>3</th>\n      <td>7</td>\n      <td>individuals powers mind control robin craft us...</td>\n    </tr>\n    <tr>\n      <th>4</th>\n      <td>8</td>\n      <td>dark century people suffering rule manipulate ...</td>\n    </tr>\n  </tbody>\n</table>\n</div>"
     },
     "metadata": {},
     "execution_count": 3
    }
   ],
   "source": [
    "synopsis = pd.read_csv('../clean_data/synopsis.csv')\n",
    "synopsis.head()"
   ]
  },
  {
   "source": [
    "### Get Word Set from Synopsis Data"
   ],
   "cell_type": "markdown",
   "metadata": {}
  },
  {
   "cell_type": "code",
   "execution_count": 4,
   "metadata": {},
   "outputs": [],
   "source": [
    "syns = synopsis.Synopsis.str.findall('\\w+')\n",
    "\n",
    "vocab = set()\n",
    "for syn in syns:\n",
    "    vocab.update(syn)\n",
    "\n",
    "vocab = sorted(list(vocab))\n",
    "vocab_size = len(vocab)"
   ]
  },
  {
   "source": [
    "### Get TF(Term Frequency)"
   ],
   "cell_type": "markdown",
   "metadata": {}
  },
  {
   "cell_type": "code",
   "execution_count": 5,
   "metadata": {},
   "outputs": [
    {
     "output_type": "execute_result",
     "data": {
      "text/plain": [
       "(6000, 5918)"
      ]
     },
     "metadata": {},
     "execution_count": 5
    }
   ],
   "source": [
    "def get_tf(word, syn):\n",
    "    # Term Frequency\n",
    "    return syn.count(word)\n",
    "\n",
    "    \n",
    "tf = []\n",
    "for syn in syns:\n",
    "    tf_syn = []\n",
    "    for word in vocab:\n",
    "        tf_syn.append(get_tf(word, syn))\n",
    "    tf.append(tf_syn)\n",
    "\n",
    "tf = np.asarray(tf)\n",
    "tf.shape"
   ]
  },
  {
   "source": [
    "### Get IDF(Inverse Document Frequency)"
   ],
   "cell_type": "markdown",
   "metadata": {}
  },
  {
   "cell_type": "code",
   "execution_count": 6,
   "metadata": {},
   "outputs": [
    {
     "output_type": "execute_result",
     "data": {
      "text/plain": [
       "(5918,)"
      ]
     },
     "metadata": {},
     "execution_count": 6
    }
   ],
   "source": [
    "def get_idf(term):\n",
    "    # Inverse Document Frequency\n",
    "    _df = 0\n",
    "    for syn in syns:\n",
    "        _df += int(word in syn)\n",
    "    return math.log(vocab_size/(_df))\n",
    "\n",
    "\n",
    "idf = []\n",
    "for word in vocab:\n",
    "    idf.append(get_idf(word))\n",
    "\n",
    "idf = np.asarray(idf)\n",
    "idf.shape"
   ]
  },
  {
   "source": [
    "### Get TF-IDF Table"
   ],
   "cell_type": "markdown",
   "metadata": {}
  },
  {
   "cell_type": "code",
   "execution_count": 7,
   "metadata": {},
   "outputs": [],
   "source": [
    "tf_idf = pd.DataFrame(tf * idf, columns=vocab)"
   ]
  },
  {
   "source": [
    "## Generate Sentence Vector of Synopsis"
   ],
   "cell_type": "markdown",
   "metadata": {}
  },
  {
   "cell_type": "code",
   "execution_count": 8,
   "metadata": {},
   "outputs": [],
   "source": [
    "def get_word_vec(word):\n",
    "    return word_vecs[word_to_id[word]]\n",
    "\n",
    "def get_tf_idf(word, i):\n",
    "    return tf_idf.loc[i, word]\n",
    "\n",
    "def get_sent_vec(i):\n",
    "    sent_vec = np.zeros(100, dtype=np.float16)\n",
    "\n",
    "    for word in set(syns[i]):\n",
    "        sent_vec += get_word_vec(word) * get_tf_idf(word, i)\n",
    "    \n",
    "    return sent_vec / len(set(syns[i]))"
   ]
  },
  {
   "cell_type": "code",
   "execution_count": 9,
   "metadata": {},
   "outputs": [
    {
     "output_type": "execute_result",
     "data": {
      "text/plain": [
       "            0         1         2         3         4         5         6   \\\n",
       "0    -0.114258 -3.921875  0.508789  1.326172  2.685547  1.787109 -1.767578   \n",
       "1     2.310547 -2.361328 -0.013588  2.707031  1.200195  3.173828 -1.355469   \n",
       "2    -0.225098 -2.595703 -0.183105  2.041016  1.673828  1.951172 -1.366211   \n",
       "3     0.843750 -0.527344  0.271484  0.753906  1.574219  2.496094 -1.651367   \n",
       "4     1.519531 -2.650391  0.423584  1.816406  2.031250  1.693359  0.607910   \n",
       "...        ...       ...       ...       ...       ...       ...       ...   \n",
       "5995  0.906738 -1.422852  1.902344  2.380859  1.666992  0.901367 -1.925781   \n",
       "5996  2.136719 -1.451172  0.351074  2.123047  0.430664 -0.171875 -0.983398   \n",
       "5997  1.148438 -2.382812  0.937500  0.431152  1.121094  2.527344 -1.701172   \n",
       "5998  0.944824 -1.447266 -0.097046  0.824707  1.160156  1.099609 -0.375244   \n",
       "5999  0.497070 -2.675781  1.884766  2.306641  1.570312  1.057617 -1.543945   \n",
       "\n",
       "            7         8         9   ...        90        91        92  \\\n",
       "0    -1.252930 -1.898438  1.073242  ...  0.862305 -0.739746 -1.119141   \n",
       "1    -2.603516 -1.958984 -0.565430  ...  0.492920 -0.945801 -0.937500   \n",
       "2    -2.917969 -0.160645  0.051453  ... -1.433594 -1.019531 -2.537109   \n",
       "3    -2.703125 -2.267578  1.470703  ... -0.368164 -1.789062 -1.804688   \n",
       "4    -1.332031 -1.024414  0.936035  ...  1.652344 -1.700195 -2.478516   \n",
       "...        ...       ...       ...  ...       ...       ...       ...   \n",
       "5995 -0.842773 -1.282227  1.339844  ...  1.072266 -0.565918 -1.355469   \n",
       "5996 -2.193359 -2.029297  1.022461  ... -0.836426 -1.897461 -2.449219   \n",
       "5997 -1.219727 -1.711914  1.555664  ...  0.711914 -0.082581 -1.974609   \n",
       "5998 -2.130859 -0.812500  2.248047  ...  1.913086  0.848145 -1.115234   \n",
       "5999 -1.458984 -0.790527  0.038757  ...  0.216064 -0.190308 -1.702148   \n",
       "\n",
       "            93        94        95        96        97        98        99  \n",
       "0    -0.729004  1.064453  1.273438 -0.246826  1.378906  1.920898  2.220703  \n",
       "1    -0.260986  2.087891  1.500000 -0.222290  0.645020  2.220703  0.959961  \n",
       "2    -2.455078  2.009766  1.945312  0.622559  1.703125  2.357422  1.230469  \n",
       "3    -2.472656  2.876953  0.426025 -0.582031  3.105469  0.837402  1.042969  \n",
       "4    -4.488281  1.403320  0.638672  0.058228  1.249023  2.455078  2.513672  \n",
       "...        ...       ...       ...       ...       ...       ...       ...  \n",
       "5995 -2.287109  0.418945  1.646484  0.829590  1.502930  2.162109  2.939453  \n",
       "5996 -2.019531  1.227539  0.563477 -1.255859  2.986328  2.496094  1.022461  \n",
       "5997 -0.666504  2.468750  0.973633  1.819336 -0.183350  2.941406  0.713867  \n",
       "5998 -1.066406  1.032227  1.030273 -0.781250  0.201294  2.701172  1.934570  \n",
       "5999 -0.251221  0.735352  1.454102 -0.268066  0.604492  0.781738  1.389648  \n",
       "\n",
       "[6000 rows x 100 columns]"
      ],
      "text/html": "<div>\n<style scoped>\n    .dataframe tbody tr th:only-of-type {\n        vertical-align: middle;\n    }\n\n    .dataframe tbody tr th {\n        vertical-align: top;\n    }\n\n    .dataframe thead th {\n        text-align: right;\n    }\n</style>\n<table border=\"1\" class=\"dataframe\">\n  <thead>\n    <tr style=\"text-align: right;\">\n      <th></th>\n      <th>0</th>\n      <th>1</th>\n      <th>2</th>\n      <th>3</th>\n      <th>4</th>\n      <th>5</th>\n      <th>6</th>\n      <th>7</th>\n      <th>8</th>\n      <th>9</th>\n      <th>...</th>\n      <th>90</th>\n      <th>91</th>\n      <th>92</th>\n      <th>93</th>\n      <th>94</th>\n      <th>95</th>\n      <th>96</th>\n      <th>97</th>\n      <th>98</th>\n      <th>99</th>\n    </tr>\n  </thead>\n  <tbody>\n    <tr>\n      <th>0</th>\n      <td>-0.114258</td>\n      <td>-3.921875</td>\n      <td>0.508789</td>\n      <td>1.326172</td>\n      <td>2.685547</td>\n      <td>1.787109</td>\n      <td>-1.767578</td>\n      <td>-1.252930</td>\n      <td>-1.898438</td>\n      <td>1.073242</td>\n      <td>...</td>\n      <td>0.862305</td>\n      <td>-0.739746</td>\n      <td>-1.119141</td>\n      <td>-0.729004</td>\n      <td>1.064453</td>\n      <td>1.273438</td>\n      <td>-0.246826</td>\n      <td>1.378906</td>\n      <td>1.920898</td>\n      <td>2.220703</td>\n    </tr>\n    <tr>\n      <th>1</th>\n      <td>2.310547</td>\n      <td>-2.361328</td>\n      <td>-0.013588</td>\n      <td>2.707031</td>\n      <td>1.200195</td>\n      <td>3.173828</td>\n      <td>-1.355469</td>\n      <td>-2.603516</td>\n      <td>-1.958984</td>\n      <td>-0.565430</td>\n      <td>...</td>\n      <td>0.492920</td>\n      <td>-0.945801</td>\n      <td>-0.937500</td>\n      <td>-0.260986</td>\n      <td>2.087891</td>\n      <td>1.500000</td>\n      <td>-0.222290</td>\n      <td>0.645020</td>\n      <td>2.220703</td>\n      <td>0.959961</td>\n    </tr>\n    <tr>\n      <th>2</th>\n      <td>-0.225098</td>\n      <td>-2.595703</td>\n      <td>-0.183105</td>\n      <td>2.041016</td>\n      <td>1.673828</td>\n      <td>1.951172</td>\n      <td>-1.366211</td>\n      <td>-2.917969</td>\n      <td>-0.160645</td>\n      <td>0.051453</td>\n      <td>...</td>\n      <td>-1.433594</td>\n      <td>-1.019531</td>\n      <td>-2.537109</td>\n      <td>-2.455078</td>\n      <td>2.009766</td>\n      <td>1.945312</td>\n      <td>0.622559</td>\n      <td>1.703125</td>\n      <td>2.357422</td>\n      <td>1.230469</td>\n    </tr>\n    <tr>\n      <th>3</th>\n      <td>0.843750</td>\n      <td>-0.527344</td>\n      <td>0.271484</td>\n      <td>0.753906</td>\n      <td>1.574219</td>\n      <td>2.496094</td>\n      <td>-1.651367</td>\n      <td>-2.703125</td>\n      <td>-2.267578</td>\n      <td>1.470703</td>\n      <td>...</td>\n      <td>-0.368164</td>\n      <td>-1.789062</td>\n      <td>-1.804688</td>\n      <td>-2.472656</td>\n      <td>2.876953</td>\n      <td>0.426025</td>\n      <td>-0.582031</td>\n      <td>3.105469</td>\n      <td>0.837402</td>\n      <td>1.042969</td>\n    </tr>\n    <tr>\n      <th>4</th>\n      <td>1.519531</td>\n      <td>-2.650391</td>\n      <td>0.423584</td>\n      <td>1.816406</td>\n      <td>2.031250</td>\n      <td>1.693359</td>\n      <td>0.607910</td>\n      <td>-1.332031</td>\n      <td>-1.024414</td>\n      <td>0.936035</td>\n      <td>...</td>\n      <td>1.652344</td>\n      <td>-1.700195</td>\n      <td>-2.478516</td>\n      <td>-4.488281</td>\n      <td>1.403320</td>\n      <td>0.638672</td>\n      <td>0.058228</td>\n      <td>1.249023</td>\n      <td>2.455078</td>\n      <td>2.513672</td>\n    </tr>\n    <tr>\n      <th>...</th>\n      <td>...</td>\n      <td>...</td>\n      <td>...</td>\n      <td>...</td>\n      <td>...</td>\n      <td>...</td>\n      <td>...</td>\n      <td>...</td>\n      <td>...</td>\n      <td>...</td>\n      <td>...</td>\n      <td>...</td>\n      <td>...</td>\n      <td>...</td>\n      <td>...</td>\n      <td>...</td>\n      <td>...</td>\n      <td>...</td>\n      <td>...</td>\n      <td>...</td>\n      <td>...</td>\n    </tr>\n    <tr>\n      <th>5995</th>\n      <td>0.906738</td>\n      <td>-1.422852</td>\n      <td>1.902344</td>\n      <td>2.380859</td>\n      <td>1.666992</td>\n      <td>0.901367</td>\n      <td>-1.925781</td>\n      <td>-0.842773</td>\n      <td>-1.282227</td>\n      <td>1.339844</td>\n      <td>...</td>\n      <td>1.072266</td>\n      <td>-0.565918</td>\n      <td>-1.355469</td>\n      <td>-2.287109</td>\n      <td>0.418945</td>\n      <td>1.646484</td>\n      <td>0.829590</td>\n      <td>1.502930</td>\n      <td>2.162109</td>\n      <td>2.939453</td>\n    </tr>\n    <tr>\n      <th>5996</th>\n      <td>2.136719</td>\n      <td>-1.451172</td>\n      <td>0.351074</td>\n      <td>2.123047</td>\n      <td>0.430664</td>\n      <td>-0.171875</td>\n      <td>-0.983398</td>\n      <td>-2.193359</td>\n      <td>-2.029297</td>\n      <td>1.022461</td>\n      <td>...</td>\n      <td>-0.836426</td>\n      <td>-1.897461</td>\n      <td>-2.449219</td>\n      <td>-2.019531</td>\n      <td>1.227539</td>\n      <td>0.563477</td>\n      <td>-1.255859</td>\n      <td>2.986328</td>\n      <td>2.496094</td>\n      <td>1.022461</td>\n    </tr>\n    <tr>\n      <th>5997</th>\n      <td>1.148438</td>\n      <td>-2.382812</td>\n      <td>0.937500</td>\n      <td>0.431152</td>\n      <td>1.121094</td>\n      <td>2.527344</td>\n      <td>-1.701172</td>\n      <td>-1.219727</td>\n      <td>-1.711914</td>\n      <td>1.555664</td>\n      <td>...</td>\n      <td>0.711914</td>\n      <td>-0.082581</td>\n      <td>-1.974609</td>\n      <td>-0.666504</td>\n      <td>2.468750</td>\n      <td>0.973633</td>\n      <td>1.819336</td>\n      <td>-0.183350</td>\n      <td>2.941406</td>\n      <td>0.713867</td>\n    </tr>\n    <tr>\n      <th>5998</th>\n      <td>0.944824</td>\n      <td>-1.447266</td>\n      <td>-0.097046</td>\n      <td>0.824707</td>\n      <td>1.160156</td>\n      <td>1.099609</td>\n      <td>-0.375244</td>\n      <td>-2.130859</td>\n      <td>-0.812500</td>\n      <td>2.248047</td>\n      <td>...</td>\n      <td>1.913086</td>\n      <td>0.848145</td>\n      <td>-1.115234</td>\n      <td>-1.066406</td>\n      <td>1.032227</td>\n      <td>1.030273</td>\n      <td>-0.781250</td>\n      <td>0.201294</td>\n      <td>2.701172</td>\n      <td>1.934570</td>\n    </tr>\n    <tr>\n      <th>5999</th>\n      <td>0.497070</td>\n      <td>-2.675781</td>\n      <td>1.884766</td>\n      <td>2.306641</td>\n      <td>1.570312</td>\n      <td>1.057617</td>\n      <td>-1.543945</td>\n      <td>-1.458984</td>\n      <td>-0.790527</td>\n      <td>0.038757</td>\n      <td>...</td>\n      <td>0.216064</td>\n      <td>-0.190308</td>\n      <td>-1.702148</td>\n      <td>-0.251221</td>\n      <td>0.735352</td>\n      <td>1.454102</td>\n      <td>-0.268066</td>\n      <td>0.604492</td>\n      <td>0.781738</td>\n      <td>1.389648</td>\n    </tr>\n  </tbody>\n</table>\n<p>6000 rows × 100 columns</p>\n</div>"
     },
     "metadata": {},
     "execution_count": 9
    }
   ],
   "source": [
    "full_sent_vec = []\n",
    "for i in range(len(syns)):\n",
    "    full_sent_vec.append(get_sent_vec(i))\n",
    "    \n",
    "sent_vec_df = pd.DataFrame(full_sent_vec)\n",
    "sent_vec_df"
   ]
  },
  {
   "cell_type": "code",
   "execution_count": 10,
   "metadata": {},
   "outputs": [
    {
     "output_type": "execute_result",
     "data": {
      "text/plain": [
       "      MAL_ID         0         1         2         3         4         5  \\\n",
       "0          1 -0.114258 -3.921875  0.508789  1.326172  2.685547  1.787109   \n",
       "1          5  2.310547 -2.361328 -0.013588  2.707031  1.200195  3.173828   \n",
       "2          6 -0.225098 -2.595703 -0.183105  2.041016  1.673828  1.951172   \n",
       "3          7  0.843750 -0.527344  0.271484  0.753906  1.574219  2.496094   \n",
       "4          8  1.519531 -2.650391  0.423584  1.816406  2.031250  1.693359   \n",
       "...      ...       ...       ...       ...       ...       ...       ...   \n",
       "5995   48438  0.906738 -1.422852  1.902344  2.380859  1.666992  0.901367   \n",
       "5996   48466  2.136719 -1.451172  0.351074  2.123047  0.430664 -0.171875   \n",
       "5997   48470  1.148438 -2.382812  0.937500  0.431152  1.121094  2.527344   \n",
       "5998   48483  0.944824 -1.447266 -0.097046  0.824707  1.160156  1.099609   \n",
       "5999   48492  0.497070 -2.675781  1.884766  2.306641  1.570312  1.057617   \n",
       "\n",
       "             6         7         8  ...        90        91        92  \\\n",
       "0    -1.767578 -1.252930 -1.898438  ...  0.862305 -0.739746 -1.119141   \n",
       "1    -1.355469 -2.603516 -1.958984  ...  0.492920 -0.945801 -0.937500   \n",
       "2    -1.366211 -2.917969 -0.160645  ... -1.433594 -1.019531 -2.537109   \n",
       "3    -1.651367 -2.703125 -2.267578  ... -0.368164 -1.789062 -1.804688   \n",
       "4     0.607910 -1.332031 -1.024414  ...  1.652344 -1.700195 -2.478516   \n",
       "...        ...       ...       ...  ...       ...       ...       ...   \n",
       "5995 -1.925781 -0.842773 -1.282227  ...  1.072266 -0.565918 -1.355469   \n",
       "5996 -0.983398 -2.193359 -2.029297  ... -0.836426 -1.897461 -2.449219   \n",
       "5997 -1.701172 -1.219727 -1.711914  ...  0.711914 -0.082581 -1.974609   \n",
       "5998 -0.375244 -2.130859 -0.812500  ...  1.913086  0.848145 -1.115234   \n",
       "5999 -1.543945 -1.458984 -0.790527  ...  0.216064 -0.190308 -1.702148   \n",
       "\n",
       "            93        94        95        96        97        98        99  \n",
       "0    -0.729004  1.064453  1.273438 -0.246826  1.378906  1.920898  2.220703  \n",
       "1    -0.260986  2.087891  1.500000 -0.222290  0.645020  2.220703  0.959961  \n",
       "2    -2.455078  2.009766  1.945312  0.622559  1.703125  2.357422  1.230469  \n",
       "3    -2.472656  2.876953  0.426025 -0.582031  3.105469  0.837402  1.042969  \n",
       "4    -4.488281  1.403320  0.638672  0.058228  1.249023  2.455078  2.513672  \n",
       "...        ...       ...       ...       ...       ...       ...       ...  \n",
       "5995 -2.287109  0.418945  1.646484  0.829590  1.502930  2.162109  2.939453  \n",
       "5996 -2.019531  1.227539  0.563477 -1.255859  2.986328  2.496094  1.022461  \n",
       "5997 -0.666504  2.468750  0.973633  1.819336 -0.183350  2.941406  0.713867  \n",
       "5998 -1.066406  1.032227  1.030273 -0.781250  0.201294  2.701172  1.934570  \n",
       "5999 -0.251221  0.735352  1.454102 -0.268066  0.604492  0.781738  1.389648  \n",
       "\n",
       "[6000 rows x 101 columns]"
      ],
      "text/html": "<div>\n<style scoped>\n    .dataframe tbody tr th:only-of-type {\n        vertical-align: middle;\n    }\n\n    .dataframe tbody tr th {\n        vertical-align: top;\n    }\n\n    .dataframe thead th {\n        text-align: right;\n    }\n</style>\n<table border=\"1\" class=\"dataframe\">\n  <thead>\n    <tr style=\"text-align: right;\">\n      <th></th>\n      <th>MAL_ID</th>\n      <th>0</th>\n      <th>1</th>\n      <th>2</th>\n      <th>3</th>\n      <th>4</th>\n      <th>5</th>\n      <th>6</th>\n      <th>7</th>\n      <th>8</th>\n      <th>...</th>\n      <th>90</th>\n      <th>91</th>\n      <th>92</th>\n      <th>93</th>\n      <th>94</th>\n      <th>95</th>\n      <th>96</th>\n      <th>97</th>\n      <th>98</th>\n      <th>99</th>\n    </tr>\n  </thead>\n  <tbody>\n    <tr>\n      <th>0</th>\n      <td>1</td>\n      <td>-0.114258</td>\n      <td>-3.921875</td>\n      <td>0.508789</td>\n      <td>1.326172</td>\n      <td>2.685547</td>\n      <td>1.787109</td>\n      <td>-1.767578</td>\n      <td>-1.252930</td>\n      <td>-1.898438</td>\n      <td>...</td>\n      <td>0.862305</td>\n      <td>-0.739746</td>\n      <td>-1.119141</td>\n      <td>-0.729004</td>\n      <td>1.064453</td>\n      <td>1.273438</td>\n      <td>-0.246826</td>\n      <td>1.378906</td>\n      <td>1.920898</td>\n      <td>2.220703</td>\n    </tr>\n    <tr>\n      <th>1</th>\n      <td>5</td>\n      <td>2.310547</td>\n      <td>-2.361328</td>\n      <td>-0.013588</td>\n      <td>2.707031</td>\n      <td>1.200195</td>\n      <td>3.173828</td>\n      <td>-1.355469</td>\n      <td>-2.603516</td>\n      <td>-1.958984</td>\n      <td>...</td>\n      <td>0.492920</td>\n      <td>-0.945801</td>\n      <td>-0.937500</td>\n      <td>-0.260986</td>\n      <td>2.087891</td>\n      <td>1.500000</td>\n      <td>-0.222290</td>\n      <td>0.645020</td>\n      <td>2.220703</td>\n      <td>0.959961</td>\n    </tr>\n    <tr>\n      <th>2</th>\n      <td>6</td>\n      <td>-0.225098</td>\n      <td>-2.595703</td>\n      <td>-0.183105</td>\n      <td>2.041016</td>\n      <td>1.673828</td>\n      <td>1.951172</td>\n      <td>-1.366211</td>\n      <td>-2.917969</td>\n      <td>-0.160645</td>\n      <td>...</td>\n      <td>-1.433594</td>\n      <td>-1.019531</td>\n      <td>-2.537109</td>\n      <td>-2.455078</td>\n      <td>2.009766</td>\n      <td>1.945312</td>\n      <td>0.622559</td>\n      <td>1.703125</td>\n      <td>2.357422</td>\n      <td>1.230469</td>\n    </tr>\n    <tr>\n      <th>3</th>\n      <td>7</td>\n      <td>0.843750</td>\n      <td>-0.527344</td>\n      <td>0.271484</td>\n      <td>0.753906</td>\n      <td>1.574219</td>\n      <td>2.496094</td>\n      <td>-1.651367</td>\n      <td>-2.703125</td>\n      <td>-2.267578</td>\n      <td>...</td>\n      <td>-0.368164</td>\n      <td>-1.789062</td>\n      <td>-1.804688</td>\n      <td>-2.472656</td>\n      <td>2.876953</td>\n      <td>0.426025</td>\n      <td>-0.582031</td>\n      <td>3.105469</td>\n      <td>0.837402</td>\n      <td>1.042969</td>\n    </tr>\n    <tr>\n      <th>4</th>\n      <td>8</td>\n      <td>1.519531</td>\n      <td>-2.650391</td>\n      <td>0.423584</td>\n      <td>1.816406</td>\n      <td>2.031250</td>\n      <td>1.693359</td>\n      <td>0.607910</td>\n      <td>-1.332031</td>\n      <td>-1.024414</td>\n      <td>...</td>\n      <td>1.652344</td>\n      <td>-1.700195</td>\n      <td>-2.478516</td>\n      <td>-4.488281</td>\n      <td>1.403320</td>\n      <td>0.638672</td>\n      <td>0.058228</td>\n      <td>1.249023</td>\n      <td>2.455078</td>\n      <td>2.513672</td>\n    </tr>\n    <tr>\n      <th>...</th>\n      <td>...</td>\n      <td>...</td>\n      <td>...</td>\n      <td>...</td>\n      <td>...</td>\n      <td>...</td>\n      <td>...</td>\n      <td>...</td>\n      <td>...</td>\n      <td>...</td>\n      <td>...</td>\n      <td>...</td>\n      <td>...</td>\n      <td>...</td>\n      <td>...</td>\n      <td>...</td>\n      <td>...</td>\n      <td>...</td>\n      <td>...</td>\n      <td>...</td>\n      <td>...</td>\n    </tr>\n    <tr>\n      <th>5995</th>\n      <td>48438</td>\n      <td>0.906738</td>\n      <td>-1.422852</td>\n      <td>1.902344</td>\n      <td>2.380859</td>\n      <td>1.666992</td>\n      <td>0.901367</td>\n      <td>-1.925781</td>\n      <td>-0.842773</td>\n      <td>-1.282227</td>\n      <td>...</td>\n      <td>1.072266</td>\n      <td>-0.565918</td>\n      <td>-1.355469</td>\n      <td>-2.287109</td>\n      <td>0.418945</td>\n      <td>1.646484</td>\n      <td>0.829590</td>\n      <td>1.502930</td>\n      <td>2.162109</td>\n      <td>2.939453</td>\n    </tr>\n    <tr>\n      <th>5996</th>\n      <td>48466</td>\n      <td>2.136719</td>\n      <td>-1.451172</td>\n      <td>0.351074</td>\n      <td>2.123047</td>\n      <td>0.430664</td>\n      <td>-0.171875</td>\n      <td>-0.983398</td>\n      <td>-2.193359</td>\n      <td>-2.029297</td>\n      <td>...</td>\n      <td>-0.836426</td>\n      <td>-1.897461</td>\n      <td>-2.449219</td>\n      <td>-2.019531</td>\n      <td>1.227539</td>\n      <td>0.563477</td>\n      <td>-1.255859</td>\n      <td>2.986328</td>\n      <td>2.496094</td>\n      <td>1.022461</td>\n    </tr>\n    <tr>\n      <th>5997</th>\n      <td>48470</td>\n      <td>1.148438</td>\n      <td>-2.382812</td>\n      <td>0.937500</td>\n      <td>0.431152</td>\n      <td>1.121094</td>\n      <td>2.527344</td>\n      <td>-1.701172</td>\n      <td>-1.219727</td>\n      <td>-1.711914</td>\n      <td>...</td>\n      <td>0.711914</td>\n      <td>-0.082581</td>\n      <td>-1.974609</td>\n      <td>-0.666504</td>\n      <td>2.468750</td>\n      <td>0.973633</td>\n      <td>1.819336</td>\n      <td>-0.183350</td>\n      <td>2.941406</td>\n      <td>0.713867</td>\n    </tr>\n    <tr>\n      <th>5998</th>\n      <td>48483</td>\n      <td>0.944824</td>\n      <td>-1.447266</td>\n      <td>-0.097046</td>\n      <td>0.824707</td>\n      <td>1.160156</td>\n      <td>1.099609</td>\n      <td>-0.375244</td>\n      <td>-2.130859</td>\n      <td>-0.812500</td>\n      <td>...</td>\n      <td>1.913086</td>\n      <td>0.848145</td>\n      <td>-1.115234</td>\n      <td>-1.066406</td>\n      <td>1.032227</td>\n      <td>1.030273</td>\n      <td>-0.781250</td>\n      <td>0.201294</td>\n      <td>2.701172</td>\n      <td>1.934570</td>\n    </tr>\n    <tr>\n      <th>5999</th>\n      <td>48492</td>\n      <td>0.497070</td>\n      <td>-2.675781</td>\n      <td>1.884766</td>\n      <td>2.306641</td>\n      <td>1.570312</td>\n      <td>1.057617</td>\n      <td>-1.543945</td>\n      <td>-1.458984</td>\n      <td>-0.790527</td>\n      <td>...</td>\n      <td>0.216064</td>\n      <td>-0.190308</td>\n      <td>-1.702148</td>\n      <td>-0.251221</td>\n      <td>0.735352</td>\n      <td>1.454102</td>\n      <td>-0.268066</td>\n      <td>0.604492</td>\n      <td>0.781738</td>\n      <td>1.389648</td>\n    </tr>\n  </tbody>\n</table>\n<p>6000 rows × 101 columns</p>\n</div>"
     },
     "metadata": {},
     "execution_count": 10
    }
   ],
   "source": [
    "sent_vec_df.insert(0, 'MAL_ID', synopsis.MAL_ID)\n",
    "sent_vec_df"
   ]
  },
  {
   "cell_type": "code",
   "execution_count": 11,
   "metadata": {},
   "outputs": [],
   "source": [
    "sent_vec_df.to_csv('synopsis_vector.csv', index=False)"
   ]
  }
 ]
}