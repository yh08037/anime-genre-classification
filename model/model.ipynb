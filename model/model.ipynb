{
 "metadata": {
  "language_info": {
   "codemirror_mode": {
    "name": "ipython",
    "version": 3
   },
   "file_extension": ".py",
   "mimetype": "text/x-python",
   "name": "python",
   "nbconvert_exporter": "python",
   "pygments_lexer": "ipython3",
   "version": "3.9.5"
  },
  "orig_nbformat": 4,
  "kernelspec": {
   "name": "python3",
   "display_name": "Python 3.9.5 64-bit ('scrap': conda)"
  },
  "interpreter": {
   "hash": "4ea3ed2e54355ce89e91b93232dfdad50498b45cbf76d90a32e5b94d03490e3d"
  }
 },
 "nbformat": 4,
 "nbformat_minor": 2,
 "cells": [
  {
   "source": [
    "# Multi-Label Classification with MLP"
   ],
   "cell_type": "markdown",
   "metadata": {}
  },
  {
   "cell_type": "code",
   "execution_count": 1,
   "metadata": {},
   "outputs": [],
   "source": [
    "import numpy as np\n",
    "import pandas as pd\n",
    "import matplotlib.pyplot as plt\n",
    "\n",
    "# import os, sys\n",
    "# sys.path.append(os.pardir)\n",
    "\n",
    "from anime_classification import MultiLabelClassifier, Adam, Trainer"
   ]
  },
  {
   "source": [
    "## Load Vectorized Synopsis/Genre Data"
   ],
   "cell_type": "markdown",
   "metadata": {}
  },
  {
   "cell_type": "code",
   "execution_count": 2,
   "metadata": {},
   "outputs": [
    {
     "output_type": "execute_result",
     "data": {
      "text/plain": [
       "   MAL_ID         0         1         2         3         4         5  \\\n",
       "0       1 -0.115356 -3.921875  0.509277  1.326172  2.687500  1.791992   \n",
       "1       5  2.314453 -2.361328 -0.011124  2.701172  1.198242  3.173828   \n",
       "2       6 -0.226196 -2.593750 -0.183350  2.042969  1.671875  1.951172   \n",
       "3       7  0.842773 -0.524902  0.272705  0.753906  1.575195  2.496094   \n",
       "4       8  1.524414 -2.654297  0.425049  1.812500  2.027344  1.693359   \n",
       "\n",
       "          6         7         8  ...        90        91        92        93  \\\n",
       "0 -1.766602 -1.250977 -1.897461  ...  0.864746 -0.738770 -1.119141 -0.729980   \n",
       "1 -1.357422 -2.605469 -1.961914  ...  0.493652 -0.946777 -0.941406 -0.263184   \n",
       "2 -1.369141 -2.914062 -0.160034  ... -1.435547 -1.023438 -2.533203 -2.453125   \n",
       "3 -1.650391 -2.705078 -2.265625  ... -0.366943 -1.791016 -1.803711 -2.474609   \n",
       "4  0.608398 -1.334961 -1.022461  ...  1.652344 -1.702148 -2.476562 -4.484375   \n",
       "\n",
       "         94        95        96        97        98        99  \n",
       "0  1.066406  1.272461 -0.246582  1.377930  1.923828  2.218750  \n",
       "1  2.089844  1.500000 -0.221436  0.643066  2.216797  0.960449  \n",
       "2  2.015625  1.945312  0.621094  1.706055  2.359375  1.230469  \n",
       "3  2.876953  0.427734 -0.583496  3.105469  0.837891  1.042969  \n",
       "4  1.406250  0.638672  0.057343  1.249023  2.455078  2.513672  \n",
       "\n",
       "[5 rows x 101 columns]"
      ],
      "text/html": "<div>\n<style scoped>\n    .dataframe tbody tr th:only-of-type {\n        vertical-align: middle;\n    }\n\n    .dataframe tbody tr th {\n        vertical-align: top;\n    }\n\n    .dataframe thead th {\n        text-align: right;\n    }\n</style>\n<table border=\"1\" class=\"dataframe\">\n  <thead>\n    <tr style=\"text-align: right;\">\n      <th></th>\n      <th>MAL_ID</th>\n      <th>0</th>\n      <th>1</th>\n      <th>2</th>\n      <th>3</th>\n      <th>4</th>\n      <th>5</th>\n      <th>6</th>\n      <th>7</th>\n      <th>8</th>\n      <th>...</th>\n      <th>90</th>\n      <th>91</th>\n      <th>92</th>\n      <th>93</th>\n      <th>94</th>\n      <th>95</th>\n      <th>96</th>\n      <th>97</th>\n      <th>98</th>\n      <th>99</th>\n    </tr>\n  </thead>\n  <tbody>\n    <tr>\n      <th>0</th>\n      <td>1</td>\n      <td>-0.115356</td>\n      <td>-3.921875</td>\n      <td>0.509277</td>\n      <td>1.326172</td>\n      <td>2.687500</td>\n      <td>1.791992</td>\n      <td>-1.766602</td>\n      <td>-1.250977</td>\n      <td>-1.897461</td>\n      <td>...</td>\n      <td>0.864746</td>\n      <td>-0.738770</td>\n      <td>-1.119141</td>\n      <td>-0.729980</td>\n      <td>1.066406</td>\n      <td>1.272461</td>\n      <td>-0.246582</td>\n      <td>1.377930</td>\n      <td>1.923828</td>\n      <td>2.218750</td>\n    </tr>\n    <tr>\n      <th>1</th>\n      <td>5</td>\n      <td>2.314453</td>\n      <td>-2.361328</td>\n      <td>-0.011124</td>\n      <td>2.701172</td>\n      <td>1.198242</td>\n      <td>3.173828</td>\n      <td>-1.357422</td>\n      <td>-2.605469</td>\n      <td>-1.961914</td>\n      <td>...</td>\n      <td>0.493652</td>\n      <td>-0.946777</td>\n      <td>-0.941406</td>\n      <td>-0.263184</td>\n      <td>2.089844</td>\n      <td>1.500000</td>\n      <td>-0.221436</td>\n      <td>0.643066</td>\n      <td>2.216797</td>\n      <td>0.960449</td>\n    </tr>\n    <tr>\n      <th>2</th>\n      <td>6</td>\n      <td>-0.226196</td>\n      <td>-2.593750</td>\n      <td>-0.183350</td>\n      <td>2.042969</td>\n      <td>1.671875</td>\n      <td>1.951172</td>\n      <td>-1.369141</td>\n      <td>-2.914062</td>\n      <td>-0.160034</td>\n      <td>...</td>\n      <td>-1.435547</td>\n      <td>-1.023438</td>\n      <td>-2.533203</td>\n      <td>-2.453125</td>\n      <td>2.015625</td>\n      <td>1.945312</td>\n      <td>0.621094</td>\n      <td>1.706055</td>\n      <td>2.359375</td>\n      <td>1.230469</td>\n    </tr>\n    <tr>\n      <th>3</th>\n      <td>7</td>\n      <td>0.842773</td>\n      <td>-0.524902</td>\n      <td>0.272705</td>\n      <td>0.753906</td>\n      <td>1.575195</td>\n      <td>2.496094</td>\n      <td>-1.650391</td>\n      <td>-2.705078</td>\n      <td>-2.265625</td>\n      <td>...</td>\n      <td>-0.366943</td>\n      <td>-1.791016</td>\n      <td>-1.803711</td>\n      <td>-2.474609</td>\n      <td>2.876953</td>\n      <td>0.427734</td>\n      <td>-0.583496</td>\n      <td>3.105469</td>\n      <td>0.837891</td>\n      <td>1.042969</td>\n    </tr>\n    <tr>\n      <th>4</th>\n      <td>8</td>\n      <td>1.524414</td>\n      <td>-2.654297</td>\n      <td>0.425049</td>\n      <td>1.812500</td>\n      <td>2.027344</td>\n      <td>1.693359</td>\n      <td>0.608398</td>\n      <td>-1.334961</td>\n      <td>-1.022461</td>\n      <td>...</td>\n      <td>1.652344</td>\n      <td>-1.702148</td>\n      <td>-2.476562</td>\n      <td>-4.484375</td>\n      <td>1.406250</td>\n      <td>0.638672</td>\n      <td>0.057343</td>\n      <td>1.249023</td>\n      <td>2.455078</td>\n      <td>2.513672</td>\n    </tr>\n  </tbody>\n</table>\n<p>5 rows × 101 columns</p>\n</div>"
     },
     "metadata": {},
     "execution_count": 2
    }
   ],
   "source": [
    "synop_vec = pd.read_csv('../synopsis_vector/synopsis_vector.csv')\n",
    "synop_vec.head()"
   ]
  },
  {
   "cell_type": "code",
   "execution_count": 3,
   "metadata": {},
   "outputs": [
    {
     "output_type": "execute_result",
     "data": {
      "text/plain": [
       "   MAL_ID  Action  Adventure  Comedy  Drama  Ecchi  Fantasy  Harem  Hentai  \\\n",
       "0       1       1          1       1      1      0        0      0       0   \n",
       "1       5       1          0       0      1      0        0      0       0   \n",
       "2       6       1          1       1      1      0        0      0       0   \n",
       "3       7       1          0       0      1      0        1      0       0   \n",
       "4       8       0          1       0      0      0        1      0       0   \n",
       "\n",
       "   Historical  ...  Romance  School  Sci-Fi  Seinen  Shoujo  Shounen  \\\n",
       "0           0  ...        0       0       1       0       0        0   \n",
       "1           0  ...        0       0       1       0       0        0   \n",
       "2           0  ...        0       0       1       0       0        1   \n",
       "3           0  ...        0       0       0       0       0        0   \n",
       "4           0  ...        0       0       0       0       0        1   \n",
       "\n",
       "   Slice of Life  Sports  Super Power  Supernatural  \n",
       "0              0       0            0             0  \n",
       "1              0       0            0             0  \n",
       "2              0       0            0             0  \n",
       "3              0       0            0             1  \n",
       "4              0       0            0             1  \n",
       "\n",
       "[5 rows x 26 columns]"
      ],
      "text/html": "<div>\n<style scoped>\n    .dataframe tbody tr th:only-of-type {\n        vertical-align: middle;\n    }\n\n    .dataframe tbody tr th {\n        vertical-align: top;\n    }\n\n    .dataframe thead th {\n        text-align: right;\n    }\n</style>\n<table border=\"1\" class=\"dataframe\">\n  <thead>\n    <tr style=\"text-align: right;\">\n      <th></th>\n      <th>MAL_ID</th>\n      <th>Action</th>\n      <th>Adventure</th>\n      <th>Comedy</th>\n      <th>Drama</th>\n      <th>Ecchi</th>\n      <th>Fantasy</th>\n      <th>Harem</th>\n      <th>Hentai</th>\n      <th>Historical</th>\n      <th>...</th>\n      <th>Romance</th>\n      <th>School</th>\n      <th>Sci-Fi</th>\n      <th>Seinen</th>\n      <th>Shoujo</th>\n      <th>Shounen</th>\n      <th>Slice of Life</th>\n      <th>Sports</th>\n      <th>Super Power</th>\n      <th>Supernatural</th>\n    </tr>\n  </thead>\n  <tbody>\n    <tr>\n      <th>0</th>\n      <td>1</td>\n      <td>1</td>\n      <td>1</td>\n      <td>1</td>\n      <td>1</td>\n      <td>0</td>\n      <td>0</td>\n      <td>0</td>\n      <td>0</td>\n      <td>0</td>\n      <td>...</td>\n      <td>0</td>\n      <td>0</td>\n      <td>1</td>\n      <td>0</td>\n      <td>0</td>\n      <td>0</td>\n      <td>0</td>\n      <td>0</td>\n      <td>0</td>\n      <td>0</td>\n    </tr>\n    <tr>\n      <th>1</th>\n      <td>5</td>\n      <td>1</td>\n      <td>0</td>\n      <td>0</td>\n      <td>1</td>\n      <td>0</td>\n      <td>0</td>\n      <td>0</td>\n      <td>0</td>\n      <td>0</td>\n      <td>...</td>\n      <td>0</td>\n      <td>0</td>\n      <td>1</td>\n      <td>0</td>\n      <td>0</td>\n      <td>0</td>\n      <td>0</td>\n      <td>0</td>\n      <td>0</td>\n      <td>0</td>\n    </tr>\n    <tr>\n      <th>2</th>\n      <td>6</td>\n      <td>1</td>\n      <td>1</td>\n      <td>1</td>\n      <td>1</td>\n      <td>0</td>\n      <td>0</td>\n      <td>0</td>\n      <td>0</td>\n      <td>0</td>\n      <td>...</td>\n      <td>0</td>\n      <td>0</td>\n      <td>1</td>\n      <td>0</td>\n      <td>0</td>\n      <td>1</td>\n      <td>0</td>\n      <td>0</td>\n      <td>0</td>\n      <td>0</td>\n    </tr>\n    <tr>\n      <th>3</th>\n      <td>7</td>\n      <td>1</td>\n      <td>0</td>\n      <td>0</td>\n      <td>1</td>\n      <td>0</td>\n      <td>1</td>\n      <td>0</td>\n      <td>0</td>\n      <td>0</td>\n      <td>...</td>\n      <td>0</td>\n      <td>0</td>\n      <td>0</td>\n      <td>0</td>\n      <td>0</td>\n      <td>0</td>\n      <td>0</td>\n      <td>0</td>\n      <td>0</td>\n      <td>1</td>\n    </tr>\n    <tr>\n      <th>4</th>\n      <td>8</td>\n      <td>0</td>\n      <td>1</td>\n      <td>0</td>\n      <td>0</td>\n      <td>0</td>\n      <td>1</td>\n      <td>0</td>\n      <td>0</td>\n      <td>0</td>\n      <td>...</td>\n      <td>0</td>\n      <td>0</td>\n      <td>0</td>\n      <td>0</td>\n      <td>0</td>\n      <td>1</td>\n      <td>0</td>\n      <td>0</td>\n      <td>0</td>\n      <td>1</td>\n    </tr>\n  </tbody>\n</table>\n<p>5 rows × 26 columns</p>\n</div>"
     },
     "metadata": {},
     "execution_count": 3
    }
   ],
   "source": [
    "genre_vec = pd.read_csv('../clean_data/genre.csv')\n",
    "genre_vec.head()"
   ]
  },
  {
   "source": [
    "## Split Train-Test Set"
   ],
   "cell_type": "markdown",
   "metadata": {}
  },
  {
   "cell_type": "code",
   "execution_count": 4,
   "metadata": {},
   "outputs": [],
   "source": [
    "synop_cols = synop_vec.columns.drop('MAL_ID').values\n",
    "genre_cols = genre_vec.columns.drop('MAL_ID').values"
   ]
  },
  {
   "cell_type": "code",
   "execution_count": 5,
   "metadata": {},
   "outputs": [
    {
     "output_type": "execute_result",
     "data": {
      "text/plain": [
       "   MAL_ID         0         1         2         3         4         5  \\\n",
       "0       1 -0.115356 -3.921875  0.509277  1.326172  2.687500  1.791992   \n",
       "1       5  2.314453 -2.361328 -0.011124  2.701172  1.198242  3.173828   \n",
       "2       6 -0.226196 -2.593750 -0.183350  2.042969  1.671875  1.951172   \n",
       "3       7  0.842773 -0.524902  0.272705  0.753906  1.575195  2.496094   \n",
       "4       8  1.524414 -2.654297  0.425049  1.812500  2.027344  1.693359   \n",
       "\n",
       "          6         7         8  ...  Romance  School  Sci-Fi  Seinen  Shoujo  \\\n",
       "0 -1.766602 -1.250977 -1.897461  ...        0       0       1       0       0   \n",
       "1 -1.357422 -2.605469 -1.961914  ...        0       0       1       0       0   \n",
       "2 -1.369141 -2.914062 -0.160034  ...        0       0       1       0       0   \n",
       "3 -1.650391 -2.705078 -2.265625  ...        0       0       0       0       0   \n",
       "4  0.608398 -1.334961 -1.022461  ...        0       0       0       0       0   \n",
       "\n",
       "   Shounen  Slice of Life  Sports  Super Power  Supernatural  \n",
       "0        0              0       0            0             0  \n",
       "1        0              0       0            0             0  \n",
       "2        1              0       0            0             0  \n",
       "3        0              0       0            0             1  \n",
       "4        1              0       0            0             1  \n",
       "\n",
       "[5 rows x 126 columns]"
      ],
      "text/html": "<div>\n<style scoped>\n    .dataframe tbody tr th:only-of-type {\n        vertical-align: middle;\n    }\n\n    .dataframe tbody tr th {\n        vertical-align: top;\n    }\n\n    .dataframe thead th {\n        text-align: right;\n    }\n</style>\n<table border=\"1\" class=\"dataframe\">\n  <thead>\n    <tr style=\"text-align: right;\">\n      <th></th>\n      <th>MAL_ID</th>\n      <th>0</th>\n      <th>1</th>\n      <th>2</th>\n      <th>3</th>\n      <th>4</th>\n      <th>5</th>\n      <th>6</th>\n      <th>7</th>\n      <th>8</th>\n      <th>...</th>\n      <th>Romance</th>\n      <th>School</th>\n      <th>Sci-Fi</th>\n      <th>Seinen</th>\n      <th>Shoujo</th>\n      <th>Shounen</th>\n      <th>Slice of Life</th>\n      <th>Sports</th>\n      <th>Super Power</th>\n      <th>Supernatural</th>\n    </tr>\n  </thead>\n  <tbody>\n    <tr>\n      <th>0</th>\n      <td>1</td>\n      <td>-0.115356</td>\n      <td>-3.921875</td>\n      <td>0.509277</td>\n      <td>1.326172</td>\n      <td>2.687500</td>\n      <td>1.791992</td>\n      <td>-1.766602</td>\n      <td>-1.250977</td>\n      <td>-1.897461</td>\n      <td>...</td>\n      <td>0</td>\n      <td>0</td>\n      <td>1</td>\n      <td>0</td>\n      <td>0</td>\n      <td>0</td>\n      <td>0</td>\n      <td>0</td>\n      <td>0</td>\n      <td>0</td>\n    </tr>\n    <tr>\n      <th>1</th>\n      <td>5</td>\n      <td>2.314453</td>\n      <td>-2.361328</td>\n      <td>-0.011124</td>\n      <td>2.701172</td>\n      <td>1.198242</td>\n      <td>3.173828</td>\n      <td>-1.357422</td>\n      <td>-2.605469</td>\n      <td>-1.961914</td>\n      <td>...</td>\n      <td>0</td>\n      <td>0</td>\n      <td>1</td>\n      <td>0</td>\n      <td>0</td>\n      <td>0</td>\n      <td>0</td>\n      <td>0</td>\n      <td>0</td>\n      <td>0</td>\n    </tr>\n    <tr>\n      <th>2</th>\n      <td>6</td>\n      <td>-0.226196</td>\n      <td>-2.593750</td>\n      <td>-0.183350</td>\n      <td>2.042969</td>\n      <td>1.671875</td>\n      <td>1.951172</td>\n      <td>-1.369141</td>\n      <td>-2.914062</td>\n      <td>-0.160034</td>\n      <td>...</td>\n      <td>0</td>\n      <td>0</td>\n      <td>1</td>\n      <td>0</td>\n      <td>0</td>\n      <td>1</td>\n      <td>0</td>\n      <td>0</td>\n      <td>0</td>\n      <td>0</td>\n    </tr>\n    <tr>\n      <th>3</th>\n      <td>7</td>\n      <td>0.842773</td>\n      <td>-0.524902</td>\n      <td>0.272705</td>\n      <td>0.753906</td>\n      <td>1.575195</td>\n      <td>2.496094</td>\n      <td>-1.650391</td>\n      <td>-2.705078</td>\n      <td>-2.265625</td>\n      <td>...</td>\n      <td>0</td>\n      <td>0</td>\n      <td>0</td>\n      <td>0</td>\n      <td>0</td>\n      <td>0</td>\n      <td>0</td>\n      <td>0</td>\n      <td>0</td>\n      <td>1</td>\n    </tr>\n    <tr>\n      <th>4</th>\n      <td>8</td>\n      <td>1.524414</td>\n      <td>-2.654297</td>\n      <td>0.425049</td>\n      <td>1.812500</td>\n      <td>2.027344</td>\n      <td>1.693359</td>\n      <td>0.608398</td>\n      <td>-1.334961</td>\n      <td>-1.022461</td>\n      <td>...</td>\n      <td>0</td>\n      <td>0</td>\n      <td>0</td>\n      <td>0</td>\n      <td>0</td>\n      <td>1</td>\n      <td>0</td>\n      <td>0</td>\n      <td>0</td>\n      <td>1</td>\n    </tr>\n  </tbody>\n</table>\n<p>5 rows × 126 columns</p>\n</div>"
     },
     "metadata": {},
     "execution_count": 5
    }
   ],
   "source": [
    "full_vec = pd.merge(synop_vec, genre_vec)\n",
    "full_vec.head()"
   ]
  },
  {
   "cell_type": "code",
   "execution_count": 6,
   "metadata": {},
   "outputs": [
    {
     "output_type": "execute_result",
     "data": {
      "text/plain": [
       "   MAL_ID         0         1         2         3         4         5  \\\n",
       "0   42476  1.458984 -0.591797 -0.284180  2.375000  1.500000  2.724609   \n",
       "1    2402 -0.830566 -0.351074  0.873535  0.672852  2.521484  2.886719   \n",
       "2   43007  1.434570 -2.542969  0.030487  1.039062  0.848633  2.320312   \n",
       "3     476  2.265625 -1.636719  1.176758  1.987305  1.779297  1.460938   \n",
       "4    5538  1.288086  1.600586 -1.173828  3.351562  1.021484  1.711914   \n",
       "\n",
       "          6         7         8  ...  Romance  School  Sci-Fi  Seinen  Shoujo  \\\n",
       "0 -0.434814 -2.488281 -2.638672  ...        0       0       0       0       0   \n",
       "1 -1.848633 -0.337158 -0.441406  ...        0       0       0       0       0   \n",
       "2 -1.260742 -2.248047 -0.051025  ...        1       1       0       0       0   \n",
       "3 -1.979492 -1.625000 -2.621094  ...        1       0       0       0       0   \n",
       "4 -0.692871 -1.372070 -2.488281  ...        0       0       0       0       0   \n",
       "\n",
       "   Shounen  Slice of Life  Sports  Super Power  Supernatural  \n",
       "0        0              0       0            0             0  \n",
       "1        1              1       1            0             0  \n",
       "2        0              0       0            0             0  \n",
       "3        0              0       1            0             1  \n",
       "4        1              1       0            0             1  \n",
       "\n",
       "[5 rows x 126 columns]"
      ],
      "text/html": "<div>\n<style scoped>\n    .dataframe tbody tr th:only-of-type {\n        vertical-align: middle;\n    }\n\n    .dataframe tbody tr th {\n        vertical-align: top;\n    }\n\n    .dataframe thead th {\n        text-align: right;\n    }\n</style>\n<table border=\"1\" class=\"dataframe\">\n  <thead>\n    <tr style=\"text-align: right;\">\n      <th></th>\n      <th>MAL_ID</th>\n      <th>0</th>\n      <th>1</th>\n      <th>2</th>\n      <th>3</th>\n      <th>4</th>\n      <th>5</th>\n      <th>6</th>\n      <th>7</th>\n      <th>8</th>\n      <th>...</th>\n      <th>Romance</th>\n      <th>School</th>\n      <th>Sci-Fi</th>\n      <th>Seinen</th>\n      <th>Shoujo</th>\n      <th>Shounen</th>\n      <th>Slice of Life</th>\n      <th>Sports</th>\n      <th>Super Power</th>\n      <th>Supernatural</th>\n    </tr>\n  </thead>\n  <tbody>\n    <tr>\n      <th>0</th>\n      <td>42476</td>\n      <td>1.458984</td>\n      <td>-0.591797</td>\n      <td>-0.284180</td>\n      <td>2.375000</td>\n      <td>1.500000</td>\n      <td>2.724609</td>\n      <td>-0.434814</td>\n      <td>-2.488281</td>\n      <td>-2.638672</td>\n      <td>...</td>\n      <td>0</td>\n      <td>0</td>\n      <td>0</td>\n      <td>0</td>\n      <td>0</td>\n      <td>0</td>\n      <td>0</td>\n      <td>0</td>\n      <td>0</td>\n      <td>0</td>\n    </tr>\n    <tr>\n      <th>1</th>\n      <td>2402</td>\n      <td>-0.830566</td>\n      <td>-0.351074</td>\n      <td>0.873535</td>\n      <td>0.672852</td>\n      <td>2.521484</td>\n      <td>2.886719</td>\n      <td>-1.848633</td>\n      <td>-0.337158</td>\n      <td>-0.441406</td>\n      <td>...</td>\n      <td>0</td>\n      <td>0</td>\n      <td>0</td>\n      <td>0</td>\n      <td>0</td>\n      <td>1</td>\n      <td>1</td>\n      <td>1</td>\n      <td>0</td>\n      <td>0</td>\n    </tr>\n    <tr>\n      <th>2</th>\n      <td>43007</td>\n      <td>1.434570</td>\n      <td>-2.542969</td>\n      <td>0.030487</td>\n      <td>1.039062</td>\n      <td>0.848633</td>\n      <td>2.320312</td>\n      <td>-1.260742</td>\n      <td>-2.248047</td>\n      <td>-0.051025</td>\n      <td>...</td>\n      <td>1</td>\n      <td>1</td>\n      <td>0</td>\n      <td>0</td>\n      <td>0</td>\n      <td>0</td>\n      <td>0</td>\n      <td>0</td>\n      <td>0</td>\n      <td>0</td>\n    </tr>\n    <tr>\n      <th>3</th>\n      <td>476</td>\n      <td>2.265625</td>\n      <td>-1.636719</td>\n      <td>1.176758</td>\n      <td>1.987305</td>\n      <td>1.779297</td>\n      <td>1.460938</td>\n      <td>-1.979492</td>\n      <td>-1.625000</td>\n      <td>-2.621094</td>\n      <td>...</td>\n      <td>1</td>\n      <td>0</td>\n      <td>0</td>\n      <td>0</td>\n      <td>0</td>\n      <td>0</td>\n      <td>0</td>\n      <td>1</td>\n      <td>0</td>\n      <td>1</td>\n    </tr>\n    <tr>\n      <th>4</th>\n      <td>5538</td>\n      <td>1.288086</td>\n      <td>1.600586</td>\n      <td>-1.173828</td>\n      <td>3.351562</td>\n      <td>1.021484</td>\n      <td>1.711914</td>\n      <td>-0.692871</td>\n      <td>-1.372070</td>\n      <td>-2.488281</td>\n      <td>...</td>\n      <td>0</td>\n      <td>0</td>\n      <td>0</td>\n      <td>0</td>\n      <td>0</td>\n      <td>1</td>\n      <td>1</td>\n      <td>0</td>\n      <td>0</td>\n      <td>1</td>\n    </tr>\n  </tbody>\n</table>\n<p>5 rows × 126 columns</p>\n</div>"
     },
     "metadata": {},
     "execution_count": 6
    }
   ],
   "source": [
    "# random shuffle and re-index\n",
    "full_vec = full_vec.sample(frac=1).reset_index(drop=True)\n",
    "full_vec.head()"
   ]
  },
  {
   "cell_type": "code",
   "execution_count": 7,
   "metadata": {},
   "outputs": [],
   "source": [
    "# split dataframe to train-test numpy array\n",
    "train_ratio = 0.95\n",
    "num_train = int(len(full_vec) * train_ratio)\n",
    "\n",
    "x_train = full_vec[synop_cols][:num_train].values\n",
    "t_train = full_vec[genre_cols][:num_train].values\n",
    "id_train = full_vec['MAL_ID'][num_train:].values\n",
    "\n",
    "x_test = full_vec[synop_cols][num_train:].values\n",
    "t_test = full_vec[genre_cols][num_train:].values\n",
    "id_test = full_vec['MAL_ID'][num_train:].values\n",
    "\n",
    "del synop_vec, genre_vec, full_vec"
   ]
  },
  {
   "cell_type": "code",
   "execution_count": 8,
   "metadata": {},
   "outputs": [],
   "source": [
    "# standardization\n",
    "x_train_mean = x_train.mean(axis=0)\n",
    "x_train_std  = x_train.std(axis=0)\n",
    "\n",
    "x_train = (x_train - x_train_mean) / x_train_std\n",
    "x_test  = (x_test  - x_train_mean) / x_train_std"
   ]
  },
  {
   "source": [
    "## Define Model"
   ],
   "cell_type": "markdown",
   "metadata": {}
  },
  {
   "cell_type": "code",
   "execution_count": 9,
   "metadata": {},
   "outputs": [
    {
     "output_type": "stream",
     "name": "stdout",
     "text": [
      "------------------------------------------------------------\nAffine(input_size=100, output_size=50, weight_init=he)\n------------------------------------------------------------\nRelu()\n------------------------------------------------------------\nDropout(dropout_ratio=0.5)\n------------------------------------------------------------\nAffine(input_size=50, output_size=25, weight_init=xavier)\n------------------------------------------------------------\nFocalLoss(gamma=0.5)\n------------------------------------------------------------\n"
     ]
    }
   ],
   "source": [
    "input_size  = len(synop_cols)\n",
    "output_size = len(genre_cols)\n",
    "\n",
    "model = MultiLabelClassifier(input_size=input_size,\n",
    "                             hidden_size_list=[50],\n",
    "                             output_size=output_size,\n",
    "                             use_dropout=True,\n",
    "                             dropout_ratio=0.5,\n",
    "                            #  use_batchnorm=True,\n",
    "                             use_focal_loss=True,\n",
    "                             focal_gamma=0.5)\n",
    "model.summary()"
   ]
  },
  {
   "cell_type": "code",
   "execution_count": 10,
   "metadata": {},
   "outputs": [],
   "source": [
    "optimizer = Adam(lr=0.001)\n",
    "trainer = Trainer(model, optimizer)"
   ]
  },
  {
   "source": [
    "## Train Model"
   ],
   "cell_type": "markdown",
   "metadata": {}
  },
  {
   "cell_type": "code",
   "execution_count": 11,
   "metadata": {
    "tags": []
   },
   "outputs": [
    {
     "output_type": "stream",
     "name": "stdout",
     "text": [
      "| epoch   1 | time   0[s] | train loss 7.76 | val loss 7.88\n",
      "| epoch   2 | time   0[s] | train loss 7.21 | val loss 7.33\n",
      "| epoch   3 | time   0[s] | train loss 7.44 | val loss 7.58\n",
      "| epoch   4 | time   0[s] | train loss 7.49 | val loss 7.66\n",
      "| epoch   5 | time   1[s] | train loss 7.45 | val loss 7.64\n",
      "| epoch   6 | time   1[s] | train loss 7.40 | val loss 7.61\n",
      "| epoch   7 | time   1[s] | train loss 7.33 | val loss 7.58\n",
      "| epoch   8 | time   1[s] | train loss 7.25 | val loss 7.51\n",
      "| epoch   9 | time   1[s] | train loss 7.19 | val loss 7.47\n",
      "| epoch  10 | time   2[s] | train loss 7.14 | val loss 7.44\n",
      "| epoch  11 | time   2[s] | train loss 7.06 | val loss 7.38\n",
      "| epoch  12 | time   2[s] | train loss 7.02 | val loss 7.34\n",
      "| epoch  13 | time   2[s] | train loss 6.98 | val loss 7.32\n",
      "| epoch  14 | time   2[s] | train loss 6.94 | val loss 7.30\n",
      "| epoch  15 | time   3[s] | train loss 6.90 | val loss 7.27\n",
      "| epoch  16 | time   3[s] | train loss 6.86 | val loss 7.23\n",
      "| epoch  17 | time   3[s] | train loss 6.83 | val loss 7.21\n",
      "| epoch  18 | time   3[s] | train loss 6.77 | val loss 7.16\n",
      "| epoch  19 | time   3[s] | train loss 6.74 | val loss 7.14\n",
      "| epoch  20 | time   4[s] | train loss 6.69 | val loss 7.11\n"
     ]
    }
   ],
   "source": [
    "num_epochs = 20\n",
    "batch_size = 100\n",
    "\n",
    "trainer.fit(x_train, t_train, x_test, t_test, \n",
    "            max_epoch=num_epochs, \n",
    "            batch_size=batch_size)"
   ]
  },
  {
   "cell_type": "code",
   "execution_count": 12,
   "metadata": {},
   "outputs": [
    {
     "output_type": "display_data",
     "data": {
      "text/plain": "<Figure size 432x288 with 1 Axes>",
      "image/svg+xml": "<?xml version=\"1.0\" encoding=\"utf-8\" standalone=\"no\"?>\n<!DOCTYPE svg PUBLIC \"-//W3C//DTD SVG 1.1//EN\"\n  \"http://www.w3.org/Graphics/SVG/1.1/DTD/svg11.dtd\">\n<svg height=\"262.19625pt\" version=\"1.1\" viewBox=\"0 0 385.78125 262.19625\" width=\"385.78125pt\" xmlns=\"http://www.w3.org/2000/svg\" xmlns:xlink=\"http://www.w3.org/1999/xlink\">\n <metadata>\n  <rdf:RDF xmlns:cc=\"http://creativecommons.org/ns#\" xmlns:dc=\"http://purl.org/dc/elements/1.1/\" xmlns:rdf=\"http://www.w3.org/1999/02/22-rdf-syntax-ns#\">\n   <cc:Work>\n    <dc:type rdf:resource=\"http://purl.org/dc/dcmitype/StillImage\"/>\n    <dc:date>2021-06-19T18:06:50.221900</dc:date>\n    <dc:format>image/svg+xml</dc:format>\n    <dc:creator>\n     <cc:Agent>\n      <dc:title>Matplotlib v3.4.2, https://matplotlib.org/</dc:title>\n     </cc:Agent>\n    </dc:creator>\n   </cc:Work>\n  </rdf:RDF>\n </metadata>\n <defs>\n  <style type=\"text/css\">*{stroke-linecap:butt;stroke-linejoin:round;}</style>\n </defs>\n <g id=\"figure_1\">\n  <g id=\"patch_1\">\n   <path d=\"M 0 262.19625 \nL 385.78125 262.19625 \nL 385.78125 0 \nL 0 0 \nz\n\" style=\"fill:none;\"/>\n  </g>\n  <g id=\"axes_1\">\n   <g id=\"patch_2\">\n    <path d=\"M 43.78125 224.64 \nL 378.58125 224.64 \nL 378.58125 7.2 \nL 43.78125 7.2 \nz\n\" style=\"fill:#ffffff;\"/>\n   </g>\n   <g id=\"matplotlib.axis_1\">\n    <g id=\"xtick_1\">\n     <g id=\"line2d_1\">\n      <defs>\n       <path d=\"M 0 0 \nL 0 3.5 \n\" id=\"m0fdad7359a\" style=\"stroke:#000000;stroke-width:0.8;\"/>\n      </defs>\n      <g>\n       <use style=\"stroke:#000000;stroke-width:0.8;\" x=\"58.999432\" xlink:href=\"#m0fdad7359a\" y=\"224.64\"/>\n      </g>\n     </g>\n     <g id=\"text_1\">\n      <!-- 0.0 -->\n      <g transform=\"translate(51.047869 239.238438)scale(0.1 -0.1)\">\n       <defs>\n        <path d=\"M 2034 4250 \nQ 1547 4250 1301 3770 \nQ 1056 3291 1056 2328 \nQ 1056 1369 1301 889 \nQ 1547 409 2034 409 \nQ 2525 409 2770 889 \nQ 3016 1369 3016 2328 \nQ 3016 3291 2770 3770 \nQ 2525 4250 2034 4250 \nz\nM 2034 4750 \nQ 2819 4750 3233 4129 \nQ 3647 3509 3647 2328 \nQ 3647 1150 3233 529 \nQ 2819 -91 2034 -91 \nQ 1250 -91 836 529 \nQ 422 1150 422 2328 \nQ 422 3509 836 4129 \nQ 1250 4750 2034 4750 \nz\n\" id=\"DejaVuSans-30\" transform=\"scale(0.015625)\"/>\n        <path d=\"M 684 794 \nL 1344 794 \nL 1344 0 \nL 684 0 \nL 684 794 \nz\n\" id=\"DejaVuSans-2e\" transform=\"scale(0.015625)\"/>\n       </defs>\n       <use xlink:href=\"#DejaVuSans-30\"/>\n       <use x=\"63.623047\" xlink:href=\"#DejaVuSans-2e\"/>\n       <use x=\"95.410156\" xlink:href=\"#DejaVuSans-30\"/>\n      </g>\n     </g>\n    </g>\n    <g id=\"xtick_2\">\n     <g id=\"line2d_2\">\n      <g>\n       <use style=\"stroke:#000000;stroke-width:0.8;\" x=\"99.047279\" xlink:href=\"#m0fdad7359a\" y=\"224.64\"/>\n      </g>\n     </g>\n     <g id=\"text_2\">\n      <!-- 2.5 -->\n      <g transform=\"translate(91.095716 239.238438)scale(0.1 -0.1)\">\n       <defs>\n        <path d=\"M 1228 531 \nL 3431 531 \nL 3431 0 \nL 469 0 \nL 469 531 \nQ 828 903 1448 1529 \nQ 2069 2156 2228 2338 \nQ 2531 2678 2651 2914 \nQ 2772 3150 2772 3378 \nQ 2772 3750 2511 3984 \nQ 2250 4219 1831 4219 \nQ 1534 4219 1204 4116 \nQ 875 4013 500 3803 \nL 500 4441 \nQ 881 4594 1212 4672 \nQ 1544 4750 1819 4750 \nQ 2544 4750 2975 4387 \nQ 3406 4025 3406 3419 \nQ 3406 3131 3298 2873 \nQ 3191 2616 2906 2266 \nQ 2828 2175 2409 1742 \nQ 1991 1309 1228 531 \nz\n\" id=\"DejaVuSans-32\" transform=\"scale(0.015625)\"/>\n        <path d=\"M 691 4666 \nL 3169 4666 \nL 3169 4134 \nL 1269 4134 \nL 1269 2991 \nQ 1406 3038 1543 3061 \nQ 1681 3084 1819 3084 \nQ 2600 3084 3056 2656 \nQ 3513 2228 3513 1497 \nQ 3513 744 3044 326 \nQ 2575 -91 1722 -91 \nQ 1428 -91 1123 -41 \nQ 819 9 494 109 \nL 494 744 \nQ 775 591 1075 516 \nQ 1375 441 1709 441 \nQ 2250 441 2565 725 \nQ 2881 1009 2881 1497 \nQ 2881 1984 2565 2268 \nQ 2250 2553 1709 2553 \nQ 1456 2553 1204 2497 \nQ 953 2441 691 2322 \nL 691 4666 \nz\n\" id=\"DejaVuSans-35\" transform=\"scale(0.015625)\"/>\n       </defs>\n       <use xlink:href=\"#DejaVuSans-32\"/>\n       <use x=\"63.623047\" xlink:href=\"#DejaVuSans-2e\"/>\n       <use x=\"95.410156\" xlink:href=\"#DejaVuSans-35\"/>\n      </g>\n     </g>\n    </g>\n    <g id=\"xtick_3\">\n     <g id=\"line2d_3\">\n      <g>\n       <use style=\"stroke:#000000;stroke-width:0.8;\" x=\"139.095126\" xlink:href=\"#m0fdad7359a\" y=\"224.64\"/>\n      </g>\n     </g>\n     <g id=\"text_3\">\n      <!-- 5.0 -->\n      <g transform=\"translate(131.143563 239.238438)scale(0.1 -0.1)\">\n       <use xlink:href=\"#DejaVuSans-35\"/>\n       <use x=\"63.623047\" xlink:href=\"#DejaVuSans-2e\"/>\n       <use x=\"95.410156\" xlink:href=\"#DejaVuSans-30\"/>\n      </g>\n     </g>\n    </g>\n    <g id=\"xtick_4\">\n     <g id=\"line2d_4\">\n      <g>\n       <use style=\"stroke:#000000;stroke-width:0.8;\" x=\"179.142972\" xlink:href=\"#m0fdad7359a\" y=\"224.64\"/>\n      </g>\n     </g>\n     <g id=\"text_4\">\n      <!-- 7.5 -->\n      <g transform=\"translate(171.19141 239.238438)scale(0.1 -0.1)\">\n       <defs>\n        <path d=\"M 525 4666 \nL 3525 4666 \nL 3525 4397 \nL 1831 0 \nL 1172 0 \nL 2766 4134 \nL 525 4134 \nL 525 4666 \nz\n\" id=\"DejaVuSans-37\" transform=\"scale(0.015625)\"/>\n       </defs>\n       <use xlink:href=\"#DejaVuSans-37\"/>\n       <use x=\"63.623047\" xlink:href=\"#DejaVuSans-2e\"/>\n       <use x=\"95.410156\" xlink:href=\"#DejaVuSans-35\"/>\n      </g>\n     </g>\n    </g>\n    <g id=\"xtick_5\">\n     <g id=\"line2d_5\">\n      <g>\n       <use style=\"stroke:#000000;stroke-width:0.8;\" x=\"219.190819\" xlink:href=\"#m0fdad7359a\" y=\"224.64\"/>\n      </g>\n     </g>\n     <g id=\"text_5\">\n      <!-- 10.0 -->\n      <g transform=\"translate(208.058007 239.238438)scale(0.1 -0.1)\">\n       <defs>\n        <path d=\"M 794 531 \nL 1825 531 \nL 1825 4091 \nL 703 3866 \nL 703 4441 \nL 1819 4666 \nL 2450 4666 \nL 2450 531 \nL 3481 531 \nL 3481 0 \nL 794 0 \nL 794 531 \nz\n\" id=\"DejaVuSans-31\" transform=\"scale(0.015625)\"/>\n       </defs>\n       <use xlink:href=\"#DejaVuSans-31\"/>\n       <use x=\"63.623047\" xlink:href=\"#DejaVuSans-30\"/>\n       <use x=\"127.246094\" xlink:href=\"#DejaVuSans-2e\"/>\n       <use x=\"159.033203\" xlink:href=\"#DejaVuSans-30\"/>\n      </g>\n     </g>\n    </g>\n    <g id=\"xtick_6\">\n     <g id=\"line2d_6\">\n      <g>\n       <use style=\"stroke:#000000;stroke-width:0.8;\" x=\"259.238666\" xlink:href=\"#m0fdad7359a\" y=\"224.64\"/>\n      </g>\n     </g>\n     <g id=\"text_6\">\n      <!-- 12.5 -->\n      <g transform=\"translate(248.105854 239.238438)scale(0.1 -0.1)\">\n       <use xlink:href=\"#DejaVuSans-31\"/>\n       <use x=\"63.623047\" xlink:href=\"#DejaVuSans-32\"/>\n       <use x=\"127.246094\" xlink:href=\"#DejaVuSans-2e\"/>\n       <use x=\"159.033203\" xlink:href=\"#DejaVuSans-35\"/>\n      </g>\n     </g>\n    </g>\n    <g id=\"xtick_7\">\n     <g id=\"line2d_7\">\n      <g>\n       <use style=\"stroke:#000000;stroke-width:0.8;\" x=\"299.286513\" xlink:href=\"#m0fdad7359a\" y=\"224.64\"/>\n      </g>\n     </g>\n     <g id=\"text_7\">\n      <!-- 15.0 -->\n      <g transform=\"translate(288.153701 239.238438)scale(0.1 -0.1)\">\n       <use xlink:href=\"#DejaVuSans-31\"/>\n       <use x=\"63.623047\" xlink:href=\"#DejaVuSans-35\"/>\n       <use x=\"127.246094\" xlink:href=\"#DejaVuSans-2e\"/>\n       <use x=\"159.033203\" xlink:href=\"#DejaVuSans-30\"/>\n      </g>\n     </g>\n    </g>\n    <g id=\"xtick_8\">\n     <g id=\"line2d_8\">\n      <g>\n       <use style=\"stroke:#000000;stroke-width:0.8;\" x=\"339.33436\" xlink:href=\"#m0fdad7359a\" y=\"224.64\"/>\n      </g>\n     </g>\n     <g id=\"text_8\">\n      <!-- 17.5 -->\n      <g transform=\"translate(328.201548 239.238438)scale(0.1 -0.1)\">\n       <use xlink:href=\"#DejaVuSans-31\"/>\n       <use x=\"63.623047\" xlink:href=\"#DejaVuSans-37\"/>\n       <use x=\"127.246094\" xlink:href=\"#DejaVuSans-2e\"/>\n       <use x=\"159.033203\" xlink:href=\"#DejaVuSans-35\"/>\n      </g>\n     </g>\n    </g>\n    <g id=\"text_9\">\n     <!-- Epoch -->\n     <g transform=\"translate(195.870313 252.916563)scale(0.1 -0.1)\">\n      <defs>\n       <path d=\"M 628 4666 \nL 3578 4666 \nL 3578 4134 \nL 1259 4134 \nL 1259 2753 \nL 3481 2753 \nL 3481 2222 \nL 1259 2222 \nL 1259 531 \nL 3634 531 \nL 3634 0 \nL 628 0 \nL 628 4666 \nz\n\" id=\"DejaVuSans-45\" transform=\"scale(0.015625)\"/>\n       <path d=\"M 1159 525 \nL 1159 -1331 \nL 581 -1331 \nL 581 3500 \nL 1159 3500 \nL 1159 2969 \nQ 1341 3281 1617 3432 \nQ 1894 3584 2278 3584 \nQ 2916 3584 3314 3078 \nQ 3713 2572 3713 1747 \nQ 3713 922 3314 415 \nQ 2916 -91 2278 -91 \nQ 1894 -91 1617 61 \nQ 1341 213 1159 525 \nz\nM 3116 1747 \nQ 3116 2381 2855 2742 \nQ 2594 3103 2138 3103 \nQ 1681 3103 1420 2742 \nQ 1159 2381 1159 1747 \nQ 1159 1113 1420 752 \nQ 1681 391 2138 391 \nQ 2594 391 2855 752 \nQ 3116 1113 3116 1747 \nz\n\" id=\"DejaVuSans-70\" transform=\"scale(0.015625)\"/>\n       <path d=\"M 1959 3097 \nQ 1497 3097 1228 2736 \nQ 959 2375 959 1747 \nQ 959 1119 1226 758 \nQ 1494 397 1959 397 \nQ 2419 397 2687 759 \nQ 2956 1122 2956 1747 \nQ 2956 2369 2687 2733 \nQ 2419 3097 1959 3097 \nz\nM 1959 3584 \nQ 2709 3584 3137 3096 \nQ 3566 2609 3566 1747 \nQ 3566 888 3137 398 \nQ 2709 -91 1959 -91 \nQ 1206 -91 779 398 \nQ 353 888 353 1747 \nQ 353 2609 779 3096 \nQ 1206 3584 1959 3584 \nz\n\" id=\"DejaVuSans-6f\" transform=\"scale(0.015625)\"/>\n       <path d=\"M 3122 3366 \nL 3122 2828 \nQ 2878 2963 2633 3030 \nQ 2388 3097 2138 3097 \nQ 1578 3097 1268 2742 \nQ 959 2388 959 1747 \nQ 959 1106 1268 751 \nQ 1578 397 2138 397 \nQ 2388 397 2633 464 \nQ 2878 531 3122 666 \nL 3122 134 \nQ 2881 22 2623 -34 \nQ 2366 -91 2075 -91 \nQ 1284 -91 818 406 \nQ 353 903 353 1747 \nQ 353 2603 823 3093 \nQ 1294 3584 2113 3584 \nQ 2378 3584 2631 3529 \nQ 2884 3475 3122 3366 \nz\n\" id=\"DejaVuSans-63\" transform=\"scale(0.015625)\"/>\n       <path d=\"M 3513 2113 \nL 3513 0 \nL 2938 0 \nL 2938 2094 \nQ 2938 2591 2744 2837 \nQ 2550 3084 2163 3084 \nQ 1697 3084 1428 2787 \nQ 1159 2491 1159 1978 \nL 1159 0 \nL 581 0 \nL 581 4863 \nL 1159 4863 \nL 1159 2956 \nQ 1366 3272 1645 3428 \nQ 1925 3584 2291 3584 \nQ 2894 3584 3203 3211 \nQ 3513 2838 3513 2113 \nz\n\" id=\"DejaVuSans-68\" transform=\"scale(0.015625)\"/>\n      </defs>\n      <use xlink:href=\"#DejaVuSans-45\"/>\n      <use x=\"63.183594\" xlink:href=\"#DejaVuSans-70\"/>\n      <use x=\"126.660156\" xlink:href=\"#DejaVuSans-6f\"/>\n      <use x=\"187.841797\" xlink:href=\"#DejaVuSans-63\"/>\n      <use x=\"242.822266\" xlink:href=\"#DejaVuSans-68\"/>\n     </g>\n    </g>\n   </g>\n   <g id=\"matplotlib.axis_2\">\n    <g id=\"ytick_1\">\n     <g id=\"line2d_9\">\n      <defs>\n       <path d=\"M 0 0 \nL -3.5 0 \n\" id=\"m21085d02cc\" style=\"stroke:#000000;stroke-width:0.8;\"/>\n      </defs>\n      <g>\n       <use style=\"stroke:#000000;stroke-width:0.8;\" x=\"43.78125\" xlink:href=\"#m21085d02cc\" y=\"196.283176\"/>\n      </g>\n     </g>\n     <g id=\"text_10\">\n      <!-- 6.8 -->\n      <g transform=\"translate(20.878125 200.082395)scale(0.1 -0.1)\">\n       <defs>\n        <path d=\"M 2113 2584 \nQ 1688 2584 1439 2293 \nQ 1191 2003 1191 1497 \nQ 1191 994 1439 701 \nQ 1688 409 2113 409 \nQ 2538 409 2786 701 \nQ 3034 994 3034 1497 \nQ 3034 2003 2786 2293 \nQ 2538 2584 2113 2584 \nz\nM 3366 4563 \nL 3366 3988 \nQ 3128 4100 2886 4159 \nQ 2644 4219 2406 4219 \nQ 1781 4219 1451 3797 \nQ 1122 3375 1075 2522 \nQ 1259 2794 1537 2939 \nQ 1816 3084 2150 3084 \nQ 2853 3084 3261 2657 \nQ 3669 2231 3669 1497 \nQ 3669 778 3244 343 \nQ 2819 -91 2113 -91 \nQ 1303 -91 875 529 \nQ 447 1150 447 2328 \nQ 447 3434 972 4092 \nQ 1497 4750 2381 4750 \nQ 2619 4750 2861 4703 \nQ 3103 4656 3366 4563 \nz\n\" id=\"DejaVuSans-36\" transform=\"scale(0.015625)\"/>\n        <path d=\"M 2034 2216 \nQ 1584 2216 1326 1975 \nQ 1069 1734 1069 1313 \nQ 1069 891 1326 650 \nQ 1584 409 2034 409 \nQ 2484 409 2743 651 \nQ 3003 894 3003 1313 \nQ 3003 1734 2745 1975 \nQ 2488 2216 2034 2216 \nz\nM 1403 2484 \nQ 997 2584 770 2862 \nQ 544 3141 544 3541 \nQ 544 4100 942 4425 \nQ 1341 4750 2034 4750 \nQ 2731 4750 3128 4425 \nQ 3525 4100 3525 3541 \nQ 3525 3141 3298 2862 \nQ 3072 2584 2669 2484 \nQ 3125 2378 3379 2068 \nQ 3634 1759 3634 1313 \nQ 3634 634 3220 271 \nQ 2806 -91 2034 -91 \nQ 1263 -91 848 271 \nQ 434 634 434 1313 \nQ 434 1759 690 2068 \nQ 947 2378 1403 2484 \nz\nM 1172 3481 \nQ 1172 3119 1398 2916 \nQ 1625 2713 2034 2713 \nQ 2441 2713 2670 2916 \nQ 2900 3119 2900 3481 \nQ 2900 3844 2670 4047 \nQ 2441 4250 2034 4250 \nQ 1625 4250 1398 4047 \nQ 1172 3844 1172 3481 \nz\n\" id=\"DejaVuSans-38\" transform=\"scale(0.015625)\"/>\n       </defs>\n       <use xlink:href=\"#DejaVuSans-36\"/>\n       <use x=\"63.623047\" xlink:href=\"#DejaVuSans-2e\"/>\n       <use x=\"95.410156\" xlink:href=\"#DejaVuSans-38\"/>\n      </g>\n     </g>\n    </g>\n    <g id=\"ytick_2\">\n     <g id=\"line2d_10\">\n      <g>\n       <use style=\"stroke:#000000;stroke-width:0.8;\" x=\"43.78125\" xlink:href=\"#m21085d02cc\" y=\"163.162678\"/>\n      </g>\n     </g>\n     <g id=\"text_11\">\n      <!-- 7.0 -->\n      <g transform=\"translate(20.878125 166.961897)scale(0.1 -0.1)\">\n       <use xlink:href=\"#DejaVuSans-37\"/>\n       <use x=\"63.623047\" xlink:href=\"#DejaVuSans-2e\"/>\n       <use x=\"95.410156\" xlink:href=\"#DejaVuSans-30\"/>\n      </g>\n     </g>\n    </g>\n    <g id=\"ytick_3\">\n     <g id=\"line2d_11\">\n      <g>\n       <use style=\"stroke:#000000;stroke-width:0.8;\" x=\"43.78125\" xlink:href=\"#m21085d02cc\" y=\"130.04218\"/>\n      </g>\n     </g>\n     <g id=\"text_12\">\n      <!-- 7.2 -->\n      <g transform=\"translate(20.878125 133.841399)scale(0.1 -0.1)\">\n       <use xlink:href=\"#DejaVuSans-37\"/>\n       <use x=\"63.623047\" xlink:href=\"#DejaVuSans-2e\"/>\n       <use x=\"95.410156\" xlink:href=\"#DejaVuSans-32\"/>\n      </g>\n     </g>\n    </g>\n    <g id=\"ytick_4\">\n     <g id=\"line2d_12\">\n      <g>\n       <use style=\"stroke:#000000;stroke-width:0.8;\" x=\"43.78125\" xlink:href=\"#m21085d02cc\" y=\"96.921682\"/>\n      </g>\n     </g>\n     <g id=\"text_13\">\n      <!-- 7.4 -->\n      <g transform=\"translate(20.878125 100.720901)scale(0.1 -0.1)\">\n       <defs>\n        <path d=\"M 2419 4116 \nL 825 1625 \nL 2419 1625 \nL 2419 4116 \nz\nM 2253 4666 \nL 3047 4666 \nL 3047 1625 \nL 3713 1625 \nL 3713 1100 \nL 3047 1100 \nL 3047 0 \nL 2419 0 \nL 2419 1100 \nL 313 1100 \nL 313 1709 \nL 2253 4666 \nz\n\" id=\"DejaVuSans-34\" transform=\"scale(0.015625)\"/>\n       </defs>\n       <use xlink:href=\"#DejaVuSans-37\"/>\n       <use x=\"63.623047\" xlink:href=\"#DejaVuSans-2e\"/>\n       <use x=\"95.410156\" xlink:href=\"#DejaVuSans-34\"/>\n      </g>\n     </g>\n    </g>\n    <g id=\"ytick_5\">\n     <g id=\"line2d_13\">\n      <g>\n       <use style=\"stroke:#000000;stroke-width:0.8;\" x=\"43.78125\" xlink:href=\"#m21085d02cc\" y=\"63.801184\"/>\n      </g>\n     </g>\n     <g id=\"text_14\">\n      <!-- 7.6 -->\n      <g transform=\"translate(20.878125 67.600403)scale(0.1 -0.1)\">\n       <use xlink:href=\"#DejaVuSans-37\"/>\n       <use x=\"63.623047\" xlink:href=\"#DejaVuSans-2e\"/>\n       <use x=\"95.410156\" xlink:href=\"#DejaVuSans-36\"/>\n      </g>\n     </g>\n    </g>\n    <g id=\"ytick_6\">\n     <g id=\"line2d_14\">\n      <g>\n       <use style=\"stroke:#000000;stroke-width:0.8;\" x=\"43.78125\" xlink:href=\"#m21085d02cc\" y=\"30.680686\"/>\n      </g>\n     </g>\n     <g id=\"text_15\">\n      <!-- 7.8 -->\n      <g transform=\"translate(20.878125 34.479905)scale(0.1 -0.1)\">\n       <use xlink:href=\"#DejaVuSans-37\"/>\n       <use x=\"63.623047\" xlink:href=\"#DejaVuSans-2e\"/>\n       <use x=\"95.410156\" xlink:href=\"#DejaVuSans-38\"/>\n      </g>\n     </g>\n    </g>\n    <g id=\"text_16\">\n     <!-- Loss -->\n     <g transform=\"translate(14.798438 126.887188)rotate(-90)scale(0.1 -0.1)\">\n      <defs>\n       <path d=\"M 628 4666 \nL 1259 4666 \nL 1259 531 \nL 3531 531 \nL 3531 0 \nL 628 0 \nL 628 4666 \nz\n\" id=\"DejaVuSans-4c\" transform=\"scale(0.015625)\"/>\n       <path d=\"M 2834 3397 \nL 2834 2853 \nQ 2591 2978 2328 3040 \nQ 2066 3103 1784 3103 \nQ 1356 3103 1142 2972 \nQ 928 2841 928 2578 \nQ 928 2378 1081 2264 \nQ 1234 2150 1697 2047 \nL 1894 2003 \nQ 2506 1872 2764 1633 \nQ 3022 1394 3022 966 \nQ 3022 478 2636 193 \nQ 2250 -91 1575 -91 \nQ 1294 -91 989 -36 \nQ 684 19 347 128 \nL 347 722 \nQ 666 556 975 473 \nQ 1284 391 1588 391 \nQ 1994 391 2212 530 \nQ 2431 669 2431 922 \nQ 2431 1156 2273 1281 \nQ 2116 1406 1581 1522 \nL 1381 1569 \nQ 847 1681 609 1914 \nQ 372 2147 372 2553 \nQ 372 3047 722 3315 \nQ 1072 3584 1716 3584 \nQ 2034 3584 2315 3537 \nQ 2597 3491 2834 3397 \nz\n\" id=\"DejaVuSans-73\" transform=\"scale(0.015625)\"/>\n      </defs>\n      <use xlink:href=\"#DejaVuSans-4c\"/>\n      <use x=\"53.962891\" xlink:href=\"#DejaVuSans-6f\"/>\n      <use x=\"115.144531\" xlink:href=\"#DejaVuSans-73\"/>\n      <use x=\"167.244141\" xlink:href=\"#DejaVuSans-73\"/>\n     </g>\n    </g>\n   </g>\n   <g id=\"line2d_15\">\n    <path clip-path=\"url(#p41993d493e)\" d=\"M 58.999432 37.688671 \nL 75.018571 128.446748 \nL 91.037709 90.157177 \nL 107.056848 82.439907 \nL 123.075987 89.014339 \nL 139.095126 97.206163 \nL 155.114264 107.791097 \nL 171.133403 121.559775 \nL 187.152542 131.049967 \nL 203.171681 140.28614 \nL 219.190819 152.864461 \nL 235.209958 160.588924 \nL 251.229097 166.987344 \nL 267.248236 173.604961 \nL 283.267374 179.721501 \nL 299.286513 186.920542 \nL 315.305652 191.902956 \nL 331.324791 201.781661 \nL 347.343929 206.686872 \nL 363.363068 214.756364 \n\" style=\"fill:none;stroke:#1f77b4;stroke-linecap:square;stroke-width:1.5;\"/>\n   </g>\n   <g id=\"line2d_16\">\n    <path clip-path=\"url(#p41993d493e)\" d=\"M 58.999432 17.083636 \nL 75.018571 108.177019 \nL 91.037709 67.581376 \nL 107.056848 53.634893 \nL 123.075987 57.871051 \nL 139.095126 62.259821 \nL 155.114264 67.419229 \nL 171.133403 78.59179 \nL 187.152542 84.964018 \nL 203.171681 90.382499 \nL 219.190819 100.651859 \nL 235.209958 107.289215 \nL 251.229097 110.450358 \nL 267.248236 114.104569 \nL 283.267374 118.59945 \nL 299.286513 124.66511 \nL 315.305652 127.80792 \nL 331.324791 136.297783 \nL 347.343929 140.500788 \nL 363.363068 144.465629 \n\" style=\"fill:none;stroke:#ff7f0e;stroke-linecap:square;stroke-width:1.5;\"/>\n   </g>\n   <g id=\"patch_3\">\n    <path d=\"M 43.78125 224.64 \nL 43.78125 7.2 \n\" style=\"fill:none;stroke:#000000;stroke-linecap:square;stroke-linejoin:miter;stroke-width:0.8;\"/>\n   </g>\n   <g id=\"patch_4\">\n    <path d=\"M 378.58125 224.64 \nL 378.58125 7.2 \n\" style=\"fill:none;stroke:#000000;stroke-linecap:square;stroke-linejoin:miter;stroke-width:0.8;\"/>\n   </g>\n   <g id=\"patch_5\">\n    <path d=\"M 43.78125 224.64 \nL 378.58125 224.64 \n\" style=\"fill:none;stroke:#000000;stroke-linecap:square;stroke-linejoin:miter;stroke-width:0.8;\"/>\n   </g>\n   <g id=\"patch_6\">\n    <path d=\"M 43.78125 7.2 \nL 378.58125 7.2 \n\" style=\"fill:none;stroke:#000000;stroke-linecap:square;stroke-linejoin:miter;stroke-width:0.8;\"/>\n   </g>\n   <g id=\"legend_1\">\n    <g id=\"patch_7\">\n     <path d=\"M 316.30625 44.55625 \nL 371.58125 44.55625 \nQ 373.58125 44.55625 373.58125 42.55625 \nL 373.58125 14.2 \nQ 373.58125 12.2 371.58125 12.2 \nL 316.30625 12.2 \nQ 314.30625 12.2 314.30625 14.2 \nL 314.30625 42.55625 \nQ 314.30625 44.55625 316.30625 44.55625 \nz\n\" style=\"fill:#ffffff;opacity:0.8;stroke:#cccccc;stroke-linejoin:miter;\"/>\n    </g>\n    <g id=\"line2d_17\">\n     <path d=\"M 318.30625 20.298438 \nL 338.30625 20.298438 \n\" style=\"fill:none;stroke:#1f77b4;stroke-linecap:square;stroke-width:1.5;\"/>\n    </g>\n    <g id=\"line2d_18\"/>\n    <g id=\"text_17\">\n     <!-- train -->\n     <g transform=\"translate(346.30625 23.798438)scale(0.1 -0.1)\">\n      <defs>\n       <path d=\"M 1172 4494 \nL 1172 3500 \nL 2356 3500 \nL 2356 3053 \nL 1172 3053 \nL 1172 1153 \nQ 1172 725 1289 603 \nQ 1406 481 1766 481 \nL 2356 481 \nL 2356 0 \nL 1766 0 \nQ 1100 0 847 248 \nQ 594 497 594 1153 \nL 594 3053 \nL 172 3053 \nL 172 3500 \nL 594 3500 \nL 594 4494 \nL 1172 4494 \nz\n\" id=\"DejaVuSans-74\" transform=\"scale(0.015625)\"/>\n       <path d=\"M 2631 2963 \nQ 2534 3019 2420 3045 \nQ 2306 3072 2169 3072 \nQ 1681 3072 1420 2755 \nQ 1159 2438 1159 1844 \nL 1159 0 \nL 581 0 \nL 581 3500 \nL 1159 3500 \nL 1159 2956 \nQ 1341 3275 1631 3429 \nQ 1922 3584 2338 3584 \nQ 2397 3584 2469 3576 \nQ 2541 3569 2628 3553 \nL 2631 2963 \nz\n\" id=\"DejaVuSans-72\" transform=\"scale(0.015625)\"/>\n       <path d=\"M 2194 1759 \nQ 1497 1759 1228 1600 \nQ 959 1441 959 1056 \nQ 959 750 1161 570 \nQ 1363 391 1709 391 \nQ 2188 391 2477 730 \nQ 2766 1069 2766 1631 \nL 2766 1759 \nL 2194 1759 \nz\nM 3341 1997 \nL 3341 0 \nL 2766 0 \nL 2766 531 \nQ 2569 213 2275 61 \nQ 1981 -91 1556 -91 \nQ 1019 -91 701 211 \nQ 384 513 384 1019 \nQ 384 1609 779 1909 \nQ 1175 2209 1959 2209 \nL 2766 2209 \nL 2766 2266 \nQ 2766 2663 2505 2880 \nQ 2244 3097 1772 3097 \nQ 1472 3097 1187 3025 \nQ 903 2953 641 2809 \nL 641 3341 \nQ 956 3463 1253 3523 \nQ 1550 3584 1831 3584 \nQ 2591 3584 2966 3190 \nQ 3341 2797 3341 1997 \nz\n\" id=\"DejaVuSans-61\" transform=\"scale(0.015625)\"/>\n       <path d=\"M 603 3500 \nL 1178 3500 \nL 1178 0 \nL 603 0 \nL 603 3500 \nz\nM 603 4863 \nL 1178 4863 \nL 1178 4134 \nL 603 4134 \nL 603 4863 \nz\n\" id=\"DejaVuSans-69\" transform=\"scale(0.015625)\"/>\n       <path d=\"M 3513 2113 \nL 3513 0 \nL 2938 0 \nL 2938 2094 \nQ 2938 2591 2744 2837 \nQ 2550 3084 2163 3084 \nQ 1697 3084 1428 2787 \nQ 1159 2491 1159 1978 \nL 1159 0 \nL 581 0 \nL 581 3500 \nL 1159 3500 \nL 1159 2956 \nQ 1366 3272 1645 3428 \nQ 1925 3584 2291 3584 \nQ 2894 3584 3203 3211 \nQ 3513 2838 3513 2113 \nz\n\" id=\"DejaVuSans-6e\" transform=\"scale(0.015625)\"/>\n      </defs>\n      <use xlink:href=\"#DejaVuSans-74\"/>\n      <use x=\"39.208984\" xlink:href=\"#DejaVuSans-72\"/>\n      <use x=\"80.322266\" xlink:href=\"#DejaVuSans-61\"/>\n      <use x=\"141.601562\" xlink:href=\"#DejaVuSans-69\"/>\n      <use x=\"169.384766\" xlink:href=\"#DejaVuSans-6e\"/>\n     </g>\n    </g>\n    <g id=\"line2d_19\">\n     <path d=\"M 318.30625 34.976562 \nL 338.30625 34.976562 \n\" style=\"fill:none;stroke:#ff7f0e;stroke-linecap:square;stroke-width:1.5;\"/>\n    </g>\n    <g id=\"line2d_20\"/>\n    <g id=\"text_18\">\n     <!-- val -->\n     <g transform=\"translate(346.30625 38.476562)scale(0.1 -0.1)\">\n      <defs>\n       <path d=\"M 191 3500 \nL 800 3500 \nL 1894 563 \nL 2988 3500 \nL 3597 3500 \nL 2284 0 \nL 1503 0 \nL 191 3500 \nz\n\" id=\"DejaVuSans-76\" transform=\"scale(0.015625)\"/>\n       <path d=\"M 603 4863 \nL 1178 4863 \nL 1178 0 \nL 603 0 \nL 603 4863 \nz\n\" id=\"DejaVuSans-6c\" transform=\"scale(0.015625)\"/>\n      </defs>\n      <use xlink:href=\"#DejaVuSans-76\"/>\n      <use x=\"59.179688\" xlink:href=\"#DejaVuSans-61\"/>\n      <use x=\"120.458984\" xlink:href=\"#DejaVuSans-6c\"/>\n     </g>\n    </g>\n   </g>\n  </g>\n </g>\n <defs>\n  <clipPath id=\"p41993d493e\">\n   <rect height=\"217.44\" width=\"334.8\" x=\"43.78125\" y=\"7.2\"/>\n  </clipPath>\n </defs>\n</svg>\n",
      "image/png": "[encoded data removed]"
     },
     "metadata": {
      "needs_background": "light"
     }
    }
   ],
   "source": [
    "trainer.plot()"
   ]
  },
  {
   "cell_type": "code",
   "execution_count": 13,
   "metadata": {},
   "outputs": [],
   "source": [
    "def print_prob(probs, labels):\n",
    "    items = [x for x in sorted(zip(probs, genre_cols), reverse=True)]\n",
    "    for (prob, genre), label in zip(items, labels):\n",
    "        print('{:15s}{:>5.2f}% {}'.format(genre, prob*100, label))"
   ]
  },
  {
   "cell_type": "code",
   "execution_count": 14,
   "metadata": {},
   "outputs": [
    {
     "output_type": "stream",
     "name": "stdout",
     "text": [
      "Comedy         49.10% 0\nAdventure      28.96% 1\nFantasy        21.39% 0\nAction         19.30% 0\nShounen        15.75% 0\nKids           15.10% 0\nSci-Fi         13.73% 0\nDrama           7.44% 0\nSlice of Life   6.04% 0\nSports          5.83% 0\nHistorical      4.85% 1\nHentai          4.16% 0\nRomance         3.75% 0\nMystery         3.57% 0\nMecha           3.14% 1\nSupernatural    2.85% 0\nShoujo          2.52% 0\nSeinen          2.49% 0\nEcchi           1.98% 0\nSchool          1.88% 0\nMusic           1.71% 0\nHorror          1.00% 0\nSuper Power     0.38% 0\nHarem           0.16% 0\nMilitary        0.15% 0\n\nComedy         42.40% 1\nSchool         25.48% 0\nShounen        23.97% 0\nAction         19.86% 1\nHentai         17.15% 0\nFantasy        16.47% 0\nRomance        14.02% 0\nDrama          13.00% 0\nAdventure      12.48% 0\nSlice of Life  12.33% 0\nSupernatural   12.02% 0\nSports          6.82% 0\nSci-Fi          6.30% 0\nSeinen          5.76% 0\nKids            5.02% 0\nShoujo          4.59% 0\nHistorical      3.98% 0\nMystery         3.74% 0\nEcchi           3.44% 0\nHorror          3.42% 0\nHarem           2.47% 1\nSuper Power     1.73% 1\nMecha           1.65% 1\nMusic           1.10% 0\nMilitary        0.46% 0\n\n"
     ]
    }
   ],
   "source": [
    "num_show = 2\n",
    "i_start = 0\n",
    "\n",
    "y_train = model.predict(x_train)\n",
    "\n",
    "for idx in range(i_start, num_show+i_start):\n",
    "    print_prob(y_train[idx], t_train[idx])\n",
    "    print()"
   ]
  },
  {
   "cell_type": "code",
   "execution_count": 15,
   "metadata": {
    "tags": []
   },
   "outputs": [
    {
     "output_type": "stream",
     "name": "stdout",
     "text": [
      "T>T  F>T  T>F  F>F \n 0    0    4    21 \n\nT>T  F>T  T>F  F>F \n 1    0    2    22 \n\nT>T  F>T  T>F  F>F \n 0    0    3    22 \n\nT>T  F>T  T>F  F>F \n 0    0    5    20 \n\nT>T  F>T  T>F  F>F \n 0    0    3    22 \n\nT>T  F>T  T>F  F>F \n 0    0    3    22 \n\nT>T  F>T  T>F  F>F \n 0    0    5    20 \n\nT>T  F>T  T>F  F>F \n 0    0    3    22 \n\nT>T  F>T  T>F  F>F \n 0    0    1    24 \n\nT>T  F>T  T>F  F>F \n 0    0    4    21 \n\n"
     ]
    }
   ],
   "source": [
    "num_show = 10\n",
    "i_start = 0\n",
    "\n",
    "y_test = model.predict(x_test)\n",
    "\n",
    "for idx in range(i_start, num_show+i_start):\n",
    "    # print_prob(y_test[idx], t_test[idx])\n",
    "    # print()\n",
    "\n",
    "    mal_id = id_test[idx]\n",
    "    \n",
    "    predict = y_test[idx]>=0.5\n",
    "    actual  = t_test[idx]==1\n",
    "\n",
    "    TP = (actual & predict).sum()\n",
    "    FP = (~actual & predict).sum()\n",
    "    FN = (actual & ~predict).sum()\n",
    "    TN = (~actual & ~predict).sum()\n",
    "    \n",
    "    print('{:^4} {:^4} {:^4} {:^4}'.format('T>T', 'F>T', 'T>F', 'F>F'))\n",
    "    print('{:^4} {:^4} {:^4} {:^4}\\n'.format(TP, FP, FN, TN))\n",
    "\n",
    "\n",
    "    # print('{:^7} {:^7} {:^7} {:^7} {:^7}'.format('True', 'Pred', 'Correct', 'Wrong', 'Missed'))\n",
    "    # print('{:^7} {:^7} {:^7} {:^7} {:^7}\\n'.format(n_true, n_pred, n_correct, n_wrong, n_missed))"
   ]
  },
  {
   "cell_type": "code",
   "execution_count": null,
   "metadata": {},
   "outputs": [],
   "source": []
  },
  {
   "cell_type": "code",
   "execution_count": null,
   "metadata": {},
   "outputs": [],
   "source": []
  }
 ]
}