{
 "metadata": {
  "language_info": {
   "codemirror_mode": {
    "name": "ipython",
    "version": 3
   },
   "file_extension": ".py",
   "mimetype": "text/x-python",
   "name": "python",
   "nbconvert_exporter": "python",
   "pygments_lexer": "ipython3",
   "version": "3.9.5"
  },
  "orig_nbformat": 4,
  "kernelspec": {
   "name": "python3",
   "display_name": "Python 3.9.5 64-bit ('scrap': conda)"
  },
  "interpreter": {
   "hash": "4ea3ed2e54355ce89e91b93232dfdad50498b45cbf76d90a32e5b94d03490e3d"
  }
 },
 "nbformat": 4,
 "nbformat_minor": 2,
 "cells": [
  {
   "source": [
    "# Multi-Lable Classification with MLP"
   ],
   "cell_type": "markdown",
   "metadata": {}
  },
  {
   "cell_type": "code",
   "execution_count": 1,
   "metadata": {},
   "outputs": [],
   "source": [
    "import numpy as np\n",
    "import pandas as pd\n",
    "import matplotlib.pyplot as plt\n",
    "\n",
    "# import os, sys\n",
    "# sys.path.append(os.pardir)\n",
    "\n",
    "from anime_classification import MultiLabelClassifier, Adam, Trainer"
   ]
  },
  {
   "source": [
    "## Load Vectorized Synopsis/Genre Data"
   ],
   "cell_type": "markdown",
   "metadata": {}
  },
  {
   "cell_type": "code",
   "execution_count": 2,
   "metadata": {},
   "outputs": [
    {
     "output_type": "execute_result",
     "data": {
      "text/plain": [
       "   MAL_ID         0         1         2         3         4         5  \\\n",
       "0       1 -0.115295 -3.925781  0.509277  1.326172  2.685547  1.787109   \n",
       "1       5  2.314453 -2.363281 -0.013374  2.705078  1.199219  3.171875   \n",
       "2       6 -0.225220 -2.599609 -0.183350  2.042969  1.671875  1.951172   \n",
       "3       7  0.844727 -0.527344  0.271484  0.753418  1.576172  2.492188   \n",
       "4       8  1.522461 -2.654297  0.423584  1.816406  2.029297  1.697266   \n",
       "\n",
       "          6         7         8  ...        90        91        92        93  \\\n",
       "0 -1.766602 -1.253906 -1.898438  ...  0.862305 -0.738770 -1.120117 -0.728516   \n",
       "1 -1.359375 -2.605469 -1.960938  ...  0.495850 -0.945801 -0.938965 -0.259766   \n",
       "2 -1.367188 -2.916016 -0.161621  ... -1.436523 -1.022461 -2.535156 -2.455078   \n",
       "3 -1.652344 -2.705078 -2.271484  ... -0.366943 -1.791016 -1.804688 -2.474609   \n",
       "4  0.608887 -1.333008 -1.022461  ...  1.652344 -1.703125 -2.476562 -4.488281   \n",
       "\n",
       "         94        95        96        97        98        99  \n",
       "0  1.066406  1.273438 -0.247070  1.378906  1.921875  2.218750  \n",
       "1  2.087891  1.500000 -0.221924  0.645508  2.220703  0.959473  \n",
       "2  2.013672  1.943359  0.623047  1.701172  2.359375  1.232422  \n",
       "3  2.880859  0.426514 -0.582520  3.105469  0.839355  1.042969  \n",
       "4  1.402344  0.639160  0.059204  1.250000  2.458984  2.517578  \n",
       "\n",
       "[5 rows x 101 columns]"
      ],
      "text/html": "<div>\n<style scoped>\n    .dataframe tbody tr th:only-of-type {\n        vertical-align: middle;\n    }\n\n    .dataframe tbody tr th {\n        vertical-align: top;\n    }\n\n    .dataframe thead th {\n        text-align: right;\n    }\n</style>\n<table border=\"1\" class=\"dataframe\">\n  <thead>\n    <tr style=\"text-align: right;\">\n      <th></th>\n      <th>MAL_ID</th>\n      <th>0</th>\n      <th>1</th>\n      <th>2</th>\n      <th>3</th>\n      <th>4</th>\n      <th>5</th>\n      <th>6</th>\n      <th>7</th>\n      <th>8</th>\n      <th>...</th>\n      <th>90</th>\n      <th>91</th>\n      <th>92</th>\n      <th>93</th>\n      <th>94</th>\n      <th>95</th>\n      <th>96</th>\n      <th>97</th>\n      <th>98</th>\n      <th>99</th>\n    </tr>\n  </thead>\n  <tbody>\n    <tr>\n      <th>0</th>\n      <td>1</td>\n      <td>-0.115295</td>\n      <td>-3.925781</td>\n      <td>0.509277</td>\n      <td>1.326172</td>\n      <td>2.685547</td>\n      <td>1.787109</td>\n      <td>-1.766602</td>\n      <td>-1.253906</td>\n      <td>-1.898438</td>\n      <td>...</td>\n      <td>0.862305</td>\n      <td>-0.738770</td>\n      <td>-1.120117</td>\n      <td>-0.728516</td>\n      <td>1.066406</td>\n      <td>1.273438</td>\n      <td>-0.247070</td>\n      <td>1.378906</td>\n      <td>1.921875</td>\n      <td>2.218750</td>\n    </tr>\n    <tr>\n      <th>1</th>\n      <td>5</td>\n      <td>2.314453</td>\n      <td>-2.363281</td>\n      <td>-0.013374</td>\n      <td>2.705078</td>\n      <td>1.199219</td>\n      <td>3.171875</td>\n      <td>-1.359375</td>\n      <td>-2.605469</td>\n      <td>-1.960938</td>\n      <td>...</td>\n      <td>0.495850</td>\n      <td>-0.945801</td>\n      <td>-0.938965</td>\n      <td>-0.259766</td>\n      <td>2.087891</td>\n      <td>1.500000</td>\n      <td>-0.221924</td>\n      <td>0.645508</td>\n      <td>2.220703</td>\n      <td>0.959473</td>\n    </tr>\n    <tr>\n      <th>2</th>\n      <td>6</td>\n      <td>-0.225220</td>\n      <td>-2.599609</td>\n      <td>-0.183350</td>\n      <td>2.042969</td>\n      <td>1.671875</td>\n      <td>1.951172</td>\n      <td>-1.367188</td>\n      <td>-2.916016</td>\n      <td>-0.161621</td>\n      <td>...</td>\n      <td>-1.436523</td>\n      <td>-1.022461</td>\n      <td>-2.535156</td>\n      <td>-2.455078</td>\n      <td>2.013672</td>\n      <td>1.943359</td>\n      <td>0.623047</td>\n      <td>1.701172</td>\n      <td>2.359375</td>\n      <td>1.232422</td>\n    </tr>\n    <tr>\n      <th>3</th>\n      <td>7</td>\n      <td>0.844727</td>\n      <td>-0.527344</td>\n      <td>0.271484</td>\n      <td>0.753418</td>\n      <td>1.576172</td>\n      <td>2.492188</td>\n      <td>-1.652344</td>\n      <td>-2.705078</td>\n      <td>-2.271484</td>\n      <td>...</td>\n      <td>-0.366943</td>\n      <td>-1.791016</td>\n      <td>-1.804688</td>\n      <td>-2.474609</td>\n      <td>2.880859</td>\n      <td>0.426514</td>\n      <td>-0.582520</td>\n      <td>3.105469</td>\n      <td>0.839355</td>\n      <td>1.042969</td>\n    </tr>\n    <tr>\n      <th>4</th>\n      <td>8</td>\n      <td>1.522461</td>\n      <td>-2.654297</td>\n      <td>0.423584</td>\n      <td>1.816406</td>\n      <td>2.029297</td>\n      <td>1.697266</td>\n      <td>0.608887</td>\n      <td>-1.333008</td>\n      <td>-1.022461</td>\n      <td>...</td>\n      <td>1.652344</td>\n      <td>-1.703125</td>\n      <td>-2.476562</td>\n      <td>-4.488281</td>\n      <td>1.402344</td>\n      <td>0.639160</td>\n      <td>0.059204</td>\n      <td>1.250000</td>\n      <td>2.458984</td>\n      <td>2.517578</td>\n    </tr>\n  </tbody>\n</table>\n<p>5 rows × 101 columns</p>\n</div>"
     },
     "metadata": {},
     "execution_count": 2
    }
   ],
   "source": [
    "synop_vec = pd.read_csv('../synopsis_vector/synopsis_vector.csv')\n",
    "synop_vec.head()"
   ]
  },
  {
   "cell_type": "code",
   "execution_count": 3,
   "metadata": {},
   "outputs": [
    {
     "output_type": "execute_result",
     "data": {
      "text/plain": [
       "   MAL_ID  Action  Adventure  Cars  Comedy  Dementia  Demons  Drama  Ecchi  \\\n",
       "0       1       1          1     0       1         0       0      1      0   \n",
       "1       5       1          0     0       0         0       0      1      0   \n",
       "2       6       1          1     0       1         0       0      1      0   \n",
       "3       7       1          0     0       0         0       0      1      0   \n",
       "4       8       0          1     0       0         0       0      0      0   \n",
       "\n",
       "   Fantasy  ...  Shounen Ai  Slice of Life  Space  Sports  Super Power  \\\n",
       "0        0  ...           0              0      1       0            0   \n",
       "1        0  ...           0              0      1       0            0   \n",
       "2        0  ...           0              0      0       0            0   \n",
       "3        0  ...           0              0      0       0            0   \n",
       "4        1  ...           0              0      0       0            0   \n",
       "\n",
       "   Supernatural  Thriller  Vampire  Yaoi  Yuri  \n",
       "0             0         0        0     0     0  \n",
       "1             0         0        0     0     0  \n",
       "2             0         0        0     0     0  \n",
       "3             1         0        0     0     0  \n",
       "4             1         0        0     0     0  \n",
       "\n",
       "[5 rows x 44 columns]"
      ],
      "text/html": "<div>\n<style scoped>\n    .dataframe tbody tr th:only-of-type {\n        vertical-align: middle;\n    }\n\n    .dataframe tbody tr th {\n        vertical-align: top;\n    }\n\n    .dataframe thead th {\n        text-align: right;\n    }\n</style>\n<table border=\"1\" class=\"dataframe\">\n  <thead>\n    <tr style=\"text-align: right;\">\n      <th></th>\n      <th>MAL_ID</th>\n      <th>Action</th>\n      <th>Adventure</th>\n      <th>Cars</th>\n      <th>Comedy</th>\n      <th>Dementia</th>\n      <th>Demons</th>\n      <th>Drama</th>\n      <th>Ecchi</th>\n      <th>Fantasy</th>\n      <th>...</th>\n      <th>Shounen Ai</th>\n      <th>Slice of Life</th>\n      <th>Space</th>\n      <th>Sports</th>\n      <th>Super Power</th>\n      <th>Supernatural</th>\n      <th>Thriller</th>\n      <th>Vampire</th>\n      <th>Yaoi</th>\n      <th>Yuri</th>\n    </tr>\n  </thead>\n  <tbody>\n    <tr>\n      <th>0</th>\n      <td>1</td>\n      <td>1</td>\n      <td>1</td>\n      <td>0</td>\n      <td>1</td>\n      <td>0</td>\n      <td>0</td>\n      <td>1</td>\n      <td>0</td>\n      <td>0</td>\n      <td>...</td>\n      <td>0</td>\n      <td>0</td>\n      <td>1</td>\n      <td>0</td>\n      <td>0</td>\n      <td>0</td>\n      <td>0</td>\n      <td>0</td>\n      <td>0</td>\n      <td>0</td>\n    </tr>\n    <tr>\n      <th>1</th>\n      <td>5</td>\n      <td>1</td>\n      <td>0</td>\n      <td>0</td>\n      <td>0</td>\n      <td>0</td>\n      <td>0</td>\n      <td>1</td>\n      <td>0</td>\n      <td>0</td>\n      <td>...</td>\n      <td>0</td>\n      <td>0</td>\n      <td>1</td>\n      <td>0</td>\n      <td>0</td>\n      <td>0</td>\n      <td>0</td>\n      <td>0</td>\n      <td>0</td>\n      <td>0</td>\n    </tr>\n    <tr>\n      <th>2</th>\n      <td>6</td>\n      <td>1</td>\n      <td>1</td>\n      <td>0</td>\n      <td>1</td>\n      <td>0</td>\n      <td>0</td>\n      <td>1</td>\n      <td>0</td>\n      <td>0</td>\n      <td>...</td>\n      <td>0</td>\n      <td>0</td>\n      <td>0</td>\n      <td>0</td>\n      <td>0</td>\n      <td>0</td>\n      <td>0</td>\n      <td>0</td>\n      <td>0</td>\n      <td>0</td>\n    </tr>\n    <tr>\n      <th>3</th>\n      <td>7</td>\n      <td>1</td>\n      <td>0</td>\n      <td>0</td>\n      <td>0</td>\n      <td>0</td>\n      <td>0</td>\n      <td>1</td>\n      <td>0</td>\n      <td>0</td>\n      <td>...</td>\n      <td>0</td>\n      <td>0</td>\n      <td>0</td>\n      <td>0</td>\n      <td>0</td>\n      <td>1</td>\n      <td>0</td>\n      <td>0</td>\n      <td>0</td>\n      <td>0</td>\n    </tr>\n    <tr>\n      <th>4</th>\n      <td>8</td>\n      <td>0</td>\n      <td>1</td>\n      <td>0</td>\n      <td>0</td>\n      <td>0</td>\n      <td>0</td>\n      <td>0</td>\n      <td>0</td>\n      <td>1</td>\n      <td>...</td>\n      <td>0</td>\n      <td>0</td>\n      <td>0</td>\n      <td>0</td>\n      <td>0</td>\n      <td>1</td>\n      <td>0</td>\n      <td>0</td>\n      <td>0</td>\n      <td>0</td>\n    </tr>\n  </tbody>\n</table>\n<p>5 rows × 44 columns</p>\n</div>"
     },
     "metadata": {},
     "execution_count": 3
    }
   ],
   "source": [
    "genre_vec = pd.read_csv('../clean_data/genre.csv')\n",
    "genre_vec.head()"
   ]
  },
  {
   "source": [
    "## Split Train-Test Set"
   ],
   "cell_type": "markdown",
   "metadata": {}
  },
  {
   "cell_type": "code",
   "execution_count": 4,
   "metadata": {},
   "outputs": [],
   "source": [
    "synop_cols = synop_vec.columns.drop('MAL_ID').values\n",
    "genre_cols = genre_vec.columns.drop('MAL_ID').values"
   ]
  },
  {
   "cell_type": "code",
   "execution_count": 5,
   "metadata": {},
   "outputs": [
    {
     "output_type": "execute_result",
     "data": {
      "text/plain": [
       "   MAL_ID         0         1         2         3         4         5  \\\n",
       "0       1 -0.115295 -3.925781  0.509277  1.326172  2.685547  1.787109   \n",
       "1       5  2.314453 -2.363281 -0.013374  2.705078  1.199219  3.171875   \n",
       "2       6 -0.225220 -2.599609 -0.183350  2.042969  1.671875  1.951172   \n",
       "3       7  0.844727 -0.527344  0.271484  0.753418  1.576172  2.492188   \n",
       "4       8  1.522461 -2.654297  0.423584  1.816406  2.029297  1.697266   \n",
       "\n",
       "          6         7         8  ...  Shounen Ai  Slice of Life  Space  \\\n",
       "0 -1.766602 -1.253906 -1.898438  ...           0              0      1   \n",
       "1 -1.359375 -2.605469 -1.960938  ...           0              0      1   \n",
       "2 -1.367188 -2.916016 -0.161621  ...           0              0      0   \n",
       "3 -1.652344 -2.705078 -2.271484  ...           0              0      0   \n",
       "4  0.608887 -1.333008 -1.022461  ...           0              0      0   \n",
       "\n",
       "   Sports  Super Power  Supernatural  Thriller  Vampire  Yaoi  Yuri  \n",
       "0       0            0             0         0        0     0     0  \n",
       "1       0            0             0         0        0     0     0  \n",
       "2       0            0             0         0        0     0     0  \n",
       "3       0            0             1         0        0     0     0  \n",
       "4       0            0             1         0        0     0     0  \n",
       "\n",
       "[5 rows x 144 columns]"
      ],
      "text/html": "<div>\n<style scoped>\n    .dataframe tbody tr th:only-of-type {\n        vertical-align: middle;\n    }\n\n    .dataframe tbody tr th {\n        vertical-align: top;\n    }\n\n    .dataframe thead th {\n        text-align: right;\n    }\n</style>\n<table border=\"1\" class=\"dataframe\">\n  <thead>\n    <tr style=\"text-align: right;\">\n      <th></th>\n      <th>MAL_ID</th>\n      <th>0</th>\n      <th>1</th>\n      <th>2</th>\n      <th>3</th>\n      <th>4</th>\n      <th>5</th>\n      <th>6</th>\n      <th>7</th>\n      <th>8</th>\n      <th>...</th>\n      <th>Shounen Ai</th>\n      <th>Slice of Life</th>\n      <th>Space</th>\n      <th>Sports</th>\n      <th>Super Power</th>\n      <th>Supernatural</th>\n      <th>Thriller</th>\n      <th>Vampire</th>\n      <th>Yaoi</th>\n      <th>Yuri</th>\n    </tr>\n  </thead>\n  <tbody>\n    <tr>\n      <th>0</th>\n      <td>1</td>\n      <td>-0.115295</td>\n      <td>-3.925781</td>\n      <td>0.509277</td>\n      <td>1.326172</td>\n      <td>2.685547</td>\n      <td>1.787109</td>\n      <td>-1.766602</td>\n      <td>-1.253906</td>\n      <td>-1.898438</td>\n      <td>...</td>\n      <td>0</td>\n      <td>0</td>\n      <td>1</td>\n      <td>0</td>\n      <td>0</td>\n      <td>0</td>\n      <td>0</td>\n      <td>0</td>\n      <td>0</td>\n      <td>0</td>\n    </tr>\n    <tr>\n      <th>1</th>\n      <td>5</td>\n      <td>2.314453</td>\n      <td>-2.363281</td>\n      <td>-0.013374</td>\n      <td>2.705078</td>\n      <td>1.199219</td>\n      <td>3.171875</td>\n      <td>-1.359375</td>\n      <td>-2.605469</td>\n      <td>-1.960938</td>\n      <td>...</td>\n      <td>0</td>\n      <td>0</td>\n      <td>1</td>\n      <td>0</td>\n      <td>0</td>\n      <td>0</td>\n      <td>0</td>\n      <td>0</td>\n      <td>0</td>\n      <td>0</td>\n    </tr>\n    <tr>\n      <th>2</th>\n      <td>6</td>\n      <td>-0.225220</td>\n      <td>-2.599609</td>\n      <td>-0.183350</td>\n      <td>2.042969</td>\n      <td>1.671875</td>\n      <td>1.951172</td>\n      <td>-1.367188</td>\n      <td>-2.916016</td>\n      <td>-0.161621</td>\n      <td>...</td>\n      <td>0</td>\n      <td>0</td>\n      <td>0</td>\n      <td>0</td>\n      <td>0</td>\n      <td>0</td>\n      <td>0</td>\n      <td>0</td>\n      <td>0</td>\n      <td>0</td>\n    </tr>\n    <tr>\n      <th>3</th>\n      <td>7</td>\n      <td>0.844727</td>\n      <td>-0.527344</td>\n      <td>0.271484</td>\n      <td>0.753418</td>\n      <td>1.576172</td>\n      <td>2.492188</td>\n      <td>-1.652344</td>\n      <td>-2.705078</td>\n      <td>-2.271484</td>\n      <td>...</td>\n      <td>0</td>\n      <td>0</td>\n      <td>0</td>\n      <td>0</td>\n      <td>0</td>\n      <td>1</td>\n      <td>0</td>\n      <td>0</td>\n      <td>0</td>\n      <td>0</td>\n    </tr>\n    <tr>\n      <th>4</th>\n      <td>8</td>\n      <td>1.522461</td>\n      <td>-2.654297</td>\n      <td>0.423584</td>\n      <td>1.816406</td>\n      <td>2.029297</td>\n      <td>1.697266</td>\n      <td>0.608887</td>\n      <td>-1.333008</td>\n      <td>-1.022461</td>\n      <td>...</td>\n      <td>0</td>\n      <td>0</td>\n      <td>0</td>\n      <td>0</td>\n      <td>0</td>\n      <td>1</td>\n      <td>0</td>\n      <td>0</td>\n      <td>0</td>\n      <td>0</td>\n    </tr>\n  </tbody>\n</table>\n<p>5 rows × 144 columns</p>\n</div>"
     },
     "metadata": {},
     "execution_count": 5
    }
   ],
   "source": [
    "full_vec = pd.merge(synop_vec, genre_vec)\n",
    "full_vec.head()"
   ]
  },
  {
   "cell_type": "code",
   "execution_count": 6,
   "metadata": {},
   "outputs": [
    {
     "output_type": "execute_result",
     "data": {
      "text/plain": [
       "   MAL_ID         0         1         2         3         4         5  \\\n",
       "0    1227  1.269531 -0.030731  2.216797  2.130859  1.860352  3.169922   \n",
       "1     979  2.593750 -1.822266 -0.127075 -1.026367  1.797852  2.517578   \n",
       "2    1203  1.093750 -2.064453  0.447510  1.623047  2.945312  2.527344   \n",
       "3   40532  0.416016 -2.349609  1.787109  2.597656  2.130859  1.171875   \n",
       "4    6422  4.011719 -2.322266  0.521484  1.869141  1.988281  2.228516   \n",
       "\n",
       "          6         7         8  ...  Shounen Ai  Slice of Life  Space  \\\n",
       "0 -0.570801 -1.838867 -1.964844  ...           0              0      1   \n",
       "1 -0.948242 -3.101562 -2.365234  ...           0              0      0   \n",
       "2 -1.524414 -1.492188 -0.616699  ...           0              0      0   \n",
       "3 -2.691406 -1.486328 -1.246094  ...           0              0      0   \n",
       "4  0.500977 -1.378906 -0.617188  ...           0              0      0   \n",
       "\n",
       "   Sports  Super Power  Supernatural  Thriller  Vampire  Yaoi  Yuri  \n",
       "0       0            0             1         0        0     0     0  \n",
       "1       0            1             0         0        0     0     0  \n",
       "2       0            0             0         0        0     0     0  \n",
       "3       0            0             0         0        0     0     0  \n",
       "4       0            0             0         0        0     0     0  \n",
       "\n",
       "[5 rows x 144 columns]"
      ],
      "text/html": "<div>\n<style scoped>\n    .dataframe tbody tr th:only-of-type {\n        vertical-align: middle;\n    }\n\n    .dataframe tbody tr th {\n        vertical-align: top;\n    }\n\n    .dataframe thead th {\n        text-align: right;\n    }\n</style>\n<table border=\"1\" class=\"dataframe\">\n  <thead>\n    <tr style=\"text-align: right;\">\n      <th></th>\n      <th>MAL_ID</th>\n      <th>0</th>\n      <th>1</th>\n      <th>2</th>\n      <th>3</th>\n      <th>4</th>\n      <th>5</th>\n      <th>6</th>\n      <th>7</th>\n      <th>8</th>\n      <th>...</th>\n      <th>Shounen Ai</th>\n      <th>Slice of Life</th>\n      <th>Space</th>\n      <th>Sports</th>\n      <th>Super Power</th>\n      <th>Supernatural</th>\n      <th>Thriller</th>\n      <th>Vampire</th>\n      <th>Yaoi</th>\n      <th>Yuri</th>\n    </tr>\n  </thead>\n  <tbody>\n    <tr>\n      <th>0</th>\n      <td>1227</td>\n      <td>1.269531</td>\n      <td>-0.030731</td>\n      <td>2.216797</td>\n      <td>2.130859</td>\n      <td>1.860352</td>\n      <td>3.169922</td>\n      <td>-0.570801</td>\n      <td>-1.838867</td>\n      <td>-1.964844</td>\n      <td>...</td>\n      <td>0</td>\n      <td>0</td>\n      <td>1</td>\n      <td>0</td>\n      <td>0</td>\n      <td>1</td>\n      <td>0</td>\n      <td>0</td>\n      <td>0</td>\n      <td>0</td>\n    </tr>\n    <tr>\n      <th>1</th>\n      <td>979</td>\n      <td>2.593750</td>\n      <td>-1.822266</td>\n      <td>-0.127075</td>\n      <td>-1.026367</td>\n      <td>1.797852</td>\n      <td>2.517578</td>\n      <td>-0.948242</td>\n      <td>-3.101562</td>\n      <td>-2.365234</td>\n      <td>...</td>\n      <td>0</td>\n      <td>0</td>\n      <td>0</td>\n      <td>0</td>\n      <td>1</td>\n      <td>0</td>\n      <td>0</td>\n      <td>0</td>\n      <td>0</td>\n      <td>0</td>\n    </tr>\n    <tr>\n      <th>2</th>\n      <td>1203</td>\n      <td>1.093750</td>\n      <td>-2.064453</td>\n      <td>0.447510</td>\n      <td>1.623047</td>\n      <td>2.945312</td>\n      <td>2.527344</td>\n      <td>-1.524414</td>\n      <td>-1.492188</td>\n      <td>-0.616699</td>\n      <td>...</td>\n      <td>0</td>\n      <td>0</td>\n      <td>0</td>\n      <td>0</td>\n      <td>0</td>\n      <td>0</td>\n      <td>0</td>\n      <td>0</td>\n      <td>0</td>\n      <td>0</td>\n    </tr>\n    <tr>\n      <th>3</th>\n      <td>40532</td>\n      <td>0.416016</td>\n      <td>-2.349609</td>\n      <td>1.787109</td>\n      <td>2.597656</td>\n      <td>2.130859</td>\n      <td>1.171875</td>\n      <td>-2.691406</td>\n      <td>-1.486328</td>\n      <td>-1.246094</td>\n      <td>...</td>\n      <td>0</td>\n      <td>0</td>\n      <td>0</td>\n      <td>0</td>\n      <td>0</td>\n      <td>0</td>\n      <td>0</td>\n      <td>0</td>\n      <td>0</td>\n      <td>0</td>\n    </tr>\n    <tr>\n      <th>4</th>\n      <td>6422</td>\n      <td>4.011719</td>\n      <td>-2.322266</td>\n      <td>0.521484</td>\n      <td>1.869141</td>\n      <td>1.988281</td>\n      <td>2.228516</td>\n      <td>0.500977</td>\n      <td>-1.378906</td>\n      <td>-0.617188</td>\n      <td>...</td>\n      <td>0</td>\n      <td>0</td>\n      <td>0</td>\n      <td>0</td>\n      <td>0</td>\n      <td>0</td>\n      <td>0</td>\n      <td>0</td>\n      <td>0</td>\n      <td>0</td>\n    </tr>\n  </tbody>\n</table>\n<p>5 rows × 144 columns</p>\n</div>"
     },
     "metadata": {},
     "execution_count": 6
    }
   ],
   "source": [
    "# random shuffle and re-index\n",
    "full_vec = full_vec.sample(frac=1).reset_index(drop=True)\n",
    "full_vec.head()"
   ]
  },
  {
   "cell_type": "code",
   "execution_count": 7,
   "metadata": {},
   "outputs": [],
   "source": [
    "# split dataframe to train-test numpy array\n",
    "train_ratio = 0.8\n",
    "num_train = int(len(full_vec) * train_ratio)\n",
    "\n",
    "x_train = full_vec[synop_cols][:num_train].values\n",
    "t_train = full_vec[genre_cols][:num_train].values\n",
    "id_train = full_vec['MAL_ID'][num_train:].values\n",
    "\n",
    "x_test = full_vec[synop_cols][num_train:].values\n",
    "t_test = full_vec[genre_cols][num_train:].values\n",
    "id_test = full_vec['MAL_ID'][num_train:].values\n",
    "\n",
    "del synop_vec, genre_vec, full_vec"
   ]
  },
  {
   "cell_type": "code",
   "execution_count": 8,
   "metadata": {},
   "outputs": [],
   "source": [
    "# standardization\n",
    "x_train_mean = x_train.mean(axis=0)\n",
    "x_train_std  = x_train.std(axis=0)\n",
    "\n",
    "x_train = (x_train - x_train_mean) / x_train_std\n",
    "x_test  = (x_test  - x_train_mean) / x_train_std"
   ]
  },
  {
   "source": [
    "## Define Model"
   ],
   "cell_type": "markdown",
   "metadata": {}
  },
  {
   "cell_type": "code",
   "execution_count": 9,
   "metadata": {},
   "outputs": [
    {
     "output_type": "stream",
     "name": "stdout",
     "text": [
      "------------------------------------------------------------\nAffine(input_size=100, output_size=80, weight_init=xavier)\n------------------------------------------------------------\nBatchNormalization(size_layer=80)\n------------------------------------------------------------\nDropout(dropout_ratio=0.5)\n------------------------------------------------------------\nSigmoid\n------------------------------------------------------------\nAffine(input_size=80, output_size=60, weight_init=xavier)\n------------------------------------------------------------\nBatchNormalization(size_layer=60)\n------------------------------------------------------------\nDropout(dropout_ratio=0.5)\n------------------------------------------------------------\nSigmoid\n------------------------------------------------------------\nAffine(input_size=60, output_size=50, weight_init=xavier)\n------------------------------------------------------------\nBatchNormalization(size_layer=50)\n------------------------------------------------------------\nDropout(dropout_ratio=0.5)\n------------------------------------------------------------\nSigmoid\n------------------------------------------------------------\nAffine(input_size=50, output_size=43, weight_init=xavier)\n------------------------------------------------------------\nFocalLoss(gamma=0.5)\n------------------------------------------------------------\n"
     ]
    }
   ],
   "source": [
    "input_size  = len(synop_cols)\n",
    "output_size = len(genre_cols)\n",
    "\n",
    "model = MultiLabelClassifier(input_size=input_size,\n",
    "                             hidden_size_list=[80, 60, 50],\n",
    "                             output_size=output_size,\n",
    "                             use_dropout=True,\n",
    "                             dropout_ratio=0.5,\n",
    "                             use_batchnorm=True)\n",
    "model.summary()"
   ]
  },
  {
   "cell_type": "code",
   "execution_count": 10,
   "metadata": {},
   "outputs": [],
   "source": [
    "optimizer = Adam()\n",
    "trainer = Trainer(model, optimizer)"
   ]
  },
  {
   "source": [
    "## Train Model"
   ],
   "cell_type": "markdown",
   "metadata": {}
  },
  {
   "cell_type": "code",
   "execution_count": 11,
   "metadata": {
    "tags": []
   },
   "outputs": [
    {
     "output_type": "stream",
     "name": "stdout",
     "text": [
      "| epoch   1 | time   0[s] | train loss 10.65 | val loss 10.72\n",
      "| epoch   2 | time   0[s] | train loss 8.13 | val loss 8.20\n",
      "| epoch   3 | time   0[s] | train loss 7.50 | val loss 7.57\n",
      "| epoch   4 | time   1[s] | train loss 7.27 | val loss 7.35\n",
      "| epoch   5 | time   1[s] | train loss 7.15 | val loss 7.24\n",
      "| epoch   6 | time   1[s] | train loss 7.09 | val loss 7.19\n",
      "| epoch   7 | time   1[s] | train loss 7.04 | val loss 7.15\n",
      "| epoch   8 | time   1[s] | train loss 7.01 | val loss 7.13\n",
      "| epoch   9 | time   2[s] | train loss 6.99 | val loss 7.11\n",
      "| epoch  10 | time   2[s] | train loss 6.96 | val loss 7.09\n",
      "| epoch  11 | time   2[s] | train loss 6.95 | val loss 7.08\n",
      "| epoch  12 | time   2[s] | train loss 6.93 | val loss 7.07\n",
      "| epoch  13 | time   2[s] | train loss 6.91 | val loss 7.06\n",
      "| epoch  14 | time   3[s] | train loss 6.90 | val loss 7.05\n",
      "| epoch  15 | time   3[s] | train loss 6.88 | val loss 7.04\n",
      "| epoch  16 | time   3[s] | train loss 6.88 | val loss 7.04\n",
      "| epoch  17 | time   3[s] | train loss 6.87 | val loss 7.04\n",
      "| epoch  18 | time   3[s] | train loss 6.85 | val loss 7.03\n",
      "| epoch  19 | time   3[s] | train loss 6.84 | val loss 7.03\n",
      "| epoch  20 | time   3[s] | train loss 6.84 | val loss 7.02\n",
      "| epoch  21 | time   4[s] | train loss 6.83 | val loss 7.02\n",
      "| epoch  22 | time   4[s] | train loss 6.82 | val loss 7.02\n",
      "| epoch  23 | time   4[s] | train loss 6.81 | val loss 7.02\n",
      "| epoch  24 | time   4[s] | train loss 6.81 | val loss 7.01\n",
      "| epoch  25 | time   4[s] | train loss 6.80 | val loss 7.01\n",
      "| epoch  26 | time   4[s] | train loss 6.79 | val loss 7.01\n",
      "| epoch  27 | time   5[s] | train loss 6.78 | val loss 7.01\n",
      "| epoch  28 | time   5[s] | train loss 6.78 | val loss 7.00\n",
      "| epoch  29 | time   5[s] | train loss 6.77 | val loss 7.00\n",
      "| epoch  30 | time   5[s] | train loss 6.77 | val loss 7.00\n",
      "| epoch  31 | time   5[s] | train loss 6.76 | val loss 7.00\n",
      "| epoch  32 | time   6[s] | train loss 6.77 | val loss 7.01\n",
      "| epoch  33 | time   6[s] | train loss 6.75 | val loss 7.00\n",
      "| epoch  34 | time   6[s] | train loss 6.75 | val loss 7.01\n",
      "| epoch  35 | time   6[s] | train loss 6.75 | val loss 7.01\n",
      "| epoch  36 | time   6[s] | train loss 6.75 | val loss 7.01\n",
      "| epoch  37 | time   6[s] | train loss 6.74 | val loss 7.00\n",
      "| epoch  38 | time   7[s] | train loss 6.74 | val loss 7.00\n",
      "| epoch  39 | time   7[s] | train loss 6.73 | val loss 7.00\n",
      "| epoch  40 | time   7[s] | train loss 6.72 | val loss 7.00\n",
      "| epoch  41 | time   7[s] | train loss 6.72 | val loss 7.00\n",
      "| epoch  42 | time   7[s] | train loss 6.71 | val loss 6.99\n",
      "| epoch  43 | time   7[s] | train loss 6.72 | val loss 7.01\n",
      "| epoch  44 | time   8[s] | train loss 6.70 | val loss 6.99\n",
      "| epoch  45 | time   8[s] | train loss 6.71 | val loss 7.00\n",
      "| epoch  46 | time   8[s] | train loss 6.70 | val loss 7.00\n",
      "| epoch  47 | time   8[s] | train loss 6.69 | val loss 6.99\n",
      "| epoch  48 | time   8[s] | train loss 6.70 | val loss 7.00\n",
      "| epoch  49 | time   8[s] | train loss 6.70 | val loss 7.00\n",
      "| epoch  50 | time   8[s] | train loss 6.70 | val loss 7.00\n",
      "| epoch  51 | time   9[s] | train loss 6.69 | val loss 7.00\n",
      "| epoch  52 | time   9[s] | train loss 6.69 | val loss 6.99\n",
      "| epoch  53 | time   9[s] | train loss 6.68 | val loss 6.99\n",
      "| epoch  54 | time   9[s] | train loss 6.68 | val loss 7.00\n",
      "| epoch  55 | time   9[s] | train loss 6.67 | val loss 6.99\n",
      "| epoch  56 | time  10[s] | train loss 6.69 | val loss 7.01\n",
      "| epoch  57 | time  10[s] | train loss 6.66 | val loss 6.98\n",
      "| epoch  58 | time  10[s] | train loss 6.68 | val loss 7.01\n",
      "| epoch  59 | time  10[s] | train loss 6.66 | val loss 6.99\n",
      "| epoch  60 | time  10[s] | train loss 6.68 | val loss 7.00\n",
      "| epoch  61 | time  10[s] | train loss 6.66 | val loss 6.98\n",
      "| epoch  62 | time  11[s] | train loss 6.66 | val loss 7.00\n",
      "| epoch  63 | time  11[s] | train loss 6.66 | val loss 6.99\n",
      "| epoch  64 | time  11[s] | train loss 6.67 | val loss 7.01\n",
      "| epoch  65 | time  11[s] | train loss 6.67 | val loss 7.01\n",
      "| epoch  66 | time  11[s] | train loss 6.66 | val loss 7.00\n",
      "| epoch  67 | time  12[s] | train loss 6.67 | val loss 7.02\n",
      "| epoch  68 | time  12[s] | train loss 6.66 | val loss 7.01\n",
      "| epoch  69 | time  12[s] | train loss 6.66 | val loss 7.00\n",
      "| epoch  70 | time  12[s] | train loss 6.67 | val loss 7.01\n",
      "| epoch  71 | time  12[s] | train loss 6.65 | val loss 7.01\n",
      "| epoch  72 | time  12[s] | train loss 6.66 | val loss 7.00\n",
      "| epoch  73 | time  13[s] | train loss 6.65 | val loss 7.00\n",
      "| epoch  74 | time  13[s] | train loss 6.65 | val loss 7.00\n",
      "| epoch  75 | time  13[s] | train loss 6.66 | val loss 7.01\n",
      "| epoch  76 | time  13[s] | train loss 6.65 | val loss 7.01\n",
      "| epoch  77 | time  13[s] | train loss 6.64 | val loss 7.01\n",
      "| epoch  78 | time  13[s] | train loss 6.65 | val loss 7.01\n",
      "| epoch  79 | time  14[s] | train loss 6.64 | val loss 7.01\n",
      "| epoch  80 | time  14[s] | train loss 6.64 | val loss 7.00\n",
      "| epoch  81 | time  14[s] | train loss 6.64 | val loss 7.01\n",
      "| epoch  82 | time  14[s] | train loss 6.63 | val loss 7.01\n",
      "| epoch  83 | time  14[s] | train loss 6.65 | val loss 7.02\n",
      "| epoch  84 | time  15[s] | train loss 6.65 | val loss 7.02\n",
      "| epoch  85 | time  15[s] | train loss 6.63 | val loss 7.01\n",
      "| epoch  86 | time  15[s] | train loss 6.64 | val loss 7.01\n",
      "| epoch  87 | time  15[s] | train loss 6.64 | val loss 7.03\n",
      "| epoch  88 | time  15[s] | train loss 6.66 | val loss 7.03\n",
      "| epoch  89 | time  15[s] | train loss 6.63 | val loss 7.01\n",
      "| epoch  90 | time  16[s] | train loss 6.65 | val loss 7.04\n",
      "| epoch  91 | time  16[s] | train loss 6.65 | val loss 7.04\n",
      "| epoch  92 | time  16[s] | train loss 6.62 | val loss 7.02\n",
      "| epoch  93 | time  16[s] | train loss 6.62 | val loss 7.02\n",
      "| epoch  94 | time  16[s] | train loss 6.64 | val loss 7.05\n",
      "| epoch  95 | time  16[s] | train loss 6.63 | val loss 7.03\n",
      "| epoch  96 | time  17[s] | train loss 6.64 | val loss 7.04\n",
      "| epoch  97 | time  17[s] | train loss 6.64 | val loss 7.05\n",
      "| epoch  98 | time  17[s] | train loss 6.63 | val loss 7.04\n",
      "| epoch  99 | time  17[s] | train loss 6.63 | val loss 7.04\n",
      "| epoch 100 | time  17[s] | train loss 6.63 | val loss 7.04\n",
      "| epoch 101 | time  17[s] | train loss 6.64 | val loss 7.05\n",
      "| epoch 102 | time  18[s] | train loss 6.64 | val loss 7.05\n",
      "| epoch 103 | time  18[s] | train loss 6.62 | val loss 7.03\n",
      "| epoch 104 | time  18[s] | train loss 6.63 | val loss 7.05\n",
      "| epoch 105 | time  18[s] | train loss 6.63 | val loss 7.06\n",
      "| epoch 106 | time  18[s] | train loss 6.64 | val loss 7.05\n",
      "| epoch 107 | time  19[s] | train loss 6.65 | val loss 7.07\n",
      "| epoch 108 | time  19[s] | train loss 6.63 | val loss 7.05\n",
      "| epoch 109 | time  19[s] | train loss 6.62 | val loss 7.06\n",
      "| epoch 110 | time  19[s] | train loss 6.64 | val loss 7.07\n",
      "| epoch 111 | time  19[s] | train loss 6.63 | val loss 7.07\n",
      "| epoch 112 | time  19[s] | train loss 6.63 | val loss 7.07\n",
      "| epoch 113 | time  20[s] | train loss 6.64 | val loss 7.08\n",
      "| epoch 114 | time  20[s] | train loss 6.65 | val loss 7.09\n",
      "| epoch 115 | time  20[s] | train loss 6.62 | val loss 7.07\n",
      "| epoch 116 | time  20[s] | train loss 6.63 | val loss 7.08\n",
      "| epoch 117 | time  20[s] | train loss 6.64 | val loss 7.08\n",
      "| epoch 118 | time  20[s] | train loss 6.63 | val loss 7.07\n",
      "| epoch 119 | time  21[s] | train loss 6.64 | val loss 7.07\n",
      "| epoch 120 | time  21[s] | train loss 6.65 | val loss 7.10\n",
      "| epoch 121 | time  21[s] | train loss 6.65 | val loss 7.09\n",
      "| epoch 122 | time  21[s] | train loss 6.63 | val loss 7.09\n",
      "| epoch 123 | time  21[s] | train loss 6.63 | val loss 7.09\n",
      "| epoch 124 | time  21[s] | train loss 6.64 | val loss 7.10\n",
      "| epoch 125 | time  22[s] | train loss 6.64 | val loss 7.10\n",
      "| epoch 126 | time  22[s] | train loss 6.63 | val loss 7.09\n",
      "| epoch 127 | time  22[s] | train loss 6.65 | val loss 7.10\n",
      "| epoch 128 | time  22[s] | train loss 6.63 | val loss 7.10\n",
      "| epoch 129 | time  22[s] | train loss 6.62 | val loss 7.09\n",
      "| epoch 130 | time  22[s] | train loss 6.65 | val loss 7.13\n",
      "| epoch 131 | time  23[s] | train loss 6.65 | val loss 7.13\n",
      "| epoch 132 | time  23[s] | train loss 6.63 | val loss 7.11\n",
      "| epoch 133 | time  23[s] | train loss 6.63 | val loss 7.11\n",
      "| epoch 134 | time  23[s] | train loss 6.62 | val loss 7.10\n",
      "| epoch 135 | time  23[s] | train loss 6.63 | val loss 7.12\n",
      "| epoch 136 | time  23[s] | train loss 6.64 | val loss 7.12\n",
      "| epoch 137 | time  24[s] | train loss 6.64 | val loss 7.13\n",
      "| epoch 138 | time  24[s] | train loss 6.64 | val loss 7.12\n",
      "| epoch 139 | time  24[s] | train loss 6.64 | val loss 7.13\n",
      "| epoch 140 | time  24[s] | train loss 6.65 | val loss 7.15\n",
      "| epoch 141 | time  24[s] | train loss 6.63 | val loss 7.12\n",
      "| epoch 142 | time  24[s] | train loss 6.62 | val loss 7.13\n",
      "| epoch 143 | time  25[s] | train loss 6.65 | val loss 7.14\n",
      "| epoch 144 | time  25[s] | train loss 6.64 | val loss 7.15\n",
      "| epoch 145 | time  25[s] | train loss 6.63 | val loss 7.14\n",
      "| epoch 146 | time  25[s] | train loss 6.66 | val loss 7.16\n",
      "| epoch 147 | time  25[s] | train loss 6.65 | val loss 7.16\n",
      "| epoch 148 | time  26[s] | train loss 6.65 | val loss 7.16\n",
      "| epoch 149 | time  26[s] | train loss 6.62 | val loss 7.14\n",
      "| epoch 150 | time  26[s] | train loss 6.66 | val loss 7.17\n",
      "| epoch 151 | time  26[s] | train loss 6.62 | val loss 7.14\n",
      "| epoch 152 | time  26[s] | train loss 6.64 | val loss 7.17\n",
      "| epoch 153 | time  27[s] | train loss 6.64 | val loss 7.17\n",
      "| epoch 154 | time  27[s] | train loss 6.63 | val loss 7.17\n",
      "| epoch 155 | time  27[s] | train loss 6.63 | val loss 7.17\n",
      "| epoch 156 | time  27[s] | train loss 6.62 | val loss 7.15\n",
      "| epoch 157 | time  27[s] | train loss 6.65 | val loss 7.18\n",
      "| epoch 158 | time  28[s] | train loss 6.62 | val loss 7.17\n",
      "| epoch 159 | time  28[s] | train loss 6.64 | val loss 7.18\n",
      "| epoch 160 | time  28[s] | train loss 6.64 | val loss 7.18\n",
      "| epoch 161 | time  28[s] | train loss 6.66 | val loss 7.20\n",
      "| epoch 162 | time  28[s] | train loss 6.64 | val loss 7.19\n",
      "| epoch 163 | time  28[s] | train loss 6.66 | val loss 7.20\n",
      "| epoch 164 | time  29[s] | train loss 6.64 | val loss 7.19\n",
      "| epoch 165 | time  29[s] | train loss 6.65 | val loss 7.21\n",
      "| epoch 166 | time  29[s] | train loss 6.63 | val loss 7.20\n",
      "| epoch 167 | time  29[s] | train loss 6.62 | val loss 7.20\n",
      "| epoch 168 | time  30[s] | train loss 6.65 | val loss 7.22\n",
      "| epoch 169 | time  30[s] | train loss 6.64 | val loss 7.21\n",
      "| epoch 170 | time  30[s] | train loss 6.63 | val loss 7.21\n",
      "| epoch 171 | time  30[s] | train loss 6.66 | val loss 7.25\n",
      "| epoch 172 | time  30[s] | train loss 6.62 | val loss 7.20\n",
      "| epoch 173 | time  30[s] | train loss 6.63 | val loss 7.20\n",
      "| epoch 174 | time  31[s] | train loss 6.67 | val loss 7.25\n",
      "| epoch 175 | time  31[s] | train loss 6.63 | val loss 7.21\n",
      "| epoch 176 | time  31[s] | train loss 6.64 | val loss 7.23\n",
      "| epoch 177 | time  31[s] | train loss 6.67 | val loss 7.25\n",
      "| epoch 178 | time  31[s] | train loss 6.63 | val loss 7.22\n",
      "| epoch 179 | time  32[s] | train loss 6.66 | val loss 7.26\n",
      "| epoch 180 | time  32[s] | train loss 6.62 | val loss 7.22\n",
      "| epoch 181 | time  32[s] | train loss 6.66 | val loss 7.26\n",
      "| epoch 182 | time  32[s] | train loss 6.64 | val loss 7.24\n",
      "| epoch 183 | time  32[s] | train loss 6.65 | val loss 7.26\n",
      "| epoch 184 | time  33[s] | train loss 6.65 | val loss 7.27\n",
      "| epoch 185 | time  33[s] | train loss 6.64 | val loss 7.26\n",
      "| epoch 186 | time  33[s] | train loss 6.63 | val loss 7.25\n",
      "| epoch 187 | time  33[s] | train loss 6.65 | val loss 7.27\n",
      "| epoch 188 | time  33[s] | train loss 6.65 | val loss 7.27\n",
      "| epoch 189 | time  34[s] | train loss 6.61 | val loss 7.23\n",
      "| epoch 190 | time  34[s] | train loss 6.67 | val loss 7.29\n",
      "| epoch 191 | time  34[s] | train loss 6.62 | val loss 7.26\n",
      "| epoch 192 | time  34[s] | train loss 6.67 | val loss 7.31\n",
      "| epoch 193 | time  34[s] | train loss 6.65 | val loss 7.29\n",
      "| epoch 194 | time  34[s] | train loss 6.66 | val loss 7.31\n",
      "| epoch 195 | time  35[s] | train loss 6.65 | val loss 7.30\n",
      "| epoch 196 | time  35[s] | train loss 6.67 | val loss 7.31\n",
      "| epoch 197 | time  35[s] | train loss 6.62 | val loss 7.27\n",
      "| epoch 198 | time  35[s] | train loss 6.67 | val loss 7.32\n",
      "| epoch 199 | time  35[s] | train loss 6.66 | val loss 7.31\n",
      "| epoch 200 | time  35[s] | train loss 6.65 | val loss 7.32\n"
     ]
    }
   ],
   "source": [
    "num_epochs = 200\n",
    "batch_size = 100\n",
    "\n",
    "trainer.fit(x_train, t_train, x_test, t_test, \n",
    "            max_epoch=num_epochs, \n",
    "            batch_size=batch_size)"
   ]
  },
  {
   "cell_type": "code",
   "execution_count": 12,
   "metadata": {},
   "outputs": [
    {
     "output_type": "display_data",
     "data": {
      "text/plain": "<Figure size 432x288 with 1 Axes>",
      "image/svg+xml": "<?xml version=\"1.0\" encoding=\"utf-8\" standalone=\"no\"?>\n<!DOCTYPE svg PUBLIC \"-//W3C//DTD SVG 1.1//EN\"\n  \"http://www.w3.org/Graphics/SVG/1.1/DTD/svg11.dtd\">\n<svg height=\"262.19625pt\" version=\"1.1\" viewBox=\"0 0 382.603125 262.19625\" width=\"382.603125pt\" xmlns=\"http://www.w3.org/2000/svg\" xmlns:xlink=\"http://www.w3.org/1999/xlink\">\n <metadata>\n  <rdf:RDF xmlns:cc=\"http://creativecommons.org/ns#\" xmlns:dc=\"http://purl.org/dc/elements/1.1/\" xmlns:rdf=\"http://www.w3.org/1999/02/22-rdf-syntax-ns#\">\n   <cc:Work>\n    <dc:type rdf:resource=\"http://purl.org/dc/dcmitype/StillImage\"/>\n    <dc:date>2021-06-14T00:19:07.622496</dc:date>\n    <dc:format>image/svg+xml</dc:format>\n    <dc:creator>\n     <cc:Agent>\n      <dc:title>Matplotlib v3.4.2, https://matplotlib.org/</dc:title>\n     </cc:Agent>\n    </dc:creator>\n   </cc:Work>\n  </rdf:RDF>\n </metadata>\n <defs>\n  <style type=\"text/css\">*{stroke-linecap:butt;stroke-linejoin:round;}</style>\n </defs>\n <g id=\"figure_1\">\n  <g id=\"patch_1\">\n   <path d=\"M 0 262.19625 \nL 382.603125 262.19625 \nL 382.603125 0 \nL 0 0 \nz\n\" style=\"fill:none;\"/>\n  </g>\n  <g id=\"axes_1\">\n   <g id=\"patch_2\">\n    <path d=\"M 40.603125 224.64 \nL 375.403125 224.64 \nL 375.403125 7.2 \nL 40.603125 7.2 \nz\n\" style=\"fill:#ffffff;\"/>\n   </g>\n   <g id=\"matplotlib.axis_1\">\n    <g id=\"xtick_1\">\n     <g id=\"line2d_1\">\n      <defs>\n       <path d=\"M 0 0 \nL 0 3.5 \n\" id=\"m319b6c08c7\" style=\"stroke:#000000;stroke-width:0.8;\"/>\n      </defs>\n      <g>\n       <use style=\"stroke:#000000;stroke-width:0.8;\" x=\"55.821307\" xlink:href=\"#m319b6c08c7\" y=\"224.64\"/>\n      </g>\n     </g>\n     <g id=\"text_1\">\n      <!-- 0 -->\n      <g transform=\"translate(52.640057 239.238437)scale(0.1 -0.1)\">\n       <defs>\n        <path d=\"M 2034 4250 \nQ 1547 4250 1301 3770 \nQ 1056 3291 1056 2328 \nQ 1056 1369 1301 889 \nQ 1547 409 2034 409 \nQ 2525 409 2770 889 \nQ 3016 1369 3016 2328 \nQ 3016 3291 2770 3770 \nQ 2525 4250 2034 4250 \nz\nM 2034 4750 \nQ 2819 4750 3233 4129 \nQ 3647 3509 3647 2328 \nQ 3647 1150 3233 529 \nQ 2819 -91 2034 -91 \nQ 1250 -91 836 529 \nQ 422 1150 422 2328 \nQ 422 3509 836 4129 \nQ 1250 4750 2034 4750 \nz\n\" id=\"DejaVuSans-30\" transform=\"scale(0.015625)\"/>\n       </defs>\n       <use xlink:href=\"#DejaVuSans-30\"/>\n      </g>\n     </g>\n    </g>\n    <g id=\"xtick_2\">\n     <g id=\"line2d_2\">\n      <g>\n       <use style=\"stroke:#000000;stroke-width:0.8;\" x=\"94.057945\" xlink:href=\"#m319b6c08c7\" y=\"224.64\"/>\n      </g>\n     </g>\n     <g id=\"text_2\">\n      <!-- 25 -->\n      <g transform=\"translate(87.695445 239.238437)scale(0.1 -0.1)\">\n       <defs>\n        <path d=\"M 1228 531 \nL 3431 531 \nL 3431 0 \nL 469 0 \nL 469 531 \nQ 828 903 1448 1529 \nQ 2069 2156 2228 2338 \nQ 2531 2678 2651 2914 \nQ 2772 3150 2772 3378 \nQ 2772 3750 2511 3984 \nQ 2250 4219 1831 4219 \nQ 1534 4219 1204 4116 \nQ 875 4013 500 3803 \nL 500 4441 \nQ 881 4594 1212 4672 \nQ 1544 4750 1819 4750 \nQ 2544 4750 2975 4387 \nQ 3406 4025 3406 3419 \nQ 3406 3131 3298 2873 \nQ 3191 2616 2906 2266 \nQ 2828 2175 2409 1742 \nQ 1991 1309 1228 531 \nz\n\" id=\"DejaVuSans-32\" transform=\"scale(0.015625)\"/>\n        <path d=\"M 691 4666 \nL 3169 4666 \nL 3169 4134 \nL 1269 4134 \nL 1269 2991 \nQ 1406 3038 1543 3061 \nQ 1681 3084 1819 3084 \nQ 2600 3084 3056 2656 \nQ 3513 2228 3513 1497 \nQ 3513 744 3044 326 \nQ 2575 -91 1722 -91 \nQ 1428 -91 1123 -41 \nQ 819 9 494 109 \nL 494 744 \nQ 775 591 1075 516 \nQ 1375 441 1709 441 \nQ 2250 441 2565 725 \nQ 2881 1009 2881 1497 \nQ 2881 1984 2565 2268 \nQ 2250 2553 1709 2553 \nQ 1456 2553 1204 2497 \nQ 953 2441 691 2322 \nL 691 4666 \nz\n\" id=\"DejaVuSans-35\" transform=\"scale(0.015625)\"/>\n       </defs>\n       <use xlink:href=\"#DejaVuSans-32\"/>\n       <use x=\"63.623047\" xlink:href=\"#DejaVuSans-35\"/>\n      </g>\n     </g>\n    </g>\n    <g id=\"xtick_3\">\n     <g id=\"line2d_3\">\n      <g>\n       <use style=\"stroke:#000000;stroke-width:0.8;\" x=\"132.294582\" xlink:href=\"#m319b6c08c7\" y=\"224.64\"/>\n      </g>\n     </g>\n     <g id=\"text_3\">\n      <!-- 50 -->\n      <g transform=\"translate(125.932082 239.238437)scale(0.1 -0.1)\">\n       <use xlink:href=\"#DejaVuSans-35\"/>\n       <use x=\"63.623047\" xlink:href=\"#DejaVuSans-30\"/>\n      </g>\n     </g>\n    </g>\n    <g id=\"xtick_4\">\n     <g id=\"line2d_4\">\n      <g>\n       <use style=\"stroke:#000000;stroke-width:0.8;\" x=\"170.53122\" xlink:href=\"#m319b6c08c7\" y=\"224.64\"/>\n      </g>\n     </g>\n     <g id=\"text_4\">\n      <!-- 75 -->\n      <g transform=\"translate(164.16872 239.238437)scale(0.1 -0.1)\">\n       <defs>\n        <path d=\"M 525 4666 \nL 3525 4666 \nL 3525 4397 \nL 1831 0 \nL 1172 0 \nL 2766 4134 \nL 525 4134 \nL 525 4666 \nz\n\" id=\"DejaVuSans-37\" transform=\"scale(0.015625)\"/>\n       </defs>\n       <use xlink:href=\"#DejaVuSans-37\"/>\n       <use x=\"63.623047\" xlink:href=\"#DejaVuSans-35\"/>\n      </g>\n     </g>\n    </g>\n    <g id=\"xtick_5\">\n     <g id=\"line2d_5\">\n      <g>\n       <use style=\"stroke:#000000;stroke-width:0.8;\" x=\"208.767858\" xlink:href=\"#m319b6c08c7\" y=\"224.64\"/>\n      </g>\n     </g>\n     <g id=\"text_5\">\n      <!-- 100 -->\n      <g transform=\"translate(199.224108 239.238437)scale(0.1 -0.1)\">\n       <defs>\n        <path d=\"M 794 531 \nL 1825 531 \nL 1825 4091 \nL 703 3866 \nL 703 4441 \nL 1819 4666 \nL 2450 4666 \nL 2450 531 \nL 3481 531 \nL 3481 0 \nL 794 0 \nL 794 531 \nz\n\" id=\"DejaVuSans-31\" transform=\"scale(0.015625)\"/>\n       </defs>\n       <use xlink:href=\"#DejaVuSans-31\"/>\n       <use x=\"63.623047\" xlink:href=\"#DejaVuSans-30\"/>\n       <use x=\"127.246094\" xlink:href=\"#DejaVuSans-30\"/>\n      </g>\n     </g>\n    </g>\n    <g id=\"xtick_6\">\n     <g id=\"line2d_6\">\n      <g>\n       <use style=\"stroke:#000000;stroke-width:0.8;\" x=\"247.004495\" xlink:href=\"#m319b6c08c7\" y=\"224.64\"/>\n      </g>\n     </g>\n     <g id=\"text_6\">\n      <!-- 125 -->\n      <g transform=\"translate(237.460745 239.238437)scale(0.1 -0.1)\">\n       <use xlink:href=\"#DejaVuSans-31\"/>\n       <use x=\"63.623047\" xlink:href=\"#DejaVuSans-32\"/>\n       <use x=\"127.246094\" xlink:href=\"#DejaVuSans-35\"/>\n      </g>\n     </g>\n    </g>\n    <g id=\"xtick_7\">\n     <g id=\"line2d_7\">\n      <g>\n       <use style=\"stroke:#000000;stroke-width:0.8;\" x=\"285.241133\" xlink:href=\"#m319b6c08c7\" y=\"224.64\"/>\n      </g>\n     </g>\n     <g id=\"text_7\">\n      <!-- 150 -->\n      <g transform=\"translate(275.697383 239.238437)scale(0.1 -0.1)\">\n       <use xlink:href=\"#DejaVuSans-31\"/>\n       <use x=\"63.623047\" xlink:href=\"#DejaVuSans-35\"/>\n       <use x=\"127.246094\" xlink:href=\"#DejaVuSans-30\"/>\n      </g>\n     </g>\n    </g>\n    <g id=\"xtick_8\">\n     <g id=\"line2d_8\">\n      <g>\n       <use style=\"stroke:#000000;stroke-width:0.8;\" x=\"323.477771\" xlink:href=\"#m319b6c08c7\" y=\"224.64\"/>\n      </g>\n     </g>\n     <g id=\"text_8\">\n      <!-- 175 -->\n      <g transform=\"translate(313.934021 239.238437)scale(0.1 -0.1)\">\n       <use xlink:href=\"#DejaVuSans-31\"/>\n       <use x=\"63.623047\" xlink:href=\"#DejaVuSans-37\"/>\n       <use x=\"127.246094\" xlink:href=\"#DejaVuSans-35\"/>\n      </g>\n     </g>\n    </g>\n    <g id=\"xtick_9\">\n     <g id=\"line2d_9\">\n      <g>\n       <use style=\"stroke:#000000;stroke-width:0.8;\" x=\"361.714409\" xlink:href=\"#m319b6c08c7\" y=\"224.64\"/>\n      </g>\n     </g>\n     <g id=\"text_9\">\n      <!-- 200 -->\n      <g transform=\"translate(352.170659 239.238437)scale(0.1 -0.1)\">\n       <use xlink:href=\"#DejaVuSans-32\"/>\n       <use x=\"63.623047\" xlink:href=\"#DejaVuSans-30\"/>\n       <use x=\"127.246094\" xlink:href=\"#DejaVuSans-30\"/>\n      </g>\n     </g>\n    </g>\n    <g id=\"text_10\">\n     <!-- Epoch -->\n     <g transform=\"translate(192.692187 252.916562)scale(0.1 -0.1)\">\n      <defs>\n       <path d=\"M 628 4666 \nL 3578 4666 \nL 3578 4134 \nL 1259 4134 \nL 1259 2753 \nL 3481 2753 \nL 3481 2222 \nL 1259 2222 \nL 1259 531 \nL 3634 531 \nL 3634 0 \nL 628 0 \nL 628 4666 \nz\n\" id=\"DejaVuSans-45\" transform=\"scale(0.015625)\"/>\n       <path d=\"M 1159 525 \nL 1159 -1331 \nL 581 -1331 \nL 581 3500 \nL 1159 3500 \nL 1159 2969 \nQ 1341 3281 1617 3432 \nQ 1894 3584 2278 3584 \nQ 2916 3584 3314 3078 \nQ 3713 2572 3713 1747 \nQ 3713 922 3314 415 \nQ 2916 -91 2278 -91 \nQ 1894 -91 1617 61 \nQ 1341 213 1159 525 \nz\nM 3116 1747 \nQ 3116 2381 2855 2742 \nQ 2594 3103 2138 3103 \nQ 1681 3103 1420 2742 \nQ 1159 2381 1159 1747 \nQ 1159 1113 1420 752 \nQ 1681 391 2138 391 \nQ 2594 391 2855 752 \nQ 3116 1113 3116 1747 \nz\n\" id=\"DejaVuSans-70\" transform=\"scale(0.015625)\"/>\n       <path d=\"M 1959 3097 \nQ 1497 3097 1228 2736 \nQ 959 2375 959 1747 \nQ 959 1119 1226 758 \nQ 1494 397 1959 397 \nQ 2419 397 2687 759 \nQ 2956 1122 2956 1747 \nQ 2956 2369 2687 2733 \nQ 2419 3097 1959 3097 \nz\nM 1959 3584 \nQ 2709 3584 3137 3096 \nQ 3566 2609 3566 1747 \nQ 3566 888 3137 398 \nQ 2709 -91 1959 -91 \nQ 1206 -91 779 398 \nQ 353 888 353 1747 \nQ 353 2609 779 3096 \nQ 1206 3584 1959 3584 \nz\n\" id=\"DejaVuSans-6f\" transform=\"scale(0.015625)\"/>\n       <path d=\"M 3122 3366 \nL 3122 2828 \nQ 2878 2963 2633 3030 \nQ 2388 3097 2138 3097 \nQ 1578 3097 1268 2742 \nQ 959 2388 959 1747 \nQ 959 1106 1268 751 \nQ 1578 397 2138 397 \nQ 2388 397 2633 464 \nQ 2878 531 3122 666 \nL 3122 134 \nQ 2881 22 2623 -34 \nQ 2366 -91 2075 -91 \nQ 1284 -91 818 406 \nQ 353 903 353 1747 \nQ 353 2603 823 3093 \nQ 1294 3584 2113 3584 \nQ 2378 3584 2631 3529 \nQ 2884 3475 3122 3366 \nz\n\" id=\"DejaVuSans-63\" transform=\"scale(0.015625)\"/>\n       <path d=\"M 3513 2113 \nL 3513 0 \nL 2938 0 \nL 2938 2094 \nQ 2938 2591 2744 2837 \nQ 2550 3084 2163 3084 \nQ 1697 3084 1428 2787 \nQ 1159 2491 1159 1978 \nL 1159 0 \nL 581 0 \nL 581 4863 \nL 1159 4863 \nL 1159 2956 \nQ 1366 3272 1645 3428 \nQ 1925 3584 2291 3584 \nQ 2894 3584 3203 3211 \nQ 3513 2838 3513 2113 \nz\n\" id=\"DejaVuSans-68\" transform=\"scale(0.015625)\"/>\n      </defs>\n      <use xlink:href=\"#DejaVuSans-45\"/>\n      <use x=\"63.183594\" xlink:href=\"#DejaVuSans-70\"/>\n      <use x=\"126.660156\" xlink:href=\"#DejaVuSans-6f\"/>\n      <use x=\"187.841797\" xlink:href=\"#DejaVuSans-63\"/>\n      <use x=\"242.822266\" xlink:href=\"#DejaVuSans-68\"/>\n     </g>\n    </g>\n   </g>\n   <g id=\"matplotlib.axis_2\">\n    <g id=\"ytick_1\">\n     <g id=\"line2d_10\">\n      <defs>\n       <path d=\"M 0 0 \nL -3.5 0 \n\" id=\"m0b8e1c6196\" style=\"stroke:#000000;stroke-width:0.8;\"/>\n      </defs>\n      <g>\n       <use style=\"stroke:#000000;stroke-width:0.8;\" x=\"40.603125\" xlink:href=\"#m0b8e1c6196\" y=\"196.01339\"/>\n      </g>\n     </g>\n     <g id=\"text_11\">\n      <!-- 7 -->\n      <g transform=\"translate(27.240625 199.812609)scale(0.1 -0.1)\">\n       <use xlink:href=\"#DejaVuSans-37\"/>\n      </g>\n     </g>\n    </g>\n    <g id=\"ytick_2\">\n     <g id=\"line2d_11\">\n      <g>\n       <use style=\"stroke:#000000;stroke-width:0.8;\" x=\"40.603125\" xlink:href=\"#m0b8e1c6196\" y=\"147.939635\"/>\n      </g>\n     </g>\n     <g id=\"text_12\">\n      <!-- 8 -->\n      <g transform=\"translate(27.240625 151.738853)scale(0.1 -0.1)\">\n       <defs>\n        <path d=\"M 2034 2216 \nQ 1584 2216 1326 1975 \nQ 1069 1734 1069 1313 \nQ 1069 891 1326 650 \nQ 1584 409 2034 409 \nQ 2484 409 2743 651 \nQ 3003 894 3003 1313 \nQ 3003 1734 2745 1975 \nQ 2488 2216 2034 2216 \nz\nM 1403 2484 \nQ 997 2584 770 2862 \nQ 544 3141 544 3541 \nQ 544 4100 942 4425 \nQ 1341 4750 2034 4750 \nQ 2731 4750 3128 4425 \nQ 3525 4100 3525 3541 \nQ 3525 3141 3298 2862 \nQ 3072 2584 2669 2484 \nQ 3125 2378 3379 2068 \nQ 3634 1759 3634 1313 \nQ 3634 634 3220 271 \nQ 2806 -91 2034 -91 \nQ 1263 -91 848 271 \nQ 434 634 434 1313 \nQ 434 1759 690 2068 \nQ 947 2378 1403 2484 \nz\nM 1172 3481 \nQ 1172 3119 1398 2916 \nQ 1625 2713 2034 2713 \nQ 2441 2713 2670 2916 \nQ 2900 3119 2900 3481 \nQ 2900 3844 2670 4047 \nQ 2441 4250 2034 4250 \nQ 1625 4250 1398 4047 \nQ 1172 3844 1172 3481 \nz\n\" id=\"DejaVuSans-38\" transform=\"scale(0.015625)\"/>\n       </defs>\n       <use xlink:href=\"#DejaVuSans-38\"/>\n      </g>\n     </g>\n    </g>\n    <g id=\"ytick_3\">\n     <g id=\"line2d_12\">\n      <g>\n       <use style=\"stroke:#000000;stroke-width:0.8;\" x=\"40.603125\" xlink:href=\"#m0b8e1c6196\" y=\"99.865879\"/>\n      </g>\n     </g>\n     <g id=\"text_13\">\n      <!-- 9 -->\n      <g transform=\"translate(27.240625 103.665098)scale(0.1 -0.1)\">\n       <defs>\n        <path d=\"M 703 97 \nL 703 672 \nQ 941 559 1184 500 \nQ 1428 441 1663 441 \nQ 2288 441 2617 861 \nQ 2947 1281 2994 2138 \nQ 2813 1869 2534 1725 \nQ 2256 1581 1919 1581 \nQ 1219 1581 811 2004 \nQ 403 2428 403 3163 \nQ 403 3881 828 4315 \nQ 1253 4750 1959 4750 \nQ 2769 4750 3195 4129 \nQ 3622 3509 3622 2328 \nQ 3622 1225 3098 567 \nQ 2575 -91 1691 -91 \nQ 1453 -91 1209 -44 \nQ 966 3 703 97 \nz\nM 1959 2075 \nQ 2384 2075 2632 2365 \nQ 2881 2656 2881 3163 \nQ 2881 3666 2632 3958 \nQ 2384 4250 1959 4250 \nQ 1534 4250 1286 3958 \nQ 1038 3666 1038 3163 \nQ 1038 2656 1286 2365 \nQ 1534 2075 1959 2075 \nz\n\" id=\"DejaVuSans-39\" transform=\"scale(0.015625)\"/>\n       </defs>\n       <use xlink:href=\"#DejaVuSans-39\"/>\n      </g>\n     </g>\n    </g>\n    <g id=\"ytick_4\">\n     <g id=\"line2d_13\">\n      <g>\n       <use style=\"stroke:#000000;stroke-width:0.8;\" x=\"40.603125\" xlink:href=\"#m0b8e1c6196\" y=\"51.792123\"/>\n      </g>\n     </g>\n     <g id=\"text_14\">\n      <!-- 10 -->\n      <g transform=\"translate(20.878125 55.591342)scale(0.1 -0.1)\">\n       <use xlink:href=\"#DejaVuSans-31\"/>\n       <use x=\"63.623047\" xlink:href=\"#DejaVuSans-30\"/>\n      </g>\n     </g>\n    </g>\n    <g id=\"text_15\">\n     <!-- Loss -->\n     <g transform=\"translate(14.798438 126.887187)rotate(-90)scale(0.1 -0.1)\">\n      <defs>\n       <path d=\"M 628 4666 \nL 1259 4666 \nL 1259 531 \nL 3531 531 \nL 3531 0 \nL 628 0 \nL 628 4666 \nz\n\" id=\"DejaVuSans-4c\" transform=\"scale(0.015625)\"/>\n       <path d=\"M 2834 3397 \nL 2834 2853 \nQ 2591 2978 2328 3040 \nQ 2066 3103 1784 3103 \nQ 1356 3103 1142 2972 \nQ 928 2841 928 2578 \nQ 928 2378 1081 2264 \nQ 1234 2150 1697 2047 \nL 1894 2003 \nQ 2506 1872 2764 1633 \nQ 3022 1394 3022 966 \nQ 3022 478 2636 193 \nQ 2250 -91 1575 -91 \nQ 1294 -91 989 -36 \nQ 684 19 347 128 \nL 347 722 \nQ 666 556 975 473 \nQ 1284 391 1588 391 \nQ 1994 391 2212 530 \nQ 2431 669 2431 922 \nQ 2431 1156 2273 1281 \nQ 2116 1406 1581 1522 \nL 1381 1569 \nQ 847 1681 609 1914 \nQ 372 2147 372 2553 \nQ 372 3047 722 3315 \nQ 1072 3584 1716 3584 \nQ 2034 3584 2315 3537 \nQ 2597 3491 2834 3397 \nz\n\" id=\"DejaVuSans-73\" transform=\"scale(0.015625)\"/>\n      </defs>\n      <use xlink:href=\"#DejaVuSans-4c\"/>\n      <use x=\"53.962891\" xlink:href=\"#DejaVuSans-6f\"/>\n      <use x=\"115.144531\" xlink:href=\"#DejaVuSans-73\"/>\n      <use x=\"167.244141\" xlink:href=\"#DejaVuSans-73\"/>\n     </g>\n    </g>\n   </g>\n   <g id=\"line2d_14\">\n    <path clip-path=\"url(#p9f153310b1)\" d=\"M 55.821307 20.780356 \nL 57.350772 141.783094 \nL 58.880238 172.145222 \nL 60.409703 183.080812 \nL 61.939169 188.650754 \nL 63.468634 191.679051 \nL 64.9981 193.960576 \nL 66.527565 195.334369 \nL 69.586496 197.775725 \nL 71.115962 198.605221 \nL 72.645427 199.578001 \nL 75.704358 200.83866 \nL 77.233824 201.625227 \nL 80.292755 202.385981 \nL 81.82222 203.031396 \nL 87.940083 204.782531 \nL 89.469548 204.972745 \nL 95.58741 206.406474 \nL 98.646341 206.868298 \nL 100.175807 206.958091 \nL 101.705272 207.523787 \nL 103.234738 207.276298 \nL 104.764203 207.947195 \nL 106.293669 208.077759 \nL 107.823134 208.056762 \nL 109.3526 207.856678 \nL 110.882065 208.644934 \nL 112.411531 208.59562 \nL 113.940996 209.060518 \nL 115.470462 209.253935 \nL 118.529393 209.869252 \nL 120.058858 209.295332 \nL 121.588324 210.287862 \nL 123.117789 210.16058 \nL 124.647255 210.330809 \nL 126.17672 210.688811 \nL 127.706186 210.557794 \nL 129.235651 210.221598 \nL 130.765117 210.397114 \nL 132.294582 210.798779 \nL 133.824048 211.026442 \nL 135.353513 211.512786 \nL 136.882979 211.406652 \nL 138.412444 211.937866 \nL 139.94191 211.12079 \nL 141.471375 212.187878 \nL 143.000841 211.172104 \nL 144.530306 212.148218 \nL 146.059772 211.488857 \nL 147.589237 212.2642 \nL 149.118703 212.203432 \nL 150.648168 212.468284 \nL 152.177634 212.018992 \nL 153.707099 211.97892 \nL 155.236565 212.51523 \nL 156.76603 211.852575 \nL 158.295496 212.324927 \nL 159.824961 212.55867 \nL 161.354427 211.831241 \nL 162.883892 212.777899 \nL 164.413358 212.317984 \nL 165.942823 212.797117 \nL 167.472289 212.863737 \nL 169.001755 212.52178 \nL 170.53122 212.953427 \nL 172.060686 213.091911 \nL 175.119617 213.153782 \nL 176.649082 213.551631 \nL 178.178548 213.364222 \nL 179.708013 213.600465 \nL 181.237479 212.963183 \nL 182.766944 213.01045 \nL 184.29641 213.785548 \nL 187.355341 213.153697 \nL 188.884806 212.542699 \nL 190.414272 213.799171 \nL 191.943737 213.001027 \nL 193.473203 213.073443 \nL 195.002668 214.461602 \nL 196.532134 214.252436 \nL 198.061599 213.207585 \nL 199.591065 213.658021 \nL 202.649996 213.204667 \nL 204.179461 213.85857 \nL 205.708927 213.946293 \nL 207.238392 213.645148 \nL 208.767858 213.108426 \nL 210.297323 213.341259 \nL 211.826789 214.439511 \nL 213.356254 213.647905 \nL 214.88572 214.028382 \nL 217.944651 212.941559 \nL 219.474116 213.899295 \nL 221.003582 214.238021 \nL 222.533047 213.148801 \nL 224.062513 213.817465 \nL 225.591978 213.847622 \nL 227.121444 213.23981 \nL 228.650909 212.949213 \nL 230.180375 214.254549 \nL 231.70984 213.720533 \nL 233.239306 213.319798 \nL 234.768771 213.919603 \nL 237.827702 212.866363 \nL 239.357168 212.990634 \nL 240.886633 213.70862 \nL 242.416099 213.67091 \nL 243.945564 213.309674 \nL 245.47503 213.261192 \nL 247.004495 213.94828 \nL 248.533961 213.059031 \nL 250.063427 213.777229 \nL 251.592892 214.265847 \nL 253.122358 212.7126 \nL 254.651823 212.721221 \nL 256.181289 213.874952 \nL 257.710754 213.622275 \nL 259.24022 214.128082 \nL 260.769685 213.916652 \nL 263.828616 213.11847 \nL 265.358082 213.55455 \nL 266.887547 213.242741 \nL 268.417013 212.638622 \nL 269.946478 213.738814 \nL 271.475944 214.226337 \nL 273.005409 213.022002 \nL 274.534875 213.336482 \nL 276.06434 213.80369 \nL 277.593806 212.522363 \nL 280.652737 213.078999 \nL 282.182202 214.064516 \nL 283.711668 212.448974 \nL 285.241133 214.12618 \nL 286.770599 213.22139 \nL 288.300064 213.427602 \nL 289.82953 213.978999 \nL 291.358995 213.755884 \nL 292.888461 214.225193 \nL 294.417926 212.917026 \nL 295.947392 214.178883 \nL 297.476857 213.352643 \nL 299.006323 213.466129 \nL 300.535788 212.513861 \nL 302.065254 213.111045 \nL 303.594719 212.351825 \nL 305.124185 213.28092 \nL 306.65365 212.747087 \nL 308.183116 213.831709 \nL 309.712581 214.437891 \nL 311.242047 212.863488 \nL 314.300978 213.776608 \nL 315.830443 212.355211 \nL 317.359909 214.400148 \nL 318.889374 213.905905 \nL 320.41884 212.007213 \nL 321.948305 213.853894 \nL 323.477771 213.147007 \nL 325.007236 211.862801 \nL 326.536702 213.676101 \nL 328.066167 212.151726 \nL 329.595633 214.306612 \nL 331.125099 212.521919 \nL 332.654564 213.233582 \nL 334.18403 212.626209 \nL 335.713495 212.649252 \nL 337.242961 213.353014 \nL 338.772426 213.869192 \nL 340.301892 212.627532 \nL 341.831357 212.806215 \nL 343.360823 214.756364 \nL 344.890288 211.959457 \nL 346.419754 214.208753 \nL 347.949219 211.823098 \nL 349.478685 213.045932 \nL 351.00815 212.208637 \nL 352.537616 212.894144 \nL 354.067081 211.98781 \nL 355.596547 214.336067 \nL 357.126012 211.819538 \nL 358.655478 212.592006 \nL 360.184943 212.72544 \nL 360.184943 212.72544 \n\" style=\"fill:none;stroke:#1f77b4;stroke-linecap:square;stroke-width:1.5;\"/>\n   </g>\n   <g id=\"line2d_15\">\n    <path clip-path=\"url(#p9f153310b1)\" d=\"M 55.821307 17.083636 \nL 57.350772 138.489654 \nL 58.880238 168.425059 \nL 60.409703 179.018222 \nL 61.939169 184.307248 \nL 63.468634 186.938384 \nL 64.9981 188.798574 \nL 66.527565 189.889293 \nL 68.057031 190.814528 \nL 69.586496 191.481678 \nL 71.115962 192.276353 \nL 72.645427 192.606726 \nL 74.174893 193.183964 \nL 75.704358 193.619756 \nL 77.233824 193.924378 \nL 80.292755 194.298155 \nL 84.881151 194.966158 \nL 86.410617 195.140161 \nL 87.940083 195.070089 \nL 89.469548 195.162689 \nL 92.528479 195.535504 \nL 95.58741 195.761881 \nL 97.116876 195.88289 \nL 101.705272 195.775194 \nL 103.234738 195.48908 \nL 104.764203 196.110526 \nL 106.293669 195.669042 \nL 107.823134 195.709075 \nL 109.3526 195.520911 \nL 110.882065 196.035448 \nL 116.999927 196.176307 \nL 118.529393 196.431655 \nL 120.058858 195.765684 \nL 121.588324 196.629939 \nL 123.117789 195.935143 \nL 124.647255 196.070783 \nL 126.17672 196.383957 \nL 127.706186 195.8806 \nL 129.235651 196.17434 \nL 130.765117 196.166541 \nL 132.294582 196.01537 \nL 133.824048 196.666647 \nL 135.353513 196.379649 \nL 136.882979 195.957368 \nL 138.412444 196.636924 \nL 139.94191 195.631404 \nL 141.471375 196.945667 \nL 143.000841 195.755723 \nL 144.530306 196.260264 \nL 146.059772 196.026642 \nL 147.589237 196.998919 \nL 149.118703 196.069954 \nL 150.648168 196.302104 \nL 152.177634 195.685971 \nL 153.707099 195.652304 \nL 155.236565 195.996359 \nL 156.76603 195.044549 \nL 158.295496 195.759685 \nL 159.824961 195.839725 \nL 161.354427 195.417544 \nL 162.883892 195.556869 \nL 164.413358 195.832608 \nL 167.472289 196.003084 \nL 169.001755 195.6275 \nL 170.53122 195.509443 \nL 173.590151 195.600155 \nL 175.119617 195.555267 \nL 176.649082 195.861609 \nL 178.178548 195.296447 \nL 179.708013 195.73888 \nL 181.237479 194.814089 \nL 182.766944 195.000364 \nL 184.29641 195.346155 \nL 185.825875 195.514853 \nL 187.355341 194.621158 \nL 188.884806 194.544035 \nL 190.414272 195.48044 \nL 191.943737 194.328047 \nL 193.473203 194.146681 \nL 195.002668 194.99621 \nL 196.532134 194.909841 \nL 198.061599 193.78274 \nL 199.591065 194.366144 \nL 201.12053 194.195923 \nL 202.649996 193.703651 \nL 204.179461 194.289786 \nL 205.708927 194.143706 \nL 207.238392 194.109729 \nL 208.767858 193.415448 \nL 210.297323 193.479621 \nL 211.826789 194.578085 \nL 213.356254 193.513824 \nL 214.88572 193.366113 \nL 216.415185 193.433417 \nL 217.944651 192.719468 \nL 219.474116 193.503936 \nL 221.003582 193.239476 \nL 222.533047 192.486027 \nL 225.591978 192.643439 \nL 227.121444 192.371911 \nL 228.650909 191.871885 \nL 230.180375 192.878847 \nL 231.70984 192.364144 \nL 233.239306 192.262868 \nL 234.768771 192.707417 \nL 236.298237 192.440202 \nL 237.827702 190.971254 \nL 239.357168 191.598906 \nL 240.886633 191.798608 \nL 242.416099 191.704246 \nL 243.945564 191.328974 \nL 245.47503 191.28907 \nL 247.004495 191.654259 \nL 248.533961 191.032303 \nL 250.063427 191.210993 \nL 251.592892 191.60052 \nL 253.122358 189.584344 \nL 254.651823 189.756146 \nL 256.181289 190.767793 \nL 259.24022 191.020311 \nL 260.769685 190.242521 \nL 262.299151 190.159141 \nL 263.828616 189.622487 \nL 265.358082 190.192792 \nL 266.887547 189.834027 \nL 268.417013 188.966245 \nL 269.946478 190.070342 \nL 273.005409 189.481186 \nL 274.534875 188.981459 \nL 276.06434 189.46735 \nL 277.593806 188.448989 \nL 279.123271 188.449278 \nL 280.652737 188.17056 \nL 282.182202 189.273115 \nL 283.711668 187.80861 \nL 285.241133 189.206548 \nL 286.770599 187.95997 \nL 291.358995 187.816233 \nL 292.888461 188.664428 \nL 294.417926 187.261822 \nL 295.947392 188.073662 \nL 297.476857 187.469953 \nL 299.006323 187.174942 \nL 300.535788 186.515078 \nL 302.065254 186.89281 \nL 303.594719 186.203601 \nL 305.124185 186.80947 \nL 306.65365 185.803548 \nL 308.183116 186.567274 \nL 309.712581 186.622705 \nL 311.242047 185.332212 \nL 312.771512 185.759636 \nL 314.300978 185.768804 \nL 315.830443 184.0157 \nL 317.359909 186.173071 \nL 318.889374 186.389911 \nL 320.41884 184.229964 \nL 321.948305 185.942324 \nL 323.477771 185.074683 \nL 325.007236 183.809029 \nL 326.536702 185.212333 \nL 328.066167 183.669695 \nL 329.595633 185.656402 \nL 331.125099 183.729123 \nL 332.654564 184.440695 \nL 334.18403 183.388671 \nL 335.713495 183.128211 \nL 338.772426 184.231198 \nL 340.301892 183.003593 \nL 341.831357 183.078323 \nL 343.360823 184.759382 \nL 344.890288 182.093849 \nL 346.419754 183.628672 \nL 347.949219 181.161957 \nL 349.478685 182.185343 \nL 351.00815 181.095308 \nL 352.537616 181.780371 \nL 354.067081 181.237518 \nL 355.596547 182.863784 \nL 357.126012 180.755792 \nL 358.655478 181.129249 \nL 360.184943 180.798182 \nL 360.184943 180.798182 \n\" style=\"fill:none;stroke:#ff7f0e;stroke-linecap:square;stroke-width:1.5;\"/>\n   </g>\n   <g id=\"patch_3\">\n    <path d=\"M 40.603125 224.64 \nL 40.603125 7.2 \n\" style=\"fill:none;stroke:#000000;stroke-linecap:square;stroke-linejoin:miter;stroke-width:0.8;\"/>\n   </g>\n   <g id=\"patch_4\">\n    <path d=\"M 375.403125 224.64 \nL 375.403125 7.2 \n\" style=\"fill:none;stroke:#000000;stroke-linecap:square;stroke-linejoin:miter;stroke-width:0.8;\"/>\n   </g>\n   <g id=\"patch_5\">\n    <path d=\"M 40.603125 224.64 \nL 375.403125 224.64 \n\" style=\"fill:none;stroke:#000000;stroke-linecap:square;stroke-linejoin:miter;stroke-width:0.8;\"/>\n   </g>\n   <g id=\"patch_6\">\n    <path d=\"M 40.603125 7.2 \nL 375.403125 7.2 \n\" style=\"fill:none;stroke:#000000;stroke-linecap:square;stroke-linejoin:miter;stroke-width:0.8;\"/>\n   </g>\n   <g id=\"legend_1\">\n    <g id=\"patch_7\">\n     <path d=\"M 313.128125 44.55625 \nL 368.403125 44.55625 \nQ 370.403125 44.55625 370.403125 42.55625 \nL 370.403125 14.2 \nQ 370.403125 12.2 368.403125 12.2 \nL 313.128125 12.2 \nQ 311.128125 12.2 311.128125 14.2 \nL 311.128125 42.55625 \nQ 311.128125 44.55625 313.128125 44.55625 \nz\n\" style=\"fill:#ffffff;opacity:0.8;stroke:#cccccc;stroke-linejoin:miter;\"/>\n    </g>\n    <g id=\"line2d_16\">\n     <path d=\"M 315.128125 20.298437 \nL 335.128125 20.298437 \n\" style=\"fill:none;stroke:#1f77b4;stroke-linecap:square;stroke-width:1.5;\"/>\n    </g>\n    <g id=\"line2d_17\"/>\n    <g id=\"text_16\">\n     <!-- train -->\n     <g transform=\"translate(343.128125 23.798437)scale(0.1 -0.1)\">\n      <defs>\n       <path d=\"M 1172 4494 \nL 1172 3500 \nL 2356 3500 \nL 2356 3053 \nL 1172 3053 \nL 1172 1153 \nQ 1172 725 1289 603 \nQ 1406 481 1766 481 \nL 2356 481 \nL 2356 0 \nL 1766 0 \nQ 1100 0 847 248 \nQ 594 497 594 1153 \nL 594 3053 \nL 172 3053 \nL 172 3500 \nL 594 3500 \nL 594 4494 \nL 1172 4494 \nz\n\" id=\"DejaVuSans-74\" transform=\"scale(0.015625)\"/>\n       <path d=\"M 2631 2963 \nQ 2534 3019 2420 3045 \nQ 2306 3072 2169 3072 \nQ 1681 3072 1420 2755 \nQ 1159 2438 1159 1844 \nL 1159 0 \nL 581 0 \nL 581 3500 \nL 1159 3500 \nL 1159 2956 \nQ 1341 3275 1631 3429 \nQ 1922 3584 2338 3584 \nQ 2397 3584 2469 3576 \nQ 2541 3569 2628 3553 \nL 2631 2963 \nz\n\" id=\"DejaVuSans-72\" transform=\"scale(0.015625)\"/>\n       <path d=\"M 2194 1759 \nQ 1497 1759 1228 1600 \nQ 959 1441 959 1056 \nQ 959 750 1161 570 \nQ 1363 391 1709 391 \nQ 2188 391 2477 730 \nQ 2766 1069 2766 1631 \nL 2766 1759 \nL 2194 1759 \nz\nM 3341 1997 \nL 3341 0 \nL 2766 0 \nL 2766 531 \nQ 2569 213 2275 61 \nQ 1981 -91 1556 -91 \nQ 1019 -91 701 211 \nQ 384 513 384 1019 \nQ 384 1609 779 1909 \nQ 1175 2209 1959 2209 \nL 2766 2209 \nL 2766 2266 \nQ 2766 2663 2505 2880 \nQ 2244 3097 1772 3097 \nQ 1472 3097 1187 3025 \nQ 903 2953 641 2809 \nL 641 3341 \nQ 956 3463 1253 3523 \nQ 1550 3584 1831 3584 \nQ 2591 3584 2966 3190 \nQ 3341 2797 3341 1997 \nz\n\" id=\"DejaVuSans-61\" transform=\"scale(0.015625)\"/>\n       <path d=\"M 603 3500 \nL 1178 3500 \nL 1178 0 \nL 603 0 \nL 603 3500 \nz\nM 603 4863 \nL 1178 4863 \nL 1178 4134 \nL 603 4134 \nL 603 4863 \nz\n\" id=\"DejaVuSans-69\" transform=\"scale(0.015625)\"/>\n       <path d=\"M 3513 2113 \nL 3513 0 \nL 2938 0 \nL 2938 2094 \nQ 2938 2591 2744 2837 \nQ 2550 3084 2163 3084 \nQ 1697 3084 1428 2787 \nQ 1159 2491 1159 1978 \nL 1159 0 \nL 581 0 \nL 581 3500 \nL 1159 3500 \nL 1159 2956 \nQ 1366 3272 1645 3428 \nQ 1925 3584 2291 3584 \nQ 2894 3584 3203 3211 \nQ 3513 2838 3513 2113 \nz\n\" id=\"DejaVuSans-6e\" transform=\"scale(0.015625)\"/>\n      </defs>\n      <use xlink:href=\"#DejaVuSans-74\"/>\n      <use x=\"39.208984\" xlink:href=\"#DejaVuSans-72\"/>\n      <use x=\"80.322266\" xlink:href=\"#DejaVuSans-61\"/>\n      <use x=\"141.601562\" xlink:href=\"#DejaVuSans-69\"/>\n      <use x=\"169.384766\" xlink:href=\"#DejaVuSans-6e\"/>\n     </g>\n    </g>\n    <g id=\"line2d_18\">\n     <path d=\"M 315.128125 34.976562 \nL 335.128125 34.976562 \n\" style=\"fill:none;stroke:#ff7f0e;stroke-linecap:square;stroke-width:1.5;\"/>\n    </g>\n    <g id=\"line2d_19\"/>\n    <g id=\"text_17\">\n     <!-- val -->\n     <g transform=\"translate(343.128125 38.476562)scale(0.1 -0.1)\">\n      <defs>\n       <path d=\"M 191 3500 \nL 800 3500 \nL 1894 563 \nL 2988 3500 \nL 3597 3500 \nL 2284 0 \nL 1503 0 \nL 191 3500 \nz\n\" id=\"DejaVuSans-76\" transform=\"scale(0.015625)\"/>\n       <path d=\"M 603 4863 \nL 1178 4863 \nL 1178 0 \nL 603 0 \nL 603 4863 \nz\n\" id=\"DejaVuSans-6c\" transform=\"scale(0.015625)\"/>\n      </defs>\n      <use xlink:href=\"#DejaVuSans-76\"/>\n      <use x=\"59.179688\" xlink:href=\"#DejaVuSans-61\"/>\n      <use x=\"120.458984\" xlink:href=\"#DejaVuSans-6c\"/>\n     </g>\n    </g>\n   </g>\n  </g>\n </g>\n <defs>\n  <clipPath id=\"p9f153310b1\">\n   <rect height=\"217.44\" width=\"334.8\" x=\"40.603125\" y=\"7.2\"/>\n  </clipPath>\n </defs>\n</svg>\n",
      "image/png": "[encoded data removed]"
     },
     "metadata": {
      "needs_background": "light"
     }
    }
   ],
   "source": [
    "trainer.plot()"
   ]
  },
  {
   "cell_type": "code",
   "execution_count": 13,
   "metadata": {
    "tags": []
   },
   "outputs": [
    {
     "output_type": "stream",
     "name": "stdout",
     "text": [
      "synopsis: magic real performed true expert magic ability audience son famous stage arts frequently lives flashy hidden passage secret father death white outfit kid thief father outfit searches grant organization responsible father death hot magic kid thief night signature card gun sets steal precious truth father death rumored\npredict: ['Action' 'Adventure']\nanswer:  ['Adventure' 'Comedy' 'Romance' 'Shounen']\n\nsynopsis: war pockets struggle survive technologies ignorance artificially machines pursue protect destroy terrible evil threatening bring\npredict: ['Adventure']\nanswer:  ['Action' 'Adventure' 'Fantasy' 'Mecha' 'Sci-Fi']\n\nsynopsis: people prefer game girl lucky memories life fortune games play character game main extensive knowledge game takes escape chains easy feat cautious set death flags speed impending avoid change affect lives\npredict: ['Fantasy']\nanswer:  ['Comedy' 'Drama' 'Fantasy' 'Romance' 'School']\n\nsynopsis: country girl prestigious school likes rich arrogant boy likes\npredict: ['School']\nanswer:  ['Comedy' 'School' 'Shoujo' 'Slice of Life']\n\nsynopsis: ancient record holds key secrets universe target guild saved easy legendary space custom force attempt revived crystal boy efforts steal record secrets rule universe\npredict: ['Action' 'Adventure' 'Mecha' 'Sci-Fi']\nanswer:  ['Action' 'Adventure' 'Mecha' 'Sci-Fi' 'Space']\n\nsynopsis: life woman arm peaceful life destroyed war breaks empire neighboring republic friend army military officers meet boat heading military storm vessel enemy territory military discover heir rescue reward granted title imperial knight receive dream hold hero\npredict: ['Action' 'Adventure' 'Mecha' 'Military' 'Sci-Fi' 'Space']\nanswer:  ['Action' 'Adventure' 'Fantasy' 'Military']\n\nsynopsis: meet cat girl late century love talent recruited lawson travel future pilot prototype ship elizabeth leads team rouge red space\npredict: ['Drama']\nanswer:  ['Adventure' 'Comedy' 'Sci-Fi']\n\nsynopsis: time lived wife mountain night bunch mice heading mice playing wife happened mice living house lose matches foods support team\npredict: ['Comedy']\nanswer:  ['Comedy']\n\nsynopsis: finally speak crush friends object quiet girl cuts spare blunt rejection time eating lunch break decides start meeting day hopes understand time spend week starts push revealed reason cold week memories close excluding family forgotten reset monday result accident middle school popular unable friends fear hurting people determined week friends exact question monday friends deep wishes\npredict: ['Comedy' 'Romance']\nanswer:  ['Comedy' 'School' 'Shounen' 'Slice of Life']\n\nsynopsis: living enter school relationship remains struggles girlfriend gang keeping advanced grade matters worse girl middle school appears events revolving develop relationship\npredict: ['Comedy' 'School']\nanswer:  ['Comedy' 'Drama' 'Romance' 'School' 'Slice of Life']\n\nsynopsis: feelings friend convey feelings day continue delicate relationship fight letting settle pouring rain traffic accident appears eyes\npredict: ['Fantasy' 'Magic' 'Supernatural']\nanswer:  ['Drama' 'Fantasy']\n\nsynopsis: returning supposed feel families presence parents hand angry embarrassing parents wishes parents clash opposing faced pressing matter suddenly appears parents considered heroes lives protect fox attack parents alive unable return stay enjoy unexpected threat emerges fight\npredict: ['Hentai']\nanswer:  ['Action' 'Adventure' 'Martial Arts' 'Shounen' 'Super Power']\n\nsynopsis: grave danger kingdom evil set transform larger versions protect\npredict: ['Action' 'Adventure' 'Fantasy' 'Shounen']\nanswer:  ['Adventure' 'Comedy' 'Magic']\n\nsynopsis: city streets tokyo dangerous humans exist sworn trust harm humans form organizations death destruction human tragedy tide evil exists female hunt harm hunting days favor couple defeated grave simple death time sister transformed training prepare power pleasure holds weapon\npredict: ['Action' 'Fantasy' 'Supernatural']\nanswer:  ['Action' 'Demons' 'Hentai' 'Martial Arts' 'Supernatural']\n\nsynopsis: shy boy started live forest family everyday heart raises playing lives nearby suddenly explain heart warming gradually grows\npredict: []\nanswer:  ['Fantasy' 'Kids']\n\nsynopsis: freshman school called school lost parents traffic accident living sister cooking cleaning jobs fell love sight met school library day school girl friend chair student council falls love boy instantly love campaign candidates students government leaders chosen lot gain position\npredict: []\nanswer:  ['Comedy' 'Romance' 'School']\n\nsynopsis: creatures vast array appearances people capture train intent master birthday finally chance dream reality claimed electric type remains chance mark start friendship setting travel beautiful regions friends water type rock type danger corner team rocket nearby seeking steal powerful schemes friends thwart efforts earn challenge league eventually claim title master\npredict: ['Action' 'Adventure']\nanswer:  ['Action' 'Adventure' 'Comedy' 'Fantasy' 'Kids']\n\nsynopsis: local owned bear popular spot animals humans alike allowing sit relax hard day cold beverage item serve customers striking conversations subjects form odd caught sorts friends bar owner human dealing love trips sessions secret brewing delicious coffee bound happening\npredict: ['Sci-Fi']\nanswer:  ['Comedy' 'Josei' 'Slice of Life']\n\nsynopsis: terrible war peace close bring peace criminal power actions widespread black main countries storm force formed black code storm\npredict: ['Action' 'Adventure' 'Mecha' 'Military' 'Sci-Fi' 'Space']\nanswer:  ['Action' 'Adventure' 'Mecha' 'Military' 'Sci-Fi']\n\nsynopsis: lives normal life school parents circle friends feel missing life lived life desperately stay class trip beach returns middle night receives strange messages voice hear voice person desperate meet goal person remember obstacles stand meet\npredict: ['Comedy' 'Slice of Life']\nanswer:  ['Action' 'Psychological' 'Shounen' 'Supernatural']\n\n"
     ]
    }
   ],
   "source": [
    "num_show = 20\n",
    "\n",
    "y_test = model.predict(x_test)\n",
    "\n",
    "synop = pd.read_csv('../clean_data/synopsis.csv')\n",
    "\n",
    "for idx, mal_id in enumerate(id_test[:num_show]):\n",
    "    pred = genre_cols[y_test[idx]>0.5]\n",
    "    true = genre_cols[t_test[idx]==1]\n",
    "    syn = synop.loc[synop.MAL_ID==mal_id, 'Synopsis'].item()\n",
    "\n",
    "    print('synopsis:', syn)\n",
    "    print('predict:', pred)\n",
    "    print('answer: ', true)\n",
    "    print()"
   ]
  },
  {
   "cell_type": "code",
   "execution_count": null,
   "metadata": {},
   "outputs": [],
   "source": []
  },
  {
   "cell_type": "code",
   "execution_count": null,
   "metadata": {},
   "outputs": [],
   "source": []
  }
 ]
}