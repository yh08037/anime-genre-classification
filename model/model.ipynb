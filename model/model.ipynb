{
 "metadata": {
  "language_info": {
   "codemirror_mode": {
    "name": "ipython",
    "version": 3
   },
   "file_extension": ".py",
   "mimetype": "text/x-python",
   "name": "python",
   "nbconvert_exporter": "python",
   "pygments_lexer": "ipython3",
   "version": "3.9.5"
  },
  "orig_nbformat": 4,
  "kernelspec": {
   "name": "python3",
   "display_name": "Python 3.9.5 64-bit ('scrap': conda)"
  },
  "interpreter": {
   "hash": "4ea3ed2e54355ce89e91b93232dfdad50498b45cbf76d90a32e5b94d03490e3d"
  }
 },
 "nbformat": 4,
 "nbformat_minor": 2,
 "cells": [
  {
   "source": [
    "# Multi-Lable Classification with MLP"
   ],
   "cell_type": "markdown",
   "metadata": {}
  },
  {
   "cell_type": "code",
   "execution_count": 1,
   "metadata": {},
   "outputs": [],
   "source": [
    "import numpy as np\n",
    "import pandas as pd\n",
    "import matplotlib.pyplot as plt\n",
    "\n",
    "# import os, sys\n",
    "# sys.path.append(os.pardir)\n",
    "\n",
    "from anime_classification import MultiLabelClassifier, Adam, Trainer"
   ]
  },
  {
   "source": [
    "## Load Vectorized Synopsis/Genre Data"
   ],
   "cell_type": "markdown",
   "metadata": {}
  },
  {
   "cell_type": "code",
   "execution_count": 2,
   "metadata": {},
   "outputs": [
    {
     "output_type": "execute_result",
     "data": {
      "text/plain": [
       "   MAL_ID         0         1         2         3         4         5  \\\n",
       "0       1  0.068298 -0.725098  0.113098  0.290283  0.453369  0.393066   \n",
       "1       5  0.421631 -0.444580  0.062561  0.541016  0.240845  0.596191   \n",
       "2       6 -0.009071 -0.538086  0.002262  0.397949  0.303467  0.380127   \n",
       "3       7  0.189819 -0.184326  0.163452  0.218872  0.219849  0.500977   \n",
       "4       8  0.280273 -0.597168  0.108032  0.311523  0.265381  0.325928   \n",
       "\n",
       "          6         7         8  ...        90        91        92        93  \\\n",
       "0 -0.391357 -0.298828 -0.325928  ...  0.264160 -0.158203 -0.241699 -0.162842   \n",
       "1 -0.235229 -0.553223 -0.411377  ...  0.140869 -0.198486 -0.248657 -0.059326   \n",
       "2 -0.252930 -0.568359 -0.080444  ... -0.218140 -0.153564 -0.535645 -0.525879   \n",
       "3 -0.290527 -0.662109 -0.368164  ... -0.125244 -0.370850 -0.436523 -0.446289   \n",
       "4  0.149902 -0.320557 -0.182861  ...  0.358154 -0.302734 -0.400146 -0.795410   \n",
       "\n",
       "         94        95        96        97        98        99  \n",
       "0  0.262939  0.133911  0.023285  0.187500  0.445068  0.385498  \n",
       "1  0.421631  0.312012  0.078186  0.145752  0.477539  0.286621  \n",
       "2  0.425293  0.391357  0.175781  0.288330  0.453613  0.252197  \n",
       "3  0.511719  0.118896 -0.155273  0.532715  0.250244  0.290283  \n",
       "4  0.366455  0.244995  0.036255  0.251465  0.431885  0.546875  \n",
       "\n",
       "[5 rows x 101 columns]"
      ],
      "text/html": "<div>\n<style scoped>\n    .dataframe tbody tr th:only-of-type {\n        vertical-align: middle;\n    }\n\n    .dataframe tbody tr th {\n        vertical-align: top;\n    }\n\n    .dataframe thead th {\n        text-align: right;\n    }\n</style>\n<table border=\"1\" class=\"dataframe\">\n  <thead>\n    <tr style=\"text-align: right;\">\n      <th></th>\n      <th>MAL_ID</th>\n      <th>0</th>\n      <th>1</th>\n      <th>2</th>\n      <th>3</th>\n      <th>4</th>\n      <th>5</th>\n      <th>6</th>\n      <th>7</th>\n      <th>8</th>\n      <th>...</th>\n      <th>90</th>\n      <th>91</th>\n      <th>92</th>\n      <th>93</th>\n      <th>94</th>\n      <th>95</th>\n      <th>96</th>\n      <th>97</th>\n      <th>98</th>\n      <th>99</th>\n    </tr>\n  </thead>\n  <tbody>\n    <tr>\n      <th>0</th>\n      <td>1</td>\n      <td>0.068298</td>\n      <td>-0.725098</td>\n      <td>0.113098</td>\n      <td>0.290283</td>\n      <td>0.453369</td>\n      <td>0.393066</td>\n      <td>-0.391357</td>\n      <td>-0.298828</td>\n      <td>-0.325928</td>\n      <td>...</td>\n      <td>0.264160</td>\n      <td>-0.158203</td>\n      <td>-0.241699</td>\n      <td>-0.162842</td>\n      <td>0.262939</td>\n      <td>0.133911</td>\n      <td>0.023285</td>\n      <td>0.187500</td>\n      <td>0.445068</td>\n      <td>0.385498</td>\n    </tr>\n    <tr>\n      <th>1</th>\n      <td>5</td>\n      <td>0.421631</td>\n      <td>-0.444580</td>\n      <td>0.062561</td>\n      <td>0.541016</td>\n      <td>0.240845</td>\n      <td>0.596191</td>\n      <td>-0.235229</td>\n      <td>-0.553223</td>\n      <td>-0.411377</td>\n      <td>...</td>\n      <td>0.140869</td>\n      <td>-0.198486</td>\n      <td>-0.248657</td>\n      <td>-0.059326</td>\n      <td>0.421631</td>\n      <td>0.312012</td>\n      <td>0.078186</td>\n      <td>0.145752</td>\n      <td>0.477539</td>\n      <td>0.286621</td>\n    </tr>\n    <tr>\n      <th>2</th>\n      <td>6</td>\n      <td>-0.009071</td>\n      <td>-0.538086</td>\n      <td>0.002262</td>\n      <td>0.397949</td>\n      <td>0.303467</td>\n      <td>0.380127</td>\n      <td>-0.252930</td>\n      <td>-0.568359</td>\n      <td>-0.080444</td>\n      <td>...</td>\n      <td>-0.218140</td>\n      <td>-0.153564</td>\n      <td>-0.535645</td>\n      <td>-0.525879</td>\n      <td>0.425293</td>\n      <td>0.391357</td>\n      <td>0.175781</td>\n      <td>0.288330</td>\n      <td>0.453613</td>\n      <td>0.252197</td>\n    </tr>\n    <tr>\n      <th>3</th>\n      <td>7</td>\n      <td>0.189819</td>\n      <td>-0.184326</td>\n      <td>0.163452</td>\n      <td>0.218872</td>\n      <td>0.219849</td>\n      <td>0.500977</td>\n      <td>-0.290527</td>\n      <td>-0.662109</td>\n      <td>-0.368164</td>\n      <td>...</td>\n      <td>-0.125244</td>\n      <td>-0.370850</td>\n      <td>-0.436523</td>\n      <td>-0.446289</td>\n      <td>0.511719</td>\n      <td>0.118896</td>\n      <td>-0.155273</td>\n      <td>0.532715</td>\n      <td>0.250244</td>\n      <td>0.290283</td>\n    </tr>\n    <tr>\n      <th>4</th>\n      <td>8</td>\n      <td>0.280273</td>\n      <td>-0.597168</td>\n      <td>0.108032</td>\n      <td>0.311523</td>\n      <td>0.265381</td>\n      <td>0.325928</td>\n      <td>0.149902</td>\n      <td>-0.320557</td>\n      <td>-0.182861</td>\n      <td>...</td>\n      <td>0.358154</td>\n      <td>-0.302734</td>\n      <td>-0.400146</td>\n      <td>-0.795410</td>\n      <td>0.366455</td>\n      <td>0.244995</td>\n      <td>0.036255</td>\n      <td>0.251465</td>\n      <td>0.431885</td>\n      <td>0.546875</td>\n    </tr>\n  </tbody>\n</table>\n<p>5 rows × 101 columns</p>\n</div>"
     },
     "metadata": {},
     "execution_count": 2
    }
   ],
   "source": [
    "synop_vec = pd.read_csv('../synopsis_vector/synopsis_vector.csv')\n",
    "synop_vec.head()"
   ]
  },
  {
   "cell_type": "code",
   "execution_count": 3,
   "metadata": {},
   "outputs": [
    {
     "output_type": "execute_result",
     "data": {
      "text/plain": [
       "   MAL_ID  Action  Adventure  Cars  Comedy  Dementia  Demons  Drama  Ecchi  \\\n",
       "0       1       1          1     0       1         0       0      1      0   \n",
       "1       5       1          0     0       0         0       0      1      0   \n",
       "2       6       1          1     0       1         0       0      1      0   \n",
       "3       7       1          0     0       0         0       0      1      0   \n",
       "4       8       0          1     0       0         0       0      0      0   \n",
       "\n",
       "   Fantasy  ...  Shounen Ai  Slice of Life  Space  Sports  Super Power  \\\n",
       "0        0  ...           0              0      1       0            0   \n",
       "1        0  ...           0              0      1       0            0   \n",
       "2        0  ...           0              0      0       0            0   \n",
       "3        0  ...           0              0      0       0            0   \n",
       "4        1  ...           0              0      0       0            0   \n",
       "\n",
       "   Supernatural  Thriller  Vampire  Yaoi  Yuri  \n",
       "0             0         0        0     0     0  \n",
       "1             0         0        0     0     0  \n",
       "2             0         0        0     0     0  \n",
       "3             1         0        0     0     0  \n",
       "4             1         0        0     0     0  \n",
       "\n",
       "[5 rows x 44 columns]"
      ],
      "text/html": "<div>\n<style scoped>\n    .dataframe tbody tr th:only-of-type {\n        vertical-align: middle;\n    }\n\n    .dataframe tbody tr th {\n        vertical-align: top;\n    }\n\n    .dataframe thead th {\n        text-align: right;\n    }\n</style>\n<table border=\"1\" class=\"dataframe\">\n  <thead>\n    <tr style=\"text-align: right;\">\n      <th></th>\n      <th>MAL_ID</th>\n      <th>Action</th>\n      <th>Adventure</th>\n      <th>Cars</th>\n      <th>Comedy</th>\n      <th>Dementia</th>\n      <th>Demons</th>\n      <th>Drama</th>\n      <th>Ecchi</th>\n      <th>Fantasy</th>\n      <th>...</th>\n      <th>Shounen Ai</th>\n      <th>Slice of Life</th>\n      <th>Space</th>\n      <th>Sports</th>\n      <th>Super Power</th>\n      <th>Supernatural</th>\n      <th>Thriller</th>\n      <th>Vampire</th>\n      <th>Yaoi</th>\n      <th>Yuri</th>\n    </tr>\n  </thead>\n  <tbody>\n    <tr>\n      <th>0</th>\n      <td>1</td>\n      <td>1</td>\n      <td>1</td>\n      <td>0</td>\n      <td>1</td>\n      <td>0</td>\n      <td>0</td>\n      <td>1</td>\n      <td>0</td>\n      <td>0</td>\n      <td>...</td>\n      <td>0</td>\n      <td>0</td>\n      <td>1</td>\n      <td>0</td>\n      <td>0</td>\n      <td>0</td>\n      <td>0</td>\n      <td>0</td>\n      <td>0</td>\n      <td>0</td>\n    </tr>\n    <tr>\n      <th>1</th>\n      <td>5</td>\n      <td>1</td>\n      <td>0</td>\n      <td>0</td>\n      <td>0</td>\n      <td>0</td>\n      <td>0</td>\n      <td>1</td>\n      <td>0</td>\n      <td>0</td>\n      <td>...</td>\n      <td>0</td>\n      <td>0</td>\n      <td>1</td>\n      <td>0</td>\n      <td>0</td>\n      <td>0</td>\n      <td>0</td>\n      <td>0</td>\n      <td>0</td>\n      <td>0</td>\n    </tr>\n    <tr>\n      <th>2</th>\n      <td>6</td>\n      <td>1</td>\n      <td>1</td>\n      <td>0</td>\n      <td>1</td>\n      <td>0</td>\n      <td>0</td>\n      <td>1</td>\n      <td>0</td>\n      <td>0</td>\n      <td>...</td>\n      <td>0</td>\n      <td>0</td>\n      <td>0</td>\n      <td>0</td>\n      <td>0</td>\n      <td>0</td>\n      <td>0</td>\n      <td>0</td>\n      <td>0</td>\n      <td>0</td>\n    </tr>\n    <tr>\n      <th>3</th>\n      <td>7</td>\n      <td>1</td>\n      <td>0</td>\n      <td>0</td>\n      <td>0</td>\n      <td>0</td>\n      <td>0</td>\n      <td>1</td>\n      <td>0</td>\n      <td>0</td>\n      <td>...</td>\n      <td>0</td>\n      <td>0</td>\n      <td>0</td>\n      <td>0</td>\n      <td>0</td>\n      <td>1</td>\n      <td>0</td>\n      <td>0</td>\n      <td>0</td>\n      <td>0</td>\n    </tr>\n    <tr>\n      <th>4</th>\n      <td>8</td>\n      <td>0</td>\n      <td>1</td>\n      <td>0</td>\n      <td>0</td>\n      <td>0</td>\n      <td>0</td>\n      <td>0</td>\n      <td>0</td>\n      <td>1</td>\n      <td>...</td>\n      <td>0</td>\n      <td>0</td>\n      <td>0</td>\n      <td>0</td>\n      <td>0</td>\n      <td>1</td>\n      <td>0</td>\n      <td>0</td>\n      <td>0</td>\n      <td>0</td>\n    </tr>\n  </tbody>\n</table>\n<p>5 rows × 44 columns</p>\n</div>"
     },
     "metadata": {},
     "execution_count": 3
    }
   ],
   "source": [
    "genre_vec = pd.read_csv('../clean_data/genre.csv')\n",
    "genre_vec.head()"
   ]
  },
  {
   "source": [
    "## Split Train-Test Set"
   ],
   "cell_type": "markdown",
   "metadata": {}
  },
  {
   "cell_type": "code",
   "execution_count": 4,
   "metadata": {},
   "outputs": [],
   "source": [
    "synop_cols = synop_vec.columns.drop('MAL_ID').values\n",
    "genre_cols = genre_vec.columns.drop('MAL_ID').values"
   ]
  },
  {
   "cell_type": "code",
   "execution_count": 5,
   "metadata": {},
   "outputs": [
    {
     "output_type": "execute_result",
     "data": {
      "text/plain": [
       "   MAL_ID         0         1         2         3         4         5  \\\n",
       "0       1  0.068298 -0.725098  0.113098  0.290283  0.453369  0.393066   \n",
       "1       5  0.421631 -0.444580  0.062561  0.541016  0.240845  0.596191   \n",
       "2       6 -0.009071 -0.538086  0.002262  0.397949  0.303467  0.380127   \n",
       "3       7  0.189819 -0.184326  0.163452  0.218872  0.219849  0.500977   \n",
       "4       8  0.280273 -0.597168  0.108032  0.311523  0.265381  0.325928   \n",
       "\n",
       "          6         7         8  ...  Shounen Ai  Slice of Life  Space  \\\n",
       "0 -0.391357 -0.298828 -0.325928  ...           0              0      1   \n",
       "1 -0.235229 -0.553223 -0.411377  ...           0              0      1   \n",
       "2 -0.252930 -0.568359 -0.080444  ...           0              0      0   \n",
       "3 -0.290527 -0.662109 -0.368164  ...           0              0      0   \n",
       "4  0.149902 -0.320557 -0.182861  ...           0              0      0   \n",
       "\n",
       "   Sports  Super Power  Supernatural  Thriller  Vampire  Yaoi  Yuri  \n",
       "0       0            0             0         0        0     0     0  \n",
       "1       0            0             0         0        0     0     0  \n",
       "2       0            0             0         0        0     0     0  \n",
       "3       0            0             1         0        0     0     0  \n",
       "4       0            0             1         0        0     0     0  \n",
       "\n",
       "[5 rows x 144 columns]"
      ],
      "text/html": "<div>\n<style scoped>\n    .dataframe tbody tr th:only-of-type {\n        vertical-align: middle;\n    }\n\n    .dataframe tbody tr th {\n        vertical-align: top;\n    }\n\n    .dataframe thead th {\n        text-align: right;\n    }\n</style>\n<table border=\"1\" class=\"dataframe\">\n  <thead>\n    <tr style=\"text-align: right;\">\n      <th></th>\n      <th>MAL_ID</th>\n      <th>0</th>\n      <th>1</th>\n      <th>2</th>\n      <th>3</th>\n      <th>4</th>\n      <th>5</th>\n      <th>6</th>\n      <th>7</th>\n      <th>8</th>\n      <th>...</th>\n      <th>Shounen Ai</th>\n      <th>Slice of Life</th>\n      <th>Space</th>\n      <th>Sports</th>\n      <th>Super Power</th>\n      <th>Supernatural</th>\n      <th>Thriller</th>\n      <th>Vampire</th>\n      <th>Yaoi</th>\n      <th>Yuri</th>\n    </tr>\n  </thead>\n  <tbody>\n    <tr>\n      <th>0</th>\n      <td>1</td>\n      <td>0.068298</td>\n      <td>-0.725098</td>\n      <td>0.113098</td>\n      <td>0.290283</td>\n      <td>0.453369</td>\n      <td>0.393066</td>\n      <td>-0.391357</td>\n      <td>-0.298828</td>\n      <td>-0.325928</td>\n      <td>...</td>\n      <td>0</td>\n      <td>0</td>\n      <td>1</td>\n      <td>0</td>\n      <td>0</td>\n      <td>0</td>\n      <td>0</td>\n      <td>0</td>\n      <td>0</td>\n      <td>0</td>\n    </tr>\n    <tr>\n      <th>1</th>\n      <td>5</td>\n      <td>0.421631</td>\n      <td>-0.444580</td>\n      <td>0.062561</td>\n      <td>0.541016</td>\n      <td>0.240845</td>\n      <td>0.596191</td>\n      <td>-0.235229</td>\n      <td>-0.553223</td>\n      <td>-0.411377</td>\n      <td>...</td>\n      <td>0</td>\n      <td>0</td>\n      <td>1</td>\n      <td>0</td>\n      <td>0</td>\n      <td>0</td>\n      <td>0</td>\n      <td>0</td>\n      <td>0</td>\n      <td>0</td>\n    </tr>\n    <tr>\n      <th>2</th>\n      <td>6</td>\n      <td>-0.009071</td>\n      <td>-0.538086</td>\n      <td>0.002262</td>\n      <td>0.397949</td>\n      <td>0.303467</td>\n      <td>0.380127</td>\n      <td>-0.252930</td>\n      <td>-0.568359</td>\n      <td>-0.080444</td>\n      <td>...</td>\n      <td>0</td>\n      <td>0</td>\n      <td>0</td>\n      <td>0</td>\n      <td>0</td>\n      <td>0</td>\n      <td>0</td>\n      <td>0</td>\n      <td>0</td>\n      <td>0</td>\n    </tr>\n    <tr>\n      <th>3</th>\n      <td>7</td>\n      <td>0.189819</td>\n      <td>-0.184326</td>\n      <td>0.163452</td>\n      <td>0.218872</td>\n      <td>0.219849</td>\n      <td>0.500977</td>\n      <td>-0.290527</td>\n      <td>-0.662109</td>\n      <td>-0.368164</td>\n      <td>...</td>\n      <td>0</td>\n      <td>0</td>\n      <td>0</td>\n      <td>0</td>\n      <td>0</td>\n      <td>1</td>\n      <td>0</td>\n      <td>0</td>\n      <td>0</td>\n      <td>0</td>\n    </tr>\n    <tr>\n      <th>4</th>\n      <td>8</td>\n      <td>0.280273</td>\n      <td>-0.597168</td>\n      <td>0.108032</td>\n      <td>0.311523</td>\n      <td>0.265381</td>\n      <td>0.325928</td>\n      <td>0.149902</td>\n      <td>-0.320557</td>\n      <td>-0.182861</td>\n      <td>...</td>\n      <td>0</td>\n      <td>0</td>\n      <td>0</td>\n      <td>0</td>\n      <td>0</td>\n      <td>1</td>\n      <td>0</td>\n      <td>0</td>\n      <td>0</td>\n      <td>0</td>\n    </tr>\n  </tbody>\n</table>\n<p>5 rows × 144 columns</p>\n</div>"
     },
     "metadata": {},
     "execution_count": 5
    }
   ],
   "source": [
    "full_vec = pd.merge(synop_vec, genre_vec)\n",
    "full_vec.head()"
   ]
  },
  {
   "cell_type": "code",
   "execution_count": 6,
   "metadata": {},
   "outputs": [
    {
     "output_type": "execute_result",
     "data": {
      "text/plain": [
       "   MAL_ID         0         1         2         3         4         5  \\\n",
       "0   32105  0.213989 -0.479248  0.187134  0.332031  0.355225  0.441162   \n",
       "1     291  0.479248 -0.445068  0.439209  0.401123  0.498779  0.437012   \n",
       "2    1975  0.547363 -0.491699  0.475342  0.098328  0.464355  0.755371   \n",
       "3    1252  0.611816 -0.109802  0.437988 -0.082947 -0.132080  0.223389   \n",
       "4     242  0.215210 -0.345947  0.088379  0.329590  0.323975  0.209961   \n",
       "\n",
       "          6         7         8  ...  Shounen Ai  Slice of Life  Space  \\\n",
       "0 -0.433594 -0.560547 -0.447998  ...           0              0      0   \n",
       "1 -0.219116 -0.177002 -0.348145  ...           0              0      0   \n",
       "2 -0.666016 -0.433350 -0.198608  ...           0              0      0   \n",
       "3 -0.506348 -0.321777 -0.589355  ...           0              0      0   \n",
       "4  0.031616 -0.132202 -0.168457  ...           0              1      0   \n",
       "\n",
       "   Sports  Super Power  Supernatural  Thriller  Vampire  Yaoi  Yuri  \n",
       "0       0            0             1         0        0     0     0  \n",
       "1       0            0             1         0        0     0     0  \n",
       "2       0            0             0         0        0     0     0  \n",
       "3       0            0             0         0        0     0     0  \n",
       "4       0            0             0         0        0     0     0  \n",
       "\n",
       "[5 rows x 144 columns]"
      ],
      "text/html": "<div>\n<style scoped>\n    .dataframe tbody tr th:only-of-type {\n        vertical-align: middle;\n    }\n\n    .dataframe tbody tr th {\n        vertical-align: top;\n    }\n\n    .dataframe thead th {\n        text-align: right;\n    }\n</style>\n<table border=\"1\" class=\"dataframe\">\n  <thead>\n    <tr style=\"text-align: right;\">\n      <th></th>\n      <th>MAL_ID</th>\n      <th>0</th>\n      <th>1</th>\n      <th>2</th>\n      <th>3</th>\n      <th>4</th>\n      <th>5</th>\n      <th>6</th>\n      <th>7</th>\n      <th>8</th>\n      <th>...</th>\n      <th>Shounen Ai</th>\n      <th>Slice of Life</th>\n      <th>Space</th>\n      <th>Sports</th>\n      <th>Super Power</th>\n      <th>Supernatural</th>\n      <th>Thriller</th>\n      <th>Vampire</th>\n      <th>Yaoi</th>\n      <th>Yuri</th>\n    </tr>\n  </thead>\n  <tbody>\n    <tr>\n      <th>0</th>\n      <td>32105</td>\n      <td>0.213989</td>\n      <td>-0.479248</td>\n      <td>0.187134</td>\n      <td>0.332031</td>\n      <td>0.355225</td>\n      <td>0.441162</td>\n      <td>-0.433594</td>\n      <td>-0.560547</td>\n      <td>-0.447998</td>\n      <td>...</td>\n      <td>0</td>\n      <td>0</td>\n      <td>0</td>\n      <td>0</td>\n      <td>0</td>\n      <td>1</td>\n      <td>0</td>\n      <td>0</td>\n      <td>0</td>\n      <td>0</td>\n    </tr>\n    <tr>\n      <th>1</th>\n      <td>291</td>\n      <td>0.479248</td>\n      <td>-0.445068</td>\n      <td>0.439209</td>\n      <td>0.401123</td>\n      <td>0.498779</td>\n      <td>0.437012</td>\n      <td>-0.219116</td>\n      <td>-0.177002</td>\n      <td>-0.348145</td>\n      <td>...</td>\n      <td>0</td>\n      <td>0</td>\n      <td>0</td>\n      <td>0</td>\n      <td>0</td>\n      <td>1</td>\n      <td>0</td>\n      <td>0</td>\n      <td>0</td>\n      <td>0</td>\n    </tr>\n    <tr>\n      <th>2</th>\n      <td>1975</td>\n      <td>0.547363</td>\n      <td>-0.491699</td>\n      <td>0.475342</td>\n      <td>0.098328</td>\n      <td>0.464355</td>\n      <td>0.755371</td>\n      <td>-0.666016</td>\n      <td>-0.433350</td>\n      <td>-0.198608</td>\n      <td>...</td>\n      <td>0</td>\n      <td>0</td>\n      <td>0</td>\n      <td>0</td>\n      <td>0</td>\n      <td>0</td>\n      <td>0</td>\n      <td>0</td>\n      <td>0</td>\n      <td>0</td>\n    </tr>\n    <tr>\n      <th>3</th>\n      <td>1252</td>\n      <td>0.611816</td>\n      <td>-0.109802</td>\n      <td>0.437988</td>\n      <td>-0.082947</td>\n      <td>-0.132080</td>\n      <td>0.223389</td>\n      <td>-0.506348</td>\n      <td>-0.321777</td>\n      <td>-0.589355</td>\n      <td>...</td>\n      <td>0</td>\n      <td>0</td>\n      <td>0</td>\n      <td>0</td>\n      <td>0</td>\n      <td>0</td>\n      <td>0</td>\n      <td>0</td>\n      <td>0</td>\n      <td>0</td>\n    </tr>\n    <tr>\n      <th>4</th>\n      <td>242</td>\n      <td>0.215210</td>\n      <td>-0.345947</td>\n      <td>0.088379</td>\n      <td>0.329590</td>\n      <td>0.323975</td>\n      <td>0.209961</td>\n      <td>0.031616</td>\n      <td>-0.132202</td>\n      <td>-0.168457</td>\n      <td>...</td>\n      <td>0</td>\n      <td>1</td>\n      <td>0</td>\n      <td>0</td>\n      <td>0</td>\n      <td>0</td>\n      <td>0</td>\n      <td>0</td>\n      <td>0</td>\n      <td>0</td>\n    </tr>\n  </tbody>\n</table>\n<p>5 rows × 144 columns</p>\n</div>"
     },
     "metadata": {},
     "execution_count": 6
    }
   ],
   "source": [
    "# random shuffle and re-index\n",
    "full_vec = full_vec.sample(frac=1).reset_index(drop=True)\n",
    "full_vec.head()"
   ]
  },
  {
   "cell_type": "code",
   "execution_count": 7,
   "metadata": {},
   "outputs": [],
   "source": [
    "# split dataframe to train-test numpy array\n",
    "train_ratio = 0.95\n",
    "num_train = int(len(full_vec) * train_ratio)\n",
    "\n",
    "x_train = full_vec[synop_cols][:num_train].values\n",
    "t_train = full_vec[genre_cols][:num_train].values\n",
    "id_train = full_vec['MAL_ID'][num_train:].values\n",
    "\n",
    "x_test = full_vec[synop_cols][num_train:].values\n",
    "t_test = full_vec[genre_cols][num_train:].values\n",
    "id_test = full_vec['MAL_ID'][num_train:].values\n",
    "\n",
    "del synop_vec, genre_vec, full_vec"
   ]
  },
  {
   "cell_type": "code",
   "execution_count": 8,
   "metadata": {},
   "outputs": [],
   "source": [
    "# standardization\n",
    "# x_train_mean = x_train.mean(axis=0)\n",
    "# x_train_std  = x_train.std(axis=0)\n",
    "\n",
    "# x_train = (x_train - x_train_mean) / x_train_std\n",
    "# x_test  = (x_test  - x_train_mean) / x_train_std"
   ]
  },
  {
   "source": [
    "## Define Model"
   ],
   "cell_type": "markdown",
   "metadata": {}
  },
  {
   "cell_type": "code",
   "execution_count": 9,
   "metadata": {},
   "outputs": [
    {
     "output_type": "stream",
     "name": "stdout",
     "text": [
      "------------------------------------------------------------\nAffine(input_size=100, output_size=100, weight_init=xavier)\n------------------------------------------------------------\nSigmoid\n------------------------------------------------------------\nAffine(input_size=100, output_size=100, weight_init=xavier)\n------------------------------------------------------------\nSigmoid\n------------------------------------------------------------\nAffine(input_size=100, output_size=100, weight_init=xavier)\n------------------------------------------------------------\nSigmoid\n------------------------------------------------------------\nAffine(input_size=100, output_size=100, weight_init=xavier)\n------------------------------------------------------------\nSigmoid\n------------------------------------------------------------\nAffine(input_size=100, output_size=43, weight_init=xavier)\n------------------------------------------------------------\nFocalLoss(gamma=2)\n------------------------------------------------------------\n"
     ]
    }
   ],
   "source": [
    "input_size  = len(synop_cols)\n",
    "output_size = len(genre_cols)\n",
    "\n",
    "model = MultiLabelClassifier(input_size=input_size,\n",
    "                             hidden_size_list=[100, 100, 100, 100],\n",
    "                             output_size=output_size,\n",
    "                            #  use_dropout=True,\n",
    "                            #  dropout_ratio=0.8,\n",
    "                            #  use_batchnorm=True,\n",
    "                             use_focal_loss=True,\n",
    "                             focal_gamma=2)\n",
    "model.summary()"
   ]
  },
  {
   "cell_type": "code",
   "execution_count": 10,
   "metadata": {},
   "outputs": [],
   "source": [
    "optimizer = Adam()\n",
    "trainer = Trainer(model, optimizer)"
   ]
  },
  {
   "source": [
    "## Train Model"
   ],
   "cell_type": "markdown",
   "metadata": {}
  },
  {
   "cell_type": "code",
   "execution_count": 11,
   "metadata": {
    "tags": []
   },
   "outputs": [
    {
     "output_type": "stream",
     "name": "stdout",
     "text": [
      "| epoch   1 | time   0[s] | train loss 2.77 | val loss 2.82\n",
      "| epoch   2 | time   1[s] | train loss 2.77 | val loss 2.82\n",
      "| epoch   3 | time   1[s] | train loss 2.77 | val loss 2.82\n",
      "| epoch   4 | time   1[s] | train loss 2.77 | val loss 2.81\n",
      "| epoch   5 | time   2[s] | train loss 2.77 | val loss 2.82\n",
      "| epoch   6 | time   2[s] | train loss 2.77 | val loss 2.81\n",
      "| epoch   7 | time   2[s] | train loss 2.77 | val loss 2.82\n",
      "| epoch   8 | time   2[s] | train loss 2.77 | val loss 2.82\n",
      "| epoch   9 | time   3[s] | train loss 2.77 | val loss 2.81\n",
      "| epoch  10 | time   3[s] | train loss 2.74 | val loss 2.78\n",
      "| epoch  11 | time   3[s] | train loss 2.70 | val loss 2.73\n",
      "| epoch  12 | time   3[s] | train loss 2.68 | val loss 2.72\n",
      "| epoch  13 | time   3[s] | train loss 2.67 | val loss 2.70\n",
      "| epoch  14 | time   4[s] | train loss 2.66 | val loss 2.70\n",
      "| epoch  15 | time   4[s] | train loss 2.66 | val loss 2.69\n",
      "| epoch  16 | time   4[s] | train loss 2.66 | val loss 2.70\n",
      "| epoch  17 | time   4[s] | train loss 2.65 | val loss 2.69\n",
      "| epoch  18 | time   5[s] | train loss 2.65 | val loss 2.70\n",
      "| epoch  19 | time   5[s] | train loss 2.65 | val loss 2.69\n",
      "| epoch  20 | time   5[s] | train loss 2.65 | val loss 2.69\n",
      "| epoch  21 | time   5[s] | train loss 2.64 | val loss 2.68\n",
      "| epoch  22 | time   6[s] | train loss 2.64 | val loss 2.69\n",
      "| epoch  23 | time   6[s] | train loss 2.64 | val loss 2.68\n",
      "| epoch  24 | time   6[s] | train loss 2.63 | val loss 2.67\n",
      "| epoch  25 | time   6[s] | train loss 2.63 | val loss 2.68\n",
      "| epoch  26 | time   7[s] | train loss 2.62 | val loss 2.67\n",
      "| epoch  27 | time   7[s] | train loss 2.61 | val loss 2.66\n",
      "| epoch  28 | time   7[s] | train loss 2.61 | val loss 2.66\n",
      "| epoch  29 | time   7[s] | train loss 2.61 | val loss 2.67\n",
      "| epoch  30 | time   7[s] | train loss 2.61 | val loss 2.67\n",
      "| epoch  31 | time   8[s] | train loss 2.60 | val loss 2.66\n",
      "| epoch  32 | time   8[s] | train loss 2.60 | val loss 2.66\n",
      "| epoch  33 | time   8[s] | train loss 2.60 | val loss 2.65\n",
      "| epoch  34 | time   8[s] | train loss 2.59 | val loss 2.66\n",
      "| epoch  35 | time   8[s] | train loss 2.59 | val loss 2.65\n",
      "| epoch  36 | time   9[s] | train loss 2.58 | val loss 2.65\n",
      "| epoch  37 | time   9[s] | train loss 2.59 | val loss 2.65\n",
      "| epoch  38 | time   9[s] | train loss 2.58 | val loss 2.64\n",
      "| epoch  39 | time   9[s] | train loss 2.58 | val loss 2.64\n",
      "| epoch  40 | time   9[s] | train loss 2.58 | val loss 2.63\n",
      "| epoch  41 | time  10[s] | train loss 2.58 | val loss 2.65\n",
      "| epoch  42 | time  10[s] | train loss 2.57 | val loss 2.64\n",
      "| epoch  43 | time  10[s] | train loss 2.57 | val loss 2.64\n",
      "| epoch  44 | time  10[s] | train loss 2.57 | val loss 2.64\n",
      "| epoch  45 | time  10[s] | train loss 2.57 | val loss 2.63\n",
      "| epoch  46 | time  11[s] | train loss 2.57 | val loss 2.63\n",
      "| epoch  47 | time  11[s] | train loss 2.57 | val loss 2.63\n",
      "| epoch  48 | time  11[s] | train loss 2.57 | val loss 2.63\n",
      "| epoch  49 | time  11[s] | train loss 2.56 | val loss 2.63\n",
      "| epoch  50 | time  11[s] | train loss 2.56 | val loss 2.63\n",
      "| epoch  51 | time  12[s] | train loss 2.55 | val loss 2.63\n",
      "| epoch  52 | time  12[s] | train loss 2.55 | val loss 2.63\n",
      "| epoch  53 | time  12[s] | train loss 2.55 | val loss 2.63\n",
      "| epoch  54 | time  12[s] | train loss 2.55 | val loss 2.63\n",
      "| epoch  55 | time  12[s] | train loss 2.55 | val loss 2.62\n",
      "| epoch  56 | time  13[s] | train loss 2.54 | val loss 2.62\n",
      "| epoch  57 | time  13[s] | train loss 2.54 | val loss 2.61\n",
      "| epoch  58 | time  13[s] | train loss 2.54 | val loss 2.61\n",
      "| epoch  59 | time  13[s] | train loss 2.53 | val loss 2.61\n",
      "| epoch  60 | time  13[s] | train loss 2.54 | val loss 2.62\n",
      "| epoch  61 | time  14[s] | train loss 2.53 | val loss 2.60\n",
      "| epoch  62 | time  14[s] | train loss 2.53 | val loss 2.61\n",
      "| epoch  63 | time  14[s] | train loss 2.53 | val loss 2.61\n",
      "| epoch  64 | time  14[s] | train loss 2.52 | val loss 2.60\n",
      "| epoch  65 | time  14[s] | train loss 2.52 | val loss 2.60\n",
      "| epoch  66 | time  15[s] | train loss 2.52 | val loss 2.59\n",
      "| epoch  67 | time  15[s] | train loss 2.51 | val loss 2.59\n",
      "| epoch  68 | time  15[s] | train loss 2.51 | val loss 2.60\n",
      "| epoch  69 | time  15[s] | train loss 2.51 | val loss 2.59\n",
      "| epoch  70 | time  15[s] | train loss 2.50 | val loss 2.59\n",
      "| epoch  71 | time  16[s] | train loss 2.50 | val loss 2.58\n",
      "| epoch  72 | time  16[s] | train loss 2.50 | val loss 2.60\n",
      "| epoch  73 | time  16[s] | train loss 2.49 | val loss 2.58\n",
      "| epoch  74 | time  16[s] | train loss 2.49 | val loss 2.58\n",
      "| epoch  75 | time  16[s] | train loss 2.49 | val loss 2.57\n",
      "| epoch  76 | time  17[s] | train loss 2.50 | val loss 2.58\n",
      "| epoch  77 | time  17[s] | train loss 2.48 | val loss 2.57\n",
      "| epoch  78 | time  17[s] | train loss 2.48 | val loss 2.58\n",
      "| epoch  79 | time  17[s] | train loss 2.49 | val loss 2.57\n",
      "| epoch  80 | time  17[s] | train loss 2.48 | val loss 2.58\n",
      "| epoch  81 | time  18[s] | train loss 2.47 | val loss 2.57\n",
      "| epoch  82 | time  18[s] | train loss 2.48 | val loss 2.57\n",
      "| epoch  83 | time  18[s] | train loss 2.47 | val loss 2.57\n",
      "| epoch  84 | time  18[s] | train loss 2.47 | val loss 2.58\n",
      "| epoch  85 | time  18[s] | train loss 2.47 | val loss 2.56\n",
      "| epoch  86 | time  19[s] | train loss 2.47 | val loss 2.56\n",
      "| epoch  87 | time  19[s] | train loss 2.47 | val loss 2.56\n",
      "| epoch  88 | time  19[s] | train loss 2.47 | val loss 2.56\n",
      "| epoch  89 | time  19[s] | train loss 2.46 | val loss 2.56\n",
      "| epoch  90 | time  19[s] | train loss 2.47 | val loss 2.57\n",
      "| epoch  91 | time  20[s] | train loss 2.47 | val loss 2.57\n",
      "| epoch  92 | time  20[s] | train loss 2.46 | val loss 2.56\n",
      "| epoch  93 | time  20[s] | train loss 2.46 | val loss 2.56\n",
      "| epoch  94 | time  20[s] | train loss 2.46 | val loss 2.58\n",
      "| epoch  95 | time  20[s] | train loss 2.46 | val loss 2.56\n",
      "| epoch  96 | time  21[s] | train loss 2.46 | val loss 2.56\n",
      "| epoch  97 | time  21[s] | train loss 2.45 | val loss 2.56\n",
      "| epoch  98 | time  21[s] | train loss 2.46 | val loss 2.57\n",
      "| epoch  99 | time  21[s] | train loss 2.45 | val loss 2.57\n",
      "| epoch 100 | time  21[s] | train loss 2.45 | val loss 2.56\n"
     ]
    }
   ],
   "source": [
    "num_epochs = 100\n",
    "batch_size = 100\n",
    "\n",
    "trainer.fit(x_train, t_train, x_test, t_test, \n",
    "            max_epoch=num_epochs, \n",
    "            batch_size=batch_size)"
   ]
  },
  {
   "cell_type": "code",
   "execution_count": 12,
   "metadata": {},
   "outputs": [
    {
     "output_type": "display_data",
     "data": {
      "text/plain": "<Figure size 432x288 with 1 Axes>",
      "image/svg+xml": "<?xml version=\"1.0\" encoding=\"utf-8\" standalone=\"no\"?>\n<!DOCTYPE svg PUBLIC \"-//W3C//DTD SVG 1.1//EN\"\n  \"http://www.w3.org/Graphics/SVG/1.1/DTD/svg11.dtd\">\n<svg height=\"262.19625pt\" version=\"1.1\" viewBox=\"0 0 392.14375 262.19625\" width=\"392.14375pt\" xmlns=\"http://www.w3.org/2000/svg\" xmlns:xlink=\"http://www.w3.org/1999/xlink\">\n <metadata>\n  <rdf:RDF xmlns:cc=\"http://creativecommons.org/ns#\" xmlns:dc=\"http://purl.org/dc/elements/1.1/\" xmlns:rdf=\"http://www.w3.org/1999/02/22-rdf-syntax-ns#\">\n   <cc:Work>\n    <dc:type rdf:resource=\"http://purl.org/dc/dcmitype/StillImage\"/>\n    <dc:date>2021-06-14T17:46:02.287109</dc:date>\n    <dc:format>image/svg+xml</dc:format>\n    <dc:creator>\n     <cc:Agent>\n      <dc:title>Matplotlib v3.4.2, https://matplotlib.org/</dc:title>\n     </cc:Agent>\n    </dc:creator>\n   </cc:Work>\n  </rdf:RDF>\n </metadata>\n <defs>\n  <style type=\"text/css\">*{stroke-linecap:butt;stroke-linejoin:round;}</style>\n </defs>\n <g id=\"figure_1\">\n  <g id=\"patch_1\">\n   <path d=\"M 0 262.19625 \nL 392.14375 262.19625 \nL 392.14375 0 \nL 0 0 \nz\n\" style=\"fill:none;\"/>\n  </g>\n  <g id=\"axes_1\">\n   <g id=\"patch_2\">\n    <path d=\"M 50.14375 224.64 \nL 384.94375 224.64 \nL 384.94375 7.2 \nL 50.14375 7.2 \nz\n\" style=\"fill:#ffffff;\"/>\n   </g>\n   <g id=\"matplotlib.axis_1\">\n    <g id=\"xtick_1\">\n     <g id=\"line2d_1\">\n      <defs>\n       <path d=\"M 0 0 \nL 0 3.5 \n\" id=\"m9e4ce9add7\" style=\"stroke:#000000;stroke-width:0.8;\"/>\n      </defs>\n      <g>\n       <use style=\"stroke:#000000;stroke-width:0.8;\" x=\"65.361932\" xlink:href=\"#m9e4ce9add7\" y=\"224.64\"/>\n      </g>\n     </g>\n     <g id=\"text_1\">\n      <!-- 0 -->\n      <g transform=\"translate(62.180682 239.238438)scale(0.1 -0.1)\">\n       <defs>\n        <path d=\"M 2034 4250 \nQ 1547 4250 1301 3770 \nQ 1056 3291 1056 2328 \nQ 1056 1369 1301 889 \nQ 1547 409 2034 409 \nQ 2525 409 2770 889 \nQ 3016 1369 3016 2328 \nQ 3016 3291 2770 3770 \nQ 2525 4250 2034 4250 \nz\nM 2034 4750 \nQ 2819 4750 3233 4129 \nQ 3647 3509 3647 2328 \nQ 3647 1150 3233 529 \nQ 2819 -91 2034 -91 \nQ 1250 -91 836 529 \nQ 422 1150 422 2328 \nQ 422 3509 836 4129 \nQ 1250 4750 2034 4750 \nz\n\" id=\"DejaVuSans-30\" transform=\"scale(0.015625)\"/>\n       </defs>\n       <use xlink:href=\"#DejaVuSans-30\"/>\n      </g>\n     </g>\n    </g>\n    <g id=\"xtick_2\">\n     <g id=\"line2d_2\">\n      <g>\n       <use style=\"stroke:#000000;stroke-width:0.8;\" x=\"126.849535\" xlink:href=\"#m9e4ce9add7\" y=\"224.64\"/>\n      </g>\n     </g>\n     <g id=\"text_2\">\n      <!-- 20 -->\n      <g transform=\"translate(120.487035 239.238438)scale(0.1 -0.1)\">\n       <defs>\n        <path d=\"M 1228 531 \nL 3431 531 \nL 3431 0 \nL 469 0 \nL 469 531 \nQ 828 903 1448 1529 \nQ 2069 2156 2228 2338 \nQ 2531 2678 2651 2914 \nQ 2772 3150 2772 3378 \nQ 2772 3750 2511 3984 \nQ 2250 4219 1831 4219 \nQ 1534 4219 1204 4116 \nQ 875 4013 500 3803 \nL 500 4441 \nQ 881 4594 1212 4672 \nQ 1544 4750 1819 4750 \nQ 2544 4750 2975 4387 \nQ 3406 4025 3406 3419 \nQ 3406 3131 3298 2873 \nQ 3191 2616 2906 2266 \nQ 2828 2175 2409 1742 \nQ 1991 1309 1228 531 \nz\n\" id=\"DejaVuSans-32\" transform=\"scale(0.015625)\"/>\n       </defs>\n       <use xlink:href=\"#DejaVuSans-32\"/>\n       <use x=\"63.623047\" xlink:href=\"#DejaVuSans-30\"/>\n      </g>\n     </g>\n    </g>\n    <g id=\"xtick_3\">\n     <g id=\"line2d_3\">\n      <g>\n       <use style=\"stroke:#000000;stroke-width:0.8;\" x=\"188.337138\" xlink:href=\"#m9e4ce9add7\" y=\"224.64\"/>\n      </g>\n     </g>\n     <g id=\"text_3\">\n      <!-- 40 -->\n      <g transform=\"translate(181.974638 239.238438)scale(0.1 -0.1)\">\n       <defs>\n        <path d=\"M 2419 4116 \nL 825 1625 \nL 2419 1625 \nL 2419 4116 \nz\nM 2253 4666 \nL 3047 4666 \nL 3047 1625 \nL 3713 1625 \nL 3713 1100 \nL 3047 1100 \nL 3047 0 \nL 2419 0 \nL 2419 1100 \nL 313 1100 \nL 313 1709 \nL 2253 4666 \nz\n\" id=\"DejaVuSans-34\" transform=\"scale(0.015625)\"/>\n       </defs>\n       <use xlink:href=\"#DejaVuSans-34\"/>\n       <use x=\"63.623047\" xlink:href=\"#DejaVuSans-30\"/>\n      </g>\n     </g>\n    </g>\n    <g id=\"xtick_4\">\n     <g id=\"line2d_4\">\n      <g>\n       <use style=\"stroke:#000000;stroke-width:0.8;\" x=\"249.824742\" xlink:href=\"#m9e4ce9add7\" y=\"224.64\"/>\n      </g>\n     </g>\n     <g id=\"text_4\">\n      <!-- 60 -->\n      <g transform=\"translate(243.462242 239.238438)scale(0.1 -0.1)\">\n       <defs>\n        <path d=\"M 2113 2584 \nQ 1688 2584 1439 2293 \nQ 1191 2003 1191 1497 \nQ 1191 994 1439 701 \nQ 1688 409 2113 409 \nQ 2538 409 2786 701 \nQ 3034 994 3034 1497 \nQ 3034 2003 2786 2293 \nQ 2538 2584 2113 2584 \nz\nM 3366 4563 \nL 3366 3988 \nQ 3128 4100 2886 4159 \nQ 2644 4219 2406 4219 \nQ 1781 4219 1451 3797 \nQ 1122 3375 1075 2522 \nQ 1259 2794 1537 2939 \nQ 1816 3084 2150 3084 \nQ 2853 3084 3261 2657 \nQ 3669 2231 3669 1497 \nQ 3669 778 3244 343 \nQ 2819 -91 2113 -91 \nQ 1303 -91 875 529 \nQ 447 1150 447 2328 \nQ 447 3434 972 4092 \nQ 1497 4750 2381 4750 \nQ 2619 4750 2861 4703 \nQ 3103 4656 3366 4563 \nz\n\" id=\"DejaVuSans-36\" transform=\"scale(0.015625)\"/>\n       </defs>\n       <use xlink:href=\"#DejaVuSans-36\"/>\n       <use x=\"63.623047\" xlink:href=\"#DejaVuSans-30\"/>\n      </g>\n     </g>\n    </g>\n    <g id=\"xtick_5\">\n     <g id=\"line2d_5\">\n      <g>\n       <use style=\"stroke:#000000;stroke-width:0.8;\" x=\"311.312345\" xlink:href=\"#m9e4ce9add7\" y=\"224.64\"/>\n      </g>\n     </g>\n     <g id=\"text_5\">\n      <!-- 80 -->\n      <g transform=\"translate(304.949845 239.238438)scale(0.1 -0.1)\">\n       <defs>\n        <path d=\"M 2034 2216 \nQ 1584 2216 1326 1975 \nQ 1069 1734 1069 1313 \nQ 1069 891 1326 650 \nQ 1584 409 2034 409 \nQ 2484 409 2743 651 \nQ 3003 894 3003 1313 \nQ 3003 1734 2745 1975 \nQ 2488 2216 2034 2216 \nz\nM 1403 2484 \nQ 997 2584 770 2862 \nQ 544 3141 544 3541 \nQ 544 4100 942 4425 \nQ 1341 4750 2034 4750 \nQ 2731 4750 3128 4425 \nQ 3525 4100 3525 3541 \nQ 3525 3141 3298 2862 \nQ 3072 2584 2669 2484 \nQ 3125 2378 3379 2068 \nQ 3634 1759 3634 1313 \nQ 3634 634 3220 271 \nQ 2806 -91 2034 -91 \nQ 1263 -91 848 271 \nQ 434 634 434 1313 \nQ 434 1759 690 2068 \nQ 947 2378 1403 2484 \nz\nM 1172 3481 \nQ 1172 3119 1398 2916 \nQ 1625 2713 2034 2713 \nQ 2441 2713 2670 2916 \nQ 2900 3119 2900 3481 \nQ 2900 3844 2670 4047 \nQ 2441 4250 2034 4250 \nQ 1625 4250 1398 4047 \nQ 1172 3844 1172 3481 \nz\n\" id=\"DejaVuSans-38\" transform=\"scale(0.015625)\"/>\n       </defs>\n       <use xlink:href=\"#DejaVuSans-38\"/>\n       <use x=\"63.623047\" xlink:href=\"#DejaVuSans-30\"/>\n      </g>\n     </g>\n    </g>\n    <g id=\"xtick_6\">\n     <g id=\"line2d_6\">\n      <g>\n       <use style=\"stroke:#000000;stroke-width:0.8;\" x=\"372.799948\" xlink:href=\"#m9e4ce9add7\" y=\"224.64\"/>\n      </g>\n     </g>\n     <g id=\"text_6\">\n      <!-- 100 -->\n      <g transform=\"translate(363.256198 239.238438)scale(0.1 -0.1)\">\n       <defs>\n        <path d=\"M 794 531 \nL 1825 531 \nL 1825 4091 \nL 703 3866 \nL 703 4441 \nL 1819 4666 \nL 2450 4666 \nL 2450 531 \nL 3481 531 \nL 3481 0 \nL 794 0 \nL 794 531 \nz\n\" id=\"DejaVuSans-31\" transform=\"scale(0.015625)\"/>\n       </defs>\n       <use xlink:href=\"#DejaVuSans-31\"/>\n       <use x=\"63.623047\" xlink:href=\"#DejaVuSans-30\"/>\n       <use x=\"127.246094\" xlink:href=\"#DejaVuSans-30\"/>\n      </g>\n     </g>\n    </g>\n    <g id=\"text_7\">\n     <!-- Epoch -->\n     <g transform=\"translate(202.232813 252.916563)scale(0.1 -0.1)\">\n      <defs>\n       <path d=\"M 628 4666 \nL 3578 4666 \nL 3578 4134 \nL 1259 4134 \nL 1259 2753 \nL 3481 2753 \nL 3481 2222 \nL 1259 2222 \nL 1259 531 \nL 3634 531 \nL 3634 0 \nL 628 0 \nL 628 4666 \nz\n\" id=\"DejaVuSans-45\" transform=\"scale(0.015625)\"/>\n       <path d=\"M 1159 525 \nL 1159 -1331 \nL 581 -1331 \nL 581 3500 \nL 1159 3500 \nL 1159 2969 \nQ 1341 3281 1617 3432 \nQ 1894 3584 2278 3584 \nQ 2916 3584 3314 3078 \nQ 3713 2572 3713 1747 \nQ 3713 922 3314 415 \nQ 2916 -91 2278 -91 \nQ 1894 -91 1617 61 \nQ 1341 213 1159 525 \nz\nM 3116 1747 \nQ 3116 2381 2855 2742 \nQ 2594 3103 2138 3103 \nQ 1681 3103 1420 2742 \nQ 1159 2381 1159 1747 \nQ 1159 1113 1420 752 \nQ 1681 391 2138 391 \nQ 2594 391 2855 752 \nQ 3116 1113 3116 1747 \nz\n\" id=\"DejaVuSans-70\" transform=\"scale(0.015625)\"/>\n       <path d=\"M 1959 3097 \nQ 1497 3097 1228 2736 \nQ 959 2375 959 1747 \nQ 959 1119 1226 758 \nQ 1494 397 1959 397 \nQ 2419 397 2687 759 \nQ 2956 1122 2956 1747 \nQ 2956 2369 2687 2733 \nQ 2419 3097 1959 3097 \nz\nM 1959 3584 \nQ 2709 3584 3137 3096 \nQ 3566 2609 3566 1747 \nQ 3566 888 3137 398 \nQ 2709 -91 1959 -91 \nQ 1206 -91 779 398 \nQ 353 888 353 1747 \nQ 353 2609 779 3096 \nQ 1206 3584 1959 3584 \nz\n\" id=\"DejaVuSans-6f\" transform=\"scale(0.015625)\"/>\n       <path d=\"M 3122 3366 \nL 3122 2828 \nQ 2878 2963 2633 3030 \nQ 2388 3097 2138 3097 \nQ 1578 3097 1268 2742 \nQ 959 2388 959 1747 \nQ 959 1106 1268 751 \nQ 1578 397 2138 397 \nQ 2388 397 2633 464 \nQ 2878 531 3122 666 \nL 3122 134 \nQ 2881 22 2623 -34 \nQ 2366 -91 2075 -91 \nQ 1284 -91 818 406 \nQ 353 903 353 1747 \nQ 353 2603 823 3093 \nQ 1294 3584 2113 3584 \nQ 2378 3584 2631 3529 \nQ 2884 3475 3122 3366 \nz\n\" id=\"DejaVuSans-63\" transform=\"scale(0.015625)\"/>\n       <path d=\"M 3513 2113 \nL 3513 0 \nL 2938 0 \nL 2938 2094 \nQ 2938 2591 2744 2837 \nQ 2550 3084 2163 3084 \nQ 1697 3084 1428 2787 \nQ 1159 2491 1159 1978 \nL 1159 0 \nL 581 0 \nL 581 4863 \nL 1159 4863 \nL 1159 2956 \nQ 1366 3272 1645 3428 \nQ 1925 3584 2291 3584 \nQ 2894 3584 3203 3211 \nQ 3513 2838 3513 2113 \nz\n\" id=\"DejaVuSans-68\" transform=\"scale(0.015625)\"/>\n      </defs>\n      <use xlink:href=\"#DejaVuSans-45\"/>\n      <use x=\"63.183594\" xlink:href=\"#DejaVuSans-70\"/>\n      <use x=\"126.660156\" xlink:href=\"#DejaVuSans-6f\"/>\n      <use x=\"187.841797\" xlink:href=\"#DejaVuSans-63\"/>\n      <use x=\"242.822266\" xlink:href=\"#DejaVuSans-68\"/>\n     </g>\n    </g>\n   </g>\n   <g id=\"matplotlib.axis_2\">\n    <g id=\"ytick_1\">\n     <g id=\"line2d_7\">\n      <defs>\n       <path d=\"M 0 0 \nL -3.5 0 \n\" id=\"m0626bdccfe\" style=\"stroke:#000000;stroke-width:0.8;\"/>\n      </defs>\n      <g>\n       <use style=\"stroke:#000000;stroke-width:0.8;\" x=\"50.14375\" xlink:href=\"#m0626bdccfe\" y=\"214.792313\"/>\n      </g>\n     </g>\n     <g id=\"text_8\">\n      <!-- 2.45 -->\n      <g transform=\"translate(20.878125 218.591531)scale(0.1 -0.1)\">\n       <defs>\n        <path d=\"M 684 794 \nL 1344 794 \nL 1344 0 \nL 684 0 \nL 684 794 \nz\n\" id=\"DejaVuSans-2e\" transform=\"scale(0.015625)\"/>\n        <path d=\"M 691 4666 \nL 3169 4666 \nL 3169 4134 \nL 1269 4134 \nL 1269 2991 \nQ 1406 3038 1543 3061 \nQ 1681 3084 1819 3084 \nQ 2600 3084 3056 2656 \nQ 3513 2228 3513 1497 \nQ 3513 744 3044 326 \nQ 2575 -91 1722 -91 \nQ 1428 -91 1123 -41 \nQ 819 9 494 109 \nL 494 744 \nQ 775 591 1075 516 \nQ 1375 441 1709 441 \nQ 2250 441 2565 725 \nQ 2881 1009 2881 1497 \nQ 2881 1984 2565 2268 \nQ 2250 2553 1709 2553 \nQ 1456 2553 1204 2497 \nQ 953 2441 691 2322 \nL 691 4666 \nz\n\" id=\"DejaVuSans-35\" transform=\"scale(0.015625)\"/>\n       </defs>\n       <use xlink:href=\"#DejaVuSans-32\"/>\n       <use x=\"63.623047\" xlink:href=\"#DejaVuSans-2e\"/>\n       <use x=\"95.410156\" xlink:href=\"#DejaVuSans-34\"/>\n       <use x=\"159.033203\" xlink:href=\"#DejaVuSans-35\"/>\n      </g>\n     </g>\n    </g>\n    <g id=\"ytick_2\">\n     <g id=\"line2d_8\">\n      <g>\n       <use style=\"stroke:#000000;stroke-width:0.8;\" x=\"50.14375\" xlink:href=\"#m0626bdccfe\" y=\"188.355992\"/>\n      </g>\n     </g>\n     <g id=\"text_9\">\n      <!-- 2.50 -->\n      <g transform=\"translate(20.878125 192.155211)scale(0.1 -0.1)\">\n       <use xlink:href=\"#DejaVuSans-32\"/>\n       <use x=\"63.623047\" xlink:href=\"#DejaVuSans-2e\"/>\n       <use x=\"95.410156\" xlink:href=\"#DejaVuSans-35\"/>\n       <use x=\"159.033203\" xlink:href=\"#DejaVuSans-30\"/>\n      </g>\n     </g>\n    </g>\n    <g id=\"ytick_3\">\n     <g id=\"line2d_9\">\n      <g>\n       <use style=\"stroke:#000000;stroke-width:0.8;\" x=\"50.14375\" xlink:href=\"#m0626bdccfe\" y=\"161.919671\"/>\n      </g>\n     </g>\n     <g id=\"text_10\">\n      <!-- 2.55 -->\n      <g transform=\"translate(20.878125 165.71889)scale(0.1 -0.1)\">\n       <use xlink:href=\"#DejaVuSans-32\"/>\n       <use x=\"63.623047\" xlink:href=\"#DejaVuSans-2e\"/>\n       <use x=\"95.410156\" xlink:href=\"#DejaVuSans-35\"/>\n       <use x=\"159.033203\" xlink:href=\"#DejaVuSans-35\"/>\n      </g>\n     </g>\n    </g>\n    <g id=\"ytick_4\">\n     <g id=\"line2d_10\">\n      <g>\n       <use style=\"stroke:#000000;stroke-width:0.8;\" x=\"50.14375\" xlink:href=\"#m0626bdccfe\" y=\"135.48335\"/>\n      </g>\n     </g>\n     <g id=\"text_11\">\n      <!-- 2.60 -->\n      <g transform=\"translate(20.878125 139.282569)scale(0.1 -0.1)\">\n       <use xlink:href=\"#DejaVuSans-32\"/>\n       <use x=\"63.623047\" xlink:href=\"#DejaVuSans-2e\"/>\n       <use x=\"95.410156\" xlink:href=\"#DejaVuSans-36\"/>\n       <use x=\"159.033203\" xlink:href=\"#DejaVuSans-30\"/>\n      </g>\n     </g>\n    </g>\n    <g id=\"ytick_5\">\n     <g id=\"line2d_11\">\n      <g>\n       <use style=\"stroke:#000000;stroke-width:0.8;\" x=\"50.14375\" xlink:href=\"#m0626bdccfe\" y=\"109.047029\"/>\n      </g>\n     </g>\n     <g id=\"text_12\">\n      <!-- 2.65 -->\n      <g transform=\"translate(20.878125 112.846248)scale(0.1 -0.1)\">\n       <use xlink:href=\"#DejaVuSans-32\"/>\n       <use x=\"63.623047\" xlink:href=\"#DejaVuSans-2e\"/>\n       <use x=\"95.410156\" xlink:href=\"#DejaVuSans-36\"/>\n       <use x=\"159.033203\" xlink:href=\"#DejaVuSans-35\"/>\n      </g>\n     </g>\n    </g>\n    <g id=\"ytick_6\">\n     <g id=\"line2d_12\">\n      <g>\n       <use style=\"stroke:#000000;stroke-width:0.8;\" x=\"50.14375\" xlink:href=\"#m0626bdccfe\" y=\"82.610708\"/>\n      </g>\n     </g>\n     <g id=\"text_13\">\n      <!-- 2.70 -->\n      <g transform=\"translate(20.878125 86.409927)scale(0.1 -0.1)\">\n       <defs>\n        <path d=\"M 525 4666 \nL 3525 4666 \nL 3525 4397 \nL 1831 0 \nL 1172 0 \nL 2766 4134 \nL 525 4134 \nL 525 4666 \nz\n\" id=\"DejaVuSans-37\" transform=\"scale(0.015625)\"/>\n       </defs>\n       <use xlink:href=\"#DejaVuSans-32\"/>\n       <use x=\"63.623047\" xlink:href=\"#DejaVuSans-2e\"/>\n       <use x=\"95.410156\" xlink:href=\"#DejaVuSans-37\"/>\n       <use x=\"159.033203\" xlink:href=\"#DejaVuSans-30\"/>\n      </g>\n     </g>\n    </g>\n    <g id=\"ytick_7\">\n     <g id=\"line2d_13\">\n      <g>\n       <use style=\"stroke:#000000;stroke-width:0.8;\" x=\"50.14375\" xlink:href=\"#m0626bdccfe\" y=\"56.174388\"/>\n      </g>\n     </g>\n     <g id=\"text_14\">\n      <!-- 2.75 -->\n      <g transform=\"translate(20.878125 59.973606)scale(0.1 -0.1)\">\n       <use xlink:href=\"#DejaVuSans-32\"/>\n       <use x=\"63.623047\" xlink:href=\"#DejaVuSans-2e\"/>\n       <use x=\"95.410156\" xlink:href=\"#DejaVuSans-37\"/>\n       <use x=\"159.033203\" xlink:href=\"#DejaVuSans-35\"/>\n      </g>\n     </g>\n    </g>\n    <g id=\"ytick_8\">\n     <g id=\"line2d_14\">\n      <g>\n       <use style=\"stroke:#000000;stroke-width:0.8;\" x=\"50.14375\" xlink:href=\"#m0626bdccfe\" y=\"29.738067\"/>\n      </g>\n     </g>\n     <g id=\"text_15\">\n      <!-- 2.80 -->\n      <g transform=\"translate(20.878125 33.537285)scale(0.1 -0.1)\">\n       <use xlink:href=\"#DejaVuSans-32\"/>\n       <use x=\"63.623047\" xlink:href=\"#DejaVuSans-2e\"/>\n       <use x=\"95.410156\" xlink:href=\"#DejaVuSans-38\"/>\n       <use x=\"159.033203\" xlink:href=\"#DejaVuSans-30\"/>\n      </g>\n     </g>\n    </g>\n    <g id=\"text_16\">\n     <!-- Loss -->\n     <g transform=\"translate(14.798438 126.887188)rotate(-90)scale(0.1 -0.1)\">\n      <defs>\n       <path d=\"M 628 4666 \nL 1259 4666 \nL 1259 531 \nL 3531 531 \nL 3531 0 \nL 628 0 \nL 628 4666 \nz\n\" id=\"DejaVuSans-4c\" transform=\"scale(0.015625)\"/>\n       <path d=\"M 2834 3397 \nL 2834 2853 \nQ 2591 2978 2328 3040 \nQ 2066 3103 1784 3103 \nQ 1356 3103 1142 2972 \nQ 928 2841 928 2578 \nQ 928 2378 1081 2264 \nQ 1234 2150 1697 2047 \nL 1894 2003 \nQ 2506 1872 2764 1633 \nQ 3022 1394 3022 966 \nQ 3022 478 2636 193 \nQ 2250 -91 1575 -91 \nQ 1294 -91 989 -36 \nQ 684 19 347 128 \nL 347 722 \nQ 666 556 975 473 \nQ 1284 391 1588 391 \nQ 1994 391 2212 530 \nQ 2431 669 2431 922 \nQ 2431 1156 2273 1281 \nQ 2116 1406 1581 1522 \nL 1381 1569 \nQ 847 1681 609 1914 \nQ 372 2147 372 2553 \nQ 372 3047 722 3315 \nQ 1072 3584 1716 3584 \nQ 2034 3584 2315 3537 \nQ 2597 3491 2834 3397 \nz\n\" id=\"DejaVuSans-73\" transform=\"scale(0.015625)\"/>\n      </defs>\n      <use xlink:href=\"#DejaVuSans-4c\"/>\n      <use x=\"53.962891\" xlink:href=\"#DejaVuSans-6f\"/>\n      <use x=\"115.144531\" xlink:href=\"#DejaVuSans-73\"/>\n      <use x=\"167.244141\" xlink:href=\"#DejaVuSans-73\"/>\n     </g>\n    </g>\n   </g>\n   <g id=\"line2d_15\">\n    <path clip-path=\"url(#p4f0b07c958)\" d=\"M 65.361932 44.058933 \nL 68.436312 47.023 \nL 71.510692 46.71076 \nL 74.585072 45.482883 \nL 77.659452 45.59578 \nL 80.733833 46.593703 \nL 83.808213 46.368744 \nL 86.882593 46.823062 \nL 89.956973 47.801533 \nL 93.031353 61.327397 \nL 96.105733 81.341046 \nL 99.180114 92.226771 \nL 102.254494 97.863246 \nL 105.328874 101.682505 \nL 108.403254 104.325094 \nL 111.477634 104.328347 \nL 114.552014 107.132399 \nL 117.626395 108.196981 \nL 120.700775 110.731607 \nL 123.775155 108.837048 \nL 126.849535 112.809572 \nL 129.923915 115.287468 \nL 132.998295 113.825146 \nL 136.072676 121.723815 \nL 139.147056 121.435545 \nL 142.221436 125.743619 \nL 145.295816 130.179875 \nL 148.370196 129.383962 \nL 151.444576 131.53274 \nL 154.518957 132.25099 \nL 157.593337 134.84674 \nL 160.667717 135.75281 \nL 163.742097 134.333989 \nL 166.816477 138.219544 \nL 169.890857 140.624282 \nL 172.965238 143.546243 \nL 176.039618 142.843732 \nL 179.113998 144.561348 \nL 182.188378 145.629795 \nL 185.262758 148.21122 \nL 188.337138 146.013343 \nL 191.411519 149.896562 \nL 194.485899 152.051382 \nL 197.560279 152.236375 \nL 200.634659 152.839395 \nL 203.709039 152.665512 \nL 206.783419 152.2668 \nL 209.8578 152.38215 \nL 212.93218 157.047346 \nL 216.00656 158.52742 \nL 219.08094 160.654472 \nL 222.15532 159.500527 \nL 225.2297 162.463818 \nL 228.304081 164.278601 \nL 231.378461 164.402022 \nL 234.452841 166.649654 \nL 237.527221 168.202318 \nL 240.601601 168.130775 \nL 243.675981 170.739013 \nL 246.750362 168.945932 \nL 249.824742 172.945985 \nL 252.899122 174.269122 \nL 255.973502 173.487662 \nL 259.047882 176.360955 \nL 262.122262 179.299994 \nL 265.196643 179.826291 \nL 268.271023 181.886156 \nL 271.345403 183.799573 \nL 274.419783 183.890069 \nL 277.494163 185.753929 \nL 280.568543 188.406715 \nL 283.642924 186.493297 \nL 286.717304 192.709599 \nL 289.791684 194.309746 \nL 292.866064 192.777003 \nL 295.940444 189.876746 \nL 299.014824 196.446542 \nL 302.089205 197.054647 \nL 305.163585 196.203571 \nL 308.237965 198.260067 \nL 311.312345 202.049476 \nL 314.386725 200.074672 \nL 317.461105 203.801142 \nL 320.535486 203.495417 \nL 323.609866 206.236329 \nL 326.684246 205.113856 \nL 329.758626 205.746496 \nL 332.833006 203.055542 \nL 335.907386 207.594272 \nL 338.981767 205.325202 \nL 342.056147 206.562093 \nL 345.130527 209.513843 \nL 348.204907 211.947391 \nL 351.279287 208.258194 \nL 354.353667 211.69464 \nL 357.428048 211.877628 \nL 360.502428 212.789256 \nL 363.576808 209.440967 \nL 366.651188 214.756364 \nL 369.725568 214.75297 \n\" style=\"fill:none;stroke:#1f77b4;stroke-linecap:square;stroke-width:1.5;\"/>\n   </g>\n   <g id=\"line2d_16\">\n    <path clip-path=\"url(#p4f0b07c958)\" d=\"M 65.361932 17.083636 \nL 68.436312 20.194469 \nL 71.510692 20.28069 \nL 74.585072 22.269629 \nL 77.659452 20.9634 \nL 80.733833 21.826284 \nL 83.808213 19.892577 \nL 86.882593 20.65787 \nL 89.956973 22.246124 \nL 93.031353 38.080741 \nL 96.105733 66.088298 \nL 99.180114 72.493876 \nL 102.254494 82.43576 \nL 105.328874 84.05713 \nL 108.403254 86.485467 \nL 111.477634 85.152966 \nL 114.552014 88.167793 \nL 117.626395 84.239582 \nL 120.700775 87.987687 \nL 123.775155 87.186152 \nL 126.849535 92.159008 \nL 129.923915 90.347833 \nL 132.998295 91.982387 \nL 136.072676 98.296855 \nL 139.147056 94.16153 \nL 142.221436 98.715526 \nL 145.295816 105.767841 \nL 148.370196 102.67309 \nL 151.444576 100.668931 \nL 154.518957 101.029898 \nL 157.593337 106.165383 \nL 160.667717 104.523856 \nL 163.742097 107.470429 \nL 166.816477 106.085122 \nL 169.890857 108.408579 \nL 172.965238 110.64441 \nL 176.039618 110.746657 \nL 179.113998 111.709988 \nL 182.188378 113.367388 \nL 185.262758 117.205322 \nL 188.337138 111.42222 \nL 191.411519 115.90232 \nL 194.485899 116.389064 \nL 197.560279 116.29235 \nL 200.634659 117.624651 \nL 203.709039 118.29655 \nL 206.783419 117.181811 \nL 209.8578 121.178167 \nL 212.93218 119.371669 \nL 216.00656 121.345319 \nL 219.08094 119.676535 \nL 222.15532 120.850725 \nL 225.2297 120.512655 \nL 228.304081 118.431536 \nL 231.378461 125.471947 \nL 234.452841 125.959761 \nL 237.527221 128.313413 \nL 240.601601 128.118218 \nL 243.675981 129.456734 \nL 246.750362 124.979161 \nL 249.824742 133.449537 \nL 252.899122 132.80517 \nL 255.973502 128.027636 \nL 259.047882 133.093012 \nL 262.122262 135.745988 \nL 265.196643 139.828781 \nL 268.271023 140.097249 \nL 271.345403 137.941464 \nL 274.419783 138.382631 \nL 277.494163 141.921187 \nL 280.568543 144.069089 \nL 283.642924 135.291252 \nL 286.717304 148.239456 \nL 289.791684 146.81244 \nL 292.866064 149.216297 \nL 295.940444 144.169009 \nL 299.014824 150.04448 \nL 302.089205 144.840253 \nL 305.163585 151.912294 \nL 308.237965 146.308821 \nL 311.312345 149.459129 \nL 314.386725 152.325662 \nL 317.461105 153.818045 \nL 320.535486 148.337748 \nL 323.609866 156.535637 \nL 326.684246 155.65624 \nL 329.758626 155.732355 \nL 332.833006 154.606527 \nL 335.907386 154.650776 \nL 338.981767 153.725235 \nL 342.056147 150.67012 \nL 345.130527 155.700971 \nL 348.204907 155.622231 \nL 351.279287 146.09524 \nL 354.353667 154.692672 \nL 357.428048 158.228128 \nL 360.502428 154.660634 \nL 363.576808 152.665236 \nL 366.651188 153.890882 \nL 369.725568 155.874224 \n\" style=\"fill:none;stroke:#ff7f0e;stroke-linecap:square;stroke-width:1.5;\"/>\n   </g>\n   <g id=\"patch_3\">\n    <path d=\"M 50.14375 224.64 \nL 50.14375 7.2 \n\" style=\"fill:none;stroke:#000000;stroke-linecap:square;stroke-linejoin:miter;stroke-width:0.8;\"/>\n   </g>\n   <g id=\"patch_4\">\n    <path d=\"M 384.94375 224.64 \nL 384.94375 7.2 \n\" style=\"fill:none;stroke:#000000;stroke-linecap:square;stroke-linejoin:miter;stroke-width:0.8;\"/>\n   </g>\n   <g id=\"patch_5\">\n    <path d=\"M 50.14375 224.64 \nL 384.94375 224.64 \n\" style=\"fill:none;stroke:#000000;stroke-linecap:square;stroke-linejoin:miter;stroke-width:0.8;\"/>\n   </g>\n   <g id=\"patch_6\">\n    <path d=\"M 50.14375 7.2 \nL 384.94375 7.2 \n\" style=\"fill:none;stroke:#000000;stroke-linecap:square;stroke-linejoin:miter;stroke-width:0.8;\"/>\n   </g>\n   <g id=\"legend_1\">\n    <g id=\"patch_7\">\n     <path d=\"M 322.66875 44.55625 \nL 377.94375 44.55625 \nQ 379.94375 44.55625 379.94375 42.55625 \nL 379.94375 14.2 \nQ 379.94375 12.2 377.94375 12.2 \nL 322.66875 12.2 \nQ 320.66875 12.2 320.66875 14.2 \nL 320.66875 42.55625 \nQ 320.66875 44.55625 322.66875 44.55625 \nz\n\" style=\"fill:#ffffff;opacity:0.8;stroke:#cccccc;stroke-linejoin:miter;\"/>\n    </g>\n    <g id=\"line2d_17\">\n     <path d=\"M 324.66875 20.298438 \nL 344.66875 20.298438 \n\" style=\"fill:none;stroke:#1f77b4;stroke-linecap:square;stroke-width:1.5;\"/>\n    </g>\n    <g id=\"line2d_18\"/>\n    <g id=\"text_17\">\n     <!-- train -->\n     <g transform=\"translate(352.66875 23.798438)scale(0.1 -0.1)\">\n      <defs>\n       <path d=\"M 1172 4494 \nL 1172 3500 \nL 2356 3500 \nL 2356 3053 \nL 1172 3053 \nL 1172 1153 \nQ 1172 725 1289 603 \nQ 1406 481 1766 481 \nL 2356 481 \nL 2356 0 \nL 1766 0 \nQ 1100 0 847 248 \nQ 594 497 594 1153 \nL 594 3053 \nL 172 3053 \nL 172 3500 \nL 594 3500 \nL 594 4494 \nL 1172 4494 \nz\n\" id=\"DejaVuSans-74\" transform=\"scale(0.015625)\"/>\n       <path d=\"M 2631 2963 \nQ 2534 3019 2420 3045 \nQ 2306 3072 2169 3072 \nQ 1681 3072 1420 2755 \nQ 1159 2438 1159 1844 \nL 1159 0 \nL 581 0 \nL 581 3500 \nL 1159 3500 \nL 1159 2956 \nQ 1341 3275 1631 3429 \nQ 1922 3584 2338 3584 \nQ 2397 3584 2469 3576 \nQ 2541 3569 2628 3553 \nL 2631 2963 \nz\n\" id=\"DejaVuSans-72\" transform=\"scale(0.015625)\"/>\n       <path d=\"M 2194 1759 \nQ 1497 1759 1228 1600 \nQ 959 1441 959 1056 \nQ 959 750 1161 570 \nQ 1363 391 1709 391 \nQ 2188 391 2477 730 \nQ 2766 1069 2766 1631 \nL 2766 1759 \nL 2194 1759 \nz\nM 3341 1997 \nL 3341 0 \nL 2766 0 \nL 2766 531 \nQ 2569 213 2275 61 \nQ 1981 -91 1556 -91 \nQ 1019 -91 701 211 \nQ 384 513 384 1019 \nQ 384 1609 779 1909 \nQ 1175 2209 1959 2209 \nL 2766 2209 \nL 2766 2266 \nQ 2766 2663 2505 2880 \nQ 2244 3097 1772 3097 \nQ 1472 3097 1187 3025 \nQ 903 2953 641 2809 \nL 641 3341 \nQ 956 3463 1253 3523 \nQ 1550 3584 1831 3584 \nQ 2591 3584 2966 3190 \nQ 3341 2797 3341 1997 \nz\n\" id=\"DejaVuSans-61\" transform=\"scale(0.015625)\"/>\n       <path d=\"M 603 3500 \nL 1178 3500 \nL 1178 0 \nL 603 0 \nL 603 3500 \nz\nM 603 4863 \nL 1178 4863 \nL 1178 4134 \nL 603 4134 \nL 603 4863 \nz\n\" id=\"DejaVuSans-69\" transform=\"scale(0.015625)\"/>\n       <path d=\"M 3513 2113 \nL 3513 0 \nL 2938 0 \nL 2938 2094 \nQ 2938 2591 2744 2837 \nQ 2550 3084 2163 3084 \nQ 1697 3084 1428 2787 \nQ 1159 2491 1159 1978 \nL 1159 0 \nL 581 0 \nL 581 3500 \nL 1159 3500 \nL 1159 2956 \nQ 1366 3272 1645 3428 \nQ 1925 3584 2291 3584 \nQ 2894 3584 3203 3211 \nQ 3513 2838 3513 2113 \nz\n\" id=\"DejaVuSans-6e\" transform=\"scale(0.015625)\"/>\n      </defs>\n      <use xlink:href=\"#DejaVuSans-74\"/>\n      <use x=\"39.208984\" xlink:href=\"#DejaVuSans-72\"/>\n      <use x=\"80.322266\" xlink:href=\"#DejaVuSans-61\"/>\n      <use x=\"141.601562\" xlink:href=\"#DejaVuSans-69\"/>\n      <use x=\"169.384766\" xlink:href=\"#DejaVuSans-6e\"/>\n     </g>\n    </g>\n    <g id=\"line2d_19\">\n     <path d=\"M 324.66875 34.976562 \nL 344.66875 34.976562 \n\" style=\"fill:none;stroke:#ff7f0e;stroke-linecap:square;stroke-width:1.5;\"/>\n    </g>\n    <g id=\"line2d_20\"/>\n    <g id=\"text_18\">\n     <!-- val -->\n     <g transform=\"translate(352.66875 38.476562)scale(0.1 -0.1)\">\n      <defs>\n       <path d=\"M 191 3500 \nL 800 3500 \nL 1894 563 \nL 2988 3500 \nL 3597 3500 \nL 2284 0 \nL 1503 0 \nL 191 3500 \nz\n\" id=\"DejaVuSans-76\" transform=\"scale(0.015625)\"/>\n       <path d=\"M 603 4863 \nL 1178 4863 \nL 1178 0 \nL 603 0 \nL 603 4863 \nz\n\" id=\"DejaVuSans-6c\" transform=\"scale(0.015625)\"/>\n      </defs>\n      <use xlink:href=\"#DejaVuSans-76\"/>\n      <use x=\"59.179688\" xlink:href=\"#DejaVuSans-61\"/>\n      <use x=\"120.458984\" xlink:href=\"#DejaVuSans-6c\"/>\n     </g>\n    </g>\n   </g>\n  </g>\n </g>\n <defs>\n  <clipPath id=\"p4f0b07c958\">\n   <rect height=\"217.44\" width=\"334.8\" x=\"50.14375\" y=\"7.2\"/>\n  </clipPath>\n </defs>\n</svg>\n",
      "image/png": "[encoded data removed]"
     },
     "metadata": {
      "needs_background": "light"
     }
    }
   ],
   "source": [
    "trainer.plot()"
   ]
  },
  {
   "cell_type": "code",
   "execution_count": 29,
   "metadata": {
    "tags": []
   },
   "outputs": [
    {
     "output_type": "stream",
     "name": "stdout",
     "text": [
      " True    Pred   Correct  Wrong  Missed \n   3       1       1       0       2   \n\n   4       0       0       0       4   \n\n   2       0       0       0       2   \n\n   3       1       0       1       3   \n\n   3       2       1       1       2   \n\n   1       0       0       0       1   \n\n   3       0       0       0       3   \n\n   2       0       0       0       2   \n\n   7       0       0       0       7   \n\n   3       1       0       1       3   \n\n"
     ]
    }
   ],
   "source": [
    "synop = pd.read_csv('../clean_data/synopsis.csv')\n",
    "\n",
    "num_show = 10\n",
    "i_start = 6\n",
    "\n",
    "y_test = model.predict(x_test)\n",
    "\n",
    "print('{:^7} {:^7} {:^7} {:^7} {:^7}'.format('True', 'Pred', 'Correct', 'Wrong', 'Missed'))\n",
    "\n",
    "for idx in range(i_start, num_show+i_start):\n",
    "    mal_id = id_test[idx]\n",
    "    \n",
    "    pred = y_test[idx]>=0.5\n",
    "    true = t_test[idx]==1\n",
    "\n",
    "    n_true = true.sum()\n",
    "    n_pred = pred.sum()\n",
    "    n_correct = (true & pred).sum()\n",
    "    n_wrong   = (~true & pred).sum()\n",
    "    n_missed  = (true & ~pred).sum()\n",
    "\n",
    "    print('{:^7} {:^7} {:^7} {:^7} {:^7}\\n'.format(n_true, n_pred, n_correct, n_wrong, n_missed))"
   ]
  },
  {
   "cell_type": "code",
   "execution_count": null,
   "metadata": {},
   "outputs": [],
   "source": []
  }
 ]
}