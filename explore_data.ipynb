{
  "nbformat": 4,
  "nbformat_minor": 0,
  "metadata": {
    "colab": {
      "name": "ISD-Project.ipynb",
      "provenance": [],
      "collapsed_sections": []
    },
    "kernelspec": {
      "name": "python37464bitisdconda2186e18130e74a708c1a118902d7a7e8",
      "display_name": "Python 3.7.4 64-bit ('isd': conda)"
    },
    "language_info": {
      "name": "python",
      "version": "3.7.4"
    },
    "metadata": {
      "interpreter": {
        "hash": "e521b636c6a5a9046f5b2f587de9f0714520fcc32e4dd888509bb5fbc50b938b"
      }
    }
  },
  "cells": [
    {
      "source": [
        "# Explore Anime Data"
      ],
      "cell_type": "markdown",
      "metadata": {}
    },
    {
      "cell_type": "code",
      "metadata": {
        "id": "1kHfaE_CBINU"
      },
      "source": [
        "import numpy as np\n",
        "import pandas as pd\n",
        "import matplotlib.pyplot as plt\n",
        "\n",
        "import os\n",
        "import nltk"
      ],
      "execution_count": 1,
      "outputs": []
    },
    {
      "source": [
        "## Load anime.csv"
      ],
      "cell_type": "markdown",
      "metadata": {}
    },
    {
      "cell_type": "code",
      "metadata": {
        "id": "YCCOjX5ZY-uv"
      },
      "source": [
        "df = pd.read_csv('data/anime.csv')\n",
        "df"
      ],
      "execution_count": 2,
      "outputs": [
        {
          "output_type": "execute_result",
          "data": {
            "text/plain": [
              "       MAL_ID                             Name   Type  \\\n",
              "0           1                     Cowboy Bebop     TV   \n",
              "1           5  Cowboy Bebop: Tengoku no Tobira  Movie   \n",
              "2           6                           Trigun     TV   \n",
              "3           7               Witch Hunter Robin     TV   \n",
              "4           8                   Bouken Ou Beet     TV   \n",
              "...       ...                              ...    ...   \n",
              "17557   48481  Daomu Biji Zhi Qinling Shen Shu    ONA   \n",
              "17558   48483                     Mieruko-chan     TV   \n",
              "17559   48488  Higurashi no Naku Koro ni Sotsu     TV   \n",
              "17560   48491      Yama no Susume: Next Summit     TV   \n",
              "17561   48492                    Scarlet Nexus     TV   \n",
              "\n",
              "                                                   Genre  \\\n",
              "0        Action, Adventure, Comedy, Drama, Sci-Fi, Space   \n",
              "1                  Action, Drama, Mystery, Sci-Fi, Space   \n",
              "2      Action, Sci-Fi, Adventure, Comedy, Drama, Shounen   \n",
              "3      Action, Mystery, Police, Supernatural, Drama, ...   \n",
              "4              Adventure, Fantasy, Shounen, Supernatural   \n",
              "...                                                  ...   \n",
              "17557                   Adventure, Mystery, Supernatural   \n",
              "17558                       Comedy, Horror, Supernatural   \n",
              "17559  Mystery, Dementia, Horror, Psychological, Supe...   \n",
              "17560                   Adventure, Slice of Life, Comedy   \n",
              "17561                                    Action, Fantasy   \n",
              "\n",
              "                                                Synopsis  \n",
              "0      In the year 2071, humanity has colonized sever...  \n",
              "1      Another day, another bounty—such is the life o...  \n",
              "2      Vash the Stampede is the man with a $$60,000,0...  \n",
              "3      Witches are individuals with special powers li...  \n",
              "4      It is the dark century and the people are suff...  \n",
              "...                                                  ...  \n",
              "17557  No synopsis information has been added to this...  \n",
              "17558  Miko is a typical high school student whose li...  \n",
              "17559          Sequel to Higurashi no Naku Koro ni Gou .  \n",
              "17560                          New Yama no Susume anime.  \n",
              "17561  Solar calendar year 2020: grotesque organisms ...  \n",
              "\n",
              "[17562 rows x 5 columns]"
            ],
            "text/html": "<div>\n<style scoped>\n    .dataframe tbody tr th:only-of-type {\n        vertical-align: middle;\n    }\n\n    .dataframe tbody tr th {\n        vertical-align: top;\n    }\n\n    .dataframe thead th {\n        text-align: right;\n    }\n</style>\n<table border=\"1\" class=\"dataframe\">\n  <thead>\n    <tr style=\"text-align: right;\">\n      <th></th>\n      <th>MAL_ID</th>\n      <th>Name</th>\n      <th>Type</th>\n      <th>Genre</th>\n      <th>Synopsis</th>\n    </tr>\n  </thead>\n  <tbody>\n    <tr>\n      <th>0</th>\n      <td>1</td>\n      <td>Cowboy Bebop</td>\n      <td>TV</td>\n      <td>Action, Adventure, Comedy, Drama, Sci-Fi, Space</td>\n      <td>In the year 2071, humanity has colonized sever...</td>\n    </tr>\n    <tr>\n      <th>1</th>\n      <td>5</td>\n      <td>Cowboy Bebop: Tengoku no Tobira</td>\n      <td>Movie</td>\n      <td>Action, Drama, Mystery, Sci-Fi, Space</td>\n      <td>Another day, another bounty—such is the life o...</td>\n    </tr>\n    <tr>\n      <th>2</th>\n      <td>6</td>\n      <td>Trigun</td>\n      <td>TV</td>\n      <td>Action, Sci-Fi, Adventure, Comedy, Drama, Shounen</td>\n      <td>Vash the Stampede is the man with a $$60,000,0...</td>\n    </tr>\n    <tr>\n      <th>3</th>\n      <td>7</td>\n      <td>Witch Hunter Robin</td>\n      <td>TV</td>\n      <td>Action, Mystery, Police, Supernatural, Drama, ...</td>\n      <td>Witches are individuals with special powers li...</td>\n    </tr>\n    <tr>\n      <th>4</th>\n      <td>8</td>\n      <td>Bouken Ou Beet</td>\n      <td>TV</td>\n      <td>Adventure, Fantasy, Shounen, Supernatural</td>\n      <td>It is the dark century and the people are suff...</td>\n    </tr>\n    <tr>\n      <th>...</th>\n      <td>...</td>\n      <td>...</td>\n      <td>...</td>\n      <td>...</td>\n      <td>...</td>\n    </tr>\n    <tr>\n      <th>17557</th>\n      <td>48481</td>\n      <td>Daomu Biji Zhi Qinling Shen Shu</td>\n      <td>ONA</td>\n      <td>Adventure, Mystery, Supernatural</td>\n      <td>No synopsis information has been added to this...</td>\n    </tr>\n    <tr>\n      <th>17558</th>\n      <td>48483</td>\n      <td>Mieruko-chan</td>\n      <td>TV</td>\n      <td>Comedy, Horror, Supernatural</td>\n      <td>Miko is a typical high school student whose li...</td>\n    </tr>\n    <tr>\n      <th>17559</th>\n      <td>48488</td>\n      <td>Higurashi no Naku Koro ni Sotsu</td>\n      <td>TV</td>\n      <td>Mystery, Dementia, Horror, Psychological, Supe...</td>\n      <td>Sequel to Higurashi no Naku Koro ni Gou .</td>\n    </tr>\n    <tr>\n      <th>17560</th>\n      <td>48491</td>\n      <td>Yama no Susume: Next Summit</td>\n      <td>TV</td>\n      <td>Adventure, Slice of Life, Comedy</td>\n      <td>New Yama no Susume anime.</td>\n    </tr>\n    <tr>\n      <th>17561</th>\n      <td>48492</td>\n      <td>Scarlet Nexus</td>\n      <td>TV</td>\n      <td>Action, Fantasy</td>\n      <td>Solar calendar year 2020: grotesque organisms ...</td>\n    </tr>\n  </tbody>\n</table>\n<p>17562 rows × 5 columns</p>\n</div>"
          },
          "metadata": {},
          "execution_count": 2
        }
      ]
    },
    {
      "source": [
        "## Drop ONA and Unknown type of anime"
      ],
      "cell_type": "markdown",
      "metadata": {}
    },
    {
      "cell_type": "code",
      "metadata": {
        "colab": {
          "base_uri": "https://localhost:8080/"
        },
        "id": "IK5K0vegbCTn",
        "outputId": "217d2bf0-f57a-4781-b6d0-589eda239395"
      },
      "source": [
        "df.Type.unique()"
      ],
      "execution_count": 3,
      "outputs": [
        {
          "output_type": "execute_result",
          "data": {
            "text/plain": [
              "array(['TV', 'Movie', 'OVA', 'Special', 'ONA', 'Unknown'], dtype=object)"
            ]
          },
          "metadata": {},
          "execution_count": 3
        }
      ]
    },
    {
      "cell_type": "code",
      "metadata": {
        "colab": {
          "base_uri": "https://localhost:8080/",
          "height": 419
        },
        "id": "HeB1nn2qaVi2",
        "outputId": "280d6135-4b59-4f68-8bfa-705bf08c871c"
      },
      "source": [
        "df = df[df.Type.isin(['TV', 'Movie', 'OVA', 'Special'])]\n",
        "df"
      ],
      "execution_count": 4,
      "outputs": [
        {
          "output_type": "execute_result",
          "data": {
            "text/plain": [
              "       MAL_ID                             Name   Type  \\\n",
              "0           1                     Cowboy Bebop     TV   \n",
              "1           5  Cowboy Bebop: Tengoku no Tobira  Movie   \n",
              "2           6                           Trigun     TV   \n",
              "3           7               Witch Hunter Robin     TV   \n",
              "4           8                   Bouken Ou Beet     TV   \n",
              "...       ...                              ...    ...   \n",
              "17555   48471      Tsuki to Laika to Nosferatu     TV   \n",
              "17558   48483                     Mieruko-chan     TV   \n",
              "17559   48488  Higurashi no Naku Koro ni Sotsu     TV   \n",
              "17560   48491      Yama no Susume: Next Summit     TV   \n",
              "17561   48492                    Scarlet Nexus     TV   \n",
              "\n",
              "                                                   Genre  \\\n",
              "0        Action, Adventure, Comedy, Drama, Sci-Fi, Space   \n",
              "1                  Action, Drama, Mystery, Sci-Fi, Space   \n",
              "2      Action, Sci-Fi, Adventure, Comedy, Drama, Shounen   \n",
              "3      Action, Mystery, Police, Supernatural, Drama, ...   \n",
              "4              Adventure, Fantasy, Shounen, Supernatural   \n",
              "...                                                  ...   \n",
              "17555                             Sci-Fi, Space, Vampire   \n",
              "17558                       Comedy, Horror, Supernatural   \n",
              "17559  Mystery, Dementia, Horror, Psychological, Supe...   \n",
              "17560                   Adventure, Slice of Life, Comedy   \n",
              "17561                                    Action, Fantasy   \n",
              "\n",
              "                                                Synopsis  \n",
              "0      In the year 2071, humanity has colonized sever...  \n",
              "1      Another day, another bounty—such is the life o...  \n",
              "2      Vash the Stampede is the man with a $$60,000,0...  \n",
              "3      Witches are individuals with special powers li...  \n",
              "4      It is the dark century and the people are suff...  \n",
              "...                                                  ...  \n",
              "17555  The first astronaut in human history was a vam...  \n",
              "17558  Miko is a typical high school student whose li...  \n",
              "17559          Sequel to Higurashi no Naku Koro ni Gou .  \n",
              "17560                          New Yama no Susume anime.  \n",
              "17561  Solar calendar year 2020: grotesque organisms ...  \n",
              "\n",
              "[14149 rows x 5 columns]"
            ],
            "text/html": "<div>\n<style scoped>\n    .dataframe tbody tr th:only-of-type {\n        vertical-align: middle;\n    }\n\n    .dataframe tbody tr th {\n        vertical-align: top;\n    }\n\n    .dataframe thead th {\n        text-align: right;\n    }\n</style>\n<table border=\"1\" class=\"dataframe\">\n  <thead>\n    <tr style=\"text-align: right;\">\n      <th></th>\n      <th>MAL_ID</th>\n      <th>Name</th>\n      <th>Type</th>\n      <th>Genre</th>\n      <th>Synopsis</th>\n    </tr>\n  </thead>\n  <tbody>\n    <tr>\n      <th>0</th>\n      <td>1</td>\n      <td>Cowboy Bebop</td>\n      <td>TV</td>\n      <td>Action, Adventure, Comedy, Drama, Sci-Fi, Space</td>\n      <td>In the year 2071, humanity has colonized sever...</td>\n    </tr>\n    <tr>\n      <th>1</th>\n      <td>5</td>\n      <td>Cowboy Bebop: Tengoku no Tobira</td>\n      <td>Movie</td>\n      <td>Action, Drama, Mystery, Sci-Fi, Space</td>\n      <td>Another day, another bounty—such is the life o...</td>\n    </tr>\n    <tr>\n      <th>2</th>\n      <td>6</td>\n      <td>Trigun</td>\n      <td>TV</td>\n      <td>Action, Sci-Fi, Adventure, Comedy, Drama, Shounen</td>\n      <td>Vash the Stampede is the man with a $$60,000,0...</td>\n    </tr>\n    <tr>\n      <th>3</th>\n      <td>7</td>\n      <td>Witch Hunter Robin</td>\n      <td>TV</td>\n      <td>Action, Mystery, Police, Supernatural, Drama, ...</td>\n      <td>Witches are individuals with special powers li...</td>\n    </tr>\n    <tr>\n      <th>4</th>\n      <td>8</td>\n      <td>Bouken Ou Beet</td>\n      <td>TV</td>\n      <td>Adventure, Fantasy, Shounen, Supernatural</td>\n      <td>It is the dark century and the people are suff...</td>\n    </tr>\n    <tr>\n      <th>...</th>\n      <td>...</td>\n      <td>...</td>\n      <td>...</td>\n      <td>...</td>\n      <td>...</td>\n    </tr>\n    <tr>\n      <th>17555</th>\n      <td>48471</td>\n      <td>Tsuki to Laika to Nosferatu</td>\n      <td>TV</td>\n      <td>Sci-Fi, Space, Vampire</td>\n      <td>The first astronaut in human history was a vam...</td>\n    </tr>\n    <tr>\n      <th>17558</th>\n      <td>48483</td>\n      <td>Mieruko-chan</td>\n      <td>TV</td>\n      <td>Comedy, Horror, Supernatural</td>\n      <td>Miko is a typical high school student whose li...</td>\n    </tr>\n    <tr>\n      <th>17559</th>\n      <td>48488</td>\n      <td>Higurashi no Naku Koro ni Sotsu</td>\n      <td>TV</td>\n      <td>Mystery, Dementia, Horror, Psychological, Supe...</td>\n      <td>Sequel to Higurashi no Naku Koro ni Gou .</td>\n    </tr>\n    <tr>\n      <th>17560</th>\n      <td>48491</td>\n      <td>Yama no Susume: Next Summit</td>\n      <td>TV</td>\n      <td>Adventure, Slice of Life, Comedy</td>\n      <td>New Yama no Susume anime.</td>\n    </tr>\n    <tr>\n      <th>17561</th>\n      <td>48492</td>\n      <td>Scarlet Nexus</td>\n      <td>TV</td>\n      <td>Action, Fantasy</td>\n      <td>Solar calendar year 2020: grotesque organisms ...</td>\n    </tr>\n  </tbody>\n</table>\n<p>14149 rows × 5 columns</p>\n</div>"
          },
          "metadata": {},
          "execution_count": 4
        }
      ]
    },
    {
      "source": [
        "## Drop Rows with Missing Value"
      ],
      "cell_type": "markdown",
      "metadata": {}
    },
    {
      "cell_type": "code",
      "metadata": {
        "colab": {
          "base_uri": "https://localhost:8080/",
          "height": 419
        },
        "id": "pVxk0swmmz4O",
        "outputId": "6c556815-72f4-4eff-8931-56639964c5a9"
      },
      "source": [
        "df = df.dropna(axis=0)\n",
        "df"
      ],
      "execution_count": 5,
      "outputs": [
        {
          "output_type": "execute_result",
          "data": {
            "text/plain": [
              "       MAL_ID                             Name   Type  \\\n",
              "0           1                     Cowboy Bebop     TV   \n",
              "1           5  Cowboy Bebop: Tengoku no Tobira  Movie   \n",
              "2           6                           Trigun     TV   \n",
              "3           7               Witch Hunter Robin     TV   \n",
              "4           8                   Bouken Ou Beet     TV   \n",
              "...       ...                              ...    ...   \n",
              "17555   48471      Tsuki to Laika to Nosferatu     TV   \n",
              "17558   48483                     Mieruko-chan     TV   \n",
              "17559   48488  Higurashi no Naku Koro ni Sotsu     TV   \n",
              "17560   48491      Yama no Susume: Next Summit     TV   \n",
              "17561   48492                    Scarlet Nexus     TV   \n",
              "\n",
              "                                                   Genre  \\\n",
              "0        Action, Adventure, Comedy, Drama, Sci-Fi, Space   \n",
              "1                  Action, Drama, Mystery, Sci-Fi, Space   \n",
              "2      Action, Sci-Fi, Adventure, Comedy, Drama, Shounen   \n",
              "3      Action, Mystery, Police, Supernatural, Drama, ...   \n",
              "4              Adventure, Fantasy, Shounen, Supernatural   \n",
              "...                                                  ...   \n",
              "17555                             Sci-Fi, Space, Vampire   \n",
              "17558                       Comedy, Horror, Supernatural   \n",
              "17559  Mystery, Dementia, Horror, Psychological, Supe...   \n",
              "17560                   Adventure, Slice of Life, Comedy   \n",
              "17561                                    Action, Fantasy   \n",
              "\n",
              "                                                Synopsis  \n",
              "0      In the year 2071, humanity has colonized sever...  \n",
              "1      Another day, another bounty—such is the life o...  \n",
              "2      Vash the Stampede is the man with a $$60,000,0...  \n",
              "3      Witches are individuals with special powers li...  \n",
              "4      It is the dark century and the people are suff...  \n",
              "...                                                  ...  \n",
              "17555  The first astronaut in human history was a vam...  \n",
              "17558  Miko is a typical high school student whose li...  \n",
              "17559          Sequel to Higurashi no Naku Koro ni Gou .  \n",
              "17560                          New Yama no Susume anime.  \n",
              "17561  Solar calendar year 2020: grotesque organisms ...  \n",
              "\n",
              "[14086 rows x 5 columns]"
            ],
            "text/html": "<div>\n<style scoped>\n    .dataframe tbody tr th:only-of-type {\n        vertical-align: middle;\n    }\n\n    .dataframe tbody tr th {\n        vertical-align: top;\n    }\n\n    .dataframe thead th {\n        text-align: right;\n    }\n</style>\n<table border=\"1\" class=\"dataframe\">\n  <thead>\n    <tr style=\"text-align: right;\">\n      <th></th>\n      <th>MAL_ID</th>\n      <th>Name</th>\n      <th>Type</th>\n      <th>Genre</th>\n      <th>Synopsis</th>\n    </tr>\n  </thead>\n  <tbody>\n    <tr>\n      <th>0</th>\n      <td>1</td>\n      <td>Cowboy Bebop</td>\n      <td>TV</td>\n      <td>Action, Adventure, Comedy, Drama, Sci-Fi, Space</td>\n      <td>In the year 2071, humanity has colonized sever...</td>\n    </tr>\n    <tr>\n      <th>1</th>\n      <td>5</td>\n      <td>Cowboy Bebop: Tengoku no Tobira</td>\n      <td>Movie</td>\n      <td>Action, Drama, Mystery, Sci-Fi, Space</td>\n      <td>Another day, another bounty—such is the life o...</td>\n    </tr>\n    <tr>\n      <th>2</th>\n      <td>6</td>\n      <td>Trigun</td>\n      <td>TV</td>\n      <td>Action, Sci-Fi, Adventure, Comedy, Drama, Shounen</td>\n      <td>Vash the Stampede is the man with a $$60,000,0...</td>\n    </tr>\n    <tr>\n      <th>3</th>\n      <td>7</td>\n      <td>Witch Hunter Robin</td>\n      <td>TV</td>\n      <td>Action, Mystery, Police, Supernatural, Drama, ...</td>\n      <td>Witches are individuals with special powers li...</td>\n    </tr>\n    <tr>\n      <th>4</th>\n      <td>8</td>\n      <td>Bouken Ou Beet</td>\n      <td>TV</td>\n      <td>Adventure, Fantasy, Shounen, Supernatural</td>\n      <td>It is the dark century and the people are suff...</td>\n    </tr>\n    <tr>\n      <th>...</th>\n      <td>...</td>\n      <td>...</td>\n      <td>...</td>\n      <td>...</td>\n      <td>...</td>\n    </tr>\n    <tr>\n      <th>17555</th>\n      <td>48471</td>\n      <td>Tsuki to Laika to Nosferatu</td>\n      <td>TV</td>\n      <td>Sci-Fi, Space, Vampire</td>\n      <td>The first astronaut in human history was a vam...</td>\n    </tr>\n    <tr>\n      <th>17558</th>\n      <td>48483</td>\n      <td>Mieruko-chan</td>\n      <td>TV</td>\n      <td>Comedy, Horror, Supernatural</td>\n      <td>Miko is a typical high school student whose li...</td>\n    </tr>\n    <tr>\n      <th>17559</th>\n      <td>48488</td>\n      <td>Higurashi no Naku Koro ni Sotsu</td>\n      <td>TV</td>\n      <td>Mystery, Dementia, Horror, Psychological, Supe...</td>\n      <td>Sequel to Higurashi no Naku Koro ni Gou .</td>\n    </tr>\n    <tr>\n      <th>17560</th>\n      <td>48491</td>\n      <td>Yama no Susume: Next Summit</td>\n      <td>TV</td>\n      <td>Adventure, Slice of Life, Comedy</td>\n      <td>New Yama no Susume anime.</td>\n    </tr>\n    <tr>\n      <th>17561</th>\n      <td>48492</td>\n      <td>Scarlet Nexus</td>\n      <td>TV</td>\n      <td>Action, Fantasy</td>\n      <td>Solar calendar year 2020: grotesque organisms ...</td>\n    </tr>\n  </tbody>\n</table>\n<p>14086 rows × 5 columns</p>\n</div>"
          },
          "metadata": {},
          "execution_count": 5
        }
      ]
    },
    {
      "source": [
        "## Drop Rows with Unusable Synopsis"
      ],
      "cell_type": "markdown",
      "metadata": {}
    },
    {
      "cell_type": "code",
      "execution_count": 6,
      "metadata": {},
      "outputs": [],
      "source": [
        "ban_words = ['no synopsis', 'anime', 'animation', 'animated', 'movie', 'cinema', 'film', 'screened', \n",
        "             'tv series', 'manga', 'novel', 'prequel', 'sequel', 'compilation', 'recap', 'ada'\n",
        "             'summary', 'based on', 'season', 'half', 'commercial', 'episode', 'condensed',\n",
        "             'ova', 'dvd', 'blu-ray', 'bd', 'spin-off', 'station ID', 'chapter', 'aired', \n",
        "             'continuation', 'advertisement', 'tv show', 'tv program', 'tv special', 'promotional',\n",
        "             'graduation', 'safety', 'educational', 'retelling', 'remake', 'released']"
      ]
    },
    {
      "cell_type": "code",
      "execution_count": 7,
      "metadata": {},
      "outputs": [
        {
          "output_type": "stream",
          "name": "stdout",
          "text": [
            "no synopsis 665\n",
            "anime 935\n",
            "animation 519\n",
            "animated 315\n",
            "movie 588\n",
            "cinema 37\n",
            "film 825\n",
            "screened 67\n",
            "tv series 193\n",
            "manga 674\n",
            "novel 201\n",
            "prequel 36\n",
            "sequel 116\n",
            "compilation 66\n",
            "recap 270\n",
            "adasummary 0\n",
            "based on 873\n",
            "season 535\n",
            "half 187\n",
            "commercial 131\n",
            "episode 1199\n",
            "condensed 10\n",
            "ova 476\n",
            "dvd 667\n",
            "blu-ray 332\n",
            "bd 227\n",
            "spin-off 31\n",
            "station ID 11\n",
            "chapter 66\n",
            "aired 437\n",
            "continuation 60\n",
            "advertisement 18\n",
            "tv show 12\n",
            "tv program 9\n",
            "tv special 53\n",
            "promotional 34\n",
            "graduation 57\n",
            "safety 207\n",
            "educational 229\n",
            "retelling 40\n",
            "remake 29\n",
            "released 307\n"
          ]
        }
      ],
      "source": [
        "for word in ban_words:\n",
        "    print(word, df.Synopsis.str.contains(word, case=False).sum())"
      ]
    },
    {
      "cell_type": "code",
      "execution_count": 8,
      "metadata": {},
      "outputs": [],
      "source": [
        "for word in ban_words:\n",
        "    df = df[~df.Synopsis.str.contains(word, case=False)]"
      ]
    },
    {
      "cell_type": "code",
      "execution_count": 9,
      "metadata": {},
      "outputs": [
        {
          "output_type": "execute_result",
          "data": {
            "text/plain": [
              "       MAL_ID                             Name   Type  \\\n",
              "0           1                     Cowboy Bebop     TV   \n",
              "1           5  Cowboy Bebop: Tengoku no Tobira  Movie   \n",
              "2           6                           Trigun     TV   \n",
              "3           7               Witch Hunter Robin     TV   \n",
              "4           8                   Bouken Ou Beet     TV   \n",
              "...       ...                              ...    ...   \n",
              "17553   48466                    Kyoukai Senki     TV   \n",
              "17554   48470                 D_Cide Traumerei     TV   \n",
              "17555   48471      Tsuki to Laika to Nosferatu     TV   \n",
              "17558   48483                     Mieruko-chan     TV   \n",
              "17561   48492                    Scarlet Nexus     TV   \n",
              "\n",
              "                                                   Genre  \\\n",
              "0        Action, Adventure, Comedy, Drama, Sci-Fi, Space   \n",
              "1                  Action, Drama, Mystery, Sci-Fi, Space   \n",
              "2      Action, Sci-Fi, Adventure, Comedy, Drama, Shounen   \n",
              "3      Action, Mystery, Police, Supernatural, Drama, ...   \n",
              "4              Adventure, Fantasy, Shounen, Supernatural   \n",
              "...                                                  ...   \n",
              "17553                                      Action, Mecha   \n",
              "17554           Action, Adventure, Drama, Magic, Fantasy   \n",
              "17555                             Sci-Fi, Space, Vampire   \n",
              "17558                       Comedy, Horror, Supernatural   \n",
              "17561                                    Action, Fantasy   \n",
              "\n",
              "                                                Synopsis  \n",
              "0      In the year 2071, humanity has colonized sever...  \n",
              "1      Another day, another bounty—such is the life o...  \n",
              "2      Vash the Stampede is the man with a $$60,000,0...  \n",
              "3      Witches are individuals with special powers li...  \n",
              "4      It is the dark century and the people are suff...  \n",
              "...                                                  ...  \n",
              "17553  In the year 2061 AD, Japan has lost its sovere...  \n",
              "17554  The stage is Shibuya. When Ryuuhei Oda was in ...  \n",
              "17555  The first astronaut in human history was a vam...  \n",
              "17558  Miko is a typical high school student whose li...  \n",
              "17561  Solar calendar year 2020: grotesque organisms ...  \n",
              "\n",
              "[7205 rows x 5 columns]"
            ],
            "text/html": "<div>\n<style scoped>\n    .dataframe tbody tr th:only-of-type {\n        vertical-align: middle;\n    }\n\n    .dataframe tbody tr th {\n        vertical-align: top;\n    }\n\n    .dataframe thead th {\n        text-align: right;\n    }\n</style>\n<table border=\"1\" class=\"dataframe\">\n  <thead>\n    <tr style=\"text-align: right;\">\n      <th></th>\n      <th>MAL_ID</th>\n      <th>Name</th>\n      <th>Type</th>\n      <th>Genre</th>\n      <th>Synopsis</th>\n    </tr>\n  </thead>\n  <tbody>\n    <tr>\n      <th>0</th>\n      <td>1</td>\n      <td>Cowboy Bebop</td>\n      <td>TV</td>\n      <td>Action, Adventure, Comedy, Drama, Sci-Fi, Space</td>\n      <td>In the year 2071, humanity has colonized sever...</td>\n    </tr>\n    <tr>\n      <th>1</th>\n      <td>5</td>\n      <td>Cowboy Bebop: Tengoku no Tobira</td>\n      <td>Movie</td>\n      <td>Action, Drama, Mystery, Sci-Fi, Space</td>\n      <td>Another day, another bounty—such is the life o...</td>\n    </tr>\n    <tr>\n      <th>2</th>\n      <td>6</td>\n      <td>Trigun</td>\n      <td>TV</td>\n      <td>Action, Sci-Fi, Adventure, Comedy, Drama, Shounen</td>\n      <td>Vash the Stampede is the man with a $$60,000,0...</td>\n    </tr>\n    <tr>\n      <th>3</th>\n      <td>7</td>\n      <td>Witch Hunter Robin</td>\n      <td>TV</td>\n      <td>Action, Mystery, Police, Supernatural, Drama, ...</td>\n      <td>Witches are individuals with special powers li...</td>\n    </tr>\n    <tr>\n      <th>4</th>\n      <td>8</td>\n      <td>Bouken Ou Beet</td>\n      <td>TV</td>\n      <td>Adventure, Fantasy, Shounen, Supernatural</td>\n      <td>It is the dark century and the people are suff...</td>\n    </tr>\n    <tr>\n      <th>...</th>\n      <td>...</td>\n      <td>...</td>\n      <td>...</td>\n      <td>...</td>\n      <td>...</td>\n    </tr>\n    <tr>\n      <th>17553</th>\n      <td>48466</td>\n      <td>Kyoukai Senki</td>\n      <td>TV</td>\n      <td>Action, Mecha</td>\n      <td>In the year 2061 AD, Japan has lost its sovere...</td>\n    </tr>\n    <tr>\n      <th>17554</th>\n      <td>48470</td>\n      <td>D_Cide Traumerei</td>\n      <td>TV</td>\n      <td>Action, Adventure, Drama, Magic, Fantasy</td>\n      <td>The stage is Shibuya. When Ryuuhei Oda was in ...</td>\n    </tr>\n    <tr>\n      <th>17555</th>\n      <td>48471</td>\n      <td>Tsuki to Laika to Nosferatu</td>\n      <td>TV</td>\n      <td>Sci-Fi, Space, Vampire</td>\n      <td>The first astronaut in human history was a vam...</td>\n    </tr>\n    <tr>\n      <th>17558</th>\n      <td>48483</td>\n      <td>Mieruko-chan</td>\n      <td>TV</td>\n      <td>Comedy, Horror, Supernatural</td>\n      <td>Miko is a typical high school student whose li...</td>\n    </tr>\n    <tr>\n      <th>17561</th>\n      <td>48492</td>\n      <td>Scarlet Nexus</td>\n      <td>TV</td>\n      <td>Action, Fantasy</td>\n      <td>Solar calendar year 2020: grotesque organisms ...</td>\n    </tr>\n  </tbody>\n</table>\n<p>7205 rows × 5 columns</p>\n</div>"
          },
          "metadata": {},
          "execution_count": 9
        }
      ],
      "source": [
        "df"
      ]
    },
    {
      "source": [
        "## Clean Synopsis for NLP"
      ],
      "cell_type": "markdown",
      "metadata": {}
    },
    {
      "source": [
        "### To lower case"
      ],
      "cell_type": "markdown",
      "metadata": {}
    },
    {
      "cell_type": "code",
      "execution_count": 10,
      "metadata": {},
      "outputs": [
        {
          "output_type": "execute_result",
          "data": {
            "text/plain": [
              "   MAL_ID                             Name   Type  \\\n",
              "0       1                     Cowboy Bebop     TV   \n",
              "1       5  Cowboy Bebop: Tengoku no Tobira  Movie   \n",
              "2       6                           Trigun     TV   \n",
              "3       7               Witch Hunter Robin     TV   \n",
              "4       8                   Bouken Ou Beet     TV   \n",
              "\n",
              "                                               Genre  \\\n",
              "0    Action, Adventure, Comedy, Drama, Sci-Fi, Space   \n",
              "1              Action, Drama, Mystery, Sci-Fi, Space   \n",
              "2  Action, Sci-Fi, Adventure, Comedy, Drama, Shounen   \n",
              "3  Action, Mystery, Police, Supernatural, Drama, ...   \n",
              "4          Adventure, Fantasy, Shounen, Supernatural   \n",
              "\n",
              "                                            Synopsis  \n",
              "0  in the year 2071, humanity has colonized sever...  \n",
              "1  another day, another bounty—such is the life o...  \n",
              "2  vash the stampede is the man with a $$60,000,0...  \n",
              "3  witches are individuals with special powers li...  \n",
              "4  it is the dark century and the people are suff...  "
            ],
            "text/html": "<div>\n<style scoped>\n    .dataframe tbody tr th:only-of-type {\n        vertical-align: middle;\n    }\n\n    .dataframe tbody tr th {\n        vertical-align: top;\n    }\n\n    .dataframe thead th {\n        text-align: right;\n    }\n</style>\n<table border=\"1\" class=\"dataframe\">\n  <thead>\n    <tr style=\"text-align: right;\">\n      <th></th>\n      <th>MAL_ID</th>\n      <th>Name</th>\n      <th>Type</th>\n      <th>Genre</th>\n      <th>Synopsis</th>\n    </tr>\n  </thead>\n  <tbody>\n    <tr>\n      <th>0</th>\n      <td>1</td>\n      <td>Cowboy Bebop</td>\n      <td>TV</td>\n      <td>Action, Adventure, Comedy, Drama, Sci-Fi, Space</td>\n      <td>in the year 2071, humanity has colonized sever...</td>\n    </tr>\n    <tr>\n      <th>1</th>\n      <td>5</td>\n      <td>Cowboy Bebop: Tengoku no Tobira</td>\n      <td>Movie</td>\n      <td>Action, Drama, Mystery, Sci-Fi, Space</td>\n      <td>another day, another bounty—such is the life o...</td>\n    </tr>\n    <tr>\n      <th>2</th>\n      <td>6</td>\n      <td>Trigun</td>\n      <td>TV</td>\n      <td>Action, Sci-Fi, Adventure, Comedy, Drama, Shounen</td>\n      <td>vash the stampede is the man with a $$60,000,0...</td>\n    </tr>\n    <tr>\n      <th>3</th>\n      <td>7</td>\n      <td>Witch Hunter Robin</td>\n      <td>TV</td>\n      <td>Action, Mystery, Police, Supernatural, Drama, ...</td>\n      <td>witches are individuals with special powers li...</td>\n    </tr>\n    <tr>\n      <th>4</th>\n      <td>8</td>\n      <td>Bouken Ou Beet</td>\n      <td>TV</td>\n      <td>Adventure, Fantasy, Shounen, Supernatural</td>\n      <td>it is the dark century and the people are suff...</td>\n    </tr>\n  </tbody>\n</table>\n</div>"
          },
          "metadata": {},
          "execution_count": 10
        }
      ],
      "source": [
        "df['Synopsis'] = df.Synopsis.str.lower()\n",
        "df.head()"
      ]
    },
    {
      "source": [
        "### Remove Non-alphabetic Characters"
      ],
      "cell_type": "markdown",
      "metadata": {}
    },
    {
      "cell_type": "code",
      "execution_count": 11,
      "metadata": {},
      "outputs": [
        {
          "output_type": "execute_result",
          "data": {
            "text/plain": [
              "   MAL_ID                             Name   Type  \\\n",
              "0       1                     Cowboy Bebop     TV   \n",
              "1       5  Cowboy Bebop: Tengoku no Tobira  Movie   \n",
              "2       6                           Trigun     TV   \n",
              "3       7               Witch Hunter Robin     TV   \n",
              "4       8                   Bouken Ou Beet     TV   \n",
              "\n",
              "                                               Genre  \\\n",
              "0    Action, Adventure, Comedy, Drama, Sci-Fi, Space   \n",
              "1              Action, Drama, Mystery, Sci-Fi, Space   \n",
              "2  Action, Sci-Fi, Adventure, Comedy, Drama, Shounen   \n",
              "3  Action, Mystery, Police, Supernatural, Drama, ...   \n",
              "4          Adventure, Fantasy, Shounen, Supernatural   \n",
              "\n",
              "                                            Synopsis  \n",
              "0  in the year       humanity has colonized sever...  \n",
              "1  another day  another bounty such is the life o...  \n",
              "2  vash the stampede is the man with a           ...  \n",
              "3  witches are individuals with special powers li...  \n",
              "4  it is the dark century and the people are suff...  "
            ],
            "text/html": "<div>\n<style scoped>\n    .dataframe tbody tr th:only-of-type {\n        vertical-align: middle;\n    }\n\n    .dataframe tbody tr th {\n        vertical-align: top;\n    }\n\n    .dataframe thead th {\n        text-align: right;\n    }\n</style>\n<table border=\"1\" class=\"dataframe\">\n  <thead>\n    <tr style=\"text-align: right;\">\n      <th></th>\n      <th>MAL_ID</th>\n      <th>Name</th>\n      <th>Type</th>\n      <th>Genre</th>\n      <th>Synopsis</th>\n    </tr>\n  </thead>\n  <tbody>\n    <tr>\n      <th>0</th>\n      <td>1</td>\n      <td>Cowboy Bebop</td>\n      <td>TV</td>\n      <td>Action, Adventure, Comedy, Drama, Sci-Fi, Space</td>\n      <td>in the year       humanity has colonized sever...</td>\n    </tr>\n    <tr>\n      <th>1</th>\n      <td>5</td>\n      <td>Cowboy Bebop: Tengoku no Tobira</td>\n      <td>Movie</td>\n      <td>Action, Drama, Mystery, Sci-Fi, Space</td>\n      <td>another day  another bounty such is the life o...</td>\n    </tr>\n    <tr>\n      <th>2</th>\n      <td>6</td>\n      <td>Trigun</td>\n      <td>TV</td>\n      <td>Action, Sci-Fi, Adventure, Comedy, Drama, Shounen</td>\n      <td>vash the stampede is the man with a           ...</td>\n    </tr>\n    <tr>\n      <th>3</th>\n      <td>7</td>\n      <td>Witch Hunter Robin</td>\n      <td>TV</td>\n      <td>Action, Mystery, Police, Supernatural, Drama, ...</td>\n      <td>witches are individuals with special powers li...</td>\n    </tr>\n    <tr>\n      <th>4</th>\n      <td>8</td>\n      <td>Bouken Ou Beet</td>\n      <td>TV</td>\n      <td>Adventure, Fantasy, Shounen, Supernatural</td>\n      <td>it is the dark century and the people are suff...</td>\n    </tr>\n  </tbody>\n</table>\n</div>"
          },
          "metadata": {},
          "execution_count": 11
        }
      ],
      "source": [
        "def remove_nonalpha(text):\n",
        "    result = [c if c.isalpha() else ' ' for c in text]\n",
        "    return ''.join(result)\n",
        "\n",
        "df['Synopsis'] = df.Synopsis.apply(remove_nonalpha)\n",
        "df.head()"
      ]
    },
    {
      "source": [
        "### Remove Non-english Words"
      ],
      "cell_type": "markdown",
      "metadata": {}
    },
    {
      "cell_type": "code",
      "execution_count": 12,
      "metadata": {},
      "outputs": [],
      "source": [
        "english_words = nltk.corpus.words.words()"
      ]
    },
    {
      "cell_type": "code",
      "execution_count": 13,
      "metadata": {},
      "outputs": [
        {
          "output_type": "stream",
          "name": "stderr",
          "text": [
            "ERROR:root:Internal Python error in the inspect module.\n",
            "Below is the traceback from this internal error.\n",
            "\n",
            "Traceback (most recent call last):\n",
            "  File \"/home/dohun/anaconda3/envs/isd/lib/python3.7/site-packages/IPython/core/interactiveshell.py\", line 3437, in run_code\n",
            "    exec(code_obj, self.user_global_ns, self.user_ns)\n",
            "  File \"<ipython-input-13-97565bc1d804>\", line 6, in <module>\n",
            "    df['Synopsis'] = df.Synopsis.apply(remove_noneng)\n",
            "  File \"/home/dohun/anaconda3/envs/isd/lib/python3.7/site-packages/pandas/core/series.py\", line 4138, in apply\n",
            "    mapped = lib.map_infer(values, f, convert=convert_dtype)\n",
            "  File \"pandas/_libs/lib.pyx\", line 2467, in pandas._libs.lib.map_infer\n",
            "  File \"<ipython-input-13-97565bc1d804>\", line 3, in remove_noneng\n",
            "    result = [w for w in words if w in english_words]\n",
            "  File \"<ipython-input-13-97565bc1d804>\", line 3, in <listcomp>\n",
            "    result = [w for w in words if w in english_words]\n",
            "KeyboardInterrupt\n",
            "\n",
            "During handling of the above exception, another exception occurred:\n",
            "\n",
            "Traceback (most recent call last):\n",
            "  File \"/home/dohun/anaconda3/envs/isd/lib/python3.7/site-packages/IPython/core/interactiveshell.py\", line 2061, in showtraceback\n",
            "    stb = value._render_traceback_()\n",
            "AttributeError: 'KeyboardInterrupt' object has no attribute '_render_traceback_'\n",
            "\n",
            "During handling of the above exception, another exception occurred:\n",
            "\n",
            "Traceback (most recent call last):\n",
            "  File \"/home/dohun/anaconda3/envs/isd/lib/python3.7/site-packages/IPython/core/ultratb.py\", line 1101, in get_records\n",
            "    return _fixed_getinnerframes(etb, number_of_lines_of_context, tb_offset)\n",
            "  File \"/home/dohun/anaconda3/envs/isd/lib/python3.7/site-packages/IPython/core/ultratb.py\", line 248, in wrapped\n",
            "    return f(*args, **kwargs)\n",
            "  File \"/home/dohun/anaconda3/envs/isd/lib/python3.7/site-packages/IPython/core/ultratb.py\", line 281, in _fixed_getinnerframes\n",
            "    records = fix_frame_records_filenames(inspect.getinnerframes(etb, context))\n",
            "  File \"/home/dohun/anaconda3/envs/isd/lib/python3.7/inspect.py\", line 1502, in getinnerframes\n",
            "    frameinfo = (tb.tb_frame,) + getframeinfo(tb, context)\n",
            "  File \"/home/dohun/anaconda3/envs/isd/lib/python3.7/inspect.py\", line 1460, in getframeinfo\n",
            "    filename = getsourcefile(frame) or getfile(frame)\n",
            "  File \"/home/dohun/anaconda3/envs/isd/lib/python3.7/inspect.py\", line 696, in getsourcefile\n",
            "    if getattr(getmodule(object, filename), '__loader__', None) is not None:\n",
            "  File \"/home/dohun/anaconda3/envs/isd/lib/python3.7/inspect.py\", line 742, in getmodule\n",
            "    os.path.realpath(f)] = module.__name__\n",
            "  File \"/home/dohun/anaconda3/envs/isd/lib/python3.7/posixpath.py\", line 395, in realpath\n",
            "    path, ok = _joinrealpath(filename[:0], filename, {})\n",
            "  File \"/home/dohun/anaconda3/envs/isd/lib/python3.7/posixpath.py\", line 415, in _joinrealpath\n",
            "    name, _, rest = rest.partition(sep)\n",
            "KeyboardInterrupt\n"
          ]
        },
        {
          "output_type": "error",
          "ename": "TypeError",
          "evalue": "object of type 'NoneType' has no len()",
          "traceback": [
            "\u001b[0;31m---------------------------------------------------------------------------\u001b[0m",
            "\u001b[0;31mKeyboardInterrupt\u001b[0m                         Traceback (most recent call last)",
            "    \u001b[0;31m[... skipping hidden 1 frame]\u001b[0m\n",
            "\u001b[0;32m<ipython-input-13-97565bc1d804>\u001b[0m in \u001b[0;36m<module>\u001b[0;34m\u001b[0m\n\u001b[1;32m      5\u001b[0m \u001b[0;34m\u001b[0m\u001b[0m\n\u001b[0;32m----> 6\u001b[0;31m \u001b[0mdf\u001b[0m\u001b[0;34m[\u001b[0m\u001b[0;34m'Synopsis'\u001b[0m\u001b[0;34m]\u001b[0m \u001b[0;34m=\u001b[0m \u001b[0mdf\u001b[0m\u001b[0;34m.\u001b[0m\u001b[0mSynopsis\u001b[0m\u001b[0;34m.\u001b[0m\u001b[0mapply\u001b[0m\u001b[0;34m(\u001b[0m\u001b[0mremove_noneng\u001b[0m\u001b[0;34m)\u001b[0m\u001b[0;34m\u001b[0m\u001b[0;34m\u001b[0m\u001b[0m\n\u001b[0m\u001b[1;32m      7\u001b[0m \u001b[0mdf\u001b[0m\u001b[0;34m.\u001b[0m\u001b[0mhead\u001b[0m\u001b[0;34m(\u001b[0m\u001b[0;34m)\u001b[0m\u001b[0;34m\u001b[0m\u001b[0;34m\u001b[0m\u001b[0m\n",
            "\u001b[0;32m~/anaconda3/envs/isd/lib/python3.7/site-packages/pandas/core/series.py\u001b[0m in \u001b[0;36mapply\u001b[0;34m(self, func, convert_dtype, args, **kwds)\u001b[0m\n\u001b[1;32m   4137\u001b[0m                 \u001b[0mvalues\u001b[0m \u001b[0;34m=\u001b[0m \u001b[0mself\u001b[0m\u001b[0;34m.\u001b[0m\u001b[0mastype\u001b[0m\u001b[0;34m(\u001b[0m\u001b[0mobject\u001b[0m\u001b[0;34m)\u001b[0m\u001b[0;34m.\u001b[0m\u001b[0m_values\u001b[0m\u001b[0;34m\u001b[0m\u001b[0;34m\u001b[0m\u001b[0m\n\u001b[0;32m-> 4138\u001b[0;31m                 \u001b[0mmapped\u001b[0m \u001b[0;34m=\u001b[0m \u001b[0mlib\u001b[0m\u001b[0;34m.\u001b[0m\u001b[0mmap_infer\u001b[0m\u001b[0;34m(\u001b[0m\u001b[0mvalues\u001b[0m\u001b[0;34m,\u001b[0m \u001b[0mf\u001b[0m\u001b[0;34m,\u001b[0m \u001b[0mconvert\u001b[0m\u001b[0;34m=\u001b[0m\u001b[0mconvert_dtype\u001b[0m\u001b[0;34m)\u001b[0m\u001b[0;34m\u001b[0m\u001b[0;34m\u001b[0m\u001b[0m\n\u001b[0m\u001b[1;32m   4139\u001b[0m \u001b[0;34m\u001b[0m\u001b[0m\n",
            "\u001b[0;32mpandas/_libs/lib.pyx\u001b[0m in \u001b[0;36mpandas._libs.lib.map_infer\u001b[0;34m()\u001b[0m\n",
            "\u001b[0;32m<ipython-input-13-97565bc1d804>\u001b[0m in \u001b[0;36mremove_noneng\u001b[0;34m(text)\u001b[0m\n\u001b[1;32m      2\u001b[0m     \u001b[0mwords\u001b[0m \u001b[0;34m=\u001b[0m \u001b[0mtext\u001b[0m\u001b[0;34m.\u001b[0m\u001b[0msplit\u001b[0m\u001b[0;34m(\u001b[0m\u001b[0;34m)\u001b[0m\u001b[0;34m\u001b[0m\u001b[0;34m\u001b[0m\u001b[0m\n\u001b[0;32m----> 3\u001b[0;31m     \u001b[0mresult\u001b[0m \u001b[0;34m=\u001b[0m \u001b[0;34m[\u001b[0m\u001b[0mw\u001b[0m \u001b[0;32mfor\u001b[0m \u001b[0mw\u001b[0m \u001b[0;32min\u001b[0m \u001b[0mwords\u001b[0m \u001b[0;32mif\u001b[0m \u001b[0mw\u001b[0m \u001b[0;32min\u001b[0m \u001b[0menglish_words\u001b[0m\u001b[0;34m]\u001b[0m\u001b[0;34m\u001b[0m\u001b[0;34m\u001b[0m\u001b[0m\n\u001b[0m\u001b[1;32m      4\u001b[0m     \u001b[0;32mreturn\u001b[0m \u001b[0;34m\" \"\u001b[0m\u001b[0;34m.\u001b[0m\u001b[0mjoin\u001b[0m\u001b[0;34m(\u001b[0m\u001b[0mresult\u001b[0m\u001b[0;34m)\u001b[0m\u001b[0;34m\u001b[0m\u001b[0;34m\u001b[0m\u001b[0m\n",
            "\u001b[0;32m<ipython-input-13-97565bc1d804>\u001b[0m in \u001b[0;36m<listcomp>\u001b[0;34m(.0)\u001b[0m\n\u001b[1;32m      2\u001b[0m     \u001b[0mwords\u001b[0m \u001b[0;34m=\u001b[0m \u001b[0mtext\u001b[0m\u001b[0;34m.\u001b[0m\u001b[0msplit\u001b[0m\u001b[0;34m(\u001b[0m\u001b[0;34m)\u001b[0m\u001b[0;34m\u001b[0m\u001b[0;34m\u001b[0m\u001b[0m\n\u001b[0;32m----> 3\u001b[0;31m     \u001b[0mresult\u001b[0m \u001b[0;34m=\u001b[0m \u001b[0;34m[\u001b[0m\u001b[0mw\u001b[0m \u001b[0;32mfor\u001b[0m \u001b[0mw\u001b[0m \u001b[0;32min\u001b[0m \u001b[0mwords\u001b[0m \u001b[0;32mif\u001b[0m \u001b[0mw\u001b[0m \u001b[0;32min\u001b[0m \u001b[0menglish_words\u001b[0m\u001b[0;34m]\u001b[0m\u001b[0;34m\u001b[0m\u001b[0;34m\u001b[0m\u001b[0m\n\u001b[0m\u001b[1;32m      4\u001b[0m     \u001b[0;32mreturn\u001b[0m \u001b[0;34m\" \"\u001b[0m\u001b[0;34m.\u001b[0m\u001b[0mjoin\u001b[0m\u001b[0;34m(\u001b[0m\u001b[0mresult\u001b[0m\u001b[0;34m)\u001b[0m\u001b[0;34m\u001b[0m\u001b[0;34m\u001b[0m\u001b[0m\n",
            "\u001b[0;31mKeyboardInterrupt\u001b[0m: ",
            "\nDuring handling of the above exception, another exception occurred:\n",
            "\u001b[0;31mAttributeError\u001b[0m                            Traceback (most recent call last)",
            "\u001b[0;32m~/anaconda3/envs/isd/lib/python3.7/site-packages/IPython/core/interactiveshell.py\u001b[0m in \u001b[0;36mshowtraceback\u001b[0;34m(self, exc_tuple, filename, tb_offset, exception_only, running_compiled_code)\u001b[0m\n\u001b[1;32m   2060\u001b[0m                         \u001b[0;31m# in the engines. This should return a list of strings.\u001b[0m\u001b[0;34m\u001b[0m\u001b[0;34m\u001b[0m\u001b[0;34m\u001b[0m\u001b[0m\n\u001b[0;32m-> 2061\u001b[0;31m                         \u001b[0mstb\u001b[0m \u001b[0;34m=\u001b[0m \u001b[0mvalue\u001b[0m\u001b[0;34m.\u001b[0m\u001b[0m_render_traceback_\u001b[0m\u001b[0;34m(\u001b[0m\u001b[0;34m)\u001b[0m\u001b[0;34m\u001b[0m\u001b[0;34m\u001b[0m\u001b[0m\n\u001b[0m\u001b[1;32m   2062\u001b[0m                     \u001b[0;32mexcept\u001b[0m \u001b[0mException\u001b[0m\u001b[0;34m:\u001b[0m\u001b[0;34m\u001b[0m\u001b[0;34m\u001b[0m\u001b[0m\n",
            "\u001b[0;31mAttributeError\u001b[0m: 'KeyboardInterrupt' object has no attribute '_render_traceback_'",
            "\nDuring handling of the above exception, another exception occurred:\n",
            "\u001b[0;31mTypeError\u001b[0m                                 Traceback (most recent call last)",
            "    \u001b[0;31m[... skipping hidden 1 frame]\u001b[0m\n",
            "\u001b[0;32m~/anaconda3/envs/isd/lib/python3.7/site-packages/IPython/core/interactiveshell.py\u001b[0m in \u001b[0;36mshowtraceback\u001b[0;34m(self, exc_tuple, filename, tb_offset, exception_only, running_compiled_code)\u001b[0m\n\u001b[1;32m   2062\u001b[0m                     \u001b[0;32mexcept\u001b[0m \u001b[0mException\u001b[0m\u001b[0;34m:\u001b[0m\u001b[0;34m\u001b[0m\u001b[0;34m\u001b[0m\u001b[0m\n\u001b[1;32m   2063\u001b[0m                         stb = self.InteractiveTB.structured_traceback(etype,\n\u001b[0;32m-> 2064\u001b[0;31m                                             value, tb, tb_offset=tb_offset)\n\u001b[0m\u001b[1;32m   2065\u001b[0m \u001b[0;34m\u001b[0m\u001b[0m\n\u001b[1;32m   2066\u001b[0m                     \u001b[0mself\u001b[0m\u001b[0;34m.\u001b[0m\u001b[0m_showtraceback\u001b[0m\u001b[0;34m(\u001b[0m\u001b[0metype\u001b[0m\u001b[0;34m,\u001b[0m \u001b[0mvalue\u001b[0m\u001b[0;34m,\u001b[0m \u001b[0mstb\u001b[0m\u001b[0;34m)\u001b[0m\u001b[0;34m\u001b[0m\u001b[0;34m\u001b[0m\u001b[0m\n",
            "\u001b[0;32m~/anaconda3/envs/isd/lib/python3.7/site-packages/IPython/core/ultratb.py\u001b[0m in \u001b[0;36mstructured_traceback\u001b[0;34m(self, etype, value, tb, tb_offset, number_of_lines_of_context)\u001b[0m\n\u001b[1;32m   1366\u001b[0m             \u001b[0mself\u001b[0m\u001b[0;34m.\u001b[0m\u001b[0mtb\u001b[0m \u001b[0;34m=\u001b[0m \u001b[0mtb\u001b[0m\u001b[0;34m\u001b[0m\u001b[0;34m\u001b[0m\u001b[0m\n\u001b[1;32m   1367\u001b[0m         return FormattedTB.structured_traceback(\n\u001b[0;32m-> 1368\u001b[0;31m             self, etype, value, tb, tb_offset, number_of_lines_of_context)\n\u001b[0m\u001b[1;32m   1369\u001b[0m \u001b[0;34m\u001b[0m\u001b[0m\n\u001b[1;32m   1370\u001b[0m \u001b[0;34m\u001b[0m\u001b[0m\n",
            "\u001b[0;32m~/anaconda3/envs/isd/lib/python3.7/site-packages/IPython/core/ultratb.py\u001b[0m in \u001b[0;36mstructured_traceback\u001b[0;34m(self, etype, value, tb, tb_offset, number_of_lines_of_context)\u001b[0m\n\u001b[1;32m   1266\u001b[0m             \u001b[0;31m# Verbose modes need a full traceback\u001b[0m\u001b[0;34m\u001b[0m\u001b[0;34m\u001b[0m\u001b[0;34m\u001b[0m\u001b[0m\n\u001b[1;32m   1267\u001b[0m             return VerboseTB.structured_traceback(\n\u001b[0;32m-> 1268\u001b[0;31m                 \u001b[0mself\u001b[0m\u001b[0;34m,\u001b[0m \u001b[0metype\u001b[0m\u001b[0;34m,\u001b[0m \u001b[0mvalue\u001b[0m\u001b[0;34m,\u001b[0m \u001b[0mtb\u001b[0m\u001b[0;34m,\u001b[0m \u001b[0mtb_offset\u001b[0m\u001b[0;34m,\u001b[0m \u001b[0mnumber_of_lines_of_context\u001b[0m\u001b[0;34m\u001b[0m\u001b[0;34m\u001b[0m\u001b[0m\n\u001b[0m\u001b[1;32m   1269\u001b[0m             )\n\u001b[1;32m   1270\u001b[0m         \u001b[0;32melif\u001b[0m \u001b[0mmode\u001b[0m \u001b[0;34m==\u001b[0m \u001b[0;34m'Minimal'\u001b[0m\u001b[0;34m:\u001b[0m\u001b[0;34m\u001b[0m\u001b[0;34m\u001b[0m\u001b[0m\n",
            "\u001b[0;32m~/anaconda3/envs/isd/lib/python3.7/site-packages/IPython/core/ultratb.py\u001b[0m in \u001b[0;36mstructured_traceback\u001b[0;34m(self, etype, evalue, etb, tb_offset, number_of_lines_of_context)\u001b[0m\n\u001b[1;32m   1123\u001b[0m \u001b[0;34m\u001b[0m\u001b[0m\n\u001b[1;32m   1124\u001b[0m         formatted_exception = self.format_exception_as_a_whole(etype, evalue, etb, number_of_lines_of_context,\n\u001b[0;32m-> 1125\u001b[0;31m                                                                tb_offset)\n\u001b[0m\u001b[1;32m   1126\u001b[0m \u001b[0;34m\u001b[0m\u001b[0m\n\u001b[1;32m   1127\u001b[0m         \u001b[0mcolors\u001b[0m \u001b[0;34m=\u001b[0m \u001b[0mself\u001b[0m\u001b[0;34m.\u001b[0m\u001b[0mColors\u001b[0m  \u001b[0;31m# just a shorthand + quicker name lookup\u001b[0m\u001b[0;34m\u001b[0m\u001b[0;34m\u001b[0m\u001b[0m\n",
            "\u001b[0;32m~/anaconda3/envs/isd/lib/python3.7/site-packages/IPython/core/ultratb.py\u001b[0m in \u001b[0;36mformat_exception_as_a_whole\u001b[0;34m(self, etype, evalue, etb, number_of_lines_of_context, tb_offset)\u001b[0m\n\u001b[1;32m   1080\u001b[0m \u001b[0;34m\u001b[0m\u001b[0m\n\u001b[1;32m   1081\u001b[0m \u001b[0;34m\u001b[0m\u001b[0m\n\u001b[0;32m-> 1082\u001b[0;31m         \u001b[0mlast_unique\u001b[0m\u001b[0;34m,\u001b[0m \u001b[0mrecursion_repeat\u001b[0m \u001b[0;34m=\u001b[0m \u001b[0mfind_recursion\u001b[0m\u001b[0;34m(\u001b[0m\u001b[0morig_etype\u001b[0m\u001b[0;34m,\u001b[0m \u001b[0mevalue\u001b[0m\u001b[0;34m,\u001b[0m \u001b[0mrecords\u001b[0m\u001b[0;34m)\u001b[0m\u001b[0;34m\u001b[0m\u001b[0;34m\u001b[0m\u001b[0m\n\u001b[0m\u001b[1;32m   1083\u001b[0m \u001b[0;34m\u001b[0m\u001b[0m\n\u001b[1;32m   1084\u001b[0m         \u001b[0mframes\u001b[0m \u001b[0;34m=\u001b[0m \u001b[0mself\u001b[0m\u001b[0;34m.\u001b[0m\u001b[0mformat_records\u001b[0m\u001b[0;34m(\u001b[0m\u001b[0mrecords\u001b[0m\u001b[0;34m,\u001b[0m \u001b[0mlast_unique\u001b[0m\u001b[0;34m,\u001b[0m \u001b[0mrecursion_repeat\u001b[0m\u001b[0;34m)\u001b[0m\u001b[0;34m\u001b[0m\u001b[0;34m\u001b[0m\u001b[0m\n",
            "\u001b[0;32m~/anaconda3/envs/isd/lib/python3.7/site-packages/IPython/core/ultratb.py\u001b[0m in \u001b[0;36mfind_recursion\u001b[0;34m(etype, value, records)\u001b[0m\n\u001b[1;32m    380\u001b[0m     \u001b[0;31m# first frame (from in to out) that looks different.\u001b[0m\u001b[0;34m\u001b[0m\u001b[0;34m\u001b[0m\u001b[0;34m\u001b[0m\u001b[0m\n\u001b[1;32m    381\u001b[0m     \u001b[0;32mif\u001b[0m \u001b[0;32mnot\u001b[0m \u001b[0mis_recursion_error\u001b[0m\u001b[0;34m(\u001b[0m\u001b[0metype\u001b[0m\u001b[0;34m,\u001b[0m \u001b[0mvalue\u001b[0m\u001b[0;34m,\u001b[0m \u001b[0mrecords\u001b[0m\u001b[0;34m)\u001b[0m\u001b[0;34m:\u001b[0m\u001b[0;34m\u001b[0m\u001b[0;34m\u001b[0m\u001b[0m\n\u001b[0;32m--> 382\u001b[0;31m         \u001b[0;32mreturn\u001b[0m \u001b[0mlen\u001b[0m\u001b[0;34m(\u001b[0m\u001b[0mrecords\u001b[0m\u001b[0;34m)\u001b[0m\u001b[0;34m,\u001b[0m \u001b[0;36m0\u001b[0m\u001b[0;34m\u001b[0m\u001b[0;34m\u001b[0m\u001b[0m\n\u001b[0m\u001b[1;32m    383\u001b[0m \u001b[0;34m\u001b[0m\u001b[0m\n\u001b[1;32m    384\u001b[0m     \u001b[0;31m# Select filename, lineno, func_name to track frames with\u001b[0m\u001b[0;34m\u001b[0m\u001b[0;34m\u001b[0m\u001b[0;34m\u001b[0m\u001b[0m\n",
            "\u001b[0;31mTypeError\u001b[0m: object of type 'NoneType' has no len()"
          ]
        }
      ],
      "source": [
        "def remove_noneng(text):\n",
        "    words = text.split()\n",
        "    result = [w for w in words if w in english_words]\n",
        "    return \" \".join(result)\n",
        "\n",
        "df['Synopsis'] = df.Synopsis.apply(remove_noneng)\n",
        "df.head()"
      ]
    },
    {
      "source": [
        "### Remove stopwords"
      ],
      "cell_type": "markdown",
      "metadata": {}
    },
    {
      "cell_type": "code",
      "execution_count": 23,
      "metadata": {},
      "outputs": [],
      "source": [
        "!wget -nc -q https://raw.githubusercontent.com/stopwords-iso/stopwords-en/master/stopwords-en.txt\n",
        "\n",
        "f = open('stopwords-en.txt', 'r')\n",
        "stopwords = f.read().splitlines()\n",
        "f.close()"
      ]
    },
    {
      "cell_type": "code",
      "execution_count": 24,
      "metadata": {},
      "outputs": [
        {
          "output_type": "execute_result",
          "data": {
            "text/plain": [
              "   MAL_ID                                           Synopsis\n",
              "0       1  humanity solar leaving uninhabitable surface p...\n",
              "1       5  day bounty life unlucky crew bebop routine int...\n",
              "2       6  stampede bounty head reason merciless villain ...\n",
              "3       7  special telekinesis mind control robin craft u...\n",
              "4       8  dark century people suffering rule devil manip..."
            ],
            "text/html": "<div>\n<style scoped>\n    .dataframe tbody tr th:only-of-type {\n        vertical-align: middle;\n    }\n\n    .dataframe tbody tr th {\n        vertical-align: top;\n    }\n\n    .dataframe thead th {\n        text-align: right;\n    }\n</style>\n<table border=\"1\" class=\"dataframe\">\n  <thead>\n    <tr style=\"text-align: right;\">\n      <th></th>\n      <th>MAL_ID</th>\n      <th>Synopsis</th>\n    </tr>\n  </thead>\n  <tbody>\n    <tr>\n      <th>0</th>\n      <td>1</td>\n      <td>humanity solar leaving uninhabitable surface p...</td>\n    </tr>\n    <tr>\n      <th>1</th>\n      <td>5</td>\n      <td>day bounty life unlucky crew bebop routine int...</td>\n    </tr>\n    <tr>\n      <th>2</th>\n      <td>6</td>\n      <td>stampede bounty head reason merciless villain ...</td>\n    </tr>\n    <tr>\n      <th>3</th>\n      <td>7</td>\n      <td>special telekinesis mind control robin craft u...</td>\n    </tr>\n    <tr>\n      <th>4</th>\n      <td>8</td>\n      <td>dark century people suffering rule devil manip...</td>\n    </tr>\n  </tbody>\n</table>\n</div>"
          },
          "metadata": {},
          "execution_count": 24
        }
      ],
      "source": [
        "def remove_stopword(text):\n",
        "    words = text.split()\n",
        "    result = [w for w in words if w not in stopwords]\n",
        "    return \" \".join(result)\n",
        "\n",
        "df['Synopsis'] = df.Synopsis.apply(remove_stopword)\n",
        "df"
      ]
    },
    {
      "source": [
        "### Short synopsis"
      ],
      "cell_type": "markdown",
      "metadata": {}
    },
    {
      "cell_type": "code",
      "execution_count": 25,
      "metadata": {},
      "outputs": [
        {
          "output_type": "display_data",
          "data": {
            "text/plain": "<Figure size 720x432 with 1 Axes>",
            "image/svg+xml": "<?xml version=\"1.0\" encoding=\"utf-8\" standalone=\"no\"?>\n<!DOCTYPE svg PUBLIC \"-//W3C//DTD SVG 1.1//EN\"\n  \"http://www.w3.org/Graphics/SVG/1.1/DTD/svg11.dtd\">\n<svg height=\"372.35625pt\" version=\"1.1\" viewBox=\"0 0 598.4875 372.35625\" width=\"598.4875pt\" xmlns=\"http://www.w3.org/2000/svg\" xmlns:xlink=\"http://www.w3.org/1999/xlink\">\n <metadata>\n  <rdf:RDF xmlns:cc=\"http://creativecommons.org/ns#\" xmlns:dc=\"http://purl.org/dc/elements/1.1/\" xmlns:rdf=\"http://www.w3.org/1999/02/22-rdf-syntax-ns#\">\n   <cc:Work>\n    <dc:type rdf:resource=\"http://purl.org/dc/dcmitype/StillImage\"/>\n    <dc:date>2021-06-09T17:50:03.805686</dc:date>\n    <dc:format>image/svg+xml</dc:format>\n    <dc:creator>\n     <cc:Agent>\n      <dc:title>Matplotlib v3.4.2, https://matplotlib.org/</dc:title>\n     </cc:Agent>\n    </dc:creator>\n   </cc:Work>\n  </rdf:RDF>\n </metadata>\n <defs>\n  <style type=\"text/css\">*{stroke-linecap:butt;stroke-linejoin:round;}</style>\n </defs>\n <g id=\"figure_1\">\n  <g id=\"patch_1\">\n   <path d=\"M 0 372.35625 \nL 598.4875 372.35625 \nL 598.4875 0 \nL 0 0 \nz\n\" style=\"fill:none;\"/>\n  </g>\n  <g id=\"axes_1\">\n   <g id=\"patch_2\">\n    <path d=\"M 33.2875 348.478125 \nL 591.2875 348.478125 \nL 591.2875 22.318125 \nL 33.2875 22.318125 \nz\n\" style=\"fill:#ffffff;\"/>\n   </g>\n   <g id=\"patch_3\">\n    <path clip-path=\"url(#pf07a27822b)\" d=\"M 58.651136 348.478125 \nL 63.723864 348.478125 \nL 63.723864 259.329118 \nL 58.651136 259.329118 \nz\n\" style=\"fill:#1f77b4;\"/>\n   </g>\n   <g id=\"patch_4\">\n    <path clip-path=\"url(#pf07a27822b)\" d=\"M 63.723864 348.478125 \nL 68.796591 348.478125 \nL 68.796591 182.71669 \nL 63.723864 182.71669 \nz\n\" style=\"fill:#1f77b4;\"/>\n   </g>\n   <g id=\"patch_5\">\n    <path clip-path=\"url(#pf07a27822b)\" d=\"M 68.796591 348.478125 \nL 73.869318 348.478125 \nL 73.869318 93.567683 \nL 68.796591 93.567683 \nz\n\" style=\"fill:#1f77b4;\"/>\n   </g>\n   <g id=\"patch_6\">\n    <path clip-path=\"url(#pf07a27822b)\" d=\"M 73.869318 348.478125 \nL 78.942045 348.478125 \nL 78.942045 128.391514 \nL 73.869318 128.391514 \nz\n\" style=\"fill:#1f77b4;\"/>\n   </g>\n   <g id=\"patch_7\">\n    <path clip-path=\"url(#pf07a27822b)\" d=\"M 78.942045 348.478125 \nL 84.014773 348.478125 \nL 84.014773 92.17473 \nL 78.942045 92.17473 \nz\n\" style=\"fill:#1f77b4;\"/>\n   </g>\n   <g id=\"patch_8\">\n    <path clip-path=\"url(#pf07a27822b)\" d=\"M 84.014773 348.478125 \nL 89.0875 348.478125 \nL 89.0875 58.743852 \nL 84.014773 58.743852 \nz\n\" style=\"fill:#1f77b4;\"/>\n   </g>\n   <g id=\"patch_9\">\n    <path clip-path=\"url(#pf07a27822b)\" d=\"M 89.0875 348.478125 \nL 94.160227 348.478125 \nL 94.160227 103.318356 \nL 89.0875 103.318356 \nz\n\" style=\"fill:#1f77b4;\"/>\n   </g>\n   <g id=\"patch_10\">\n    <path clip-path=\"url(#pf07a27822b)\" d=\"M 94.160227 348.478125 \nL 99.232955 348.478125 \nL 99.232955 86.602917 \nL 94.160227 86.602917 \nz\n\" style=\"fill:#1f77b4;\"/>\n   </g>\n   <g id=\"patch_11\">\n    <path clip-path=\"url(#pf07a27822b)\" d=\"M 99.232955 348.478125 \nL 104.305682 348.478125 \nL 104.305682 67.101572 \nL 99.232955 67.101572 \nz\n\" style=\"fill:#1f77b4;\"/>\n   </g>\n   <g id=\"patch_12\">\n    <path clip-path=\"url(#pf07a27822b)\" d=\"M 104.305682 348.478125 \nL 109.378409 348.478125 \nL 109.378409 69.887478 \nL 104.305682 69.887478 \nz\n\" style=\"fill:#1f77b4;\"/>\n   </g>\n   <g id=\"patch_13\">\n    <path clip-path=\"url(#pf07a27822b)\" d=\"M 109.378409 348.478125 \nL 114.451136 348.478125 \nL 114.451136 60.136805 \nL 109.378409 60.136805 \nz\n\" style=\"fill:#1f77b4;\"/>\n   </g>\n   <g id=\"patch_14\">\n    <path clip-path=\"url(#pf07a27822b)\" d=\"M 114.451136 348.478125 \nL 119.523864 348.478125 \nL 119.523864 37.849554 \nL 114.451136 37.849554 \nz\n\" style=\"fill:#1f77b4;\"/>\n   </g>\n   <g id=\"patch_15\">\n    <path clip-path=\"url(#pf07a27822b)\" d=\"M 119.523864 348.478125 \nL 124.596591 348.478125 \nL 124.596591 71.280431 \nL 119.523864 71.280431 \nz\n\" style=\"fill:#1f77b4;\"/>\n   </g>\n   <g id=\"patch_16\">\n    <path clip-path=\"url(#pf07a27822b)\" d=\"M 124.596591 348.478125 \nL 129.669318 348.478125 \nL 129.669318 67.101572 \nL 124.596591 67.101572 \nz\n\" style=\"fill:#1f77b4;\"/>\n   </g>\n   <g id=\"patch_17\">\n    <path clip-path=\"url(#pf07a27822b)\" d=\"M 129.669318 348.478125 \nL 134.742045 348.478125 \nL 134.742045 72.673384 \nL 129.669318 72.673384 \nz\n\" style=\"fill:#1f77b4;\"/>\n   </g>\n   <g id=\"patch_18\">\n    <path clip-path=\"url(#pf07a27822b)\" d=\"M 134.742045 348.478125 \nL 139.814773 348.478125 \nL 139.814773 48.993179 \nL 134.742045 48.993179 \nz\n\" style=\"fill:#1f77b4;\"/>\n   </g>\n   <g id=\"patch_19\">\n    <path clip-path=\"url(#pf07a27822b)\" d=\"M 139.814773 348.478125 \nL 144.8875 348.478125 \nL 144.8875 54.564992 \nL 139.814773 54.564992 \nz\n\" style=\"fill:#1f77b4;\"/>\n   </g>\n   <g id=\"patch_20\">\n    <path clip-path=\"url(#pf07a27822b)\" d=\"M 144.8875 348.478125 \nL 149.960227 348.478125 \nL 149.960227 69.887478 \nL 144.8875 69.887478 \nz\n\" style=\"fill:#1f77b4;\"/>\n   </g>\n   <g id=\"patch_21\">\n    <path clip-path=\"url(#pf07a27822b)\" d=\"M 149.960227 348.478125 \nL 155.032955 348.478125 \nL 155.032955 106.104262 \nL 149.960227 106.104262 \nz\n\" style=\"fill:#1f77b4;\"/>\n   </g>\n   <g id=\"patch_22\">\n    <path clip-path=\"url(#pf07a27822b)\" d=\"M 155.032955 348.478125 \nL 160.105682 348.478125 \nL 160.105682 101.925402 \nL 155.032955 101.925402 \nz\n\" style=\"fill:#1f77b4;\"/>\n   </g>\n   <g id=\"patch_23\">\n    <path clip-path=\"url(#pf07a27822b)\" d=\"M 160.105682 348.478125 \nL 165.178409 348.478125 \nL 165.178409 90.781777 \nL 160.105682 90.781777 \nz\n\" style=\"fill:#1f77b4;\"/>\n   </g>\n   <g id=\"patch_24\">\n    <path clip-path=\"url(#pf07a27822b)\" d=\"M 165.178409 348.478125 \nL 170.251136 348.478125 \nL 170.251136 128.391514 \nL 165.178409 128.391514 \nz\n\" style=\"fill:#1f77b4;\"/>\n   </g>\n   <g id=\"patch_25\">\n    <path clip-path=\"url(#pf07a27822b)\" d=\"M 170.251136 348.478125 \nL 175.323864 348.478125 \nL 175.323864 124.212654 \nL 170.251136 124.212654 \nz\n\" style=\"fill:#1f77b4;\"/>\n   </g>\n   <g id=\"patch_26\">\n    <path clip-path=\"url(#pf07a27822b)\" d=\"M 175.323864 348.478125 \nL 180.396591 348.478125 \nL 180.396591 139.53514 \nL 175.323864 139.53514 \nz\n\" style=\"fill:#1f77b4;\"/>\n   </g>\n   <g id=\"patch_27\">\n    <path clip-path=\"url(#pf07a27822b)\" d=\"M 180.396591 348.478125 \nL 185.469318 348.478125 \nL 185.469318 160.429438 \nL 180.396591 160.429438 \nz\n\" style=\"fill:#1f77b4;\"/>\n   </g>\n   <g id=\"patch_28\">\n    <path clip-path=\"url(#pf07a27822b)\" d=\"M 185.469318 348.478125 \nL 190.542045 348.478125 \nL 190.542045 121.426748 \nL 185.469318 121.426748 \nz\n\" style=\"fill:#1f77b4;\"/>\n   </g>\n   <g id=\"patch_29\">\n    <path clip-path=\"url(#pf07a27822b)\" d=\"M 190.542045 348.478125 \nL 195.614773 348.478125 \nL 195.614773 167.394204 \nL 190.542045 167.394204 \nz\n\" style=\"fill:#1f77b4;\"/>\n   </g>\n   <g id=\"patch_30\">\n    <path clip-path=\"url(#pf07a27822b)\" d=\"M 195.614773 348.478125 \nL 200.6875 348.478125 \nL 200.6875 163.215345 \nL 195.614773 163.215345 \nz\n\" style=\"fill:#1f77b4;\"/>\n   </g>\n   <g id=\"patch_31\">\n    <path clip-path=\"url(#pf07a27822b)\" d=\"M 200.6875 348.478125 \nL 205.760227 348.478125 \nL 205.760227 177.144877 \nL 200.6875 177.144877 \nz\n\" style=\"fill:#1f77b4;\"/>\n   </g>\n   <g id=\"patch_32\">\n    <path clip-path=\"url(#pf07a27822b)\" d=\"M 205.760227 348.478125 \nL 210.832955 348.478125 \nL 210.832955 178.53783 \nL 205.760227 178.53783 \nz\n\" style=\"fill:#1f77b4;\"/>\n   </g>\n   <g id=\"patch_33\">\n    <path clip-path=\"url(#pf07a27822b)\" d=\"M 210.832955 348.478125 \nL 215.905682 348.478125 \nL 215.905682 174.358971 \nL 210.832955 174.358971 \nz\n\" style=\"fill:#1f77b4;\"/>\n   </g>\n   <g id=\"patch_34\">\n    <path clip-path=\"url(#pf07a27822b)\" d=\"M 215.905682 348.478125 \nL 220.978409 348.478125 \nL 220.978409 192.467363 \nL 215.905682 192.467363 \nz\n\" style=\"fill:#1f77b4;\"/>\n   </g>\n   <g id=\"patch_35\">\n    <path clip-path=\"url(#pf07a27822b)\" d=\"M 220.978409 348.478125 \nL 226.051136 348.478125 \nL 226.051136 185.502596 \nL 220.978409 185.502596 \nz\n\" style=\"fill:#1f77b4;\"/>\n   </g>\n   <g id=\"patch_36\">\n    <path clip-path=\"url(#pf07a27822b)\" d=\"M 226.051136 348.478125 \nL 231.123864 348.478125 \nL 231.123864 211.968708 \nL 226.051136 211.968708 \nz\n\" style=\"fill:#1f77b4;\"/>\n   </g>\n   <g id=\"patch_37\">\n    <path clip-path=\"url(#pf07a27822b)\" d=\"M 231.123864 348.478125 \nL 236.196591 348.478125 \nL 236.196591 206.396895 \nL 231.123864 206.396895 \nz\n\" style=\"fill:#1f77b4;\"/>\n   </g>\n   <g id=\"patch_38\">\n    <path clip-path=\"url(#pf07a27822b)\" d=\"M 236.196591 348.478125 \nL 241.269318 348.478125 \nL 241.269318 172.966017 \nL 236.196591 172.966017 \nz\n\" style=\"fill:#1f77b4;\"/>\n   </g>\n   <g id=\"patch_39\">\n    <path clip-path=\"url(#pf07a27822b)\" d=\"M 241.269318 348.478125 \nL 246.342045 348.478125 \nL 246.342045 218.933474 \nL 241.269318 218.933474 \nz\n\" style=\"fill:#1f77b4;\"/>\n   </g>\n   <g id=\"patch_40\">\n    <path clip-path=\"url(#pf07a27822b)\" d=\"M 246.342045 348.478125 \nL 251.414773 348.478125 \nL 251.414773 230.0771 \nL 246.342045 230.0771 \nz\n\" style=\"fill:#1f77b4;\"/>\n   </g>\n   <g id=\"patch_41\">\n    <path clip-path=\"url(#pf07a27822b)\" d=\"M 251.414773 348.478125 \nL 256.4875 348.478125 \nL 256.4875 217.540521 \nL 251.414773 217.540521 \nz\n\" style=\"fill:#1f77b4;\"/>\n   </g>\n   <g id=\"patch_42\">\n    <path clip-path=\"url(#pf07a27822b)\" d=\"M 256.4875 348.478125 \nL 261.560227 348.478125 \nL 261.560227 238.434819 \nL 256.4875 238.434819 \nz\n\" style=\"fill:#1f77b4;\"/>\n   </g>\n   <g id=\"patch_43\">\n    <path clip-path=\"url(#pf07a27822b)\" d=\"M 261.560227 348.478125 \nL 266.632955 348.478125 \nL 266.632955 227.291194 \nL 261.560227 227.291194 \nz\n\" style=\"fill:#1f77b4;\"/>\n   </g>\n   <g id=\"patch_44\">\n    <path clip-path=\"url(#pf07a27822b)\" d=\"M 266.632955 348.478125 \nL 271.705682 348.478125 \nL 271.705682 245.399586 \nL 266.632955 245.399586 \nz\n\" style=\"fill:#1f77b4;\"/>\n   </g>\n   <g id=\"patch_45\">\n    <path clip-path=\"url(#pf07a27822b)\" d=\"M 271.705682 348.478125 \nL 276.778409 348.478125 \nL 276.778409 230.0771 \nL 271.705682 230.0771 \nz\n\" style=\"fill:#1f77b4;\"/>\n   </g>\n   <g id=\"patch_46\">\n    <path clip-path=\"url(#pf07a27822b)\" d=\"M 276.778409 348.478125 \nL 281.851136 348.478125 \nL 281.851136 242.613679 \nL 276.778409 242.613679 \nz\n\" style=\"fill:#1f77b4;\"/>\n   </g>\n   <g id=\"patch_47\">\n    <path clip-path=\"url(#pf07a27822b)\" d=\"M 281.851136 348.478125 \nL 286.923864 348.478125 \nL 286.923864 250.971399 \nL 281.851136 250.971399 \nz\n\" style=\"fill:#1f77b4;\"/>\n   </g>\n   <g id=\"patch_48\">\n    <path clip-path=\"url(#pf07a27822b)\" d=\"M 286.923864 348.478125 \nL 291.996591 348.478125 \nL 291.996591 246.792539 \nL 286.923864 246.792539 \nz\n\" style=\"fill:#1f77b4;\"/>\n   </g>\n   <g id=\"patch_49\">\n    <path clip-path=\"url(#pf07a27822b)\" d=\"M 291.996591 348.478125 \nL 297.069318 348.478125 \nL 297.069318 269.079791 \nL 291.996591 269.079791 \nz\n\" style=\"fill:#1f77b4;\"/>\n   </g>\n   <g id=\"patch_50\">\n    <path clip-path=\"url(#pf07a27822b)\" d=\"M 297.069318 348.478125 \nL 302.142045 348.478125 \nL 302.142045 274.651604 \nL 297.069318 274.651604 \nz\n\" style=\"fill:#1f77b4;\"/>\n   </g>\n   <g id=\"patch_51\">\n    <path clip-path=\"url(#pf07a27822b)\" d=\"M 302.142045 348.478125 \nL 307.214773 348.478125 \nL 307.214773 277.43751 \nL 302.142045 277.43751 \nz\n\" style=\"fill:#1f77b4;\"/>\n   </g>\n   <g id=\"patch_52\">\n    <path clip-path=\"url(#pf07a27822b)\" d=\"M 307.214773 348.478125 \nL 312.2875 348.478125 \nL 312.2875 281.61637 \nL 307.214773 281.61637 \nz\n\" style=\"fill:#1f77b4;\"/>\n   </g>\n   <g id=\"patch_53\">\n    <path clip-path=\"url(#pf07a27822b)\" d=\"M 312.2875 348.478125 \nL 317.360227 348.478125 \nL 317.360227 284.402276 \nL 312.2875 284.402276 \nz\n\" style=\"fill:#1f77b4;\"/>\n   </g>\n   <g id=\"patch_54\">\n    <path clip-path=\"url(#pf07a27822b)\" d=\"M 317.360227 348.478125 \nL 322.432955 348.478125 \nL 322.432955 315.047247 \nL 317.360227 315.047247 \nz\n\" style=\"fill:#1f77b4;\"/>\n   </g>\n   <g id=\"patch_55\">\n    <path clip-path=\"url(#pf07a27822b)\" d=\"M 322.432955 348.478125 \nL 327.505682 348.478125 \nL 327.505682 301.117715 \nL 322.432955 301.117715 \nz\n\" style=\"fill:#1f77b4;\"/>\n   </g>\n   <g id=\"patch_56\">\n    <path clip-path=\"url(#pf07a27822b)\" d=\"M 327.505682 348.478125 \nL 332.578409 348.478125 \nL 332.578409 302.510668 \nL 327.505682 302.510668 \nz\n\" style=\"fill:#1f77b4;\"/>\n   </g>\n   <g id=\"patch_57\">\n    <path clip-path=\"url(#pf07a27822b)\" d=\"M 332.578409 348.478125 \nL 337.651136 348.478125 \nL 337.651136 323.404967 \nL 332.578409 323.404967 \nz\n\" style=\"fill:#1f77b4;\"/>\n   </g>\n   <g id=\"patch_58\">\n    <path clip-path=\"url(#pf07a27822b)\" d=\"M 337.651136 348.478125 \nL 342.723864 348.478125 \nL 342.723864 310.868388 \nL 337.651136 310.868388 \nz\n\" style=\"fill:#1f77b4;\"/>\n   </g>\n   <g id=\"patch_59\">\n    <path clip-path=\"url(#pf07a27822b)\" d=\"M 342.723864 348.478125 \nL 347.796591 348.478125 \nL 347.796591 312.261341 \nL 342.723864 312.261341 \nz\n\" style=\"fill:#1f77b4;\"/>\n   </g>\n   <g id=\"patch_60\">\n    <path clip-path=\"url(#pf07a27822b)\" d=\"M 347.796591 348.478125 \nL 352.869318 348.478125 \nL 352.869318 327.583826 \nL 347.796591 327.583826 \nz\n\" style=\"fill:#1f77b4;\"/>\n   </g>\n   <g id=\"patch_61\">\n    <path clip-path=\"url(#pf07a27822b)\" d=\"M 352.869318 348.478125 \nL 357.942045 348.478125 \nL 357.942045 328.97678 \nL 352.869318 328.97678 \nz\n\" style=\"fill:#1f77b4;\"/>\n   </g>\n   <g id=\"patch_62\">\n    <path clip-path=\"url(#pf07a27822b)\" d=\"M 357.942045 348.478125 \nL 363.014773 348.478125 \nL 363.014773 331.762686 \nL 357.942045 331.762686 \nz\n\" style=\"fill:#1f77b4;\"/>\n   </g>\n   <g id=\"patch_63\">\n    <path clip-path=\"url(#pf07a27822b)\" d=\"M 363.014773 348.478125 \nL 368.0875 348.478125 \nL 368.0875 335.941546 \nL 363.014773 335.941546 \nz\n\" style=\"fill:#1f77b4;\"/>\n   </g>\n   <g id=\"patch_64\">\n    <path clip-path=\"url(#pf07a27822b)\" d=\"M 368.0875 348.478125 \nL 373.160227 348.478125 \nL 373.160227 342.906312 \nL 368.0875 342.906312 \nz\n\" style=\"fill:#1f77b4;\"/>\n   </g>\n   <g id=\"patch_65\">\n    <path clip-path=\"url(#pf07a27822b)\" d=\"M 373.160227 348.478125 \nL 378.232955 348.478125 \nL 378.232955 340.120406 \nL 373.160227 340.120406 \nz\n\" style=\"fill:#1f77b4;\"/>\n   </g>\n   <g id=\"patch_66\">\n    <path clip-path=\"url(#pf07a27822b)\" d=\"M 378.232955 348.478125 \nL 383.305682 348.478125 \nL 383.305682 327.583826 \nL 378.232955 327.583826 \nz\n\" style=\"fill:#1f77b4;\"/>\n   </g>\n   <g id=\"patch_67\">\n    <path clip-path=\"url(#pf07a27822b)\" d=\"M 383.305682 348.478125 \nL 388.378409 348.478125 \nL 388.378409 334.548593 \nL 383.305682 334.548593 \nz\n\" style=\"fill:#1f77b4;\"/>\n   </g>\n   <g id=\"patch_68\">\n    <path clip-path=\"url(#pf07a27822b)\" d=\"M 388.378409 348.478125 \nL 393.451136 348.478125 \nL 393.451136 334.548593 \nL 388.378409 334.548593 \nz\n\" style=\"fill:#1f77b4;\"/>\n   </g>\n   <g id=\"patch_69\">\n    <path clip-path=\"url(#pf07a27822b)\" d=\"M 393.451136 348.478125 \nL 398.523864 348.478125 \nL 398.523864 340.120406 \nL 393.451136 340.120406 \nz\n\" style=\"fill:#1f77b4;\"/>\n   </g>\n   <g id=\"patch_70\">\n    <path clip-path=\"url(#pf07a27822b)\" d=\"M 398.523864 348.478125 \nL 403.596591 348.478125 \nL 403.596591 338.727452 \nL 398.523864 338.727452 \nz\n\" style=\"fill:#1f77b4;\"/>\n   </g>\n   <g id=\"patch_71\">\n    <path clip-path=\"url(#pf07a27822b)\" d=\"M 403.596591 348.478125 \nL 408.669318 348.478125 \nL 408.669318 345.692219 \nL 403.596591 345.692219 \nz\n\" style=\"fill:#1f77b4;\"/>\n   </g>\n   <g id=\"patch_72\">\n    <path clip-path=\"url(#pf07a27822b)\" d=\"M 408.669318 348.478125 \nL 413.742045 348.478125 \nL 413.742045 341.513359 \nL 408.669318 341.513359 \nz\n\" style=\"fill:#1f77b4;\"/>\n   </g>\n   <g id=\"patch_73\">\n    <path clip-path=\"url(#pf07a27822b)\" d=\"M 413.742045 348.478125 \nL 418.814773 348.478125 \nL 418.814773 342.906312 \nL 413.742045 342.906312 \nz\n\" style=\"fill:#1f77b4;\"/>\n   </g>\n   <g id=\"patch_74\">\n    <path clip-path=\"url(#pf07a27822b)\" d=\"M 418.814773 348.478125 \nL 423.8875 348.478125 \nL 423.8875 344.299265 \nL 418.814773 344.299265 \nz\n\" style=\"fill:#1f77b4;\"/>\n   </g>\n   <g id=\"patch_75\">\n    <path clip-path=\"url(#pf07a27822b)\" d=\"M 423.8875 348.478125 \nL 428.960227 348.478125 \nL 428.960227 347.085172 \nL 423.8875 347.085172 \nz\n\" style=\"fill:#1f77b4;\"/>\n   </g>\n   <g id=\"patch_76\">\n    <path clip-path=\"url(#pf07a27822b)\" d=\"M 428.960227 348.478125 \nL 434.032955 348.478125 \nL 434.032955 347.085172 \nL 428.960227 347.085172 \nz\n\" style=\"fill:#1f77b4;\"/>\n   </g>\n   <g id=\"patch_77\">\n    <path clip-path=\"url(#pf07a27822b)\" d=\"M 434.032955 348.478125 \nL 439.105682 348.478125 \nL 439.105682 345.692219 \nL 434.032955 345.692219 \nz\n\" style=\"fill:#1f77b4;\"/>\n   </g>\n   <g id=\"patch_78\">\n    <path clip-path=\"url(#pf07a27822b)\" d=\"M 439.105682 348.478125 \nL 444.178409 348.478125 \nL 444.178409 344.299265 \nL 439.105682 344.299265 \nz\n\" style=\"fill:#1f77b4;\"/>\n   </g>\n   <g id=\"patch_79\">\n    <path clip-path=\"url(#pf07a27822b)\" d=\"M 444.178409 348.478125 \nL 449.251136 348.478125 \nL 449.251136 347.085172 \nL 444.178409 347.085172 \nz\n\" style=\"fill:#1f77b4;\"/>\n   </g>\n   <g id=\"patch_80\">\n    <path clip-path=\"url(#pf07a27822b)\" d=\"M 449.251136 348.478125 \nL 454.323864 348.478125 \nL 454.323864 344.299265 \nL 449.251136 344.299265 \nz\n\" style=\"fill:#1f77b4;\"/>\n   </g>\n   <g id=\"patch_81\">\n    <path clip-path=\"url(#pf07a27822b)\" d=\"M 454.323864 348.478125 \nL 459.396591 348.478125 \nL 459.396591 345.692219 \nL 454.323864 345.692219 \nz\n\" style=\"fill:#1f77b4;\"/>\n   </g>\n   <g id=\"patch_82\">\n    <path clip-path=\"url(#pf07a27822b)\" d=\"M 459.396591 348.478125 \nL 464.469318 348.478125 \nL 464.469318 347.085172 \nL 459.396591 347.085172 \nz\n\" style=\"fill:#1f77b4;\"/>\n   </g>\n   <g id=\"patch_83\">\n    <path clip-path=\"url(#pf07a27822b)\" d=\"M 464.469318 348.478125 \nL 469.542045 348.478125 \nL 469.542045 347.085172 \nL 464.469318 347.085172 \nz\n\" style=\"fill:#1f77b4;\"/>\n   </g>\n   <g id=\"patch_84\">\n    <path clip-path=\"url(#pf07a27822b)\" d=\"M 469.542045 348.478125 \nL 474.614773 348.478125 \nL 474.614773 344.299265 \nL 469.542045 344.299265 \nz\n\" style=\"fill:#1f77b4;\"/>\n   </g>\n   <g id=\"patch_85\">\n    <path clip-path=\"url(#pf07a27822b)\" d=\"M 474.614773 348.478125 \nL 479.6875 348.478125 \nL 479.6875 347.085172 \nL 474.614773 347.085172 \nz\n\" style=\"fill:#1f77b4;\"/>\n   </g>\n   <g id=\"patch_86\">\n    <path clip-path=\"url(#pf07a27822b)\" d=\"M 479.6875 348.478125 \nL 484.760227 348.478125 \nL 484.760227 348.478125 \nL 479.6875 348.478125 \nz\n\" style=\"fill:#1f77b4;\"/>\n   </g>\n   <g id=\"patch_87\">\n    <path clip-path=\"url(#pf07a27822b)\" d=\"M 484.760227 348.478125 \nL 489.832955 348.478125 \nL 489.832955 348.478125 \nL 484.760227 348.478125 \nz\n\" style=\"fill:#1f77b4;\"/>\n   </g>\n   <g id=\"patch_88\">\n    <path clip-path=\"url(#pf07a27822b)\" d=\"M 489.832955 348.478125 \nL 494.905682 348.478125 \nL 494.905682 348.478125 \nL 489.832955 348.478125 \nz\n\" style=\"fill:#1f77b4;\"/>\n   </g>\n   <g id=\"patch_89\">\n    <path clip-path=\"url(#pf07a27822b)\" d=\"M 494.905682 348.478125 \nL 499.978409 348.478125 \nL 499.978409 348.478125 \nL 494.905682 348.478125 \nz\n\" style=\"fill:#1f77b4;\"/>\n   </g>\n   <g id=\"patch_90\">\n    <path clip-path=\"url(#pf07a27822b)\" d=\"M 499.978409 348.478125 \nL 505.051136 348.478125 \nL 505.051136 348.478125 \nL 499.978409 348.478125 \nz\n\" style=\"fill:#1f77b4;\"/>\n   </g>\n   <g id=\"patch_91\">\n    <path clip-path=\"url(#pf07a27822b)\" d=\"M 505.051136 348.478125 \nL 510.123864 348.478125 \nL 510.123864 348.478125 \nL 505.051136 348.478125 \nz\n\" style=\"fill:#1f77b4;\"/>\n   </g>\n   <g id=\"patch_92\">\n    <path clip-path=\"url(#pf07a27822b)\" d=\"M 510.123864 348.478125 \nL 515.196591 348.478125 \nL 515.196591 347.085172 \nL 510.123864 347.085172 \nz\n\" style=\"fill:#1f77b4;\"/>\n   </g>\n   <g id=\"patch_93\">\n    <path clip-path=\"url(#pf07a27822b)\" d=\"M 515.196591 348.478125 \nL 520.269318 348.478125 \nL 520.269318 348.478125 \nL 515.196591 348.478125 \nz\n\" style=\"fill:#1f77b4;\"/>\n   </g>\n   <g id=\"patch_94\">\n    <path clip-path=\"url(#pf07a27822b)\" d=\"M 520.269318 348.478125 \nL 525.342045 348.478125 \nL 525.342045 348.478125 \nL 520.269318 348.478125 \nz\n\" style=\"fill:#1f77b4;\"/>\n   </g>\n   <g id=\"patch_95\">\n    <path clip-path=\"url(#pf07a27822b)\" d=\"M 525.342045 348.478125 \nL 530.414773 348.478125 \nL 530.414773 348.478125 \nL 525.342045 348.478125 \nz\n\" style=\"fill:#1f77b4;\"/>\n   </g>\n   <g id=\"patch_96\">\n    <path clip-path=\"url(#pf07a27822b)\" d=\"M 530.414773 348.478125 \nL 535.4875 348.478125 \nL 535.4875 348.478125 \nL 530.414773 348.478125 \nz\n\" style=\"fill:#1f77b4;\"/>\n   </g>\n   <g id=\"patch_97\">\n    <path clip-path=\"url(#pf07a27822b)\" d=\"M 535.4875 348.478125 \nL 540.560227 348.478125 \nL 540.560227 348.478125 \nL 535.4875 348.478125 \nz\n\" style=\"fill:#1f77b4;\"/>\n   </g>\n   <g id=\"patch_98\">\n    <path clip-path=\"url(#pf07a27822b)\" d=\"M 540.560227 348.478125 \nL 545.632955 348.478125 \nL 545.632955 348.478125 \nL 540.560227 348.478125 \nz\n\" style=\"fill:#1f77b4;\"/>\n   </g>\n   <g id=\"patch_99\">\n    <path clip-path=\"url(#pf07a27822b)\" d=\"M 545.632955 348.478125 \nL 550.705682 348.478125 \nL 550.705682 348.478125 \nL 545.632955 348.478125 \nz\n\" style=\"fill:#1f77b4;\"/>\n   </g>\n   <g id=\"patch_100\">\n    <path clip-path=\"url(#pf07a27822b)\" d=\"M 550.705682 348.478125 \nL 555.778409 348.478125 \nL 555.778409 348.478125 \nL 550.705682 348.478125 \nz\n\" style=\"fill:#1f77b4;\"/>\n   </g>\n   <g id=\"patch_101\">\n    <path clip-path=\"url(#pf07a27822b)\" d=\"M 555.778409 348.478125 \nL 560.851136 348.478125 \nL 560.851136 347.085172 \nL 555.778409 347.085172 \nz\n\" style=\"fill:#1f77b4;\"/>\n   </g>\n   <g id=\"patch_102\">\n    <path clip-path=\"url(#pf07a27822b)\" d=\"M 560.851136 348.478125 \nL 565.923864 348.478125 \nL 565.923864 347.085172 \nL 560.851136 347.085172 \nz\n\" style=\"fill:#1f77b4;\"/>\n   </g>\n   <g id=\"matplotlib.axis_1\">\n    <g id=\"xtick_1\">\n     <g id=\"line2d_1\">\n      <defs>\n       <path d=\"M 0 0 \nL 0 3.5 \n\" id=\"m168ecf4deb\" style=\"stroke:#000000;stroke-width:0.8;\"/>\n      </defs>\n      <g>\n       <use style=\"stroke:#000000;stroke-width:0.8;\" x=\"58.651136\" xlink:href=\"#m168ecf4deb\" y=\"348.478125\"/>\n      </g>\n     </g>\n     <g id=\"text_1\">\n      <!-- 0 -->\n      <g transform=\"translate(55.469886 363.076563)scale(0.1 -0.1)\">\n       <defs>\n        <path d=\"M 2034 4250 \nQ 1547 4250 1301 3770 \nQ 1056 3291 1056 2328 \nQ 1056 1369 1301 889 \nQ 1547 409 2034 409 \nQ 2525 409 2770 889 \nQ 3016 1369 3016 2328 \nQ 3016 3291 2770 3770 \nQ 2525 4250 2034 4250 \nz\nM 2034 4750 \nQ 2819 4750 3233 4129 \nQ 3647 3509 3647 2328 \nQ 3647 1150 3233 529 \nQ 2819 -91 2034 -91 \nQ 1250 -91 836 529 \nQ 422 1150 422 2328 \nQ 422 3509 836 4129 \nQ 1250 4750 2034 4750 \nz\n\" id=\"DejaVuSans-30\" transform=\"scale(0.015625)\"/>\n       </defs>\n       <use xlink:href=\"#DejaVuSans-30\"/>\n      </g>\n     </g>\n    </g>\n    <g id=\"xtick_2\">\n     <g id=\"line2d_2\">\n      <g>\n       <use style=\"stroke:#000000;stroke-width:0.8;\" x=\"182.376192\" xlink:href=\"#m168ecf4deb\" y=\"348.478125\"/>\n      </g>\n     </g>\n     <g id=\"text_2\">\n      <!-- 200 -->\n      <g transform=\"translate(172.832442 363.076563)scale(0.1 -0.1)\">\n       <defs>\n        <path d=\"M 1228 531 \nL 3431 531 \nL 3431 0 \nL 469 0 \nL 469 531 \nQ 828 903 1448 1529 \nQ 2069 2156 2228 2338 \nQ 2531 2678 2651 2914 \nQ 2772 3150 2772 3378 \nQ 2772 3750 2511 3984 \nQ 2250 4219 1831 4219 \nQ 1534 4219 1204 4116 \nQ 875 4013 500 3803 \nL 500 4441 \nQ 881 4594 1212 4672 \nQ 1544 4750 1819 4750 \nQ 2544 4750 2975 4387 \nQ 3406 4025 3406 3419 \nQ 3406 3131 3298 2873 \nQ 3191 2616 2906 2266 \nQ 2828 2175 2409 1742 \nQ 1991 1309 1228 531 \nz\n\" id=\"DejaVuSans-32\" transform=\"scale(0.015625)\"/>\n       </defs>\n       <use xlink:href=\"#DejaVuSans-32\"/>\n       <use x=\"63.623047\" xlink:href=\"#DejaVuSans-30\"/>\n       <use x=\"127.246094\" xlink:href=\"#DejaVuSans-30\"/>\n      </g>\n     </g>\n    </g>\n    <g id=\"xtick_3\">\n     <g id=\"line2d_3\">\n      <g>\n       <use style=\"stroke:#000000;stroke-width:0.8;\" x=\"306.101247\" xlink:href=\"#m168ecf4deb\" y=\"348.478125\"/>\n      </g>\n     </g>\n     <g id=\"text_3\">\n      <!-- 400 -->\n      <g transform=\"translate(296.557497 363.076563)scale(0.1 -0.1)\">\n       <defs>\n        <path d=\"M 2419 4116 \nL 825 1625 \nL 2419 1625 \nL 2419 4116 \nz\nM 2253 4666 \nL 3047 4666 \nL 3047 1625 \nL 3713 1625 \nL 3713 1100 \nL 3047 1100 \nL 3047 0 \nL 2419 0 \nL 2419 1100 \nL 313 1100 \nL 313 1709 \nL 2253 4666 \nz\n\" id=\"DejaVuSans-34\" transform=\"scale(0.015625)\"/>\n       </defs>\n       <use xlink:href=\"#DejaVuSans-34\"/>\n       <use x=\"63.623047\" xlink:href=\"#DejaVuSans-30\"/>\n       <use x=\"127.246094\" xlink:href=\"#DejaVuSans-30\"/>\n      </g>\n     </g>\n    </g>\n    <g id=\"xtick_4\">\n     <g id=\"line2d_4\">\n      <g>\n       <use style=\"stroke:#000000;stroke-width:0.8;\" x=\"429.826303\" xlink:href=\"#m168ecf4deb\" y=\"348.478125\"/>\n      </g>\n     </g>\n     <g id=\"text_4\">\n      <!-- 600 -->\n      <g transform=\"translate(420.282553 363.076563)scale(0.1 -0.1)\">\n       <defs>\n        <path d=\"M 2113 2584 \nQ 1688 2584 1439 2293 \nQ 1191 2003 1191 1497 \nQ 1191 994 1439 701 \nQ 1688 409 2113 409 \nQ 2538 409 2786 701 \nQ 3034 994 3034 1497 \nQ 3034 2003 2786 2293 \nQ 2538 2584 2113 2584 \nz\nM 3366 4563 \nL 3366 3988 \nQ 3128 4100 2886 4159 \nQ 2644 4219 2406 4219 \nQ 1781 4219 1451 3797 \nQ 1122 3375 1075 2522 \nQ 1259 2794 1537 2939 \nQ 1816 3084 2150 3084 \nQ 2853 3084 3261 2657 \nQ 3669 2231 3669 1497 \nQ 3669 778 3244 343 \nQ 2819 -91 2113 -91 \nQ 1303 -91 875 529 \nQ 447 1150 447 2328 \nQ 447 3434 972 4092 \nQ 1497 4750 2381 4750 \nQ 2619 4750 2861 4703 \nQ 3103 4656 3366 4563 \nz\n\" id=\"DejaVuSans-36\" transform=\"scale(0.015625)\"/>\n       </defs>\n       <use xlink:href=\"#DejaVuSans-36\"/>\n       <use x=\"63.623047\" xlink:href=\"#DejaVuSans-30\"/>\n       <use x=\"127.246094\" xlink:href=\"#DejaVuSans-30\"/>\n      </g>\n     </g>\n    </g>\n    <g id=\"xtick_5\">\n     <g id=\"line2d_5\">\n      <g>\n       <use style=\"stroke:#000000;stroke-width:0.8;\" x=\"553.551358\" xlink:href=\"#m168ecf4deb\" y=\"348.478125\"/>\n      </g>\n     </g>\n     <g id=\"text_5\">\n      <!-- 800 -->\n      <g transform=\"translate(544.007608 363.076563)scale(0.1 -0.1)\">\n       <defs>\n        <path d=\"M 2034 2216 \nQ 1584 2216 1326 1975 \nQ 1069 1734 1069 1313 \nQ 1069 891 1326 650 \nQ 1584 409 2034 409 \nQ 2484 409 2743 651 \nQ 3003 894 3003 1313 \nQ 3003 1734 2745 1975 \nQ 2488 2216 2034 2216 \nz\nM 1403 2484 \nQ 997 2584 770 2862 \nQ 544 3141 544 3541 \nQ 544 4100 942 4425 \nQ 1341 4750 2034 4750 \nQ 2731 4750 3128 4425 \nQ 3525 4100 3525 3541 \nQ 3525 3141 3298 2862 \nQ 3072 2584 2669 2484 \nQ 3125 2378 3379 2068 \nQ 3634 1759 3634 1313 \nQ 3634 634 3220 271 \nQ 2806 -91 2034 -91 \nQ 1263 -91 848 271 \nQ 434 634 434 1313 \nQ 434 1759 690 2068 \nQ 947 2378 1403 2484 \nz\nM 1172 3481 \nQ 1172 3119 1398 2916 \nQ 1625 2713 2034 2713 \nQ 2441 2713 2670 2916 \nQ 2900 3119 2900 3481 \nQ 2900 3844 2670 4047 \nQ 2441 4250 2034 4250 \nQ 1625 4250 1398 4047 \nQ 1172 3844 1172 3481 \nz\n\" id=\"DejaVuSans-38\" transform=\"scale(0.015625)\"/>\n       </defs>\n       <use xlink:href=\"#DejaVuSans-38\"/>\n       <use x=\"63.623047\" xlink:href=\"#DejaVuSans-30\"/>\n       <use x=\"127.246094\" xlink:href=\"#DejaVuSans-30\"/>\n      </g>\n     </g>\n    </g>\n   </g>\n   <g id=\"matplotlib.axis_2\">\n    <g id=\"ytick_1\">\n     <g id=\"line2d_6\">\n      <defs>\n       <path d=\"M 0 0 \nL -3.5 0 \n\" id=\"m4ccb249d91\" style=\"stroke:#000000;stroke-width:0.8;\"/>\n      </defs>\n      <g>\n       <use style=\"stroke:#000000;stroke-width:0.8;\" x=\"33.2875\" xlink:href=\"#m4ccb249d91\" y=\"348.478125\"/>\n      </g>\n     </g>\n     <g id=\"text_6\">\n      <!-- 0 -->\n      <g transform=\"translate(19.925 352.277344)scale(0.1 -0.1)\">\n       <use xlink:href=\"#DejaVuSans-30\"/>\n      </g>\n     </g>\n    </g>\n    <g id=\"ytick_2\">\n     <g id=\"line2d_7\">\n      <g>\n       <use style=\"stroke:#000000;stroke-width:0.8;\" x=\"33.2875\" xlink:href=\"#m4ccb249d91\" y=\"278.830463\"/>\n      </g>\n     </g>\n     <g id=\"text_7\">\n      <!-- 50 -->\n      <g transform=\"translate(13.5625 282.629682)scale(0.1 -0.1)\">\n       <defs>\n        <path d=\"M 691 4666 \nL 3169 4666 \nL 3169 4134 \nL 1269 4134 \nL 1269 2991 \nQ 1406 3038 1543 3061 \nQ 1681 3084 1819 3084 \nQ 2600 3084 3056 2656 \nQ 3513 2228 3513 1497 \nQ 3513 744 3044 326 \nQ 2575 -91 1722 -91 \nQ 1428 -91 1123 -41 \nQ 819 9 494 109 \nL 494 744 \nQ 775 591 1075 516 \nQ 1375 441 1709 441 \nQ 2250 441 2565 725 \nQ 2881 1009 2881 1497 \nQ 2881 1984 2565 2268 \nQ 2250 2553 1709 2553 \nQ 1456 2553 1204 2497 \nQ 953 2441 691 2322 \nL 691 4666 \nz\n\" id=\"DejaVuSans-35\" transform=\"scale(0.015625)\"/>\n       </defs>\n       <use xlink:href=\"#DejaVuSans-35\"/>\n       <use x=\"63.623047\" xlink:href=\"#DejaVuSans-30\"/>\n      </g>\n     </g>\n    </g>\n    <g id=\"ytick_3\">\n     <g id=\"line2d_8\">\n      <g>\n       <use style=\"stroke:#000000;stroke-width:0.8;\" x=\"33.2875\" xlink:href=\"#m4ccb249d91\" y=\"209.182801\"/>\n      </g>\n     </g>\n     <g id=\"text_8\">\n      <!-- 100 -->\n      <g transform=\"translate(7.2 212.98202)scale(0.1 -0.1)\">\n       <defs>\n        <path d=\"M 794 531 \nL 1825 531 \nL 1825 4091 \nL 703 3866 \nL 703 4441 \nL 1819 4666 \nL 2450 4666 \nL 2450 531 \nL 3481 531 \nL 3481 0 \nL 794 0 \nL 794 531 \nz\n\" id=\"DejaVuSans-31\" transform=\"scale(0.015625)\"/>\n       </defs>\n       <use xlink:href=\"#DejaVuSans-31\"/>\n       <use x=\"63.623047\" xlink:href=\"#DejaVuSans-30\"/>\n       <use x=\"127.246094\" xlink:href=\"#DejaVuSans-30\"/>\n      </g>\n     </g>\n    </g>\n    <g id=\"ytick_4\">\n     <g id=\"line2d_9\">\n      <g>\n       <use style=\"stroke:#000000;stroke-width:0.8;\" x=\"33.2875\" xlink:href=\"#m4ccb249d91\" y=\"139.53514\"/>\n      </g>\n     </g>\n     <g id=\"text_9\">\n      <!-- 150 -->\n      <g transform=\"translate(7.2 143.334358)scale(0.1 -0.1)\">\n       <use xlink:href=\"#DejaVuSans-31\"/>\n       <use x=\"63.623047\" xlink:href=\"#DejaVuSans-35\"/>\n       <use x=\"127.246094\" xlink:href=\"#DejaVuSans-30\"/>\n      </g>\n     </g>\n    </g>\n    <g id=\"ytick_5\">\n     <g id=\"line2d_10\">\n      <g>\n       <use style=\"stroke:#000000;stroke-width:0.8;\" x=\"33.2875\" xlink:href=\"#m4ccb249d91\" y=\"69.887478\"/>\n      </g>\n     </g>\n     <g id=\"text_10\">\n      <!-- 200 -->\n      <g transform=\"translate(7.2 73.686697)scale(0.1 -0.1)\">\n       <use xlink:href=\"#DejaVuSans-32\"/>\n       <use x=\"63.623047\" xlink:href=\"#DejaVuSans-30\"/>\n       <use x=\"127.246094\" xlink:href=\"#DejaVuSans-30\"/>\n      </g>\n     </g>\n    </g>\n   </g>\n   <g id=\"patch_103\">\n    <path d=\"M 33.2875 348.478125 \nL 33.2875 22.318125 \n\" style=\"fill:none;stroke:#000000;stroke-linecap:square;stroke-linejoin:miter;stroke-width:0.8;\"/>\n   </g>\n   <g id=\"patch_104\">\n    <path d=\"M 591.2875 348.478125 \nL 591.2875 22.318125 \n\" style=\"fill:none;stroke:#000000;stroke-linecap:square;stroke-linejoin:miter;stroke-width:0.8;\"/>\n   </g>\n   <g id=\"patch_105\">\n    <path d=\"M 33.2875 348.478125 \nL 591.2875 348.478125 \n\" style=\"fill:none;stroke:#000000;stroke-linecap:square;stroke-linejoin:miter;stroke-width:0.8;\"/>\n   </g>\n   <g id=\"patch_106\">\n    <path d=\"M 33.2875 22.318125 \nL 591.2875 22.318125 \n\" style=\"fill:none;stroke:#000000;stroke-linecap:square;stroke-linejoin:miter;stroke-width:0.8;\"/>\n   </g>\n   <g id=\"text_11\">\n    <!-- Distribution - Length of Synopsis -->\n    <g transform=\"translate(214.451875 16.318125)scale(0.12 -0.12)\">\n     <defs>\n      <path d=\"M 1259 4147 \nL 1259 519 \nL 2022 519 \nQ 2988 519 3436 956 \nQ 3884 1394 3884 2338 \nQ 3884 3275 3436 3711 \nQ 2988 4147 2022 4147 \nL 1259 4147 \nz\nM 628 4666 \nL 1925 4666 \nQ 3281 4666 3915 4102 \nQ 4550 3538 4550 2338 \nQ 4550 1131 3912 565 \nQ 3275 0 1925 0 \nL 628 0 \nL 628 4666 \nz\n\" id=\"DejaVuSans-44\" transform=\"scale(0.015625)\"/>\n      <path d=\"M 603 3500 \nL 1178 3500 \nL 1178 0 \nL 603 0 \nL 603 3500 \nz\nM 603 4863 \nL 1178 4863 \nL 1178 4134 \nL 603 4134 \nL 603 4863 \nz\n\" id=\"DejaVuSans-69\" transform=\"scale(0.015625)\"/>\n      <path d=\"M 2834 3397 \nL 2834 2853 \nQ 2591 2978 2328 3040 \nQ 2066 3103 1784 3103 \nQ 1356 3103 1142 2972 \nQ 928 2841 928 2578 \nQ 928 2378 1081 2264 \nQ 1234 2150 1697 2047 \nL 1894 2003 \nQ 2506 1872 2764 1633 \nQ 3022 1394 3022 966 \nQ 3022 478 2636 193 \nQ 2250 -91 1575 -91 \nQ 1294 -91 989 -36 \nQ 684 19 347 128 \nL 347 722 \nQ 666 556 975 473 \nQ 1284 391 1588 391 \nQ 1994 391 2212 530 \nQ 2431 669 2431 922 \nQ 2431 1156 2273 1281 \nQ 2116 1406 1581 1522 \nL 1381 1569 \nQ 847 1681 609 1914 \nQ 372 2147 372 2553 \nQ 372 3047 722 3315 \nQ 1072 3584 1716 3584 \nQ 2034 3584 2315 3537 \nQ 2597 3491 2834 3397 \nz\n\" id=\"DejaVuSans-73\" transform=\"scale(0.015625)\"/>\n      <path d=\"M 1172 4494 \nL 1172 3500 \nL 2356 3500 \nL 2356 3053 \nL 1172 3053 \nL 1172 1153 \nQ 1172 725 1289 603 \nQ 1406 481 1766 481 \nL 2356 481 \nL 2356 0 \nL 1766 0 \nQ 1100 0 847 248 \nQ 594 497 594 1153 \nL 594 3053 \nL 172 3053 \nL 172 3500 \nL 594 3500 \nL 594 4494 \nL 1172 4494 \nz\n\" id=\"DejaVuSans-74\" transform=\"scale(0.015625)\"/>\n      <path d=\"M 2631 2963 \nQ 2534 3019 2420 3045 \nQ 2306 3072 2169 3072 \nQ 1681 3072 1420 2755 \nQ 1159 2438 1159 1844 \nL 1159 0 \nL 581 0 \nL 581 3500 \nL 1159 3500 \nL 1159 2956 \nQ 1341 3275 1631 3429 \nQ 1922 3584 2338 3584 \nQ 2397 3584 2469 3576 \nQ 2541 3569 2628 3553 \nL 2631 2963 \nz\n\" id=\"DejaVuSans-72\" transform=\"scale(0.015625)\"/>\n      <path d=\"M 3116 1747 \nQ 3116 2381 2855 2742 \nQ 2594 3103 2138 3103 \nQ 1681 3103 1420 2742 \nQ 1159 2381 1159 1747 \nQ 1159 1113 1420 752 \nQ 1681 391 2138 391 \nQ 2594 391 2855 752 \nQ 3116 1113 3116 1747 \nz\nM 1159 2969 \nQ 1341 3281 1617 3432 \nQ 1894 3584 2278 3584 \nQ 2916 3584 3314 3078 \nQ 3713 2572 3713 1747 \nQ 3713 922 3314 415 \nQ 2916 -91 2278 -91 \nQ 1894 -91 1617 61 \nQ 1341 213 1159 525 \nL 1159 0 \nL 581 0 \nL 581 4863 \nL 1159 4863 \nL 1159 2969 \nz\n\" id=\"DejaVuSans-62\" transform=\"scale(0.015625)\"/>\n      <path d=\"M 544 1381 \nL 544 3500 \nL 1119 3500 \nL 1119 1403 \nQ 1119 906 1312 657 \nQ 1506 409 1894 409 \nQ 2359 409 2629 706 \nQ 2900 1003 2900 1516 \nL 2900 3500 \nL 3475 3500 \nL 3475 0 \nL 2900 0 \nL 2900 538 \nQ 2691 219 2414 64 \nQ 2138 -91 1772 -91 \nQ 1169 -91 856 284 \nQ 544 659 544 1381 \nz\nM 1991 3584 \nL 1991 3584 \nz\n\" id=\"DejaVuSans-75\" transform=\"scale(0.015625)\"/>\n      <path d=\"M 1959 3097 \nQ 1497 3097 1228 2736 \nQ 959 2375 959 1747 \nQ 959 1119 1226 758 \nQ 1494 397 1959 397 \nQ 2419 397 2687 759 \nQ 2956 1122 2956 1747 \nQ 2956 2369 2687 2733 \nQ 2419 3097 1959 3097 \nz\nM 1959 3584 \nQ 2709 3584 3137 3096 \nQ 3566 2609 3566 1747 \nQ 3566 888 3137 398 \nQ 2709 -91 1959 -91 \nQ 1206 -91 779 398 \nQ 353 888 353 1747 \nQ 353 2609 779 3096 \nQ 1206 3584 1959 3584 \nz\n\" id=\"DejaVuSans-6f\" transform=\"scale(0.015625)\"/>\n      <path d=\"M 3513 2113 \nL 3513 0 \nL 2938 0 \nL 2938 2094 \nQ 2938 2591 2744 2837 \nQ 2550 3084 2163 3084 \nQ 1697 3084 1428 2787 \nQ 1159 2491 1159 1978 \nL 1159 0 \nL 581 0 \nL 581 3500 \nL 1159 3500 \nL 1159 2956 \nQ 1366 3272 1645 3428 \nQ 1925 3584 2291 3584 \nQ 2894 3584 3203 3211 \nQ 3513 2838 3513 2113 \nz\n\" id=\"DejaVuSans-6e\" transform=\"scale(0.015625)\"/>\n      <path id=\"DejaVuSans-20\" transform=\"scale(0.015625)\"/>\n      <path d=\"M 313 2009 \nL 1997 2009 \nL 1997 1497 \nL 313 1497 \nL 313 2009 \nz\n\" id=\"DejaVuSans-2d\" transform=\"scale(0.015625)\"/>\n      <path d=\"M 628 4666 \nL 1259 4666 \nL 1259 531 \nL 3531 531 \nL 3531 0 \nL 628 0 \nL 628 4666 \nz\n\" id=\"DejaVuSans-4c\" transform=\"scale(0.015625)\"/>\n      <path d=\"M 3597 1894 \nL 3597 1613 \nL 953 1613 \nQ 991 1019 1311 708 \nQ 1631 397 2203 397 \nQ 2534 397 2845 478 \nQ 3156 559 3463 722 \nL 3463 178 \nQ 3153 47 2828 -22 \nQ 2503 -91 2169 -91 \nQ 1331 -91 842 396 \nQ 353 884 353 1716 \nQ 353 2575 817 3079 \nQ 1281 3584 2069 3584 \nQ 2775 3584 3186 3129 \nQ 3597 2675 3597 1894 \nz\nM 3022 2063 \nQ 3016 2534 2758 2815 \nQ 2500 3097 2075 3097 \nQ 1594 3097 1305 2825 \nQ 1016 2553 972 2059 \nL 3022 2063 \nz\n\" id=\"DejaVuSans-65\" transform=\"scale(0.015625)\"/>\n      <path d=\"M 2906 1791 \nQ 2906 2416 2648 2759 \nQ 2391 3103 1925 3103 \nQ 1463 3103 1205 2759 \nQ 947 2416 947 1791 \nQ 947 1169 1205 825 \nQ 1463 481 1925 481 \nQ 2391 481 2648 825 \nQ 2906 1169 2906 1791 \nz\nM 3481 434 \nQ 3481 -459 3084 -895 \nQ 2688 -1331 1869 -1331 \nQ 1566 -1331 1297 -1286 \nQ 1028 -1241 775 -1147 \nL 775 -588 \nQ 1028 -725 1275 -790 \nQ 1522 -856 1778 -856 \nQ 2344 -856 2625 -561 \nQ 2906 -266 2906 331 \nL 2906 616 \nQ 2728 306 2450 153 \nQ 2172 0 1784 0 \nQ 1141 0 747 490 \nQ 353 981 353 1791 \nQ 353 2603 747 3093 \nQ 1141 3584 1784 3584 \nQ 2172 3584 2450 3431 \nQ 2728 3278 2906 2969 \nL 2906 3500 \nL 3481 3500 \nL 3481 434 \nz\n\" id=\"DejaVuSans-67\" transform=\"scale(0.015625)\"/>\n      <path d=\"M 3513 2113 \nL 3513 0 \nL 2938 0 \nL 2938 2094 \nQ 2938 2591 2744 2837 \nQ 2550 3084 2163 3084 \nQ 1697 3084 1428 2787 \nQ 1159 2491 1159 1978 \nL 1159 0 \nL 581 0 \nL 581 4863 \nL 1159 4863 \nL 1159 2956 \nQ 1366 3272 1645 3428 \nQ 1925 3584 2291 3584 \nQ 2894 3584 3203 3211 \nQ 3513 2838 3513 2113 \nz\n\" id=\"DejaVuSans-68\" transform=\"scale(0.015625)\"/>\n      <path d=\"M 2375 4863 \nL 2375 4384 \nL 1825 4384 \nQ 1516 4384 1395 4259 \nQ 1275 4134 1275 3809 \nL 1275 3500 \nL 2222 3500 \nL 2222 3053 \nL 1275 3053 \nL 1275 0 \nL 697 0 \nL 697 3053 \nL 147 3053 \nL 147 3500 \nL 697 3500 \nL 697 3744 \nQ 697 4328 969 4595 \nQ 1241 4863 1831 4863 \nL 2375 4863 \nz\n\" id=\"DejaVuSans-66\" transform=\"scale(0.015625)\"/>\n      <path d=\"M 3425 4513 \nL 3425 3897 \nQ 3066 4069 2747 4153 \nQ 2428 4238 2131 4238 \nQ 1616 4238 1336 4038 \nQ 1056 3838 1056 3469 \nQ 1056 3159 1242 3001 \nQ 1428 2844 1947 2747 \nL 2328 2669 \nQ 3034 2534 3370 2195 \nQ 3706 1856 3706 1288 \nQ 3706 609 3251 259 \nQ 2797 -91 1919 -91 \nQ 1588 -91 1214 -16 \nQ 841 59 441 206 \nL 441 856 \nQ 825 641 1194 531 \nQ 1563 422 1919 422 \nQ 2459 422 2753 634 \nQ 3047 847 3047 1241 \nQ 3047 1584 2836 1778 \nQ 2625 1972 2144 2069 \nL 1759 2144 \nQ 1053 2284 737 2584 \nQ 422 2884 422 3419 \nQ 422 4038 858 4394 \nQ 1294 4750 2059 4750 \nQ 2388 4750 2728 4690 \nQ 3069 4631 3425 4513 \nz\n\" id=\"DejaVuSans-53\" transform=\"scale(0.015625)\"/>\n      <path d=\"M 2059 -325 \nQ 1816 -950 1584 -1140 \nQ 1353 -1331 966 -1331 \nL 506 -1331 \nL 506 -850 \nL 844 -850 \nQ 1081 -850 1212 -737 \nQ 1344 -625 1503 -206 \nL 1606 56 \nL 191 3500 \nL 800 3500 \nL 1894 763 \nL 2988 3500 \nL 3597 3500 \nL 2059 -325 \nz\n\" id=\"DejaVuSans-79\" transform=\"scale(0.015625)\"/>\n      <path d=\"M 1159 525 \nL 1159 -1331 \nL 581 -1331 \nL 581 3500 \nL 1159 3500 \nL 1159 2969 \nQ 1341 3281 1617 3432 \nQ 1894 3584 2278 3584 \nQ 2916 3584 3314 3078 \nQ 3713 2572 3713 1747 \nQ 3713 922 3314 415 \nQ 2916 -91 2278 -91 \nQ 1894 -91 1617 61 \nQ 1341 213 1159 525 \nz\nM 3116 1747 \nQ 3116 2381 2855 2742 \nQ 2594 3103 2138 3103 \nQ 1681 3103 1420 2742 \nQ 1159 2381 1159 1747 \nQ 1159 1113 1420 752 \nQ 1681 391 2138 391 \nQ 2594 391 2855 752 \nQ 3116 1113 3116 1747 \nz\n\" id=\"DejaVuSans-70\" transform=\"scale(0.015625)\"/>\n     </defs>\n     <use xlink:href=\"#DejaVuSans-44\"/>\n     <use x=\"77.001953\" xlink:href=\"#DejaVuSans-69\"/>\n     <use x=\"104.785156\" xlink:href=\"#DejaVuSans-73\"/>\n     <use x=\"156.884766\" xlink:href=\"#DejaVuSans-74\"/>\n     <use x=\"196.09375\" xlink:href=\"#DejaVuSans-72\"/>\n     <use x=\"237.207031\" xlink:href=\"#DejaVuSans-69\"/>\n     <use x=\"264.990234\" xlink:href=\"#DejaVuSans-62\"/>\n     <use x=\"328.466797\" xlink:href=\"#DejaVuSans-75\"/>\n     <use x=\"391.845703\" xlink:href=\"#DejaVuSans-74\"/>\n     <use x=\"431.054688\" xlink:href=\"#DejaVuSans-69\"/>\n     <use x=\"458.837891\" xlink:href=\"#DejaVuSans-6f\"/>\n     <use x=\"520.019531\" xlink:href=\"#DejaVuSans-6e\"/>\n     <use x=\"583.398438\" xlink:href=\"#DejaVuSans-20\"/>\n     <use x=\"615.185547\" xlink:href=\"#DejaVuSans-2d\"/>\n     <use x=\"651.269531\" xlink:href=\"#DejaVuSans-20\"/>\n     <use x=\"683.056641\" xlink:href=\"#DejaVuSans-4c\"/>\n     <use x=\"737.019531\" xlink:href=\"#DejaVuSans-65\"/>\n     <use x=\"798.542969\" xlink:href=\"#DejaVuSans-6e\"/>\n     <use x=\"861.921875\" xlink:href=\"#DejaVuSans-67\"/>\n     <use x=\"925.398438\" xlink:href=\"#DejaVuSans-74\"/>\n     <use x=\"964.607422\" xlink:href=\"#DejaVuSans-68\"/>\n     <use x=\"1027.986328\" xlink:href=\"#DejaVuSans-20\"/>\n     <use x=\"1059.773438\" xlink:href=\"#DejaVuSans-6f\"/>\n     <use x=\"1120.955078\" xlink:href=\"#DejaVuSans-66\"/>\n     <use x=\"1156.160156\" xlink:href=\"#DejaVuSans-20\"/>\n     <use x=\"1187.947266\" xlink:href=\"#DejaVuSans-53\"/>\n     <use x=\"1251.423828\" xlink:href=\"#DejaVuSans-79\"/>\n     <use x=\"1310.603516\" xlink:href=\"#DejaVuSans-6e\"/>\n     <use x=\"1373.982422\" xlink:href=\"#DejaVuSans-6f\"/>\n     <use x=\"1435.164062\" xlink:href=\"#DejaVuSans-70\"/>\n     <use x=\"1498.640625\" xlink:href=\"#DejaVuSans-73\"/>\n     <use x=\"1550.740234\" xlink:href=\"#DejaVuSans-69\"/>\n     <use x=\"1578.523438\" xlink:href=\"#DejaVuSans-73\"/>\n    </g>\n   </g>\n  </g>\n </g>\n <defs>\n  <clipPath id=\"pf07a27822b\">\n   <rect height=\"326.16\" width=\"558\" x=\"33.2875\" y=\"22.318125\"/>\n  </clipPath>\n </defs>\n</svg>\n",
            "image/png": "[encoded data removed]"
          },
          "metadata": {
            "needs_background": "light"
          }
        }
      ],
      "source": [
        "synlen = df.Synopsis.str.len()\n",
        "\n",
        "plt.figure(figsize=(10, 6))\n",
        "plt.hist(synlen, bins=100)\n",
        "plt.title('Distribution - Length of Synopsis')\n",
        "plt.show()"
      ]
    },
    {
      "cell_type": "code",
      "execution_count": 47,
      "metadata": {},
      "outputs": [
        {
          "output_type": "execute_result",
          "data": {
            "text/plain": [
              "      MAL_ID                                           Synopsis  \\\n",
              "0      20969  born prince clan position prince strange boy p...   \n",
              "1       3369  people luck money food resort gambling survive...   \n",
              "2       1236  planet dying queen powerless universe perish p...   \n",
              "3       1360  hot summer day finally courage reveal true cru...   \n",
              "4       2801  candy pony girl lost associate cheer moment po...   \n",
              "...      ...                                                ...   \n",
              "5029    4808  carefree youth assistant detective kuruma freq...   \n",
              "5030    5006  time castle lived king famous violent temper b...   \n",
              "5031    2543  variant robin hood principal county cruel gree...   \n",
              "5032   33670  set future yellow river planet realm car racin...   \n",
              "5033   37897  door golden seal star century mankind lost bat...   \n",
              "\n",
              "                                               Genre  \n",
              "0                    Drama, Historical, Supernatural  \n",
              "1                          Game, Historical, Shounen  \n",
              "2           Adventure, Mecha, Sci-Fi, Shounen, Space  \n",
              "3                                             Hentai  \n",
              "4                       Slice of Life, Drama, Shoujo  \n",
              "...                                              ...  \n",
              "5029  Action, Sci-Fi, Adventure, Police, Super Power  \n",
              "5030                        Kids, Adventure, Fantasy  \n",
              "5031                  Adventure, Historical, Romance  \n",
              "5032                         Action, Adventure, Cars  \n",
              "5033                       Action, Adventure, Sci-Fi  \n",
              "\n",
              "[5034 rows x 3 columns]"
            ],
            "text/html": "<div>\n<style scoped>\n    .dataframe tbody tr th:only-of-type {\n        vertical-align: middle;\n    }\n\n    .dataframe tbody tr th {\n        vertical-align: top;\n    }\n\n    .dataframe thead th {\n        text-align: right;\n    }\n</style>\n<table border=\"1\" class=\"dataframe\">\n  <thead>\n    <tr style=\"text-align: right;\">\n      <th></th>\n      <th>MAL_ID</th>\n      <th>Synopsis</th>\n      <th>Genre</th>\n    </tr>\n  </thead>\n  <tbody>\n    <tr>\n      <th>0</th>\n      <td>20969</td>\n      <td>born prince clan position prince strange boy p...</td>\n      <td>Drama, Historical, Supernatural</td>\n    </tr>\n    <tr>\n      <th>1</th>\n      <td>3369</td>\n      <td>people luck money food resort gambling survive...</td>\n      <td>Game, Historical, Shounen</td>\n    </tr>\n    <tr>\n      <th>2</th>\n      <td>1236</td>\n      <td>planet dying queen powerless universe perish p...</td>\n      <td>Adventure, Mecha, Sci-Fi, Shounen, Space</td>\n    </tr>\n    <tr>\n      <th>3</th>\n      <td>1360</td>\n      <td>hot summer day finally courage reveal true cru...</td>\n      <td>Hentai</td>\n    </tr>\n    <tr>\n      <th>4</th>\n      <td>2801</td>\n      <td>candy pony girl lost associate cheer moment po...</td>\n      <td>Slice of Life, Drama, Shoujo</td>\n    </tr>\n    <tr>\n      <th>...</th>\n      <td>...</td>\n      <td>...</td>\n      <td>...</td>\n    </tr>\n    <tr>\n      <th>5029</th>\n      <td>4808</td>\n      <td>carefree youth assistant detective kuruma freq...</td>\n      <td>Action, Sci-Fi, Adventure, Police, Super Power</td>\n    </tr>\n    <tr>\n      <th>5030</th>\n      <td>5006</td>\n      <td>time castle lived king famous violent temper b...</td>\n      <td>Kids, Adventure, Fantasy</td>\n    </tr>\n    <tr>\n      <th>5031</th>\n      <td>2543</td>\n      <td>variant robin hood principal county cruel gree...</td>\n      <td>Adventure, Historical, Romance</td>\n    </tr>\n    <tr>\n      <th>5032</th>\n      <td>33670</td>\n      <td>set future yellow river planet realm car racin...</td>\n      <td>Action, Adventure, Cars</td>\n    </tr>\n    <tr>\n      <th>5033</th>\n      <td>37897</td>\n      <td>door golden seal star century mankind lost bat...</td>\n      <td>Action, Adventure, Sci-Fi</td>\n    </tr>\n  </tbody>\n</table>\n<p>5034 rows × 3 columns</p>\n</div>"
          },
          "metadata": {},
          "execution_count": 47
        }
      ],
      "source": [
        "# short_syn = df.loc[synlen.nsmallest(300).index]\n",
        "short_syn = df[synlen>100].sort_values(by='Synopsis', key=lambda x: x.str.len())\n",
        "\n",
        "pd.merge(short_syn, df['MAL_ID', 'Genre'], on='MAL_ID')"
      ]
    },
    {
      "cell_type": "code",
      "execution_count": 45,
      "metadata": {},
      "outputs": [
        {
          "output_type": "display_data",
          "data": {
            "text/plain": "<Figure size 720x432 with 1 Axes>",
            "image/svg+xml": "<?xml version=\"1.0\" encoding=\"utf-8\" standalone=\"no\"?>\n<!DOCTYPE svg PUBLIC \"-//W3C//DTD SVG 1.1//EN\"\n  \"http://www.w3.org/Graphics/SVG/1.1/DTD/svg11.dtd\">\n<svg height=\"372.35625pt\" version=\"1.1\" viewBox=\"0 0 592.125 372.35625\" width=\"592.125pt\" xmlns=\"http://www.w3.org/2000/svg\" xmlns:xlink=\"http://www.w3.org/1999/xlink\">\n <metadata>\n  <rdf:RDF xmlns:cc=\"http://creativecommons.org/ns#\" xmlns:dc=\"http://purl.org/dc/elements/1.1/\" xmlns:rdf=\"http://www.w3.org/1999/02/22-rdf-syntax-ns#\">\n   <cc:Work>\n    <dc:type rdf:resource=\"http://purl.org/dc/dcmitype/StillImage\"/>\n    <dc:date>2021-06-09T18:00:29.034266</dc:date>\n    <dc:format>image/svg+xml</dc:format>\n    <dc:creator>\n     <cc:Agent>\n      <dc:title>Matplotlib v3.4.2, https://matplotlib.org/</dc:title>\n     </cc:Agent>\n    </dc:creator>\n   </cc:Work>\n  </rdf:RDF>\n </metadata>\n <defs>\n  <style type=\"text/css\">*{stroke-linecap:butt;stroke-linejoin:round;}</style>\n </defs>\n <g id=\"figure_1\">\n  <g id=\"patch_1\">\n   <path d=\"M 0 372.35625 \nL 592.125 372.35625 \nL 592.125 0 \nL 0 0 \nz\n\" style=\"fill:none;\"/>\n  </g>\n  <g id=\"axes_1\">\n   <g id=\"patch_2\">\n    <path d=\"M 26.925 348.478125 \nL 584.925 348.478125 \nL 584.925 22.318125 \nL 26.925 22.318125 \nz\n\" style=\"fill:#ffffff;\"/>\n   </g>\n   <g id=\"patch_3\">\n    <path clip-path=\"url(#p9dac77db65)\" d=\"M 52.288636 348.478125 \nL 62.434091 348.478125 \nL 62.434091 178.133425 \nL 52.288636 178.133425 \nz\n\" style=\"fill:#1f77b4;\"/>\n   </g>\n   <g id=\"patch_4\">\n    <path clip-path=\"url(#p9dac77db65)\" d=\"M 62.434091 348.478125 \nL 72.579545 348.478125 \nL 72.579545 348.478125 \nL 62.434091 348.478125 \nz\n\" style=\"fill:#1f77b4;\"/>\n   </g>\n   <g id=\"patch_5\">\n    <path clip-path=\"url(#p9dac77db65)\" d=\"M 72.579545 348.478125 \nL 82.725 348.478125 \nL 82.725 348.478125 \nL 72.579545 348.478125 \nz\n\" style=\"fill:#1f77b4;\"/>\n   </g>\n   <g id=\"patch_6\">\n    <path clip-path=\"url(#p9dac77db65)\" d=\"M 82.725 348.478125 \nL 92.870455 348.478125 \nL 92.870455 328.437572 \nL 82.725 328.437572 \nz\n\" style=\"fill:#1f77b4;\"/>\n   </g>\n   <g id=\"patch_7\">\n    <path clip-path=\"url(#p9dac77db65)\" d=\"M 92.870455 348.478125 \nL 103.015909 348.478125 \nL 103.015909 308.397019 \nL 92.870455 308.397019 \nz\n\" style=\"fill:#1f77b4;\"/>\n   </g>\n   <g id=\"patch_8\">\n    <path clip-path=\"url(#p9dac77db65)\" d=\"M 103.015909 348.478125 \nL 113.161364 348.478125 \nL 113.161364 158.092872 \nL 103.015909 158.092872 \nz\n\" style=\"fill:#1f77b4;\"/>\n   </g>\n   <g id=\"patch_9\">\n    <path clip-path=\"url(#p9dac77db65)\" d=\"M 113.161364 348.478125 \nL 123.306818 348.478125 \nL 123.306818 238.255084 \nL 113.161364 238.255084 \nz\n\" style=\"fill:#1f77b4;\"/>\n   </g>\n   <g id=\"patch_10\">\n    <path clip-path=\"url(#p9dac77db65)\" d=\"M 123.306818 348.478125 \nL 133.452273 348.478125 \nL 133.452273 268.315913 \nL 123.306818 268.315913 \nz\n\" style=\"fill:#1f77b4;\"/>\n   </g>\n   <g id=\"patch_11\">\n    <path clip-path=\"url(#p9dac77db65)\" d=\"M 133.452273 348.478125 \nL 143.597727 348.478125 \nL 143.597727 318.417296 \nL 133.452273 318.417296 \nz\n\" style=\"fill:#1f77b4;\"/>\n   </g>\n   <g id=\"patch_12\">\n    <path clip-path=\"url(#p9dac77db65)\" d=\"M 143.597727 348.478125 \nL 153.743182 348.478125 \nL 153.743182 268.315913 \nL 143.597727 268.315913 \nz\n\" style=\"fill:#1f77b4;\"/>\n   </g>\n   <g id=\"patch_13\">\n    <path clip-path=\"url(#p9dac77db65)\" d=\"M 153.743182 348.478125 \nL 163.888636 348.478125 \nL 163.888636 218.214531 \nL 153.743182 218.214531 \nz\n\" style=\"fill:#1f77b4;\"/>\n   </g>\n   <g id=\"patch_14\">\n    <path clip-path=\"url(#p9dac77db65)\" d=\"M 163.888636 348.478125 \nL 174.034091 348.478125 \nL 174.034091 168.113148 \nL 163.888636 168.113148 \nz\n\" style=\"fill:#1f77b4;\"/>\n   </g>\n   <g id=\"patch_15\">\n    <path clip-path=\"url(#p9dac77db65)\" d=\"M 174.034091 348.478125 \nL 184.179545 348.478125 \nL 184.179545 238.255084 \nL 174.034091 238.255084 \nz\n\" style=\"fill:#1f77b4;\"/>\n   </g>\n   <g id=\"patch_16\">\n    <path clip-path=\"url(#p9dac77db65)\" d=\"M 184.179545 348.478125 \nL 194.325 348.478125 \nL 194.325 158.092872 \nL 184.179545 158.092872 \nz\n\" style=\"fill:#1f77b4;\"/>\n   </g>\n   <g id=\"patch_17\">\n    <path clip-path=\"url(#p9dac77db65)\" d=\"M 194.325 348.478125 \nL 204.470455 348.478125 \nL 204.470455 208.194254 \nL 194.325 208.194254 \nz\n\" style=\"fill:#1f77b4;\"/>\n   </g>\n   <g id=\"patch_18\">\n    <path clip-path=\"url(#p9dac77db65)\" d=\"M 204.470455 348.478125 \nL 214.615909 348.478125 \nL 214.615909 178.133425 \nL 204.470455 178.133425 \nz\n\" style=\"fill:#1f77b4;\"/>\n   </g>\n   <g id=\"patch_19\">\n    <path clip-path=\"url(#p9dac77db65)\" d=\"M 214.615909 348.478125 \nL 224.761364 348.478125 \nL 224.761364 158.092872 \nL 214.615909 158.092872 \nz\n\" style=\"fill:#1f77b4;\"/>\n   </g>\n   <g id=\"patch_20\">\n    <path clip-path=\"url(#p9dac77db65)\" d=\"M 224.761364 348.478125 \nL 234.906818 348.478125 \nL 234.906818 138.052319 \nL 224.761364 138.052319 \nz\n\" style=\"fill:#1f77b4;\"/>\n   </g>\n   <g id=\"patch_21\">\n    <path clip-path=\"url(#p9dac77db65)\" d=\"M 234.906818 348.478125 \nL 245.052273 348.478125 \nL 245.052273 148.072595 \nL 234.906818 148.072595 \nz\n\" style=\"fill:#1f77b4;\"/>\n   </g>\n   <g id=\"patch_22\">\n    <path clip-path=\"url(#p9dac77db65)\" d=\"M 245.052273 348.478125 \nL 255.197727 348.478125 \nL 255.197727 107.991489 \nL 245.052273 107.991489 \nz\n\" style=\"fill:#1f77b4;\"/>\n   </g>\n   <g id=\"patch_23\">\n    <path clip-path=\"url(#p9dac77db65)\" d=\"M 255.197727 348.478125 \nL 265.343182 348.478125 \nL 265.343182 118.011766 \nL 255.197727 118.011766 \nz\n\" style=\"fill:#1f77b4;\"/>\n   </g>\n   <g id=\"patch_24\">\n    <path clip-path=\"url(#p9dac77db65)\" d=\"M 265.343182 348.478125 \nL 275.488636 348.478125 \nL 275.488636 37.849554 \nL 265.343182 37.849554 \nz\n\" style=\"fill:#1f77b4;\"/>\n   </g>\n   <g id=\"patch_25\">\n    <path clip-path=\"url(#p9dac77db65)\" d=\"M 275.488636 348.478125 \nL 285.634091 348.478125 \nL 285.634091 168.113148 \nL 275.488636 168.113148 \nz\n\" style=\"fill:#1f77b4;\"/>\n   </g>\n   <g id=\"patch_26\">\n    <path clip-path=\"url(#p9dac77db65)\" d=\"M 285.634091 348.478125 \nL 295.779545 348.478125 \nL 295.779545 168.113148 \nL 285.634091 168.113148 \nz\n\" style=\"fill:#1f77b4;\"/>\n   </g>\n   <g id=\"patch_27\">\n    <path clip-path=\"url(#p9dac77db65)\" d=\"M 295.779545 348.478125 \nL 305.925 348.478125 \nL 305.925 67.910383 \nL 295.779545 67.910383 \nz\n\" style=\"fill:#1f77b4;\"/>\n   </g>\n   <g id=\"patch_28\">\n    <path clip-path=\"url(#p9dac77db65)\" d=\"M 305.925 348.478125 \nL 316.070455 348.478125 \nL 316.070455 138.052319 \nL 305.925 138.052319 \nz\n\" style=\"fill:#1f77b4;\"/>\n   </g>\n   <g id=\"patch_29\">\n    <path clip-path=\"url(#p9dac77db65)\" d=\"M 316.070455 348.478125 \nL 326.215909 348.478125 \nL 326.215909 148.072595 \nL 316.070455 148.072595 \nz\n\" style=\"fill:#1f77b4;\"/>\n   </g>\n   <g id=\"patch_30\">\n    <path clip-path=\"url(#p9dac77db65)\" d=\"M 326.215909 348.478125 \nL 336.361364 348.478125 \nL 336.361364 158.092872 \nL 326.215909 158.092872 \nz\n\" style=\"fill:#1f77b4;\"/>\n   </g>\n   <g id=\"patch_31\">\n    <path clip-path=\"url(#p9dac77db65)\" d=\"M 336.361364 348.478125 \nL 346.506818 348.478125 \nL 346.506818 178.133425 \nL 336.361364 178.133425 \nz\n\" style=\"fill:#1f77b4;\"/>\n   </g>\n   <g id=\"patch_32\">\n    <path clip-path=\"url(#p9dac77db65)\" d=\"M 346.506818 348.478125 \nL 356.652273 348.478125 \nL 356.652273 158.092872 \nL 346.506818 158.092872 \nz\n\" style=\"fill:#1f77b4;\"/>\n   </g>\n   <g id=\"patch_33\">\n    <path clip-path=\"url(#p9dac77db65)\" d=\"M 356.652273 348.478125 \nL 366.797727 348.478125 \nL 366.797727 168.113148 \nL 356.652273 168.113148 \nz\n\" style=\"fill:#1f77b4;\"/>\n   </g>\n   <g id=\"patch_34\">\n    <path clip-path=\"url(#p9dac77db65)\" d=\"M 366.797727 348.478125 \nL 376.943182 348.478125 \nL 376.943182 158.092872 \nL 366.797727 158.092872 \nz\n\" style=\"fill:#1f77b4;\"/>\n   </g>\n   <g id=\"patch_35\">\n    <path clip-path=\"url(#p9dac77db65)\" d=\"M 376.943182 348.478125 \nL 387.088636 348.478125 \nL 387.088636 97.971213 \nL 376.943182 97.971213 \nz\n\" style=\"fill:#1f77b4;\"/>\n   </g>\n   <g id=\"patch_36\">\n    <path clip-path=\"url(#p9dac77db65)\" d=\"M 387.088636 348.478125 \nL 397.234091 348.478125 \nL 397.234091 138.052319 \nL 387.088636 138.052319 \nz\n\" style=\"fill:#1f77b4;\"/>\n   </g>\n   <g id=\"patch_37\">\n    <path clip-path=\"url(#p9dac77db65)\" d=\"M 397.234091 348.478125 \nL 407.379545 348.478125 \nL 407.379545 158.092872 \nL 397.234091 158.092872 \nz\n\" style=\"fill:#1f77b4;\"/>\n   </g>\n   <g id=\"patch_38\">\n    <path clip-path=\"url(#p9dac77db65)\" d=\"M 407.379545 348.478125 \nL 417.525 348.478125 \nL 417.525 118.011766 \nL 407.379545 118.011766 \nz\n\" style=\"fill:#1f77b4;\"/>\n   </g>\n   <g id=\"patch_39\">\n    <path clip-path=\"url(#p9dac77db65)\" d=\"M 417.525 348.478125 \nL 427.670455 348.478125 \nL 427.670455 37.849554 \nL 417.525 37.849554 \nz\n\" style=\"fill:#1f77b4;\"/>\n   </g>\n   <g id=\"patch_40\">\n    <path clip-path=\"url(#p9dac77db65)\" d=\"M 427.670455 348.478125 \nL 437.815909 348.478125 \nL 437.815909 47.86983 \nL 427.670455 47.86983 \nz\n\" style=\"fill:#1f77b4;\"/>\n   </g>\n   <g id=\"patch_41\">\n    <path clip-path=\"url(#p9dac77db65)\" d=\"M 437.815909 348.478125 \nL 447.961364 348.478125 \nL 447.961364 148.072595 \nL 437.815909 148.072595 \nz\n\" style=\"fill:#1f77b4;\"/>\n   </g>\n   <g id=\"patch_42\">\n    <path clip-path=\"url(#p9dac77db65)\" d=\"M 447.961364 348.478125 \nL 458.106818 348.478125 \nL 458.106818 97.971213 \nL 447.961364 97.971213 \nz\n\" style=\"fill:#1f77b4;\"/>\n   </g>\n   <g id=\"patch_43\">\n    <path clip-path=\"url(#p9dac77db65)\" d=\"M 458.106818 348.478125 \nL 468.252273 348.478125 \nL 468.252273 198.173978 \nL 458.106818 198.173978 \nz\n\" style=\"fill:#1f77b4;\"/>\n   </g>\n   <g id=\"patch_44\">\n    <path clip-path=\"url(#p9dac77db65)\" d=\"M 468.252273 348.478125 \nL 478.397727 348.478125 \nL 478.397727 67.910383 \nL 468.252273 67.910383 \nz\n\" style=\"fill:#1f77b4;\"/>\n   </g>\n   <g id=\"patch_45\">\n    <path clip-path=\"url(#p9dac77db65)\" d=\"M 478.397727 348.478125 \nL 488.543182 348.478125 \nL 488.543182 107.991489 \nL 478.397727 107.991489 \nz\n\" style=\"fill:#1f77b4;\"/>\n   </g>\n   <g id=\"patch_46\">\n    <path clip-path=\"url(#p9dac77db65)\" d=\"M 488.543182 348.478125 \nL 498.688636 348.478125 \nL 498.688636 138.052319 \nL 488.543182 138.052319 \nz\n\" style=\"fill:#1f77b4;\"/>\n   </g>\n   <g id=\"patch_47\">\n    <path clip-path=\"url(#p9dac77db65)\" d=\"M 498.688636 348.478125 \nL 508.834091 348.478125 \nL 508.834091 148.072595 \nL 498.688636 148.072595 \nz\n\" style=\"fill:#1f77b4;\"/>\n   </g>\n   <g id=\"patch_48\">\n    <path clip-path=\"url(#p9dac77db65)\" d=\"M 508.834091 348.478125 \nL 518.979545 348.478125 \nL 518.979545 148.072595 \nL 508.834091 148.072595 \nz\n\" style=\"fill:#1f77b4;\"/>\n   </g>\n   <g id=\"patch_49\">\n    <path clip-path=\"url(#p9dac77db65)\" d=\"M 518.979545 348.478125 \nL 529.125 348.478125 \nL 529.125 168.113148 \nL 518.979545 168.113148 \nz\n\" style=\"fill:#1f77b4;\"/>\n   </g>\n   <g id=\"patch_50\">\n    <path clip-path=\"url(#p9dac77db65)\" d=\"M 529.125 348.478125 \nL 539.270455 348.478125 \nL 539.270455 77.93066 \nL 529.125 77.93066 \nz\n\" style=\"fill:#1f77b4;\"/>\n   </g>\n   <g id=\"patch_51\">\n    <path clip-path=\"url(#p9dac77db65)\" d=\"M 539.270455 348.478125 \nL 549.415909 348.478125 \nL 549.415909 128.032042 \nL 539.270455 128.032042 \nz\n\" style=\"fill:#1f77b4;\"/>\n   </g>\n   <g id=\"patch_52\">\n    <path clip-path=\"url(#p9dac77db65)\" d=\"M 549.415909 348.478125 \nL 559.561364 348.478125 \nL 559.561364 67.910383 \nL 549.415909 67.910383 \nz\n\" style=\"fill:#1f77b4;\"/>\n   </g>\n   <g id=\"matplotlib.axis_1\">\n    <g id=\"xtick_1\">\n     <g id=\"line2d_1\">\n      <defs>\n       <path d=\"M 0 0 \nL 0 3.5 \n\" id=\"m84d2e470e6\" style=\"stroke:#000000;stroke-width:0.8;\"/>\n      </defs>\n      <g>\n       <use style=\"stroke:#000000;stroke-width:0.8;\" x=\"52.288636\" xlink:href=\"#m84d2e470e6\" y=\"348.478125\"/>\n      </g>\n     </g>\n     <g id=\"text_1\">\n      <!-- 0 -->\n      <g transform=\"translate(49.107386 363.076563)scale(0.1 -0.1)\">\n       <defs>\n        <path d=\"M 2034 4250 \nQ 1547 4250 1301 3770 \nQ 1056 3291 1056 2328 \nQ 1056 1369 1301 889 \nQ 1547 409 2034 409 \nQ 2525 409 2770 889 \nQ 3016 1369 3016 2328 \nQ 3016 3291 2770 3770 \nQ 2525 4250 2034 4250 \nz\nM 2034 4750 \nQ 2819 4750 3233 4129 \nQ 3647 3509 3647 2328 \nQ 3647 1150 3233 529 \nQ 2819 -91 2034 -91 \nQ 1250 -91 836 529 \nQ 422 1150 422 2328 \nQ 422 3509 836 4129 \nQ 1250 4750 2034 4750 \nz\n\" id=\"DejaVuSans-30\" transform=\"scale(0.015625)\"/>\n       </defs>\n       <use xlink:href=\"#DejaVuSans-30\"/>\n      </g>\n     </g>\n    </g>\n    <g id=\"xtick_2\">\n     <g id=\"line2d_2\">\n      <g>\n       <use style=\"stroke:#000000;stroke-width:0.8;\" x=\"155.813683\" xlink:href=\"#m84d2e470e6\" y=\"348.478125\"/>\n      </g>\n     </g>\n     <g id=\"text_2\">\n      <!-- 10 -->\n      <g transform=\"translate(149.451183 363.076563)scale(0.1 -0.1)\">\n       <defs>\n        <path d=\"M 794 531 \nL 1825 531 \nL 1825 4091 \nL 703 3866 \nL 703 4441 \nL 1819 4666 \nL 2450 4666 \nL 2450 531 \nL 3481 531 \nL 3481 0 \nL 794 0 \nL 794 531 \nz\n\" id=\"DejaVuSans-31\" transform=\"scale(0.015625)\"/>\n       </defs>\n       <use xlink:href=\"#DejaVuSans-31\"/>\n       <use x=\"63.623047\" xlink:href=\"#DejaVuSans-30\"/>\n      </g>\n     </g>\n    </g>\n    <g id=\"xtick_3\">\n     <g id=\"line2d_3\">\n      <g>\n       <use style=\"stroke:#000000;stroke-width:0.8;\" x=\"259.338729\" xlink:href=\"#m84d2e470e6\" y=\"348.478125\"/>\n      </g>\n     </g>\n     <g id=\"text_3\">\n      <!-- 20 -->\n      <g transform=\"translate(252.976229 363.076563)scale(0.1 -0.1)\">\n       <defs>\n        <path d=\"M 1228 531 \nL 3431 531 \nL 3431 0 \nL 469 0 \nL 469 531 \nQ 828 903 1448 1529 \nQ 2069 2156 2228 2338 \nQ 2531 2678 2651 2914 \nQ 2772 3150 2772 3378 \nQ 2772 3750 2511 3984 \nQ 2250 4219 1831 4219 \nQ 1534 4219 1204 4116 \nQ 875 4013 500 3803 \nL 500 4441 \nQ 881 4594 1212 4672 \nQ 1544 4750 1819 4750 \nQ 2544 4750 2975 4387 \nQ 3406 4025 3406 3419 \nQ 3406 3131 3298 2873 \nQ 3191 2616 2906 2266 \nQ 2828 2175 2409 1742 \nQ 1991 1309 1228 531 \nz\n\" id=\"DejaVuSans-32\" transform=\"scale(0.015625)\"/>\n       </defs>\n       <use xlink:href=\"#DejaVuSans-32\"/>\n       <use x=\"63.623047\" xlink:href=\"#DejaVuSans-30\"/>\n      </g>\n     </g>\n    </g>\n    <g id=\"xtick_4\">\n     <g id=\"line2d_4\">\n      <g>\n       <use style=\"stroke:#000000;stroke-width:0.8;\" x=\"362.863776\" xlink:href=\"#m84d2e470e6\" y=\"348.478125\"/>\n      </g>\n     </g>\n     <g id=\"text_4\">\n      <!-- 30 -->\n      <g transform=\"translate(356.501276 363.076563)scale(0.1 -0.1)\">\n       <defs>\n        <path d=\"M 2597 2516 \nQ 3050 2419 3304 2112 \nQ 3559 1806 3559 1356 \nQ 3559 666 3084 287 \nQ 2609 -91 1734 -91 \nQ 1441 -91 1130 -33 \nQ 819 25 488 141 \nL 488 750 \nQ 750 597 1062 519 \nQ 1375 441 1716 441 \nQ 2309 441 2620 675 \nQ 2931 909 2931 1356 \nQ 2931 1769 2642 2001 \nQ 2353 2234 1838 2234 \nL 1294 2234 \nL 1294 2753 \nL 1863 2753 \nQ 2328 2753 2575 2939 \nQ 2822 3125 2822 3475 \nQ 2822 3834 2567 4026 \nQ 2313 4219 1838 4219 \nQ 1578 4219 1281 4162 \nQ 984 4106 628 3988 \nL 628 4550 \nQ 988 4650 1302 4700 \nQ 1616 4750 1894 4750 \nQ 2613 4750 3031 4423 \nQ 3450 4097 3450 3541 \nQ 3450 3153 3228 2886 \nQ 3006 2619 2597 2516 \nz\n\" id=\"DejaVuSans-33\" transform=\"scale(0.015625)\"/>\n       </defs>\n       <use xlink:href=\"#DejaVuSans-33\"/>\n       <use x=\"63.623047\" xlink:href=\"#DejaVuSans-30\"/>\n      </g>\n     </g>\n    </g>\n    <g id=\"xtick_5\">\n     <g id=\"line2d_5\">\n      <g>\n       <use style=\"stroke:#000000;stroke-width:0.8;\" x=\"466.388822\" xlink:href=\"#m84d2e470e6\" y=\"348.478125\"/>\n      </g>\n     </g>\n     <g id=\"text_5\">\n      <!-- 40 -->\n      <g transform=\"translate(460.026322 363.076563)scale(0.1 -0.1)\">\n       <defs>\n        <path d=\"M 2419 4116 \nL 825 1625 \nL 2419 1625 \nL 2419 4116 \nz\nM 2253 4666 \nL 3047 4666 \nL 3047 1625 \nL 3713 1625 \nL 3713 1100 \nL 3047 1100 \nL 3047 0 \nL 2419 0 \nL 2419 1100 \nL 313 1100 \nL 313 1709 \nL 2253 4666 \nz\n\" id=\"DejaVuSans-34\" transform=\"scale(0.015625)\"/>\n       </defs>\n       <use xlink:href=\"#DejaVuSans-34\"/>\n       <use x=\"63.623047\" xlink:href=\"#DejaVuSans-30\"/>\n      </g>\n     </g>\n    </g>\n    <g id=\"xtick_6\">\n     <g id=\"line2d_6\">\n      <g>\n       <use style=\"stroke:#000000;stroke-width:0.8;\" x=\"569.913868\" xlink:href=\"#m84d2e470e6\" y=\"348.478125\"/>\n      </g>\n     </g>\n     <g id=\"text_6\">\n      <!-- 50 -->\n      <g transform=\"translate(563.551368 363.076563)scale(0.1 -0.1)\">\n       <defs>\n        <path d=\"M 691 4666 \nL 3169 4666 \nL 3169 4134 \nL 1269 4134 \nL 1269 2991 \nQ 1406 3038 1543 3061 \nQ 1681 3084 1819 3084 \nQ 2600 3084 3056 2656 \nQ 3513 2228 3513 1497 \nQ 3513 744 3044 326 \nQ 2575 -91 1722 -91 \nQ 1428 -91 1123 -41 \nQ 819 9 494 109 \nL 494 744 \nQ 775 591 1075 516 \nQ 1375 441 1709 441 \nQ 2250 441 2565 725 \nQ 2881 1009 2881 1497 \nQ 2881 1984 2565 2268 \nQ 2250 2553 1709 2553 \nQ 1456 2553 1204 2497 \nQ 953 2441 691 2322 \nL 691 4666 \nz\n\" id=\"DejaVuSans-35\" transform=\"scale(0.015625)\"/>\n       </defs>\n       <use xlink:href=\"#DejaVuSans-35\"/>\n       <use x=\"63.623047\" xlink:href=\"#DejaVuSans-30\"/>\n      </g>\n     </g>\n    </g>\n   </g>\n   <g id=\"matplotlib.axis_2\">\n    <g id=\"ytick_1\">\n     <g id=\"line2d_7\">\n      <defs>\n       <path d=\"M 0 0 \nL -3.5 0 \n\" id=\"m9841babb46\" style=\"stroke:#000000;stroke-width:0.8;\"/>\n      </defs>\n      <g>\n       <use style=\"stroke:#000000;stroke-width:0.8;\" x=\"26.925\" xlink:href=\"#m9841babb46\" y=\"348.478125\"/>\n      </g>\n     </g>\n     <g id=\"text_7\">\n      <!-- 0 -->\n      <g transform=\"translate(13.5625 352.277344)scale(0.1 -0.1)\">\n       <use xlink:href=\"#DejaVuSans-30\"/>\n      </g>\n     </g>\n    </g>\n    <g id=\"ytick_2\">\n     <g id=\"line2d_8\">\n      <g>\n       <use style=\"stroke:#000000;stroke-width:0.8;\" x=\"26.925\" xlink:href=\"#m9841babb46\" y=\"298.376743\"/>\n      </g>\n     </g>\n     <g id=\"text_8\">\n      <!-- 5 -->\n      <g transform=\"translate(13.5625 302.175961)scale(0.1 -0.1)\">\n       <use xlink:href=\"#DejaVuSans-35\"/>\n      </g>\n     </g>\n    </g>\n    <g id=\"ytick_3\">\n     <g id=\"line2d_9\">\n      <g>\n       <use style=\"stroke:#000000;stroke-width:0.8;\" x=\"26.925\" xlink:href=\"#m9841babb46\" y=\"248.27536\"/>\n      </g>\n     </g>\n     <g id=\"text_9\">\n      <!-- 10 -->\n      <g transform=\"translate(7.2 252.074579)scale(0.1 -0.1)\">\n       <use xlink:href=\"#DejaVuSans-31\"/>\n       <use x=\"63.623047\" xlink:href=\"#DejaVuSans-30\"/>\n      </g>\n     </g>\n    </g>\n    <g id=\"ytick_4\">\n     <g id=\"line2d_10\">\n      <g>\n       <use style=\"stroke:#000000;stroke-width:0.8;\" x=\"26.925\" xlink:href=\"#m9841babb46\" y=\"198.173978\"/>\n      </g>\n     </g>\n     <g id=\"text_10\">\n      <!-- 15 -->\n      <g transform=\"translate(7.2 201.973196)scale(0.1 -0.1)\">\n       <use xlink:href=\"#DejaVuSans-31\"/>\n       <use x=\"63.623047\" xlink:href=\"#DejaVuSans-35\"/>\n      </g>\n     </g>\n    </g>\n    <g id=\"ytick_5\">\n     <g id=\"line2d_11\">\n      <g>\n       <use style=\"stroke:#000000;stroke-width:0.8;\" x=\"26.925\" xlink:href=\"#m9841babb46\" y=\"148.072595\"/>\n      </g>\n     </g>\n     <g id=\"text_11\">\n      <!-- 20 -->\n      <g transform=\"translate(7.2 151.871814)scale(0.1 -0.1)\">\n       <use xlink:href=\"#DejaVuSans-32\"/>\n       <use x=\"63.623047\" xlink:href=\"#DejaVuSans-30\"/>\n      </g>\n     </g>\n    </g>\n    <g id=\"ytick_6\">\n     <g id=\"line2d_12\">\n      <g>\n       <use style=\"stroke:#000000;stroke-width:0.8;\" x=\"26.925\" xlink:href=\"#m9841babb46\" y=\"97.971213\"/>\n      </g>\n     </g>\n     <g id=\"text_12\">\n      <!-- 25 -->\n      <g transform=\"translate(7.2 101.770431)scale(0.1 -0.1)\">\n       <use xlink:href=\"#DejaVuSans-32\"/>\n       <use x=\"63.623047\" xlink:href=\"#DejaVuSans-35\"/>\n      </g>\n     </g>\n    </g>\n    <g id=\"ytick_7\">\n     <g id=\"line2d_13\">\n      <g>\n       <use style=\"stroke:#000000;stroke-width:0.8;\" x=\"26.925\" xlink:href=\"#m9841babb46\" y=\"47.86983\"/>\n      </g>\n     </g>\n     <g id=\"text_13\">\n      <!-- 30 -->\n      <g transform=\"translate(7.2 51.669049)scale(0.1 -0.1)\">\n       <use xlink:href=\"#DejaVuSans-33\"/>\n       <use x=\"63.623047\" xlink:href=\"#DejaVuSans-30\"/>\n      </g>\n     </g>\n    </g>\n   </g>\n   <g id=\"patch_53\">\n    <path d=\"M 26.925 348.478125 \nL 26.925 22.318125 \n\" style=\"fill:none;stroke:#000000;stroke-linecap:square;stroke-linejoin:miter;stroke-width:0.8;\"/>\n   </g>\n   <g id=\"patch_54\">\n    <path d=\"M 584.925 348.478125 \nL 584.925 22.318125 \n\" style=\"fill:none;stroke:#000000;stroke-linecap:square;stroke-linejoin:miter;stroke-width:0.8;\"/>\n   </g>\n   <g id=\"patch_55\">\n    <path d=\"M 26.925 348.478125 \nL 584.925 348.478125 \n\" style=\"fill:none;stroke:#000000;stroke-linecap:square;stroke-linejoin:miter;stroke-width:0.8;\"/>\n   </g>\n   <g id=\"patch_56\">\n    <path d=\"M 26.925 22.318125 \nL 584.925 22.318125 \n\" style=\"fill:none;stroke:#000000;stroke-linecap:square;stroke-linejoin:miter;stroke-width:0.8;\"/>\n   </g>\n   <g id=\"text_14\">\n    <!-- Distribution - Length of Synopsis -->\n    <g transform=\"translate(208.089375 16.318125)scale(0.12 -0.12)\">\n     <defs>\n      <path d=\"M 1259 4147 \nL 1259 519 \nL 2022 519 \nQ 2988 519 3436 956 \nQ 3884 1394 3884 2338 \nQ 3884 3275 3436 3711 \nQ 2988 4147 2022 4147 \nL 1259 4147 \nz\nM 628 4666 \nL 1925 4666 \nQ 3281 4666 3915 4102 \nQ 4550 3538 4550 2338 \nQ 4550 1131 3912 565 \nQ 3275 0 1925 0 \nL 628 0 \nL 628 4666 \nz\n\" id=\"DejaVuSans-44\" transform=\"scale(0.015625)\"/>\n      <path d=\"M 603 3500 \nL 1178 3500 \nL 1178 0 \nL 603 0 \nL 603 3500 \nz\nM 603 4863 \nL 1178 4863 \nL 1178 4134 \nL 603 4134 \nL 603 4863 \nz\n\" id=\"DejaVuSans-69\" transform=\"scale(0.015625)\"/>\n      <path d=\"M 2834 3397 \nL 2834 2853 \nQ 2591 2978 2328 3040 \nQ 2066 3103 1784 3103 \nQ 1356 3103 1142 2972 \nQ 928 2841 928 2578 \nQ 928 2378 1081 2264 \nQ 1234 2150 1697 2047 \nL 1894 2003 \nQ 2506 1872 2764 1633 \nQ 3022 1394 3022 966 \nQ 3022 478 2636 193 \nQ 2250 -91 1575 -91 \nQ 1294 -91 989 -36 \nQ 684 19 347 128 \nL 347 722 \nQ 666 556 975 473 \nQ 1284 391 1588 391 \nQ 1994 391 2212 530 \nQ 2431 669 2431 922 \nQ 2431 1156 2273 1281 \nQ 2116 1406 1581 1522 \nL 1381 1569 \nQ 847 1681 609 1914 \nQ 372 2147 372 2553 \nQ 372 3047 722 3315 \nQ 1072 3584 1716 3584 \nQ 2034 3584 2315 3537 \nQ 2597 3491 2834 3397 \nz\n\" id=\"DejaVuSans-73\" transform=\"scale(0.015625)\"/>\n      <path d=\"M 1172 4494 \nL 1172 3500 \nL 2356 3500 \nL 2356 3053 \nL 1172 3053 \nL 1172 1153 \nQ 1172 725 1289 603 \nQ 1406 481 1766 481 \nL 2356 481 \nL 2356 0 \nL 1766 0 \nQ 1100 0 847 248 \nQ 594 497 594 1153 \nL 594 3053 \nL 172 3053 \nL 172 3500 \nL 594 3500 \nL 594 4494 \nL 1172 4494 \nz\n\" id=\"DejaVuSans-74\" transform=\"scale(0.015625)\"/>\n      <path d=\"M 2631 2963 \nQ 2534 3019 2420 3045 \nQ 2306 3072 2169 3072 \nQ 1681 3072 1420 2755 \nQ 1159 2438 1159 1844 \nL 1159 0 \nL 581 0 \nL 581 3500 \nL 1159 3500 \nL 1159 2956 \nQ 1341 3275 1631 3429 \nQ 1922 3584 2338 3584 \nQ 2397 3584 2469 3576 \nQ 2541 3569 2628 3553 \nL 2631 2963 \nz\n\" id=\"DejaVuSans-72\" transform=\"scale(0.015625)\"/>\n      <path d=\"M 3116 1747 \nQ 3116 2381 2855 2742 \nQ 2594 3103 2138 3103 \nQ 1681 3103 1420 2742 \nQ 1159 2381 1159 1747 \nQ 1159 1113 1420 752 \nQ 1681 391 2138 391 \nQ 2594 391 2855 752 \nQ 3116 1113 3116 1747 \nz\nM 1159 2969 \nQ 1341 3281 1617 3432 \nQ 1894 3584 2278 3584 \nQ 2916 3584 3314 3078 \nQ 3713 2572 3713 1747 \nQ 3713 922 3314 415 \nQ 2916 -91 2278 -91 \nQ 1894 -91 1617 61 \nQ 1341 213 1159 525 \nL 1159 0 \nL 581 0 \nL 581 4863 \nL 1159 4863 \nL 1159 2969 \nz\n\" id=\"DejaVuSans-62\" transform=\"scale(0.015625)\"/>\n      <path d=\"M 544 1381 \nL 544 3500 \nL 1119 3500 \nL 1119 1403 \nQ 1119 906 1312 657 \nQ 1506 409 1894 409 \nQ 2359 409 2629 706 \nQ 2900 1003 2900 1516 \nL 2900 3500 \nL 3475 3500 \nL 3475 0 \nL 2900 0 \nL 2900 538 \nQ 2691 219 2414 64 \nQ 2138 -91 1772 -91 \nQ 1169 -91 856 284 \nQ 544 659 544 1381 \nz\nM 1991 3584 \nL 1991 3584 \nz\n\" id=\"DejaVuSans-75\" transform=\"scale(0.015625)\"/>\n      <path d=\"M 1959 3097 \nQ 1497 3097 1228 2736 \nQ 959 2375 959 1747 \nQ 959 1119 1226 758 \nQ 1494 397 1959 397 \nQ 2419 397 2687 759 \nQ 2956 1122 2956 1747 \nQ 2956 2369 2687 2733 \nQ 2419 3097 1959 3097 \nz\nM 1959 3584 \nQ 2709 3584 3137 3096 \nQ 3566 2609 3566 1747 \nQ 3566 888 3137 398 \nQ 2709 -91 1959 -91 \nQ 1206 -91 779 398 \nQ 353 888 353 1747 \nQ 353 2609 779 3096 \nQ 1206 3584 1959 3584 \nz\n\" id=\"DejaVuSans-6f\" transform=\"scale(0.015625)\"/>\n      <path d=\"M 3513 2113 \nL 3513 0 \nL 2938 0 \nL 2938 2094 \nQ 2938 2591 2744 2837 \nQ 2550 3084 2163 3084 \nQ 1697 3084 1428 2787 \nQ 1159 2491 1159 1978 \nL 1159 0 \nL 581 0 \nL 581 3500 \nL 1159 3500 \nL 1159 2956 \nQ 1366 3272 1645 3428 \nQ 1925 3584 2291 3584 \nQ 2894 3584 3203 3211 \nQ 3513 2838 3513 2113 \nz\n\" id=\"DejaVuSans-6e\" transform=\"scale(0.015625)\"/>\n      <path id=\"DejaVuSans-20\" transform=\"scale(0.015625)\"/>\n      <path d=\"M 313 2009 \nL 1997 2009 \nL 1997 1497 \nL 313 1497 \nL 313 2009 \nz\n\" id=\"DejaVuSans-2d\" transform=\"scale(0.015625)\"/>\n      <path d=\"M 628 4666 \nL 1259 4666 \nL 1259 531 \nL 3531 531 \nL 3531 0 \nL 628 0 \nL 628 4666 \nz\n\" id=\"DejaVuSans-4c\" transform=\"scale(0.015625)\"/>\n      <path d=\"M 3597 1894 \nL 3597 1613 \nL 953 1613 \nQ 991 1019 1311 708 \nQ 1631 397 2203 397 \nQ 2534 397 2845 478 \nQ 3156 559 3463 722 \nL 3463 178 \nQ 3153 47 2828 -22 \nQ 2503 -91 2169 -91 \nQ 1331 -91 842 396 \nQ 353 884 353 1716 \nQ 353 2575 817 3079 \nQ 1281 3584 2069 3584 \nQ 2775 3584 3186 3129 \nQ 3597 2675 3597 1894 \nz\nM 3022 2063 \nQ 3016 2534 2758 2815 \nQ 2500 3097 2075 3097 \nQ 1594 3097 1305 2825 \nQ 1016 2553 972 2059 \nL 3022 2063 \nz\n\" id=\"DejaVuSans-65\" transform=\"scale(0.015625)\"/>\n      <path d=\"M 2906 1791 \nQ 2906 2416 2648 2759 \nQ 2391 3103 1925 3103 \nQ 1463 3103 1205 2759 \nQ 947 2416 947 1791 \nQ 947 1169 1205 825 \nQ 1463 481 1925 481 \nQ 2391 481 2648 825 \nQ 2906 1169 2906 1791 \nz\nM 3481 434 \nQ 3481 -459 3084 -895 \nQ 2688 -1331 1869 -1331 \nQ 1566 -1331 1297 -1286 \nQ 1028 -1241 775 -1147 \nL 775 -588 \nQ 1028 -725 1275 -790 \nQ 1522 -856 1778 -856 \nQ 2344 -856 2625 -561 \nQ 2906 -266 2906 331 \nL 2906 616 \nQ 2728 306 2450 153 \nQ 2172 0 1784 0 \nQ 1141 0 747 490 \nQ 353 981 353 1791 \nQ 353 2603 747 3093 \nQ 1141 3584 1784 3584 \nQ 2172 3584 2450 3431 \nQ 2728 3278 2906 2969 \nL 2906 3500 \nL 3481 3500 \nL 3481 434 \nz\n\" id=\"DejaVuSans-67\" transform=\"scale(0.015625)\"/>\n      <path d=\"M 3513 2113 \nL 3513 0 \nL 2938 0 \nL 2938 2094 \nQ 2938 2591 2744 2837 \nQ 2550 3084 2163 3084 \nQ 1697 3084 1428 2787 \nQ 1159 2491 1159 1978 \nL 1159 0 \nL 581 0 \nL 581 4863 \nL 1159 4863 \nL 1159 2956 \nQ 1366 3272 1645 3428 \nQ 1925 3584 2291 3584 \nQ 2894 3584 3203 3211 \nQ 3513 2838 3513 2113 \nz\n\" id=\"DejaVuSans-68\" transform=\"scale(0.015625)\"/>\n      <path d=\"M 2375 4863 \nL 2375 4384 \nL 1825 4384 \nQ 1516 4384 1395 4259 \nQ 1275 4134 1275 3809 \nL 1275 3500 \nL 2222 3500 \nL 2222 3053 \nL 1275 3053 \nL 1275 0 \nL 697 0 \nL 697 3053 \nL 147 3053 \nL 147 3500 \nL 697 3500 \nL 697 3744 \nQ 697 4328 969 4595 \nQ 1241 4863 1831 4863 \nL 2375 4863 \nz\n\" id=\"DejaVuSans-66\" transform=\"scale(0.015625)\"/>\n      <path d=\"M 3425 4513 \nL 3425 3897 \nQ 3066 4069 2747 4153 \nQ 2428 4238 2131 4238 \nQ 1616 4238 1336 4038 \nQ 1056 3838 1056 3469 \nQ 1056 3159 1242 3001 \nQ 1428 2844 1947 2747 \nL 2328 2669 \nQ 3034 2534 3370 2195 \nQ 3706 1856 3706 1288 \nQ 3706 609 3251 259 \nQ 2797 -91 1919 -91 \nQ 1588 -91 1214 -16 \nQ 841 59 441 206 \nL 441 856 \nQ 825 641 1194 531 \nQ 1563 422 1919 422 \nQ 2459 422 2753 634 \nQ 3047 847 3047 1241 \nQ 3047 1584 2836 1778 \nQ 2625 1972 2144 2069 \nL 1759 2144 \nQ 1053 2284 737 2584 \nQ 422 2884 422 3419 \nQ 422 4038 858 4394 \nQ 1294 4750 2059 4750 \nQ 2388 4750 2728 4690 \nQ 3069 4631 3425 4513 \nz\n\" id=\"DejaVuSans-53\" transform=\"scale(0.015625)\"/>\n      <path d=\"M 2059 -325 \nQ 1816 -950 1584 -1140 \nQ 1353 -1331 966 -1331 \nL 506 -1331 \nL 506 -850 \nL 844 -850 \nQ 1081 -850 1212 -737 \nQ 1344 -625 1503 -206 \nL 1606 56 \nL 191 3500 \nL 800 3500 \nL 1894 763 \nL 2988 3500 \nL 3597 3500 \nL 2059 -325 \nz\n\" id=\"DejaVuSans-79\" transform=\"scale(0.015625)\"/>\n      <path d=\"M 1159 525 \nL 1159 -1331 \nL 581 -1331 \nL 581 3500 \nL 1159 3500 \nL 1159 2969 \nQ 1341 3281 1617 3432 \nQ 1894 3584 2278 3584 \nQ 2916 3584 3314 3078 \nQ 3713 2572 3713 1747 \nQ 3713 922 3314 415 \nQ 2916 -91 2278 -91 \nQ 1894 -91 1617 61 \nQ 1341 213 1159 525 \nz\nM 3116 1747 \nQ 3116 2381 2855 2742 \nQ 2594 3103 2138 3103 \nQ 1681 3103 1420 2742 \nQ 1159 2381 1159 1747 \nQ 1159 1113 1420 752 \nQ 1681 391 2138 391 \nQ 2594 391 2855 752 \nQ 3116 1113 3116 1747 \nz\n\" id=\"DejaVuSans-70\" transform=\"scale(0.015625)\"/>\n     </defs>\n     <use xlink:href=\"#DejaVuSans-44\"/>\n     <use x=\"77.001953\" xlink:href=\"#DejaVuSans-69\"/>\n     <use x=\"104.785156\" xlink:href=\"#DejaVuSans-73\"/>\n     <use x=\"156.884766\" xlink:href=\"#DejaVuSans-74\"/>\n     <use x=\"196.09375\" xlink:href=\"#DejaVuSans-72\"/>\n     <use x=\"237.207031\" xlink:href=\"#DejaVuSans-69\"/>\n     <use x=\"264.990234\" xlink:href=\"#DejaVuSans-62\"/>\n     <use x=\"328.466797\" xlink:href=\"#DejaVuSans-75\"/>\n     <use x=\"391.845703\" xlink:href=\"#DejaVuSans-74\"/>\n     <use x=\"431.054688\" xlink:href=\"#DejaVuSans-69\"/>\n     <use x=\"458.837891\" xlink:href=\"#DejaVuSans-6f\"/>\n     <use x=\"520.019531\" xlink:href=\"#DejaVuSans-6e\"/>\n     <use x=\"583.398438\" xlink:href=\"#DejaVuSans-20\"/>\n     <use x=\"615.185547\" xlink:href=\"#DejaVuSans-2d\"/>\n     <use x=\"651.269531\" xlink:href=\"#DejaVuSans-20\"/>\n     <use x=\"683.056641\" xlink:href=\"#DejaVuSans-4c\"/>\n     <use x=\"737.019531\" xlink:href=\"#DejaVuSans-65\"/>\n     <use x=\"798.542969\" xlink:href=\"#DejaVuSans-6e\"/>\n     <use x=\"861.921875\" xlink:href=\"#DejaVuSans-67\"/>\n     <use x=\"925.398438\" xlink:href=\"#DejaVuSans-74\"/>\n     <use x=\"964.607422\" xlink:href=\"#DejaVuSans-68\"/>\n     <use x=\"1027.986328\" xlink:href=\"#DejaVuSans-20\"/>\n     <use x=\"1059.773438\" xlink:href=\"#DejaVuSans-6f\"/>\n     <use x=\"1120.955078\" xlink:href=\"#DejaVuSans-66\"/>\n     <use x=\"1156.160156\" xlink:href=\"#DejaVuSans-20\"/>\n     <use x=\"1187.947266\" xlink:href=\"#DejaVuSans-53\"/>\n     <use x=\"1251.423828\" xlink:href=\"#DejaVuSans-79\"/>\n     <use x=\"1310.603516\" xlink:href=\"#DejaVuSans-6e\"/>\n     <use x=\"1373.982422\" xlink:href=\"#DejaVuSans-6f\"/>\n     <use x=\"1435.164062\" xlink:href=\"#DejaVuSans-70\"/>\n     <use x=\"1498.640625\" xlink:href=\"#DejaVuSans-73\"/>\n     <use x=\"1550.740234\" xlink:href=\"#DejaVuSans-69\"/>\n     <use x=\"1578.523438\" xlink:href=\"#DejaVuSans-73\"/>\n    </g>\n   </g>\n  </g>\n </g>\n <defs>\n  <clipPath id=\"p9dac77db65\">\n   <rect height=\"326.16\" width=\"558\" x=\"26.925\" y=\"22.318125\"/>\n  </clipPath>\n </defs>\n</svg>\n",
            "image/png": "[encoded data removed]"
          },
          "metadata": {
            "needs_background": "light"
          }
        }
      ],
      "source": [
        "plt.figure(figsize=(10, 6))\n",
        "plt.hist(short_syn.Synopsis.str.len(), bins=50)\n",
        "plt.title('Distribution - Length of Synopsis')\n",
        "plt.show()"
      ]
    },
    {
      "source": [
        "## Plot Distribution of Genre"
      ],
      "cell_type": "markdown",
      "metadata": {}
    },
    {
      "cell_type": "code",
      "execution_count": null,
      "metadata": {},
      "outputs": [],
      "source": [
        "genre_list = list(set(df.Genre.str.split(', ').sum()))\n",
        "\n",
        "genre_cnt = []\n",
        "for genre in genre_list:\n",
        "    cnt = df.Genre.str.contains(genre).sum()\n",
        "    genre_cnt.append(cnt)"
      ]
    },
    {
      "cell_type": "code",
      "execution_count": null,
      "metadata": {},
      "outputs": [],
      "source": [
        "sorted_genre_list = [x for _, x in sorted(zip(genre_cnt, genre_list))]\n",
        "sorted_genre_cnt  = sorted(genre_cnt)\n",
        "\n",
        "plt.figure(figsize=(10, 12))\n",
        "plt.barh(sorted_genre_list, sorted_genre_cnt)\n",
        "plt.title('Distribution of Genre')\n",
        "plt.show()"
      ]
    },
    {
      "source": [
        "## Split Data to Metadata, Genre, Synopsis"
      ],
      "cell_type": "markdown",
      "metadata": {}
    },
    {
      "cell_type": "code",
      "execution_count": null,
      "metadata": {},
      "outputs": [],
      "source": [
        "metadata = df[['MAL_ID', 'Name', 'Type']].copy()\n",
        "genre    = df[['MAL_ID', 'Genre']].copy()\n",
        "synopsis = df[['MAL_ID', 'Synopsis']].copy()\n",
        "\n",
        "del df"
      ]
    },
    {
      "source": [
        "## Encode Genre to 0-1 Vector"
      ],
      "cell_type": "markdown",
      "metadata": {}
    },
    {
      "cell_type": "code",
      "execution_count": null,
      "metadata": {},
      "outputs": [],
      "source": [
        "genre.head()"
      ]
    },
    {
      "cell_type": "code",
      "execution_count": null,
      "metadata": {},
      "outputs": [],
      "source": [
        "genre_list.sort()\n",
        "\n",
        "for gen in genre_list:\n",
        "    genre[gen] = genre.Genre.str.contains(gen).astype(int)\n",
        "\n",
        "genre_str = genre[['MAL_ID', 'Genre']]\n",
        "genre = genre.drop('Genre', axis=1)"
      ]
    },
    {
      "cell_type": "code",
      "execution_count": null,
      "metadata": {},
      "outputs": [],
      "source": [
        "genre.head()"
      ]
    },
    {
      "source": [
        "## Save Cleaned Data"
      ],
      "cell_type": "markdown",
      "metadata": {}
    },
    {
      "cell_type": "code",
      "execution_count": 1,
      "metadata": {},
      "outputs": [],
      "source": [
        "# ROOT_PATH   = os.getcwd()\n",
        "# TARGET_PATH = ROOT_PATH + '/cleaned_data'"
      ]
    },
    {
      "cell_type": "code",
      "execution_count": 28,
      "metadata": {},
      "outputs": [],
      "source": [
        "# file_path = TARGET_PATH + '/synopsis.csv'\n",
        "# synopsis.to_csv(file_path, index=False)"
      ]
    }
  ]
}