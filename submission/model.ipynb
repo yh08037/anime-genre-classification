{
 "metadata": {
  "language_info": {
   "codemirror_mode": {
    "name": "ipython",
    "version": 3
   },
   "file_extension": ".py",
   "mimetype": "text/x-python",
   "name": "python",
   "nbconvert_exporter": "python",
   "pygments_lexer": "ipython3",
   "version": "3.9.5"
  },
  "orig_nbformat": 4,
  "kernelspec": {
   "name": "python3",
   "display_name": "Python 3.9.5 64-bit ('scrap': conda)"
  },
  "interpreter": {
   "hash": "4ea3ed2e54355ce89e91b93232dfdad50498b45cbf76d90a32e5b94d03490e3d"
  }
 },
 "nbformat": 4,
 "nbformat_minor": 2,
 "cells": [
  {
   "source": [
    "# Multi-Label Classification with MLP"
   ],
   "cell_type": "markdown",
   "metadata": {}
  },
  {
   "cell_type": "code",
   "execution_count": 1,
   "metadata": {},
   "outputs": [],
   "source": [
    "import numpy as np\n",
    "import pandas as pd\n",
    "import matplotlib.pyplot as plt\n",
    "\n",
    "from anime_classification import MultiLabelClassifier, Adam, Trainer"
   ]
  },
  {
   "source": [
    "## Load Vectorized Synopsis/Genre Data"
   ],
   "cell_type": "markdown",
   "metadata": {}
  },
  {
   "cell_type": "code",
   "execution_count": 2,
   "metadata": {},
   "outputs": [
    {
     "output_type": "execute_result",
     "data": {
      "text/plain": [
       "   MAL_ID         0         1         2         3         4         5  \\\n",
       "0       1 -0.114563 -3.921875  0.508789  1.326172  2.681641  1.789062   \n",
       "1       5  2.312500 -2.361328 -0.013504  2.705078  1.199219  3.171875   \n",
       "2       6 -0.225952 -2.601562 -0.183105  2.042969  1.671875  1.951172   \n",
       "3       7  0.842773 -0.527344  0.271484  0.753906  1.575195  2.496094   \n",
       "4       8  1.521484 -2.650391  0.423584  1.816406  2.029297  1.696289   \n",
       "\n",
       "          6         7         8  ...        90        91        92        93  \\\n",
       "0 -1.769531 -1.250977 -1.898438  ...  0.863770 -0.738281 -1.119141 -0.729980   \n",
       "1 -1.360352 -2.603516 -1.960938  ...  0.493652 -0.946777 -0.937988 -0.260986   \n",
       "2 -1.368164 -2.917969 -0.161377  ... -1.435547 -1.021484 -2.537109 -2.455078   \n",
       "3 -1.652344 -2.703125 -2.271484  ... -0.367676 -1.789062 -1.804688 -2.474609   \n",
       "4  0.607910 -1.335938 -1.022461  ...  1.649414 -1.704102 -2.476562 -4.484375   \n",
       "\n",
       "         94        95        96        97        98        99  \n",
       "0  1.062500  1.274414 -0.247559  1.378906  1.920898  2.222656  \n",
       "1  2.085938  1.500000 -0.222168  0.646973  2.218750  0.959961  \n",
       "2  2.013672  1.943359  0.622559  1.703125  2.359375  1.231445  \n",
       "3  2.878906  0.426025 -0.582520  3.107422  0.837402  1.043945  \n",
       "4  1.402344  0.638184  0.058777  1.250977  2.457031  2.515625  \n",
       "\n",
       "[5 rows x 101 columns]"
      ],
      "text/html": "<div>\n<style scoped>\n    .dataframe tbody tr th:only-of-type {\n        vertical-align: middle;\n    }\n\n    .dataframe tbody tr th {\n        vertical-align: top;\n    }\n\n    .dataframe thead th {\n        text-align: right;\n    }\n</style>\n<table border=\"1\" class=\"dataframe\">\n  <thead>\n    <tr style=\"text-align: right;\">\n      <th></th>\n      <th>MAL_ID</th>\n      <th>0</th>\n      <th>1</th>\n      <th>2</th>\n      <th>3</th>\n      <th>4</th>\n      <th>5</th>\n      <th>6</th>\n      <th>7</th>\n      <th>8</th>\n      <th>...</th>\n      <th>90</th>\n      <th>91</th>\n      <th>92</th>\n      <th>93</th>\n      <th>94</th>\n      <th>95</th>\n      <th>96</th>\n      <th>97</th>\n      <th>98</th>\n      <th>99</th>\n    </tr>\n  </thead>\n  <tbody>\n    <tr>\n      <th>0</th>\n      <td>1</td>\n      <td>-0.114563</td>\n      <td>-3.921875</td>\n      <td>0.508789</td>\n      <td>1.326172</td>\n      <td>2.681641</td>\n      <td>1.789062</td>\n      <td>-1.769531</td>\n      <td>-1.250977</td>\n      <td>-1.898438</td>\n      <td>...</td>\n      <td>0.863770</td>\n      <td>-0.738281</td>\n      <td>-1.119141</td>\n      <td>-0.729980</td>\n      <td>1.062500</td>\n      <td>1.274414</td>\n      <td>-0.247559</td>\n      <td>1.378906</td>\n      <td>1.920898</td>\n      <td>2.222656</td>\n    </tr>\n    <tr>\n      <th>1</th>\n      <td>5</td>\n      <td>2.312500</td>\n      <td>-2.361328</td>\n      <td>-0.013504</td>\n      <td>2.705078</td>\n      <td>1.199219</td>\n      <td>3.171875</td>\n      <td>-1.360352</td>\n      <td>-2.603516</td>\n      <td>-1.960938</td>\n      <td>...</td>\n      <td>0.493652</td>\n      <td>-0.946777</td>\n      <td>-0.937988</td>\n      <td>-0.260986</td>\n      <td>2.085938</td>\n      <td>1.500000</td>\n      <td>-0.222168</td>\n      <td>0.646973</td>\n      <td>2.218750</td>\n      <td>0.959961</td>\n    </tr>\n    <tr>\n      <th>2</th>\n      <td>6</td>\n      <td>-0.225952</td>\n      <td>-2.601562</td>\n      <td>-0.183105</td>\n      <td>2.042969</td>\n      <td>1.671875</td>\n      <td>1.951172</td>\n      <td>-1.368164</td>\n      <td>-2.917969</td>\n      <td>-0.161377</td>\n      <td>...</td>\n      <td>-1.435547</td>\n      <td>-1.021484</td>\n      <td>-2.537109</td>\n      <td>-2.455078</td>\n      <td>2.013672</td>\n      <td>1.943359</td>\n      <td>0.622559</td>\n      <td>1.703125</td>\n      <td>2.359375</td>\n      <td>1.231445</td>\n    </tr>\n    <tr>\n      <th>3</th>\n      <td>7</td>\n      <td>0.842773</td>\n      <td>-0.527344</td>\n      <td>0.271484</td>\n      <td>0.753906</td>\n      <td>1.575195</td>\n      <td>2.496094</td>\n      <td>-1.652344</td>\n      <td>-2.703125</td>\n      <td>-2.271484</td>\n      <td>...</td>\n      <td>-0.367676</td>\n      <td>-1.789062</td>\n      <td>-1.804688</td>\n      <td>-2.474609</td>\n      <td>2.878906</td>\n      <td>0.426025</td>\n      <td>-0.582520</td>\n      <td>3.107422</td>\n      <td>0.837402</td>\n      <td>1.043945</td>\n    </tr>\n    <tr>\n      <th>4</th>\n      <td>8</td>\n      <td>1.521484</td>\n      <td>-2.650391</td>\n      <td>0.423584</td>\n      <td>1.816406</td>\n      <td>2.029297</td>\n      <td>1.696289</td>\n      <td>0.607910</td>\n      <td>-1.335938</td>\n      <td>-1.022461</td>\n      <td>...</td>\n      <td>1.649414</td>\n      <td>-1.704102</td>\n      <td>-2.476562</td>\n      <td>-4.484375</td>\n      <td>1.402344</td>\n      <td>0.638184</td>\n      <td>0.058777</td>\n      <td>1.250977</td>\n      <td>2.457031</td>\n      <td>2.515625</td>\n    </tr>\n  </tbody>\n</table>\n<p>5 rows × 101 columns</p>\n</div>"
     },
     "metadata": {},
     "execution_count": 2
    }
   ],
   "source": [
    "synop_vec = pd.read_csv('synopsis_vector.csv')\n",
    "synop_vec.head()"
   ]
  },
  {
   "cell_type": "code",
   "execution_count": 3,
   "metadata": {},
   "outputs": [
    {
     "output_type": "execute_result",
     "data": {
      "text/plain": [
       "   MAL_ID  Action  Adventure  Cars  Comedy  Dementia  Demons  Drama  Ecchi  \\\n",
       "0       1       1          1     0       1         0       0      1      0   \n",
       "1       5       1          0     0       0         0       0      1      0   \n",
       "2       6       1          1     0       1         0       0      1      0   \n",
       "3       7       1          0     0       0         0       0      1      0   \n",
       "4       8       0          1     0       0         0       0      0      0   \n",
       "\n",
       "   Fantasy  ...  Shounen Ai  Slice of Life  Space  Sports  Super Power  \\\n",
       "0        0  ...           0              0      1       0            0   \n",
       "1        0  ...           0              0      1       0            0   \n",
       "2        0  ...           0              0      0       0            0   \n",
       "3        0  ...           0              0      0       0            0   \n",
       "4        1  ...           0              0      0       0            0   \n",
       "\n",
       "   Supernatural  Thriller  Vampire  Yaoi  Yuri  \n",
       "0             0         0        0     0     0  \n",
       "1             0         0        0     0     0  \n",
       "2             0         0        0     0     0  \n",
       "3             1         0        0     0     0  \n",
       "4             1         0        0     0     0  \n",
       "\n",
       "[5 rows x 44 columns]"
      ],
      "text/html": "<div>\n<style scoped>\n    .dataframe tbody tr th:only-of-type {\n        vertical-align: middle;\n    }\n\n    .dataframe tbody tr th {\n        vertical-align: top;\n    }\n\n    .dataframe thead th {\n        text-align: right;\n    }\n</style>\n<table border=\"1\" class=\"dataframe\">\n  <thead>\n    <tr style=\"text-align: right;\">\n      <th></th>\n      <th>MAL_ID</th>\n      <th>Action</th>\n      <th>Adventure</th>\n      <th>Cars</th>\n      <th>Comedy</th>\n      <th>Dementia</th>\n      <th>Demons</th>\n      <th>Drama</th>\n      <th>Ecchi</th>\n      <th>Fantasy</th>\n      <th>...</th>\n      <th>Shounen Ai</th>\n      <th>Slice of Life</th>\n      <th>Space</th>\n      <th>Sports</th>\n      <th>Super Power</th>\n      <th>Supernatural</th>\n      <th>Thriller</th>\n      <th>Vampire</th>\n      <th>Yaoi</th>\n      <th>Yuri</th>\n    </tr>\n  </thead>\n  <tbody>\n    <tr>\n      <th>0</th>\n      <td>1</td>\n      <td>1</td>\n      <td>1</td>\n      <td>0</td>\n      <td>1</td>\n      <td>0</td>\n      <td>0</td>\n      <td>1</td>\n      <td>0</td>\n      <td>0</td>\n      <td>...</td>\n      <td>0</td>\n      <td>0</td>\n      <td>1</td>\n      <td>0</td>\n      <td>0</td>\n      <td>0</td>\n      <td>0</td>\n      <td>0</td>\n      <td>0</td>\n      <td>0</td>\n    </tr>\n    <tr>\n      <th>1</th>\n      <td>5</td>\n      <td>1</td>\n      <td>0</td>\n      <td>0</td>\n      <td>0</td>\n      <td>0</td>\n      <td>0</td>\n      <td>1</td>\n      <td>0</td>\n      <td>0</td>\n      <td>...</td>\n      <td>0</td>\n      <td>0</td>\n      <td>1</td>\n      <td>0</td>\n      <td>0</td>\n      <td>0</td>\n      <td>0</td>\n      <td>0</td>\n      <td>0</td>\n      <td>0</td>\n    </tr>\n    <tr>\n      <th>2</th>\n      <td>6</td>\n      <td>1</td>\n      <td>1</td>\n      <td>0</td>\n      <td>1</td>\n      <td>0</td>\n      <td>0</td>\n      <td>1</td>\n      <td>0</td>\n      <td>0</td>\n      <td>...</td>\n      <td>0</td>\n      <td>0</td>\n      <td>0</td>\n      <td>0</td>\n      <td>0</td>\n      <td>0</td>\n      <td>0</td>\n      <td>0</td>\n      <td>0</td>\n      <td>0</td>\n    </tr>\n    <tr>\n      <th>3</th>\n      <td>7</td>\n      <td>1</td>\n      <td>0</td>\n      <td>0</td>\n      <td>0</td>\n      <td>0</td>\n      <td>0</td>\n      <td>1</td>\n      <td>0</td>\n      <td>0</td>\n      <td>...</td>\n      <td>0</td>\n      <td>0</td>\n      <td>0</td>\n      <td>0</td>\n      <td>0</td>\n      <td>1</td>\n      <td>0</td>\n      <td>0</td>\n      <td>0</td>\n      <td>0</td>\n    </tr>\n    <tr>\n      <th>4</th>\n      <td>8</td>\n      <td>0</td>\n      <td>1</td>\n      <td>0</td>\n      <td>0</td>\n      <td>0</td>\n      <td>0</td>\n      <td>0</td>\n      <td>0</td>\n      <td>1</td>\n      <td>...</td>\n      <td>0</td>\n      <td>0</td>\n      <td>0</td>\n      <td>0</td>\n      <td>0</td>\n      <td>1</td>\n      <td>0</td>\n      <td>0</td>\n      <td>0</td>\n      <td>0</td>\n    </tr>\n  </tbody>\n</table>\n<p>5 rows × 44 columns</p>\n</div>"
     },
     "metadata": {},
     "execution_count": 3
    }
   ],
   "source": [
    "genre_vec = pd.read_csv('genre.csv')\n",
    "genre_vec.head()"
   ]
  },
  {
   "source": [
    "## Split Train-Test Set"
   ],
   "cell_type": "markdown",
   "metadata": {}
  },
  {
   "cell_type": "code",
   "execution_count": 4,
   "metadata": {},
   "outputs": [],
   "source": [
    "synop_cols = synop_vec.columns.drop('MAL_ID').values\n",
    "genre_cols = genre_vec.columns.drop('MAL_ID').values"
   ]
  },
  {
   "cell_type": "code",
   "execution_count": 5,
   "metadata": {},
   "outputs": [
    {
     "output_type": "execute_result",
     "data": {
      "text/plain": [
       "   MAL_ID         0         1         2         3         4         5  \\\n",
       "0       1 -0.114563 -3.921875  0.508789  1.326172  2.681641  1.789062   \n",
       "1       5  2.312500 -2.361328 -0.013504  2.705078  1.199219  3.171875   \n",
       "2       6 -0.225952 -2.601562 -0.183105  2.042969  1.671875  1.951172   \n",
       "3       7  0.842773 -0.527344  0.271484  0.753906  1.575195  2.496094   \n",
       "4       8  1.521484 -2.650391  0.423584  1.816406  2.029297  1.696289   \n",
       "\n",
       "          6         7         8  ...  Shounen Ai  Slice of Life  Space  \\\n",
       "0 -1.769531 -1.250977 -1.898438  ...           0              0      1   \n",
       "1 -1.360352 -2.603516 -1.960938  ...           0              0      1   \n",
       "2 -1.368164 -2.917969 -0.161377  ...           0              0      0   \n",
       "3 -1.652344 -2.703125 -2.271484  ...           0              0      0   \n",
       "4  0.607910 -1.335938 -1.022461  ...           0              0      0   \n",
       "\n",
       "   Sports  Super Power  Supernatural  Thriller  Vampire  Yaoi  Yuri  \n",
       "0       0            0             0         0        0     0     0  \n",
       "1       0            0             0         0        0     0     0  \n",
       "2       0            0             0         0        0     0     0  \n",
       "3       0            0             1         0        0     0     0  \n",
       "4       0            0             1         0        0     0     0  \n",
       "\n",
       "[5 rows x 144 columns]"
      ],
      "text/html": "<div>\n<style scoped>\n    .dataframe tbody tr th:only-of-type {\n        vertical-align: middle;\n    }\n\n    .dataframe tbody tr th {\n        vertical-align: top;\n    }\n\n    .dataframe thead th {\n        text-align: right;\n    }\n</style>\n<table border=\"1\" class=\"dataframe\">\n  <thead>\n    <tr style=\"text-align: right;\">\n      <th></th>\n      <th>MAL_ID</th>\n      <th>0</th>\n      <th>1</th>\n      <th>2</th>\n      <th>3</th>\n      <th>4</th>\n      <th>5</th>\n      <th>6</th>\n      <th>7</th>\n      <th>8</th>\n      <th>...</th>\n      <th>Shounen Ai</th>\n      <th>Slice of Life</th>\n      <th>Space</th>\n      <th>Sports</th>\n      <th>Super Power</th>\n      <th>Supernatural</th>\n      <th>Thriller</th>\n      <th>Vampire</th>\n      <th>Yaoi</th>\n      <th>Yuri</th>\n    </tr>\n  </thead>\n  <tbody>\n    <tr>\n      <th>0</th>\n      <td>1</td>\n      <td>-0.114563</td>\n      <td>-3.921875</td>\n      <td>0.508789</td>\n      <td>1.326172</td>\n      <td>2.681641</td>\n      <td>1.789062</td>\n      <td>-1.769531</td>\n      <td>-1.250977</td>\n      <td>-1.898438</td>\n      <td>...</td>\n      <td>0</td>\n      <td>0</td>\n      <td>1</td>\n      <td>0</td>\n      <td>0</td>\n      <td>0</td>\n      <td>0</td>\n      <td>0</td>\n      <td>0</td>\n      <td>0</td>\n    </tr>\n    <tr>\n      <th>1</th>\n      <td>5</td>\n      <td>2.312500</td>\n      <td>-2.361328</td>\n      <td>-0.013504</td>\n      <td>2.705078</td>\n      <td>1.199219</td>\n      <td>3.171875</td>\n      <td>-1.360352</td>\n      <td>-2.603516</td>\n      <td>-1.960938</td>\n      <td>...</td>\n      <td>0</td>\n      <td>0</td>\n      <td>1</td>\n      <td>0</td>\n      <td>0</td>\n      <td>0</td>\n      <td>0</td>\n      <td>0</td>\n      <td>0</td>\n      <td>0</td>\n    </tr>\n    <tr>\n      <th>2</th>\n      <td>6</td>\n      <td>-0.225952</td>\n      <td>-2.601562</td>\n      <td>-0.183105</td>\n      <td>2.042969</td>\n      <td>1.671875</td>\n      <td>1.951172</td>\n      <td>-1.368164</td>\n      <td>-2.917969</td>\n      <td>-0.161377</td>\n      <td>...</td>\n      <td>0</td>\n      <td>0</td>\n      <td>0</td>\n      <td>0</td>\n      <td>0</td>\n      <td>0</td>\n      <td>0</td>\n      <td>0</td>\n      <td>0</td>\n      <td>0</td>\n    </tr>\n    <tr>\n      <th>3</th>\n      <td>7</td>\n      <td>0.842773</td>\n      <td>-0.527344</td>\n      <td>0.271484</td>\n      <td>0.753906</td>\n      <td>1.575195</td>\n      <td>2.496094</td>\n      <td>-1.652344</td>\n      <td>-2.703125</td>\n      <td>-2.271484</td>\n      <td>...</td>\n      <td>0</td>\n      <td>0</td>\n      <td>0</td>\n      <td>0</td>\n      <td>0</td>\n      <td>1</td>\n      <td>0</td>\n      <td>0</td>\n      <td>0</td>\n      <td>0</td>\n    </tr>\n    <tr>\n      <th>4</th>\n      <td>8</td>\n      <td>1.521484</td>\n      <td>-2.650391</td>\n      <td>0.423584</td>\n      <td>1.816406</td>\n      <td>2.029297</td>\n      <td>1.696289</td>\n      <td>0.607910</td>\n      <td>-1.335938</td>\n      <td>-1.022461</td>\n      <td>...</td>\n      <td>0</td>\n      <td>0</td>\n      <td>0</td>\n      <td>0</td>\n      <td>0</td>\n      <td>1</td>\n      <td>0</td>\n      <td>0</td>\n      <td>0</td>\n      <td>0</td>\n    </tr>\n  </tbody>\n</table>\n<p>5 rows × 144 columns</p>\n</div>"
     },
     "metadata": {},
     "execution_count": 5
    }
   ],
   "source": [
    "full_vec = pd.merge(synop_vec, genre_vec)\n",
    "full_vec.head()"
   ]
  },
  {
   "cell_type": "code",
   "execution_count": 6,
   "metadata": {},
   "outputs": [
    {
     "output_type": "execute_result",
     "data": {
      "text/plain": [
       "   MAL_ID         0         1         2         3         4         5  \\\n",
       "0    1699  1.656250 -1.757812  0.069824  1.344727  2.158203  2.578125   \n",
       "1    5572 -2.308594 -2.591797  1.899414 -0.343506 -0.736816  3.375000   \n",
       "2   37986  3.447266 -1.507812 -3.267578 -1.221680  3.804688  2.013672   \n",
       "3   10237  1.181641 -5.640625  2.412109  2.119141  4.117188  4.593750   \n",
       "4   31498 -0.902832 -3.273438 -0.698730  0.289307  2.007812 -1.078125   \n",
       "\n",
       "          6         7         8  ...  Shounen Ai  Slice of Life  Space  \\\n",
       "0 -2.080078 -1.563477 -1.580078  ...           0              0      0   \n",
       "1 -1.614258 -1.548828 -0.141846  ...           0              0      0   \n",
       "2 -2.408203 -1.073242 -2.335938  ...           0              0      0   \n",
       "3 -1.825195 -1.942383 -1.727539  ...           0              0      0   \n",
       "4 -1.535156 -0.404541 -3.009766  ...           0              1      0   \n",
       "\n",
       "   Sports  Super Power  Supernatural  Thriller  Vampire  Yaoi  Yuri  \n",
       "0       0            0             0         0        0     0     0  \n",
       "1       0            0             0         0        0     0     0  \n",
       "2       0            0             0         0        0     0     0  \n",
       "3       0            0             0         0        0     0     0  \n",
       "4       0            0             0         0        0     0     0  \n",
       "\n",
       "[5 rows x 144 columns]"
      ],
      "text/html": "<div>\n<style scoped>\n    .dataframe tbody tr th:only-of-type {\n        vertical-align: middle;\n    }\n\n    .dataframe tbody tr th {\n        vertical-align: top;\n    }\n\n    .dataframe thead th {\n        text-align: right;\n    }\n</style>\n<table border=\"1\" class=\"dataframe\">\n  <thead>\n    <tr style=\"text-align: right;\">\n      <th></th>\n      <th>MAL_ID</th>\n      <th>0</th>\n      <th>1</th>\n      <th>2</th>\n      <th>3</th>\n      <th>4</th>\n      <th>5</th>\n      <th>6</th>\n      <th>7</th>\n      <th>8</th>\n      <th>...</th>\n      <th>Shounen Ai</th>\n      <th>Slice of Life</th>\n      <th>Space</th>\n      <th>Sports</th>\n      <th>Super Power</th>\n      <th>Supernatural</th>\n      <th>Thriller</th>\n      <th>Vampire</th>\n      <th>Yaoi</th>\n      <th>Yuri</th>\n    </tr>\n  </thead>\n  <tbody>\n    <tr>\n      <th>0</th>\n      <td>1699</td>\n      <td>1.656250</td>\n      <td>-1.757812</td>\n      <td>0.069824</td>\n      <td>1.344727</td>\n      <td>2.158203</td>\n      <td>2.578125</td>\n      <td>-2.080078</td>\n      <td>-1.563477</td>\n      <td>-1.580078</td>\n      <td>...</td>\n      <td>0</td>\n      <td>0</td>\n      <td>0</td>\n      <td>0</td>\n      <td>0</td>\n      <td>0</td>\n      <td>0</td>\n      <td>0</td>\n      <td>0</td>\n      <td>0</td>\n    </tr>\n    <tr>\n      <th>1</th>\n      <td>5572</td>\n      <td>-2.308594</td>\n      <td>-2.591797</td>\n      <td>1.899414</td>\n      <td>-0.343506</td>\n      <td>-0.736816</td>\n      <td>3.375000</td>\n      <td>-1.614258</td>\n      <td>-1.548828</td>\n      <td>-0.141846</td>\n      <td>...</td>\n      <td>0</td>\n      <td>0</td>\n      <td>0</td>\n      <td>0</td>\n      <td>0</td>\n      <td>0</td>\n      <td>0</td>\n      <td>0</td>\n      <td>0</td>\n      <td>0</td>\n    </tr>\n    <tr>\n      <th>2</th>\n      <td>37986</td>\n      <td>3.447266</td>\n      <td>-1.507812</td>\n      <td>-3.267578</td>\n      <td>-1.221680</td>\n      <td>3.804688</td>\n      <td>2.013672</td>\n      <td>-2.408203</td>\n      <td>-1.073242</td>\n      <td>-2.335938</td>\n      <td>...</td>\n      <td>0</td>\n      <td>0</td>\n      <td>0</td>\n      <td>0</td>\n      <td>0</td>\n      <td>0</td>\n      <td>0</td>\n      <td>0</td>\n      <td>0</td>\n      <td>0</td>\n    </tr>\n    <tr>\n      <th>3</th>\n      <td>10237</td>\n      <td>1.181641</td>\n      <td>-5.640625</td>\n      <td>2.412109</td>\n      <td>2.119141</td>\n      <td>4.117188</td>\n      <td>4.593750</td>\n      <td>-1.825195</td>\n      <td>-1.942383</td>\n      <td>-1.727539</td>\n      <td>...</td>\n      <td>0</td>\n      <td>0</td>\n      <td>0</td>\n      <td>0</td>\n      <td>0</td>\n      <td>0</td>\n      <td>0</td>\n      <td>0</td>\n      <td>0</td>\n      <td>0</td>\n    </tr>\n    <tr>\n      <th>4</th>\n      <td>31498</td>\n      <td>-0.902832</td>\n      <td>-3.273438</td>\n      <td>-0.698730</td>\n      <td>0.289307</td>\n      <td>2.007812</td>\n      <td>-1.078125</td>\n      <td>-1.535156</td>\n      <td>-0.404541</td>\n      <td>-3.009766</td>\n      <td>...</td>\n      <td>0</td>\n      <td>1</td>\n      <td>0</td>\n      <td>0</td>\n      <td>0</td>\n      <td>0</td>\n      <td>0</td>\n      <td>0</td>\n      <td>0</td>\n      <td>0</td>\n    </tr>\n  </tbody>\n</table>\n<p>5 rows × 144 columns</p>\n</div>"
     },
     "metadata": {},
     "execution_count": 6
    }
   ],
   "source": [
    "# random shuffle and re-index\n",
    "full_vec = full_vec.sample(frac=1).reset_index(drop=True)\n",
    "full_vec.head()"
   ]
  },
  {
   "cell_type": "code",
   "execution_count": 7,
   "metadata": {},
   "outputs": [],
   "source": [
    "# split dataframe to train-test numpy array\n",
    "train_ratio = 0.95\n",
    "num_train = int(len(full_vec) * train_ratio)\n",
    "\n",
    "x_train = full_vec[synop_cols][:num_train].values\n",
    "t_train = full_vec[genre_cols][:num_train].values\n",
    "id_train = full_vec['MAL_ID'][num_train:].values\n",
    "\n",
    "x_test = full_vec[synop_cols][num_train:].values\n",
    "t_test = full_vec[genre_cols][num_train:].values\n",
    "id_test = full_vec['MAL_ID'][num_train:].values\n",
    "\n",
    "del synop_vec, genre_vec, full_vec"
   ]
  },
  {
   "cell_type": "code",
   "execution_count": 8,
   "metadata": {},
   "outputs": [],
   "source": [
    "# standardization\n",
    "x_train_mean = x_train.mean(axis=0)\n",
    "x_train_std  = x_train.std(axis=0)\n",
    "\n",
    "x_train = (x_train - x_train_mean) / x_train_std\n",
    "x_test  = (x_test  - x_train_mean) / x_train_std"
   ]
  },
  {
   "source": [
    "## Define Model"
   ],
   "cell_type": "markdown",
   "metadata": {}
  },
  {
   "cell_type": "code",
   "execution_count": 9,
   "metadata": {},
   "outputs": [
    {
     "output_type": "stream",
     "name": "stdout",
     "text": [
      "------------------------------------------------------------\nAffine(input_size=100, output_size=50, weight_init=he)\n------------------------------------------------------------\nBatchNormalization(size_layer=50)\n------------------------------------------------------------\nRelu()\n------------------------------------------------------------\nDropout(dropout_ratio=0.5)\n------------------------------------------------------------\nAffine(input_size=50, output_size=43, weight_init=xavier)\n------------------------------------------------------------\nFocalLoss(gamma=0.5)\n------------------------------------------------------------\n"
     ]
    }
   ],
   "source": [
    "input_size  = len(synop_cols)\n",
    "output_size = len(genre_cols)\n",
    "\n",
    "model = MultiLabelClassifier(input_size=input_size,\n",
    "                             hidden_size_list=[50],\n",
    "                             output_size=output_size,\n",
    "                             use_dropout=True,\n",
    "                             dropout_ratio=0.5,\n",
    "                             use_batchnorm=True,\n",
    "                             use_focal_loss=True,\n",
    "                             focal_gamma=0.5)\n",
    "model.summary()"
   ]
  },
  {
   "cell_type": "code",
   "execution_count": 10,
   "metadata": {},
   "outputs": [],
   "source": [
    "optimizer = Adam(lr=0.001)\n",
    "trainer = Trainer(model, optimizer)"
   ]
  },
  {
   "source": [
    "## Train Model"
   ],
   "cell_type": "markdown",
   "metadata": {}
  },
  {
   "cell_type": "code",
   "execution_count": 11,
   "metadata": {
    "tags": []
   },
   "outputs": [
    {
     "output_type": "stream",
     "name": "stdout",
     "text": [
      "| epoch   1 | time   0[s] | train loss 11.51 | val loss 11.46\n",
      "| epoch   2 | time   0[s] | train loss 8.52 | val loss 8.67\n",
      "| epoch   3 | time   0[s] | train loss 8.49 | val loss 8.77\n",
      "| epoch   4 | time   1[s] | train loss 8.79 | val loss 9.12\n",
      "| epoch   5 | time   1[s] | train loss 8.98 | val loss 9.33\n",
      "| epoch   6 | time   1[s] | train loss 9.06 | val loss 9.42\n",
      "| epoch   7 | time   2[s] | train loss 9.05 | val loss 9.41\n",
      "| epoch   8 | time   2[s] | train loss 9.03 | val loss 9.41\n",
      "| epoch   9 | time   2[s] | train loss 8.98 | val loss 9.34\n",
      "| epoch  10 | time   3[s] | train loss 8.97 | val loss 9.34\n",
      "| epoch  11 | time   3[s] | train loss 8.92 | val loss 9.30\n",
      "| epoch  12 | time   3[s] | train loss 8.83 | val loss 9.22\n",
      "| epoch  13 | time   4[s] | train loss 8.79 | val loss 9.20\n",
      "| epoch  14 | time   4[s] | train loss 8.79 | val loss 9.20\n",
      "| epoch  15 | time   4[s] | train loss 8.72 | val loss 9.14\n",
      "| epoch  16 | time   4[s] | train loss 8.74 | val loss 9.16\n",
      "| epoch  17 | time   4[s] | train loss 8.65 | val loss 9.09\n",
      "| epoch  18 | time   5[s] | train loss 8.66 | val loss 9.11\n",
      "| epoch  19 | time   5[s] | train loss 8.55 | val loss 9.00\n",
      "| epoch  20 | time   5[s] | train loss 8.50 | val loss 8.94\n"
     ]
    }
   ],
   "source": [
    "num_epochs = 20\n",
    "batch_size = 100\n",
    "\n",
    "trainer.fit(x_train, t_train, x_test, t_test, \n",
    "            max_epoch=num_epochs, \n",
    "            batch_size=batch_size)"
   ]
  },
  {
   "cell_type": "code",
   "execution_count": 12,
   "metadata": {},
   "outputs": [
    {
     "output_type": "display_data",
     "data": {
      "text/plain": "<Figure size 432x288 with 1 Axes>",
      "image/svg+xml": "<?xml version=\"1.0\" encoding=\"utf-8\" standalone=\"no\"?>\n<!DOCTYPE svg PUBLIC \"-//W3C//DTD SVG 1.1//EN\"\n  \"http://www.w3.org/Graphics/SVG/1.1/DTD/svg11.dtd\">\n<svg height=\"262.19625pt\" version=\"1.1\" viewBox=\"0 0 392.14375 262.19625\" width=\"392.14375pt\" xmlns=\"http://www.w3.org/2000/svg\" xmlns:xlink=\"http://www.w3.org/1999/xlink\">\n <metadata>\n  <rdf:RDF xmlns:cc=\"http://creativecommons.org/ns#\" xmlns:dc=\"http://purl.org/dc/elements/1.1/\" xmlns:rdf=\"http://www.w3.org/1999/02/22-rdf-syntax-ns#\">\n   <cc:Work>\n    <dc:type rdf:resource=\"http://purl.org/dc/dcmitype/StillImage\"/>\n    <dc:date>2021-06-22T07:16:32.077188</dc:date>\n    <dc:format>image/svg+xml</dc:format>\n    <dc:creator>\n     <cc:Agent>\n      <dc:title>Matplotlib v3.4.2, https://matplotlib.org/</dc:title>\n     </cc:Agent>\n    </dc:creator>\n   </cc:Work>\n  </rdf:RDF>\n </metadata>\n <defs>\n  <style type=\"text/css\">*{stroke-linecap:butt;stroke-linejoin:round;}</style>\n </defs>\n <g id=\"figure_1\">\n  <g id=\"patch_1\">\n   <path d=\"M 0 262.19625 \nL 392.14375 262.19625 \nL 392.14375 0 \nL 0 0 \nz\n\" style=\"fill:none;\"/>\n  </g>\n  <g id=\"axes_1\">\n   <g id=\"patch_2\">\n    <path d=\"M 50.14375 224.64 \nL 384.94375 224.64 \nL 384.94375 7.2 \nL 50.14375 7.2 \nz\n\" style=\"fill:#ffffff;\"/>\n   </g>\n   <g id=\"matplotlib.axis_1\">\n    <g id=\"xtick_1\">\n     <g id=\"line2d_1\">\n      <defs>\n       <path d=\"M 0 0 \nL 0 3.5 \n\" id=\"m50c9fdb070\" style=\"stroke:#000000;stroke-width:0.8;\"/>\n      </defs>\n      <g>\n       <use style=\"stroke:#000000;stroke-width:0.8;\" x=\"65.361932\" xlink:href=\"#m50c9fdb070\" y=\"224.64\"/>\n      </g>\n     </g>\n     <g id=\"text_1\">\n      <!-- 0.0 -->\n      <g transform=\"translate(57.410369 239.238438)scale(0.1 -0.1)\">\n       <defs>\n        <path d=\"M 2034 4250 \nQ 1547 4250 1301 3770 \nQ 1056 3291 1056 2328 \nQ 1056 1369 1301 889 \nQ 1547 409 2034 409 \nQ 2525 409 2770 889 \nQ 3016 1369 3016 2328 \nQ 3016 3291 2770 3770 \nQ 2525 4250 2034 4250 \nz\nM 2034 4750 \nQ 2819 4750 3233 4129 \nQ 3647 3509 3647 2328 \nQ 3647 1150 3233 529 \nQ 2819 -91 2034 -91 \nQ 1250 -91 836 529 \nQ 422 1150 422 2328 \nQ 422 3509 836 4129 \nQ 1250 4750 2034 4750 \nz\n\" id=\"DejaVuSans-30\" transform=\"scale(0.015625)\"/>\n        <path d=\"M 684 794 \nL 1344 794 \nL 1344 0 \nL 684 0 \nL 684 794 \nz\n\" id=\"DejaVuSans-2e\" transform=\"scale(0.015625)\"/>\n       </defs>\n       <use xlink:href=\"#DejaVuSans-30\"/>\n       <use x=\"63.623047\" xlink:href=\"#DejaVuSans-2e\"/>\n       <use x=\"95.410156\" xlink:href=\"#DejaVuSans-30\"/>\n      </g>\n     </g>\n    </g>\n    <g id=\"xtick_2\">\n     <g id=\"line2d_2\">\n      <g>\n       <use style=\"stroke:#000000;stroke-width:0.8;\" x=\"105.409779\" xlink:href=\"#m50c9fdb070\" y=\"224.64\"/>\n      </g>\n     </g>\n     <g id=\"text_2\">\n      <!-- 2.5 -->\n      <g transform=\"translate(97.458216 239.238438)scale(0.1 -0.1)\">\n       <defs>\n        <path d=\"M 1228 531 \nL 3431 531 \nL 3431 0 \nL 469 0 \nL 469 531 \nQ 828 903 1448 1529 \nQ 2069 2156 2228 2338 \nQ 2531 2678 2651 2914 \nQ 2772 3150 2772 3378 \nQ 2772 3750 2511 3984 \nQ 2250 4219 1831 4219 \nQ 1534 4219 1204 4116 \nQ 875 4013 500 3803 \nL 500 4441 \nQ 881 4594 1212 4672 \nQ 1544 4750 1819 4750 \nQ 2544 4750 2975 4387 \nQ 3406 4025 3406 3419 \nQ 3406 3131 3298 2873 \nQ 3191 2616 2906 2266 \nQ 2828 2175 2409 1742 \nQ 1991 1309 1228 531 \nz\n\" id=\"DejaVuSans-32\" transform=\"scale(0.015625)\"/>\n        <path d=\"M 691 4666 \nL 3169 4666 \nL 3169 4134 \nL 1269 4134 \nL 1269 2991 \nQ 1406 3038 1543 3061 \nQ 1681 3084 1819 3084 \nQ 2600 3084 3056 2656 \nQ 3513 2228 3513 1497 \nQ 3513 744 3044 326 \nQ 2575 -91 1722 -91 \nQ 1428 -91 1123 -41 \nQ 819 9 494 109 \nL 494 744 \nQ 775 591 1075 516 \nQ 1375 441 1709 441 \nQ 2250 441 2565 725 \nQ 2881 1009 2881 1497 \nQ 2881 1984 2565 2268 \nQ 2250 2553 1709 2553 \nQ 1456 2553 1204 2497 \nQ 953 2441 691 2322 \nL 691 4666 \nz\n\" id=\"DejaVuSans-35\" transform=\"scale(0.015625)\"/>\n       </defs>\n       <use xlink:href=\"#DejaVuSans-32\"/>\n       <use x=\"63.623047\" xlink:href=\"#DejaVuSans-2e\"/>\n       <use x=\"95.410156\" xlink:href=\"#DejaVuSans-35\"/>\n      </g>\n     </g>\n    </g>\n    <g id=\"xtick_3\">\n     <g id=\"line2d_3\">\n      <g>\n       <use style=\"stroke:#000000;stroke-width:0.8;\" x=\"145.457626\" xlink:href=\"#m50c9fdb070\" y=\"224.64\"/>\n      </g>\n     </g>\n     <g id=\"text_3\">\n      <!-- 5.0 -->\n      <g transform=\"translate(137.506063 239.238438)scale(0.1 -0.1)\">\n       <use xlink:href=\"#DejaVuSans-35\"/>\n       <use x=\"63.623047\" xlink:href=\"#DejaVuSans-2e\"/>\n       <use x=\"95.410156\" xlink:href=\"#DejaVuSans-30\"/>\n      </g>\n     </g>\n    </g>\n    <g id=\"xtick_4\">\n     <g id=\"line2d_4\">\n      <g>\n       <use style=\"stroke:#000000;stroke-width:0.8;\" x=\"185.505472\" xlink:href=\"#m50c9fdb070\" y=\"224.64\"/>\n      </g>\n     </g>\n     <g id=\"text_4\">\n      <!-- 7.5 -->\n      <g transform=\"translate(177.55391 239.238438)scale(0.1 -0.1)\">\n       <defs>\n        <path d=\"M 525 4666 \nL 3525 4666 \nL 3525 4397 \nL 1831 0 \nL 1172 0 \nL 2766 4134 \nL 525 4134 \nL 525 4666 \nz\n\" id=\"DejaVuSans-37\" transform=\"scale(0.015625)\"/>\n       </defs>\n       <use xlink:href=\"#DejaVuSans-37\"/>\n       <use x=\"63.623047\" xlink:href=\"#DejaVuSans-2e\"/>\n       <use x=\"95.410156\" xlink:href=\"#DejaVuSans-35\"/>\n      </g>\n     </g>\n    </g>\n    <g id=\"xtick_5\">\n     <g id=\"line2d_5\">\n      <g>\n       <use style=\"stroke:#000000;stroke-width:0.8;\" x=\"225.553319\" xlink:href=\"#m50c9fdb070\" y=\"224.64\"/>\n      </g>\n     </g>\n     <g id=\"text_5\">\n      <!-- 10.0 -->\n      <g transform=\"translate(214.420507 239.238438)scale(0.1 -0.1)\">\n       <defs>\n        <path d=\"M 794 531 \nL 1825 531 \nL 1825 4091 \nL 703 3866 \nL 703 4441 \nL 1819 4666 \nL 2450 4666 \nL 2450 531 \nL 3481 531 \nL 3481 0 \nL 794 0 \nL 794 531 \nz\n\" id=\"DejaVuSans-31\" transform=\"scale(0.015625)\"/>\n       </defs>\n       <use xlink:href=\"#DejaVuSans-31\"/>\n       <use x=\"63.623047\" xlink:href=\"#DejaVuSans-30\"/>\n       <use x=\"127.246094\" xlink:href=\"#DejaVuSans-2e\"/>\n       <use x=\"159.033203\" xlink:href=\"#DejaVuSans-30\"/>\n      </g>\n     </g>\n    </g>\n    <g id=\"xtick_6\">\n     <g id=\"line2d_6\">\n      <g>\n       <use style=\"stroke:#000000;stroke-width:0.8;\" x=\"265.601166\" xlink:href=\"#m50c9fdb070\" y=\"224.64\"/>\n      </g>\n     </g>\n     <g id=\"text_6\">\n      <!-- 12.5 -->\n      <g transform=\"translate(254.468354 239.238438)scale(0.1 -0.1)\">\n       <use xlink:href=\"#DejaVuSans-31\"/>\n       <use x=\"63.623047\" xlink:href=\"#DejaVuSans-32\"/>\n       <use x=\"127.246094\" xlink:href=\"#DejaVuSans-2e\"/>\n       <use x=\"159.033203\" xlink:href=\"#DejaVuSans-35\"/>\n      </g>\n     </g>\n    </g>\n    <g id=\"xtick_7\">\n     <g id=\"line2d_7\">\n      <g>\n       <use style=\"stroke:#000000;stroke-width:0.8;\" x=\"305.649013\" xlink:href=\"#m50c9fdb070\" y=\"224.64\"/>\n      </g>\n     </g>\n     <g id=\"text_7\">\n      <!-- 15.0 -->\n      <g transform=\"translate(294.516201 239.238438)scale(0.1 -0.1)\">\n       <use xlink:href=\"#DejaVuSans-31\"/>\n       <use x=\"63.623047\" xlink:href=\"#DejaVuSans-35\"/>\n       <use x=\"127.246094\" xlink:href=\"#DejaVuSans-2e\"/>\n       <use x=\"159.033203\" xlink:href=\"#DejaVuSans-30\"/>\n      </g>\n     </g>\n    </g>\n    <g id=\"xtick_8\">\n     <g id=\"line2d_8\">\n      <g>\n       <use style=\"stroke:#000000;stroke-width:0.8;\" x=\"345.69686\" xlink:href=\"#m50c9fdb070\" y=\"224.64\"/>\n      </g>\n     </g>\n     <g id=\"text_8\">\n      <!-- 17.5 -->\n      <g transform=\"translate(334.564048 239.238438)scale(0.1 -0.1)\">\n       <use xlink:href=\"#DejaVuSans-31\"/>\n       <use x=\"63.623047\" xlink:href=\"#DejaVuSans-37\"/>\n       <use x=\"127.246094\" xlink:href=\"#DejaVuSans-2e\"/>\n       <use x=\"159.033203\" xlink:href=\"#DejaVuSans-35\"/>\n      </g>\n     </g>\n    </g>\n    <g id=\"text_9\">\n     <!-- Epoch -->\n     <g transform=\"translate(202.232813 252.916563)scale(0.1 -0.1)\">\n      <defs>\n       <path d=\"M 628 4666 \nL 3578 4666 \nL 3578 4134 \nL 1259 4134 \nL 1259 2753 \nL 3481 2753 \nL 3481 2222 \nL 1259 2222 \nL 1259 531 \nL 3634 531 \nL 3634 0 \nL 628 0 \nL 628 4666 \nz\n\" id=\"DejaVuSans-45\" transform=\"scale(0.015625)\"/>\n       <path d=\"M 1159 525 \nL 1159 -1331 \nL 581 -1331 \nL 581 3500 \nL 1159 3500 \nL 1159 2969 \nQ 1341 3281 1617 3432 \nQ 1894 3584 2278 3584 \nQ 2916 3584 3314 3078 \nQ 3713 2572 3713 1747 \nQ 3713 922 3314 415 \nQ 2916 -91 2278 -91 \nQ 1894 -91 1617 61 \nQ 1341 213 1159 525 \nz\nM 3116 1747 \nQ 3116 2381 2855 2742 \nQ 2594 3103 2138 3103 \nQ 1681 3103 1420 2742 \nQ 1159 2381 1159 1747 \nQ 1159 1113 1420 752 \nQ 1681 391 2138 391 \nQ 2594 391 2855 752 \nQ 3116 1113 3116 1747 \nz\n\" id=\"DejaVuSans-70\" transform=\"scale(0.015625)\"/>\n       <path d=\"M 1959 3097 \nQ 1497 3097 1228 2736 \nQ 959 2375 959 1747 \nQ 959 1119 1226 758 \nQ 1494 397 1959 397 \nQ 2419 397 2687 759 \nQ 2956 1122 2956 1747 \nQ 2956 2369 2687 2733 \nQ 2419 3097 1959 3097 \nz\nM 1959 3584 \nQ 2709 3584 3137 3096 \nQ 3566 2609 3566 1747 \nQ 3566 888 3137 398 \nQ 2709 -91 1959 -91 \nQ 1206 -91 779 398 \nQ 353 888 353 1747 \nQ 353 2609 779 3096 \nQ 1206 3584 1959 3584 \nz\n\" id=\"DejaVuSans-6f\" transform=\"scale(0.015625)\"/>\n       <path d=\"M 3122 3366 \nL 3122 2828 \nQ 2878 2963 2633 3030 \nQ 2388 3097 2138 3097 \nQ 1578 3097 1268 2742 \nQ 959 2388 959 1747 \nQ 959 1106 1268 751 \nQ 1578 397 2138 397 \nQ 2388 397 2633 464 \nQ 2878 531 3122 666 \nL 3122 134 \nQ 2881 22 2623 -34 \nQ 2366 -91 2075 -91 \nQ 1284 -91 818 406 \nQ 353 903 353 1747 \nQ 353 2603 823 3093 \nQ 1294 3584 2113 3584 \nQ 2378 3584 2631 3529 \nQ 2884 3475 3122 3366 \nz\n\" id=\"DejaVuSans-63\" transform=\"scale(0.015625)\"/>\n       <path d=\"M 3513 2113 \nL 3513 0 \nL 2938 0 \nL 2938 2094 \nQ 2938 2591 2744 2837 \nQ 2550 3084 2163 3084 \nQ 1697 3084 1428 2787 \nQ 1159 2491 1159 1978 \nL 1159 0 \nL 581 0 \nL 581 4863 \nL 1159 4863 \nL 1159 2956 \nQ 1366 3272 1645 3428 \nQ 1925 3584 2291 3584 \nQ 2894 3584 3203 3211 \nQ 3513 2838 3513 2113 \nz\n\" id=\"DejaVuSans-68\" transform=\"scale(0.015625)\"/>\n      </defs>\n      <use xlink:href=\"#DejaVuSans-45\"/>\n      <use x=\"63.183594\" xlink:href=\"#DejaVuSans-70\"/>\n      <use x=\"126.660156\" xlink:href=\"#DejaVuSans-6f\"/>\n      <use x=\"187.841797\" xlink:href=\"#DejaVuSans-63\"/>\n      <use x=\"242.822266\" xlink:href=\"#DejaVuSans-68\"/>\n     </g>\n    </g>\n   </g>\n   <g id=\"matplotlib.axis_2\">\n    <g id=\"ytick_1\">\n     <g id=\"line2d_9\">\n      <defs>\n       <path d=\"M 0 0 \nL -3.5 0 \n\" id=\"m27981403a3\" style=\"stroke:#000000;stroke-width:0.8;\"/>\n      </defs>\n      <g>\n       <use style=\"stroke:#000000;stroke-width:0.8;\" x=\"50.14375\" xlink:href=\"#m27981403a3\" y=\"214.324666\"/>\n      </g>\n     </g>\n     <g id=\"text_10\">\n      <!-- 8.5 -->\n      <g transform=\"translate(27.240625 218.123885)scale(0.1 -0.1)\">\n       <defs>\n        <path d=\"M 2034 2216 \nQ 1584 2216 1326 1975 \nQ 1069 1734 1069 1313 \nQ 1069 891 1326 650 \nQ 1584 409 2034 409 \nQ 2484 409 2743 651 \nQ 3003 894 3003 1313 \nQ 3003 1734 2745 1975 \nQ 2488 2216 2034 2216 \nz\nM 1403 2484 \nQ 997 2584 770 2862 \nQ 544 3141 544 3541 \nQ 544 4100 942 4425 \nQ 1341 4750 2034 4750 \nQ 2731 4750 3128 4425 \nQ 3525 4100 3525 3541 \nQ 3525 3141 3298 2862 \nQ 3072 2584 2669 2484 \nQ 3125 2378 3379 2068 \nQ 3634 1759 3634 1313 \nQ 3634 634 3220 271 \nQ 2806 -91 2034 -91 \nQ 1263 -91 848 271 \nQ 434 634 434 1313 \nQ 434 1759 690 2068 \nQ 947 2378 1403 2484 \nz\nM 1172 3481 \nQ 1172 3119 1398 2916 \nQ 1625 2713 2034 2713 \nQ 2441 2713 2670 2916 \nQ 2900 3119 2900 3481 \nQ 2900 3844 2670 4047 \nQ 2441 4250 2034 4250 \nQ 1625 4250 1398 4047 \nQ 1172 3844 1172 3481 \nz\n\" id=\"DejaVuSans-38\" transform=\"scale(0.015625)\"/>\n       </defs>\n       <use xlink:href=\"#DejaVuSans-38\"/>\n       <use x=\"63.623047\" xlink:href=\"#DejaVuSans-2e\"/>\n       <use x=\"95.410156\" xlink:href=\"#DejaVuSans-35\"/>\n      </g>\n     </g>\n    </g>\n    <g id=\"ytick_2\">\n     <g id=\"line2d_10\">\n      <g>\n       <use style=\"stroke:#000000;stroke-width:0.8;\" x=\"50.14375\" xlink:href=\"#m27981403a3\" y=\"181.514264\"/>\n      </g>\n     </g>\n     <g id=\"text_11\">\n      <!-- 9.0 -->\n      <g transform=\"translate(27.240625 185.313482)scale(0.1 -0.1)\">\n       <defs>\n        <path d=\"M 703 97 \nL 703 672 \nQ 941 559 1184 500 \nQ 1428 441 1663 441 \nQ 2288 441 2617 861 \nQ 2947 1281 2994 2138 \nQ 2813 1869 2534 1725 \nQ 2256 1581 1919 1581 \nQ 1219 1581 811 2004 \nQ 403 2428 403 3163 \nQ 403 3881 828 4315 \nQ 1253 4750 1959 4750 \nQ 2769 4750 3195 4129 \nQ 3622 3509 3622 2328 \nQ 3622 1225 3098 567 \nQ 2575 -91 1691 -91 \nQ 1453 -91 1209 -44 \nQ 966 3 703 97 \nz\nM 1959 2075 \nQ 2384 2075 2632 2365 \nQ 2881 2656 2881 3163 \nQ 2881 3666 2632 3958 \nQ 2384 4250 1959 4250 \nQ 1534 4250 1286 3958 \nQ 1038 3666 1038 3163 \nQ 1038 2656 1286 2365 \nQ 1534 2075 1959 2075 \nz\n\" id=\"DejaVuSans-39\" transform=\"scale(0.015625)\"/>\n       </defs>\n       <use xlink:href=\"#DejaVuSans-39\"/>\n       <use x=\"63.623047\" xlink:href=\"#DejaVuSans-2e\"/>\n       <use x=\"95.410156\" xlink:href=\"#DejaVuSans-30\"/>\n      </g>\n     </g>\n    </g>\n    <g id=\"ytick_3\">\n     <g id=\"line2d_11\">\n      <g>\n       <use style=\"stroke:#000000;stroke-width:0.8;\" x=\"50.14375\" xlink:href=\"#m27981403a3\" y=\"148.703861\"/>\n      </g>\n     </g>\n     <g id=\"text_12\">\n      <!-- 9.5 -->\n      <g transform=\"translate(27.240625 152.50308)scale(0.1 -0.1)\">\n       <use xlink:href=\"#DejaVuSans-39\"/>\n       <use x=\"63.623047\" xlink:href=\"#DejaVuSans-2e\"/>\n       <use x=\"95.410156\" xlink:href=\"#DejaVuSans-35\"/>\n      </g>\n     </g>\n    </g>\n    <g id=\"ytick_4\">\n     <g id=\"line2d_12\">\n      <g>\n       <use style=\"stroke:#000000;stroke-width:0.8;\" x=\"50.14375\" xlink:href=\"#m27981403a3\" y=\"115.893459\"/>\n      </g>\n     </g>\n     <g id=\"text_13\">\n      <!-- 10.0 -->\n      <g transform=\"translate(20.878125 119.692678)scale(0.1 -0.1)\">\n       <use xlink:href=\"#DejaVuSans-31\"/>\n       <use x=\"63.623047\" xlink:href=\"#DejaVuSans-30\"/>\n       <use x=\"127.246094\" xlink:href=\"#DejaVuSans-2e\"/>\n       <use x=\"159.033203\" xlink:href=\"#DejaVuSans-30\"/>\n      </g>\n     </g>\n    </g>\n    <g id=\"ytick_5\">\n     <g id=\"line2d_13\">\n      <g>\n       <use style=\"stroke:#000000;stroke-width:0.8;\" x=\"50.14375\" xlink:href=\"#m27981403a3\" y=\"83.083056\"/>\n      </g>\n     </g>\n     <g id=\"text_14\">\n      <!-- 10.5 -->\n      <g transform=\"translate(20.878125 86.882275)scale(0.1 -0.1)\">\n       <use xlink:href=\"#DejaVuSans-31\"/>\n       <use x=\"63.623047\" xlink:href=\"#DejaVuSans-30\"/>\n       <use x=\"127.246094\" xlink:href=\"#DejaVuSans-2e\"/>\n       <use x=\"159.033203\" xlink:href=\"#DejaVuSans-35\"/>\n      </g>\n     </g>\n    </g>\n    <g id=\"ytick_6\">\n     <g id=\"line2d_14\">\n      <g>\n       <use style=\"stroke:#000000;stroke-width:0.8;\" x=\"50.14375\" xlink:href=\"#m27981403a3\" y=\"50.272654\"/>\n      </g>\n     </g>\n     <g id=\"text_15\">\n      <!-- 11.0 -->\n      <g transform=\"translate(20.878125 54.071873)scale(0.1 -0.1)\">\n       <use xlink:href=\"#DejaVuSans-31\"/>\n       <use x=\"63.623047\" xlink:href=\"#DejaVuSans-31\"/>\n       <use x=\"127.246094\" xlink:href=\"#DejaVuSans-2e\"/>\n       <use x=\"159.033203\" xlink:href=\"#DejaVuSans-30\"/>\n      </g>\n     </g>\n    </g>\n    <g id=\"ytick_7\">\n     <g id=\"line2d_15\">\n      <g>\n       <use style=\"stroke:#000000;stroke-width:0.8;\" x=\"50.14375\" xlink:href=\"#m27981403a3\" y=\"17.462252\"/>\n      </g>\n     </g>\n     <g id=\"text_16\">\n      <!-- 11.5 -->\n      <g transform=\"translate(20.878125 21.26147)scale(0.1 -0.1)\">\n       <use xlink:href=\"#DejaVuSans-31\"/>\n       <use x=\"63.623047\" xlink:href=\"#DejaVuSans-31\"/>\n       <use x=\"127.246094\" xlink:href=\"#DejaVuSans-2e\"/>\n       <use x=\"159.033203\" xlink:href=\"#DejaVuSans-35\"/>\n      </g>\n     </g>\n    </g>\n    <g id=\"text_17\">\n     <!-- Loss -->\n     <g transform=\"translate(14.798438 126.887188)rotate(-90)scale(0.1 -0.1)\">\n      <defs>\n       <path d=\"M 628 4666 \nL 1259 4666 \nL 1259 531 \nL 3531 531 \nL 3531 0 \nL 628 0 \nL 628 4666 \nz\n\" id=\"DejaVuSans-4c\" transform=\"scale(0.015625)\"/>\n       <path d=\"M 2834 3397 \nL 2834 2853 \nQ 2591 2978 2328 3040 \nQ 2066 3103 1784 3103 \nQ 1356 3103 1142 2972 \nQ 928 2841 928 2578 \nQ 928 2378 1081 2264 \nQ 1234 2150 1697 2047 \nL 1894 2003 \nQ 2506 1872 2764 1633 \nQ 3022 1394 3022 966 \nQ 3022 478 2636 193 \nQ 2250 -91 1575 -91 \nQ 1294 -91 989 -36 \nQ 684 19 347 128 \nL 347 722 \nQ 666 556 975 473 \nQ 1284 391 1588 391 \nQ 1994 391 2212 530 \nQ 2431 669 2431 922 \nQ 2431 1156 2273 1281 \nQ 2116 1406 1581 1522 \nL 1381 1569 \nQ 847 1681 609 1914 \nQ 372 2147 372 2553 \nQ 372 3047 722 3315 \nQ 1072 3584 1716 3584 \nQ 2034 3584 2315 3537 \nQ 2597 3491 2834 3397 \nz\n\" id=\"DejaVuSans-73\" transform=\"scale(0.015625)\"/>\n      </defs>\n      <use xlink:href=\"#DejaVuSans-4c\"/>\n      <use x=\"53.962891\" xlink:href=\"#DejaVuSans-6f\"/>\n      <use x=\"115.144531\" xlink:href=\"#DejaVuSans-73\"/>\n      <use x=\"167.244141\" xlink:href=\"#DejaVuSans-73\"/>\n     </g>\n    </g>\n   </g>\n   <g id=\"line2d_16\">\n    <path clip-path=\"url(#pfc6eaa7977)\" d=\"M 65.361932 17.083636 \nL 81.381071 213.306834 \nL 97.400209 214.756364 \nL 113.419348 195.010857 \nL 129.438487 182.793153 \nL 145.457626 177.388507 \nL 161.476764 178.243167 \nL 177.495903 179.311298 \nL 193.515042 183.143904 \nL 209.534181 183.647194 \nL 225.553319 186.929032 \nL 241.572458 192.749228 \nL 257.591597 195.028597 \nL 273.610736 195.54175 \nL 289.629874 199.949675 \nL 305.649013 198.547513 \nL 321.668152 204.159495 \nL 337.687291 204.12004 \nL 353.706429 210.871188 \nL 369.725568 214.329054 \n\" style=\"fill:none;stroke:#1f77b4;stroke-linecap:square;stroke-width:1.5;\"/>\n   </g>\n   <g id=\"line2d_17\">\n    <path clip-path=\"url(#pfc6eaa7977)\" d=\"M 65.361932 20.267945 \nL 81.381071 202.925777 \nL 97.400209 196.749604 \nL 113.419348 173.429046 \nL 129.438487 160.011369 \nL 145.457626 153.651172 \nL 161.476764 154.638299 \nL 177.495903 154.917405 \nL 193.515042 159.069134 \nL 209.534181 159.06554 \nL 225.553319 161.627568 \nL 241.572458 166.891152 \nL 257.591597 168.576059 \nL 273.610736 168.246474 \nL 289.629874 172.569902 \nL 305.649013 170.913237 \nL 321.668152 175.656496 \nL 337.687291 174.555933 \nL 353.706429 181.712697 \nL 369.725568 185.733485 \n\" style=\"fill:none;stroke:#ff7f0e;stroke-linecap:square;stroke-width:1.5;\"/>\n   </g>\n   <g id=\"patch_3\">\n    <path d=\"M 50.14375 224.64 \nL 50.14375 7.2 \n\" style=\"fill:none;stroke:#000000;stroke-linecap:square;stroke-linejoin:miter;stroke-width:0.8;\"/>\n   </g>\n   <g id=\"patch_4\">\n    <path d=\"M 384.94375 224.64 \nL 384.94375 7.2 \n\" style=\"fill:none;stroke:#000000;stroke-linecap:square;stroke-linejoin:miter;stroke-width:0.8;\"/>\n   </g>\n   <g id=\"patch_5\">\n    <path d=\"M 50.14375 224.64 \nL 384.94375 224.64 \n\" style=\"fill:none;stroke:#000000;stroke-linecap:square;stroke-linejoin:miter;stroke-width:0.8;\"/>\n   </g>\n   <g id=\"patch_6\">\n    <path d=\"M 50.14375 7.2 \nL 384.94375 7.2 \n\" style=\"fill:none;stroke:#000000;stroke-linecap:square;stroke-linejoin:miter;stroke-width:0.8;\"/>\n   </g>\n   <g id=\"legend_1\">\n    <g id=\"patch_7\">\n     <path d=\"M 322.66875 44.55625 \nL 377.94375 44.55625 \nQ 379.94375 44.55625 379.94375 42.55625 \nL 379.94375 14.2 \nQ 379.94375 12.2 377.94375 12.2 \nL 322.66875 12.2 \nQ 320.66875 12.2 320.66875 14.2 \nL 320.66875 42.55625 \nQ 320.66875 44.55625 322.66875 44.55625 \nz\n\" style=\"fill:#ffffff;opacity:0.8;stroke:#cccccc;stroke-linejoin:miter;\"/>\n    </g>\n    <g id=\"line2d_18\">\n     <path d=\"M 324.66875 20.298438 \nL 344.66875 20.298438 \n\" style=\"fill:none;stroke:#1f77b4;stroke-linecap:square;stroke-width:1.5;\"/>\n    </g>\n    <g id=\"line2d_19\"/>\n    <g id=\"text_18\">\n     <!-- train -->\n     <g transform=\"translate(352.66875 23.798438)scale(0.1 -0.1)\">\n      <defs>\n       <path d=\"M 1172 4494 \nL 1172 3500 \nL 2356 3500 \nL 2356 3053 \nL 1172 3053 \nL 1172 1153 \nQ 1172 725 1289 603 \nQ 1406 481 1766 481 \nL 2356 481 \nL 2356 0 \nL 1766 0 \nQ 1100 0 847 248 \nQ 594 497 594 1153 \nL 594 3053 \nL 172 3053 \nL 172 3500 \nL 594 3500 \nL 594 4494 \nL 1172 4494 \nz\n\" id=\"DejaVuSans-74\" transform=\"scale(0.015625)\"/>\n       <path d=\"M 2631 2963 \nQ 2534 3019 2420 3045 \nQ 2306 3072 2169 3072 \nQ 1681 3072 1420 2755 \nQ 1159 2438 1159 1844 \nL 1159 0 \nL 581 0 \nL 581 3500 \nL 1159 3500 \nL 1159 2956 \nQ 1341 3275 1631 3429 \nQ 1922 3584 2338 3584 \nQ 2397 3584 2469 3576 \nQ 2541 3569 2628 3553 \nL 2631 2963 \nz\n\" id=\"DejaVuSans-72\" transform=\"scale(0.015625)\"/>\n       <path d=\"M 2194 1759 \nQ 1497 1759 1228 1600 \nQ 959 1441 959 1056 \nQ 959 750 1161 570 \nQ 1363 391 1709 391 \nQ 2188 391 2477 730 \nQ 2766 1069 2766 1631 \nL 2766 1759 \nL 2194 1759 \nz\nM 3341 1997 \nL 3341 0 \nL 2766 0 \nL 2766 531 \nQ 2569 213 2275 61 \nQ 1981 -91 1556 -91 \nQ 1019 -91 701 211 \nQ 384 513 384 1019 \nQ 384 1609 779 1909 \nQ 1175 2209 1959 2209 \nL 2766 2209 \nL 2766 2266 \nQ 2766 2663 2505 2880 \nQ 2244 3097 1772 3097 \nQ 1472 3097 1187 3025 \nQ 903 2953 641 2809 \nL 641 3341 \nQ 956 3463 1253 3523 \nQ 1550 3584 1831 3584 \nQ 2591 3584 2966 3190 \nQ 3341 2797 3341 1997 \nz\n\" id=\"DejaVuSans-61\" transform=\"scale(0.015625)\"/>\n       <path d=\"M 603 3500 \nL 1178 3500 \nL 1178 0 \nL 603 0 \nL 603 3500 \nz\nM 603 4863 \nL 1178 4863 \nL 1178 4134 \nL 603 4134 \nL 603 4863 \nz\n\" id=\"DejaVuSans-69\" transform=\"scale(0.015625)\"/>\n       <path d=\"M 3513 2113 \nL 3513 0 \nL 2938 0 \nL 2938 2094 \nQ 2938 2591 2744 2837 \nQ 2550 3084 2163 3084 \nQ 1697 3084 1428 2787 \nQ 1159 2491 1159 1978 \nL 1159 0 \nL 581 0 \nL 581 3500 \nL 1159 3500 \nL 1159 2956 \nQ 1366 3272 1645 3428 \nQ 1925 3584 2291 3584 \nQ 2894 3584 3203 3211 \nQ 3513 2838 3513 2113 \nz\n\" id=\"DejaVuSans-6e\" transform=\"scale(0.015625)\"/>\n      </defs>\n      <use xlink:href=\"#DejaVuSans-74\"/>\n      <use x=\"39.208984\" xlink:href=\"#DejaVuSans-72\"/>\n      <use x=\"80.322266\" xlink:href=\"#DejaVuSans-61\"/>\n      <use x=\"141.601562\" xlink:href=\"#DejaVuSans-69\"/>\n      <use x=\"169.384766\" xlink:href=\"#DejaVuSans-6e\"/>\n     </g>\n    </g>\n    <g id=\"line2d_20\">\n     <path d=\"M 324.66875 34.976562 \nL 344.66875 34.976562 \n\" style=\"fill:none;stroke:#ff7f0e;stroke-linecap:square;stroke-width:1.5;\"/>\n    </g>\n    <g id=\"line2d_21\"/>\n    <g id=\"text_19\">\n     <!-- val -->\n     <g transform=\"translate(352.66875 38.476562)scale(0.1 -0.1)\">\n      <defs>\n       <path d=\"M 191 3500 \nL 800 3500 \nL 1894 563 \nL 2988 3500 \nL 3597 3500 \nL 2284 0 \nL 1503 0 \nL 191 3500 \nz\n\" id=\"DejaVuSans-76\" transform=\"scale(0.015625)\"/>\n       <path d=\"M 603 4863 \nL 1178 4863 \nL 1178 0 \nL 603 0 \nL 603 4863 \nz\n\" id=\"DejaVuSans-6c\" transform=\"scale(0.015625)\"/>\n      </defs>\n      <use xlink:href=\"#DejaVuSans-76\"/>\n      <use x=\"59.179688\" xlink:href=\"#DejaVuSans-61\"/>\n      <use x=\"120.458984\" xlink:href=\"#DejaVuSans-6c\"/>\n     </g>\n    </g>\n   </g>\n  </g>\n </g>\n <defs>\n  <clipPath id=\"pfc6eaa7977\">\n   <rect height=\"217.44\" width=\"334.8\" x=\"50.14375\" y=\"7.2\"/>\n  </clipPath>\n </defs>\n</svg>\n",
      "image/png": "[encoded data removed]"
     },
     "metadata": {
      "needs_background": "light"
     }
    }
   ],
   "source": [
    "trainer.plot()"
   ]
  },
  {
   "cell_type": "code",
   "execution_count": 13,
   "metadata": {},
   "outputs": [],
   "source": [
    "def print_prob(probs, labels):\n",
    "    items = [x for x in sorted(zip(probs, genre_cols), reverse=True)]\n",
    "    for (prob, genre), label in zip(items, labels):\n",
    "        print('{:15s}{:>5.2f}% {}'.format(genre, prob*100, label))"
   ]
  },
  {
   "cell_type": "code",
   "execution_count": 14,
   "metadata": {},
   "outputs": [
    {
     "output_type": "stream",
     "name": "stdout",
     "text": [
      "Action         42.76% 0\nAdventure      39.79% 0\nFantasy        28.56% 0\nComedy         27.47% 0\nSci-Fi         26.65% 0\nShounen        14.93% 0\nDrama          13.87% 1\nMecha           8.44% 0\nRomance         6.28% 1\nHistorical      5.71% 0\nSupernatural    5.59% 0\nMagic           5.55% 0\nKids            4.87% 1\nHentai          3.33% 0\nMilitary        2.94% 0\nSlice of Life   2.72% 0\nSuper Power     2.69% 0\nSpace           2.67% 0\nSeinen          2.32% 0\nSchool          2.25% 0\nShoujo          1.94% 0\nMystery         1.71% 0\nDemons          1.71% 0\nEcchi           1.47% 0\nSports          0.88% 0\nHorror          0.77% 1\nMartial Arts    0.74% 0\nMusic           0.51% 0\nPsychological   0.49% 0\nGame            0.46% 0\nHarem           0.45% 0\nPolice          0.40% 0\nParody          0.22% 0\nSamurai         0.19% 0\nDementia        0.17% 0\nCars            0.11% 0\nJosei           0.09% 0\nVampire         0.09% 0\nShoujo Ai       0.06% 0\nThriller        0.05% 0\nYuri            0.05% 0\nShounen Ai      0.04% 0\nYaoi            0.03% 0\n\nComedy         36.95% 0\nFantasy        17.07% 0\nAdventure      13.79% 0\nAction         10.82% 0\nShounen         7.87% 0\nDrama           7.79% 0\nRomance         4.96% 0\nKids            4.26% 0\nSupernatural    4.24% 0\nSlice of Life   4.23% 0\nHentai          3.76% 0\nMagic           2.85% 1\nSci-Fi          2.34% 0\nHistorical      1.87% 0\nShoujo          1.77% 0\nMystery         1.38% 0\nSeinen          1.15% 0\nSchool          1.14% 0\nHorror          0.71% 0\nEcchi           0.51% 0\nPsychological   0.36% 0\nDemons          0.31% 0\nSports          0.22% 0\nSuper Power     0.21% 0\nMusic           0.20% 0\nMecha           0.17% 0\nGame            0.13% 0\nParody          0.09% 0\nMartial Arts    0.09% 0\nHarem           0.06% 0\nSamurai         0.03% 0\nMilitary        0.03% 0\nPolice          0.03% 0\nVampire         0.02% 0\nSpace           0.02% 0\nCars            0.02% 0\nDementia        0.02% 0\nThriller        0.02% 0\nJosei           0.01% 0\nYuri            0.01% 0\nShoujo Ai       0.01% 0\nShounen Ai      0.01% 0\nYaoi            0.00% 0\n\n"
     ]
    }
   ],
   "source": [
    "num_show = 2\n",
    "i_start = 0\n",
    "\n",
    "y_train = model.predict(x_train)\n",
    "\n",
    "for idx in range(i_start, num_show+i_start):\n",
    "    print_prob(y_train[idx], t_train[idx])\n",
    "    print()"
   ]
  },
  {
   "cell_type": "code",
   "execution_count": 15,
   "metadata": {
    "tags": []
   },
   "outputs": [
    {
     "output_type": "stream",
     "name": "stdout",
     "text": [
      "T>T  F>T  T>F  F>F \n 0    0    4    39 \n\nT>T  F>T  T>F  F>F \n 0    0    3    40 \n\nT>T  F>T  T>F  F>F \n 0    0    2    41 \n\nT>T  F>T  T>F  F>F \n 0    0    1    42 \n\nT>T  F>T  T>F  F>F \n 0    0    4    39 \n\nT>T  F>T  T>F  F>F \n 1    1    5    36 \n\nT>T  F>T  T>F  F>F \n 0    0    2    41 \n\nT>T  F>T  T>F  F>F \n 0    1    2    40 \n\nT>T  F>T  T>F  F>F \n 0    0    1    42 \n\nT>T  F>T  T>F  F>F \n 0    0    1    42 \n\n"
     ]
    }
   ],
   "source": [
    "num_show = 10\n",
    "i_start = 0\n",
    "\n",
    "y_test = model.predict(x_test)\n",
    "\n",
    "for idx in range(i_start, num_show+i_start):\n",
    "    # print_prob(y_test[idx], t_test[idx])\n",
    "    # print()\n",
    "\n",
    "    mal_id = id_test[idx]\n",
    "    \n",
    "    predict = y_test[idx]>=0.5\n",
    "    actual  = t_test[idx]==1\n",
    "\n",
    "    TP = (actual & predict).sum()\n",
    "    FP = (~actual & predict).sum()\n",
    "    FN = (actual & ~predict).sum()\n",
    "    TN = (~actual & ~predict).sum()\n",
    "    \n",
    "    print('{:^4} {:^4} {:^4} {:^4}'.format('T>T', 'F>T', 'T>F', 'F>F'))\n",
    "    print('{:^4} {:^4} {:^4} {:^4}\\n'.format(TP, FP, FN, TN))\n",
    "\n",
    "\n",
    "    # print('{:^7} {:^7} {:^7} {:^7} {:^7}'.format('True', 'Pred', 'Correct', 'Wrong', 'Missed'))\n",
    "    # print('{:^7} {:^7} {:^7} {:^7} {:^7}\\n'.format(n_true, n_pred, n_correct, n_wrong, n_missed))"
   ]
  }
 ]
}