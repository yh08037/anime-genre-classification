{
 "metadata": {
  "language_info": {
   "codemirror_mode": {
    "name": "ipython",
    "version": 3
   },
   "file_extension": ".py",
   "mimetype": "text/x-python",
   "name": "python",
   "nbconvert_exporter": "python",
   "pygments_lexer": "ipython3",
   "version": "3.9.5"
  },
  "orig_nbformat": 4,
  "kernelspec": {
   "name": "python3",
   "display_name": "Python 3.9.5 64-bit ('scrap': conda)"
  },
  "interpreter": {
   "hash": "4ea3ed2e54355ce89e91b93232dfdad50498b45cbf76d90a32e5b94d03490e3d"
  }
 },
 "nbformat": 4,
 "nbformat_minor": 2,
 "cells": [
  {
   "source": [
    "# Multi-Label Classification with MLP"
   ],
   "cell_type": "markdown",
   "metadata": {}
  },
  {
   "cell_type": "code",
   "execution_count": 1,
   "metadata": {},
   "outputs": [],
   "source": [
    "import numpy as np\n",
    "import pandas as pd\n",
    "import matplotlib.pyplot as plt\n",
    "\n",
    "from anime_classification import MultiLabelClassifier, Adam, Trainer"
   ]
  },
  {
   "source": [
    "## Load Vectorized Synopsis/Genre Data"
   ],
   "cell_type": "markdown",
   "metadata": {}
  },
  {
   "cell_type": "code",
   "execution_count": 2,
   "metadata": {},
   "outputs": [
    {
     "output_type": "execute_result",
     "data": {
      "text/plain": [
       "   MAL_ID         0         1         2         3         4         5  \\\n",
       "0       1 -0.115479 -3.919922  0.511230  1.325195  2.685547  1.791992   \n",
       "1       5  2.314453 -2.361328 -0.012909  2.703125  1.200195  3.173828   \n",
       "2       6 -0.226196 -2.597656 -0.182983  2.042969  1.670898  1.951172   \n",
       "3       7  0.844238 -0.527344  0.271973  0.752930  1.575195  2.492188   \n",
       "4       8  1.521484 -2.650391  0.424072  1.816406  2.029297  1.694336   \n",
       "\n",
       "          6         7         8  ...        90        91        92        93  \\\n",
       "0 -1.767578 -1.251953 -1.898438  ...  0.862305 -0.740234 -1.121094 -0.729004   \n",
       "1 -1.356445 -2.605469 -1.958984  ...  0.493652 -0.944824 -0.937500 -0.261475   \n",
       "2 -1.367188 -2.917969 -0.160767  ... -1.435547 -1.021484 -2.537109 -2.455078   \n",
       "3 -1.652344 -2.705078 -2.269531  ... -0.367920 -1.791992 -1.804688 -2.474609   \n",
       "4  0.607910 -1.333984 -1.023438  ...  1.650391 -1.703125 -2.476562 -4.492188   \n",
       "\n",
       "         94        95        96        97        98        99  \n",
       "0  1.063477  1.272461 -0.246826  1.380859  1.921875  2.216797  \n",
       "1  2.087891  1.500000 -0.221802  0.646973  2.218750  0.958496  \n",
       "2  2.013672  1.943359  0.622559  1.703125  2.357422  1.232422  \n",
       "3  2.878906  0.425537 -0.583008  3.107422  0.836426  1.042969  \n",
       "4  1.403320  0.638672  0.058594  1.249023  2.457031  2.517578  \n",
       "\n",
       "[5 rows x 101 columns]"
      ],
      "text/html": "<div>\n<style scoped>\n    .dataframe tbody tr th:only-of-type {\n        vertical-align: middle;\n    }\n\n    .dataframe tbody tr th {\n        vertical-align: top;\n    }\n\n    .dataframe thead th {\n        text-align: right;\n    }\n</style>\n<table border=\"1\" class=\"dataframe\">\n  <thead>\n    <tr style=\"text-align: right;\">\n      <th></th>\n      <th>MAL_ID</th>\n      <th>0</th>\n      <th>1</th>\n      <th>2</th>\n      <th>3</th>\n      <th>4</th>\n      <th>5</th>\n      <th>6</th>\n      <th>7</th>\n      <th>8</th>\n      <th>...</th>\n      <th>90</th>\n      <th>91</th>\n      <th>92</th>\n      <th>93</th>\n      <th>94</th>\n      <th>95</th>\n      <th>96</th>\n      <th>97</th>\n      <th>98</th>\n      <th>99</th>\n    </tr>\n  </thead>\n  <tbody>\n    <tr>\n      <th>0</th>\n      <td>1</td>\n      <td>-0.115479</td>\n      <td>-3.919922</td>\n      <td>0.511230</td>\n      <td>1.325195</td>\n      <td>2.685547</td>\n      <td>1.791992</td>\n      <td>-1.767578</td>\n      <td>-1.251953</td>\n      <td>-1.898438</td>\n      <td>...</td>\n      <td>0.862305</td>\n      <td>-0.740234</td>\n      <td>-1.121094</td>\n      <td>-0.729004</td>\n      <td>1.063477</td>\n      <td>1.272461</td>\n      <td>-0.246826</td>\n      <td>1.380859</td>\n      <td>1.921875</td>\n      <td>2.216797</td>\n    </tr>\n    <tr>\n      <th>1</th>\n      <td>5</td>\n      <td>2.314453</td>\n      <td>-2.361328</td>\n      <td>-0.012909</td>\n      <td>2.703125</td>\n      <td>1.200195</td>\n      <td>3.173828</td>\n      <td>-1.356445</td>\n      <td>-2.605469</td>\n      <td>-1.958984</td>\n      <td>...</td>\n      <td>0.493652</td>\n      <td>-0.944824</td>\n      <td>-0.937500</td>\n      <td>-0.261475</td>\n      <td>2.087891</td>\n      <td>1.500000</td>\n      <td>-0.221802</td>\n      <td>0.646973</td>\n      <td>2.218750</td>\n      <td>0.958496</td>\n    </tr>\n    <tr>\n      <th>2</th>\n      <td>6</td>\n      <td>-0.226196</td>\n      <td>-2.597656</td>\n      <td>-0.182983</td>\n      <td>2.042969</td>\n      <td>1.670898</td>\n      <td>1.951172</td>\n      <td>-1.367188</td>\n      <td>-2.917969</td>\n      <td>-0.160767</td>\n      <td>...</td>\n      <td>-1.435547</td>\n      <td>-1.021484</td>\n      <td>-2.537109</td>\n      <td>-2.455078</td>\n      <td>2.013672</td>\n      <td>1.943359</td>\n      <td>0.622559</td>\n      <td>1.703125</td>\n      <td>2.357422</td>\n      <td>1.232422</td>\n    </tr>\n    <tr>\n      <th>3</th>\n      <td>7</td>\n      <td>0.844238</td>\n      <td>-0.527344</td>\n      <td>0.271973</td>\n      <td>0.752930</td>\n      <td>1.575195</td>\n      <td>2.492188</td>\n      <td>-1.652344</td>\n      <td>-2.705078</td>\n      <td>-2.269531</td>\n      <td>...</td>\n      <td>-0.367920</td>\n      <td>-1.791992</td>\n      <td>-1.804688</td>\n      <td>-2.474609</td>\n      <td>2.878906</td>\n      <td>0.425537</td>\n      <td>-0.583008</td>\n      <td>3.107422</td>\n      <td>0.836426</td>\n      <td>1.042969</td>\n    </tr>\n    <tr>\n      <th>4</th>\n      <td>8</td>\n      <td>1.521484</td>\n      <td>-2.650391</td>\n      <td>0.424072</td>\n      <td>1.816406</td>\n      <td>2.029297</td>\n      <td>1.694336</td>\n      <td>0.607910</td>\n      <td>-1.333984</td>\n      <td>-1.023438</td>\n      <td>...</td>\n      <td>1.650391</td>\n      <td>-1.703125</td>\n      <td>-2.476562</td>\n      <td>-4.492188</td>\n      <td>1.403320</td>\n      <td>0.638672</td>\n      <td>0.058594</td>\n      <td>1.249023</td>\n      <td>2.457031</td>\n      <td>2.517578</td>\n    </tr>\n  </tbody>\n</table>\n<p>5 rows × 101 columns</p>\n</div>"
     },
     "metadata": {},
     "execution_count": 2
    }
   ],
   "source": [
    "synop_vec = pd.read_csv('synopsis_vector.csv')\n",
    "synop_vec.head()"
   ]
  },
  {
   "cell_type": "code",
   "execution_count": 3,
   "metadata": {},
   "outputs": [
    {
     "output_type": "execute_result",
     "data": {
      "text/plain": [
       "   MAL_ID  Action  Adventure  Cars  Comedy  Dementia  Demons  Drama  Ecchi  \\\n",
       "0       1       1          1     0       1         0       0      1      0   \n",
       "1       5       1          0     0       0         0       0      1      0   \n",
       "2       6       1          1     0       1         0       0      1      0   \n",
       "3       7       1          0     0       0         0       0      1      0   \n",
       "4       8       0          1     0       0         0       0      0      0   \n",
       "\n",
       "   Fantasy  ...  Shounen Ai  Slice of Life  Space  Sports  Super Power  \\\n",
       "0        0  ...           0              0      1       0            0   \n",
       "1        0  ...           0              0      1       0            0   \n",
       "2        0  ...           0              0      0       0            0   \n",
       "3        0  ...           0              0      0       0            0   \n",
       "4        1  ...           0              0      0       0            0   \n",
       "\n",
       "   Supernatural  Thriller  Vampire  Yaoi  Yuri  \n",
       "0             0         0        0     0     0  \n",
       "1             0         0        0     0     0  \n",
       "2             0         0        0     0     0  \n",
       "3             1         0        0     0     0  \n",
       "4             1         0        0     0     0  \n",
       "\n",
       "[5 rows x 44 columns]"
      ],
      "text/html": "<div>\n<style scoped>\n    .dataframe tbody tr th:only-of-type {\n        vertical-align: middle;\n    }\n\n    .dataframe tbody tr th {\n        vertical-align: top;\n    }\n\n    .dataframe thead th {\n        text-align: right;\n    }\n</style>\n<table border=\"1\" class=\"dataframe\">\n  <thead>\n    <tr style=\"text-align: right;\">\n      <th></th>\n      <th>MAL_ID</th>\n      <th>Action</th>\n      <th>Adventure</th>\n      <th>Cars</th>\n      <th>Comedy</th>\n      <th>Dementia</th>\n      <th>Demons</th>\n      <th>Drama</th>\n      <th>Ecchi</th>\n      <th>Fantasy</th>\n      <th>...</th>\n      <th>Shounen Ai</th>\n      <th>Slice of Life</th>\n      <th>Space</th>\n      <th>Sports</th>\n      <th>Super Power</th>\n      <th>Supernatural</th>\n      <th>Thriller</th>\n      <th>Vampire</th>\n      <th>Yaoi</th>\n      <th>Yuri</th>\n    </tr>\n  </thead>\n  <tbody>\n    <tr>\n      <th>0</th>\n      <td>1</td>\n      <td>1</td>\n      <td>1</td>\n      <td>0</td>\n      <td>1</td>\n      <td>0</td>\n      <td>0</td>\n      <td>1</td>\n      <td>0</td>\n      <td>0</td>\n      <td>...</td>\n      <td>0</td>\n      <td>0</td>\n      <td>1</td>\n      <td>0</td>\n      <td>0</td>\n      <td>0</td>\n      <td>0</td>\n      <td>0</td>\n      <td>0</td>\n      <td>0</td>\n    </tr>\n    <tr>\n      <th>1</th>\n      <td>5</td>\n      <td>1</td>\n      <td>0</td>\n      <td>0</td>\n      <td>0</td>\n      <td>0</td>\n      <td>0</td>\n      <td>1</td>\n      <td>0</td>\n      <td>0</td>\n      <td>...</td>\n      <td>0</td>\n      <td>0</td>\n      <td>1</td>\n      <td>0</td>\n      <td>0</td>\n      <td>0</td>\n      <td>0</td>\n      <td>0</td>\n      <td>0</td>\n      <td>0</td>\n    </tr>\n    <tr>\n      <th>2</th>\n      <td>6</td>\n      <td>1</td>\n      <td>1</td>\n      <td>0</td>\n      <td>1</td>\n      <td>0</td>\n      <td>0</td>\n      <td>1</td>\n      <td>0</td>\n      <td>0</td>\n      <td>...</td>\n      <td>0</td>\n      <td>0</td>\n      <td>0</td>\n      <td>0</td>\n      <td>0</td>\n      <td>0</td>\n      <td>0</td>\n      <td>0</td>\n      <td>0</td>\n      <td>0</td>\n    </tr>\n    <tr>\n      <th>3</th>\n      <td>7</td>\n      <td>1</td>\n      <td>0</td>\n      <td>0</td>\n      <td>0</td>\n      <td>0</td>\n      <td>0</td>\n      <td>1</td>\n      <td>0</td>\n      <td>0</td>\n      <td>...</td>\n      <td>0</td>\n      <td>0</td>\n      <td>0</td>\n      <td>0</td>\n      <td>0</td>\n      <td>1</td>\n      <td>0</td>\n      <td>0</td>\n      <td>0</td>\n      <td>0</td>\n    </tr>\n    <tr>\n      <th>4</th>\n      <td>8</td>\n      <td>0</td>\n      <td>1</td>\n      <td>0</td>\n      <td>0</td>\n      <td>0</td>\n      <td>0</td>\n      <td>0</td>\n      <td>0</td>\n      <td>1</td>\n      <td>...</td>\n      <td>0</td>\n      <td>0</td>\n      <td>0</td>\n      <td>0</td>\n      <td>0</td>\n      <td>1</td>\n      <td>0</td>\n      <td>0</td>\n      <td>0</td>\n      <td>0</td>\n    </tr>\n  </tbody>\n</table>\n<p>5 rows × 44 columns</p>\n</div>"
     },
     "metadata": {},
     "execution_count": 3
    }
   ],
   "source": [
    "genre_vec = pd.read_csv('genre.csv')\n",
    "genre_vec.head()"
   ]
  },
  {
   "source": [
    "## Split Train-Test Set"
   ],
   "cell_type": "markdown",
   "metadata": {}
  },
  {
   "cell_type": "code",
   "execution_count": 4,
   "metadata": {},
   "outputs": [],
   "source": [
    "synop_cols = synop_vec.columns.drop('MAL_ID').values\n",
    "genre_cols = genre_vec.columns.drop('MAL_ID').values"
   ]
  },
  {
   "cell_type": "code",
   "execution_count": 5,
   "metadata": {},
   "outputs": [
    {
     "output_type": "execute_result",
     "data": {
      "text/plain": [
       "   MAL_ID         0         1         2         3         4         5  \\\n",
       "0       1 -0.115479 -3.919922  0.511230  1.325195  2.685547  1.791992   \n",
       "1       5  2.314453 -2.361328 -0.012909  2.703125  1.200195  3.173828   \n",
       "2       6 -0.226196 -2.597656 -0.182983  2.042969  1.670898  1.951172   \n",
       "3       7  0.844238 -0.527344  0.271973  0.752930  1.575195  2.492188   \n",
       "4       8  1.521484 -2.650391  0.424072  1.816406  2.029297  1.694336   \n",
       "\n",
       "          6         7         8  ...  Shounen Ai  Slice of Life  Space  \\\n",
       "0 -1.767578 -1.251953 -1.898438  ...           0              0      1   \n",
       "1 -1.356445 -2.605469 -1.958984  ...           0              0      1   \n",
       "2 -1.367188 -2.917969 -0.160767  ...           0              0      0   \n",
       "3 -1.652344 -2.705078 -2.269531  ...           0              0      0   \n",
       "4  0.607910 -1.333984 -1.023438  ...           0              0      0   \n",
       "\n",
       "   Sports  Super Power  Supernatural  Thriller  Vampire  Yaoi  Yuri  \n",
       "0       0            0             0         0        0     0     0  \n",
       "1       0            0             0         0        0     0     0  \n",
       "2       0            0             0         0        0     0     0  \n",
       "3       0            0             1         0        0     0     0  \n",
       "4       0            0             1         0        0     0     0  \n",
       "\n",
       "[5 rows x 144 columns]"
      ],
      "text/html": "<div>\n<style scoped>\n    .dataframe tbody tr th:only-of-type {\n        vertical-align: middle;\n    }\n\n    .dataframe tbody tr th {\n        vertical-align: top;\n    }\n\n    .dataframe thead th {\n        text-align: right;\n    }\n</style>\n<table border=\"1\" class=\"dataframe\">\n  <thead>\n    <tr style=\"text-align: right;\">\n      <th></th>\n      <th>MAL_ID</th>\n      <th>0</th>\n      <th>1</th>\n      <th>2</th>\n      <th>3</th>\n      <th>4</th>\n      <th>5</th>\n      <th>6</th>\n      <th>7</th>\n      <th>8</th>\n      <th>...</th>\n      <th>Shounen Ai</th>\n      <th>Slice of Life</th>\n      <th>Space</th>\n      <th>Sports</th>\n      <th>Super Power</th>\n      <th>Supernatural</th>\n      <th>Thriller</th>\n      <th>Vampire</th>\n      <th>Yaoi</th>\n      <th>Yuri</th>\n    </tr>\n  </thead>\n  <tbody>\n    <tr>\n      <th>0</th>\n      <td>1</td>\n      <td>-0.115479</td>\n      <td>-3.919922</td>\n      <td>0.511230</td>\n      <td>1.325195</td>\n      <td>2.685547</td>\n      <td>1.791992</td>\n      <td>-1.767578</td>\n      <td>-1.251953</td>\n      <td>-1.898438</td>\n      <td>...</td>\n      <td>0</td>\n      <td>0</td>\n      <td>1</td>\n      <td>0</td>\n      <td>0</td>\n      <td>0</td>\n      <td>0</td>\n      <td>0</td>\n      <td>0</td>\n      <td>0</td>\n    </tr>\n    <tr>\n      <th>1</th>\n      <td>5</td>\n      <td>2.314453</td>\n      <td>-2.361328</td>\n      <td>-0.012909</td>\n      <td>2.703125</td>\n      <td>1.200195</td>\n      <td>3.173828</td>\n      <td>-1.356445</td>\n      <td>-2.605469</td>\n      <td>-1.958984</td>\n      <td>...</td>\n      <td>0</td>\n      <td>0</td>\n      <td>1</td>\n      <td>0</td>\n      <td>0</td>\n      <td>0</td>\n      <td>0</td>\n      <td>0</td>\n      <td>0</td>\n      <td>0</td>\n    </tr>\n    <tr>\n      <th>2</th>\n      <td>6</td>\n      <td>-0.226196</td>\n      <td>-2.597656</td>\n      <td>-0.182983</td>\n      <td>2.042969</td>\n      <td>1.670898</td>\n      <td>1.951172</td>\n      <td>-1.367188</td>\n      <td>-2.917969</td>\n      <td>-0.160767</td>\n      <td>...</td>\n      <td>0</td>\n      <td>0</td>\n      <td>0</td>\n      <td>0</td>\n      <td>0</td>\n      <td>0</td>\n      <td>0</td>\n      <td>0</td>\n      <td>0</td>\n      <td>0</td>\n    </tr>\n    <tr>\n      <th>3</th>\n      <td>7</td>\n      <td>0.844238</td>\n      <td>-0.527344</td>\n      <td>0.271973</td>\n      <td>0.752930</td>\n      <td>1.575195</td>\n      <td>2.492188</td>\n      <td>-1.652344</td>\n      <td>-2.705078</td>\n      <td>-2.269531</td>\n      <td>...</td>\n      <td>0</td>\n      <td>0</td>\n      <td>0</td>\n      <td>0</td>\n      <td>0</td>\n      <td>1</td>\n      <td>0</td>\n      <td>0</td>\n      <td>0</td>\n      <td>0</td>\n    </tr>\n    <tr>\n      <th>4</th>\n      <td>8</td>\n      <td>1.521484</td>\n      <td>-2.650391</td>\n      <td>0.424072</td>\n      <td>1.816406</td>\n      <td>2.029297</td>\n      <td>1.694336</td>\n      <td>0.607910</td>\n      <td>-1.333984</td>\n      <td>-1.023438</td>\n      <td>...</td>\n      <td>0</td>\n      <td>0</td>\n      <td>0</td>\n      <td>0</td>\n      <td>0</td>\n      <td>1</td>\n      <td>0</td>\n      <td>0</td>\n      <td>0</td>\n      <td>0</td>\n    </tr>\n  </tbody>\n</table>\n<p>5 rows × 144 columns</p>\n</div>"
     },
     "metadata": {},
     "execution_count": 5
    }
   ],
   "source": [
    "full_vec = pd.merge(synop_vec, genre_vec)\n",
    "full_vec.head()"
   ]
  },
  {
   "cell_type": "code",
   "execution_count": 6,
   "metadata": {},
   "outputs": [
    {
     "output_type": "execute_result",
     "data": {
      "text/plain": [
       "   MAL_ID         0         1         2         3         4         5  \\\n",
       "0     152  0.702148 -0.670898  0.275635  2.185547  1.821289  1.121094   \n",
       "1    3305 -0.408691 -2.222656  0.479248  1.563477  1.099609  1.427734   \n",
       "2     220  0.250488 -1.990234  0.635742  1.045898  1.049805  0.734375   \n",
       "3   18897  1.130859 -1.708984  0.299805  1.824219  2.050781  1.876953   \n",
       "4   10863  1.394531 -0.952148  1.733398  2.230469  0.469482  3.851562   \n",
       "\n",
       "          6         7         8  ...  Shounen Ai  Slice of Life  Space  \\\n",
       "0 -2.980469 -3.541016 -0.506836  ...           0              0      0   \n",
       "1 -1.668945 -0.686035 -1.058594  ...           0              0      0   \n",
       "2 -0.468750 -2.064453 -2.736328  ...           0              0      0   \n",
       "3 -1.552734 -1.493164 -1.374023  ...           0              0      0   \n",
       "4 -0.990234 -1.993164 -0.837402  ...           0              0      0   \n",
       "\n",
       "   Sports  Super Power  Supernatural  Thriller  Vampire  Yaoi  Yuri  \n",
       "0       0            1             0         0        0     0     0  \n",
       "1       0            0             0         0        0     0     0  \n",
       "2       0            0             0         0        0     0     0  \n",
       "3       0            0             0         0        0     0     0  \n",
       "4       0            0             0         1        0     0     0  \n",
       "\n",
       "[5 rows x 144 columns]"
      ],
      "text/html": "<div>\n<style scoped>\n    .dataframe tbody tr th:only-of-type {\n        vertical-align: middle;\n    }\n\n    .dataframe tbody tr th {\n        vertical-align: top;\n    }\n\n    .dataframe thead th {\n        text-align: right;\n    }\n</style>\n<table border=\"1\" class=\"dataframe\">\n  <thead>\n    <tr style=\"text-align: right;\">\n      <th></th>\n      <th>MAL_ID</th>\n      <th>0</th>\n      <th>1</th>\n      <th>2</th>\n      <th>3</th>\n      <th>4</th>\n      <th>5</th>\n      <th>6</th>\n      <th>7</th>\n      <th>8</th>\n      <th>...</th>\n      <th>Shounen Ai</th>\n      <th>Slice of Life</th>\n      <th>Space</th>\n      <th>Sports</th>\n      <th>Super Power</th>\n      <th>Supernatural</th>\n      <th>Thriller</th>\n      <th>Vampire</th>\n      <th>Yaoi</th>\n      <th>Yuri</th>\n    </tr>\n  </thead>\n  <tbody>\n    <tr>\n      <th>0</th>\n      <td>152</td>\n      <td>0.702148</td>\n      <td>-0.670898</td>\n      <td>0.275635</td>\n      <td>2.185547</td>\n      <td>1.821289</td>\n      <td>1.121094</td>\n      <td>-2.980469</td>\n      <td>-3.541016</td>\n      <td>-0.506836</td>\n      <td>...</td>\n      <td>0</td>\n      <td>0</td>\n      <td>0</td>\n      <td>0</td>\n      <td>1</td>\n      <td>0</td>\n      <td>0</td>\n      <td>0</td>\n      <td>0</td>\n      <td>0</td>\n    </tr>\n    <tr>\n      <th>1</th>\n      <td>3305</td>\n      <td>-0.408691</td>\n      <td>-2.222656</td>\n      <td>0.479248</td>\n      <td>1.563477</td>\n      <td>1.099609</td>\n      <td>1.427734</td>\n      <td>-1.668945</td>\n      <td>-0.686035</td>\n      <td>-1.058594</td>\n      <td>...</td>\n      <td>0</td>\n      <td>0</td>\n      <td>0</td>\n      <td>0</td>\n      <td>0</td>\n      <td>0</td>\n      <td>0</td>\n      <td>0</td>\n      <td>0</td>\n      <td>0</td>\n    </tr>\n    <tr>\n      <th>2</th>\n      <td>220</td>\n      <td>0.250488</td>\n      <td>-1.990234</td>\n      <td>0.635742</td>\n      <td>1.045898</td>\n      <td>1.049805</td>\n      <td>0.734375</td>\n      <td>-0.468750</td>\n      <td>-2.064453</td>\n      <td>-2.736328</td>\n      <td>...</td>\n      <td>0</td>\n      <td>0</td>\n      <td>0</td>\n      <td>0</td>\n      <td>0</td>\n      <td>0</td>\n      <td>0</td>\n      <td>0</td>\n      <td>0</td>\n      <td>0</td>\n    </tr>\n    <tr>\n      <th>3</th>\n      <td>18897</td>\n      <td>1.130859</td>\n      <td>-1.708984</td>\n      <td>0.299805</td>\n      <td>1.824219</td>\n      <td>2.050781</td>\n      <td>1.876953</td>\n      <td>-1.552734</td>\n      <td>-1.493164</td>\n      <td>-1.374023</td>\n      <td>...</td>\n      <td>0</td>\n      <td>0</td>\n      <td>0</td>\n      <td>0</td>\n      <td>0</td>\n      <td>0</td>\n      <td>0</td>\n      <td>0</td>\n      <td>0</td>\n      <td>0</td>\n    </tr>\n    <tr>\n      <th>4</th>\n      <td>10863</td>\n      <td>1.394531</td>\n      <td>-0.952148</td>\n      <td>1.733398</td>\n      <td>2.230469</td>\n      <td>0.469482</td>\n      <td>3.851562</td>\n      <td>-0.990234</td>\n      <td>-1.993164</td>\n      <td>-0.837402</td>\n      <td>...</td>\n      <td>0</td>\n      <td>0</td>\n      <td>0</td>\n      <td>0</td>\n      <td>0</td>\n      <td>0</td>\n      <td>1</td>\n      <td>0</td>\n      <td>0</td>\n      <td>0</td>\n    </tr>\n  </tbody>\n</table>\n<p>5 rows × 144 columns</p>\n</div>"
     },
     "metadata": {},
     "execution_count": 6
    }
   ],
   "source": [
    "# random shuffle and re-index\n",
    "full_vec = full_vec.sample(frac=1).reset_index(drop=True)\n",
    "full_vec.head()"
   ]
  },
  {
   "cell_type": "code",
   "execution_count": 7,
   "metadata": {},
   "outputs": [],
   "source": [
    "# split dataframe to train-test numpy array\n",
    "train_ratio = 0.95\n",
    "num_train = int(len(full_vec) * train_ratio)\n",
    "\n",
    "x_train = full_vec[synop_cols][:num_train].values\n",
    "t_train = full_vec[genre_cols][:num_train].values\n",
    "id_train = full_vec['MAL_ID'][num_train:].values\n",
    "\n",
    "x_test = full_vec[synop_cols][num_train:].values\n",
    "t_test = full_vec[genre_cols][num_train:].values\n",
    "id_test = full_vec['MAL_ID'][num_train:].values\n",
    "\n",
    "del synop_vec, genre_vec, full_vec"
   ]
  },
  {
   "cell_type": "code",
   "execution_count": 8,
   "metadata": {},
   "outputs": [],
   "source": [
    "# standardization\n",
    "x_train_mean = x_train.mean(axis=0)\n",
    "x_train_std  = x_train.std(axis=0)\n",
    "\n",
    "x_train = (x_train - x_train_mean) / x_train_std\n",
    "x_test  = (x_test  - x_train_mean) / x_train_std"
   ]
  },
  {
   "source": [
    "## Define Model"
   ],
   "cell_type": "markdown",
   "metadata": {}
  },
  {
   "cell_type": "code",
   "execution_count": 9,
   "metadata": {},
   "outputs": [
    {
     "output_type": "stream",
     "name": "stdout",
     "text": [
      "------------------------------------------------------------\nAffine(input_size=100, output_size=50, weight_init=he)\n------------------------------------------------------------\nBatchNormalization(size_layer=50)\n------------------------------------------------------------\nRelu()\n------------------------------------------------------------\nDropout(dropout_ratio=0.5)\n------------------------------------------------------------\nAffine(input_size=50, output_size=50, weight_init=he)\n------------------------------------------------------------\nBatchNormalization(size_layer=50)\n------------------------------------------------------------\nRelu()\n------------------------------------------------------------\nDropout(dropout_ratio=0.5)\n------------------------------------------------------------\nAffine(input_size=50, output_size=43, weight_init=xavier)\n------------------------------------------------------------\nFocalLoss(gamma=2)\n------------------------------------------------------------\n"
     ]
    }
   ],
   "source": [
    "input_size  = len(synop_cols)\n",
    "output_size = len(genre_cols)\n",
    "\n",
    "model = MultiLabelClassifier(input_size=input_size,\n",
    "                             hidden_size_list=[50, 50],\n",
    "                             output_size=output_size,\n",
    "                             use_dropout=True,\n",
    "                             dropout_ratio=0.5,\n",
    "                             use_batchnorm=True,\n",
    "                             use_focal_loss=True,\n",
    "                             focal_gamma=2)\n",
    "model.summary()"
   ]
  },
  {
   "cell_type": "code",
   "execution_count": 10,
   "metadata": {},
   "outputs": [],
   "source": [
    "optimizer = Adam(lr=0.001)\n",
    "trainer = Trainer(model, optimizer)"
   ]
  },
  {
   "source": [
    "## Train Model"
   ],
   "cell_type": "markdown",
   "metadata": {}
  },
  {
   "cell_type": "code",
   "execution_count": 11,
   "metadata": {
    "tags": []
   },
   "outputs": [
    {
     "output_type": "stream",
     "name": "stdout",
     "text": [
      "| epoch   1 | time   0[s] | train loss 4.59 | val loss 4.48\n",
      "| epoch   2 | time   1[s] | train loss 3.89 | val loss 3.74\n",
      "| epoch   3 | time   1[s] | train loss 3.70 | val loss 3.55\n",
      "| epoch   4 | time   2[s] | train loss 3.58 | val loss 3.45\n",
      "| epoch   5 | time   2[s] | train loss 3.51 | val loss 3.40\n",
      "| epoch   6 | time   3[s] | train loss 3.49 | val loss 3.39\n",
      "| epoch   7 | time   3[s] | train loss 3.42 | val loss 3.34\n",
      "| epoch   8 | time   3[s] | train loss 3.42 | val loss 3.36\n",
      "| epoch   9 | time   4[s] | train loss 3.40 | val loss 3.35\n",
      "| epoch  10 | time   4[s] | train loss 3.40 | val loss 3.35\n",
      "| epoch  11 | time   4[s] | train loss 3.38 | val loss 3.36\n",
      "| epoch  12 | time   5[s] | train loss 3.38 | val loss 3.36\n",
      "| epoch  13 | time   5[s] | train loss 3.34 | val loss 3.32\n",
      "| epoch  14 | time   6[s] | train loss 3.31 | val loss 3.30\n",
      "| epoch  15 | time   6[s] | train loss 3.34 | val loss 3.34\n",
      "| epoch  16 | time   6[s] | train loss 3.31 | val loss 3.31\n",
      "| epoch  17 | time   7[s] | train loss 3.29 | val loss 3.30\n",
      "| epoch  18 | time   7[s] | train loss 3.29 | val loss 3.31\n",
      "| epoch  19 | time   7[s] | train loss 3.28 | val loss 3.31\n",
      "| epoch  20 | time   8[s] | train loss 3.28 | val loss 3.30\n",
      "| epoch  21 | time   8[s] | train loss 3.31 | val loss 3.36\n",
      "| epoch  22 | time   8[s] | train loss 3.26 | val loss 3.30\n",
      "| epoch  23 | time   9[s] | train loss 3.23 | val loss 3.29\n",
      "| epoch  24 | time   9[s] | train loss 3.28 | val loss 3.35\n",
      "| epoch  25 | time   9[s] | train loss 3.22 | val loss 3.29\n",
      "| epoch  26 | time  10[s] | train loss 3.23 | val loss 3.31\n",
      "| epoch  27 | time  10[s] | train loss 3.20 | val loss 3.27\n",
      "| epoch  28 | time  10[s] | train loss 3.22 | val loss 3.30\n",
      "| epoch  29 | time  11[s] | train loss 3.21 | val loss 3.28\n",
      "| epoch  30 | time  11[s] | train loss 3.21 | val loss 3.28\n",
      "| epoch  31 | time  11[s] | train loss 3.20 | val loss 3.28\n",
      "| epoch  32 | time  11[s] | train loss 3.20 | val loss 3.28\n",
      "| epoch  33 | time  12[s] | train loss 3.24 | val loss 3.33\n",
      "| epoch  34 | time  12[s] | train loss 3.17 | val loss 3.26\n",
      "| epoch  35 | time  13[s] | train loss 3.19 | val loss 3.29\n",
      "| epoch  36 | time  13[s] | train loss 3.22 | val loss 3.32\n",
      "| epoch  37 | time  13[s] | train loss 3.17 | val loss 3.27\n",
      "| epoch  38 | time  14[s] | train loss 3.19 | val loss 3.29\n",
      "| epoch  39 | time  14[s] | train loss 3.14 | val loss 3.25\n",
      "| epoch  40 | time  15[s] | train loss 3.19 | val loss 3.31\n",
      "| epoch  41 | time  15[s] | train loss 3.13 | val loss 3.23\n",
      "| epoch  42 | time  16[s] | train loss 3.17 | val loss 3.27\n",
      "| epoch  43 | time  16[s] | train loss 3.16 | val loss 3.26\n",
      "| epoch  44 | time  17[s] | train loss 3.13 | val loss 3.25\n",
      "| epoch  45 | time  17[s] | train loss 3.12 | val loss 3.23\n",
      "| epoch  46 | time  18[s] | train loss 3.13 | val loss 3.23\n",
      "| epoch  47 | time  18[s] | train loss 3.13 | val loss 3.24\n",
      "| epoch  48 | time  18[s] | train loss 3.12 | val loss 3.24\n",
      "| epoch  49 | time  19[s] | train loss 3.11 | val loss 3.21\n",
      "| epoch  50 | time  19[s] | train loss 3.11 | val loss 3.21\n"
     ]
    }
   ],
   "source": [
    "num_epochs = 50\n",
    "batch_size = 100\n",
    "\n",
    "trainer.fit(x_train, t_train, x_test, t_test, \n",
    "            max_epoch=num_epochs, \n",
    "            batch_size=batch_size)"
   ]
  },
  {
   "cell_type": "code",
   "execution_count": 12,
   "metadata": {},
   "outputs": [
    {
     "output_type": "display_data",
     "data": {
      "text/plain": "<Figure size 432x288 with 1 Axes>",
      "image/svg+xml": "<?xml version=\"1.0\" encoding=\"utf-8\" standalone=\"no\"?>\n<!DOCTYPE svg PUBLIC \"-//W3C//DTD SVG 1.1//EN\"\n  \"http://www.w3.org/Graphics/SVG/1.1/DTD/svg11.dtd\">\n<svg height=\"262.19625pt\" version=\"1.1\" viewBox=\"0 0 385.78125 262.19625\" width=\"385.78125pt\" xmlns=\"http://www.w3.org/2000/svg\" xmlns:xlink=\"http://www.w3.org/1999/xlink\">\n <metadata>\n  <rdf:RDF xmlns:cc=\"http://creativecommons.org/ns#\" xmlns:dc=\"http://purl.org/dc/elements/1.1/\" xmlns:rdf=\"http://www.w3.org/1999/02/22-rdf-syntax-ns#\">\n   <cc:Work>\n    <dc:type rdf:resource=\"http://purl.org/dc/dcmitype/StillImage\"/>\n    <dc:date>2021-06-22T11:53:56.775527</dc:date>\n    <dc:format>image/svg+xml</dc:format>\n    <dc:creator>\n     <cc:Agent>\n      <dc:title>Matplotlib v3.4.2, https://matplotlib.org/</dc:title>\n     </cc:Agent>\n    </dc:creator>\n   </cc:Work>\n  </rdf:RDF>\n </metadata>\n <defs>\n  <style type=\"text/css\">*{stroke-linecap:butt;stroke-linejoin:round;}</style>\n </defs>\n <g id=\"figure_1\">\n  <g id=\"patch_1\">\n   <path d=\"M 0 262.19625 \nL 385.78125 262.19625 \nL 385.78125 0 \nL 0 0 \nz\n\" style=\"fill:none;\"/>\n  </g>\n  <g id=\"axes_1\">\n   <g id=\"patch_2\">\n    <path d=\"M 43.78125 224.64 \nL 378.58125 224.64 \nL 378.58125 7.2 \nL 43.78125 7.2 \nz\n\" style=\"fill:#ffffff;\"/>\n   </g>\n   <g id=\"matplotlib.axis_1\">\n    <g id=\"xtick_1\">\n     <g id=\"line2d_1\">\n      <defs>\n       <path d=\"M 0 0 \nL 0 3.5 \n\" id=\"m45113240ab\" style=\"stroke:#000000;stroke-width:0.8;\"/>\n      </defs>\n      <g>\n       <use style=\"stroke:#000000;stroke-width:0.8;\" x=\"58.999432\" xlink:href=\"#m45113240ab\" y=\"224.64\"/>\n      </g>\n     </g>\n     <g id=\"text_1\">\n      <!-- 0 -->\n      <g transform=\"translate(55.818182 239.238438)scale(0.1 -0.1)\">\n       <defs>\n        <path d=\"M 2034 4250 \nQ 1547 4250 1301 3770 \nQ 1056 3291 1056 2328 \nQ 1056 1369 1301 889 \nQ 1547 409 2034 409 \nQ 2525 409 2770 889 \nQ 3016 1369 3016 2328 \nQ 3016 3291 2770 3770 \nQ 2525 4250 2034 4250 \nz\nM 2034 4750 \nQ 2819 4750 3233 4129 \nQ 3647 3509 3647 2328 \nQ 3647 1150 3233 529 \nQ 2819 -91 2034 -91 \nQ 1250 -91 836 529 \nQ 422 1150 422 2328 \nQ 422 3509 836 4129 \nQ 1250 4750 2034 4750 \nz\n\" id=\"DejaVuSans-30\" transform=\"scale(0.015625)\"/>\n       </defs>\n       <use xlink:href=\"#DejaVuSans-30\"/>\n      </g>\n     </g>\n    </g>\n    <g id=\"xtick_2\">\n     <g id=\"line2d_2\">\n      <g>\n       <use style=\"stroke:#000000;stroke-width:0.8;\" x=\"121.11446\" xlink:href=\"#m45113240ab\" y=\"224.64\"/>\n      </g>\n     </g>\n     <g id=\"text_2\">\n      <!-- 10 -->\n      <g transform=\"translate(114.75196 239.238438)scale(0.1 -0.1)\">\n       <defs>\n        <path d=\"M 794 531 \nL 1825 531 \nL 1825 4091 \nL 703 3866 \nL 703 4441 \nL 1819 4666 \nL 2450 4666 \nL 2450 531 \nL 3481 531 \nL 3481 0 \nL 794 0 \nL 794 531 \nz\n\" id=\"DejaVuSans-31\" transform=\"scale(0.015625)\"/>\n       </defs>\n       <use xlink:href=\"#DejaVuSans-31\"/>\n       <use x=\"63.623047\" xlink:href=\"#DejaVuSans-30\"/>\n      </g>\n     </g>\n    </g>\n    <g id=\"xtick_3\">\n     <g id=\"line2d_3\">\n      <g>\n       <use style=\"stroke:#000000;stroke-width:0.8;\" x=\"183.229487\" xlink:href=\"#m45113240ab\" y=\"224.64\"/>\n      </g>\n     </g>\n     <g id=\"text_3\">\n      <!-- 20 -->\n      <g transform=\"translate(176.866987 239.238438)scale(0.1 -0.1)\">\n       <defs>\n        <path d=\"M 1228 531 \nL 3431 531 \nL 3431 0 \nL 469 0 \nL 469 531 \nQ 828 903 1448 1529 \nQ 2069 2156 2228 2338 \nQ 2531 2678 2651 2914 \nQ 2772 3150 2772 3378 \nQ 2772 3750 2511 3984 \nQ 2250 4219 1831 4219 \nQ 1534 4219 1204 4116 \nQ 875 4013 500 3803 \nL 500 4441 \nQ 881 4594 1212 4672 \nQ 1544 4750 1819 4750 \nQ 2544 4750 2975 4387 \nQ 3406 4025 3406 3419 \nQ 3406 3131 3298 2873 \nQ 3191 2616 2906 2266 \nQ 2828 2175 2409 1742 \nQ 1991 1309 1228 531 \nz\n\" id=\"DejaVuSans-32\" transform=\"scale(0.015625)\"/>\n       </defs>\n       <use xlink:href=\"#DejaVuSans-32\"/>\n       <use x=\"63.623047\" xlink:href=\"#DejaVuSans-30\"/>\n      </g>\n     </g>\n    </g>\n    <g id=\"xtick_4\">\n     <g id=\"line2d_4\">\n      <g>\n       <use style=\"stroke:#000000;stroke-width:0.8;\" x=\"245.344515\" xlink:href=\"#m45113240ab\" y=\"224.64\"/>\n      </g>\n     </g>\n     <g id=\"text_4\">\n      <!-- 30 -->\n      <g transform=\"translate(238.982015 239.238438)scale(0.1 -0.1)\">\n       <defs>\n        <path d=\"M 2597 2516 \nQ 3050 2419 3304 2112 \nQ 3559 1806 3559 1356 \nQ 3559 666 3084 287 \nQ 2609 -91 1734 -91 \nQ 1441 -91 1130 -33 \nQ 819 25 488 141 \nL 488 750 \nQ 750 597 1062 519 \nQ 1375 441 1716 441 \nQ 2309 441 2620 675 \nQ 2931 909 2931 1356 \nQ 2931 1769 2642 2001 \nQ 2353 2234 1838 2234 \nL 1294 2234 \nL 1294 2753 \nL 1863 2753 \nQ 2328 2753 2575 2939 \nQ 2822 3125 2822 3475 \nQ 2822 3834 2567 4026 \nQ 2313 4219 1838 4219 \nQ 1578 4219 1281 4162 \nQ 984 4106 628 3988 \nL 628 4550 \nQ 988 4650 1302 4700 \nQ 1616 4750 1894 4750 \nQ 2613 4750 3031 4423 \nQ 3450 4097 3450 3541 \nQ 3450 3153 3228 2886 \nQ 3006 2619 2597 2516 \nz\n\" id=\"DejaVuSans-33\" transform=\"scale(0.015625)\"/>\n       </defs>\n       <use xlink:href=\"#DejaVuSans-33\"/>\n       <use x=\"63.623047\" xlink:href=\"#DejaVuSans-30\"/>\n      </g>\n     </g>\n    </g>\n    <g id=\"xtick_5\">\n     <g id=\"line2d_5\">\n      <g>\n       <use style=\"stroke:#000000;stroke-width:0.8;\" x=\"307.459543\" xlink:href=\"#m45113240ab\" y=\"224.64\"/>\n      </g>\n     </g>\n     <g id=\"text_5\">\n      <!-- 40 -->\n      <g transform=\"translate(301.097043 239.238438)scale(0.1 -0.1)\">\n       <defs>\n        <path d=\"M 2419 4116 \nL 825 1625 \nL 2419 1625 \nL 2419 4116 \nz\nM 2253 4666 \nL 3047 4666 \nL 3047 1625 \nL 3713 1625 \nL 3713 1100 \nL 3047 1100 \nL 3047 0 \nL 2419 0 \nL 2419 1100 \nL 313 1100 \nL 313 1709 \nL 2253 4666 \nz\n\" id=\"DejaVuSans-34\" transform=\"scale(0.015625)\"/>\n       </defs>\n       <use xlink:href=\"#DejaVuSans-34\"/>\n       <use x=\"63.623047\" xlink:href=\"#DejaVuSans-30\"/>\n      </g>\n     </g>\n    </g>\n    <g id=\"xtick_6\">\n     <g id=\"line2d_6\">\n      <g>\n       <use style=\"stroke:#000000;stroke-width:0.8;\" x=\"369.574571\" xlink:href=\"#m45113240ab\" y=\"224.64\"/>\n      </g>\n     </g>\n     <g id=\"text_6\">\n      <!-- 50 -->\n      <g transform=\"translate(363.212071 239.238438)scale(0.1 -0.1)\">\n       <defs>\n        <path d=\"M 691 4666 \nL 3169 4666 \nL 3169 4134 \nL 1269 4134 \nL 1269 2991 \nQ 1406 3038 1543 3061 \nQ 1681 3084 1819 3084 \nQ 2600 3084 3056 2656 \nQ 3513 2228 3513 1497 \nQ 3513 744 3044 326 \nQ 2575 -91 1722 -91 \nQ 1428 -91 1123 -41 \nQ 819 9 494 109 \nL 494 744 \nQ 775 591 1075 516 \nQ 1375 441 1709 441 \nQ 2250 441 2565 725 \nQ 2881 1009 2881 1497 \nQ 2881 1984 2565 2268 \nQ 2250 2553 1709 2553 \nQ 1456 2553 1204 2497 \nQ 953 2441 691 2322 \nL 691 4666 \nz\n\" id=\"DejaVuSans-35\" transform=\"scale(0.015625)\"/>\n       </defs>\n       <use xlink:href=\"#DejaVuSans-35\"/>\n       <use x=\"63.623047\" xlink:href=\"#DejaVuSans-30\"/>\n      </g>\n     </g>\n    </g>\n    <g id=\"text_7\">\n     <!-- Epoch -->\n     <g transform=\"translate(195.870313 252.916563)scale(0.1 -0.1)\">\n      <defs>\n       <path d=\"M 628 4666 \nL 3578 4666 \nL 3578 4134 \nL 1259 4134 \nL 1259 2753 \nL 3481 2753 \nL 3481 2222 \nL 1259 2222 \nL 1259 531 \nL 3634 531 \nL 3634 0 \nL 628 0 \nL 628 4666 \nz\n\" id=\"DejaVuSans-45\" transform=\"scale(0.015625)\"/>\n       <path d=\"M 1159 525 \nL 1159 -1331 \nL 581 -1331 \nL 581 3500 \nL 1159 3500 \nL 1159 2969 \nQ 1341 3281 1617 3432 \nQ 1894 3584 2278 3584 \nQ 2916 3584 3314 3078 \nQ 3713 2572 3713 1747 \nQ 3713 922 3314 415 \nQ 2916 -91 2278 -91 \nQ 1894 -91 1617 61 \nQ 1341 213 1159 525 \nz\nM 3116 1747 \nQ 3116 2381 2855 2742 \nQ 2594 3103 2138 3103 \nQ 1681 3103 1420 2742 \nQ 1159 2381 1159 1747 \nQ 1159 1113 1420 752 \nQ 1681 391 2138 391 \nQ 2594 391 2855 752 \nQ 3116 1113 3116 1747 \nz\n\" id=\"DejaVuSans-70\" transform=\"scale(0.015625)\"/>\n       <path d=\"M 1959 3097 \nQ 1497 3097 1228 2736 \nQ 959 2375 959 1747 \nQ 959 1119 1226 758 \nQ 1494 397 1959 397 \nQ 2419 397 2687 759 \nQ 2956 1122 2956 1747 \nQ 2956 2369 2687 2733 \nQ 2419 3097 1959 3097 \nz\nM 1959 3584 \nQ 2709 3584 3137 3096 \nQ 3566 2609 3566 1747 \nQ 3566 888 3137 398 \nQ 2709 -91 1959 -91 \nQ 1206 -91 779 398 \nQ 353 888 353 1747 \nQ 353 2609 779 3096 \nQ 1206 3584 1959 3584 \nz\n\" id=\"DejaVuSans-6f\" transform=\"scale(0.015625)\"/>\n       <path d=\"M 3122 3366 \nL 3122 2828 \nQ 2878 2963 2633 3030 \nQ 2388 3097 2138 3097 \nQ 1578 3097 1268 2742 \nQ 959 2388 959 1747 \nQ 959 1106 1268 751 \nQ 1578 397 2138 397 \nQ 2388 397 2633 464 \nQ 2878 531 3122 666 \nL 3122 134 \nQ 2881 22 2623 -34 \nQ 2366 -91 2075 -91 \nQ 1284 -91 818 406 \nQ 353 903 353 1747 \nQ 353 2603 823 3093 \nQ 1294 3584 2113 3584 \nQ 2378 3584 2631 3529 \nQ 2884 3475 3122 3366 \nz\n\" id=\"DejaVuSans-63\" transform=\"scale(0.015625)\"/>\n       <path d=\"M 3513 2113 \nL 3513 0 \nL 2938 0 \nL 2938 2094 \nQ 2938 2591 2744 2837 \nQ 2550 3084 2163 3084 \nQ 1697 3084 1428 2787 \nQ 1159 2491 1159 1978 \nL 1159 0 \nL 581 0 \nL 581 4863 \nL 1159 4863 \nL 1159 2956 \nQ 1366 3272 1645 3428 \nQ 1925 3584 2291 3584 \nQ 2894 3584 3203 3211 \nQ 3513 2838 3513 2113 \nz\n\" id=\"DejaVuSans-68\" transform=\"scale(0.015625)\"/>\n      </defs>\n      <use xlink:href=\"#DejaVuSans-45\"/>\n      <use x=\"63.183594\" xlink:href=\"#DejaVuSans-70\"/>\n      <use x=\"126.660156\" xlink:href=\"#DejaVuSans-6f\"/>\n      <use x=\"187.841797\" xlink:href=\"#DejaVuSans-63\"/>\n      <use x=\"242.822266\" xlink:href=\"#DejaVuSans-68\"/>\n     </g>\n    </g>\n   </g>\n   <g id=\"matplotlib.axis_2\">\n    <g id=\"ytick_1\">\n     <g id=\"line2d_7\">\n      <defs>\n       <path d=\"M 0 0 \nL -3.5 0 \n\" id=\"me60c4274f0\" style=\"stroke:#000000;stroke-width:0.8;\"/>\n      </defs>\n      <g>\n       <use style=\"stroke:#000000;stroke-width:0.8;\" x=\"43.78125\" xlink:href=\"#me60c4274f0\" y=\"202.341734\"/>\n      </g>\n     </g>\n     <g id=\"text_8\">\n      <!-- 3.2 -->\n      <g transform=\"translate(20.878125 206.140953)scale(0.1 -0.1)\">\n       <defs>\n        <path d=\"M 684 794 \nL 1344 794 \nL 1344 0 \nL 684 0 \nL 684 794 \nz\n\" id=\"DejaVuSans-2e\" transform=\"scale(0.015625)\"/>\n       </defs>\n       <use xlink:href=\"#DejaVuSans-33\"/>\n       <use x=\"63.623047\" xlink:href=\"#DejaVuSans-2e\"/>\n       <use x=\"95.410156\" xlink:href=\"#DejaVuSans-32\"/>\n      </g>\n     </g>\n    </g>\n    <g id=\"ytick_2\">\n     <g id=\"line2d_8\">\n      <g>\n       <use style=\"stroke:#000000;stroke-width:0.8;\" x=\"43.78125\" xlink:href=\"#me60c4274f0\" y=\"175.741936\"/>\n      </g>\n     </g>\n     <g id=\"text_9\">\n      <!-- 3.4 -->\n      <g transform=\"translate(20.878125 179.541155)scale(0.1 -0.1)\">\n       <use xlink:href=\"#DejaVuSans-33\"/>\n       <use x=\"63.623047\" xlink:href=\"#DejaVuSans-2e\"/>\n       <use x=\"95.410156\" xlink:href=\"#DejaVuSans-34\"/>\n      </g>\n     </g>\n    </g>\n    <g id=\"ytick_3\">\n     <g id=\"line2d_9\">\n      <g>\n       <use style=\"stroke:#000000;stroke-width:0.8;\" x=\"43.78125\" xlink:href=\"#me60c4274f0\" y=\"149.142138\"/>\n      </g>\n     </g>\n     <g id=\"text_10\">\n      <!-- 3.6 -->\n      <g transform=\"translate(20.878125 152.941357)scale(0.1 -0.1)\">\n       <defs>\n        <path d=\"M 2113 2584 \nQ 1688 2584 1439 2293 \nQ 1191 2003 1191 1497 \nQ 1191 994 1439 701 \nQ 1688 409 2113 409 \nQ 2538 409 2786 701 \nQ 3034 994 3034 1497 \nQ 3034 2003 2786 2293 \nQ 2538 2584 2113 2584 \nz\nM 3366 4563 \nL 3366 3988 \nQ 3128 4100 2886 4159 \nQ 2644 4219 2406 4219 \nQ 1781 4219 1451 3797 \nQ 1122 3375 1075 2522 \nQ 1259 2794 1537 2939 \nQ 1816 3084 2150 3084 \nQ 2853 3084 3261 2657 \nQ 3669 2231 3669 1497 \nQ 3669 778 3244 343 \nQ 2819 -91 2113 -91 \nQ 1303 -91 875 529 \nQ 447 1150 447 2328 \nQ 447 3434 972 4092 \nQ 1497 4750 2381 4750 \nQ 2619 4750 2861 4703 \nQ 3103 4656 3366 4563 \nz\n\" id=\"DejaVuSans-36\" transform=\"scale(0.015625)\"/>\n       </defs>\n       <use xlink:href=\"#DejaVuSans-33\"/>\n       <use x=\"63.623047\" xlink:href=\"#DejaVuSans-2e\"/>\n       <use x=\"95.410156\" xlink:href=\"#DejaVuSans-36\"/>\n      </g>\n     </g>\n    </g>\n    <g id=\"ytick_4\">\n     <g id=\"line2d_10\">\n      <g>\n       <use style=\"stroke:#000000;stroke-width:0.8;\" x=\"43.78125\" xlink:href=\"#me60c4274f0\" y=\"122.54234\"/>\n      </g>\n     </g>\n     <g id=\"text_11\">\n      <!-- 3.8 -->\n      <g transform=\"translate(20.878125 126.341559)scale(0.1 -0.1)\">\n       <defs>\n        <path d=\"M 2034 2216 \nQ 1584 2216 1326 1975 \nQ 1069 1734 1069 1313 \nQ 1069 891 1326 650 \nQ 1584 409 2034 409 \nQ 2484 409 2743 651 \nQ 3003 894 3003 1313 \nQ 3003 1734 2745 1975 \nQ 2488 2216 2034 2216 \nz\nM 1403 2484 \nQ 997 2584 770 2862 \nQ 544 3141 544 3541 \nQ 544 4100 942 4425 \nQ 1341 4750 2034 4750 \nQ 2731 4750 3128 4425 \nQ 3525 4100 3525 3541 \nQ 3525 3141 3298 2862 \nQ 3072 2584 2669 2484 \nQ 3125 2378 3379 2068 \nQ 3634 1759 3634 1313 \nQ 3634 634 3220 271 \nQ 2806 -91 2034 -91 \nQ 1263 -91 848 271 \nQ 434 634 434 1313 \nQ 434 1759 690 2068 \nQ 947 2378 1403 2484 \nz\nM 1172 3481 \nQ 1172 3119 1398 2916 \nQ 1625 2713 2034 2713 \nQ 2441 2713 2670 2916 \nQ 2900 3119 2900 3481 \nQ 2900 3844 2670 4047 \nQ 2441 4250 2034 4250 \nQ 1625 4250 1398 4047 \nQ 1172 3844 1172 3481 \nz\n\" id=\"DejaVuSans-38\" transform=\"scale(0.015625)\"/>\n       </defs>\n       <use xlink:href=\"#DejaVuSans-33\"/>\n       <use x=\"63.623047\" xlink:href=\"#DejaVuSans-2e\"/>\n       <use x=\"95.410156\" xlink:href=\"#DejaVuSans-38\"/>\n      </g>\n     </g>\n    </g>\n    <g id=\"ytick_5\">\n     <g id=\"line2d_11\">\n      <g>\n       <use style=\"stroke:#000000;stroke-width:0.8;\" x=\"43.78125\" xlink:href=\"#me60c4274f0\" y=\"95.942542\"/>\n      </g>\n     </g>\n     <g id=\"text_12\">\n      <!-- 4.0 -->\n      <g transform=\"translate(20.878125 99.741761)scale(0.1 -0.1)\">\n       <use xlink:href=\"#DejaVuSans-34\"/>\n       <use x=\"63.623047\" xlink:href=\"#DejaVuSans-2e\"/>\n       <use x=\"95.410156\" xlink:href=\"#DejaVuSans-30\"/>\n      </g>\n     </g>\n    </g>\n    <g id=\"ytick_6\">\n     <g id=\"line2d_12\">\n      <g>\n       <use style=\"stroke:#000000;stroke-width:0.8;\" x=\"43.78125\" xlink:href=\"#me60c4274f0\" y=\"69.342744\"/>\n      </g>\n     </g>\n     <g id=\"text_13\">\n      <!-- 4.2 -->\n      <g transform=\"translate(20.878125 73.141963)scale(0.1 -0.1)\">\n       <use xlink:href=\"#DejaVuSans-34\"/>\n       <use x=\"63.623047\" xlink:href=\"#DejaVuSans-2e\"/>\n       <use x=\"95.410156\" xlink:href=\"#DejaVuSans-32\"/>\n      </g>\n     </g>\n    </g>\n    <g id=\"ytick_7\">\n     <g id=\"line2d_13\">\n      <g>\n       <use style=\"stroke:#000000;stroke-width:0.8;\" x=\"43.78125\" xlink:href=\"#me60c4274f0\" y=\"42.742946\"/>\n      </g>\n     </g>\n     <g id=\"text_14\">\n      <!-- 4.4 -->\n      <g transform=\"translate(20.878125 46.542165)scale(0.1 -0.1)\">\n       <use xlink:href=\"#DejaVuSans-34\"/>\n       <use x=\"63.623047\" xlink:href=\"#DejaVuSans-2e\"/>\n       <use x=\"95.410156\" xlink:href=\"#DejaVuSans-34\"/>\n      </g>\n     </g>\n    </g>\n    <g id=\"ytick_8\">\n     <g id=\"line2d_14\">\n      <g>\n       <use style=\"stroke:#000000;stroke-width:0.8;\" x=\"43.78125\" xlink:href=\"#me60c4274f0\" y=\"16.143148\"/>\n      </g>\n     </g>\n     <g id=\"text_15\">\n      <!-- 4.6 -->\n      <g transform=\"translate(20.878125 19.942367)scale(0.1 -0.1)\">\n       <use xlink:href=\"#DejaVuSans-34\"/>\n       <use x=\"63.623047\" xlink:href=\"#DejaVuSans-2e\"/>\n       <use x=\"95.410156\" xlink:href=\"#DejaVuSans-36\"/>\n      </g>\n     </g>\n    </g>\n    <g id=\"text_16\">\n     <!-- Loss -->\n     <g transform=\"translate(14.798438 126.887188)rotate(-90)scale(0.1 -0.1)\">\n      <defs>\n       <path d=\"M 628 4666 \nL 1259 4666 \nL 1259 531 \nL 3531 531 \nL 3531 0 \nL 628 0 \nL 628 4666 \nz\n\" id=\"DejaVuSans-4c\" transform=\"scale(0.015625)\"/>\n       <path d=\"M 2834 3397 \nL 2834 2853 \nQ 2591 2978 2328 3040 \nQ 2066 3103 1784 3103 \nQ 1356 3103 1142 2972 \nQ 928 2841 928 2578 \nQ 928 2378 1081 2264 \nQ 1234 2150 1697 2047 \nL 1894 2003 \nQ 2506 1872 2764 1633 \nQ 3022 1394 3022 966 \nQ 3022 478 2636 193 \nQ 2250 -91 1575 -91 \nQ 1294 -91 989 -36 \nQ 684 19 347 128 \nL 347 722 \nQ 666 556 975 473 \nQ 1284 391 1588 391 \nQ 1994 391 2212 530 \nQ 2431 669 2431 922 \nQ 2431 1156 2273 1281 \nQ 2116 1406 1581 1522 \nL 1381 1569 \nQ 847 1681 609 1914 \nQ 372 2147 372 2553 \nQ 372 3047 722 3315 \nQ 1072 3584 1716 3584 \nQ 2034 3584 2315 3537 \nQ 2597 3491 2834 3397 \nz\n\" id=\"DejaVuSans-73\" transform=\"scale(0.015625)\"/>\n      </defs>\n      <use xlink:href=\"#DejaVuSans-4c\"/>\n      <use x=\"53.962891\" xlink:href=\"#DejaVuSans-6f\"/>\n      <use x=\"115.144531\" xlink:href=\"#DejaVuSans-73\"/>\n      <use x=\"167.244141\" xlink:href=\"#DejaVuSans-73\"/>\n     </g>\n    </g>\n   </g>\n   <g id=\"line2d_15\">\n    <path clip-path=\"url(#p820c751e36)\" d=\"M 58.999432 17.083636 \nL 65.210935 109.911518 \nL 71.422437 136.321089 \nL 77.63394 151.702915 \nL 83.845443 160.91424 \nL 90.056946 164.097579 \nL 96.268449 173.520746 \nL 102.479951 173.649624 \nL 108.691454 175.850416 \nL 114.902957 176.151902 \nL 121.11446 178.524275 \nL 127.325962 178.825005 \nL 133.537465 183.257366 \nL 139.748968 187.512541 \nL 145.960471 184.016844 \nL 152.171974 187.918046 \nL 158.383476 189.8045 \nL 164.594979 190.762839 \nL 170.806482 191.726157 \nL 177.017985 192.162736 \nL 183.229487 187.247682 \nL 189.44099 194.48499 \nL 195.652493 197.985467 \nL 201.863996 191.193728 \nL 208.075499 199.726046 \nL 214.287001 198.236415 \nL 220.498504 202.2376 \nL 226.710007 199.917921 \nL 232.92151 201.17142 \nL 239.133013 200.41952 \nL 245.344515 201.933898 \nL 251.556018 202.028736 \nL 257.767521 197.496281 \nL 263.979024 206.385805 \nL 270.190526 203.053502 \nL 276.402029 200.264805 \nL 282.613532 206.56384 \nL 288.825035 203.794062 \nL 295.036538 210.178551 \nL 301.24804 203.307164 \nL 307.459543 210.998586 \nL 313.671046 206.259523 \nL 319.882549 207.49503 \nL 326.094051 211.063706 \nL 332.305554 213.015886 \nL 338.517057 212.040803 \nL 344.72856 211.960188 \nL 350.940063 213.412868 \nL 357.151565 214.756364 \nL 363.363068 214.63251 \n\" style=\"fill:none;stroke:#1f77b4;stroke-linecap:square;stroke-width:1.5;\"/>\n   </g>\n   <g id=\"line2d_16\">\n    <path clip-path=\"url(#p820c751e36)\" d=\"M 58.999432 32.328704 \nL 65.210935 130.398242 \nL 71.422437 155.942132 \nL 77.63394 169.058529 \nL 83.845443 175.775118 \nL 90.056946 177.225582 \nL 96.268449 183.975805 \nL 102.479951 181.042098 \nL 108.691454 182.399227 \nL 114.902957 182.287132 \nL 121.11446 181.606853 \nL 127.325962 181.455637 \nL 133.537465 185.75035 \nL 139.748968 189.441532 \nL 145.960471 184.187366 \nL 152.171974 187.199202 \nL 158.383476 188.411637 \nL 164.594979 187.205341 \nL 170.806482 187.917916 \nL 177.017985 188.702802 \nL 183.229487 181.075106 \nL 189.44099 188.746832 \nL 195.652493 190.307705 \nL 201.863996 182.116807 \nL 208.075499 190.425491 \nL 214.287001 188.051647 \nL 220.498504 193.0749 \nL 226.710007 188.526872 \nL 232.92151 191.24124 \nL 239.133013 191.540204 \nL 245.344515 191.637591 \nL 251.556018 191.445831 \nL 257.767521 185.273264 \nL 263.979024 194.407311 \nL 270.190526 190.122309 \nL 276.402029 186.240605 \nL 282.613532 193.541705 \nL 288.825035 189.715216 \nL 295.036538 195.400967 \nL 301.24804 188.179214 \nL 307.459543 197.876906 \nL 313.671046 192.622746 \nL 319.882549 193.94604 \nL 326.094051 195.131779 \nL 332.305554 198.460977 \nL 338.517057 198.494553 \nL 344.72856 196.895629 \nL 350.940063 197.417491 \nL 357.151565 200.949974 \nL 363.363068 200.826133 \n\" style=\"fill:none;stroke:#ff7f0e;stroke-linecap:square;stroke-width:1.5;\"/>\n   </g>\n   <g id=\"patch_3\">\n    <path d=\"M 43.78125 224.64 \nL 43.78125 7.2 \n\" style=\"fill:none;stroke:#000000;stroke-linecap:square;stroke-linejoin:miter;stroke-width:0.8;\"/>\n   </g>\n   <g id=\"patch_4\">\n    <path d=\"M 378.58125 224.64 \nL 378.58125 7.2 \n\" style=\"fill:none;stroke:#000000;stroke-linecap:square;stroke-linejoin:miter;stroke-width:0.8;\"/>\n   </g>\n   <g id=\"patch_5\">\n    <path d=\"M 43.78125 224.64 \nL 378.58125 224.64 \n\" style=\"fill:none;stroke:#000000;stroke-linecap:square;stroke-linejoin:miter;stroke-width:0.8;\"/>\n   </g>\n   <g id=\"patch_6\">\n    <path d=\"M 43.78125 7.2 \nL 378.58125 7.2 \n\" style=\"fill:none;stroke:#000000;stroke-linecap:square;stroke-linejoin:miter;stroke-width:0.8;\"/>\n   </g>\n   <g id=\"legend_1\">\n    <g id=\"patch_7\">\n     <path d=\"M 316.30625 44.55625 \nL 371.58125 44.55625 \nQ 373.58125 44.55625 373.58125 42.55625 \nL 373.58125 14.2 \nQ 373.58125 12.2 371.58125 12.2 \nL 316.30625 12.2 \nQ 314.30625 12.2 314.30625 14.2 \nL 314.30625 42.55625 \nQ 314.30625 44.55625 316.30625 44.55625 \nz\n\" style=\"fill:#ffffff;opacity:0.8;stroke:#cccccc;stroke-linejoin:miter;\"/>\n    </g>\n    <g id=\"line2d_17\">\n     <path d=\"M 318.30625 20.298438 \nL 338.30625 20.298438 \n\" style=\"fill:none;stroke:#1f77b4;stroke-linecap:square;stroke-width:1.5;\"/>\n    </g>\n    <g id=\"line2d_18\"/>\n    <g id=\"text_17\">\n     <!-- train -->\n     <g transform=\"translate(346.30625 23.798438)scale(0.1 -0.1)\">\n      <defs>\n       <path d=\"M 1172 4494 \nL 1172 3500 \nL 2356 3500 \nL 2356 3053 \nL 1172 3053 \nL 1172 1153 \nQ 1172 725 1289 603 \nQ 1406 481 1766 481 \nL 2356 481 \nL 2356 0 \nL 1766 0 \nQ 1100 0 847 248 \nQ 594 497 594 1153 \nL 594 3053 \nL 172 3053 \nL 172 3500 \nL 594 3500 \nL 594 4494 \nL 1172 4494 \nz\n\" id=\"DejaVuSans-74\" transform=\"scale(0.015625)\"/>\n       <path d=\"M 2631 2963 \nQ 2534 3019 2420 3045 \nQ 2306 3072 2169 3072 \nQ 1681 3072 1420 2755 \nQ 1159 2438 1159 1844 \nL 1159 0 \nL 581 0 \nL 581 3500 \nL 1159 3500 \nL 1159 2956 \nQ 1341 3275 1631 3429 \nQ 1922 3584 2338 3584 \nQ 2397 3584 2469 3576 \nQ 2541 3569 2628 3553 \nL 2631 2963 \nz\n\" id=\"DejaVuSans-72\" transform=\"scale(0.015625)\"/>\n       <path d=\"M 2194 1759 \nQ 1497 1759 1228 1600 \nQ 959 1441 959 1056 \nQ 959 750 1161 570 \nQ 1363 391 1709 391 \nQ 2188 391 2477 730 \nQ 2766 1069 2766 1631 \nL 2766 1759 \nL 2194 1759 \nz\nM 3341 1997 \nL 3341 0 \nL 2766 0 \nL 2766 531 \nQ 2569 213 2275 61 \nQ 1981 -91 1556 -91 \nQ 1019 -91 701 211 \nQ 384 513 384 1019 \nQ 384 1609 779 1909 \nQ 1175 2209 1959 2209 \nL 2766 2209 \nL 2766 2266 \nQ 2766 2663 2505 2880 \nQ 2244 3097 1772 3097 \nQ 1472 3097 1187 3025 \nQ 903 2953 641 2809 \nL 641 3341 \nQ 956 3463 1253 3523 \nQ 1550 3584 1831 3584 \nQ 2591 3584 2966 3190 \nQ 3341 2797 3341 1997 \nz\n\" id=\"DejaVuSans-61\" transform=\"scale(0.015625)\"/>\n       <path d=\"M 603 3500 \nL 1178 3500 \nL 1178 0 \nL 603 0 \nL 603 3500 \nz\nM 603 4863 \nL 1178 4863 \nL 1178 4134 \nL 603 4134 \nL 603 4863 \nz\n\" id=\"DejaVuSans-69\" transform=\"scale(0.015625)\"/>\n       <path d=\"M 3513 2113 \nL 3513 0 \nL 2938 0 \nL 2938 2094 \nQ 2938 2591 2744 2837 \nQ 2550 3084 2163 3084 \nQ 1697 3084 1428 2787 \nQ 1159 2491 1159 1978 \nL 1159 0 \nL 581 0 \nL 581 3500 \nL 1159 3500 \nL 1159 2956 \nQ 1366 3272 1645 3428 \nQ 1925 3584 2291 3584 \nQ 2894 3584 3203 3211 \nQ 3513 2838 3513 2113 \nz\n\" id=\"DejaVuSans-6e\" transform=\"scale(0.015625)\"/>\n      </defs>\n      <use xlink:href=\"#DejaVuSans-74\"/>\n      <use x=\"39.208984\" xlink:href=\"#DejaVuSans-72\"/>\n      <use x=\"80.322266\" xlink:href=\"#DejaVuSans-61\"/>\n      <use x=\"141.601562\" xlink:href=\"#DejaVuSans-69\"/>\n      <use x=\"169.384766\" xlink:href=\"#DejaVuSans-6e\"/>\n     </g>\n    </g>\n    <g id=\"line2d_19\">\n     <path d=\"M 318.30625 34.976562 \nL 338.30625 34.976562 \n\" style=\"fill:none;stroke:#ff7f0e;stroke-linecap:square;stroke-width:1.5;\"/>\n    </g>\n    <g id=\"line2d_20\"/>\n    <g id=\"text_18\">\n     <!-- val -->\n     <g transform=\"translate(346.30625 38.476562)scale(0.1 -0.1)\">\n      <defs>\n       <path d=\"M 191 3500 \nL 800 3500 \nL 1894 563 \nL 2988 3500 \nL 3597 3500 \nL 2284 0 \nL 1503 0 \nL 191 3500 \nz\n\" id=\"DejaVuSans-76\" transform=\"scale(0.015625)\"/>\n       <path d=\"M 603 4863 \nL 1178 4863 \nL 1178 0 \nL 603 0 \nL 603 4863 \nz\n\" id=\"DejaVuSans-6c\" transform=\"scale(0.015625)\"/>\n      </defs>\n      <use xlink:href=\"#DejaVuSans-76\"/>\n      <use x=\"59.179688\" xlink:href=\"#DejaVuSans-61\"/>\n      <use x=\"120.458984\" xlink:href=\"#DejaVuSans-6c\"/>\n     </g>\n    </g>\n   </g>\n  </g>\n </g>\n <defs>\n  <clipPath id=\"p820c751e36\">\n   <rect height=\"217.44\" width=\"334.8\" x=\"43.78125\" y=\"7.2\"/>\n  </clipPath>\n </defs>\n</svg>\n",
      "image/png": "[encoded data removed]"
     },
     "metadata": {
      "needs_background": "light"
     }
    }
   ],
   "source": [
    "trainer.plot()"
   ]
  },
  {
   "cell_type": "code",
   "execution_count": 13,
   "metadata": {},
   "outputs": [],
   "source": [
    "def print_prob(probs, labels):\n",
    "    items = [x for x in sorted(zip(probs, genre_cols), reverse=True)]\n",
    "    for (prob, genre), label in zip(items, labels):\n",
    "        print('{:15s}{:>5.2f}% {}'.format(genre, prob*100, label))"
   ]
  },
  {
   "cell_type": "code",
   "execution_count": 14,
   "metadata": {},
   "outputs": [
    {
     "output_type": "stream",
     "name": "stdout",
     "text": [
      "Action         47.01% 1\nSci-Fi         43.11% 0\nComedy         38.46% 0\nAdventure      36.39% 0\nDrama          36.06% 0\nShounen        31.63% 0\nMecha          30.58% 0\nHentai         29.33% 0\nFantasy        29.25% 0\nRomance        28.87% 0\nMilitary       26.51% 0\nHistorical     24.69% 0\nSeinen         24.63% 0\nSupernatural   23.13% 0\nMystery        23.04% 0\nSchool         21.82% 0\nSpace          20.24% 0\nSuper Power    19.52% 0\nSlice of Life  19.06% 0\nMagic          18.11% 0\nEcchi          18.06% 0\nPolice         17.47% 0\nKids           17.09% 0\nHorror         15.39% 0\nSports         14.20% 0\nPsychological  14.17% 0\nShoujo         13.04% 0\nMartial Arts   13.03% 0\nMusic          12.96% 1\nHarem          12.37% 0\nDemons         11.38% 0\nParody          9.41% 0\nGame            8.76% 0\nSamurai         8.24% 0\nThriller        6.50% 0\nVampire         6.28% 0\nCars            6.04% 0\nYuri            4.75% 1\nDementia        4.64% 0\nJosei           4.39% 0\nShoujo Ai       4.05% 0\nShounen Ai      3.12% 0\nYaoi            2.73% 0\n\nSci-Fi         52.58% 0\nAdventure      50.94% 0\nComedy         46.04% 0\nFantasy        41.06% 0\nAction         40.81% 0\nMecha          34.78% 0\nKids           34.04% 0\nShounen        32.05% 0\nMagic          21.68% 0\nDrama          20.00% 0\nSpace          16.07% 0\nSlice of Life  13.09% 0\nRomance        12.50% 0\nSuper Power    11.57% 0\nShoujo         11.14% 0\nEcchi          10.51% 0\nSchool         10.22% 0\nSupernatural    9.82% 0\nHentai          9.19% 1\nMusic           8.75% 0\nMilitary        7.98% 0\nSeinen          7.65% 0\nHistorical      6.86% 0\nSports          6.05% 0\nParody          5.08% 0\nMystery         4.63% 0\nDemons          4.52% 0\nMartial Arts    4.13% 0\nHorror          3.86% 1\nHarem           3.39% 0\nGame            3.24% 0\nPolice          2.27% 0\nCars            2.13% 0\nPsychological   1.90% 0\nVampire         0.87% 0\nDementia        0.66% 0\nSamurai         0.48% 0\nJosei           0.40% 0\nYaoi            0.35% 0\nYuri            0.20% 0\nThriller        0.19% 0\nShoujo Ai       0.17% 0\nShounen Ai      0.17% 0\n\n"
     ]
    }
   ],
   "source": [
    "num_show = 2\n",
    "i_start = 0\n",
    "\n",
    "y_train = model.predict(x_train)\n",
    "\n",
    "for idx in range(i_start, num_show+i_start):\n",
    "    print_prob(y_train[idx], t_train[idx])\n",
    "    print()"
   ]
  },
  {
   "cell_type": "code",
   "execution_count": 15,
   "metadata": {
    "tags": []
   },
   "outputs": [
    {
     "output_type": "stream",
     "name": "stdout",
     "text": [
      "T>T  F>T  T>F  F>F \n 0    1    5    37 \n\nT>T  F>T  T>F  F>F \n 0    0    4    39 \n\nT>T  F>T  T>F  F>F \n 2    2    2    37 \n\nT>T  F>T  T>F  F>F \n 0    0    1    42 \n\nT>T  F>T  T>F  F>F \n 2    1    1    39 \n\nT>T  F>T  T>F  F>F \n 0    0    4    39 \n\nT>T  F>T  T>F  F>F \n 2    1    4    36 \n\nT>T  F>T  T>F  F>F \n 1    1    3    38 \n\nT>T  F>T  T>F  F>F \n 0    0    3    40 \n\nT>T  F>T  T>F  F>F \n 1    1    3    38 \n\n"
     ]
    }
   ],
   "source": [
    "num_show = 10\n",
    "i_start = 0\n",
    "\n",
    "y_test = model.predict(x_test)\n",
    "\n",
    "for idx in range(i_start, num_show+i_start):\n",
    "    # print_prob(y_test[idx], t_test[idx])\n",
    "    # print()\n",
    "\n",
    "    mal_id = id_test[idx]\n",
    "    \n",
    "    predict = y_test[idx]>=0.5\n",
    "    actual  = t_test[idx]==1\n",
    "\n",
    "    TP = (actual & predict).sum()\n",
    "    FP = (~actual & predict).sum()\n",
    "    FN = (actual & ~predict).sum()\n",
    "    TN = (~actual & ~predict).sum()\n",
    "    \n",
    "    print('{:^4} {:^4} {:^4} {:^4}'.format('T>T', 'F>T', 'T>F', 'F>F'))\n",
    "    print('{:^4} {:^4} {:^4} {:^4}\\n'.format(TP, FP, FN, TN))\n",
    "\n",
    "\n",
    "    # print('{:^7} {:^7} {:^7} {:^7} {:^7}'.format('True', 'Pred', 'Correct', 'Wrong', 'Missed'))\n",
    "    # print('{:^7} {:^7} {:^7} {:^7} {:^7}\\n'.format(n_true, n_pred, n_correct, n_wrong, n_missed))"
   ]
  }
 ]
}