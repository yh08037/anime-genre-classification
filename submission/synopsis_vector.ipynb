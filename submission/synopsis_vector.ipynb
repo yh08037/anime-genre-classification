{
 "metadata": {
  "language_info": {
   "codemirror_mode": {
    "name": "ipython",
    "version": 3
   },
   "file_extension": ".py",
   "mimetype": "text/x-python",
   "name": "python",
   "nbconvert_exporter": "python",
   "pygments_lexer": "ipython3",
   "version": "3.9.5"
  },
  "orig_nbformat": 4,
  "kernelspec": {
   "name": "python3",
   "display_name": "Python 3.9.5 64-bit ('scrap': conda)"
  },
  "interpreter": {
   "hash": "4ea3ed2e54355ce89e91b93232dfdad50498b45cbf76d90a32e5b94d03490e3d"
  },
  "metadata": {
   "interpreter": {
    "hash": "e521b636c6a5a9046f5b2f587de9f0714520fcc32e4dd888509bb5fbc50b938b"
   }
  }
 },
 "nbformat": 4,
 "nbformat_minor": 2,
 "cells": [
  {
   "source": [
    "# Synopsis-to-Vector"
   ],
   "cell_type": "markdown",
   "metadata": {}
  },
  {
   "cell_type": "code",
   "execution_count": 1,
   "metadata": {},
   "outputs": [],
   "source": [
    "import numpy as np\n",
    "import pandas as pd\n",
    "import pickle\n",
    "import math"
   ]
  },
  {
   "source": [
    "## Load Pre-trained CBOW Parameters"
   ],
   "cell_type": "markdown",
   "metadata": {}
  },
  {
   "cell_type": "code",
   "execution_count": 2,
   "metadata": {},
   "outputs": [],
   "source": [
    "!wget -nc -q https://github.com/WegraLee/deep-learning-from-scratch-2/raw/master/ch04/cbow_params.pkl"
   ]
  },
  {
   "cell_type": "code",
   "execution_count": 3,
   "metadata": {},
   "outputs": [],
   "source": [
    "pkl_file = 'cbow_params.pkl'\n",
    "\n",
    "with open(pkl_file, 'rb') as f:\n",
    "    params = pickle.load(f)\n",
    "    word_vecs = params['word_vecs']\n",
    "    word_to_id = params['word_to_id']\n",
    "    id_to_word = params['id_to_word']"
   ]
  },
  {
   "source": [
    "## Get TF-IDF from synopsis.csv"
   ],
   "cell_type": "markdown",
   "metadata": {}
  },
  {
   "source": [
    "### Load Cleaned Synopsis Data"
   ],
   "cell_type": "markdown",
   "metadata": {}
  },
  {
   "cell_type": "code",
   "execution_count": 4,
   "metadata": {},
   "outputs": [
    {
     "output_type": "execute_result",
     "data": {
      "text/plain": [
       "   MAL_ID                                           Synopsis\n",
       "0       1  solar leaving surface planet earth solar polic...\n",
       "1       5  day life crew routine interrupted chasing targ...\n",
       "2       6  head reason waste oppose entire cities fun tit...\n",
       "3       7  individuals powers mind control robin craft us...\n",
       "4       8  dark century people suffering rule manipulate ..."
      ],
      "text/html": "<div>\n<style scoped>\n    .dataframe tbody tr th:only-of-type {\n        vertical-align: middle;\n    }\n\n    .dataframe tbody tr th {\n        vertical-align: top;\n    }\n\n    .dataframe thead th {\n        text-align: right;\n    }\n</style>\n<table border=\"1\" class=\"dataframe\">\n  <thead>\n    <tr style=\"text-align: right;\">\n      <th></th>\n      <th>MAL_ID</th>\n      <th>Synopsis</th>\n    </tr>\n  </thead>\n  <tbody>\n    <tr>\n      <th>0</th>\n      <td>1</td>\n      <td>solar leaving surface planet earth solar polic...</td>\n    </tr>\n    <tr>\n      <th>1</th>\n      <td>5</td>\n      <td>day life crew routine interrupted chasing targ...</td>\n    </tr>\n    <tr>\n      <th>2</th>\n      <td>6</td>\n      <td>head reason waste oppose entire cities fun tit...</td>\n    </tr>\n    <tr>\n      <th>3</th>\n      <td>7</td>\n      <td>individuals powers mind control robin craft us...</td>\n    </tr>\n    <tr>\n      <th>4</th>\n      <td>8</td>\n      <td>dark century people suffering rule manipulate ...</td>\n    </tr>\n  </tbody>\n</table>\n</div>"
     },
     "metadata": {},
     "execution_count": 4
    }
   ],
   "source": [
    "synopsis = pd.read_csv('../clean_data/synopsis.csv')\n",
    "synopsis.head()"
   ]
  },
  {
   "source": [
    "### Get Word Set from Synopsis Data"
   ],
   "cell_type": "markdown",
   "metadata": {}
  },
  {
   "cell_type": "code",
   "execution_count": 5,
   "metadata": {},
   "outputs": [],
   "source": [
    "syns = synopsis.Synopsis.str.findall('\\w+')\n",
    "\n",
    "vocab = set()\n",
    "for syn in syns:\n",
    "    vocab.update(syn)\n",
    "\n",
    "vocab = sorted(list(vocab))\n",
    "vocab_size = len(vocab)"
   ]
  },
  {
   "source": [
    "### Get TF(Term Frequency)"
   ],
   "cell_type": "markdown",
   "metadata": {}
  },
  {
   "cell_type": "code",
   "execution_count": 6,
   "metadata": {},
   "outputs": [
    {
     "output_type": "execute_result",
     "data": {
      "text/plain": [
       "(6000, 5918)"
      ]
     },
     "metadata": {},
     "execution_count": 6
    }
   ],
   "source": [
    "def get_tf(word, syn):\n",
    "    # Term Frequency\n",
    "    return syn.count(word)\n",
    "\n",
    "    \n",
    "tf = []\n",
    "for syn in syns:\n",
    "    tf_syn = []\n",
    "    for word in vocab:\n",
    "        tf_syn.append(get_tf(word, syn))\n",
    "    tf.append(tf_syn)\n",
    "\n",
    "tf = np.asarray(tf)\n",
    "tf.shape"
   ]
  },
  {
   "source": [
    "### Get IDF(Inverse Document Frequency)"
   ],
   "cell_type": "markdown",
   "metadata": {}
  },
  {
   "cell_type": "code",
   "execution_count": 7,
   "metadata": {},
   "outputs": [
    {
     "output_type": "execute_result",
     "data": {
      "text/plain": [
       "(5918,)"
      ]
     },
     "metadata": {},
     "execution_count": 7
    }
   ],
   "source": [
    "def get_idf(term):\n",
    "    # Inverse Document Frequency\n",
    "    _df = 0\n",
    "    for syn in syns:\n",
    "        _df += int(word in syn)\n",
    "    return math.log(vocab_size/(_df))\n",
    "\n",
    "\n",
    "idf = []\n",
    "for word in vocab:\n",
    "    idf.append(get_idf(word))\n",
    "\n",
    "idf = np.asarray(idf)\n",
    "idf.shape"
   ]
  },
  {
   "source": [
    "### Get TF-IDF Table"
   ],
   "cell_type": "markdown",
   "metadata": {}
  },
  {
   "cell_type": "code",
   "execution_count": 8,
   "metadata": {},
   "outputs": [],
   "source": [
    "tf_idf = pd.DataFrame(tf * idf, columns=vocab)"
   ]
  },
  {
   "source": [
    "## Generate Sentence Vector of Synopsis"
   ],
   "cell_type": "markdown",
   "metadata": {}
  },
  {
   "cell_type": "code",
   "execution_count": 9,
   "metadata": {},
   "outputs": [],
   "source": [
    "def get_word_vec(word):\n",
    "    return word_vecs[word_to_id[word]]\n",
    "\n",
    "def get_tf_idf(word, i):\n",
    "    return tf_idf.loc[i, word]\n",
    "\n",
    "def get_sent_vec(i):\n",
    "    sent_vec = np.zeros(100, dtype=np.float16)\n",
    "\n",
    "    for word in set(syns[i]):\n",
    "        sent_vec += get_word_vec(word) * get_tf_idf(word, i)\n",
    "        # sent_vec += get_word_vec(word)\n",
    "    \n",
    "    return sent_vec / len(set(syns[i]))"
   ]
  },
  {
   "cell_type": "code",
   "execution_count": 10,
   "metadata": {},
   "outputs": [
    {
     "output_type": "execute_result",
     "data": {
      "text/plain": [
       "            0         1         2         3         4         5         6   \\\n",
       "0    -0.115479 -3.919922  0.511230  1.325195  2.685547  1.791992 -1.767578   \n",
       "1     2.314453 -2.361328 -0.012909  2.703125  1.200195  3.173828 -1.356445   \n",
       "2    -0.226196 -2.597656 -0.182983  2.042969  1.670898  1.951172 -1.367188   \n",
       "3     0.844238 -0.527344  0.271973  0.752930  1.575195  2.492188 -1.652344   \n",
       "4     1.521484 -2.650391  0.424072  1.816406  2.029297  1.694336  0.607910   \n",
       "...        ...       ...       ...       ...       ...       ...       ...   \n",
       "5995  0.906250 -1.420898  1.903320  2.382812  1.667969  0.900391 -1.924805   \n",
       "5996  2.138672 -1.449219  0.350586  2.123047  0.429688 -0.171265 -0.983398   \n",
       "5997  1.149414 -2.382812  0.937500  0.431152  1.120117  2.523438 -1.699219   \n",
       "5998  0.945801 -1.449219 -0.097290  0.824707  1.160156  1.100586 -0.374756   \n",
       "5999  0.496338 -2.679688  1.886719  2.306641  1.570312  1.058594 -1.541016   \n",
       "\n",
       "            7         8         9   ...        90        91        92  \\\n",
       "0    -1.251953 -1.898438  1.073242  ...  0.862305 -0.740234 -1.121094   \n",
       "1    -2.605469 -1.958984 -0.565918  ...  0.493652 -0.944824 -0.937500   \n",
       "2    -2.917969 -0.160767  0.050781  ... -1.435547 -1.021484 -2.537109   \n",
       "3    -2.705078 -2.269531  1.469727  ... -0.367920 -1.791992 -1.804688   \n",
       "4    -1.333984 -1.023438  0.936035  ...  1.650391 -1.703125 -2.476562   \n",
       "...        ...       ...       ...  ...       ...       ...       ...   \n",
       "5995 -0.842285 -1.282227  1.339844  ...  1.071289 -0.566406 -1.356445   \n",
       "5996 -2.195312 -2.029297  1.023438  ... -0.836914 -1.897461 -2.449219   \n",
       "5997 -1.219727 -1.711914  1.555664  ...  0.713379 -0.082703 -1.974609   \n",
       "5998 -2.130859 -0.812012  2.248047  ...  1.913086  0.848145 -1.114258   \n",
       "5999 -1.456055 -0.790527  0.038452  ...  0.215698 -0.189819 -1.702148   \n",
       "\n",
       "            93        94        95        96        97        98        99  \n",
       "0    -0.729004  1.063477  1.272461 -0.246826  1.380859  1.921875  2.216797  \n",
       "1    -0.261475  2.087891  1.500000 -0.221802  0.646973  2.218750  0.958496  \n",
       "2    -2.455078  2.013672  1.943359  0.622559  1.703125  2.357422  1.232422  \n",
       "3    -2.474609  2.878906  0.425537 -0.583008  3.107422  0.836426  1.042969  \n",
       "4    -4.492188  1.403320  0.638672  0.058594  1.249023  2.457031  2.517578  \n",
       "...        ...       ...       ...       ...       ...       ...       ...  \n",
       "5995 -2.287109  0.418701  1.645508  0.828613  1.502930  2.164062  2.941406  \n",
       "5996 -2.023438  1.227539  0.563477 -1.253906  2.990234  2.492188  1.022461  \n",
       "5997 -0.666504  2.468750  0.974609  1.821289 -0.183594  2.945312  0.713867  \n",
       "5998 -1.065430  1.032227  1.029297 -0.781738  0.201904  2.699219  1.934570  \n",
       "5999 -0.251221  0.734863  1.456055 -0.267822  0.604492  0.781250  1.387695  \n",
       "\n",
       "[6000 rows x 100 columns]"
      ],
      "text/html": "<div>\n<style scoped>\n    .dataframe tbody tr th:only-of-type {\n        vertical-align: middle;\n    }\n\n    .dataframe tbody tr th {\n        vertical-align: top;\n    }\n\n    .dataframe thead th {\n        text-align: right;\n    }\n</style>\n<table border=\"1\" class=\"dataframe\">\n  <thead>\n    <tr style=\"text-align: right;\">\n      <th></th>\n      <th>0</th>\n      <th>1</th>\n      <th>2</th>\n      <th>3</th>\n      <th>4</th>\n      <th>5</th>\n      <th>6</th>\n      <th>7</th>\n      <th>8</th>\n      <th>9</th>\n      <th>...</th>\n      <th>90</th>\n      <th>91</th>\n      <th>92</th>\n      <th>93</th>\n      <th>94</th>\n      <th>95</th>\n      <th>96</th>\n      <th>97</th>\n      <th>98</th>\n      <th>99</th>\n    </tr>\n  </thead>\n  <tbody>\n    <tr>\n      <th>0</th>\n      <td>-0.115479</td>\n      <td>-3.919922</td>\n      <td>0.511230</td>\n      <td>1.325195</td>\n      <td>2.685547</td>\n      <td>1.791992</td>\n      <td>-1.767578</td>\n      <td>-1.251953</td>\n      <td>-1.898438</td>\n      <td>1.073242</td>\n      <td>...</td>\n      <td>0.862305</td>\n      <td>-0.740234</td>\n      <td>-1.121094</td>\n      <td>-0.729004</td>\n      <td>1.063477</td>\n      <td>1.272461</td>\n      <td>-0.246826</td>\n      <td>1.380859</td>\n      <td>1.921875</td>\n      <td>2.216797</td>\n    </tr>\n    <tr>\n      <th>1</th>\n      <td>2.314453</td>\n      <td>-2.361328</td>\n      <td>-0.012909</td>\n      <td>2.703125</td>\n      <td>1.200195</td>\n      <td>3.173828</td>\n      <td>-1.356445</td>\n      <td>-2.605469</td>\n      <td>-1.958984</td>\n      <td>-0.565918</td>\n      <td>...</td>\n      <td>0.493652</td>\n      <td>-0.944824</td>\n      <td>-0.937500</td>\n      <td>-0.261475</td>\n      <td>2.087891</td>\n      <td>1.500000</td>\n      <td>-0.221802</td>\n      <td>0.646973</td>\n      <td>2.218750</td>\n      <td>0.958496</td>\n    </tr>\n    <tr>\n      <th>2</th>\n      <td>-0.226196</td>\n      <td>-2.597656</td>\n      <td>-0.182983</td>\n      <td>2.042969</td>\n      <td>1.670898</td>\n      <td>1.951172</td>\n      <td>-1.367188</td>\n      <td>-2.917969</td>\n      <td>-0.160767</td>\n      <td>0.050781</td>\n      <td>...</td>\n      <td>-1.435547</td>\n      <td>-1.021484</td>\n      <td>-2.537109</td>\n      <td>-2.455078</td>\n      <td>2.013672</td>\n      <td>1.943359</td>\n      <td>0.622559</td>\n      <td>1.703125</td>\n      <td>2.357422</td>\n      <td>1.232422</td>\n    </tr>\n    <tr>\n      <th>3</th>\n      <td>0.844238</td>\n      <td>-0.527344</td>\n      <td>0.271973</td>\n      <td>0.752930</td>\n      <td>1.575195</td>\n      <td>2.492188</td>\n      <td>-1.652344</td>\n      <td>-2.705078</td>\n      <td>-2.269531</td>\n      <td>1.469727</td>\n      <td>...</td>\n      <td>-0.367920</td>\n      <td>-1.791992</td>\n      <td>-1.804688</td>\n      <td>-2.474609</td>\n      <td>2.878906</td>\n      <td>0.425537</td>\n      <td>-0.583008</td>\n      <td>3.107422</td>\n      <td>0.836426</td>\n      <td>1.042969</td>\n    </tr>\n    <tr>\n      <th>4</th>\n      <td>1.521484</td>\n      <td>-2.650391</td>\n      <td>0.424072</td>\n      <td>1.816406</td>\n      <td>2.029297</td>\n      <td>1.694336</td>\n      <td>0.607910</td>\n      <td>-1.333984</td>\n      <td>-1.023438</td>\n      <td>0.936035</td>\n      <td>...</td>\n      <td>1.650391</td>\n      <td>-1.703125</td>\n      <td>-2.476562</td>\n      <td>-4.492188</td>\n      <td>1.403320</td>\n      <td>0.638672</td>\n      <td>0.058594</td>\n      <td>1.249023</td>\n      <td>2.457031</td>\n      <td>2.517578</td>\n    </tr>\n    <tr>\n      <th>...</th>\n      <td>...</td>\n      <td>...</td>\n      <td>...</td>\n      <td>...</td>\n      <td>...</td>\n      <td>...</td>\n      <td>...</td>\n      <td>...</td>\n      <td>...</td>\n      <td>...</td>\n      <td>...</td>\n      <td>...</td>\n      <td>...</td>\n      <td>...</td>\n      <td>...</td>\n      <td>...</td>\n      <td>...</td>\n      <td>...</td>\n      <td>...</td>\n      <td>...</td>\n      <td>...</td>\n    </tr>\n    <tr>\n      <th>5995</th>\n      <td>0.906250</td>\n      <td>-1.420898</td>\n      <td>1.903320</td>\n      <td>2.382812</td>\n      <td>1.667969</td>\n      <td>0.900391</td>\n      <td>-1.924805</td>\n      <td>-0.842285</td>\n      <td>-1.282227</td>\n      <td>1.339844</td>\n      <td>...</td>\n      <td>1.071289</td>\n      <td>-0.566406</td>\n      <td>-1.356445</td>\n      <td>-2.287109</td>\n      <td>0.418701</td>\n      <td>1.645508</td>\n      <td>0.828613</td>\n      <td>1.502930</td>\n      <td>2.164062</td>\n      <td>2.941406</td>\n    </tr>\n    <tr>\n      <th>5996</th>\n      <td>2.138672</td>\n      <td>-1.449219</td>\n      <td>0.350586</td>\n      <td>2.123047</td>\n      <td>0.429688</td>\n      <td>-0.171265</td>\n      <td>-0.983398</td>\n      <td>-2.195312</td>\n      <td>-2.029297</td>\n      <td>1.023438</td>\n      <td>...</td>\n      <td>-0.836914</td>\n      <td>-1.897461</td>\n      <td>-2.449219</td>\n      <td>-2.023438</td>\n      <td>1.227539</td>\n      <td>0.563477</td>\n      <td>-1.253906</td>\n      <td>2.990234</td>\n      <td>2.492188</td>\n      <td>1.022461</td>\n    </tr>\n    <tr>\n      <th>5997</th>\n      <td>1.149414</td>\n      <td>-2.382812</td>\n      <td>0.937500</td>\n      <td>0.431152</td>\n      <td>1.120117</td>\n      <td>2.523438</td>\n      <td>-1.699219</td>\n      <td>-1.219727</td>\n      <td>-1.711914</td>\n      <td>1.555664</td>\n      <td>...</td>\n      <td>0.713379</td>\n      <td>-0.082703</td>\n      <td>-1.974609</td>\n      <td>-0.666504</td>\n      <td>2.468750</td>\n      <td>0.974609</td>\n      <td>1.821289</td>\n      <td>-0.183594</td>\n      <td>2.945312</td>\n      <td>0.713867</td>\n    </tr>\n    <tr>\n      <th>5998</th>\n      <td>0.945801</td>\n      <td>-1.449219</td>\n      <td>-0.097290</td>\n      <td>0.824707</td>\n      <td>1.160156</td>\n      <td>1.100586</td>\n      <td>-0.374756</td>\n      <td>-2.130859</td>\n      <td>-0.812012</td>\n      <td>2.248047</td>\n      <td>...</td>\n      <td>1.913086</td>\n      <td>0.848145</td>\n      <td>-1.114258</td>\n      <td>-1.065430</td>\n      <td>1.032227</td>\n      <td>1.029297</td>\n      <td>-0.781738</td>\n      <td>0.201904</td>\n      <td>2.699219</td>\n      <td>1.934570</td>\n    </tr>\n    <tr>\n      <th>5999</th>\n      <td>0.496338</td>\n      <td>-2.679688</td>\n      <td>1.886719</td>\n      <td>2.306641</td>\n      <td>1.570312</td>\n      <td>1.058594</td>\n      <td>-1.541016</td>\n      <td>-1.456055</td>\n      <td>-0.790527</td>\n      <td>0.038452</td>\n      <td>...</td>\n      <td>0.215698</td>\n      <td>-0.189819</td>\n      <td>-1.702148</td>\n      <td>-0.251221</td>\n      <td>0.734863</td>\n      <td>1.456055</td>\n      <td>-0.267822</td>\n      <td>0.604492</td>\n      <td>0.781250</td>\n      <td>1.387695</td>\n    </tr>\n  </tbody>\n</table>\n<p>6000 rows × 100 columns</p>\n</div>"
     },
     "metadata": {},
     "execution_count": 10
    }
   ],
   "source": [
    "full_sent_vec = []\n",
    "for i in range(len(syns)):\n",
    "    full_sent_vec.append(get_sent_vec(i))\n",
    "    \n",
    "sent_vec_df = pd.DataFrame(full_sent_vec)\n",
    "sent_vec_df"
   ]
  },
  {
   "cell_type": "code",
   "execution_count": 11,
   "metadata": {},
   "outputs": [
    {
     "output_type": "execute_result",
     "data": {
      "text/plain": [
       "      MAL_ID         0         1         2         3         4         5  \\\n",
       "0          1 -0.115479 -3.919922  0.511230  1.325195  2.685547  1.791992   \n",
       "1          5  2.314453 -2.361328 -0.012909  2.703125  1.200195  3.173828   \n",
       "2          6 -0.226196 -2.597656 -0.182983  2.042969  1.670898  1.951172   \n",
       "3          7  0.844238 -0.527344  0.271973  0.752930  1.575195  2.492188   \n",
       "4          8  1.521484 -2.650391  0.424072  1.816406  2.029297  1.694336   \n",
       "...      ...       ...       ...       ...       ...       ...       ...   \n",
       "5995   48438  0.906250 -1.420898  1.903320  2.382812  1.667969  0.900391   \n",
       "5996   48466  2.138672 -1.449219  0.350586  2.123047  0.429688 -0.171265   \n",
       "5997   48470  1.149414 -2.382812  0.937500  0.431152  1.120117  2.523438   \n",
       "5998   48483  0.945801 -1.449219 -0.097290  0.824707  1.160156  1.100586   \n",
       "5999   48492  0.496338 -2.679688  1.886719  2.306641  1.570312  1.058594   \n",
       "\n",
       "             6         7         8  ...        90        91        92  \\\n",
       "0    -1.767578 -1.251953 -1.898438  ...  0.862305 -0.740234 -1.121094   \n",
       "1    -1.356445 -2.605469 -1.958984  ...  0.493652 -0.944824 -0.937500   \n",
       "2    -1.367188 -2.917969 -0.160767  ... -1.435547 -1.021484 -2.537109   \n",
       "3    -1.652344 -2.705078 -2.269531  ... -0.367920 -1.791992 -1.804688   \n",
       "4     0.607910 -1.333984 -1.023438  ...  1.650391 -1.703125 -2.476562   \n",
       "...        ...       ...       ...  ...       ...       ...       ...   \n",
       "5995 -1.924805 -0.842285 -1.282227  ...  1.071289 -0.566406 -1.356445   \n",
       "5996 -0.983398 -2.195312 -2.029297  ... -0.836914 -1.897461 -2.449219   \n",
       "5997 -1.699219 -1.219727 -1.711914  ...  0.713379 -0.082703 -1.974609   \n",
       "5998 -0.374756 -2.130859 -0.812012  ...  1.913086  0.848145 -1.114258   \n",
       "5999 -1.541016 -1.456055 -0.790527  ...  0.215698 -0.189819 -1.702148   \n",
       "\n",
       "            93        94        95        96        97        98        99  \n",
       "0    -0.729004  1.063477  1.272461 -0.246826  1.380859  1.921875  2.216797  \n",
       "1    -0.261475  2.087891  1.500000 -0.221802  0.646973  2.218750  0.958496  \n",
       "2    -2.455078  2.013672  1.943359  0.622559  1.703125  2.357422  1.232422  \n",
       "3    -2.474609  2.878906  0.425537 -0.583008  3.107422  0.836426  1.042969  \n",
       "4    -4.492188  1.403320  0.638672  0.058594  1.249023  2.457031  2.517578  \n",
       "...        ...       ...       ...       ...       ...       ...       ...  \n",
       "5995 -2.287109  0.418701  1.645508  0.828613  1.502930  2.164062  2.941406  \n",
       "5996 -2.023438  1.227539  0.563477 -1.253906  2.990234  2.492188  1.022461  \n",
       "5997 -0.666504  2.468750  0.974609  1.821289 -0.183594  2.945312  0.713867  \n",
       "5998 -1.065430  1.032227  1.029297 -0.781738  0.201904  2.699219  1.934570  \n",
       "5999 -0.251221  0.734863  1.456055 -0.267822  0.604492  0.781250  1.387695  \n",
       "\n",
       "[6000 rows x 101 columns]"
      ],
      "text/html": "<div>\n<style scoped>\n    .dataframe tbody tr th:only-of-type {\n        vertical-align: middle;\n    }\n\n    .dataframe tbody tr th {\n        vertical-align: top;\n    }\n\n    .dataframe thead th {\n        text-align: right;\n    }\n</style>\n<table border=\"1\" class=\"dataframe\">\n  <thead>\n    <tr style=\"text-align: right;\">\n      <th></th>\n      <th>MAL_ID</th>\n      <th>0</th>\n      <th>1</th>\n      <th>2</th>\n      <th>3</th>\n      <th>4</th>\n      <th>5</th>\n      <th>6</th>\n      <th>7</th>\n      <th>8</th>\n      <th>...</th>\n      <th>90</th>\n      <th>91</th>\n      <th>92</th>\n      <th>93</th>\n      <th>94</th>\n      <th>95</th>\n      <th>96</th>\n      <th>97</th>\n      <th>98</th>\n      <th>99</th>\n    </tr>\n  </thead>\n  <tbody>\n    <tr>\n      <th>0</th>\n      <td>1</td>\n      <td>-0.115479</td>\n      <td>-3.919922</td>\n      <td>0.511230</td>\n      <td>1.325195</td>\n      <td>2.685547</td>\n      <td>1.791992</td>\n      <td>-1.767578</td>\n      <td>-1.251953</td>\n      <td>-1.898438</td>\n      <td>...</td>\n      <td>0.862305</td>\n      <td>-0.740234</td>\n      <td>-1.121094</td>\n      <td>-0.729004</td>\n      <td>1.063477</td>\n      <td>1.272461</td>\n      <td>-0.246826</td>\n      <td>1.380859</td>\n      <td>1.921875</td>\n      <td>2.216797</td>\n    </tr>\n    <tr>\n      <th>1</th>\n      <td>5</td>\n      <td>2.314453</td>\n      <td>-2.361328</td>\n      <td>-0.012909</td>\n      <td>2.703125</td>\n      <td>1.200195</td>\n      <td>3.173828</td>\n      <td>-1.356445</td>\n      <td>-2.605469</td>\n      <td>-1.958984</td>\n      <td>...</td>\n      <td>0.493652</td>\n      <td>-0.944824</td>\n      <td>-0.937500</td>\n      <td>-0.261475</td>\n      <td>2.087891</td>\n      <td>1.500000</td>\n      <td>-0.221802</td>\n      <td>0.646973</td>\n      <td>2.218750</td>\n      <td>0.958496</td>\n    </tr>\n    <tr>\n      <th>2</th>\n      <td>6</td>\n      <td>-0.226196</td>\n      <td>-2.597656</td>\n      <td>-0.182983</td>\n      <td>2.042969</td>\n      <td>1.670898</td>\n      <td>1.951172</td>\n      <td>-1.367188</td>\n      <td>-2.917969</td>\n      <td>-0.160767</td>\n      <td>...</td>\n      <td>-1.435547</td>\n      <td>-1.021484</td>\n      <td>-2.537109</td>\n      <td>-2.455078</td>\n      <td>2.013672</td>\n      <td>1.943359</td>\n      <td>0.622559</td>\n      <td>1.703125</td>\n      <td>2.357422</td>\n      <td>1.232422</td>\n    </tr>\n    <tr>\n      <th>3</th>\n      <td>7</td>\n      <td>0.844238</td>\n      <td>-0.527344</td>\n      <td>0.271973</td>\n      <td>0.752930</td>\n      <td>1.575195</td>\n      <td>2.492188</td>\n      <td>-1.652344</td>\n      <td>-2.705078</td>\n      <td>-2.269531</td>\n      <td>...</td>\n      <td>-0.367920</td>\n      <td>-1.791992</td>\n      <td>-1.804688</td>\n      <td>-2.474609</td>\n      <td>2.878906</td>\n      <td>0.425537</td>\n      <td>-0.583008</td>\n      <td>3.107422</td>\n      <td>0.836426</td>\n      <td>1.042969</td>\n    </tr>\n    <tr>\n      <th>4</th>\n      <td>8</td>\n      <td>1.521484</td>\n      <td>-2.650391</td>\n      <td>0.424072</td>\n      <td>1.816406</td>\n      <td>2.029297</td>\n      <td>1.694336</td>\n      <td>0.607910</td>\n      <td>-1.333984</td>\n      <td>-1.023438</td>\n      <td>...</td>\n      <td>1.650391</td>\n      <td>-1.703125</td>\n      <td>-2.476562</td>\n      <td>-4.492188</td>\n      <td>1.403320</td>\n      <td>0.638672</td>\n      <td>0.058594</td>\n      <td>1.249023</td>\n      <td>2.457031</td>\n      <td>2.517578</td>\n    </tr>\n    <tr>\n      <th>...</th>\n      <td>...</td>\n      <td>...</td>\n      <td>...</td>\n      <td>...</td>\n      <td>...</td>\n      <td>...</td>\n      <td>...</td>\n      <td>...</td>\n      <td>...</td>\n      <td>...</td>\n      <td>...</td>\n      <td>...</td>\n      <td>...</td>\n      <td>...</td>\n      <td>...</td>\n      <td>...</td>\n      <td>...</td>\n      <td>...</td>\n      <td>...</td>\n      <td>...</td>\n      <td>...</td>\n    </tr>\n    <tr>\n      <th>5995</th>\n      <td>48438</td>\n      <td>0.906250</td>\n      <td>-1.420898</td>\n      <td>1.903320</td>\n      <td>2.382812</td>\n      <td>1.667969</td>\n      <td>0.900391</td>\n      <td>-1.924805</td>\n      <td>-0.842285</td>\n      <td>-1.282227</td>\n      <td>...</td>\n      <td>1.071289</td>\n      <td>-0.566406</td>\n      <td>-1.356445</td>\n      <td>-2.287109</td>\n      <td>0.418701</td>\n      <td>1.645508</td>\n      <td>0.828613</td>\n      <td>1.502930</td>\n      <td>2.164062</td>\n      <td>2.941406</td>\n    </tr>\n    <tr>\n      <th>5996</th>\n      <td>48466</td>\n      <td>2.138672</td>\n      <td>-1.449219</td>\n      <td>0.350586</td>\n      <td>2.123047</td>\n      <td>0.429688</td>\n      <td>-0.171265</td>\n      <td>-0.983398</td>\n      <td>-2.195312</td>\n      <td>-2.029297</td>\n      <td>...</td>\n      <td>-0.836914</td>\n      <td>-1.897461</td>\n      <td>-2.449219</td>\n      <td>-2.023438</td>\n      <td>1.227539</td>\n      <td>0.563477</td>\n      <td>-1.253906</td>\n      <td>2.990234</td>\n      <td>2.492188</td>\n      <td>1.022461</td>\n    </tr>\n    <tr>\n      <th>5997</th>\n      <td>48470</td>\n      <td>1.149414</td>\n      <td>-2.382812</td>\n      <td>0.937500</td>\n      <td>0.431152</td>\n      <td>1.120117</td>\n      <td>2.523438</td>\n      <td>-1.699219</td>\n      <td>-1.219727</td>\n      <td>-1.711914</td>\n      <td>...</td>\n      <td>0.713379</td>\n      <td>-0.082703</td>\n      <td>-1.974609</td>\n      <td>-0.666504</td>\n      <td>2.468750</td>\n      <td>0.974609</td>\n      <td>1.821289</td>\n      <td>-0.183594</td>\n      <td>2.945312</td>\n      <td>0.713867</td>\n    </tr>\n    <tr>\n      <th>5998</th>\n      <td>48483</td>\n      <td>0.945801</td>\n      <td>-1.449219</td>\n      <td>-0.097290</td>\n      <td>0.824707</td>\n      <td>1.160156</td>\n      <td>1.100586</td>\n      <td>-0.374756</td>\n      <td>-2.130859</td>\n      <td>-0.812012</td>\n      <td>...</td>\n      <td>1.913086</td>\n      <td>0.848145</td>\n      <td>-1.114258</td>\n      <td>-1.065430</td>\n      <td>1.032227</td>\n      <td>1.029297</td>\n      <td>-0.781738</td>\n      <td>0.201904</td>\n      <td>2.699219</td>\n      <td>1.934570</td>\n    </tr>\n    <tr>\n      <th>5999</th>\n      <td>48492</td>\n      <td>0.496338</td>\n      <td>-2.679688</td>\n      <td>1.886719</td>\n      <td>2.306641</td>\n      <td>1.570312</td>\n      <td>1.058594</td>\n      <td>-1.541016</td>\n      <td>-1.456055</td>\n      <td>-0.790527</td>\n      <td>...</td>\n      <td>0.215698</td>\n      <td>-0.189819</td>\n      <td>-1.702148</td>\n      <td>-0.251221</td>\n      <td>0.734863</td>\n      <td>1.456055</td>\n      <td>-0.267822</td>\n      <td>0.604492</td>\n      <td>0.781250</td>\n      <td>1.387695</td>\n    </tr>\n  </tbody>\n</table>\n<p>6000 rows × 101 columns</p>\n</div>"
     },
     "metadata": {},
     "execution_count": 11
    }
   ],
   "source": [
    "sent_vec_df.insert(0, 'MAL_ID', synopsis.MAL_ID)\n",
    "sent_vec_df"
   ]
  },
  {
   "cell_type": "code",
   "execution_count": 12,
   "metadata": {},
   "outputs": [],
   "source": [
    "sent_vec_df.to_csv('synopsis_vector.csv', index=False)"
   ]
  }
 ]
}