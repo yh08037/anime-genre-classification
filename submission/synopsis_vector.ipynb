{
 "metadata": {
  "language_info": {
   "codemirror_mode": {
    "name": "ipython",
    "version": 3
   },
   "file_extension": ".py",
   "mimetype": "text/x-python",
   "name": "python",
   "nbconvert_exporter": "python",
   "pygments_lexer": "ipython3",
   "version": "3.9.5"
  },
  "orig_nbformat": 4,
  "kernelspec": {
   "name": "python3",
   "display_name": "Python 3.9.5 64-bit ('scrap': conda)"
  },
  "interpreter": {
   "hash": "4ea3ed2e54355ce89e91b93232dfdad50498b45cbf76d90a32e5b94d03490e3d"
  },
  "metadata": {
   "interpreter": {
    "hash": "e521b636c6a5a9046f5b2f587de9f0714520fcc32e4dd888509bb5fbc50b938b"
   }
  }
 },
 "nbformat": 4,
 "nbformat_minor": 2,
 "cells": [
  {
   "source": [
    "# Synopsis-to-Vector"
   ],
   "cell_type": "markdown",
   "metadata": {}
  },
  {
   "cell_type": "code",
   "execution_count": 1,
   "metadata": {},
   "outputs": [],
   "source": [
    "import numpy as np\n",
    "import pandas as pd\n",
    "import pickle\n",
    "import math"
   ]
  },
  {
   "source": [
    "## Load Pre-trained CBOW Parameters"
   ],
   "cell_type": "markdown",
   "metadata": {}
  },
  {
   "cell_type": "code",
   "execution_count": 2,
   "metadata": {},
   "outputs": [],
   "source": [
    "!wget -nc -q https://github.com/WegraLee/deep-learning-from-scratch-2/raw/master/ch04/cbow_params.pkl"
   ]
  },
  {
   "cell_type": "code",
   "execution_count": 3,
   "metadata": {},
   "outputs": [],
   "source": [
    "pkl_file = 'cbow_params.pkl'\n",
    "\n",
    "with open(pkl_file, 'rb') as f:\n",
    "    params = pickle.load(f)\n",
    "    word_vecs = params['word_vecs']\n",
    "    word_to_id = params['word_to_id']\n",
    "    id_to_word = params['id_to_word']"
   ]
  },
  {
   "source": [
    "## Get TF-IDF from synopsis.csv"
   ],
   "cell_type": "markdown",
   "metadata": {}
  },
  {
   "source": [
    "### Load Cleaned Synopsis Data"
   ],
   "cell_type": "markdown",
   "metadata": {}
  },
  {
   "cell_type": "code",
   "execution_count": 4,
   "metadata": {},
   "outputs": [
    {
     "output_type": "execute_result",
     "data": {
      "text/plain": [
       "   MAL_ID                                           Synopsis\n",
       "0       1  solar leaving surface planet earth solar polic...\n",
       "1       5  day life crew routine interrupted chasing targ...\n",
       "2       6  head reason waste oppose entire cities fun tit...\n",
       "3       7  individuals powers mind control robin craft us...\n",
       "4       8  dark century people suffering rule manipulate ..."
      ],
      "text/html": "<div>\n<style scoped>\n    .dataframe tbody tr th:only-of-type {\n        vertical-align: middle;\n    }\n\n    .dataframe tbody tr th {\n        vertical-align: top;\n    }\n\n    .dataframe thead th {\n        text-align: right;\n    }\n</style>\n<table border=\"1\" class=\"dataframe\">\n  <thead>\n    <tr style=\"text-align: right;\">\n      <th></th>\n      <th>MAL_ID</th>\n      <th>Synopsis</th>\n    </tr>\n  </thead>\n  <tbody>\n    <tr>\n      <th>0</th>\n      <td>1</td>\n      <td>solar leaving surface planet earth solar polic...</td>\n    </tr>\n    <tr>\n      <th>1</th>\n      <td>5</td>\n      <td>day life crew routine interrupted chasing targ...</td>\n    </tr>\n    <tr>\n      <th>2</th>\n      <td>6</td>\n      <td>head reason waste oppose entire cities fun tit...</td>\n    </tr>\n    <tr>\n      <th>3</th>\n      <td>7</td>\n      <td>individuals powers mind control robin craft us...</td>\n    </tr>\n    <tr>\n      <th>4</th>\n      <td>8</td>\n      <td>dark century people suffering rule manipulate ...</td>\n    </tr>\n  </tbody>\n</table>\n</div>"
     },
     "metadata": {},
     "execution_count": 4
    }
   ],
   "source": [
    "synopsis = pd.read_csv('../clean_data/synopsis.csv')\n",
    "synopsis.head()"
   ]
  },
  {
   "source": [
    "### Get Word Set from Synopsis Data"
   ],
   "cell_type": "markdown",
   "metadata": {}
  },
  {
   "cell_type": "code",
   "execution_count": 5,
   "metadata": {},
   "outputs": [],
   "source": [
    "syns = synopsis.Synopsis.str.findall('\\w+')\n",
    "\n",
    "vocab = set()\n",
    "for syn in syns:\n",
    "    vocab.update(syn)\n",
    "\n",
    "vocab = sorted(list(vocab))\n",
    "vocab_size = len(vocab)"
   ]
  },
  {
   "source": [
    "### Get TF(Term Frequency)"
   ],
   "cell_type": "markdown",
   "metadata": {}
  },
  {
   "cell_type": "code",
   "execution_count": 6,
   "metadata": {},
   "outputs": [
    {
     "output_type": "execute_result",
     "data": {
      "text/plain": [
       "(6000, 5918)"
      ]
     },
     "metadata": {},
     "execution_count": 6
    }
   ],
   "source": [
    "def get_tf(word, syn):\n",
    "    # Term Frequency\n",
    "    return syn.count(word)\n",
    "\n",
    "    \n",
    "tf = []\n",
    "for syn in syns:\n",
    "    tf_syn = []\n",
    "    for word in vocab:\n",
    "        tf_syn.append(get_tf(word, syn))\n",
    "    tf.append(tf_syn)\n",
    "\n",
    "tf = np.asarray(tf)\n",
    "tf.shape"
   ]
  },
  {
   "source": [
    "### Get IDF(Inverse Document Frequency)"
   ],
   "cell_type": "markdown",
   "metadata": {}
  },
  {
   "cell_type": "code",
   "execution_count": 7,
   "metadata": {},
   "outputs": [
    {
     "output_type": "execute_result",
     "data": {
      "text/plain": [
       "(5918,)"
      ]
     },
     "metadata": {},
     "execution_count": 7
    }
   ],
   "source": [
    "def get_idf(term):\n",
    "    # Inverse Document Frequency\n",
    "    _df = 0\n",
    "    for syn in syns:\n",
    "        _df += int(word in syn)\n",
    "    return math.log(vocab_size/(_df))\n",
    "\n",
    "\n",
    "idf = []\n",
    "for word in vocab:\n",
    "    idf.append(get_idf(word))\n",
    "\n",
    "idf = np.asarray(idf)\n",
    "idf.shape"
   ]
  },
  {
   "source": [
    "### Get TF-IDF Table"
   ],
   "cell_type": "markdown",
   "metadata": {}
  },
  {
   "cell_type": "code",
   "execution_count": 8,
   "metadata": {},
   "outputs": [],
   "source": [
    "tf_idf = pd.DataFrame(tf * idf, columns=vocab)"
   ]
  },
  {
   "source": [
    "## Generate Sentence Vector of Synopsis"
   ],
   "cell_type": "markdown",
   "metadata": {}
  },
  {
   "cell_type": "code",
   "execution_count": 9,
   "metadata": {},
   "outputs": [],
   "source": [
    "def get_word_vec(word):\n",
    "    return word_vecs[word_to_id[word]]\n",
    "\n",
    "def get_tf_idf(word, i):\n",
    "    return tf_idf.loc[i, word]\n",
    "\n",
    "def get_sent_vec(i):\n",
    "    sent_vec = np.zeros(100, dtype=np.float16)\n",
    "\n",
    "    for word in set(syns[i]):\n",
    "        sent_vec += get_word_vec(word) * get_tf_idf(word, i)\n",
    "        # sent_vec += get_word_vec(word)\n",
    "    \n",
    "    return sent_vec / len(set(syns[i]))"
   ]
  },
  {
   "cell_type": "code",
   "execution_count": 10,
   "metadata": {},
   "outputs": [
    {
     "output_type": "execute_result",
     "data": {
      "text/plain": [
       "            0         1         2         3         4         5         6   \\\n",
       "0    -0.114563 -3.921875  0.508789  1.326172  2.681641  1.789062 -1.769531   \n",
       "1     2.312500 -2.361328 -0.013504  2.705078  1.199219  3.171875 -1.360352   \n",
       "2    -0.225952 -2.601562 -0.183105  2.042969  1.671875  1.951172 -1.368164   \n",
       "3     0.842773 -0.527344  0.271484  0.753906  1.575195  2.496094 -1.652344   \n",
       "4     1.521484 -2.650391  0.423584  1.816406  2.029297  1.696289  0.607910   \n",
       "...        ...       ...       ...       ...       ...       ...       ...   \n",
       "5995  0.905762 -1.422852  1.901367  2.382812  1.666992  0.901855 -1.924805   \n",
       "5996  2.136719 -1.450195  0.351074  2.123047  0.429688 -0.171631 -0.983887   \n",
       "5997  1.147461 -2.382812  0.937988  0.431396  1.120117  2.529297 -1.699219   \n",
       "5998  0.944824 -1.447266 -0.097656  0.824707  1.160156  1.099609 -0.374756   \n",
       "5999  0.496338 -2.679688  1.884766  2.306641  1.570312  1.056641 -1.540039   \n",
       "\n",
       "            7         8         9   ...        90        91        92  \\\n",
       "0    -1.250977 -1.898438  1.074219  ...  0.863770 -0.738281 -1.119141   \n",
       "1    -2.603516 -1.960938 -0.565430  ...  0.493652 -0.946777 -0.937988   \n",
       "2    -2.917969 -0.161377  0.051392  ... -1.435547 -1.021484 -2.537109   \n",
       "3    -2.703125 -2.271484  1.468750  ... -0.367676 -1.789062 -1.804688   \n",
       "4    -1.335938 -1.022461  0.936035  ...  1.649414 -1.704102 -2.476562   \n",
       "...        ...       ...       ...  ...       ...       ...       ...   \n",
       "5995 -0.843262 -1.282227  1.339844  ...  1.071289 -0.565430 -1.355469   \n",
       "5996 -2.193359 -2.029297  1.022461  ... -0.837402 -1.895508 -2.449219   \n",
       "5997 -1.220703 -1.709961  1.555664  ...  0.712891 -0.082397 -1.974609   \n",
       "5998 -2.130859 -0.812012  2.248047  ...  1.912109  0.847168 -1.115234   \n",
       "5999 -1.456055 -0.789062  0.038086  ...  0.216309 -0.190552 -1.700195   \n",
       "\n",
       "            93        94        95        96        97        98        99  \n",
       "0    -0.729980  1.062500  1.274414 -0.247559  1.378906  1.920898  2.222656  \n",
       "1    -0.260986  2.085938  1.500000 -0.222168  0.646973  2.218750  0.959961  \n",
       "2    -2.455078  2.013672  1.943359  0.622559  1.703125  2.359375  1.231445  \n",
       "3    -2.474609  2.878906  0.426025 -0.582520  3.107422  0.837402  1.043945  \n",
       "4    -4.484375  1.402344  0.638184  0.058777  1.250977  2.457031  2.515625  \n",
       "...        ...       ...       ...       ...       ...       ...       ...  \n",
       "5995 -2.287109  0.418457  1.643555  0.829102  1.502930  2.166016  2.941406  \n",
       "5996 -2.021484  1.227539  0.562988 -1.253906  2.988281  2.492188  1.022461  \n",
       "5997 -0.666992  2.466797  0.973633  1.821289 -0.183594  2.945312  0.713867  \n",
       "5998 -1.066406  1.034180  1.030273 -0.781250  0.201904  2.701172  1.936523  \n",
       "5999 -0.250977  0.734375  1.454102 -0.268066  0.603516  0.781250  1.387695  \n",
       "\n",
       "[6000 rows x 100 columns]"
      ],
      "text/html": "<div>\n<style scoped>\n    .dataframe tbody tr th:only-of-type {\n        vertical-align: middle;\n    }\n\n    .dataframe tbody tr th {\n        vertical-align: top;\n    }\n\n    .dataframe thead th {\n        text-align: right;\n    }\n</style>\n<table border=\"1\" class=\"dataframe\">\n  <thead>\n    <tr style=\"text-align: right;\">\n      <th></th>\n      <th>0</th>\n      <th>1</th>\n      <th>2</th>\n      <th>3</th>\n      <th>4</th>\n      <th>5</th>\n      <th>6</th>\n      <th>7</th>\n      <th>8</th>\n      <th>9</th>\n      <th>...</th>\n      <th>90</th>\n      <th>91</th>\n      <th>92</th>\n      <th>93</th>\n      <th>94</th>\n      <th>95</th>\n      <th>96</th>\n      <th>97</th>\n      <th>98</th>\n      <th>99</th>\n    </tr>\n  </thead>\n  <tbody>\n    <tr>\n      <th>0</th>\n      <td>-0.114563</td>\n      <td>-3.921875</td>\n      <td>0.508789</td>\n      <td>1.326172</td>\n      <td>2.681641</td>\n      <td>1.789062</td>\n      <td>-1.769531</td>\n      <td>-1.250977</td>\n      <td>-1.898438</td>\n      <td>1.074219</td>\n      <td>...</td>\n      <td>0.863770</td>\n      <td>-0.738281</td>\n      <td>-1.119141</td>\n      <td>-0.729980</td>\n      <td>1.062500</td>\n      <td>1.274414</td>\n      <td>-0.247559</td>\n      <td>1.378906</td>\n      <td>1.920898</td>\n      <td>2.222656</td>\n    </tr>\n    <tr>\n      <th>1</th>\n      <td>2.312500</td>\n      <td>-2.361328</td>\n      <td>-0.013504</td>\n      <td>2.705078</td>\n      <td>1.199219</td>\n      <td>3.171875</td>\n      <td>-1.360352</td>\n      <td>-2.603516</td>\n      <td>-1.960938</td>\n      <td>-0.565430</td>\n      <td>...</td>\n      <td>0.493652</td>\n      <td>-0.946777</td>\n      <td>-0.937988</td>\n      <td>-0.260986</td>\n      <td>2.085938</td>\n      <td>1.500000</td>\n      <td>-0.222168</td>\n      <td>0.646973</td>\n      <td>2.218750</td>\n      <td>0.959961</td>\n    </tr>\n    <tr>\n      <th>2</th>\n      <td>-0.225952</td>\n      <td>-2.601562</td>\n      <td>-0.183105</td>\n      <td>2.042969</td>\n      <td>1.671875</td>\n      <td>1.951172</td>\n      <td>-1.368164</td>\n      <td>-2.917969</td>\n      <td>-0.161377</td>\n      <td>0.051392</td>\n      <td>...</td>\n      <td>-1.435547</td>\n      <td>-1.021484</td>\n      <td>-2.537109</td>\n      <td>-2.455078</td>\n      <td>2.013672</td>\n      <td>1.943359</td>\n      <td>0.622559</td>\n      <td>1.703125</td>\n      <td>2.359375</td>\n      <td>1.231445</td>\n    </tr>\n    <tr>\n      <th>3</th>\n      <td>0.842773</td>\n      <td>-0.527344</td>\n      <td>0.271484</td>\n      <td>0.753906</td>\n      <td>1.575195</td>\n      <td>2.496094</td>\n      <td>-1.652344</td>\n      <td>-2.703125</td>\n      <td>-2.271484</td>\n      <td>1.468750</td>\n      <td>...</td>\n      <td>-0.367676</td>\n      <td>-1.789062</td>\n      <td>-1.804688</td>\n      <td>-2.474609</td>\n      <td>2.878906</td>\n      <td>0.426025</td>\n      <td>-0.582520</td>\n      <td>3.107422</td>\n      <td>0.837402</td>\n      <td>1.043945</td>\n    </tr>\n    <tr>\n      <th>4</th>\n      <td>1.521484</td>\n      <td>-2.650391</td>\n      <td>0.423584</td>\n      <td>1.816406</td>\n      <td>2.029297</td>\n      <td>1.696289</td>\n      <td>0.607910</td>\n      <td>-1.335938</td>\n      <td>-1.022461</td>\n      <td>0.936035</td>\n      <td>...</td>\n      <td>1.649414</td>\n      <td>-1.704102</td>\n      <td>-2.476562</td>\n      <td>-4.484375</td>\n      <td>1.402344</td>\n      <td>0.638184</td>\n      <td>0.058777</td>\n      <td>1.250977</td>\n      <td>2.457031</td>\n      <td>2.515625</td>\n    </tr>\n    <tr>\n      <th>...</th>\n      <td>...</td>\n      <td>...</td>\n      <td>...</td>\n      <td>...</td>\n      <td>...</td>\n      <td>...</td>\n      <td>...</td>\n      <td>...</td>\n      <td>...</td>\n      <td>...</td>\n      <td>...</td>\n      <td>...</td>\n      <td>...</td>\n      <td>...</td>\n      <td>...</td>\n      <td>...</td>\n      <td>...</td>\n      <td>...</td>\n      <td>...</td>\n      <td>...</td>\n      <td>...</td>\n    </tr>\n    <tr>\n      <th>5995</th>\n      <td>0.905762</td>\n      <td>-1.422852</td>\n      <td>1.901367</td>\n      <td>2.382812</td>\n      <td>1.666992</td>\n      <td>0.901855</td>\n      <td>-1.924805</td>\n      <td>-0.843262</td>\n      <td>-1.282227</td>\n      <td>1.339844</td>\n      <td>...</td>\n      <td>1.071289</td>\n      <td>-0.565430</td>\n      <td>-1.355469</td>\n      <td>-2.287109</td>\n      <td>0.418457</td>\n      <td>1.643555</td>\n      <td>0.829102</td>\n      <td>1.502930</td>\n      <td>2.166016</td>\n      <td>2.941406</td>\n    </tr>\n    <tr>\n      <th>5996</th>\n      <td>2.136719</td>\n      <td>-1.450195</td>\n      <td>0.351074</td>\n      <td>2.123047</td>\n      <td>0.429688</td>\n      <td>-0.171631</td>\n      <td>-0.983887</td>\n      <td>-2.193359</td>\n      <td>-2.029297</td>\n      <td>1.022461</td>\n      <td>...</td>\n      <td>-0.837402</td>\n      <td>-1.895508</td>\n      <td>-2.449219</td>\n      <td>-2.021484</td>\n      <td>1.227539</td>\n      <td>0.562988</td>\n      <td>-1.253906</td>\n      <td>2.988281</td>\n      <td>2.492188</td>\n      <td>1.022461</td>\n    </tr>\n    <tr>\n      <th>5997</th>\n      <td>1.147461</td>\n      <td>-2.382812</td>\n      <td>0.937988</td>\n      <td>0.431396</td>\n      <td>1.120117</td>\n      <td>2.529297</td>\n      <td>-1.699219</td>\n      <td>-1.220703</td>\n      <td>-1.709961</td>\n      <td>1.555664</td>\n      <td>...</td>\n      <td>0.712891</td>\n      <td>-0.082397</td>\n      <td>-1.974609</td>\n      <td>-0.666992</td>\n      <td>2.466797</td>\n      <td>0.973633</td>\n      <td>1.821289</td>\n      <td>-0.183594</td>\n      <td>2.945312</td>\n      <td>0.713867</td>\n    </tr>\n    <tr>\n      <th>5998</th>\n      <td>0.944824</td>\n      <td>-1.447266</td>\n      <td>-0.097656</td>\n      <td>0.824707</td>\n      <td>1.160156</td>\n      <td>1.099609</td>\n      <td>-0.374756</td>\n      <td>-2.130859</td>\n      <td>-0.812012</td>\n      <td>2.248047</td>\n      <td>...</td>\n      <td>1.912109</td>\n      <td>0.847168</td>\n      <td>-1.115234</td>\n      <td>-1.066406</td>\n      <td>1.034180</td>\n      <td>1.030273</td>\n      <td>-0.781250</td>\n      <td>0.201904</td>\n      <td>2.701172</td>\n      <td>1.936523</td>\n    </tr>\n    <tr>\n      <th>5999</th>\n      <td>0.496338</td>\n      <td>-2.679688</td>\n      <td>1.884766</td>\n      <td>2.306641</td>\n      <td>1.570312</td>\n      <td>1.056641</td>\n      <td>-1.540039</td>\n      <td>-1.456055</td>\n      <td>-0.789062</td>\n      <td>0.038086</td>\n      <td>...</td>\n      <td>0.216309</td>\n      <td>-0.190552</td>\n      <td>-1.700195</td>\n      <td>-0.250977</td>\n      <td>0.734375</td>\n      <td>1.454102</td>\n      <td>-0.268066</td>\n      <td>0.603516</td>\n      <td>0.781250</td>\n      <td>1.387695</td>\n    </tr>\n  </tbody>\n</table>\n<p>6000 rows × 100 columns</p>\n</div>"
     },
     "metadata": {},
     "execution_count": 10
    }
   ],
   "source": [
    "full_sent_vec = []\n",
    "for i in range(len(syns)):\n",
    "    full_sent_vec.append(get_sent_vec(i))\n",
    "    \n",
    "sent_vec_df = pd.DataFrame(full_sent_vec)\n",
    "sent_vec_df"
   ]
  },
  {
   "cell_type": "code",
   "execution_count": 11,
   "metadata": {},
   "outputs": [
    {
     "output_type": "execute_result",
     "data": {
      "text/plain": [
       "      MAL_ID         0         1         2         3         4         5  \\\n",
       "0          1 -0.114563 -3.921875  0.508789  1.326172  2.681641  1.789062   \n",
       "1          5  2.312500 -2.361328 -0.013504  2.705078  1.199219  3.171875   \n",
       "2          6 -0.225952 -2.601562 -0.183105  2.042969  1.671875  1.951172   \n",
       "3          7  0.842773 -0.527344  0.271484  0.753906  1.575195  2.496094   \n",
       "4          8  1.521484 -2.650391  0.423584  1.816406  2.029297  1.696289   \n",
       "...      ...       ...       ...       ...       ...       ...       ...   \n",
       "5995   48438  0.905762 -1.422852  1.901367  2.382812  1.666992  0.901855   \n",
       "5996   48466  2.136719 -1.450195  0.351074  2.123047  0.429688 -0.171631   \n",
       "5997   48470  1.147461 -2.382812  0.937988  0.431396  1.120117  2.529297   \n",
       "5998   48483  0.944824 -1.447266 -0.097656  0.824707  1.160156  1.099609   \n",
       "5999   48492  0.496338 -2.679688  1.884766  2.306641  1.570312  1.056641   \n",
       "\n",
       "             6         7         8  ...        90        91        92  \\\n",
       "0    -1.769531 -1.250977 -1.898438  ...  0.863770 -0.738281 -1.119141   \n",
       "1    -1.360352 -2.603516 -1.960938  ...  0.493652 -0.946777 -0.937988   \n",
       "2    -1.368164 -2.917969 -0.161377  ... -1.435547 -1.021484 -2.537109   \n",
       "3    -1.652344 -2.703125 -2.271484  ... -0.367676 -1.789062 -1.804688   \n",
       "4     0.607910 -1.335938 -1.022461  ...  1.649414 -1.704102 -2.476562   \n",
       "...        ...       ...       ...  ...       ...       ...       ...   \n",
       "5995 -1.924805 -0.843262 -1.282227  ...  1.071289 -0.565430 -1.355469   \n",
       "5996 -0.983887 -2.193359 -2.029297  ... -0.837402 -1.895508 -2.449219   \n",
       "5997 -1.699219 -1.220703 -1.709961  ...  0.712891 -0.082397 -1.974609   \n",
       "5998 -0.374756 -2.130859 -0.812012  ...  1.912109  0.847168 -1.115234   \n",
       "5999 -1.540039 -1.456055 -0.789062  ...  0.216309 -0.190552 -1.700195   \n",
       "\n",
       "            93        94        95        96        97        98        99  \n",
       "0    -0.729980  1.062500  1.274414 -0.247559  1.378906  1.920898  2.222656  \n",
       "1    -0.260986  2.085938  1.500000 -0.222168  0.646973  2.218750  0.959961  \n",
       "2    -2.455078  2.013672  1.943359  0.622559  1.703125  2.359375  1.231445  \n",
       "3    -2.474609  2.878906  0.426025 -0.582520  3.107422  0.837402  1.043945  \n",
       "4    -4.484375  1.402344  0.638184  0.058777  1.250977  2.457031  2.515625  \n",
       "...        ...       ...       ...       ...       ...       ...       ...  \n",
       "5995 -2.287109  0.418457  1.643555  0.829102  1.502930  2.166016  2.941406  \n",
       "5996 -2.021484  1.227539  0.562988 -1.253906  2.988281  2.492188  1.022461  \n",
       "5997 -0.666992  2.466797  0.973633  1.821289 -0.183594  2.945312  0.713867  \n",
       "5998 -1.066406  1.034180  1.030273 -0.781250  0.201904  2.701172  1.936523  \n",
       "5999 -0.250977  0.734375  1.454102 -0.268066  0.603516  0.781250  1.387695  \n",
       "\n",
       "[6000 rows x 101 columns]"
      ],
      "text/html": "<div>\n<style scoped>\n    .dataframe tbody tr th:only-of-type {\n        vertical-align: middle;\n    }\n\n    .dataframe tbody tr th {\n        vertical-align: top;\n    }\n\n    .dataframe thead th {\n        text-align: right;\n    }\n</style>\n<table border=\"1\" class=\"dataframe\">\n  <thead>\n    <tr style=\"text-align: right;\">\n      <th></th>\n      <th>MAL_ID</th>\n      <th>0</th>\n      <th>1</th>\n      <th>2</th>\n      <th>3</th>\n      <th>4</th>\n      <th>5</th>\n      <th>6</th>\n      <th>7</th>\n      <th>8</th>\n      <th>...</th>\n      <th>90</th>\n      <th>91</th>\n      <th>92</th>\n      <th>93</th>\n      <th>94</th>\n      <th>95</th>\n      <th>96</th>\n      <th>97</th>\n      <th>98</th>\n      <th>99</th>\n    </tr>\n  </thead>\n  <tbody>\n    <tr>\n      <th>0</th>\n      <td>1</td>\n      <td>-0.114563</td>\n      <td>-3.921875</td>\n      <td>0.508789</td>\n      <td>1.326172</td>\n      <td>2.681641</td>\n      <td>1.789062</td>\n      <td>-1.769531</td>\n      <td>-1.250977</td>\n      <td>-1.898438</td>\n      <td>...</td>\n      <td>0.863770</td>\n      <td>-0.738281</td>\n      <td>-1.119141</td>\n      <td>-0.729980</td>\n      <td>1.062500</td>\n      <td>1.274414</td>\n      <td>-0.247559</td>\n      <td>1.378906</td>\n      <td>1.920898</td>\n      <td>2.222656</td>\n    </tr>\n    <tr>\n      <th>1</th>\n      <td>5</td>\n      <td>2.312500</td>\n      <td>-2.361328</td>\n      <td>-0.013504</td>\n      <td>2.705078</td>\n      <td>1.199219</td>\n      <td>3.171875</td>\n      <td>-1.360352</td>\n      <td>-2.603516</td>\n      <td>-1.960938</td>\n      <td>...</td>\n      <td>0.493652</td>\n      <td>-0.946777</td>\n      <td>-0.937988</td>\n      <td>-0.260986</td>\n      <td>2.085938</td>\n      <td>1.500000</td>\n      <td>-0.222168</td>\n      <td>0.646973</td>\n      <td>2.218750</td>\n      <td>0.959961</td>\n    </tr>\n    <tr>\n      <th>2</th>\n      <td>6</td>\n      <td>-0.225952</td>\n      <td>-2.601562</td>\n      <td>-0.183105</td>\n      <td>2.042969</td>\n      <td>1.671875</td>\n      <td>1.951172</td>\n      <td>-1.368164</td>\n      <td>-2.917969</td>\n      <td>-0.161377</td>\n      <td>...</td>\n      <td>-1.435547</td>\n      <td>-1.021484</td>\n      <td>-2.537109</td>\n      <td>-2.455078</td>\n      <td>2.013672</td>\n      <td>1.943359</td>\n      <td>0.622559</td>\n      <td>1.703125</td>\n      <td>2.359375</td>\n      <td>1.231445</td>\n    </tr>\n    <tr>\n      <th>3</th>\n      <td>7</td>\n      <td>0.842773</td>\n      <td>-0.527344</td>\n      <td>0.271484</td>\n      <td>0.753906</td>\n      <td>1.575195</td>\n      <td>2.496094</td>\n      <td>-1.652344</td>\n      <td>-2.703125</td>\n      <td>-2.271484</td>\n      <td>...</td>\n      <td>-0.367676</td>\n      <td>-1.789062</td>\n      <td>-1.804688</td>\n      <td>-2.474609</td>\n      <td>2.878906</td>\n      <td>0.426025</td>\n      <td>-0.582520</td>\n      <td>3.107422</td>\n      <td>0.837402</td>\n      <td>1.043945</td>\n    </tr>\n    <tr>\n      <th>4</th>\n      <td>8</td>\n      <td>1.521484</td>\n      <td>-2.650391</td>\n      <td>0.423584</td>\n      <td>1.816406</td>\n      <td>2.029297</td>\n      <td>1.696289</td>\n      <td>0.607910</td>\n      <td>-1.335938</td>\n      <td>-1.022461</td>\n      <td>...</td>\n      <td>1.649414</td>\n      <td>-1.704102</td>\n      <td>-2.476562</td>\n      <td>-4.484375</td>\n      <td>1.402344</td>\n      <td>0.638184</td>\n      <td>0.058777</td>\n      <td>1.250977</td>\n      <td>2.457031</td>\n      <td>2.515625</td>\n    </tr>\n    <tr>\n      <th>...</th>\n      <td>...</td>\n      <td>...</td>\n      <td>...</td>\n      <td>...</td>\n      <td>...</td>\n      <td>...</td>\n      <td>...</td>\n      <td>...</td>\n      <td>...</td>\n      <td>...</td>\n      <td>...</td>\n      <td>...</td>\n      <td>...</td>\n      <td>...</td>\n      <td>...</td>\n      <td>...</td>\n      <td>...</td>\n      <td>...</td>\n      <td>...</td>\n      <td>...</td>\n      <td>...</td>\n    </tr>\n    <tr>\n      <th>5995</th>\n      <td>48438</td>\n      <td>0.905762</td>\n      <td>-1.422852</td>\n      <td>1.901367</td>\n      <td>2.382812</td>\n      <td>1.666992</td>\n      <td>0.901855</td>\n      <td>-1.924805</td>\n      <td>-0.843262</td>\n      <td>-1.282227</td>\n      <td>...</td>\n      <td>1.071289</td>\n      <td>-0.565430</td>\n      <td>-1.355469</td>\n      <td>-2.287109</td>\n      <td>0.418457</td>\n      <td>1.643555</td>\n      <td>0.829102</td>\n      <td>1.502930</td>\n      <td>2.166016</td>\n      <td>2.941406</td>\n    </tr>\n    <tr>\n      <th>5996</th>\n      <td>48466</td>\n      <td>2.136719</td>\n      <td>-1.450195</td>\n      <td>0.351074</td>\n      <td>2.123047</td>\n      <td>0.429688</td>\n      <td>-0.171631</td>\n      <td>-0.983887</td>\n      <td>-2.193359</td>\n      <td>-2.029297</td>\n      <td>...</td>\n      <td>-0.837402</td>\n      <td>-1.895508</td>\n      <td>-2.449219</td>\n      <td>-2.021484</td>\n      <td>1.227539</td>\n      <td>0.562988</td>\n      <td>-1.253906</td>\n      <td>2.988281</td>\n      <td>2.492188</td>\n      <td>1.022461</td>\n    </tr>\n    <tr>\n      <th>5997</th>\n      <td>48470</td>\n      <td>1.147461</td>\n      <td>-2.382812</td>\n      <td>0.937988</td>\n      <td>0.431396</td>\n      <td>1.120117</td>\n      <td>2.529297</td>\n      <td>-1.699219</td>\n      <td>-1.220703</td>\n      <td>-1.709961</td>\n      <td>...</td>\n      <td>0.712891</td>\n      <td>-0.082397</td>\n      <td>-1.974609</td>\n      <td>-0.666992</td>\n      <td>2.466797</td>\n      <td>0.973633</td>\n      <td>1.821289</td>\n      <td>-0.183594</td>\n      <td>2.945312</td>\n      <td>0.713867</td>\n    </tr>\n    <tr>\n      <th>5998</th>\n      <td>48483</td>\n      <td>0.944824</td>\n      <td>-1.447266</td>\n      <td>-0.097656</td>\n      <td>0.824707</td>\n      <td>1.160156</td>\n      <td>1.099609</td>\n      <td>-0.374756</td>\n      <td>-2.130859</td>\n      <td>-0.812012</td>\n      <td>...</td>\n      <td>1.912109</td>\n      <td>0.847168</td>\n      <td>-1.115234</td>\n      <td>-1.066406</td>\n      <td>1.034180</td>\n      <td>1.030273</td>\n      <td>-0.781250</td>\n      <td>0.201904</td>\n      <td>2.701172</td>\n      <td>1.936523</td>\n    </tr>\n    <tr>\n      <th>5999</th>\n      <td>48492</td>\n      <td>0.496338</td>\n      <td>-2.679688</td>\n      <td>1.884766</td>\n      <td>2.306641</td>\n      <td>1.570312</td>\n      <td>1.056641</td>\n      <td>-1.540039</td>\n      <td>-1.456055</td>\n      <td>-0.789062</td>\n      <td>...</td>\n      <td>0.216309</td>\n      <td>-0.190552</td>\n      <td>-1.700195</td>\n      <td>-0.250977</td>\n      <td>0.734375</td>\n      <td>1.454102</td>\n      <td>-0.268066</td>\n      <td>0.603516</td>\n      <td>0.781250</td>\n      <td>1.387695</td>\n    </tr>\n  </tbody>\n</table>\n<p>6000 rows × 101 columns</p>\n</div>"
     },
     "metadata": {},
     "execution_count": 11
    }
   ],
   "source": [
    "sent_vec_df.insert(0, 'MAL_ID', synopsis.MAL_ID)\n",
    "sent_vec_df"
   ]
  },
  {
   "cell_type": "code",
   "execution_count": 12,
   "metadata": {},
   "outputs": [],
   "source": [
    "sent_vec_df.to_csv('synopsis_vector.csv', index=False)"
   ]
  }
 ]
}